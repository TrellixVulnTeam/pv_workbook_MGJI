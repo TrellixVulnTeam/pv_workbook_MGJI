{
 "cells": [
  {
   "cell_type": "code",
   "execution_count": 1,
   "metadata": {},
   "outputs": [],
   "source": [
    "import pandas as pd\n",
    "import matplotlib as plt\n",
    "import numpy as np"
   ]
  },
  {
   "cell_type": "code",
   "execution_count": 13,
   "metadata": {},
   "outputs": [
    {
     "name": "stdout",
     "output_type": "stream",
     "text": [
      "0                     NaT\n",
      "1                     NaT\n",
      "2                     NaT\n",
      "3                     NaT\n",
      "4                     NaT\n",
      "5                     NaT\n",
      "6                     NaT\n",
      "7                     NaT\n",
      "8                     NaT\n",
      "9                     NaT\n",
      "10                    NaT\n",
      "11                    NaT\n",
      "12                    NaT\n",
      "13                    NaT\n",
      "14                    NaT\n",
      "15                    NaT\n",
      "16                    NaT\n",
      "17                    NaT\n",
      "18                    NaT\n",
      "19                    NaT\n",
      "20                    NaT\n",
      "21                    NaT\n",
      "22                    NaT\n",
      "23                    NaT\n",
      "24                    NaT\n",
      "25                    NaT\n",
      "26                    NaT\n",
      "27                    NaT\n",
      "28                    NaT\n",
      "29                    NaT\n",
      "               ...       \n",
      "12009   -1 days +23:25:00\n",
      "12010   -1 days +23:45:00\n",
      "12011   -1 days +23:30:00\n",
      "12012   -1 days +06:45:00\n",
      "12013   -1 days +23:20:00\n",
      "12014   -1 days +23:40:00\n",
      "12015   -1 days +08:45:00\n",
      "12016   -1 days +09:00:00\n",
      "12017   -1 days +08:55:00\n",
      "12018   -1 days +09:15:00\n",
      "12019   -1 days +23:40:00\n",
      "12020   -1 days +23:40:00\n",
      "12021   -1 days +23:40:00\n",
      "12022   -1 days +12:00:00\n",
      "12023   -1 days +12:00:00\n",
      "12024   -1 days +12:00:00\n",
      "12025   -1 days +11:30:00\n",
      "12026   -1 days +11:30:00\n",
      "12027   -1 days +11:30:00\n",
      "12028   -1 days +11:30:00\n",
      "12029   -1 days +11:15:00\n",
      "12030   -1 days +11:10:00\n",
      "12031   -1 days +11:10:00\n",
      "12032   -1 days +11:10:00\n",
      "12033   -1 days +10:05:00\n",
      "12034   -1 days +10:05:00\n",
      "12035   -1 days +09:55:00\n",
      "12036   -1 days +09:55:00\n",
      "12037   -1 days +09:55:00\n",
      "12038   -1 days +20:45:00\n",
      "Name: Duration, Length: 12039, dtype: timedelta64[ns]\n"
     ]
    }
   ],
   "source": [
    "df = pd.read_csv('jspevents.csv')\n",
    "df['Duration'] = pd.to_datetime(df['Start Time']) - pd.to_datetime(df['End Time'])\n",
    "print(df['Duration'])"
   ]
  },
  {
   "cell_type": "code",
   "execution_count": 14,
   "metadata": {},
   "outputs": [
    {
     "name": "stdout",
     "output_type": "stream",
     "text": [
      "['Manual Down', 'Plant Comm Loss', 'Plant Down', 'Inv Down', 'Inverter Degraded', 'Comm Loss', 'Plant Degraded']\n"
     ]
    }
   ],
   "source": [
    "print(df['Event Type'].unique().tolist())"
   ]
  },
  {
   "cell_type": "code",
   "execution_count": 15,
   "metadata": {},
   "outputs": [
    {
     "name": "stdout",
     "output_type": "stream",
     "text": [
      "Inverter Degraded    9225\n",
      "Comm Loss            1469\n",
      "Plant Degraded        962\n",
      "Inv Down              278\n",
      "Plant Down             75\n",
      "Plant Comm Loss        27\n",
      "Manual Down             3\n",
      "Name: Event Type, dtype: int64\n"
     ]
    }
   ],
   "source": [
    "print(df['Event Type'].value_counts())"
   ]
  },
  {
   "cell_type": "code",
   "execution_count": null,
   "metadata": {},
   "outputs": [],
   "source": []
  }
 ],
 "metadata": {
  "kernelspec": {
   "display_name": "Python 3",
   "language": "python",
   "name": "python3"
  },
  "language_info": {
   "codemirror_mode": {
    "name": "ipython",
    "version": 3
   },
   "file_extension": ".py",
   "mimetype": "text/x-python",
   "name": "python",
   "nbconvert_exporter": "python",
   "pygments_lexer": "ipython3",
   "version": "3.7.1"
  }
 },
 "nbformat": 4,
 "nbformat_minor": 2
}
