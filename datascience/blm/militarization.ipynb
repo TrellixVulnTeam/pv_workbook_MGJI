{
 "cells": [
  {
   "cell_type": "code",
   "execution_count": 2,
   "metadata": {},
   "outputs": [
    {
     "name": "stdout",
     "output_type": "stream",
     "text": [
      "2020-07-09 \n",
      "\n",
      "CPython 3.7.6\n",
      "IPython 7.15.0\n",
      "\n",
      "numpy 1.18.5\n",
      "matplotlib 3.2.2\n",
      "seaborn 0.10.1\n",
      "yellowbrick 1.1\n",
      "pandas 1.0.4\n",
      "\n",
      "compiler   : Clang 4.0.1 (tags/RELEASE_401/final)\n",
      "system     : Darwin\n",
      "release    : 18.7.0\n",
      "machine    : x86_64\n",
      "processor  : i386\n",
      "CPU cores  : 4\n",
      "interpreter: 64bit\n",
      "Git hash   : fbd32d399fa8e1246e79475de74675a7bbfe97d0\n",
      "Current working dir : /Users/toddhendricks/Public/code/datascience/blm\n"
     ]
    }
   ],
   "source": [
    "import os\n",
    "import scipy\n",
    "import numpy as np\n",
    "import matplotlib.pyplot as plt\n",
    "import pandas as pd\n",
    "from pandas_profiling import ProfileReport\n",
    "import seaborn as sns\n",
    "import yellowbrick\n",
    "import eli5\n",
    "import warnings\n",
    "warnings.filterwarnings('ignore')\n",
    "%matplotlib inline\n",
    "%load_ext watermark\n",
    "%watermark -d -m -v -p numpy,matplotlib,seaborn,yellowbrick,pandas -g\n",
    "print ('Current working dir : %s' % os.getcwd())"
   ]
  },
  {
   "cell_type": "code",
   "execution_count": 8,
   "metadata": {},
   "outputs": [],
   "source": [
    "# Convert excel workbook to csv\n",
    "xls = pd.read_excel('/Users/toddhendricks/Downloads/DISP_AllStatesAndTerritories_06302020.xlsx', sheet_name = None)\n",
    "list(xls.keys())[:5]\n",
    "data = pd.concat(xls.values())\n",
    "data.to_csv(\"dla_equipment_q220.csv\", index=None)"
   ]
  },
  {
   "cell_type": "code",
   "execution_count": 15,
   "metadata": {},
   "outputs": [],
   "source": [
    "df = (\n",
    "     pd\n",
    "     .read_csv(\n",
    "        'dla_equipment_q220.csv',\n",
    "        parse_dates = ['Ship Date']\n",
    "     )\n",
    "     .assign(\n",
    "        federal_supply_class = lambda x: x[\"NSN\"].apply(lambda y: y[:4]),\n",
    "        year = lambda x: x[\"Ship Date\"].apply(lambda y: y.year)\n",
    "     )\n",
    ")"
   ]
  },
  {
   "cell_type": "code",
   "execution_count": 16,
   "metadata": {},
   "outputs": [
    {
     "data": {
      "application/vnd.jupyter.widget-view+json": {
       "model_id": "c304cbac7db44060a2a5b9e43fe08a90",
       "version_major": 2,
       "version_minor": 0
      },
      "text/plain": [
       "HBox(children=(FloatProgress(value=0.0, description='Summarize dataset', max=27.0, style=ProgressStyle(descrip…"
      ]
     },
     "metadata": {},
     "output_type": "display_data"
    },
    {
     "name": "stdout",
     "output_type": "stream",
     "text": [
      "\n"
     ]
    },
    {
     "data": {
      "application/vnd.jupyter.widget-view+json": {
       "model_id": "a3f3365a659e4810aae3dcd934ff245e",
       "version_major": 2,
       "version_minor": 0
      },
      "text/plain": [
       "HBox(children=(FloatProgress(value=0.0, description='Generate report structure', max=1.0, style=ProgressStyle(…"
      ]
     },
     "metadata": {},
     "output_type": "display_data"
    },
    {
     "name": "stdout",
     "output_type": "stream",
     "text": [
      "\n"
     ]
    },
    {
     "data": {
      "application/vnd.jupyter.widget-view+json": {
       "model_id": "a8597dc426814c0c8ffe8625caf2000f",
       "version_major": 2,
       "version_minor": 0
      },
      "text/plain": [
       "HBox(children=(FloatProgress(value=0.0, description='Render HTML', max=1.0, style=ProgressStyle(description_wi…"
      ]
     },
     "metadata": {},
     "output_type": "display_data"
    },
    {
     "name": "stdout",
     "output_type": "stream",
     "text": [
      "\n"
     ]
    },
    {
     "data": {
      "application/vnd.jupyter.widget-view+json": {
       "model_id": "1eb63f72d919414287e7c060f1c68aa7",
       "version_major": 2,
       "version_minor": 0
      },
      "text/plain": [
       "HBox(children=(FloatProgress(value=0.0, description='Export report to file', max=1.0, style=ProgressStyle(desc…"
      ]
     },
     "metadata": {},
     "output_type": "display_data"
    },
    {
     "name": "stdout",
     "output_type": "stream",
     "text": [
      "\n"
     ]
    }
   ],
   "source": [
    "profile = ProfileReport(df, title=\"Police Militarization Report\", explorative=True)\n",
    "profile.to_file(\"raw.html\")"
   ]
  },
  {
   "cell_type": "code",
   "execution_count": 20,
   "metadata": {},
   "outputs": [
    {
     "data": {
      "text/html": [
       "<div>\n",
       "<style scoped>\n",
       "    .dataframe tbody tr th:only-of-type {\n",
       "        vertical-align: middle;\n",
       "    }\n",
       "\n",
       "    .dataframe tbody tr th {\n",
       "        vertical-align: top;\n",
       "    }\n",
       "\n",
       "    .dataframe thead th {\n",
       "        text-align: right;\n",
       "    }\n",
       "</style>\n",
       "<table border=\"1\" class=\"dataframe\">\n",
       "  <thead>\n",
       "    <tr style=\"text-align: right;\">\n",
       "      <th></th>\n",
       "      <th>State</th>\n",
       "      <th>Station Name (LEA)</th>\n",
       "      <th>NSN</th>\n",
       "      <th>Item Name</th>\n",
       "      <th>Quantity</th>\n",
       "      <th>UI</th>\n",
       "      <th>Acquisition Value</th>\n",
       "      <th>DEMIL Code</th>\n",
       "      <th>DEMIL IC</th>\n",
       "      <th>Ship Date</th>\n",
       "      <th>Station Type</th>\n",
       "      <th>federal_supply_class</th>\n",
       "      <th>year</th>\n",
       "    </tr>\n",
       "  </thead>\n",
       "  <tbody>\n",
       "    <tr>\n",
       "      <th>96755</th>\n",
       "      <td>OH</td>\n",
       "      <td>WAYNE COUNTY SHERIFF'S OFFICE</td>\n",
       "      <td>1005-01-128-9936</td>\n",
       "      <td>RIFLE,5.56 MILLIMETER</td>\n",
       "      <td>1</td>\n",
       "      <td>Each</td>\n",
       "      <td>749.00</td>\n",
       "      <td>D</td>\n",
       "      <td>1.0</td>\n",
       "      <td>2014-10-20</td>\n",
       "      <td>State</td>\n",
       "      <td>1005</td>\n",
       "      <td>2014</td>\n",
       "    </tr>\n",
       "    <tr>\n",
       "      <th>104395</th>\n",
       "      <td>SC</td>\n",
       "      <td>DNR LAW ENFORCEMENT DIVISION</td>\n",
       "      <td>1240-01-540-3690</td>\n",
       "      <td>SIGHT,REFLEX</td>\n",
       "      <td>1</td>\n",
       "      <td>Each</td>\n",
       "      <td>321.00</td>\n",
       "      <td>D</td>\n",
       "      <td>1.0</td>\n",
       "      <td>2013-10-28</td>\n",
       "      <td>State</td>\n",
       "      <td>1240</td>\n",
       "      <td>2013</td>\n",
       "    </tr>\n",
       "    <tr>\n",
       "      <th>93627</th>\n",
       "      <td>OH</td>\n",
       "      <td>NELSONVILLE POLICE DEPT</td>\n",
       "      <td>2510-01-525-1646</td>\n",
       "      <td>DOOR,VEHICULAR</td>\n",
       "      <td>1</td>\n",
       "      <td>Each</td>\n",
       "      <td>2830.33</td>\n",
       "      <td>Q</td>\n",
       "      <td>3.0</td>\n",
       "      <td>2011-02-07</td>\n",
       "      <td>State</td>\n",
       "      <td>2510</td>\n",
       "      <td>2011</td>\n",
       "    </tr>\n",
       "    <tr>\n",
       "      <th>102325</th>\n",
       "      <td>SC</td>\n",
       "      <td>AIKEN COUNTY SHERIFF OFFICE</td>\n",
       "      <td>1005-01-128-9936</td>\n",
       "      <td>RIFLE,5.56 MILLIMETER</td>\n",
       "      <td>1</td>\n",
       "      <td>Each</td>\n",
       "      <td>749.00</td>\n",
       "      <td>D</td>\n",
       "      <td>1.0</td>\n",
       "      <td>2015-01-09</td>\n",
       "      <td>State</td>\n",
       "      <td>1005</td>\n",
       "      <td>2015</td>\n",
       "    </tr>\n",
       "    <tr>\n",
       "      <th>119966</th>\n",
       "      <td>TX</td>\n",
       "      <td>COMAL COUNTY SHERIFFS OFFICE</td>\n",
       "      <td>5855-01-228-0937</td>\n",
       "      <td>NIGHT VISION GOGGLE</td>\n",
       "      <td>1</td>\n",
       "      <td>Each</td>\n",
       "      <td>3578.00</td>\n",
       "      <td>F</td>\n",
       "      <td>1.0</td>\n",
       "      <td>2015-01-22</td>\n",
       "      <td>State</td>\n",
       "      <td>5855</td>\n",
       "      <td>2015</td>\n",
       "    </tr>\n",
       "  </tbody>\n",
       "</table>\n",
       "</div>"
      ],
      "text/plain": [
       "       State             Station Name (LEA)               NSN  \\\n",
       "96755     OH  WAYNE COUNTY SHERIFF'S OFFICE  1005-01-128-9936   \n",
       "104395    SC   DNR LAW ENFORCEMENT DIVISION  1240-01-540-3690   \n",
       "93627     OH        NELSONVILLE POLICE DEPT  2510-01-525-1646   \n",
       "102325    SC    AIKEN COUNTY SHERIFF OFFICE  1005-01-128-9936   \n",
       "119966    TX   COMAL COUNTY SHERIFFS OFFICE  5855-01-228-0937   \n",
       "\n",
       "                    Item Name  Quantity    UI  Acquisition Value DEMIL Code  \\\n",
       "96755   RIFLE,5.56 MILLIMETER         1  Each             749.00          D   \n",
       "104395           SIGHT,REFLEX         1  Each             321.00          D   \n",
       "93627          DOOR,VEHICULAR         1  Each            2830.33          Q   \n",
       "102325  RIFLE,5.56 MILLIMETER         1  Each             749.00          D   \n",
       "119966    NIGHT VISION GOGGLE         1  Each            3578.00          F   \n",
       "\n",
       "        DEMIL IC  Ship Date Station Type federal_supply_class  year  \n",
       "96755        1.0 2014-10-20        State                 1005  2014  \n",
       "104395       1.0 2013-10-28        State                 1240  2013  \n",
       "93627        3.0 2011-02-07        State                 2510  2011  \n",
       "102325       1.0 2015-01-09        State                 1005  2015  \n",
       "119966       1.0 2015-01-22        State                 5855  2015  "
      ]
     },
     "execution_count": 20,
     "metadata": {},
     "output_type": "execute_result"
    }
   ],
   "source": [
    "df.sample(5, random_state = 0)"
   ]
  },
  {
   "cell_type": "code",
   "execution_count": 26,
   "metadata": {},
   "outputs": [],
   "source": [
    "post_ferguson = data[\n",
    "    lambda x: x[\"Ship Date\"] > \"2014-08-25\"\n",
    "]"
   ]
  },
  {
   "cell_type": "code",
   "execution_count": 27,
   "metadata": {},
   "outputs": [
    {
     "name": "stdout",
     "output_type": "stream",
     "text": [
      "Since Michael Brown was killed, and following the Ferguson riots there have been 45,824 total transfers of equipment that are still held by the police agency.\n",
      "They total $861,748,225.57.\n"
     ]
    }
   ],
   "source": [
    "print('''Since Michael Brown was killed, and following the Ferguson riots there have been {:,} total transfers of equipment that are still held by the police agency.\n",
    "They total ${:,}.'''.format(\n",
    "    len(post_ferguson),\n",
    "    post_ferguson[\"Acquisition Value\"].sum()\n",
    "))"
   ]
  },
  {
   "cell_type": "code",
   "execution_count": 28,
   "metadata": {},
   "outputs": [
    {
     "data": {
      "image/png": "[encoded data removed]",
      "text/plain": [
       "<Figure size 576x288 with 1 Axes>"
      ]
     },
     "metadata": {
      "needs_background": "light"
     },
     "output_type": "display_data"
    }
   ],
   "source": [
    "year_totals = (\n",
    "    post_ferguson\n",
    "    .groupby(pd.Grouper(key = \"Ship Date\", freq = \"AS\"))\n",
    "    [\"Acquisition Value\"]\n",
    "    .sum()\n",
    "    .reset_index()\n",
    "    .assign(**{ \"Ship Date\": lambda df: df[\"Ship Date\"].dt.year })\n",
    "    .set_index(\"Ship Date\")\n",
    ")\n",
    "\n",
    "(\n",
    "    year_totals\n",
    "    .plot(\n",
    "        kind=\"bar\",\n",
    "        figsize = (8, 4)\n",
    "    )\n",
    ")\n",
    "pass"
   ]
  },
  {
   "cell_type": "markdown",
   "metadata": {},
   "source": [
    "### South Carolina's share seemed way out of proportion. Looking into that in the cells below."
   ]
  },
  {
   "cell_type": "code",
   "execution_count": 31,
   "metadata": {},
   "outputs": [],
   "source": [
    "sc = post_ferguson[post_ferguson['State'] == 'SC'].sort_values(by='Ship Date', ascending=False)"
   ]
  },
  {
   "cell_type": "code",
   "execution_count": 38,
   "metadata": {},
   "outputs": [],
   "source": [
    "sc_assault_gear = sc[sc['Item Name'].str.contains('ASSAULT')]"
   ]
  },
  {
   "cell_type": "code",
   "execution_count": 39,
   "metadata": {},
   "outputs": [],
   "source": [
    "sc_rifles = sc[sc['Item Name'].str.contains('RIFLE')]"
   ]
  },
  {
   "cell_type": "code",
   "execution_count": 42,
   "metadata": {},
   "outputs": [
    {
     "data": {
      "text/plain": [
       "5.082200337695091"
      ]
     },
     "execution_count": 42,
     "metadata": {},
     "output_type": "execute_result"
    }
   ],
   "source": [
    "(sc['Acquisition Value'].sum() / post_ferguson[\"Acquisition Value\"].sum()) *100"
   ]
  },
  {
   "cell_type": "markdown",
   "metadata": {},
   "source": [
    "### MRAP's are quite excessive. It will be interesting to see where those are going. Looking into it below."
   ]
  },
  {
   "cell_type": "code",
   "execution_count": 44,
   "metadata": {},
   "outputs": [],
   "source": [
    "mraps = post_ferguson[\n",
    "    lambda x: x[\"Item Name\"] == \"MINE RESISTANT VEHICLE\"\n",
    "]"
   ]
  },
  {
   "cell_type": "code",
   "execution_count": 45,
   "metadata": {},
   "outputs": [
    {
     "data": {
      "text/plain": [
       "509"
      ]
     },
     "execution_count": 45,
     "metadata": {},
     "output_type": "execute_result"
    }
   ],
   "source": [
    "mraps[\"Quantity\"].sum()"
   ]
  },
  {
   "cell_type": "code",
   "execution_count": 50,
   "metadata": {},
   "outputs": [
    {
     "ename": "KeyError",
     "evalue": "'year'",
     "output_type": "error",
     "traceback": [
      "\u001b[0;31m---------------------------------------------------------------------------\u001b[0m",
      "\u001b[0;31mKeyError\u001b[0m                                  Traceback (most recent call last)",
      "\u001b[0;32m<ipython-input-50-f854a105607f>\u001b[0m in \u001b[0;36m<module>\u001b[0;34m\u001b[0m\n\u001b[0;32m----> 1\u001b[0;31m \u001b[0mmraps\u001b[0m\u001b[0;34m.\u001b[0m\u001b[0mgroupby\u001b[0m\u001b[0;34m(\u001b[0m\u001b[0mby\u001b[0m\u001b[0;34m=\u001b[0m\u001b[0;34m'year'\u001b[0m\u001b[0;34m)\u001b[0m\u001b[0;34m[\u001b[0m\u001b[0;34m\"Quantity\"\u001b[0m\u001b[0;34m]\u001b[0m\u001b[0;34m.\u001b[0m\u001b[0msum\u001b[0m\u001b[0;34m(\u001b[0m\u001b[0;34m)\u001b[0m\u001b[0;34m\u001b[0m\u001b[0;34m\u001b[0m\u001b[0m\n\u001b[0m",
      "\u001b[0;32m~/miniconda3/lib/python3.7/site-packages/pandas/core/frame.py\u001b[0m in \u001b[0;36mgroupby\u001b[0;34m(self, by, axis, level, as_index, sort, group_keys, squeeze, observed)\u001b[0m\n\u001b[1;32m   5808\u001b[0m             \u001b[0mgroup_keys\u001b[0m\u001b[0;34m=\u001b[0m\u001b[0mgroup_keys\u001b[0m\u001b[0;34m,\u001b[0m\u001b[0;34m\u001b[0m\u001b[0;34m\u001b[0m\u001b[0m\n\u001b[1;32m   5809\u001b[0m             \u001b[0msqueeze\u001b[0m\u001b[0;34m=\u001b[0m\u001b[0msqueeze\u001b[0m\u001b[0;34m,\u001b[0m\u001b[0;34m\u001b[0m\u001b[0;34m\u001b[0m\u001b[0m\n\u001b[0;32m-> 5810\u001b[0;31m             \u001b[0mobserved\u001b[0m\u001b[0;34m=\u001b[0m\u001b[0mobserved\u001b[0m\u001b[0;34m,\u001b[0m\u001b[0;34m\u001b[0m\u001b[0;34m\u001b[0m\u001b[0m\n\u001b[0m\u001b[1;32m   5811\u001b[0m         )\n\u001b[1;32m   5812\u001b[0m \u001b[0;34m\u001b[0m\u001b[0m\n",
      "\u001b[0;32m~/miniconda3/lib/python3.7/site-packages/pandas/core/groupby/groupby.py\u001b[0m in \u001b[0;36m__init__\u001b[0;34m(self, obj, keys, axis, level, grouper, exclusions, selection, as_index, sort, group_keys, squeeze, observed, mutated)\u001b[0m\n\u001b[1;32m    408\u001b[0m                 \u001b[0msort\u001b[0m\u001b[0;34m=\u001b[0m\u001b[0msort\u001b[0m\u001b[0;34m,\u001b[0m\u001b[0;34m\u001b[0m\u001b[0;34m\u001b[0m\u001b[0m\n\u001b[1;32m    409\u001b[0m                 \u001b[0mobserved\u001b[0m\u001b[0;34m=\u001b[0m\u001b[0mobserved\u001b[0m\u001b[0;34m,\u001b[0m\u001b[0;34m\u001b[0m\u001b[0;34m\u001b[0m\u001b[0m\n\u001b[0;32m--> 410\u001b[0;31m                 \u001b[0mmutated\u001b[0m\u001b[0;34m=\u001b[0m\u001b[0mself\u001b[0m\u001b[0;34m.\u001b[0m\u001b[0mmutated\u001b[0m\u001b[0;34m,\u001b[0m\u001b[0;34m\u001b[0m\u001b[0;34m\u001b[0m\u001b[0m\n\u001b[0m\u001b[1;32m    411\u001b[0m             )\n\u001b[1;32m    412\u001b[0m \u001b[0;34m\u001b[0m\u001b[0m\n",
      "\u001b[0;32m~/miniconda3/lib/python3.7/site-packages/pandas/core/groupby/grouper.py\u001b[0m in \u001b[0;36mget_grouper\u001b[0;34m(obj, key, axis, level, sort, observed, mutated, validate)\u001b[0m\n\u001b[1;32m    598\u001b[0m                 \u001b[0min_axis\u001b[0m\u001b[0;34m,\u001b[0m \u001b[0mname\u001b[0m\u001b[0;34m,\u001b[0m \u001b[0mlevel\u001b[0m\u001b[0;34m,\u001b[0m \u001b[0mgpr\u001b[0m \u001b[0;34m=\u001b[0m \u001b[0;32mFalse\u001b[0m\u001b[0;34m,\u001b[0m \u001b[0;32mNone\u001b[0m\u001b[0;34m,\u001b[0m \u001b[0mgpr\u001b[0m\u001b[0;34m,\u001b[0m \u001b[0;32mNone\u001b[0m\u001b[0;34m\u001b[0m\u001b[0;34m\u001b[0m\u001b[0m\n\u001b[1;32m    599\u001b[0m             \u001b[0;32melse\u001b[0m\u001b[0;34m:\u001b[0m\u001b[0;34m\u001b[0m\u001b[0;34m\u001b[0m\u001b[0m\n\u001b[0;32m--> 600\u001b[0;31m                 \u001b[0;32mraise\u001b[0m \u001b[0mKeyError\u001b[0m\u001b[0;34m(\u001b[0m\u001b[0mgpr\u001b[0m\u001b[0;34m)\u001b[0m\u001b[0;34m\u001b[0m\u001b[0;34m\u001b[0m\u001b[0m\n\u001b[0m\u001b[1;32m    601\u001b[0m         \u001b[0;32melif\u001b[0m \u001b[0misinstance\u001b[0m\u001b[0;34m(\u001b[0m\u001b[0mgpr\u001b[0m\u001b[0;34m,\u001b[0m \u001b[0mGrouper\u001b[0m\u001b[0;34m)\u001b[0m \u001b[0;32mand\u001b[0m \u001b[0mgpr\u001b[0m\u001b[0;34m.\u001b[0m\u001b[0mkey\u001b[0m \u001b[0;32mis\u001b[0m \u001b[0;32mnot\u001b[0m \u001b[0;32mNone\u001b[0m\u001b[0;34m:\u001b[0m\u001b[0;34m\u001b[0m\u001b[0;34m\u001b[0m\u001b[0m\n\u001b[1;32m    602\u001b[0m             \u001b[0;31m# Add key to exclusions\u001b[0m\u001b[0;34m\u001b[0m\u001b[0;34m\u001b[0m\u001b[0;34m\u001b[0m\u001b[0m\n",
      "\u001b[0;31mKeyError\u001b[0m: 'year'"
     ]
    }
   ],
   "source": [
    "mraps.groupby(by='year')[\"Quantity\"].sum().to_frame()"
   ]
  },
  {
   "cell_type": "code",
   "execution_count": null,
   "metadata": {},
   "outputs": [],
   "source": []
  }
 ],
 "metadata": {
  "kernelspec": {
   "display_name": "Python 3",
   "language": "python",
   "name": "python3"
  },
  "language_info": {
   "codemirror_mode": {
    "name": "ipython",
    "version": 3
   },
   "file_extension": ".py",
   "mimetype": "text/x-python",
   "name": "python",
   "nbconvert_exporter": "python",
   "pygments_lexer": "ipython3",
   "version": "3.7.6"
  },
  "varInspector": {
   "cols": {
    "lenName": 16,
    "lenType": 16,
    "lenVar": 40
   },
   "kernels_config": {
    "python": {
     "delete_cmd_postfix": "",
     "delete_cmd_prefix": "del ",
     "library": "var_list.py",
     "varRefreshCmd": "print(var_dic_list())"
    },
    "r": {
     "delete_cmd_postfix": ") ",
     "delete_cmd_prefix": "rm(",
     "library": "var_list.r",
     "varRefreshCmd": "cat(var_dic_list()) "
    }
   },
   "types_to_exclude": [
    "module",
    "function",
    "builtin_function_or_method",
    "instance",
    "_Feature"
   ],
   "window_display": false
  }
 },
 "nbformat": 4,
 "nbformat_minor": 4
}
