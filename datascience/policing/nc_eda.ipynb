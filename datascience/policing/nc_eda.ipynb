{
 "cells": [
  {
   "cell_type": "code",
   "execution_count": 1,
   "metadata": {},
   "outputs": [],
   "source": [
    "import pandas as pd"
   ]
  },
  {
   "cell_type": "code",
   "execution_count": 2,
   "metadata": {},
   "outputs": [
    {
     "name": "stderr",
     "output_type": "stream",
     "text": [
      "/opt/anaconda3/lib/python3.7/site-packages/IPython/core/interactiveshell.py:3058: DtypeWarning: Columns (2,4,15,16,17,22,23,24) have mixed types. Specify dtype option on import or set low_memory=False.\n",
      "  interactivity=interactivity, compiler=compiler, result=result)\n"
     ]
    }
   ],
   "source": [
    "nc = pd.read_csv('nc_statewide_2020_04_01.csv')"
   ]
  },
  {
   "cell_type": "code",
   "execution_count": 3,
   "metadata": {},
   "outputs": [
    {
     "data": {
      "text/html": [
       "<div>\n",
       "<style scoped>\n",
       "    .dataframe tbody tr th:only-of-type {\n",
       "        vertical-align: middle;\n",
       "    }\n",
       "\n",
       "    .dataframe tbody tr th {\n",
       "        vertical-align: top;\n",
       "    }\n",
       "\n",
       "    .dataframe thead th {\n",
       "        text-align: right;\n",
       "    }\n",
       "</style>\n",
       "<table border=\"1\" class=\"dataframe\">\n",
       "  <thead>\n",
       "    <tr style=\"text-align: right;\">\n",
       "      <th></th>\n",
       "      <th>raw_row_number</th>\n",
       "      <th>date</th>\n",
       "      <th>time</th>\n",
       "      <th>location</th>\n",
       "      <th>county_name</th>\n",
       "      <th>subject_age</th>\n",
       "      <th>subject_race</th>\n",
       "      <th>subject_sex</th>\n",
       "      <th>officer_id_hash</th>\n",
       "      <th>department_name</th>\n",
       "      <th>...</th>\n",
       "      <th>search_conducted</th>\n",
       "      <th>search_person</th>\n",
       "      <th>search_vehicle</th>\n",
       "      <th>search_basis</th>\n",
       "      <th>reason_for_frisk</th>\n",
       "      <th>reason_for_search</th>\n",
       "      <th>reason_for_stop</th>\n",
       "      <th>raw_Ethnicity</th>\n",
       "      <th>raw_Race</th>\n",
       "      <th>raw_action_description</th>\n",
       "    </tr>\n",
       "  </thead>\n",
       "  <tbody>\n",
       "    <tr>\n",
       "      <td>0</td>\n",
       "      <td>1</td>\n",
       "      <td>2000-05-22</td>\n",
       "      <td>21:10:00</td>\n",
       "      <td>Unknown</td>\n",
       "      <td>NaN</td>\n",
       "      <td>45.0</td>\n",
       "      <td>white</td>\n",
       "      <td>male</td>\n",
       "      <td>22e35044ed</td>\n",
       "      <td>NC Division of Motor Vehicles, License and The...</td>\n",
       "      <td>...</td>\n",
       "      <td>False</td>\n",
       "      <td>False</td>\n",
       "      <td>False</td>\n",
       "      <td>NaN</td>\n",
       "      <td>NaN</td>\n",
       "      <td>NaN</td>\n",
       "      <td>Speed Limit Violation</td>\n",
       "      <td>N</td>\n",
       "      <td>W</td>\n",
       "      <td>Citation Issued</td>\n",
       "    </tr>\n",
       "    <tr>\n",
       "      <td>1</td>\n",
       "      <td>2</td>\n",
       "      <td>2000-01-03</td>\n",
       "      <td>07:52:00</td>\n",
       "      <td>Unknown</td>\n",
       "      <td>NaN</td>\n",
       "      <td>20.0</td>\n",
       "      <td>white</td>\n",
       "      <td>male</td>\n",
       "      <td>22e35044ed</td>\n",
       "      <td>NC Division of Motor Vehicles, License and The...</td>\n",
       "      <td>...</td>\n",
       "      <td>False</td>\n",
       "      <td>False</td>\n",
       "      <td>False</td>\n",
       "      <td>NaN</td>\n",
       "      <td>NaN</td>\n",
       "      <td>NaN</td>\n",
       "      <td>Other Motor Vehicle Violation</td>\n",
       "      <td>N</td>\n",
       "      <td>W</td>\n",
       "      <td>Citation Issued</td>\n",
       "    </tr>\n",
       "    <tr>\n",
       "      <td>2</td>\n",
       "      <td>3</td>\n",
       "      <td>2000-01-06</td>\n",
       "      <td>10:30:00</td>\n",
       "      <td>Unknown</td>\n",
       "      <td>NaN</td>\n",
       "      <td>23.0</td>\n",
       "      <td>hispanic</td>\n",
       "      <td>male</td>\n",
       "      <td>22e35044ed</td>\n",
       "      <td>NC Division of Motor Vehicles, License and The...</td>\n",
       "      <td>...</td>\n",
       "      <td>False</td>\n",
       "      <td>False</td>\n",
       "      <td>False</td>\n",
       "      <td>NaN</td>\n",
       "      <td>NaN</td>\n",
       "      <td>NaN</td>\n",
       "      <td>Speed Limit Violation</td>\n",
       "      <td>H</td>\n",
       "      <td>U</td>\n",
       "      <td>Written Warning</td>\n",
       "    </tr>\n",
       "    <tr>\n",
       "      <td>3</td>\n",
       "      <td>4</td>\n",
       "      <td>2000-01-06</td>\n",
       "      <td>14:50:00</td>\n",
       "      <td>Unknown</td>\n",
       "      <td>NaN</td>\n",
       "      <td>60.0</td>\n",
       "      <td>white</td>\n",
       "      <td>male</td>\n",
       "      <td>22e35044ed</td>\n",
       "      <td>NC Division of Motor Vehicles, License and The...</td>\n",
       "      <td>...</td>\n",
       "      <td>False</td>\n",
       "      <td>False</td>\n",
       "      <td>False</td>\n",
       "      <td>NaN</td>\n",
       "      <td>NaN</td>\n",
       "      <td>NaN</td>\n",
       "      <td>Vehicle Regulatory Violation</td>\n",
       "      <td>N</td>\n",
       "      <td>W</td>\n",
       "      <td>Citation Issued</td>\n",
       "    </tr>\n",
       "    <tr>\n",
       "      <td>4</td>\n",
       "      <td>5</td>\n",
       "      <td>2000-01-06</td>\n",
       "      <td>14:50:00</td>\n",
       "      <td>Unknown</td>\n",
       "      <td>NaN</td>\n",
       "      <td>27.0</td>\n",
       "      <td>white</td>\n",
       "      <td>male</td>\n",
       "      <td>22e35044ed</td>\n",
       "      <td>NC Division of Motor Vehicles, License and The...</td>\n",
       "      <td>...</td>\n",
       "      <td>False</td>\n",
       "      <td>False</td>\n",
       "      <td>False</td>\n",
       "      <td>NaN</td>\n",
       "      <td>NaN</td>\n",
       "      <td>NaN</td>\n",
       "      <td>Vehicle Regulatory Violation</td>\n",
       "      <td>N</td>\n",
       "      <td>W</td>\n",
       "      <td>Citation Issued</td>\n",
       "    </tr>\n",
       "    <tr>\n",
       "      <td>5</td>\n",
       "      <td>6</td>\n",
       "      <td>2000-01-04</td>\n",
       "      <td>15:40:00</td>\n",
       "      <td>Unknown</td>\n",
       "      <td>NaN</td>\n",
       "      <td>54.0</td>\n",
       "      <td>white</td>\n",
       "      <td>male</td>\n",
       "      <td>22e35044ed</td>\n",
       "      <td>NC Division of Motor Vehicles, License and The...</td>\n",
       "      <td>...</td>\n",
       "      <td>False</td>\n",
       "      <td>False</td>\n",
       "      <td>False</td>\n",
       "      <td>NaN</td>\n",
       "      <td>NaN</td>\n",
       "      <td>NaN</td>\n",
       "      <td>Speed Limit Violation</td>\n",
       "      <td>N</td>\n",
       "      <td>W</td>\n",
       "      <td>Citation Issued</td>\n",
       "    </tr>\n",
       "    <tr>\n",
       "      <td>6</td>\n",
       "      <td>7</td>\n",
       "      <td>2000-01-05</td>\n",
       "      <td>09:40:00</td>\n",
       "      <td>Unknown</td>\n",
       "      <td>NaN</td>\n",
       "      <td>36.0</td>\n",
       "      <td>black</td>\n",
       "      <td>male</td>\n",
       "      <td>22e35044ed</td>\n",
       "      <td>NC Division of Motor Vehicles, License and The...</td>\n",
       "      <td>...</td>\n",
       "      <td>True</td>\n",
       "      <td>False</td>\n",
       "      <td>True</td>\n",
       "      <td>consent</td>\n",
       "      <td>NaN</td>\n",
       "      <td>Erratic/Suspicious Behavior</td>\n",
       "      <td>Speed Limit Violation</td>\n",
       "      <td>N</td>\n",
       "      <td>B</td>\n",
       "      <td>Citation Issued</td>\n",
       "    </tr>\n",
       "    <tr>\n",
       "      <td>7</td>\n",
       "      <td>8</td>\n",
       "      <td>2000-01-05</td>\n",
       "      <td>10:20:00</td>\n",
       "      <td>Unknown</td>\n",
       "      <td>NaN</td>\n",
       "      <td>54.0</td>\n",
       "      <td>white</td>\n",
       "      <td>male</td>\n",
       "      <td>22e35044ed</td>\n",
       "      <td>NC Division of Motor Vehicles, License and The...</td>\n",
       "      <td>...</td>\n",
       "      <td>True</td>\n",
       "      <td>True</td>\n",
       "      <td>True</td>\n",
       "      <td>consent</td>\n",
       "      <td>NaN</td>\n",
       "      <td>Other Official Information</td>\n",
       "      <td>Investigation</td>\n",
       "      <td>N</td>\n",
       "      <td>W</td>\n",
       "      <td>No Action Taken</td>\n",
       "    </tr>\n",
       "    <tr>\n",
       "      <td>8</td>\n",
       "      <td>9</td>\n",
       "      <td>2000-01-05</td>\n",
       "      <td>10:45:00</td>\n",
       "      <td>Unknown</td>\n",
       "      <td>NaN</td>\n",
       "      <td>51.0</td>\n",
       "      <td>white</td>\n",
       "      <td>male</td>\n",
       "      <td>22e35044ed</td>\n",
       "      <td>NC Division of Motor Vehicles, License and The...</td>\n",
       "      <td>...</td>\n",
       "      <td>True</td>\n",
       "      <td>False</td>\n",
       "      <td>True</td>\n",
       "      <td>consent</td>\n",
       "      <td>NaN</td>\n",
       "      <td>Other Official Information</td>\n",
       "      <td>Investigation</td>\n",
       "      <td>N</td>\n",
       "      <td>W</td>\n",
       "      <td>No Action Taken</td>\n",
       "    </tr>\n",
       "    <tr>\n",
       "      <td>9</td>\n",
       "      <td>10</td>\n",
       "      <td>2000-01-05</td>\n",
       "      <td>12:34:00</td>\n",
       "      <td>Unknown</td>\n",
       "      <td>NaN</td>\n",
       "      <td>33.0</td>\n",
       "      <td>white</td>\n",
       "      <td>male</td>\n",
       "      <td>22e35044ed</td>\n",
       "      <td>NC Division of Motor Vehicles, License and The...</td>\n",
       "      <td>...</td>\n",
       "      <td>True</td>\n",
       "      <td>True</td>\n",
       "      <td>True</td>\n",
       "      <td>consent</td>\n",
       "      <td>NaN</td>\n",
       "      <td>Erratic/Suspicious Behavior</td>\n",
       "      <td>Speed Limit Violation</td>\n",
       "      <td>N</td>\n",
       "      <td>W</td>\n",
       "      <td>Citation Issued</td>\n",
       "    </tr>\n",
       "  </tbody>\n",
       "</table>\n",
       "<p>10 rows × 29 columns</p>\n",
       "</div>"
      ],
      "text/plain": [
       "   raw_row_number        date      time location county_name  subject_age  \\\n",
       "0               1  2000-05-22  21:10:00  Unknown         NaN         45.0   \n",
       "1               2  2000-01-03  07:52:00  Unknown         NaN         20.0   \n",
       "2               3  2000-01-06  10:30:00  Unknown         NaN         23.0   \n",
       "3               4  2000-01-06  14:50:00  Unknown         NaN         60.0   \n",
       "4               5  2000-01-06  14:50:00  Unknown         NaN         27.0   \n",
       "5               6  2000-01-04  15:40:00  Unknown         NaN         54.0   \n",
       "6               7  2000-01-05  09:40:00  Unknown         NaN         36.0   \n",
       "7               8  2000-01-05  10:20:00  Unknown         NaN         54.0   \n",
       "8               9  2000-01-05  10:45:00  Unknown         NaN         51.0   \n",
       "9              10  2000-01-05  12:34:00  Unknown         NaN         33.0   \n",
       "\n",
       "  subject_race subject_sex officer_id_hash  \\\n",
       "0        white        male      22e35044ed   \n",
       "1        white        male      22e35044ed   \n",
       "2     hispanic        male      22e35044ed   \n",
       "3        white        male      22e35044ed   \n",
       "4        white        male      22e35044ed   \n",
       "5        white        male      22e35044ed   \n",
       "6        black        male      22e35044ed   \n",
       "7        white        male      22e35044ed   \n",
       "8        white        male      22e35044ed   \n",
       "9        white        male      22e35044ed   \n",
       "\n",
       "                                     department_name  ... search_conducted  \\\n",
       "0  NC Division of Motor Vehicles, License and The...  ...            False   \n",
       "1  NC Division of Motor Vehicles, License and The...  ...            False   \n",
       "2  NC Division of Motor Vehicles, License and The...  ...            False   \n",
       "3  NC Division of Motor Vehicles, License and The...  ...            False   \n",
       "4  NC Division of Motor Vehicles, License and The...  ...            False   \n",
       "5  NC Division of Motor Vehicles, License and The...  ...            False   \n",
       "6  NC Division of Motor Vehicles, License and The...  ...             True   \n",
       "7  NC Division of Motor Vehicles, License and The...  ...             True   \n",
       "8  NC Division of Motor Vehicles, License and The...  ...             True   \n",
       "9  NC Division of Motor Vehicles, License and The...  ...             True   \n",
       "\n",
       "   search_person  search_vehicle  search_basis reason_for_frisk  \\\n",
       "0          False           False           NaN              NaN   \n",
       "1          False           False           NaN              NaN   \n",
       "2          False           False           NaN              NaN   \n",
       "3          False           False           NaN              NaN   \n",
       "4          False           False           NaN              NaN   \n",
       "5          False           False           NaN              NaN   \n",
       "6          False            True       consent              NaN   \n",
       "7           True            True       consent              NaN   \n",
       "8          False            True       consent              NaN   \n",
       "9           True            True       consent              NaN   \n",
       "\n",
       "             reason_for_search                reason_for_stop raw_Ethnicity  \\\n",
       "0                          NaN          Speed Limit Violation             N   \n",
       "1                          NaN  Other Motor Vehicle Violation             N   \n",
       "2                          NaN          Speed Limit Violation             H   \n",
       "3                          NaN   Vehicle Regulatory Violation             N   \n",
       "4                          NaN   Vehicle Regulatory Violation             N   \n",
       "5                          NaN          Speed Limit Violation             N   \n",
       "6  Erratic/Suspicious Behavior          Speed Limit Violation             N   \n",
       "7   Other Official Information                  Investigation             N   \n",
       "8   Other Official Information                  Investigation             N   \n",
       "9  Erratic/Suspicious Behavior          Speed Limit Violation             N   \n",
       "\n",
       "   raw_Race  raw_action_description  \n",
       "0         W         Citation Issued  \n",
       "1         W         Citation Issued  \n",
       "2         U         Written Warning  \n",
       "3         W         Citation Issued  \n",
       "4         W         Citation Issued  \n",
       "5         W         Citation Issued  \n",
       "6         B         Citation Issued  \n",
       "7         W         No Action Taken  \n",
       "8         W         No Action Taken  \n",
       "9         W         Citation Issued  \n",
       "\n",
       "[10 rows x 29 columns]"
      ]
     },
     "execution_count": 3,
     "metadata": {},
     "output_type": "execute_result"
    }
   ],
   "source": [
    "nc.head(10)"
   ]
  },
  {
   "cell_type": "code",
   "execution_count": 6,
   "metadata": {},
   "outputs": [
    {
     "data": {
      "text/plain": [
       "Citation Issued    0.660857\n",
       "Verbal Warning     0.149467\n",
       "Written Warning    0.138858\n",
       "No Action Taken    0.029825\n",
       "On-View Arrest     0.020992\n",
       "Name: raw_action_description, dtype: float64"
      ]
     },
     "execution_count": 6,
     "metadata": {},
     "output_type": "execute_result"
    }
   ],
   "source": [
    "nc.raw_action_description.value_counts(normalize=True)"
   ]
  },
  {
   "cell_type": "code",
   "execution_count": 11,
   "metadata": {},
   "outputs": [],
   "source": [
    "nc_blk = nc[nc.raw_Race == 'B']\n",
    "nc_whi = nc[nc.raw_Race == 'W']"
   ]
  },
  {
   "cell_type": "code",
   "execution_count": 12,
   "metadata": {},
   "outputs": [
    {
     "data": {
      "text/plain": [
       "Citation Issued    0.628191\n",
       "Verbal Warning     0.187699\n",
       "Written Warning    0.124981\n",
       "No Action Taken    0.033110\n",
       "On-View Arrest     0.026019\n",
       "Name: raw_action_description, dtype: float64"
      ]
     },
     "execution_count": 12,
     "metadata": {},
     "output_type": "execute_result"
    }
   ],
   "source": [
    "nc_blk.raw_action_description.value_counts(normalize=True)"
   ]
  },
  {
   "cell_type": "code",
   "execution_count": 13,
   "metadata": {},
   "outputs": [
    {
     "data": {
      "text/plain": [
       "Citation Issued    0.665933\n",
       "Written Warning    0.149322\n",
       "Verbal Warning     0.137226\n",
       "No Action Taken    0.029241\n",
       "On-View Arrest     0.018277\n",
       "Name: raw_action_description, dtype: float64"
      ]
     },
     "execution_count": 13,
     "metadata": {},
     "output_type": "execute_result"
    }
   ],
   "source": [
    "nc_whi.raw_action_description.value_counts(normalize=True)"
   ]
  },
  {
   "cell_type": "code",
   "execution_count": 14,
   "metadata": {},
   "outputs": [
    {
     "data": {
      "text/plain": [
       "False    0.977589\n",
       "True     0.022411\n",
       "Name: search_person, dtype: float64"
      ]
     },
     "execution_count": 14,
     "metadata": {},
     "output_type": "execute_result"
    }
   ],
   "source": [
    "nc_whi.search_person.value_counts(normalize=True)"
   ]
  },
  {
   "cell_type": "code",
   "execution_count": 15,
   "metadata": {},
   "outputs": [
    {
     "data": {
      "text/plain": [
       "False    0.95877\n",
       "True     0.04123\n",
       "Name: search_person, dtype: float64"
      ]
     },
     "execution_count": 15,
     "metadata": {},
     "output_type": "execute_result"
    }
   ],
   "source": [
    "nc_blk.search_person.value_counts(normalize=True)"
   ]
  },
  {
   "cell_type": "code",
   "execution_count": 16,
   "metadata": {},
   "outputs": [
    {
     "data": {
      "text/plain": [
       "False    0.955043\n",
       "True     0.044957\n",
       "Name: search_conducted, dtype: float64"
      ]
     },
     "execution_count": 16,
     "metadata": {},
     "output_type": "execute_result"
    }
   ],
   "source": [
    "nc_blk.search_conducted.value_counts(normalize=True)"
   ]
  },
  {
   "cell_type": "code",
   "execution_count": 17,
   "metadata": {},
   "outputs": [
    {
     "data": {
      "text/plain": [
       "False    0.975294\n",
       "True     0.024706\n",
       "Name: search_conducted, dtype: float64"
      ]
     },
     "execution_count": 17,
     "metadata": {},
     "output_type": "execute_result"
    }
   ],
   "source": [
    "nc_whi.search_conducted.value_counts(normalize=True)"
   ]
  },
  {
   "cell_type": "code",
   "execution_count": 20,
   "metadata": {},
   "outputs": [],
   "source": [
    "arrested = nc[nc.raw_action_description == \"On-View Arrest\"]"
   ]
  },
  {
   "cell_type": "code",
   "execution_count": 22,
   "metadata": {},
   "outputs": [
    {
     "data": {
      "text/plain": [
       "Driving While Impaired           0.244859\n",
       "Speed Limit Violation            0.160765\n",
       "Investigation                    0.144776\n",
       "Vehicle Regulatory Violation     0.125753\n",
       "Vehicle Equipment Violation      0.082996\n",
       "Safe Movement Violation          0.082136\n",
       "Other Motor Vehicle Violation    0.070184\n",
       "Stop Light/Sign Violation        0.035920\n",
       "Seat Belt Violation              0.033525\n",
       "Checkpoint                       0.019086\n",
       "Name: reason_for_stop, dtype: float64"
      ]
     },
     "execution_count": 22,
     "metadata": {},
     "output_type": "execute_result"
    }
   ],
   "source": [
    "arrested.reason_for_stop.value_counts(normalize=True)"
   ]
  },
  {
   "cell_type": "raw",
   "metadata": {},
   "source": []
  },
  {
   "cell_type": "code",
   "execution_count": null,
   "metadata": {},
   "outputs": [],
   "source": []
  }
 ],
 "metadata": {
  "kernelspec": {
   "display_name": "Python 3",
   "language": "python",
   "name": "python3"
  },
  "language_info": {
   "codemirror_mode": {
    "name": "ipython",
    "version": 3
   },
   "file_extension": ".py",
   "mimetype": "text/x-python",
   "name": "python",
   "nbconvert_exporter": "python",
   "pygments_lexer": "ipython3",
   "version": "3.7.4"
  }
 },
 "nbformat": 4,
 "nbformat_minor": 4
}
