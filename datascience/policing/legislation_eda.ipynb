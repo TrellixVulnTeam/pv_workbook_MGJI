{
 "cells": [
  {
   "cell_type": "code",
   "execution_count": 6,
   "metadata": {},
   "outputs": [
    {
     "name": "stdout",
     "output_type": "stream",
     "text": [
      "Collecting package metadata (current_repodata.json): done\n",
      "Solving environment: done\n",
      "\n",
      "# All requested packages already installed.\n",
      "\n"
     ]
    }
   ],
   "source": [
    "!conda install beautifulsoup4 requests lxml html5lib\n",
    "from bs4 import BeautifulSoup\n",
    "import pandas as pd\n",
    "import requests"
   ]
  },
  {
   "cell_type": "code",
   "execution_count": 9,
   "metadata": {},
   "outputs": [],
   "source": [
    "url = 'https://www.ncsl.org/research/civil-and-criminal-justice/legislative-responses-for-policing.aspx'\n",
    "response = requests.get(url)"
   ]
  },
  {
   "cell_type": "code",
   "execution_count": 12,
   "metadata": {},
   "outputs": [],
   "source": [
    "page = response.text\n",
    "soup = BeautifulSoup(page)"
   ]
  },
  {
   "cell_type": "code",
   "execution_count": 19,
   "metadata": {},
   "outputs": [
    {
     "name": "stdout",
     "output_type": "stream",
     "text": [
      "<p><strong>Use of Force</strong>: Includes legislation regulating use of force, including deadly force, excessive force, less lethal force, duty to intervene, duty to report, qualified immunity, and specific types of force such as chokeholds or tear gas.</p> \n",
      "\n",
      "<p class=\"aboutUs\">\n",
      "We are the nation's most respected bipartisan organization providing states support, ideas, connections and a strong voice on Capitol Hill.</p> \n",
      "\n",
      "<p> 7700 East First Place<br/>\n",
      "\t\t\tDenver, CO 80230<br/>\n",
      "\t\t\tTel: 303-364-7700 | Fax: 303-364-7800</p> \n",
      "\n",
      "<p>444 North Capitol Street, N.W., Suite 515<br/>\n",
      "\t\t\tWashington, D.C. 20001<br/>\n",
      "\t\t\tTel: 202-624-5400 | Fax: 202-737-1069</p> \n",
      "\n"
     ]
    }
   ],
   "source": [
    "for link in soup.find_all('p')[10:]:\n",
    "    print(link, '\\n')"
   ]
  },
  {
   "cell_type": "code",
   "execution_count": null,
   "metadata": {},
   "outputs": [],
   "source": []
  }
 ],
 "metadata": {
  "kernelspec": {
   "display_name": "Python 3",
   "language": "python",
   "name": "python3"
  },
  "language_info": {
   "codemirror_mode": {
    "name": "ipython",
    "version": 3
   },
   "file_extension": ".py",
   "mimetype": "text/x-python",
   "name": "python",
   "nbconvert_exporter": "python",
   "pygments_lexer": "ipython3",
   "version": "3.7.4"
  }
 },
 "nbformat": 4,
 "nbformat_minor": 4
}
