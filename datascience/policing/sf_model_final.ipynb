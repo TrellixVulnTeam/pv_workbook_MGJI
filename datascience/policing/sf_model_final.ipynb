{
 "cells": [
  {
   "cell_type": "code",
   "execution_count": 32,
   "metadata": {},
   "outputs": [],
   "source": [
    "import pandas as pd\n",
    "import datetime\n",
    "import numpy as np\n",
    "from sklearn.pipeline import Pipeline\n",
    "from sklearn.linear_model import LogisticRegression\n",
    "from sklearn.preprocessing import OneHotEncoder\n",
    "from sklearn.impute import KNNImputer\n",
    "from sklearn.ensemble import RandomForestClassifier\n",
    "from sklearn.naive_bayes import ComplementNB\n",
    "import matplotlib.pyplot as plt \n",
    "from sklearn.model_selection import train_test_split\n",
    "from sklearn.inspection import plot_partial_dependence\n",
    "from sklearn.model_selection import GridSearchCV\n",
    "from sklearn.metrics import confusion_matrix\n",
    "import statsmodels.api as sm\n",
    "import seaborn as sns\n",
    "import pickle as pkl"
   ]
  },
  {
   "cell_type": "code",
   "execution_count": 33,
   "metadata": {},
   "outputs": [
    {
     "name": "stderr",
     "output_type": "stream",
     "text": [
      "/opt/anaconda3/lib/python3.7/site-packages/IPython/core/interactiveshell.py:3058: DtypeWarning: Columns (6) have mixed types. Specify dtype option on import or set low_memory=False.\n",
      "  interactivity=interactivity, compiler=compiler, result=result)\n"
     ]
    }
   ],
   "source": [
    "df = pd.read_csv('sf.csv')"
   ]
  },
  {
   "cell_type": "code",
   "execution_count": 3,
   "metadata": {},
   "outputs": [],
   "source": [
    "conditions = [\n",
    "    (df.subject_race == 'white') & (df.subject_sex == 'female'),\n",
    "    (df.subject_race == 'hispanic') & (df.subject_sex == 'female'),\n",
    "    (df.subject_race == 'black') & (df.subject_sex == 'female'),\n",
    "    (df.subject_race == 'asian/pacific islander') & (df.subject_sex == 'female'),\n",
    "    (df.subject_race == 'white') & (df.subject_sex == 'male'),\n",
    "    (df.subject_race == 'hispanic') & (df.subject_sex == 'male'),\n",
    "    (df.subject_race == 'black') & (df.subject_sex == 'male'),\n",
    "    (df.subject_race == 'asian/pacific islander') & (df.subject_sex == 'male')]\n",
    "choices = ['white_female', 'hispanic_female', 'black_female','asian_female',\n",
    "          'white_male', 'hispanic_male', 'black_male','asian_male']\n",
    "df['demographic'] = np.select(conditions, choices, default='other')"
   ]
  },
  {
   "cell_type": "code",
   "execution_count": 4,
   "metadata": {},
   "outputs": [
    {
     "data": {
      "text/plain": [
       "Index(['raw_row_number', 'date', 'time', 'location', 'lat', 'lng', 'district',\n",
       "       'subject_age', 'subject_race', 'subject_sex', 'type', 'arrest_made',\n",
       "       'citation_issued', 'warning_issued', 'outcome', 'contraband_found',\n",
       "       'search_conducted', 'search_vehicle', 'search_basis', 'reason_for_stop',\n",
       "       'raw_search_vehicle_description', 'raw_result_of_contact_description',\n",
       "       'demographic'],\n",
       "      dtype='object')"
      ]
     },
     "execution_count": 4,
     "metadata": {},
     "output_type": "execute_result"
    }
   ],
   "source": [
    "df.columns"
   ]
  },
  {
   "cell_type": "code",
   "execution_count": 5,
   "metadata": {},
   "outputs": [],
   "source": [
    "df2 = df[['subject_age','demographic']]"
   ]
  },
  {
   "cell_type": "code",
   "execution_count": 6,
   "metadata": {},
   "outputs": [],
   "source": [
    "df_to_mod_dummies = pd.get_dummies(df2.demographic)"
   ]
  },
  {
   "cell_type": "code",
   "execution_count": 8,
   "metadata": {},
   "outputs": [],
   "source": [
    "df_to_mod_dummies['age'] = df2.subject_age"
   ]
  },
  {
   "cell_type": "code",
   "execution_count": 10,
   "metadata": {},
   "outputs": [],
   "source": [
    "bin_ranges = [0, 18, 35, 45, 60, 75, 100]\n",
    "bin_names = [1, 2, 3, 4, 5, 6]"
   ]
  },
  {
   "cell_type": "code",
   "execution_count": 11,
   "metadata": {},
   "outputs": [],
   "source": [
    "df_to_mod_dummies['age_bin_custom_range'] = pd.cut(np.array(df_to_mod_dummies.age),bins=bin_ranges)\n",
    "df_to_mod_dummies['age_bin_custom_label'] = pd.cut(np.array(df_to_mod_dummies.age),bins=bin_ranges,labels=bin_names)"
   ]
  },
  {
   "cell_type": "code",
   "execution_count": 12,
   "metadata": {},
   "outputs": [
    {
     "data": {
      "text/plain": [
       "Index(['asian_female', 'asian_male', 'black_female', 'black_male',\n",
       "       'hispanic_female', 'hispanic_male', 'other', 'white_female',\n",
       "       'white_male', 'age', 'age_bin_custom_range', 'age_bin_custom_label'],\n",
       "      dtype='object')"
      ]
     },
     "execution_count": 12,
     "metadata": {},
     "output_type": "execute_result"
    }
   ],
   "source": [
    "df_to_mod_dummies.columns"
   ]
  },
  {
   "cell_type": "code",
   "execution_count": 110,
   "metadata": {},
   "outputs": [],
   "source": [
    "X = df_to_mod_dummies.dropna()\n",
    "X = X.drop('age',axis=1)\n",
    "X = X.drop('age_bin_custom_range',axis=1)\n",
    "y = df.search_conducted\n",
    "X = X.iloc[:5000,]\n",
    "y = y[:5000]"
   ]
  },
  {
   "cell_type": "code",
   "execution_count": 111,
   "metadata": {},
   "outputs": [
    {
     "data": {
      "text/plain": [
       "False    1240\n",
       "True       10\n",
       "Name: arrest_made, dtype: int64"
      ]
     },
     "execution_count": 111,
     "metadata": {},
     "output_type": "execute_result"
    }
   ],
   "source": [
    "y_test.value_counts()"
   ]
  },
  {
   "cell_type": "code",
   "execution_count": 112,
   "metadata": {},
   "outputs": [],
   "source": [
    "X_train, X_test, y_train, y_test = train_test_split(X, y, test_size=0.25, random_state=0)"
   ]
  },
  {
   "cell_type": "code",
   "execution_count": 113,
   "metadata": {},
   "outputs": [],
   "source": [
    "clf = LogisticRegression(C=1000, class_weight={0:0.05,1:1},random_state=42, solver='liblinear').fit(X_train, y_train)"
   ]
  },
  {
   "cell_type": "code",
   "execution_count": 114,
   "metadata": {},
   "outputs": [
    {
     "data": {
      "text/plain": [
       "0.9264"
      ]
     },
     "execution_count": 114,
     "metadata": {},
     "output_type": "execute_result"
    }
   ],
   "source": [
    "clf.score(X_test,y_test)"
   ]
  },
  {
   "cell_type": "code",
   "execution_count": 115,
   "metadata": {},
   "outputs": [
    {
     "data": {
      "text/plain": [
       "array([[1.21852611, 0.78595396, 0.84645542, 0.59295682, 1.76922872,\n",
       "        0.86718357, 1.09800604, 0.95114528, 1.12261599, 0.97747859]])"
      ]
     },
     "execution_count": 115,
     "metadata": {},
     "output_type": "execute_result"
    }
   ],
   "source": [
    "np.exp(clf.coef_)"
   ]
  },
  {
   "cell_type": "markdown",
   "metadata": {},
   "source": [
    "        p       odds     logodds  \n",
    "      .001    .001001  -6.906755\n",
    "       .01    .010101   -4.59512\n",
    "       .15   .1764706  -1.734601\n",
    "        .2        .25  -1.386294\n",
    "       .25   .3333333  -1.098612\n",
    "        .3   .4285714  -.8472978\n",
    "       .35   .5384616  -.6190392\n",
    "        .4   .6666667  -.4054651\n",
    "       .45   .8181818  -.2006707\n",
    "        .5          1          0\n",
    "       .55   1.222222   .2006707\n",
    "        .6        1.5   .4054651\n",
    "       .65   1.857143   .6190392\n",
    "        .7   2.333333   .8472978\n",
    "       .75          3   1.098612\n",
    "        .8          4   1.386294\n",
    "       .85   5.666667   1.734601\n",
    "        .9          9   2.197225\n",
    "      .999        999   6.906755\n",
    "     .9999       9999    9.21024"
   ]
  },
  {
   "cell_type": "code",
   "execution_count": 116,
   "metadata": {},
   "outputs": [
    {
     "data": {
      "text/html": [
       "<div>\n",
       "<style scoped>\n",
       "    .dataframe tbody tr th:only-of-type {\n",
       "        vertical-align: middle;\n",
       "    }\n",
       "\n",
       "    .dataframe tbody tr th {\n",
       "        vertical-align: top;\n",
       "    }\n",
       "\n",
       "    .dataframe thead th {\n",
       "        text-align: right;\n",
       "    }\n",
       "</style>\n",
       "<table border=\"1\" class=\"dataframe\">\n",
       "  <thead>\n",
       "    <tr style=\"text-align: right;\">\n",
       "      <th></th>\n",
       "      <th>Variable</th>\n",
       "      <th>Coefficient</th>\n",
       "    </tr>\n",
       "  </thead>\n",
       "  <tbody>\n",
       "    <tr>\n",
       "      <td>4</td>\n",
       "      <td>hispanic_female</td>\n",
       "      <td>0.570544</td>\n",
       "    </tr>\n",
       "    <tr>\n",
       "      <td>0</td>\n",
       "      <td>asian_female</td>\n",
       "      <td>0.197642</td>\n",
       "    </tr>\n",
       "    <tr>\n",
       "      <td>8</td>\n",
       "      <td>white_male</td>\n",
       "      <td>0.115662</td>\n",
       "    </tr>\n",
       "    <tr>\n",
       "      <td>6</td>\n",
       "      <td>other</td>\n",
       "      <td>0.093496</td>\n",
       "    </tr>\n",
       "    <tr>\n",
       "      <td>9</td>\n",
       "      <td>age_bin_custom_label</td>\n",
       "      <td>-0.022779</td>\n",
       "    </tr>\n",
       "    <tr>\n",
       "      <td>7</td>\n",
       "      <td>white_female</td>\n",
       "      <td>-0.050088</td>\n",
       "    </tr>\n",
       "    <tr>\n",
       "      <td>5</td>\n",
       "      <td>hispanic_male</td>\n",
       "      <td>-0.142505</td>\n",
       "    </tr>\n",
       "    <tr>\n",
       "      <td>2</td>\n",
       "      <td>black_female</td>\n",
       "      <td>-0.166698</td>\n",
       "    </tr>\n",
       "    <tr>\n",
       "      <td>1</td>\n",
       "      <td>asian_male</td>\n",
       "      <td>-0.240857</td>\n",
       "    </tr>\n",
       "    <tr>\n",
       "      <td>3</td>\n",
       "      <td>black_male</td>\n",
       "      <td>-0.522634</td>\n",
       "    </tr>\n",
       "  </tbody>\n",
       "</table>\n",
       "</div>"
      ],
      "text/plain": [
       "               Variable  Coefficient\n",
       "4       hispanic_female     0.570544\n",
       "0          asian_female     0.197642\n",
       "8            white_male     0.115662\n",
       "6                 other     0.093496\n",
       "9  age_bin_custom_label    -0.022779\n",
       "7          white_female    -0.050088\n",
       "5         hispanic_male    -0.142505\n",
       "2          black_female    -0.166698\n",
       "1            asian_male    -0.240857\n",
       "3            black_male    -0.522634"
      ]
     },
     "execution_count": 116,
     "metadata": {},
     "output_type": "execute_result"
    }
   ],
   "source": [
    "original_variables = list(X)\n",
    "zipped_together = list(zip(original_variables, clf.coef_[0]))\n",
    "coefs = [list(x) for x in zipped_together]\n",
    "coefs = pd.DataFrame(coefs, columns=[\"Variable\", \"Coefficient\"])\n",
    "coefs.sort_values(by=[\"Coefficient\"], axis=0, inplace=True, ascending=False)\n",
    "coefs.drop_duplicates(keep=False)\n",
    "coefs"
   ]
  },
  {
   "cell_type": "code",
   "execution_count": 117,
   "metadata": {},
   "outputs": [
    {
     "data": {
      "text/html": [
       "<div>\n",
       "<style scoped>\n",
       "    .dataframe tbody tr th:only-of-type {\n",
       "        vertical-align: middle;\n",
       "    }\n",
       "\n",
       "    .dataframe tbody tr th {\n",
       "        vertical-align: top;\n",
       "    }\n",
       "\n",
       "    .dataframe thead th {\n",
       "        text-align: right;\n",
       "    }\n",
       "</style>\n",
       "<table border=\"1\" class=\"dataframe\">\n",
       "  <thead>\n",
       "    <tr style=\"text-align: right;\">\n",
       "      <th></th>\n",
       "      <th>Variable</th>\n",
       "      <th>Coefficient</th>\n",
       "    </tr>\n",
       "  </thead>\n",
       "  <tbody>\n",
       "    <tr>\n",
       "      <td>0</td>\n",
       "      <td>asian_female</td>\n",
       "      <td>0.197642</td>\n",
       "    </tr>\n",
       "    <tr>\n",
       "      <td>1</td>\n",
       "      <td>asian_male</td>\n",
       "      <td>-0.240857</td>\n",
       "    </tr>\n",
       "    <tr>\n",
       "      <td>2</td>\n",
       "      <td>black_female</td>\n",
       "      <td>-0.166698</td>\n",
       "    </tr>\n",
       "    <tr>\n",
       "      <td>3</td>\n",
       "      <td>black_male</td>\n",
       "      <td>-0.522634</td>\n",
       "    </tr>\n",
       "    <tr>\n",
       "      <td>4</td>\n",
       "      <td>hispanic_female</td>\n",
       "      <td>0.570544</td>\n",
       "    </tr>\n",
       "    <tr>\n",
       "      <td>5</td>\n",
       "      <td>hispanic_male</td>\n",
       "      <td>-0.142505</td>\n",
       "    </tr>\n",
       "    <tr>\n",
       "      <td>6</td>\n",
       "      <td>other</td>\n",
       "      <td>0.093496</td>\n",
       "    </tr>\n",
       "    <tr>\n",
       "      <td>7</td>\n",
       "      <td>white_female</td>\n",
       "      <td>-0.050088</td>\n",
       "    </tr>\n",
       "    <tr>\n",
       "      <td>8</td>\n",
       "      <td>white_male</td>\n",
       "      <td>0.115662</td>\n",
       "    </tr>\n",
       "    <tr>\n",
       "      <td>9</td>\n",
       "      <td>age_bin_custom_label</td>\n",
       "      <td>-0.022779</td>\n",
       "    </tr>\n",
       "  </tbody>\n",
       "</table>\n",
       "</div>"
      ],
      "text/plain": [
       "               Variable  Coefficient\n",
       "0          asian_female     0.197642\n",
       "1            asian_male    -0.240857\n",
       "2          black_female    -0.166698\n",
       "3            black_male    -0.522634\n",
       "4       hispanic_female     0.570544\n",
       "5         hispanic_male    -0.142505\n",
       "6                 other     0.093496\n",
       "7          white_female    -0.050088\n",
       "8            white_male     0.115662\n",
       "9  age_bin_custom_label    -0.022779"
      ]
     },
     "execution_count": 117,
     "metadata": {},
     "output_type": "execute_result"
    }
   ],
   "source": [
    "coefs.sort_index()"
   ]
  },
  {
   "cell_type": "code",
   "execution_count": 118,
   "metadata": {},
   "outputs": [
    {
     "data": {
      "text/plain": [
       "array([[1154,   50],\n",
       "       [  42,    4]])"
      ]
     },
     "execution_count": 118,
     "metadata": {},
     "output_type": "execute_result"
    }
   ],
   "source": [
    "confusion_matrix(y_test,clf.predict(X_test))"
   ]
  },
  {
   "cell_type": "code",
   "execution_count": null,
   "metadata": {},
   "outputs": [],
   "source": [
    "sns.distplot()"
   ]
  },
  {
   "cell_type": "code",
   "execution_count": 44,
   "metadata": {},
   "outputs": [
    {
     "data": {
      "text/html": [
       "<div>\n",
       "<style scoped>\n",
       "    .dataframe tbody tr th:only-of-type {\n",
       "        vertical-align: middle;\n",
       "    }\n",
       "\n",
       "    .dataframe tbody tr th {\n",
       "        vertical-align: top;\n",
       "    }\n",
       "\n",
       "    .dataframe thead th {\n",
       "        text-align: right;\n",
       "    }\n",
       "</style>\n",
       "<table border=\"1\" class=\"dataframe\">\n",
       "  <thead>\n",
       "    <tr style=\"text-align: right;\">\n",
       "      <th></th>\n",
       "      <th>asian_female</th>\n",
       "      <th>asian_male</th>\n",
       "      <th>black_female</th>\n",
       "      <th>black_male</th>\n",
       "      <th>hispanic_female</th>\n",
       "      <th>hispanic_male</th>\n",
       "      <th>other</th>\n",
       "      <th>white_female</th>\n",
       "      <th>white_male</th>\n",
       "    </tr>\n",
       "  </thead>\n",
       "  <tbody>\n",
       "    <tr>\n",
       "      <td>asian_female</td>\n",
       "      <td>1.677285e+08</td>\n",
       "      <td>0.000000</td>\n",
       "      <td>0.00</td>\n",
       "      <td>0.00000</td>\n",
       "      <td>0.000000e+00</td>\n",
       "      <td>0.000000</td>\n",
       "      <td>0.000000</td>\n",
       "      <td>0.000000</td>\n",
       "      <td>0.000000</td>\n",
       "    </tr>\n",
       "    <tr>\n",
       "      <td>asian_male</td>\n",
       "      <td>0.000000e+00</td>\n",
       "      <td>0.507194</td>\n",
       "      <td>0.00</td>\n",
       "      <td>0.00000</td>\n",
       "      <td>0.000000e+00</td>\n",
       "      <td>0.000000</td>\n",
       "      <td>0.000000</td>\n",
       "      <td>0.000000</td>\n",
       "      <td>0.000000</td>\n",
       "    </tr>\n",
       "    <tr>\n",
       "      <td>black_female</td>\n",
       "      <td>0.000000e+00</td>\n",
       "      <td>0.000000</td>\n",
       "      <td>1.02</td>\n",
       "      <td>0.00000</td>\n",
       "      <td>0.000000e+00</td>\n",
       "      <td>0.000000</td>\n",
       "      <td>0.000000</td>\n",
       "      <td>0.000000</td>\n",
       "      <td>0.000000</td>\n",
       "    </tr>\n",
       "    <tr>\n",
       "      <td>black_male</td>\n",
       "      <td>0.000000e+00</td>\n",
       "      <td>0.000000</td>\n",
       "      <td>0.00</td>\n",
       "      <td>0.25813</td>\n",
       "      <td>0.000000e+00</td>\n",
       "      <td>0.000000</td>\n",
       "      <td>0.000000</td>\n",
       "      <td>0.000000</td>\n",
       "      <td>0.000000</td>\n",
       "    </tr>\n",
       "    <tr>\n",
       "      <td>hispanic_female</td>\n",
       "      <td>0.000000e+00</td>\n",
       "      <td>0.000000</td>\n",
       "      <td>0.00</td>\n",
       "      <td>0.00000</td>\n",
       "      <td>2.460292e+15</td>\n",
       "      <td>0.000000</td>\n",
       "      <td>0.000000</td>\n",
       "      <td>0.000000</td>\n",
       "      <td>0.000000</td>\n",
       "    </tr>\n",
       "    <tr>\n",
       "      <td>hispanic_male</td>\n",
       "      <td>0.000000e+00</td>\n",
       "      <td>0.000000</td>\n",
       "      <td>0.00</td>\n",
       "      <td>0.00000</td>\n",
       "      <td>0.000000e+00</td>\n",
       "      <td>0.342593</td>\n",
       "      <td>0.000000</td>\n",
       "      <td>0.000000</td>\n",
       "      <td>0.000000</td>\n",
       "    </tr>\n",
       "    <tr>\n",
       "      <td>other</td>\n",
       "      <td>0.000000e+00</td>\n",
       "      <td>0.000000</td>\n",
       "      <td>0.00</td>\n",
       "      <td>0.00000</td>\n",
       "      <td>0.000000e+00</td>\n",
       "      <td>0.000000</td>\n",
       "      <td>1.007813</td>\n",
       "      <td>0.000000</td>\n",
       "      <td>0.000000</td>\n",
       "    </tr>\n",
       "    <tr>\n",
       "      <td>white_female</td>\n",
       "      <td>0.000000e+00</td>\n",
       "      <td>0.000000</td>\n",
       "      <td>0.00</td>\n",
       "      <td>0.00000</td>\n",
       "      <td>0.000000e+00</td>\n",
       "      <td>0.000000</td>\n",
       "      <td>0.000000</td>\n",
       "      <td>1.009524</td>\n",
       "      <td>0.000000</td>\n",
       "    </tr>\n",
       "    <tr>\n",
       "      <td>white_male</td>\n",
       "      <td>0.000000e+00</td>\n",
       "      <td>0.000000</td>\n",
       "      <td>0.00</td>\n",
       "      <td>0.00000</td>\n",
       "      <td>0.000000e+00</td>\n",
       "      <td>0.000000</td>\n",
       "      <td>0.000000</td>\n",
       "      <td>0.000000</td>\n",
       "      <td>1.004065</td>\n",
       "    </tr>\n",
       "  </tbody>\n",
       "</table>\n",
       "</div>"
      ],
      "text/plain": [
       "                 asian_female  asian_male  black_female  black_male  \\\n",
       "asian_female     1.677285e+08    0.000000          0.00     0.00000   \n",
       "asian_male       0.000000e+00    0.507194          0.00     0.00000   \n",
       "black_female     0.000000e+00    0.000000          1.02     0.00000   \n",
       "black_male       0.000000e+00    0.000000          0.00     0.25813   \n",
       "hispanic_female  0.000000e+00    0.000000          0.00     0.00000   \n",
       "hispanic_male    0.000000e+00    0.000000          0.00     0.00000   \n",
       "other            0.000000e+00    0.000000          0.00     0.00000   \n",
       "white_female     0.000000e+00    0.000000          0.00     0.00000   \n",
       "white_male       0.000000e+00    0.000000          0.00     0.00000   \n",
       "\n",
       "                 hispanic_female  hispanic_male     other  white_female  \\\n",
       "asian_female        0.000000e+00       0.000000  0.000000      0.000000   \n",
       "asian_male          0.000000e+00       0.000000  0.000000      0.000000   \n",
       "black_female        0.000000e+00       0.000000  0.000000      0.000000   \n",
       "black_male          0.000000e+00       0.000000  0.000000      0.000000   \n",
       "hispanic_female     2.460292e+15       0.000000  0.000000      0.000000   \n",
       "hispanic_male       0.000000e+00       0.342593  0.000000      0.000000   \n",
       "other               0.000000e+00       0.000000  1.007813      0.000000   \n",
       "white_female        0.000000e+00       0.000000  0.000000      1.009524   \n",
       "white_male          0.000000e+00       0.000000  0.000000      0.000000   \n",
       "\n",
       "                 white_male  \n",
       "asian_female       0.000000  \n",
       "asian_male         0.000000  \n",
       "black_female       0.000000  \n",
       "black_male         0.000000  \n",
       "hispanic_female    0.000000  \n",
       "hispanic_male      0.000000  \n",
       "other              0.000000  \n",
       "white_female       0.000000  \n",
       "white_male         1.004065  "
      ]
     },
     "execution_count": 44,
     "metadata": {},
     "output_type": "execute_result"
    }
   ],
   "source": [
    "sm_log_reg.cov_params()"
   ]
  },
  {
   "cell_type": "code",
   "execution_count": 45,
   "metadata": {},
   "outputs": [
    {
     "data": {
      "text/html": [
       "<table class=\"simpletable\">\n",
       "<caption>Logit Regression Results</caption>\n",
       "<tr>\n",
       "  <th>Dep. Variable:</th>      <td>arrest_made</td>   <th>  No. Observations:  </th>  <td>  1000</td> \n",
       "</tr>\n",
       "<tr>\n",
       "  <th>Model:</th>                 <td>Logit</td>      <th>  Df Residuals:      </th>  <td>   991</td> \n",
       "</tr>\n",
       "<tr>\n",
       "  <th>Method:</th>                 <td>MLE</td>       <th>  Df Model:          </th>  <td>     8</td> \n",
       "</tr>\n",
       "<tr>\n",
       "  <th>Date:</th>            <td>Thu, 18 Jun 2020</td> <th>  Pseudo R-squ.:     </th>  <td>0.06301</td>\n",
       "</tr>\n",
       "<tr>\n",
       "  <th>Time:</th>                <td>11:17:38</td>     <th>  Log-Likelihood:    </th> <td> -65.001</td>\n",
       "</tr>\n",
       "<tr>\n",
       "  <th>converged:</th>             <td>False</td>      <th>  LL-Null:           </th> <td> -69.372</td>\n",
       "</tr>\n",
       "<tr>\n",
       "  <th>Covariance Type:</th>     <td>nonrobust</td>    <th>  LLR p-value:       </th>  <td>0.3645</td> \n",
       "</tr>\n",
       "</table>\n",
       "<table class=\"simpletable\">\n",
       "<tr>\n",
       "         <td></td>            <th>coef</th>     <th>std err</th>      <th>z</th>      <th>P>|z|</th>  <th>[0.025</th>    <th>0.975]</th>  \n",
       "</tr>\n",
       "<tr>\n",
       "  <th>asian_female</th>    <td>  -22.8697</td> <td>  1.3e+04</td> <td>   -0.002</td> <td> 0.999</td> <td>-2.54e+04</td> <td> 2.54e+04</td>\n",
       "</tr>\n",
       "<tr>\n",
       "  <th>asian_male</th>      <td>   -4.2413</td> <td>    0.712</td> <td>   -5.955</td> <td> 0.000</td> <td>   -5.637</td> <td>   -2.845</td>\n",
       "</tr>\n",
       "<tr>\n",
       "  <th>black_female</th>    <td>   -3.9120</td> <td>    1.010</td> <td>   -3.873</td> <td> 0.000</td> <td>   -5.891</td> <td>   -1.933</td>\n",
       "</tr>\n",
       "<tr>\n",
       "  <th>black_male</th>      <td>   -3.4259</td> <td>    0.508</td> <td>   -6.743</td> <td> 0.000</td> <td>   -4.422</td> <td>   -2.430</td>\n",
       "</tr>\n",
       "<tr>\n",
       "  <th>hispanic_female</th> <td>  -39.0500</td> <td> 4.96e+07</td> <td>-7.87e-07</td> <td> 1.000</td> <td>-9.72e+07</td> <td> 9.72e+07</td>\n",
       "</tr>\n",
       "<tr>\n",
       "  <th>hispanic_male</th>   <td>   -3.5835</td> <td>    0.585</td> <td>   -6.122</td> <td> 0.000</td> <td>   -4.731</td> <td>   -2.436</td>\n",
       "</tr>\n",
       "<tr>\n",
       "  <th>other</th>           <td>   -4.8520</td> <td>    1.004</td> <td>   -4.833</td> <td> 0.000</td> <td>   -6.820</td> <td>   -2.884</td>\n",
       "</tr>\n",
       "<tr>\n",
       "  <th>white_female</th>    <td>   -4.6540</td> <td>    1.005</td> <td>   -4.632</td> <td> 0.000</td> <td>   -6.623</td> <td>   -2.685</td>\n",
       "</tr>\n",
       "<tr>\n",
       "  <th>white_male</th>      <td>   -5.5053</td> <td>    1.002</td> <td>   -5.494</td> <td> 0.000</td> <td>   -7.469</td> <td>   -3.541</td>\n",
       "</tr>\n",
       "</table>"
      ],
      "text/plain": [
       "<class 'statsmodels.iolib.summary.Summary'>\n",
       "\"\"\"\n",
       "                           Logit Regression Results                           \n",
       "==============================================================================\n",
       "Dep. Variable:            arrest_made   No. Observations:                 1000\n",
       "Model:                          Logit   Df Residuals:                      991\n",
       "Method:                           MLE   Df Model:                            8\n",
       "Date:                Thu, 18 Jun 2020   Pseudo R-squ.:                 0.06301\n",
       "Time:                        11:17:38   Log-Likelihood:                -65.001\n",
       "converged:                      False   LL-Null:                       -69.372\n",
       "Covariance Type:            nonrobust   LLR p-value:                    0.3645\n",
       "===================================================================================\n",
       "                      coef    std err          z      P>|z|      [0.025      0.975]\n",
       "-----------------------------------------------------------------------------------\n",
       "asian_female      -22.8697    1.3e+04     -0.002      0.999   -2.54e+04    2.54e+04\n",
       "asian_male         -4.2413      0.712     -5.955      0.000      -5.637      -2.845\n",
       "black_female       -3.9120      1.010     -3.873      0.000      -5.891      -1.933\n",
       "black_male         -3.4259      0.508     -6.743      0.000      -4.422      -2.430\n",
       "hispanic_female   -39.0500   4.96e+07  -7.87e-07      1.000   -9.72e+07    9.72e+07\n",
       "hispanic_male      -3.5835      0.585     -6.122      0.000      -4.731      -2.436\n",
       "other              -4.8520      1.004     -4.833      0.000      -6.820      -2.884\n",
       "white_female       -4.6540      1.005     -4.632      0.000      -6.623      -2.685\n",
       "white_male         -5.5053      1.002     -5.494      0.000      -7.469      -3.541\n",
       "===================================================================================\n",
       "\"\"\""
      ]
     },
     "execution_count": 45,
     "metadata": {},
     "output_type": "execute_result"
    }
   ],
   "source": [
    "sm_log_reg.summary()"
   ]
  },
  {
   "cell_type": "code",
   "execution_count": 50,
   "metadata": {},
   "outputs": [
    {
     "data": {
      "text/plain": [
       "array([[987.,   0.],\n",
       "       [ 13.,   0.]])"
      ]
     },
     "execution_count": 50,
     "metadata": {},
     "output_type": "execute_result"
    }
   ],
   "source": [
    "sm_log_reg.pred_table()"
   ]
  },
  {
   "cell_type": "code",
   "execution_count": null,
   "metadata": {},
   "outputs": [],
   "source": []
  },
  {
   "cell_type": "code",
   "execution_count": null,
   "metadata": {},
   "outputs": [],
   "source": [
    "blk_searched.outcome.value_counts()"
   ]
  },
  {
   "cell_type": "code",
   "execution_count": null,
   "metadata": {},
   "outputs": [],
   "source": [
    "wht_searched.outcome.value_counts()"
   ]
  },
  {
   "cell_type": "code",
   "execution_count": null,
   "metadata": {},
   "outputs": [],
   "source": [
    "2071 / 11707"
   ]
  },
  {
   "cell_type": "code",
   "execution_count": null,
   "metadata": {},
   "outputs": [],
   "source": [
    "2573 / 23622"
   ]
  },
  {
   "cell_type": "code",
   "execution_count": null,
   "metadata": {},
   "outputs": [],
   "source": [
    "P = np.asarray([.16, .84, .11, .89]).reshape(2,2)"
   ]
  },
  {
   "cell_type": "code",
   "execution_count": null,
   "metadata": {},
   "outputs": [],
   "source": [
    "step_one = [1,0]"
   ]
  },
  {
   "cell_type": "code",
   "execution_count": null,
   "metadata": {},
   "outputs": [],
   "source": [
    "step_two = np.dot(step_one, P)"
   ]
  },
  {
   "cell_type": "code",
   "execution_count": null,
   "metadata": {},
   "outputs": [],
   "source": [
    "step_two"
   ]
  },
  {
   "cell_type": "code",
   "execution_count": null,
   "metadata": {},
   "outputs": [],
   "source": [
    "steady = np.dot(step_one, np.linalg.matrix_power(P,100))"
   ]
  },
  {
   "cell_type": "code",
   "execution_count": null,
   "metadata": {},
   "outputs": [],
   "source": [
    "steady"
   ]
  },
  {
   "cell_type": "code",
   "execution_count": null,
   "metadata": {},
   "outputs": [],
   "source": [
    "X = np.asarray([.8, .92, .18, .82]).reshape(2,2)"
   ]
  },
  {
   "cell_type": "code",
   "execution_count": null,
   "metadata": {},
   "outputs": [],
   "source": [
    "first_step = [1,0]"
   ]
  },
  {
   "cell_type": "code",
   "execution_count": null,
   "metadata": {},
   "outputs": [],
   "source": [
    "steady_w = np.dot(first_step, np.linalg.matrix_power(X,100))"
   ]
  },
  {
   "cell_type": "code",
   "execution_count": null,
   "metadata": {},
   "outputs": [],
   "source": [
    "steady_w"
   ]
  },
  {
   "cell_type": "code",
   "execution_count": null,
   "metadata": {},
   "outputs": [],
   "source": []
  }
 ],
 "metadata": {
  "kernelspec": {
   "display_name": "Python 3",
   "language": "python",
   "name": "python3"
  },
  "language_info": {
   "codemirror_mode": {
    "name": "ipython",
    "version": 3
   },
   "file_extension": ".py",
   "mimetype": "text/x-python",
   "name": "python",
   "nbconvert_exporter": "python",
   "pygments_lexer": "ipython3",
   "version": "3.7.4"
  }
 },
 "nbformat": 4,
 "nbformat_minor": 4
}
