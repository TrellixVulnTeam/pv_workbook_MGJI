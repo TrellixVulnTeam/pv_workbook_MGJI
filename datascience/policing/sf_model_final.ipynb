{
 "cells": [
  {
   "cell_type": "code",
   "execution_count": 32,
   "metadata": {},
   "outputs": [],
   "source": [
    "import pandas as pd\n",
    "import numpy as np\n",
    "from sklearn.pipeline import Pipeline\n",
    "from sklearn.linear_model import LogisticRegression\n",
    "from sklearn.preprocessing import OneHotEncoder\n",
    "from sklearn.ensemble import RandomForestClassifier\n",
    "from sklearn.dummy import DummyClassifier\n",
    "import matplotlib.pyplot as plt \n",
    "from sklearn.model_selection import train_test_split\n",
    "from imblearn.over_sampling import ADASYN\n",
    "import statsmodels.api as sm\n",
    "import seaborn as sns\n",
    "from collections import Counter\n",
    "import pickle as pkl"
   ]
  },
  {
   "cell_type": "markdown",
   "metadata": {},
   "source": [
    "=\n",
    "\n",
    "In the code below, I build a simple logistic regression to predict which demographic group is most likely to have their car searched following a traffic stop in San Francisco. The data is from the Stanford Policing Project. I believe this code sample demonstrates the important skill of data manipulation and wrangling. I am happy to provide more samples upon request.  \n",
    "\n",
    "=\n"
   ]
  },
  {
   "cell_type": "code",
   "execution_count": 33,
   "metadata": {},
   "outputs": [],
   "source": [
    "df = pd.read_csv('sf.csv')"
   ]
  },
  {
   "cell_type": "code",
   "execution_count": 5,
   "metadata": {},
   "outputs": [],
   "source": [
    "conditions = [\n",
    "    (df.subject_race == 'white') & (df.subject_sex == 'female'),\n",
    "    (df.subject_race == 'hispanic') & (df.subject_sex == 'female'),\n",
    "    (df.subject_race == 'black') & (df.subject_sex == 'female'),\n",
    "    (df.subject_race == 'asian/pacific islander') & (df.subject_sex == 'female'),\n",
    "    (df.subject_race == 'white') & (df.subject_sex == 'male'),\n",
    "    (df.subject_race == 'hispanic') & (df.subject_sex == 'male'),\n",
    "    (df.subject_race == 'black') & (df.subject_sex == 'male'),\n",
    "    (df.subject_race == 'asian/pacific islander') & (df.subject_sex == 'male')]\n",
    "choices = ['white_female', 'hispanic_female', 'black_female','asian_female',\n",
    "          'white_male', 'hispanic_male', 'black_male','asian_male']\n",
    "df['demographic'] = np.select(conditions, choices, default='other')"
   ]
  },
  {
   "cell_type": "code",
   "execution_count": 6,
   "metadata": {},
   "outputs": [
    {
     "data": {
      "text/plain": [
       "Index(['raw_row_number', 'date', 'time', 'location', 'lat', 'lng', 'district',\n",
       "       'subject_age', 'subject_race', 'subject_sex', 'type', 'arrest_made',\n",
       "       'citation_issued', 'warning_issued', 'outcome', 'contraband_found',\n",
       "       'search_conducted', 'search_vehicle', 'search_basis', 'reason_for_stop',\n",
       "       'raw_search_vehicle_description', 'raw_result_of_contact_description',\n",
       "       'demographic'],\n",
       "      dtype='object')"
      ]
     },
     "execution_count": 6,
     "metadata": {},
     "output_type": "execute_result"
    }
   ],
   "source": [
    "df.columns"
   ]
  },
  {
   "cell_type": "code",
   "execution_count": 7,
   "metadata": {},
   "outputs": [],
   "source": [
    "df2 = df[['subject_age','demographic']]"
   ]
  },
  {
   "cell_type": "code",
   "execution_count": 8,
   "metadata": {},
   "outputs": [],
   "source": [
    "df_to_mod_dummies = pd.get_dummies(df2.demographic)"
   ]
  },
  {
   "cell_type": "code",
   "execution_count": 9,
   "metadata": {},
   "outputs": [],
   "source": [
    "df_to_mod_dummies['age'] = df2.subject_age"
   ]
  },
  {
   "cell_type": "code",
   "execution_count": 10,
   "metadata": {},
   "outputs": [],
   "source": [
    "bin_ranges = [0, 18, 35, 45, 60, 75, 100]\n",
    "bin_names = [1, 2, 3, 4, 5, 6]"
   ]
  },
  {
   "cell_type": "code",
   "execution_count": 11,
   "metadata": {},
   "outputs": [],
   "source": [
    "df_to_mod_dummies['age_bin_custom_range'] = pd.cut(np.array(df_to_mod_dummies.age),bins=bin_ranges)\n",
    "df_to_mod_dummies['age_bin_custom_label'] = pd.cut(np.array(df_to_mod_dummies.age),bins=bin_ranges,labels=bin_names)"
   ]
  },
  {
   "cell_type": "code",
   "execution_count": 12,
   "metadata": {},
   "outputs": [
    {
     "data": {
      "text/plain": [
       "Index(['asian_female', 'asian_male', 'black_female', 'black_male',\n",
       "       'hispanic_female', 'hispanic_male', 'other', 'white_female',\n",
       "       'white_male', 'age', 'age_bin_custom_range', 'age_bin_custom_label'],\n",
       "      dtype='object')"
      ]
     },
     "execution_count": 12,
     "metadata": {},
     "output_type": "execute_result"
    }
   ],
   "source": [
    "df_to_mod_dummies.columns"
   ]
  },
  {
   "cell_type": "code",
   "execution_count": 34,
   "metadata": {},
   "outputs": [],
   "source": [
    "X = df_to_mod_dummies.dropna()\n",
    "X = X.drop('age',axis=1)\n",
    "X = X.drop('age_bin_custom_range',axis=1)\n",
    "y = df.search_conducted\n",
    "X = X.iloc[:5000,]\n",
    "y = y[:5000]"
   ]
  },
  {
   "cell_type": "code",
   "execution_count": 35,
   "metadata": {},
   "outputs": [
    {
     "name": "stdout",
     "output_type": "stream",
     "text": [
      "Original Target Variable Distribution: Counter({False: 4813, True: 187})\n"
     ]
    }
   ],
   "source": [
    "print('Original Target Variable Distribution:', Counter(y))"
   ]
  },
  {
   "cell_type": "code",
   "execution_count": 24,
   "metadata": {},
   "outputs": [],
   "source": [
    "X_train, X_test, y_train, y_test = train_test_split(X, y, test_size=0.33, random_state=46)"
   ]
  },
  {
   "cell_type": "code",
   "execution_count": 36,
   "metadata": {},
   "outputs": [],
   "source": [
    "ada = ADASYN(sampling_strategy='minority', random_state= 46 , n_neighbors = 4)"
   ]
  },
  {
   "cell_type": "code",
   "execution_count": 37,
   "metadata": {},
   "outputs": [],
   "source": [
    "X_res, y_res = ada.fit_resample(X,y)"
   ]
  },
  {
   "cell_type": "code",
   "execution_count": 38,
   "metadata": {},
   "outputs": [
    {
     "name": "stdout",
     "output_type": "stream",
     "text": [
      "Oversampled Target Variable Distribution: Counter({False: 4813, True: 4741})\n"
     ]
    }
   ],
   "source": [
    "print('Oversampled Target Variable Distribution:', Counter(y_res))"
   ]
  },
  {
   "cell_type": "code",
   "execution_count": 39,
   "metadata": {},
   "outputs": [
    {
     "data": {
      "text/plain": [
       "DummyClassifier(strategy='prior')"
      ]
     },
     "execution_count": 39,
     "metadata": {},
     "output_type": "execute_result"
    }
   ],
   "source": [
    "dummy_clf = DummyClassifier(strategy=\"prior\")\n",
    "dummy_clf.fit(X_res, y_res)"
   ]
  },
  {
   "cell_type": "code",
   "execution_count": 41,
   "metadata": {},
   "outputs": [
    {
     "data": {
      "text/plain": [
       "0.5037680552648105"
      ]
     },
     "execution_count": 41,
     "metadata": {},
     "output_type": "execute_result"
    }
   ],
   "source": [
    "dummy_clf.score(X_res,y_res)"
   ]
  },
  {
   "cell_type": "code",
   "execution_count": null,
   "metadata": {},
   "outputs": [],
   "source": [
    "clf = LogisticRegression(C=1000, class_weight={0:0.05,1:1},random_state=42, solver='liblinear').fit(X_train, y_train)"
   ]
  },
  {
   "cell_type": "code",
   "execution_count": null,
   "metadata": {},
   "outputs": [],
   "source": []
  },
  {
   "cell_type": "code",
   "execution_count": null,
   "metadata": {},
   "outputs": [],
   "source": [
    "clf.score(X_test,y_test)"
   ]
  },
  {
   "cell_type": "code",
   "execution_count": null,
   "metadata": {},
   "outputs": [],
   "source": [
    "np.exp(clf.coef_)"
   ]
  },
  {
   "cell_type": "markdown",
   "metadata": {},
   "source": [
    "        p       odds     logodds  \n",
    "      .001    .001001  -6.906755\n",
    "       .01    .010101   -4.59512\n",
    "       .15   .1764706  -1.734601\n",
    "        .2        .25  -1.386294\n",
    "       .25   .3333333  -1.098612\n",
    "        .3   .4285714  -.8472978\n",
    "       .35   .5384616  -.6190392\n",
    "        .4   .6666667  -.4054651\n",
    "       .45   .8181818  -.2006707\n",
    "        .5          1          0\n",
    "       .55   1.222222   .2006707\n",
    "        .6        1.5   .4054651\n",
    "       .65   1.857143   .6190392\n",
    "        .7   2.333333   .8472978\n",
    "       .75          3   1.098612\n",
    "        .8          4   1.386294\n",
    "       .85   5.666667   1.734601\n",
    "        .9          9   2.197225\n",
    "      .999        999   6.906755\n",
    "     .9999       9999    9.21024"
   ]
  },
  {
   "cell_type": "code",
   "execution_count": null,
   "metadata": {},
   "outputs": [],
   "source": [
    "original_variables = list(X)\n",
    "zipped_together = list(zip(original_variables, clf.coef_[0]))\n",
    "coefs = [list(x) for x in zipped_together]\n",
    "coefs = pd.DataFrame(coefs, columns=[\"Variable\", \"Coefficient\"])\n",
    "coefs.sort_values(by=[\"Coefficient\"], axis=0, inplace=True, ascending=False)\n",
    "coefs.drop_duplicates(keep=False)\n",
    "coefs"
   ]
  },
  {
   "cell_type": "code",
   "execution_count": null,
   "metadata": {},
   "outputs": [],
   "source": [
    "coefs.sort_index()"
   ]
  },
  {
   "cell_type": "code",
   "execution_count": null,
   "metadata": {},
   "outputs": [],
   "source": [
    "confusion_matrix(y_test,clf.predict(X_test))"
   ]
  },
  {
   "cell_type": "code",
   "execution_count": null,
   "metadata": {},
   "outputs": [],
   "source": [
    "sns.distplot()"
   ]
  },
  {
   "cell_type": "code",
   "execution_count": null,
   "metadata": {},
   "outputs": [],
   "source": [
    "sm_log_reg.cov_params()"
   ]
  },
  {
   "cell_type": "code",
   "execution_count": null,
   "metadata": {},
   "outputs": [],
   "source": [
    "sm_log_reg.summary()"
   ]
  },
  {
   "cell_type": "code",
   "execution_count": null,
   "metadata": {},
   "outputs": [],
   "source": []
  },
  {
   "cell_type": "code",
   "execution_count": null,
   "metadata": {},
   "outputs": [],
   "source": []
  }
 ],
 "metadata": {
  "kernelspec": {
   "display_name": "Python 3",
   "language": "python",
   "name": "python3"
  },
  "language_info": {
   "codemirror_mode": {
    "name": "ipython",
    "version": 3
   },
   "file_extension": ".py",
   "mimetype": "text/x-python",
   "name": "python",
   "nbconvert_exporter": "python",
   "pygments_lexer": "ipython3",
   "version": "3.7.4"
  }
 },
 "nbformat": 4,
 "nbformat_minor": 4
}
