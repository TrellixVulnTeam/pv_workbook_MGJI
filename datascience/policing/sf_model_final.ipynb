{
 "cells": [
  {
   "cell_type": "code",
   "execution_count": 93,
   "metadata": {},
   "outputs": [],
   "source": [
    "import pandas as pd\n",
    "import datetime\n",
    "import numpy as np\n",
    "from sklearn.pipeline import Pipeline\n",
    "from sklearn.linear_model import LogisticRegression\n",
    "from sklearn.preprocessing import OneHotEncoder\n",
    "from sklearn.impute import KNNImputer\n",
    "from sklearn.ensemble import RandomForestClassifier\n",
    "from sklearn.naive_bayes import ComplementNB\n",
    "import matplotlib.pyplot as plt \n",
    "from sklearn.model_selection import train_test_split\n",
    "from sklearn.inspection import plot_partial_dependence\n",
    "from sklearn.model_selection import GridSearchCV\n",
    "from sklearn.inspection import plot_partial_dependence\n",
    "import statsmodels.api as sm\n",
    "import seaborn as sns\n",
    "import pickle as pkl"
   ]
  },
  {
   "cell_type": "code",
   "execution_count": 48,
   "metadata": {},
   "outputs": [],
   "source": [
    "df = pd.read_csv('sf.csv')"
   ]
  },
  {
   "cell_type": "code",
   "execution_count": 49,
   "metadata": {},
   "outputs": [],
   "source": [
    "conditions = [\n",
    "    (df.subject_race == 'white') & (df.subject_sex == 'female'),\n",
    "    (df.subject_race == 'hispanic') & (df.subject_sex == 'female'),\n",
    "    (df.subject_race == 'black') & (df.subject_sex == 'female'),\n",
    "    (df.subject_race == 'asian/pacific islander') & (df.subject_sex == 'female'),\n",
    "    (df.subject_race == 'white') & (df.subject_sex == 'male'),\n",
    "    (df.subject_race == 'hispanic') & (df.subject_sex == 'male'),\n",
    "    (df.subject_race == 'black') & (df.subject_sex == 'male'),\n",
    "    (df.subject_race == 'asian/pacific islander') & (df.subject_sex == 'male')]\n",
    "choices = ['white_female', 'hispanic_female', 'black_female','asian_female',\n",
    "          'white_male', 'hispanic_male', 'black_male','asian_male']\n",
    "df['demographic'] = np.select(conditions, choices, default='other')"
   ]
  },
  {
   "cell_type": "code",
   "execution_count": 50,
   "metadata": {},
   "outputs": [
    {
     "data": {
      "text/plain": [
       "Index(['raw_row_number', 'date', 'time', 'location', 'lat', 'lng', 'district',\n",
       "       'subject_age', 'subject_race', 'subject_sex', 'type', 'arrest_made',\n",
       "       'citation_issued', 'warning_issued', 'outcome', 'contraband_found',\n",
       "       'search_conducted', 'search_vehicle', 'search_basis', 'reason_for_stop',\n",
       "       'raw_search_vehicle_description', 'raw_result_of_contact_description',\n",
       "       'demographic'],\n",
       "      dtype='object')"
      ]
     },
     "execution_count": 50,
     "metadata": {},
     "output_type": "execute_result"
    }
   ],
   "source": [
    "df.columns"
   ]
  },
  {
   "cell_type": "code",
   "execution_count": 51,
   "metadata": {},
   "outputs": [],
   "source": [
    "df_to_model = df[['subject_age','demographic']]\n",
    "target = df.arrest_made"
   ]
  },
  {
   "cell_type": "code",
   "execution_count": 62,
   "metadata": {},
   "outputs": [],
   "source": [
    "df_to_mod_dummies = pd.get_dummies(df_to_model.demographic)"
   ]
  },
  {
   "cell_type": "code",
   "execution_count": 63,
   "metadata": {},
   "outputs": [],
   "source": [
    "df_to_mod_dummies['age'] = df_to_model.subject_age"
   ]
  },
  {
   "cell_type": "code",
   "execution_count": 64,
   "metadata": {},
   "outputs": [
    {
     "data": {
      "text/plain": [
       "Index(['asian_female', 'asian_male', 'black_female', 'black_male',\n",
       "       'hispanic_female', 'hispanic_male', 'other', 'white_female',\n",
       "       'white_male', 'age'],\n",
       "      dtype='object')"
      ]
     },
     "execution_count": 64,
     "metadata": {},
     "output_type": "execute_result"
    }
   ],
   "source": [
    "df_to_mod_dummies.columns"
   ]
  },
  {
   "cell_type": "code",
   "execution_count": 81,
   "metadata": {},
   "outputs": [],
   "source": [
    "X = df_to_mod_dummies.dropna()\n",
    "y = target.dropna().sample(n=846182)"
   ]
  },
  {
   "cell_type": "code",
   "execution_count": 82,
   "metadata": {},
   "outputs": [],
   "source": [
    "X_train, X_test, y_train, y_test = train_test_split(X, y, test_size=0.25, random_state=0)"
   ]
  },
  {
   "cell_type": "code",
   "execution_count": 83,
   "metadata": {},
   "outputs": [],
   "source": [
    "clf = LogisticRegression(penalty='l1',random_state=42, solver='liblinear').fit(X_train, y_train)"
   ]
  },
  {
   "cell_type": "code",
   "execution_count": 84,
   "metadata": {},
   "outputs": [
    {
     "data": {
      "text/plain": [
       "0.9865419341419833"
      ]
     },
     "execution_count": 84,
     "metadata": {},
     "output_type": "execute_result"
    }
   ],
   "source": [
    "clf.score(X_test,y_test)"
   ]
  },
  {
   "cell_type": "code",
   "execution_count": 85,
   "metadata": {},
   "outputs": [
    {
     "data": {
      "text/plain": [
       "array([[0.11399577, 0.11785484, 0.11624654, 0.11292663, 0.1165236 ,\n",
       "        0.11749821, 0.11198771, 0.11482685, 0.11544204, 0.99822835]])"
      ]
     },
     "execution_count": 85,
     "metadata": {},
     "output_type": "execute_result"
    }
   ],
   "source": [
    "np.exp(clf.coef_)"
   ]
  },
  {
   "cell_type": "code",
   "execution_count": 86,
   "metadata": {},
   "outputs": [
    {
     "data": {
      "text/html": [
       "<div>\n",
       "<style scoped>\n",
       "    .dataframe tbody tr th:only-of-type {\n",
       "        vertical-align: middle;\n",
       "    }\n",
       "\n",
       "    .dataframe tbody tr th {\n",
       "        vertical-align: top;\n",
       "    }\n",
       "\n",
       "    .dataframe thead th {\n",
       "        text-align: right;\n",
       "    }\n",
       "</style>\n",
       "<table border=\"1\" class=\"dataframe\">\n",
       "  <thead>\n",
       "    <tr style=\"text-align: right;\">\n",
       "      <th></th>\n",
       "      <th>Variable</th>\n",
       "      <th>Coefficient</th>\n",
       "    </tr>\n",
       "  </thead>\n",
       "  <tbody>\n",
       "    <tr>\n",
       "      <td>9</td>\n",
       "      <td>age</td>\n",
       "      <td>-0.001773</td>\n",
       "    </tr>\n",
       "    <tr>\n",
       "      <td>1</td>\n",
       "      <td>asian_male</td>\n",
       "      <td>-2.138302</td>\n",
       "    </tr>\n",
       "    <tr>\n",
       "      <td>5</td>\n",
       "      <td>hispanic_male</td>\n",
       "      <td>-2.141332</td>\n",
       "    </tr>\n",
       "    <tr>\n",
       "      <td>4</td>\n",
       "      <td>hispanic_female</td>\n",
       "      <td>-2.149661</td>\n",
       "    </tr>\n",
       "    <tr>\n",
       "      <td>2</td>\n",
       "      <td>black_female</td>\n",
       "      <td>-2.152042</td>\n",
       "    </tr>\n",
       "    <tr>\n",
       "      <td>8</td>\n",
       "      <td>white_male</td>\n",
       "      <td>-2.158987</td>\n",
       "    </tr>\n",
       "    <tr>\n",
       "      <td>7</td>\n",
       "      <td>white_female</td>\n",
       "      <td>-2.164330</td>\n",
       "    </tr>\n",
       "    <tr>\n",
       "      <td>0</td>\n",
       "      <td>asian_female</td>\n",
       "      <td>-2.171594</td>\n",
       "    </tr>\n",
       "    <tr>\n",
       "      <td>3</td>\n",
       "      <td>black_male</td>\n",
       "      <td>-2.181017</td>\n",
       "    </tr>\n",
       "    <tr>\n",
       "      <td>6</td>\n",
       "      <td>other</td>\n",
       "      <td>-2.189366</td>\n",
       "    </tr>\n",
       "  </tbody>\n",
       "</table>\n",
       "</div>"
      ],
      "text/plain": [
       "          Variable  Coefficient\n",
       "9              age    -0.001773\n",
       "1       asian_male    -2.138302\n",
       "5    hispanic_male    -2.141332\n",
       "4  hispanic_female    -2.149661\n",
       "2     black_female    -2.152042\n",
       "8       white_male    -2.158987\n",
       "7     white_female    -2.164330\n",
       "0     asian_female    -2.171594\n",
       "3       black_male    -2.181017\n",
       "6            other    -2.189366"
      ]
     },
     "execution_count": 86,
     "metadata": {},
     "output_type": "execute_result"
    }
   ],
   "source": [
    "original_variables = list(X)\n",
    "zipped_together = list(zip(original_variables, clf.coef_[0]))\n",
    "coefs = [list(x) for x in zipped_together]\n",
    "coefs = pd.DataFrame(coefs, columns=[\"Variable\", \"Coefficient\"])\n",
    "coefs.sort_values(by=[\"Coefficient\"], axis=0, inplace=True, ascending=False)\n",
    "coefs.drop_duplicates(keep=False)\n",
    "coefs"
   ]
  },
  {
   "cell_type": "code",
   "execution_count": 87,
   "metadata": {},
   "outputs": [
    {
     "data": {
      "text/html": [
       "<div>\n",
       "<style scoped>\n",
       "    .dataframe tbody tr th:only-of-type {\n",
       "        vertical-align: middle;\n",
       "    }\n",
       "\n",
       "    .dataframe tbody tr th {\n",
       "        vertical-align: top;\n",
       "    }\n",
       "\n",
       "    .dataframe thead th {\n",
       "        text-align: right;\n",
       "    }\n",
       "</style>\n",
       "<table border=\"1\" class=\"dataframe\">\n",
       "  <thead>\n",
       "    <tr style=\"text-align: right;\">\n",
       "      <th></th>\n",
       "      <th>Variable</th>\n",
       "      <th>Coefficient</th>\n",
       "    </tr>\n",
       "  </thead>\n",
       "  <tbody>\n",
       "    <tr>\n",
       "      <td>0</td>\n",
       "      <td>asian_female</td>\n",
       "      <td>-2.171594</td>\n",
       "    </tr>\n",
       "    <tr>\n",
       "      <td>1</td>\n",
       "      <td>asian_male</td>\n",
       "      <td>-2.138302</td>\n",
       "    </tr>\n",
       "    <tr>\n",
       "      <td>2</td>\n",
       "      <td>black_female</td>\n",
       "      <td>-2.152042</td>\n",
       "    </tr>\n",
       "    <tr>\n",
       "      <td>3</td>\n",
       "      <td>black_male</td>\n",
       "      <td>-2.181017</td>\n",
       "    </tr>\n",
       "    <tr>\n",
       "      <td>4</td>\n",
       "      <td>hispanic_female</td>\n",
       "      <td>-2.149661</td>\n",
       "    </tr>\n",
       "    <tr>\n",
       "      <td>5</td>\n",
       "      <td>hispanic_male</td>\n",
       "      <td>-2.141332</td>\n",
       "    </tr>\n",
       "    <tr>\n",
       "      <td>6</td>\n",
       "      <td>other</td>\n",
       "      <td>-2.189366</td>\n",
       "    </tr>\n",
       "    <tr>\n",
       "      <td>7</td>\n",
       "      <td>white_female</td>\n",
       "      <td>-2.164330</td>\n",
       "    </tr>\n",
       "    <tr>\n",
       "      <td>8</td>\n",
       "      <td>white_male</td>\n",
       "      <td>-2.158987</td>\n",
       "    </tr>\n",
       "    <tr>\n",
       "      <td>9</td>\n",
       "      <td>age</td>\n",
       "      <td>-0.001773</td>\n",
       "    </tr>\n",
       "  </tbody>\n",
       "</table>\n",
       "</div>"
      ],
      "text/plain": [
       "          Variable  Coefficient\n",
       "0     asian_female    -2.171594\n",
       "1       asian_male    -2.138302\n",
       "2     black_female    -2.152042\n",
       "3       black_male    -2.181017\n",
       "4  hispanic_female    -2.149661\n",
       "5    hispanic_male    -2.141332\n",
       "6            other    -2.189366\n",
       "7     white_female    -2.164330\n",
       "8       white_male    -2.158987\n",
       "9              age    -0.001773"
      ]
     },
     "execution_count": 87,
     "metadata": {},
     "output_type": "execute_result"
    }
   ],
   "source": [
    "coefs.sort_index()"
   ]
  },
  {
   "cell_type": "code",
   "execution_count": 90,
   "metadata": {},
   "outputs": [
    {
     "data": {
      "text/plain": [
       "No Search                                                                                                                   851482\n",
       "Vehicle Inventory, Negative Result                                                                                           19154\n",
       "Searched as a result of Probation or Parole Condition                                                                        13800\n",
       "Search without Consent, Positive Result                                                                                       6179\n",
       "Search Incident to Arrest, Negative Result                                                                                    4255\n",
       "Search with Consent, Negative Result                                                                                          4175\n",
       "Search without Consent, Negative Result                                                                                       4011\n",
       "Search Incident to Arrest, Positive Result                                                                                     833\n",
       "Search with Consent, Positive Result                                                                                           526\n",
       "Vehicle Inventory, Positive Result                                                                                             434\n",
       "No Search|Vehicle Inventory, Negative Result                                                                                    80\n",
       "Searched as a result of Probation or Parole Condition|No Search                                                                 44\n",
       "No Search|Search without Consent, Positive Result                                                                               20\n",
       "No Search|Search with Consent, Negative Result                                                                                  14\n",
       "No Search|Search Incident to Arrest, Negative Result                                                                            11\n",
       "Search without Consent, Negative Result|No Search                                                                                9\n",
       "Search without Consent, Positive Result|No Search                                                                                7\n",
       "No Search|Search without Consent, Negative Result                                                                                7\n",
       "Search Incident to Arrest, Negative Result|Vehicle Inventory, Negative Result                                                    3\n",
       "Vehicle Inventory, Negative Result|No Search                                                                                     3\n",
       "No Search|No Search|Vehicle Inventory, Negative Result                                                                           3\n",
       "No Search|Searched as a result of Probation or Parole Condition                                                                  3\n",
       "No Search|Search Incident to Arrest, Positive Result                                                                             2\n",
       "Searched as a result of Probation or Parole Condition|Search without Consent, Negative Result                                    2\n",
       "Search with Consent, Negative Result|No Search                                                                                   2\n",
       "Search Incident to Arrest, Negative Result|Vehicle Inventory, Negative Result|Vehicle Inventory, Negative Result                 1\n",
       "Search with Consent, Negative Result|Vehicle Inventory, Negative Result                                                          1\n",
       "Search Incident to Arrest, Negative Result|No Search                                                                             1\n",
       "Search Incident to Arrest, Positive Result|Search Incident to Arrest, Negative Result                                            1\n",
       "No Search|Vehicle Inventory, Positive Result                                                                                     1\n",
       "Search without Consent, Negative Result|Search with Consent, Negative Result                                                     1\n",
       "Searched as a result of Probation or Parole Condition|Search with Consent, Positive Result                                       1\n",
       "Search Incident to Arrest, Negative Result|Search Incident to Arrest, Negative Result|Vehicle Inventory, Negative Result         1\n",
       "Searched as a result of Probation or Parole Condition|Vehicle Inventory, Negative Result                                         1\n",
       "Search without Consent, Negative Result|Search with Consent, Positive Result                                                     1\n",
       "Search without Consent, Positive Result|Search without Consent, Negative Result                                                  1\n",
       "Name: raw_search_vehicle_description, dtype: int64"
      ]
     },
     "execution_count": 90,
     "metadata": {},
     "output_type": "execute_result"
    }
   ],
   "source": [
    "df.raw_search_vehicle_description.value_counts()"
   ]
  },
  {
   "cell_type": "code",
   "execution_count": 91,
   "metadata": {},
   "outputs": [],
   "source": [
    "consent = df[df.raw_search_vehicle_description == 'Search with Consent, Positive Result'] "
   ]
  },
  {
   "cell_type": "code",
   "execution_count": 94,
   "metadata": {},
   "outputs": [
    {
     "data": {
      "text/html": [
       "<div>\n",
       "<style scoped>\n",
       "    .dataframe tbody tr th:only-of-type {\n",
       "        vertical-align: middle;\n",
       "    }\n",
       "\n",
       "    .dataframe tbody tr th {\n",
       "        vertical-align: top;\n",
       "    }\n",
       "\n",
       "    .dataframe thead tr th {\n",
       "        text-align: left;\n",
       "    }\n",
       "\n",
       "    .dataframe thead tr:last-of-type th {\n",
       "        text-align: right;\n",
       "    }\n",
       "</style>\n",
       "<table border=\"1\" class=\"dataframe\">\n",
       "  <thead>\n",
       "    <tr>\n",
       "      <th></th>\n",
       "      <th colspan=\"2\" halign=\"left\">lat</th>\n",
       "      <th colspan=\"2\" halign=\"left\">lng</th>\n",
       "      <th colspan=\"2\" halign=\"left\">subject_age</th>\n",
       "      <th colspan=\"2\" halign=\"left\">citation_issued</th>\n",
       "      <th colspan=\"2\" halign=\"left\">warning_issued</th>\n",
       "      <th colspan=\"2\" halign=\"left\">search_conducted</th>\n",
       "    </tr>\n",
       "    <tr>\n",
       "      <th>arrest_made</th>\n",
       "      <th>False</th>\n",
       "      <th>True</th>\n",
       "      <th>False</th>\n",
       "      <th>True</th>\n",
       "      <th>False</th>\n",
       "      <th>True</th>\n",
       "      <th>False</th>\n",
       "      <th>True</th>\n",
       "      <th>False</th>\n",
       "      <th>True</th>\n",
       "      <th>False</th>\n",
       "      <th>True</th>\n",
       "    </tr>\n",
       "    <tr>\n",
       "      <th>search_vehicle</th>\n",
       "      <th></th>\n",
       "      <th></th>\n",
       "      <th></th>\n",
       "      <th></th>\n",
       "      <th></th>\n",
       "      <th></th>\n",
       "      <th></th>\n",
       "      <th></th>\n",
       "      <th></th>\n",
       "      <th></th>\n",
       "      <th></th>\n",
       "      <th></th>\n",
       "    </tr>\n",
       "  </thead>\n",
       "  <tbody>\n",
       "    <tr>\n",
       "      <td>False</td>\n",
       "      <td>37.763165</td>\n",
       "      <td>37.762670</td>\n",
       "      <td>-122.429955</td>\n",
       "      <td>-122.429593</td>\n",
       "      <td>38.193775</td>\n",
       "      <td>35.955227</td>\n",
       "      <td>0.717611</td>\n",
       "      <td>0.010789</td>\n",
       "      <td>0.274607</td>\n",
       "      <td>0.001481</td>\n",
       "      <td>0.0</td>\n",
       "      <td>0.0</td>\n",
       "    </tr>\n",
       "    <tr>\n",
       "      <td>True</td>\n",
       "      <td>37.757894</td>\n",
       "      <td>37.758115</td>\n",
       "      <td>-122.417417</td>\n",
       "      <td>-122.422426</td>\n",
       "      <td>31.877569</td>\n",
       "      <td>33.683059</td>\n",
       "      <td>0.515623</td>\n",
       "      <td>0.000972</td>\n",
       "      <td>0.293030</td>\n",
       "      <td>0.000278</td>\n",
       "      <td>1.0</td>\n",
       "      <td>1.0</td>\n",
       "    </tr>\n",
       "  </tbody>\n",
       "</table>\n",
       "</div>"
      ],
      "text/plain": [
       "                      lat                    lng             subject_age  \\\n",
       "arrest_made         False      True        False       True        False   \n",
       "search_vehicle                                                             \n",
       "False           37.763165  37.762670 -122.429955 -122.429593   38.193775   \n",
       "True            37.757894  37.758115 -122.417417 -122.422426   31.877569   \n",
       "\n",
       "                          citation_issued           warning_issued            \\\n",
       "arrest_made         True            False     True           False     True    \n",
       "search_vehicle                                                                 \n",
       "False           35.955227        0.717611  0.010789       0.274607  0.001481   \n",
       "True            33.683059        0.515623  0.000972       0.293030  0.000278   \n",
       "\n",
       "               search_conducted        \n",
       "arrest_made               False True   \n",
       "search_vehicle                         \n",
       "False                       0.0   0.0  \n",
       "True                        1.0   1.0  "
      ]
     },
     "execution_count": 94,
     "metadata": {},
     "output_type": "execute_result"
    }
   ],
   "source": [
    "df.groupby(['search_vehicle','arrest_made']).mean().unstack()"
   ]
  },
  {
   "cell_type": "code",
   "execution_count": 97,
   "metadata": {},
   "outputs": [
    {
     "data": {
      "image/png": "[encoded data removed]",
      "text/plain": [
       "<Figure size 864x576 with 4 Axes>"
      ]
     },
     "metadata": {
      "needs_background": "light"
     },
     "output_type": "display_data"
    }
   ],
   "source": [
    "g = sns.factorplot(x='arrest_made', row='search_vehicle', col='search_conducted', data=df,\n",
    "               kind='count', size=4, aspect=1.5)"
   ]
  },
  {
   "cell_type": "code",
   "execution_count": 112,
   "metadata": {},
   "outputs": [],
   "source": [
    "blk_total = df[df.subject_race == 'black']"
   ]
  },
  {
   "cell_type": "code",
   "execution_count": 113,
   "metadata": {},
   "outputs": [
    {
     "data": {
      "text/plain": [
       "(152196, 23)"
      ]
     },
     "execution_count": 113,
     "metadata": {},
     "output_type": "execute_result"
    }
   ],
   "source": [
    "blk_total.shape"
   ]
  },
  {
   "cell_type": "code",
   "execution_count": 114,
   "metadata": {},
   "outputs": [],
   "source": [
    "searched = df[df.search_conducted == True]"
   ]
  },
  {
   "cell_type": "code",
   "execution_count": 128,
   "metadata": {},
   "outputs": [],
   "source": [
    "blk_searched = searched[searched.subject_race == 'black']\n",
    "wht_searched = searched[searched.subject_race == 'white']"
   ]
  },
  {
   "cell_type": "code",
   "execution_count": 130,
   "metadata": {},
   "outputs": [
    {
     "data": {
      "text/plain": [
       "(23622, 23)"
      ]
     },
     "execution_count": 130,
     "metadata": {},
     "output_type": "execute_result"
    }
   ],
   "source": [
    "blk_searched.shape"
   ]
  },
  {
   "cell_type": "code",
   "execution_count": 131,
   "metadata": {},
   "outputs": [
    {
     "data": {
      "text/plain": [
       "(11707, 23)"
      ]
     },
     "execution_count": 131,
     "metadata": {},
     "output_type": "execute_result"
    }
   ],
   "source": [
    "wht_searched.shape"
   ]
  },
  {
   "cell_type": "code",
   "execution_count": 133,
   "metadata": {},
   "outputs": [
    {
     "data": {
      "text/plain": [
       "0.15520775841677836"
      ]
     },
     "execution_count": 133,
     "metadata": {},
     "output_type": "execute_result"
    }
   ],
   "source": [
    "23622 / 152196"
   ]
  },
  {
   "cell_type": "code",
   "execution_count": 134,
   "metadata": {},
   "outputs": [
    {
     "data": {
      "text/plain": [
       "0.0769205498173408"
      ]
     },
     "execution_count": 134,
     "metadata": {},
     "output_type": "execute_result"
    }
   ],
   "source": [
    "11707 / 152196"
   ]
  },
  {
   "cell_type": "code",
   "execution_count": 118,
   "metadata": {},
   "outputs": [
    {
     "data": {
      "text/plain": [
       "citation    10251\n",
       "warning      8019\n",
       "arrest       2573\n",
       "Name: outcome, dtype: int64"
      ]
     },
     "execution_count": 118,
     "metadata": {},
     "output_type": "execute_result"
    }
   ],
   "source": [
    "blk_searched.outcome.value_counts()"
   ]
  },
  {
   "cell_type": "code",
   "execution_count": 136,
   "metadata": {},
   "outputs": [
    {
     "data": {
      "text/plain": [
       "citation    5493\n",
       "warning     2288\n",
       "arrest      2071\n",
       "Name: outcome, dtype: int64"
      ]
     },
     "execution_count": 136,
     "metadata": {},
     "output_type": "execute_result"
    }
   ],
   "source": [
    "wht_searched.outcome.value_counts()"
   ]
  },
  {
   "cell_type": "code",
   "execution_count": 137,
   "metadata": {},
   "outputs": [
    {
     "data": {
      "text/plain": [
       "0.17690270778166908"
      ]
     },
     "execution_count": 137,
     "metadata": {},
     "output_type": "execute_result"
    }
   ],
   "source": [
    "2071 / 11707"
   ]
  },
  {
   "cell_type": "code",
   "execution_count": 119,
   "metadata": {},
   "outputs": [
    {
     "data": {
      "text/plain": [
       "0.1089238845144357"
      ]
     },
     "execution_count": 119,
     "metadata": {},
     "output_type": "execute_result"
    }
   ],
   "source": [
    "2573 / 23622"
   ]
  },
  {
   "cell_type": "code",
   "execution_count": 120,
   "metadata": {},
   "outputs": [],
   "source": [
    "P = np.asarray([.16, .84, .11, .89]).reshape(2,2)"
   ]
  },
  {
   "cell_type": "code",
   "execution_count": 122,
   "metadata": {},
   "outputs": [],
   "source": [
    "step_one = [1,0]"
   ]
  },
  {
   "cell_type": "code",
   "execution_count": 123,
   "metadata": {},
   "outputs": [],
   "source": [
    "step_two = np.dot(step_one, P)"
   ]
  },
  {
   "cell_type": "code",
   "execution_count": 124,
   "metadata": {},
   "outputs": [
    {
     "data": {
      "text/plain": [
       "array([0.16, 0.84])"
      ]
     },
     "execution_count": 124,
     "metadata": {},
     "output_type": "execute_result"
    }
   ],
   "source": [
    "step_two"
   ]
  },
  {
   "cell_type": "code",
   "execution_count": 125,
   "metadata": {},
   "outputs": [],
   "source": [
    "steady = np.dot(step_one, np.linalg.matrix_power(P,100))"
   ]
  },
  {
   "cell_type": "code",
   "execution_count": 126,
   "metadata": {},
   "outputs": [
    {
     "data": {
      "text/plain": [
       "array([0.11578947, 0.88421053])"
      ]
     },
     "execution_count": 126,
     "metadata": {},
     "output_type": "execute_result"
    }
   ],
   "source": [
    "steady"
   ]
  },
  {
   "cell_type": "code",
   "execution_count": 138,
   "metadata": {},
   "outputs": [],
   "source": [
    "X = np.asarray([.8, .92, .18, .82]).reshape(2,2)"
   ]
  },
  {
   "cell_type": "code",
   "execution_count": 142,
   "metadata": {},
   "outputs": [],
   "source": [
    "first_step = [1,0]"
   ]
  },
  {
   "cell_type": "code",
   "execution_count": 143,
   "metadata": {},
   "outputs": [],
   "source": [
    "steady_w = np.dot(first_step, np.linalg.matrix_power(X,100))"
   ]
  },
  {
   "cell_type": "code",
   "execution_count": 144,
   "metadata": {},
   "outputs": [
    {
     "data": {
      "text/plain": [
       "array([1.65752929e+08, 3.84051977e+08])"
      ]
     },
     "execution_count": 144,
     "metadata": {},
     "output_type": "execute_result"
    }
   ],
   "source": [
    "steady_w"
   ]
  },
  {
   "cell_type": "code",
   "execution_count": null,
   "metadata": {},
   "outputs": [],
   "source": []
  }
 ],
 "metadata": {
  "kernelspec": {
   "display_name": "Python 3",
   "language": "python",
   "name": "python3"
  },
  "language_info": {
   "codemirror_mode": {
    "name": "ipython",
    "version": 3
   },
   "file_extension": ".py",
   "mimetype": "text/x-python",
   "name": "python",
   "nbconvert_exporter": "python",
   "pygments_lexer": "ipython3",
   "version": "3.7.4"
  }
 },
 "nbformat": 4,
 "nbformat_minor": 4
}
