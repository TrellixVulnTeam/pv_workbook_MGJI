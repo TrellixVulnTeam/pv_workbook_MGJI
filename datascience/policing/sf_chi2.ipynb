{
 "cells": [
  {
   "cell_type": "code",
   "execution_count": 1,
   "metadata": {},
   "outputs": [],
   "source": [
    "import pandas as pd\n",
    "from scipy.stats import chi2_contingency"
   ]
  },
  {
   "cell_type": "code",
   "execution_count": 6,
   "metadata": {},
   "outputs": [
    {
     "name": "stderr",
     "output_type": "stream",
     "text": [
      "/Users/toddhendricks/miniconda3/lib/python3.7/site-packages/IPython/core/interactiveshell.py:3063: DtypeWarning: Columns (6) have mixed types.Specify dtype option on import or set low_memory=False.\n",
      "  interactivity=interactivity, compiler=compiler, result=result)\n"
     ]
    }
   ],
   "source": [
    "df = pd.read_csv('sf.csv')"
   ]
  },
  {
   "cell_type": "code",
   "execution_count": 7,
   "metadata": {},
   "outputs": [
    {
     "data": {
      "text/html": [
       "<div>\n",
       "<style scoped>\n",
       "    .dataframe tbody tr th:only-of-type {\n",
       "        vertical-align: middle;\n",
       "    }\n",
       "\n",
       "    .dataframe tbody tr th {\n",
       "        vertical-align: top;\n",
       "    }\n",
       "\n",
       "    .dataframe thead th {\n",
       "        text-align: right;\n",
       "    }\n",
       "</style>\n",
       "<table border=\"1\" class=\"dataframe\">\n",
       "  <thead>\n",
       "    <tr style=\"text-align: right;\">\n",
       "      <th></th>\n",
       "      <th>raw_row_number</th>\n",
       "      <th>date</th>\n",
       "      <th>time</th>\n",
       "      <th>location</th>\n",
       "      <th>lat</th>\n",
       "      <th>lng</th>\n",
       "      <th>district</th>\n",
       "      <th>subject_age</th>\n",
       "      <th>subject_race</th>\n",
       "      <th>subject_sex</th>\n",
       "      <th>...</th>\n",
       "      <th>citation_issued</th>\n",
       "      <th>warning_issued</th>\n",
       "      <th>outcome</th>\n",
       "      <th>contraband_found</th>\n",
       "      <th>search_conducted</th>\n",
       "      <th>search_vehicle</th>\n",
       "      <th>search_basis</th>\n",
       "      <th>reason_for_stop</th>\n",
       "      <th>raw_search_vehicle_description</th>\n",
       "      <th>raw_result_of_contact_description</th>\n",
       "    </tr>\n",
       "  </thead>\n",
       "  <tbody>\n",
       "    <tr>\n",
       "      <th>0</th>\n",
       "      <td>869921</td>\n",
       "      <td>2014-08-01</td>\n",
       "      <td>00:01:00</td>\n",
       "      <td>MASONIC AV &amp; FELL ST</td>\n",
       "      <td>37.773004</td>\n",
       "      <td>-122.445873</td>\n",
       "      <td>NaN</td>\n",
       "      <td>NaN</td>\n",
       "      <td>asian/pacific islander</td>\n",
       "      <td>female</td>\n",
       "      <td>...</td>\n",
       "      <td>False</td>\n",
       "      <td>True</td>\n",
       "      <td>warning</td>\n",
       "      <td>NaN</td>\n",
       "      <td>False</td>\n",
       "      <td>False</td>\n",
       "      <td>NaN</td>\n",
       "      <td>Mechanical or Non-Moving Violation (V.C.)</td>\n",
       "      <td>No Search</td>\n",
       "      <td>Warning</td>\n",
       "    </tr>\n",
       "    <tr>\n",
       "      <th>1</th>\n",
       "      <td>869922</td>\n",
       "      <td>2014-08-01</td>\n",
       "      <td>00:01:00</td>\n",
       "      <td>GEARY&amp;10TH AV</td>\n",
       "      <td>37.780898</td>\n",
       "      <td>-122.468586</td>\n",
       "      <td>NaN</td>\n",
       "      <td>NaN</td>\n",
       "      <td>black</td>\n",
       "      <td>male</td>\n",
       "      <td>...</td>\n",
       "      <td>True</td>\n",
       "      <td>False</td>\n",
       "      <td>citation</td>\n",
       "      <td>NaN</td>\n",
       "      <td>False</td>\n",
       "      <td>False</td>\n",
       "      <td>NaN</td>\n",
       "      <td>Mechanical or Non-Moving Violation (V.C.)</td>\n",
       "      <td>No Search</td>\n",
       "      <td>Citation</td>\n",
       "    </tr>\n",
       "    <tr>\n",
       "      <th>2</th>\n",
       "      <td>869923</td>\n",
       "      <td>2014-08-01</td>\n",
       "      <td>00:15:00</td>\n",
       "      <td>SUTTER N OCTAVIA ST</td>\n",
       "      <td>37.786919</td>\n",
       "      <td>-122.426718</td>\n",
       "      <td>NaN</td>\n",
       "      <td>NaN</td>\n",
       "      <td>hispanic</td>\n",
       "      <td>male</td>\n",
       "      <td>...</td>\n",
       "      <td>True</td>\n",
       "      <td>False</td>\n",
       "      <td>citation</td>\n",
       "      <td>NaN</td>\n",
       "      <td>False</td>\n",
       "      <td>False</td>\n",
       "      <td>NaN</td>\n",
       "      <td>Mechanical or Non-Moving Violation (V.C.)</td>\n",
       "      <td>No Search</td>\n",
       "      <td>Citation</td>\n",
       "    </tr>\n",
       "    <tr>\n",
       "      <th>3</th>\n",
       "      <td>869924</td>\n",
       "      <td>2014-08-01</td>\n",
       "      <td>00:18:00</td>\n",
       "      <td>3RD ST &amp; DAVIDSON</td>\n",
       "      <td>37.746380</td>\n",
       "      <td>-122.392005</td>\n",
       "      <td>NaN</td>\n",
       "      <td>NaN</td>\n",
       "      <td>hispanic</td>\n",
       "      <td>male</td>\n",
       "      <td>...</td>\n",
       "      <td>False</td>\n",
       "      <td>True</td>\n",
       "      <td>warning</td>\n",
       "      <td>NaN</td>\n",
       "      <td>False</td>\n",
       "      <td>False</td>\n",
       "      <td>NaN</td>\n",
       "      <td>Mechanical or Non-Moving Violation (V.C.)</td>\n",
       "      <td>No Search</td>\n",
       "      <td>Warning</td>\n",
       "    </tr>\n",
       "    <tr>\n",
       "      <th>4</th>\n",
       "      <td>869925</td>\n",
       "      <td>2014-08-01</td>\n",
       "      <td>00:19:00</td>\n",
       "      <td>DIVISADERO ST. &amp; BUSH ST.</td>\n",
       "      <td>37.786348</td>\n",
       "      <td>-122.440003</td>\n",
       "      <td>NaN</td>\n",
       "      <td>NaN</td>\n",
       "      <td>white</td>\n",
       "      <td>male</td>\n",
       "      <td>...</td>\n",
       "      <td>True</td>\n",
       "      <td>False</td>\n",
       "      <td>citation</td>\n",
       "      <td>NaN</td>\n",
       "      <td>False</td>\n",
       "      <td>False</td>\n",
       "      <td>NaN</td>\n",
       "      <td>Mechanical or Non-Moving Violation (V.C.)</td>\n",
       "      <td>No Search</td>\n",
       "      <td>Citation</td>\n",
       "    </tr>\n",
       "  </tbody>\n",
       "</table>\n",
       "<p>5 rows × 22 columns</p>\n",
       "</div>"
      ],
      "text/plain": [
       "  raw_row_number        date      time                   location        lat  \\\n",
       "0         869921  2014-08-01  00:01:00       MASONIC AV & FELL ST  37.773004   \n",
       "1         869922  2014-08-01  00:01:00              GEARY&10TH AV  37.780898   \n",
       "2         869923  2014-08-01  00:15:00        SUTTER N OCTAVIA ST  37.786919   \n",
       "3         869924  2014-08-01  00:18:00          3RD ST & DAVIDSON  37.746380   \n",
       "4         869925  2014-08-01  00:19:00  DIVISADERO ST. & BUSH ST.  37.786348   \n",
       "\n",
       "          lng district  subject_age            subject_race subject_sex  ...  \\\n",
       "0 -122.445873      NaN          NaN  asian/pacific islander      female  ...   \n",
       "1 -122.468586      NaN          NaN                   black        male  ...   \n",
       "2 -122.426718      NaN          NaN                hispanic        male  ...   \n",
       "3 -122.392005      NaN          NaN                hispanic        male  ...   \n",
       "4 -122.440003      NaN          NaN                   white        male  ...   \n",
       "\n",
       "  citation_issued  warning_issued   outcome  contraband_found  \\\n",
       "0           False            True   warning               NaN   \n",
       "1            True           False  citation               NaN   \n",
       "2            True           False  citation               NaN   \n",
       "3           False            True   warning               NaN   \n",
       "4            True           False  citation               NaN   \n",
       "\n",
       "  search_conducted search_vehicle  search_basis  \\\n",
       "0            False          False           NaN   \n",
       "1            False          False           NaN   \n",
       "2            False          False           NaN   \n",
       "3            False          False           NaN   \n",
       "4            False          False           NaN   \n",
       "\n",
       "                             reason_for_stop raw_search_vehicle_description  \\\n",
       "0  Mechanical or Non-Moving Violation (V.C.)                      No Search   \n",
       "1  Mechanical or Non-Moving Violation (V.C.)                      No Search   \n",
       "2  Mechanical or Non-Moving Violation (V.C.)                      No Search   \n",
       "3  Mechanical or Non-Moving Violation (V.C.)                      No Search   \n",
       "4  Mechanical or Non-Moving Violation (V.C.)                      No Search   \n",
       "\n",
       "  raw_result_of_contact_description  \n",
       "0                           Warning  \n",
       "1                          Citation  \n",
       "2                          Citation  \n",
       "3                           Warning  \n",
       "4                          Citation  \n",
       "\n",
       "[5 rows x 22 columns]"
      ]
     },
     "execution_count": 7,
     "metadata": {},
     "output_type": "execute_result"
    }
   ],
   "source": [
    "df.head(5)"
   ]
  },
  {
   "cell_type": "code",
   "execution_count": 8,
   "metadata": {},
   "outputs": [
    {
     "data": {
      "text/plain": [
       "(905070, 22)"
      ]
     },
     "execution_count": 8,
     "metadata": {},
     "output_type": "execute_result"
    }
   ],
   "source": [
    "df.shape"
   ]
  },
  {
   "cell_type": "code",
   "execution_count": 38,
   "metadata": {},
   "outputs": [],
   "source": [
    "outcome_by_race = pd.crosstab(df.subject_race,df.outcome)"
   ]
  },
  {
   "cell_type": "code",
   "execution_count": 44,
   "metadata": {},
   "outputs": [
    {
     "data": {
      "text/html": [
       "<div>\n",
       "<style scoped>\n",
       "    .dataframe tbody tr th:only-of-type {\n",
       "        vertical-align: middle;\n",
       "    }\n",
       "\n",
       "    .dataframe tbody tr th {\n",
       "        vertical-align: top;\n",
       "    }\n",
       "\n",
       "    .dataframe thead th {\n",
       "        text-align: right;\n",
       "    }\n",
       "</style>\n",
       "<table border=\"1\" class=\"dataframe\">\n",
       "  <thead>\n",
       "    <tr style=\"text-align: right;\">\n",
       "      <th>outcome</th>\n",
       "      <th>arrest</th>\n",
       "      <th>citation</th>\n",
       "      <th>warning</th>\n",
       "    </tr>\n",
       "    <tr>\n",
       "      <th>subject_race</th>\n",
       "      <th></th>\n",
       "      <th></th>\n",
       "      <th></th>\n",
       "    </tr>\n",
       "  </thead>\n",
       "  <tbody>\n",
       "    <tr>\n",
       "      <th>asian/pacific islander</th>\n",
       "      <td>1221</td>\n",
       "      <td>123464</td>\n",
       "      <td>32039</td>\n",
       "    </tr>\n",
       "    <tr>\n",
       "      <th>black</th>\n",
       "      <td>3540</td>\n",
       "      <td>83635</td>\n",
       "      <td>60744</td>\n",
       "    </tr>\n",
       "    <tr>\n",
       "      <th>hispanic</th>\n",
       "      <td>2284</td>\n",
       "      <td>77355</td>\n",
       "      <td>31432</td>\n",
       "    </tr>\n",
       "    <tr>\n",
       "      <th>other</th>\n",
       "      <td>910</td>\n",
       "      <td>81438</td>\n",
       "      <td>22830</td>\n",
       "    </tr>\n",
       "    <tr>\n",
       "      <th>white</th>\n",
       "      <td>3970</td>\n",
       "      <td>265710</td>\n",
       "      <td>98817</td>\n",
       "    </tr>\n",
       "  </tbody>\n",
       "</table>\n",
       "</div>"
      ],
      "text/plain": [
       "outcome                 arrest  citation  warning\n",
       "subject_race                                     \n",
       "asian/pacific islander    1221    123464    32039\n",
       "black                     3540     83635    60744\n",
       "hispanic                  2284     77355    31432\n",
       "other                      910     81438    22830\n",
       "white                     3970    265710    98817"
      ]
     },
     "execution_count": 44,
     "metadata": {},
     "output_type": "execute_result"
    }
   ],
   "source": [
    "outcome_by_race"
   ]
  },
  {
   "cell_type": "code",
   "execution_count": 55,
   "metadata": {},
   "outputs": [
    {
     "data": {
      "text/plain": [
       "array([[  3540,  83635,  60744],\n",
       "       [  3970, 265710,  98817]])"
      ]
     },
     "execution_count": 55,
     "metadata": {},
     "output_type": "execute_result"
    }
   ],
   "source": [
    "b = outcome_by_race.loc['black']\n",
    "w = outcome_by_race.loc['white']\n",
    "obs = np.array([b,w])\n",
    "obs"
   ]
  },
  {
   "cell_type": "code",
   "execution_count": 56,
   "metadata": {},
   "outputs": [
    {
     "data": {
      "text/plain": [
       "(11973.28378614793,\n",
       " 0.0,\n",
       " 2,\n",
       " array([[  2151.11787783, 100064.21771401,  45703.66440815],\n",
       "        [  5358.88212217, 249280.78228599, 113857.33559185]]))"
      ]
     },
     "execution_count": 56,
     "metadata": {},
     "output_type": "execute_result"
    }
   ],
   "source": [
    "chi2_contingency(obs)"
   ]
  },
  {
   "cell_type": "code",
   "execution_count": 42,
   "metadata": {},
   "outputs": [
    {
     "data": {
      "text/plain": [
       "0.0"
      ]
     },
     "execution_count": 42,
     "metadata": {},
     "output_type": "execute_result"
    }
   ],
   "source": [
    "chi2"
   ]
  },
  {
   "cell_type": "code",
   "execution_count": null,
   "metadata": {},
   "outputs": [],
   "source": []
  }
 ],
 "metadata": {
  "kernelspec": {
   "display_name": "Python 3",
   "language": "python",
   "name": "python3"
  },
  "language_info": {
   "codemirror_mode": {
    "name": "ipython",
    "version": 3
   },
   "file_extension": ".py",
   "mimetype": "text/x-python",
   "name": "python",
   "nbconvert_exporter": "python",
   "pygments_lexer": "ipython3",
   "version": "3.7.6"
  },
  "varInspector": {
   "cols": {
    "lenName": 16,
    "lenType": 16,
    "lenVar": 40
   },
   "kernels_config": {
    "python": {
     "delete_cmd_postfix": "",
     "delete_cmd_prefix": "del ",
     "library": "var_list.py",
     "varRefreshCmd": "print(var_dic_list())"
    },
    "r": {
     "delete_cmd_postfix": ") ",
     "delete_cmd_prefix": "rm(",
     "library": "var_list.r",
     "varRefreshCmd": "cat(var_dic_list()) "
    }
   },
   "types_to_exclude": [
    "module",
    "function",
    "builtin_function_or_method",
    "instance",
    "_Feature"
   ],
   "window_display": false
  }
 },
 "nbformat": 4,
 "nbformat_minor": 4
}
