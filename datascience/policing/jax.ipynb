{
 "cells": [
  {
   "cell_type": "code",
   "execution_count": 16,
   "metadata": {},
   "outputs": [],
   "source": [
    "import pandas as pd\n",
    "import seaborn as sns"
   ]
  },
  {
   "cell_type": "code",
   "execution_count": 2,
   "metadata": {},
   "outputs": [],
   "source": [
    "df = pd.read_csv('/Users/toddhendricks/Downloads/Exported Data.csv')"
   ]
  },
  {
   "cell_type": "code",
   "execution_count": 5,
   "metadata": {},
   "outputs": [
    {
     "data": {
      "text/html": [
       "<div>\n",
       "<style scoped>\n",
       "    .dataframe tbody tr th:only-of-type {\n",
       "        vertical-align: middle;\n",
       "    }\n",
       "\n",
       "    .dataframe tbody tr th {\n",
       "        vertical-align: top;\n",
       "    }\n",
       "\n",
       "    .dataframe thead th {\n",
       "        text-align: right;\n",
       "    }\n",
       "</style>\n",
       "<table border=\"1\" class=\"dataframe\">\n",
       "  <thead>\n",
       "    <tr style=\"text-align: right;\">\n",
       "      <th></th>\n",
       "      <th>IncidentDate</th>\n",
       "      <th>IncidentNbr</th>\n",
       "      <th>OriginalIncidentType</th>\n",
       "      <th>RTRCaseNbr</th>\n",
       "      <th>StreetNbr</th>\n",
       "      <th>StreetName</th>\n",
       "      <th>StreetType</th>\n",
       "      <th>StreetDirection</th>\n",
       "      <th>ApartmentNbr</th>\n",
       "      <th>City</th>\n",
       "      <th>...</th>\n",
       "      <th>SubjectRace</th>\n",
       "      <th>SubjectGender</th>\n",
       "      <th>SubjectAge</th>\n",
       "      <th>Subjectshot</th>\n",
       "      <th>Fatal</th>\n",
       "      <th>SubjectWeapon</th>\n",
       "      <th>UOFWithinPolicy</th>\n",
       "      <th>FurtherSituationalTrainingRequired</th>\n",
       "      <th>ReferredToIA</th>\n",
       "      <th>RTRCaseStatus</th>\n",
       "    </tr>\n",
       "  </thead>\n",
       "  <tbody>\n",
       "    <tr>\n",
       "      <th>0</th>\n",
       "      <td>11/17/2020 12:00:00 AM</td>\n",
       "      <td>2020-0728556</td>\n",
       "      <td>Traffic Violations</td>\n",
       "      <td>RTR20-0032</td>\n",
       "      <td>5400</td>\n",
       "      <td>San Juan</td>\n",
       "      <td>Ave</td>\n",
       "      <td>NaN</td>\n",
       "      <td>NaN</td>\n",
       "      <td>Jacksonville</td>\n",
       "      <td>...</td>\n",
       "      <td>B</td>\n",
       "      <td>M</td>\n",
       "      <td>18</td>\n",
       "      <td>Yes</td>\n",
       "      <td>Yes</td>\n",
       "      <td>Handgun</td>\n",
       "      <td>Pending; Pending; Pending; Pending</td>\n",
       "      <td>Pending; Pending; Pending; Pending</td>\n",
       "      <td>Pending; Pending; Pending; Pending</td>\n",
       "      <td>Pending State Attorney Review</td>\n",
       "    </tr>\n",
       "    <tr>\n",
       "      <th>1</th>\n",
       "      <td>11/4/2020 12:00:00 AM</td>\n",
       "      <td>2020-0700612</td>\n",
       "      <td>All Other</td>\n",
       "      <td>RTR20-0031</td>\n",
       "      <td>500</td>\n",
       "      <td>63rd</td>\n",
       "      <td>St</td>\n",
       "      <td>E</td>\n",
       "      <td>NaN</td>\n",
       "      <td>Jacksonville</td>\n",
       "      <td>...</td>\n",
       "      <td>B</td>\n",
       "      <td>M</td>\n",
       "      <td>34</td>\n",
       "      <td>Yes</td>\n",
       "      <td>Yes</td>\n",
       "      <td>Rifle</td>\n",
       "      <td>Pending; Pending</td>\n",
       "      <td>Pending; Pending</td>\n",
       "      <td>Pending; Pending</td>\n",
       "      <td>Pending State Attorney Review</td>\n",
       "    </tr>\n",
       "    <tr>\n",
       "      <th>2</th>\n",
       "      <td>9/28/2020 12:00:00 AM</td>\n",
       "      <td>2020-0617272</td>\n",
       "      <td>Warrant</td>\n",
       "      <td>RTR20-0029</td>\n",
       "      <td>7200</td>\n",
       "      <td>Rutledge Pearson</td>\n",
       "      <td>Dr</td>\n",
       "      <td>NaN</td>\n",
       "      <td>NaN</td>\n",
       "      <td>Jacksonville</td>\n",
       "      <td>...</td>\n",
       "      <td>B; B</td>\n",
       "      <td>F; M</td>\n",
       "      <td>28; 28</td>\n",
       "      <td>No; No</td>\n",
       "      <td>No; No</td>\n",
       "      <td>Handgun</td>\n",
       "      <td>Pending</td>\n",
       "      <td>Pending</td>\n",
       "      <td>Pending</td>\n",
       "      <td>Pending State Attorney Review</td>\n",
       "    </tr>\n",
       "    <tr>\n",
       "      <th>3</th>\n",
       "      <td>7/26/2020 12:00:00 AM</td>\n",
       "      <td>2020-0479170</td>\n",
       "      <td>Traffic Violations</td>\n",
       "      <td>RTR20-0023</td>\n",
       "      <td>11500</td>\n",
       "      <td>San Jose</td>\n",
       "      <td>Blvd</td>\n",
       "      <td>NaN</td>\n",
       "      <td>NaN</td>\n",
       "      <td>Jacksonville</td>\n",
       "      <td>...</td>\n",
       "      <td>B</td>\n",
       "      <td>M</td>\n",
       "      <td>21</td>\n",
       "      <td>Yes</td>\n",
       "      <td>No</td>\n",
       "      <td>None</td>\n",
       "      <td>Pending</td>\n",
       "      <td>Pending</td>\n",
       "      <td>Pending</td>\n",
       "      <td>Pending State Attorney Review</td>\n",
       "    </tr>\n",
       "    <tr>\n",
       "      <th>4</th>\n",
       "      <td>7/4/2020 12:00:00 AM</td>\n",
       "      <td>2020-0434871</td>\n",
       "      <td>Assault/Battery</td>\n",
       "      <td>RTR20-0022</td>\n",
       "      <td>4600</td>\n",
       "      <td>Monroe Smith</td>\n",
       "      <td>Rd</td>\n",
       "      <td>NaN</td>\n",
       "      <td>NaN</td>\n",
       "      <td>Jacksonville</td>\n",
       "      <td>...</td>\n",
       "      <td>W</td>\n",
       "      <td>M</td>\n",
       "      <td>17</td>\n",
       "      <td>Yes</td>\n",
       "      <td>Yes</td>\n",
       "      <td>Knife / Cutting Instr</td>\n",
       "      <td>Pending</td>\n",
       "      <td>Pending</td>\n",
       "      <td>Pending</td>\n",
       "      <td>Pending State Attorney Review</td>\n",
       "    </tr>\n",
       "  </tbody>\n",
       "</table>\n",
       "<p>5 rows × 31 columns</p>\n",
       "</div>"
      ],
      "text/plain": [
       "             IncidentDate   IncidentNbr OriginalIncidentType  RTRCaseNbr  \\\n",
       "0  11/17/2020 12:00:00 AM  2020-0728556   Traffic Violations  RTR20-0032   \n",
       "1   11/4/2020 12:00:00 AM  2020-0700612            All Other  RTR20-0031   \n",
       "2   9/28/2020 12:00:00 AM  2020-0617272              Warrant  RTR20-0029   \n",
       "3   7/26/2020 12:00:00 AM  2020-0479170   Traffic Violations  RTR20-0023   \n",
       "4    7/4/2020 12:00:00 AM  2020-0434871      Assault/Battery  RTR20-0022   \n",
       "\n",
       "   StreetNbr        StreetName StreetType StreetDirection  ApartmentNbr  \\\n",
       "0       5400          San Juan        Ave             NaN           NaN   \n",
       "1        500              63rd         St               E           NaN   \n",
       "2       7200  Rutledge Pearson         Dr             NaN           NaN   \n",
       "3      11500          San Jose       Blvd             NaN           NaN   \n",
       "4       4600      Monroe Smith         Rd             NaN           NaN   \n",
       "\n",
       "           City  ... SubjectRace  SubjectGender  SubjectAge Subjectshot  \\\n",
       "0  Jacksonville  ...           B              M          18         Yes   \n",
       "1  Jacksonville  ...           B              M          34         Yes   \n",
       "2  Jacksonville  ...        B; B           F; M      28; 28      No; No   \n",
       "3  Jacksonville  ...           B              M          21         Yes   \n",
       "4  Jacksonville  ...           W              M          17         Yes   \n",
       "\n",
       "    Fatal          SubjectWeapon                     UOFWithinPolicy  \\\n",
       "0     Yes                Handgun  Pending; Pending; Pending; Pending   \n",
       "1     Yes                  Rifle                    Pending; Pending   \n",
       "2  No; No                Handgun                             Pending   \n",
       "3      No                   None                             Pending   \n",
       "4     Yes  Knife / Cutting Instr                             Pending   \n",
       "\n",
       "   FurtherSituationalTrainingRequired                        ReferredToIA  \\\n",
       "0  Pending; Pending; Pending; Pending  Pending; Pending; Pending; Pending   \n",
       "1                    Pending; Pending                    Pending; Pending   \n",
       "2                             Pending                             Pending   \n",
       "3                             Pending                             Pending   \n",
       "4                             Pending                             Pending   \n",
       "\n",
       "                   RTRCaseStatus  \n",
       "0  Pending State Attorney Review  \n",
       "1  Pending State Attorney Review  \n",
       "2  Pending State Attorney Review  \n",
       "3  Pending State Attorney Review  \n",
       "4  Pending State Attorney Review  \n",
       "\n",
       "[5 rows x 31 columns]"
      ]
     },
     "execution_count": 5,
     "metadata": {},
     "output_type": "execute_result"
    }
   ],
   "source": [
    "df.head(5)"
   ]
  },
  {
   "cell_type": "code",
   "execution_count": 10,
   "metadata": {},
   "outputs": [
    {
     "data": {
      "text/plain": [
       "Index(['IncidentDate', 'IncidentNbr', 'OriginalIncidentType', 'RTRCaseNbr',\n",
       "       'StreetNbr', 'StreetName', 'StreetType', 'StreetDirection',\n",
       "       'ApartmentNbr', 'City', 'StateProvince', 'PostalCode', 'Zone',\n",
       "       'SubSector', 'IncidentLocation', 'OfficerName', 'OfficerRace',\n",
       "       'OfficerGender', 'OfficerAge', 'OfficerTenure', 'SubjectName',\n",
       "       'SubjectRace', 'SubjectGender', 'SubjectAge', 'Subjectshot', 'Fatal',\n",
       "       'SubjectWeapon', 'UOFWithinPolicy',\n",
       "       'FurtherSituationalTrainingRequired', 'ReferredToIA', 'RTRCaseStatus'],\n",
       "      dtype='object')"
      ]
     },
     "execution_count": 10,
     "metadata": {},
     "output_type": "execute_result"
    }
   ],
   "source": [
    "df.columns"
   ]
  },
  {
   "cell_type": "code",
   "execution_count": 11,
   "metadata": {},
   "outputs": [
    {
     "data": {
      "text/plain": [
       "W                   34\n",
       "W; W                 8\n",
       "B                    7\n",
       "W; W; W              2\n",
       "H                    2\n",
       "W; W; W; W; W; W     1\n",
       "B; H                 1\n",
       "W; W; W; W           1\n",
       "B; H; H              1\n",
       "W; B                 1\n",
       "A                    1\n",
       "A; W; W; W; W; W     1\n",
       "Name: OfficerRace, dtype: int64"
      ]
     },
     "execution_count": 11,
     "metadata": {},
     "output_type": "execute_result"
    }
   ],
   "source": [
    "df['OfficerRace'].value_counts()"
   ]
  },
  {
   "cell_type": "code",
   "execution_count": 12,
   "metadata": {},
   "outputs": [
    {
     "data": {
      "text/plain": [
       "B       32\n",
       "W       20\n",
       "H        4\n",
       "B; B     3\n",
       "UK       1\n",
       "Name: SubjectRace, dtype: int64"
      ]
     },
     "execution_count": 12,
     "metadata": {},
     "output_type": "execute_result"
    }
   ],
   "source": [
    "df['SubjectRace'].value_counts()"
   ]
  },
  {
   "cell_type": "code",
   "execution_count": null,
   "metadata": {},
   "outputs": [],
   "source": [
    "sns.catplot(x='Subjectshot', y='SubjectrRace', col='OfficerRace')"
   ]
  },
  {
   "cell_type": "code",
   "execution_count": 14,
   "metadata": {},
   "outputs": [],
   "source": []
  },
  {
   "cell_type": "code",
   "execution_count": 15,
   "metadata": {},
   "outputs": [
    {
     "data": {
      "text/html": [
       "<div>\n",
       "<style scoped>\n",
       "    .dataframe tbody tr th:only-of-type {\n",
       "        vertical-align: middle;\n",
       "    }\n",
       "\n",
       "    .dataframe tbody tr th {\n",
       "        vertical-align: top;\n",
       "    }\n",
       "\n",
       "    .dataframe thead th {\n",
       "        text-align: right;\n",
       "    }\n",
       "</style>\n",
       "<table border=\"1\" class=\"dataframe\">\n",
       "  <thead>\n",
       "    <tr style=\"text-align: right;\">\n",
       "      <th></th>\n",
       "      <th>IncidentDate</th>\n",
       "      <th>IncidentNbr</th>\n",
       "      <th>OriginalIncidentType</th>\n",
       "      <th>RTRCaseNbr</th>\n",
       "      <th>StreetNbr</th>\n",
       "      <th>StreetName</th>\n",
       "      <th>StreetType</th>\n",
       "      <th>StreetDirection</th>\n",
       "      <th>ApartmentNbr</th>\n",
       "      <th>City</th>\n",
       "      <th>...</th>\n",
       "      <th>SubjectRace</th>\n",
       "      <th>SubjectGender</th>\n",
       "      <th>SubjectAge</th>\n",
       "      <th>Subjectshot</th>\n",
       "      <th>Fatal</th>\n",
       "      <th>SubjectWeapon</th>\n",
       "      <th>UOFWithinPolicy</th>\n",
       "      <th>FurtherSituationalTrainingRequired</th>\n",
       "      <th>ReferredToIA</th>\n",
       "      <th>RTRCaseStatus</th>\n",
       "    </tr>\n",
       "  </thead>\n",
       "  <tbody>\n",
       "    <tr>\n",
       "      <th>52</th>\n",
       "      <td>2/2/2016 12:00:00 AM</td>\n",
       "      <td>2016-0071697</td>\n",
       "      <td>Bomb Investigation</td>\n",
       "      <td>RTR16-00003</td>\n",
       "      <td>900</td>\n",
       "      <td>Plaza</td>\n",
       "      <td>NaN</td>\n",
       "      <td>NaN</td>\n",
       "      <td>NaN</td>\n",
       "      <td>Atlantic Beach</td>\n",
       "      <td>...</td>\n",
       "      <td>W</td>\n",
       "      <td>M</td>\n",
       "      <td>24</td>\n",
       "      <td>No</td>\n",
       "      <td>No</td>\n",
       "      <td>Sword</td>\n",
       "      <td>Yes</td>\n",
       "      <td>No</td>\n",
       "      <td>No</td>\n",
       "      <td>Case Closed</td>\n",
       "    </tr>\n",
       "  </tbody>\n",
       "</table>\n",
       "<p>1 rows × 31 columns</p>\n",
       "</div>"
      ],
      "text/plain": [
       "            IncidentDate   IncidentNbr OriginalIncidentType   RTRCaseNbr  \\\n",
       "52  2/2/2016 12:00:00 AM  2016-0071697   Bomb Investigation  RTR16-00003   \n",
       "\n",
       "    StreetNbr StreetName StreetType StreetDirection  ApartmentNbr  \\\n",
       "52        900      Plaza        NaN             NaN           NaN   \n",
       "\n",
       "              City  ... SubjectRace  SubjectGender  SubjectAge Subjectshot  \\\n",
       "52  Atlantic Beach  ...           W              M          24          No   \n",
       "\n",
       "   Fatal SubjectWeapon UOFWithinPolicy FurtherSituationalTrainingRequired  \\\n",
       "52    No         Sword             Yes                                 No   \n",
       "\n",
       "   ReferredToIA RTRCaseStatus  \n",
       "52           No   Case Closed  \n",
       "\n",
       "[1 rows x 31 columns]"
      ]
     },
     "execution_count": 15,
     "metadata": {},
     "output_type": "execute_result"
    }
   ],
   "source": []
  },
  {
   "cell_type": "code",
   "execution_count": null,
   "metadata": {},
   "outputs": [],
   "source": []
  }
 ],
 "metadata": {
  "kernelspec": {
   "display_name": "Python 3",
   "language": "python",
   "name": "python3"
  },
  "language_info": {
   "codemirror_mode": {
    "name": "ipython",
    "version": 3
   },
   "file_extension": ".py",
   "mimetype": "text/x-python",
   "name": "python",
   "nbconvert_exporter": "python",
   "pygments_lexer": "ipython3",
   "version": "3.7.9"
  },
  "varInspector": {
   "cols": {
    "lenName": 16,
    "lenType": 16,
    "lenVar": 40
   },
   "kernels_config": {
    "python": {
     "delete_cmd_postfix": "",
     "delete_cmd_prefix": "del ",
     "library": "var_list.py",
     "varRefreshCmd": "print(var_dic_list())"
    },
    "r": {
     "delete_cmd_postfix": ") ",
     "delete_cmd_prefix": "rm(",
     "library": "var_list.r",
     "varRefreshCmd": "cat(var_dic_list()) "
    }
   },
   "types_to_exclude": [
    "module",
    "function",
    "builtin_function_or_method",
    "instance",
    "_Feature"
   ],
   "window_display": false
  }
 },
 "nbformat": 4,
 "nbformat_minor": 4
}
