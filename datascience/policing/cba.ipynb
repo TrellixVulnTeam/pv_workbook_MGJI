{
 "cells": [
  {
   "cell_type": "markdown",
   "metadata": {},
   "source": [
    "Police unions are powerful. In nearly every economic context in which there are workers and employers, Collective Bargaining Agreements (CBA) are the tool used to manage the inherent tensions in the relationship. It's how power is acquired and protections secured. \n",
    "\n",
    "But the police aren't just another type of worker. As the sole entity in our society with the authority to kill, their relationship to their employer - the citizens they serve - is fundamentally different than, say, a metalworker or a plumber. And while the police have a right to negotiate for better circumstances, there is increasing concern that their CBAs are used as tools to stifle accountability, oversight, and transparency - particularly in context where the discretion to use lethal force is questionable. \n",
    "\n",
    "This arrangement isn't working for Black Americans. Every couple of months, it seems a new name becomes viral, and then infamous, and then symbolic. A rallying cry for justice. The question isn't \"if\" the CBA has a role to play - it's \"how\" and \"to what degree\". We need to take a critical look at these contracts to better understand how they are contributing to outcomes in Black communities we should all consider unacceptable. "
   ]
  },
  {
   "cell_type": "markdown",
   "metadata": {},
   "source": [
    "Contracts create incentives. Contracts define boundaries. Yet contracts are comprised of words. If we can understand how these words are architected, it can guide our intuition for the type of environments the CBA facilitates in our streets. \n",
    "\n",
    "To that end, this notebook applies natural language processing techniques to four CBA, each contract representing the terms between a police department and it's constituents, represented as a distinct corpus.\n",
    "\n",
    "Albuquerque - a city with one of the highest ratios of violent incidents per capita in the country;\n",
    "Austin, TX - where I've spent the majority of my adult life;\n",
    "Baltimore, MD - hometown of Freddie Gray Jr.;\n",
    "Louisville, KY - hometown of Breonna Taylor.\n",
    "\n",
    "This sampling is arbitrary and for illustrative purposes."
   ]
  },
  {
   "cell_type": "code",
   "execution_count": 37,
   "metadata": {},
   "outputs": [],
   "source": [
    "import nltk\n",
    "import pandas as pd\n",
    "import matplotlib.pyplot as plt\n",
    "import seaborn as sns\n",
    "import warnings\n",
    "warnings.filterwarnings(\"ignore\")"
   ]
  },
  {
   "cell_type": "code",
   "execution_count": 38,
   "metadata": {},
   "outputs": [],
   "source": [
    "df = pd.read_csv('/Users/toddhendricks/Downloads/checkthepolice - Sheet1 (1).csv')"
   ]
  },
  {
   "cell_type": "code",
   "execution_count": 39,
   "metadata": {},
   "outputs": [
    {
     "data": {
      "text/plain": [
       "<AxesSubplot:xlabel='city', ylabel='count'>"
      ]
     },
     "execution_count": 39,
     "metadata": {},
     "output_type": "execute_result"
    },
    {
     "data": {
      "image/png": "[encoded data removed]",
      "text/plain": [
       "<Figure size 432x288 with 1 Axes>"
      ]
     },
     "metadata": {
      "needs_background": "light"
     },
     "output_type": "display_data"
    }
   ],
   "source": [
    "sns.countplot(df.city)"
   ]
  },
  {
   "cell_type": "code",
   "execution_count": 15,
   "metadata": {},
   "outputs": [
    {
     "ename": "SyntaxError",
     "evalue": "unexpected EOF while parsing (<ipython-input-15-621b0b384bf5>, line 2)",
     "output_type": "error",
     "traceback": [
      "\u001b[0;36m  File \u001b[0;32m\"<ipython-input-15-621b0b384bf5>\"\u001b[0;36m, line \u001b[0;32m2\u001b[0m\n\u001b[0;31m    g.map(sns.catplot(x=df.category.index, \"category\")\u001b[0m\n\u001b[0m                                                      ^\u001b[0m\n\u001b[0;31mSyntaxError\u001b[0m\u001b[0;31m:\u001b[0m unexpected EOF while parsing\n"
     ]
    }
   ],
   "source": [
    "sns.catplot(\n",
    "\n",
    ")"
   ]
  },
  {
   "cell_type": "code",
   "execution_count": null,
   "metadata": {},
   "outputs": [],
   "source": []
  }
 ],
 "metadata": {
  "kernelspec": {
   "display_name": "Python 3",
   "language": "python",
   "name": "python3"
  },
  "language_info": {
   "codemirror_mode": {
    "name": "ipython",
    "version": 3
   },
   "file_extension": ".py",
   "mimetype": "text/x-python",
   "name": "python",
   "nbconvert_exporter": "python",
   "pygments_lexer": "ipython3",
   "version": "3.7.9"
  },
  "varInspector": {
   "cols": {
    "lenName": 16,
    "lenType": 16,
    "lenVar": 40
   },
   "kernels_config": {
    "python": {
     "delete_cmd_postfix": "",
     "delete_cmd_prefix": "del ",
     "library": "var_list.py",
     "varRefreshCmd": "print(var_dic_list())"
    },
    "r": {
     "delete_cmd_postfix": ") ",
     "delete_cmd_prefix": "rm(",
     "library": "var_list.r",
     "varRefreshCmd": "cat(var_dic_list()) "
    }
   },
   "types_to_exclude": [
    "module",
    "function",
    "builtin_function_or_method",
    "instance",
    "_Feature"
   ],
   "window_display": false
  }
 },
 "nbformat": 4,
 "nbformat_minor": 4
}
