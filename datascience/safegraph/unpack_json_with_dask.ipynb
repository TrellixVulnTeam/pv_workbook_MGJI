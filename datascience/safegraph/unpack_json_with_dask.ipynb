{
 "cells": [
  {
   "cell_type": "code",
   "execution_count": null,
   "metadata": {},
   "outputs": [
    {
     "name": "stdout",
     "output_type": "stream",
     "text": [
      "Collecting package metadata (current_repodata.json): done\n",
      "Solving environment: done\n",
      "\n",
      "## Package Plan ##\n",
      "\n",
      "  environment location: /Users/toddhendricks/miniconda3\n",
      "\n",
      "  added / updated specs:\n",
      "    - dask\n",
      "    - distributed\n",
      "\n",
      "\n",
      "The following packages will be downloaded:\n",
      "\n",
      "    package                    |            build\n",
      "    ---------------------------|-----------------\n",
      "    bokeh-2.1.1                |           py37_0         5.4 MB\n",
      "    dask-2.20.0                |             py_0           4 KB\n",
      "    dask-core-2.20.0           |             py_0         590 KB\n",
      "    distributed-2.20.0         |           py37_0        1003 KB\n",
      "    fsspec-0.7.4               |             py_0          63 KB\n",
      "    heapdict-1.0.1             |             py_0           9 KB\n",
      "    locket-0.2.0               |           py37_1           9 KB\n",
      "    msgpack-python-1.0.0       |   py37h04f5b5a_1          80 KB\n",
      "    partd-1.1.0                |             py_0          20 KB\n",
      "    psutil-5.7.0               |   py37h1de35cc_0         323 KB\n",
      "    sortedcontainers-2.2.2     |             py_0          29 KB\n",
      "    tblib-1.6.0                |             py_0          16 KB\n",
      "    typing_extensions-3.7.4.2  |             py_0          27 KB\n",
      "    zict-2.0.0                 |             py_0          13 KB\n",
      "    ------------------------------------------------------------\n",
      "                                           Total:         7.5 MB\n",
      "\n",
      "The following NEW packages will be INSTALLED:\n",
      "\n",
      "  bokeh              pkgs/main/osx-64::bokeh-2.1.1-py37_0\n",
      "  dask               pkgs/main/noarch::dask-2.20.0-py_0\n",
      "  distributed        pkgs/main/osx-64::distributed-2.20.0-py37_0\n",
      "  fsspec             pkgs/main/noarch::fsspec-0.7.4-py_0\n",
      "  heapdict           pkgs/main/noarch::heapdict-1.0.1-py_0\n",
      "  locket             pkgs/main/osx-64::locket-0.2.0-py37_1\n",
      "  msgpack-python     pkgs/main/osx-64::msgpack-python-1.0.0-py37h04f5b5a_1\n",
      "  partd              pkgs/main/noarch::partd-1.1.0-py_0\n",
      "  psutil             pkgs/main/osx-64::psutil-5.7.0-py37h1de35cc_0\n",
      "  sortedcontainers   pkgs/main/noarch::sortedcontainers-2.2.2-py_0\n",
      "  tblib              pkgs/main/noarch::tblib-1.6.0-py_0\n",
      "  typing_extensions  pkgs/main/noarch::typing_extensions-3.7.4.2-py_0\n",
      "  zict               pkgs/main/noarch::zict-2.0.0-py_0\n",
      "\n",
      "The following packages will be UPDATED:\n",
      "\n",
      "  dask-core              conda-forge::dask-core-2.18.1-py_0 --> pkgs/main::dask-core-2.20.0-py_0\n",
      "\n",
      "\n",
      "Proceed ([y]/n)? "
     ]
    }
   ],
   "source": [
    "!conda install dask distributed\n",
    "import dask\n",
    "from dask.distributed import Client, progress\n",
    "import dask.bag as db"
   ]
  },
  {
   "cell_type": "code",
   "execution_count": null,
   "metadata": {},
   "outputs": [],
   "source": [
    "client = Client(n_workers=4, threads_per_worker=2)"
   ]
  },
  {
   "cell_type": "code",
   "execution_count": null,
   "metadata": {},
   "outputs": [],
   "source": [
    "# pseudocode below\n",
    "unpacked_json = (db.read_text('data/*.json').map(json.loads)\n",
    "                   .filter(lambda json_column: json_column[['x','y']])\n",
    "                   .compute())"
   ]
  },
  {
   "cell_type": "code",
   "execution_count": null,
   "metadata": {},
   "outputs": [],
   "source": []
  }
 ],
 "metadata": {
  "kernelspec": {
   "display_name": "Python 3",
   "language": "python",
   "name": "python3"
  },
  "language_info": {
   "codemirror_mode": {
    "name": "ipython",
    "version": 3
   },
   "file_extension": ".py",
   "mimetype": "text/x-python",
   "name": "python",
   "nbconvert_exporter": "python",
   "pygments_lexer": "ipython3",
   "version": "3.7.6"
  },
  "varInspector": {
   "cols": {
    "lenName": 16,
    "lenType": 16,
    "lenVar": 40
   },
   "kernels_config": {
    "python": {
     "delete_cmd_postfix": "",
     "delete_cmd_prefix": "del ",
     "library": "var_list.py",
     "varRefreshCmd": "print(var_dic_list())"
    },
    "r": {
     "delete_cmd_postfix": ") ",
     "delete_cmd_prefix": "rm(",
     "library": "var_list.r",
     "varRefreshCmd": "cat(var_dic_list()) "
    }
   },
   "types_to_exclude": [
    "module",
    "function",
    "builtin_function_or_method",
    "instance",
    "_Feature"
   ],
   "window_display": false
  }
 },
 "nbformat": 4,
 "nbformat_minor": 4
}
