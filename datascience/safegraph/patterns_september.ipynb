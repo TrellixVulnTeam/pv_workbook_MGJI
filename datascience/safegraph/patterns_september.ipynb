{
 "cells": [
  {
   "cell_type": "code",
   "execution_count": 3,
   "metadata": {},
   "outputs": [],
   "source": [
    "from pyspark.sql import SparkSession\n",
    "\n",
    "patterns_sept_1 = \"./data/patterns-part1.csv.gz\"\n",
    "spark = SparkSession.builder.appName(\"patterns_sept\").getOrCreate()\n",
    "patterns_df = spark.read.csv(patterns_sept_1, header= True)"
   ]
  },
  {
   "cell_type": "code",
   "execution_count": 17,
   "metadata": {},
   "outputs": [],
   "source": [
    "patterns_df.createOrReplaceTempView('patterns_view')"
   ]
  },
  {
   "cell_type": "code",
   "execution_count": 20,
   "metadata": {},
   "outputs": [
    {
     "data": {
      "text/plain": [
       "[Table(name='patterns_view', database=None, description=None, tableType='TEMPORARY', isTemporary=True)]"
      ]
     },
     "execution_count": 20,
     "metadata": {},
     "output_type": "execute_result"
    }
   ],
   "source": [
    "spark.catalog.listTables()"
   ]
  },
  {
   "cell_type": "code",
   "execution_count": 25,
   "metadata": {},
   "outputs": [],
   "source": [
    "traffic = patterns_df.filter(patterns_df.raw_visit_counts > 5)"
   ]
  },
  {
   "cell_type": "code",
   "execution_count": 27,
   "metadata": {},
   "outputs": [
    {
     "name": "stdout",
     "output_type": "stream",
     "text": [
      "+--------------------+--------------------+--------------------+--------------+------+-----------+-------------------+------+--------------------+--------------------+----------------+------------------+--------------------+------------+--------------------+--------------------+------------------+-------------------------+------------------+--------------------+--------------------+----------------------+------------------------+--------------------+--------------------+------------------+\n",
      "|  safegraph_place_id|       location_name|      street_address|          city|region|postal_code|safegraph_brand_ids|brands|    date_range_start|      date_range_end|raw_visit_counts|raw_visitor_counts|       visits_by_day|     poi_cbg|   visitor_home_cbgs|visitor_daytime_cbgs| visitor_work_cbgs|visitor_country_of_origin|distance_from_home|        median_dwell|bucketed_dwell_times|related_same_day_brand|related_same_month_brand|  popularity_by_hour|   popularity_by_day|       device_type|\n",
      "+--------------------+--------------------+--------------------+--------------+------+-----------+-------------------+------+--------------------+--------------------+----------------+------------------+--------------------+------------+--------------------+--------------------+------------------+-------------------------+------------------+--------------------+--------------------+----------------------+------------------------+--------------------+--------------------+------------------+\n",
      "|sg:0041bdf50f9848...| Sullivan Chris M Dr|       403 Eighth St|     Winnsboro|    LA|      71295|               null|  null|2020-06-01T00:00:...|2020-07-01T00:00:...|             100|                38|[2,1,1,2,8,4,10,3...|220419503004|\"{\"\"220419503004\"\":7|  \"\"220250001004\"\":4|\"\"220419506001\"\":4|       \"\"220419503001\"\":4|\"\"220419506002\"\":4|\"\"220419502002\"\":4}\"|\"{\"\"220419506001\"\":7|    \"\"220419503004\"\":7|      \"\"220419503005\"\":4|  \"\"220419503001\"\":4|  \"\"220419502003\"\":4|\"\"483396921002\"\":4|\n",
      "|sg:005761d9681947...|U Pick Carlsbad S...|      1000 Cannon Rd|      Carlsbad|    CA|      92008|               null|  null|2020-06-01T00:00:...|2020-07-01T00:00:...|             410|               392|[13,3,13,9,8,18,2...|060730221001|\"{\"\"060730208103\"\":8|  \"\"060730185074\"\":6|\"\"060730166081\"\":5|       \"\"060590320595\"\":5|\"\"060650432061\"\":5|  \"\"060730170301\"\":5|  \"\"060590626351\"\":5|    \"\"060730221001\"\":5|      \"\"060590423114\"\":4|  \"\"060730212052\"\":4|  \"\"060730097061\"\":4|\"\"060730086001\"\":4|\n",
      "|sg:007236f9d77d41...|CJ's Auto Glass R...|  190 State Route 18|East Brunswick|    NJ|      08816|               null|  null|2020-06-01T00:00:...|2020-07-01T00:00:...|              98|                69|[2,2,5,5,0,2,0,10...|340230064032|\"{\"\"340350526013\"\":5|  \"\"340230027032\"\":5|\"\"340230070002\"\":5|       \"\"340230066052\"\":4|\"\"340230076002\"\":4|  \"\"340210029023\"\":4|  \"\"340230014164\"\":4|    \"\"340230094004\"\":4|      \"\"340270441012\"\":4|  \"\"340350534044\"\":4|  \"\"340230077032\"\":4|\"\"340230080015\"\":4|\n",
      "|sg:00808001532240...|La Jolla Open Air...|7300 Girard Ave L...|      La Jolla|    CA|      92037|               null|  null|2020-06-01T00:00:...|2020-07-01T00:00:...|              66|                47|[1,3,2,1,4,1,1,5,...|060730081012|\"{\"\"060730079031\"\":4|  \"\"060730176031\"\":4|\"\"060730083402\"\":4|       \"\"060730081022\"\":4|\"\"060730083033\"\":4|  \"\"060730083062\"\":4|  \"\"060730081023\"\":4|    \"\"060730082003\"\":4|      \"\"060730083031\"\":4|\"\"060730081014\"\":4}\"|\"{\"\"060730085111\"\":4|\"\"060730171091\"\":4|\n",
      "|sg:009679e673aa46...|       The Spot Cafe|          628 7th St|      Rockford|    IL|      61104|               null|  null|2020-06-01T00:00:...|2020-07-01T00:00:...|              79|                43|[3,2,7,3,6,1,1,2,...|172010011002|\"{\"\"172010001011\"\":5|  \"\"172010037071\"\":4|\"\"172010005015\"\":4|       \"\"172010004012\"\":4|\"\"172010004023\"\":4|  \"\"172010012002\"\":4|  \"\"172010023011\"\":4|    \"\"172010018006\"\":4|    \"\"172010020001\"\":4}\"|\"{\"\"172010012002\"\":5|  \"\"172010030002\"\":5|\"\"172010020001\"\":4|\n",
      "+--------------------+--------------------+--------------------+--------------+------+-----------+-------------------+------+--------------------+--------------------+----------------+------------------+--------------------+------------+--------------------+--------------------+------------------+-------------------------+------------------+--------------------+--------------------+----------------------+------------------------+--------------------+--------------------+------------------+\n",
      "only showing top 5 rows\n",
      "\n"
     ]
    }
   ],
   "source": [
    "query = \"\""
   ]
  },
  {
   "cell_type": "code",
   "execution_count": null,
   "metadata": {},
   "outputs": [],
   "source": []
  }
 ],
 "metadata": {
  "kernelspec": {
   "display_name": "Python 3",
   "language": "python",
   "name": "python3"
  },
  "language_info": {
   "codemirror_mode": {
    "name": "ipython",
    "version": 3
   },
   "file_extension": ".py",
   "mimetype": "text/x-python",
   "name": "python",
   "nbconvert_exporter": "python",
   "pygments_lexer": "ipython3",
   "version": "3.7.6"
  },
  "varInspector": {
   "cols": {
    "lenName": 16,
    "lenType": 16,
    "lenVar": 40
   },
   "kernels_config": {
    "python": {
     "delete_cmd_postfix": "",
     "delete_cmd_prefix": "del ",
     "library": "var_list.py",
     "varRefreshCmd": "print(var_dic_list())"
    },
    "r": {
     "delete_cmd_postfix": ") ",
     "delete_cmd_prefix": "rm(",
     "library": "var_list.r",
     "varRefreshCmd": "cat(var_dic_list()) "
    }
   },
   "types_to_exclude": [
    "module",
    "function",
    "builtin_function_or_method",
    "instance",
    "_Feature"
   ],
   "window_display": false
  }
 },
 "nbformat": 4,
 "nbformat_minor": 4
}
