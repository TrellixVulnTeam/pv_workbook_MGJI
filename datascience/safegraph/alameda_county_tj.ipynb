{
 "cells": [
  {
   "cell_type": "code",
   "execution_count": 142,
   "metadata": {},
   "outputs": [],
   "source": [
    "import pandas as pd\n",
    "import seaborn as sns\n",
    "import numpy as np\n",
    "import matplotlib.pyplot as plt\n",
    "from sklearn.linear_model import LinearRegression\n",
    "import ast"
   ]
  },
  {
   "cell_type": "code",
   "execution_count": 3,
   "metadata": {},
   "outputs": [],
   "source": [
    "tj_locations = pd.read_pickle('tj_locations.pkl')\n",
    "county_covid = pd.read_pickle('alameda_county_covid_july.pkl')"
   ]
  },
  {
   "cell_type": "code",
   "execution_count": 4,
   "metadata": {},
   "outputs": [
    {
     "data": {
      "text/plain": [
       "Index(['safegraph_place_id', 'location_name', 'street_address', 'city',\n",
       "       'region', 'postal_code', 'safegraph_brand_ids', 'brands',\n",
       "       'date_range_start', 'date_range_end', 'raw_visit_counts',\n",
       "       'raw_visitor_counts', 'visits_by_day', 'poi_cbg', 'visitor_home_cbgs',\n",
       "       'visitor_daytime_cbgs', 'visitor_work_cbgs',\n",
       "       'visitor_country_of_origin', 'distance_from_home', 'median_dwell',\n",
       "       'bucketed_dwell_times', 'related_same_day_brand',\n",
       "       'related_same_month_brand', 'popularity_by_hour', 'popularity_by_day',\n",
       "       'device_type'],\n",
       "      dtype='object')"
      ]
     },
     "execution_count": 4,
     "metadata": {},
     "output_type": "execute_result"
    }
   ],
   "source": [
    "tj_locations.columns"
   ]
  },
  {
   "cell_type": "code",
   "execution_count": 143,
   "metadata": {},
   "outputs": [],
   "source": [
    "def literal_data_return(val):\n",
    "    try:\n",
    "        return ast.literal_eval(val)\n",
    "    except (ValueError, SyntaxError) as e:\n",
    "        return val"
   ]
  },
  {
   "cell_type": "code",
   "execution_count": 146,
   "metadata": {},
   "outputs": [],
   "source": [
    "tj_locations['related_brand_literal'] = tj_locations['related_same_month_brand'].apply(literal_data_return)"
   ]
  },
  {
   "cell_type": "code",
   "execution_count": 138,
   "metadata": {},
   "outputs": [],
   "source": [
    "def unpack_related_brand_col(df, column, fillna=None):\n",
    "    ret = None\n",
    "    if fillna is None:\n",
    "        ret = pd.concat([df, pd.DataFrame((d for idx, d in df[column].iteritems()))], axis=1)\n",
    "        del ret[column]\n",
    "    else:\n",
    "        ret = pd.concat([df, pd.DataFrame((d for idx, d in df[column].iteritems())).fillna(fillna)], axis=1)\n",
    "        del ret[column]\n",
    "    return ret"
   ]
  },
  {
   "cell_type": "code",
   "execution_count": 162,
   "metadata": {},
   "outputs": [],
   "source": [
    "unpacked = unpack_related_brand_col(tj_locations, 'related_brand_literal', 0)"
   ]
  },
  {
   "cell_type": "code",
   "execution_count": 165,
   "metadata": {},
   "outputs": [
    {
     "data": {
      "text/plain": [
       "Index(['safegraph_place_id', 'location_name', 'street_address', 'city',\n",
       "       'region', 'postal_code', 'safegraph_brand_ids', 'brands',\n",
       "       'date_range_start', 'date_range_end', 'raw_visit_counts',\n",
       "       'raw_visitor_counts', 'visits_by_day', 'poi_cbg', 'visitor_home_cbgs',\n",
       "       'visitor_daytime_cbgs', 'visitor_work_cbgs',\n",
       "       'visitor_country_of_origin', 'distance_from_home', 'median_dwell',\n",
       "       'bucketed_dwell_times', 'related_same_day_brand',\n",
       "       'related_same_month_brand', 'popularity_by_hour', 'popularity_by_day',\n",
       "       'device_type', 'Pharmaca', 'Costco Wholesale Corp.', 'Safeway',\n",
       "       'Starbucks', 'Target', 'The Home Depot', 'In-N-Out Burger', 'Walgreens',\n",
       "       'Chevron', 'Peet's Coffee and Tea', 'Safeway Pharmacy',\n",
       "       'Kaiser Permanente', '7-Eleven', '76', 'Costco Gasoline', 'ARCO',\n",
       "       'Round Table Pizza', 'Ross Stores', 'Togo's Eateries', 'Marshalls',\n",
       "       'IKEA', 'CVS', 'McDonald's', 'Lucky Supermarkets', 'Chevron Extra Mile',\n",
       "       'Walmart', 'Subway', 'Pizza Hut', 'Taco Bell', 'Unleashed by Petco',\n",
       "       'America's Tire', 'Smart & Final', 'Jo-Ann Fabric and Craft Stores',\n",
       "       'Shell Oil', 'Domino's Pizza', 'Little Caesars',\n",
       "       'Safeway Community Market', 'Ace Hardware', 'Jack in the Box',\n",
       "       'Sprouts Farmers Market', '99 Cents Only Stores',\n",
       "       'Chipotle Mexican Grill', 'Safeway Fuel Station', 'Applebee's',\n",
       "       'T.J. Maxx', 'Grocery Outlet', 'Jamba', 'Lowe's', 'Simon mall',\n",
       "       'Michaels Stores', 'Menchie's', 'Kohl's'],\n",
       "      dtype='object')"
      ]
     },
     "execution_count": 165,
     "metadata": {},
     "output_type": "execute_result"
    }
   ],
   "source": [
    "unpacked.columns"
   ]
  },
  {
   "cell_type": "code",
   "execution_count": 172,
   "metadata": {},
   "outputs": [],
   "source": [
    "coffee = [unpacked['Starbucks'].sum(), unpacked['Peet\\'s Coffee and Tea'].sum()]\n",
    "\n",
    "big_box = [unpacked['Walmart'].sum(),\n",
    "           unpacked['Target'].sum(),\n",
    "           unpacked['Costco Wholesale Corp.'].sum()]\n",
    "\n",
    "groceries = [unpacked['Lucky Supermarkets'].sum(),\n",
    "             unpacked['Sprouts Farmers Market'].sum(),\n",
    "             unpacked['Safeway'].sum(),\n",
    "             unpacked['Grocery Outlet'].sum()]\n",
    "\n",
    "hardware = [unpacked['Lowe\\'s'].sum(),\n",
    "            unpacked['Ace Hardware'].sum(),\n",
    "            unpacked['The Home Depot'].sum()]"
   ]
  },
  {
   "cell_type": "code",
   "execution_count": 175,
   "metadata": {},
   "outputs": [
    {
     "data": {
      "text/plain": [
       "<matplotlib.axes._subplots.AxesSubplot at 0x7ff63c1e2e10>"
      ]
     },
     "execution_count": 175,
     "metadata": {},
     "output_type": "execute_result"
    },
    {
     "data": {
      "image/png": "[encoded data removed]",
      "text/plain": [
       "<Figure size 432x288 with 1 Axes>"
      ]
     },
     "metadata": {
      "needs_background": "light"
     },
     "output_type": "display_data"
    }
   ],
   "source": [
    "sns.barplot(x=['Starbucks','Peet\\'s Coffee'],y=coffee)"
   ]
  },
  {
   "cell_type": "code",
   "execution_count": 176,
   "metadata": {},
   "outputs": [
    {
     "data": {
      "text/plain": [
       "<matplotlib.axes._subplots.AxesSubplot at 0x7ff63c1e2f10>"
      ]
     },
     "execution_count": 176,
     "metadata": {},
     "output_type": "execute_result"
    },
    {
     "data": {
      "image/png": "[encoded data removed]",
      "text/plain": [
       "<Figure size 432x288 with 1 Axes>"
      ]
     },
     "metadata": {
      "needs_background": "light"
     },
     "output_type": "display_data"
    }
   ],
   "source": [
    "sns.barplot(x=['Walmart','Target','Costco'],y=big_box)"
   ]
  },
  {
   "cell_type": "code",
   "execution_count": 178,
   "metadata": {},
   "outputs": [
    {
     "data": {
      "text/plain": [
       "<matplotlib.axes._subplots.AxesSubplot at 0x7ff63ef62dd0>"
      ]
     },
     "execution_count": 178,
     "metadata": {},
     "output_type": "execute_result"
    },
    {
     "data": {
      "image/png": "[encoded data removed]",
      "text/plain": [
       "<Figure size 432x288 with 1 Axes>"
      ]
     },
     "metadata": {
      "needs_background": "light"
     },
     "output_type": "display_data"
    }
   ],
   "source": [
    "sns.barplot(x=['Lucky','Sprouts','Safeway','Grocery Outlet'], y=groceries)"
   ]
  },
  {
   "cell_type": "code",
   "execution_count": 180,
   "metadata": {},
   "outputs": [
    {
     "data": {
      "text/plain": [
       "<matplotlib.axes._subplots.AxesSubplot at 0x7ff64012ee50>"
      ]
     },
     "execution_count": 180,
     "metadata": {},
     "output_type": "execute_result"
    },
    {
     "data": {
      "image/png": "[encoded data removed]",
      "text/plain": [
       "<Figure size 432x288 with 1 Axes>"
      ]
     },
     "metadata": {
      "needs_background": "light"
     },
     "output_type": "display_data"
    }
   ],
   "source": [
    "sns.barplot(x=['Lowe\\'s','Ace','The Home Depot'],y=hardware)"
   ]
  },
  {
   "cell_type": "code",
   "execution_count": 112,
   "metadata": {},
   "outputs": [
    {
     "data": {
      "text/plain": [
       "<matplotlib.axes._subplots.AxesSubplot at 0x7ff63fdcf7d0>"
      ]
     },
     "execution_count": 112,
     "metadata": {},
     "output_type": "execute_result"
    },
    {
     "data": {
      "image/png": "[encoded data removed]",
      "text/plain": [
       "<Figure size 432x288 with 1 Axes>"
      ]
     },
     "metadata": {
      "needs_background": "light"
     },
     "output_type": "display_data"
    }
   ],
   "source": [
    "sns.barplot(x=tj_locations.city,y=tj_locations.distance_from_home)"
   ]
  },
  {
   "cell_type": "code",
   "execution_count": null,
   "metadata": {},
   "outputs": [],
   "source": []
  },
  {
   "cell_type": "code",
   "execution_count": 5,
   "metadata": {},
   "outputs": [],
   "source": [
    "Oakland1 = [3,0,2,0,4,5,5,1,1,1,5,2,2,3,4,0,2,4,4,6,4,3,7,2,2,5,4,5,6,2,3]\n",
    "Emeryville = [10,8,4,0,9,16,9,9,5,10,13,20,8,8,12,15,5,6,13,12,13,7,8,7,11,11,8,9,9,15,9]\n",
    "Pleasanton = [0,0,3,0,2,1,1,1,0,0,2,2,0,0,0,1,1,1,0,0,1,0,0,0,0,0,0,0,1,0,0]\n",
    "Berkeley = [5,10,5,1,7,4,7,2,6,3,3,5,2,5,3,11,3,6,2,3,4,5,5,5,6,2,4,3,2,8,6]\n",
    "Alameda = [14,13,29,6,11,15,12,10,12,13,11,21,18,13,11,9,12,15,14,21,13,11,9,26,14,18,11,4,13,18,21]\n",
    "Livermore = [12,14,12,0,16,6,5,9,8,12,15,13,10,11,6,15,14,9,14,9,11,9,14,17,9,8,9,17,7,8,11]\n",
    "Oakland2 = [2,11,3,1,9,4,6,1,5,3,5,6,8,4,2,4,2,5,3,6,3,2,4,2,4,5,4,5,2,4,8]\n",
    "Castro = [38,27,35,2,51,43,34,25,36,41,39,37,39,39,37,30,36,49,41,43,42,35,31,28,33,46,41,37,29,28,32]\n",
    "days = list(range(1,len(Berkeley)))"
   ]
  },
  {
   "cell_type": "code",
   "execution_count": 6,
   "metadata": {},
   "outputs": [],
   "source": [
    "tj_july_visits_by_day = pd.DataFrame(list(zip(Oakland1, Emeryville, Pleasanton,Berkeley, Alameda, Livermore, Oakland2, Castro)))"
   ]
  },
  {
   "cell_type": "code",
   "execution_count": 82,
   "metadata": {},
   "outputs": [],
   "source": [
    "tj_july_visits_by_day.loc[\"Total\"] = tj_july_visits_by_day.sum()\n",
    "weekday = ['W','Th','F','Sat','Su','M','T','W','Th','F','Sat','Su','M','T','W','Th','F','Sat','Su','M','T','W','Th','F','Sat','Su','M','T','W','Th','F','-']"
   ]
  },
  {
   "cell_type": "code",
   "execution_count": 84,
   "metadata": {},
   "outputs": [],
   "source": [
    "tj_july_visits_by_day['weekday'] = weekday"
   ]
  },
  {
   "cell_type": "code",
   "execution_count": 108,
   "metadata": {},
   "outputs": [
    {
     "data": {
      "text/plain": [
       "Text(0.5, 1.0, 'Busiest Weekday As Relative Percentage of Total')"
      ]
     },
     "execution_count": 108,
     "metadata": {},
     "output_type": "execute_result"
    },
    {
     "data": {
      "image/png": "[encoded data removed]",
      "text/plain": [
       "<Figure size 432x288 with 1 Axes>"
      ]
     },
     "metadata": {
      "needs_background": "light"
     },
     "output_type": "display_data"
    }
   ],
   "source": [
    "day_of_week = tj_july_visits_by_day.groupby('weekday').sum()\n",
    "day_of_week.reset_index()\n",
    "pct_total = day_of_week.pct.sort_values()[:-1]\n",
    "sns.barplot(x=pct_total.index,y=pct_total)\n",
    "plt.title('Busiest Weekday As Relative Percentage of Total')\n",
    "# day_of_week['weekday'] = pd.Categorical(day_of_week['weekday'], [\"M\", \"T\", \"W\",\"Th\",\"F\",\"Sat\",\"Su\"])\n",
    "# day_of_week[1:].sort_values('pct')"
   ]
  },
  {
   "cell_type": "code",
   "execution_count": 29,
   "metadata": {},
   "outputs": [],
   "source": [
    "cases = county_covid.cases.diff().fillna(0)\n",
    "deaths = county_covid.deaths.diff().fillna(0)"
   ]
  },
  {
   "cell_type": "code",
   "execution_count": 182,
   "metadata": {},
   "outputs": [
    {
     "data": {
      "text/plain": [
       "Index([0, 1, 2, 3, 4, 5, 6, 7, 'sum', 'pct', 'weekday'], dtype='object')"
      ]
     },
     "execution_count": 182,
     "metadata": {},
     "output_type": "execute_result"
    }
   ],
   "source": [
    "tj_july_visits_by_day.columns"
   ]
  },
  {
   "cell_type": "code",
   "execution_count": 132,
   "metadata": {},
   "outputs": [
    {
     "data": {
      "text/plain": [
       "<mpl_toolkits.mplot3d.art3d.Path3DCollection at 0x7ff641e66e90>"
      ]
     },
     "execution_count": 132,
     "metadata": {},
     "output_type": "execute_result"
    },
    {
     "data": {
      "image/png": "[encoded data removed]",
      "text/plain": [
       "<Figure size 432x288 with 1 Axes>"
      ]
     },
     "metadata": {
      "needs_background": "light"
     },
     "output_type": "display_data"
    }
   ],
   "source": [
    "fig = plt.figure()\n",
    "ax = plt.axes(projection='3d')\n",
    "xdata = tj_locations.median_dwell\n",
    "ydata = tj_locations.distance_from_home\n",
    "zdata = [97, 299, 17, 143, 438, 330, 133, 1104.0]\n",
    "ax.set_title('TJs - Alameda Cty - July 2020')\n",
    "ax.set_xlabel('Med. Dwell Time')\n",
    "ax.set_ylabel('Dist. From Home')\n",
    "ax.set_zlabel('Total Visitors')\n",
    "ax.text(25, 3000, 0, \"OAK - Rockridge\", color='black')\n",
    "ax.text(15, 2000, 100, \"Berkeley\", color='black')\n",
    "ax.text(20, 4000, 1200, \"Castro Valley\", color='black')\n",
    "ax.yaxis.set_ticks(np.arange(0, 5500, 1000))\n",
    "ax.scatter3D(xdata, ydata, zdata, c=zdata, cmap='jet')"
   ]
  },
  {
   "cell_type": "code",
   "execution_count": 183,
   "metadata": {},
   "outputs": [],
   "source": [
    "tj_july_visits_by_day.columns = ['OAK-Rockridge', 'Emeryville', 'Pleasanton','Berkeley', 'Alameda', 'Livermore', 'OAK-Lakeshore', 'Castro Valley', 'sum', 'pct', 'weekday']"
   ]
  },
  {
   "cell_type": "code",
   "execution_count": 191,
   "metadata": {},
   "outputs": [],
   "source": [
    "weekday_avg = tj_july_visits_by_day.groupby(by='weekday').mean().drop(['sum','pct'],axis=1).drop('-')"
   ]
  },
  {
   "cell_type": "code",
   "execution_count": 195,
   "metadata": {},
   "outputs": [
    {
     "data": {
      "text/html": [
       "<div>\n",
       "<style scoped>\n",
       "    .dataframe tbody tr th:only-of-type {\n",
       "        vertical-align: middle;\n",
       "    }\n",
       "\n",
       "    .dataframe tbody tr th {\n",
       "        vertical-align: top;\n",
       "    }\n",
       "\n",
       "    .dataframe thead th {\n",
       "        text-align: right;\n",
       "    }\n",
       "</style>\n",
       "<table border=\"1\" class=\"dataframe\">\n",
       "  <thead>\n",
       "    <tr style=\"text-align: right;\">\n",
       "      <th></th>\n",
       "      <th>OAK-Rockridge</th>\n",
       "      <th>Emeryville</th>\n",
       "      <th>Pleasanton</th>\n",
       "      <th>Berkeley</th>\n",
       "      <th>Alameda</th>\n",
       "      <th>Livermore</th>\n",
       "      <th>OAK-Lakeshore</th>\n",
       "      <th>Castro Valley</th>\n",
       "    </tr>\n",
       "    <tr>\n",
       "      <th>weekday</th>\n",
       "      <th></th>\n",
       "      <th></th>\n",
       "      <th></th>\n",
       "      <th></th>\n",
       "      <th></th>\n",
       "      <th></th>\n",
       "      <th></th>\n",
       "      <th></th>\n",
       "    </tr>\n",
       "  </thead>\n",
       "  <tbody>\n",
       "    <tr>\n",
       "      <th>M</th>\n",
       "      <td>4.25</td>\n",
       "      <td>11.00</td>\n",
       "      <td>0.25</td>\n",
       "      <td>3.25</td>\n",
       "      <td>16.25</td>\n",
       "      <td>8.50</td>\n",
       "      <td>5.50</td>\n",
       "      <td>41.50</td>\n",
       "    </tr>\n",
       "    <tr>\n",
       "      <th>T</th>\n",
       "      <td>4.25</td>\n",
       "      <td>9.75</td>\n",
       "      <td>0.50</td>\n",
       "      <td>4.75</td>\n",
       "      <td>10.50</td>\n",
       "      <td>11.00</td>\n",
       "      <td>4.50</td>\n",
       "      <td>38.00</td>\n",
       "    </tr>\n",
       "    <tr>\n",
       "      <th>W</th>\n",
       "      <td>3.40</td>\n",
       "      <td>9.40</td>\n",
       "      <td>0.40</td>\n",
       "      <td>3.40</td>\n",
       "      <td>11.80</td>\n",
       "      <td>8.60</td>\n",
       "      <td>1.80</td>\n",
       "      <td>32.80</td>\n",
       "    </tr>\n",
       "    <tr>\n",
       "      <th>Th</th>\n",
       "      <td>2.00</td>\n",
       "      <td>10.20</td>\n",
       "      <td>0.20</td>\n",
       "      <td>8.00</td>\n",
       "      <td>12.20</td>\n",
       "      <td>11.80</td>\n",
       "      <td>5.60</td>\n",
       "      <td>30.40</td>\n",
       "    </tr>\n",
       "    <tr>\n",
       "      <th>F</th>\n",
       "      <td>2.00</td>\n",
       "      <td>7.00</td>\n",
       "      <td>0.80</td>\n",
       "      <td>4.40</td>\n",
       "      <td>20.20</td>\n",
       "      <td>13.20</td>\n",
       "      <td>3.60</td>\n",
       "      <td>34.40</td>\n",
       "    </tr>\n",
       "    <tr>\n",
       "      <th>Sat</th>\n",
       "      <td>2.75</td>\n",
       "      <td>7.50</td>\n",
       "      <td>0.75</td>\n",
       "      <td>4.00</td>\n",
       "      <td>11.50</td>\n",
       "      <td>8.25</td>\n",
       "      <td>3.75</td>\n",
       "      <td>30.75</td>\n",
       "    </tr>\n",
       "    <tr>\n",
       "      <th>Su</th>\n",
       "      <td>3.75</td>\n",
       "      <td>13.25</td>\n",
       "      <td>1.00</td>\n",
       "      <td>4.00</td>\n",
       "      <td>16.00</td>\n",
       "      <td>12.75</td>\n",
       "      <td>5.75</td>\n",
       "      <td>43.75</td>\n",
       "    </tr>\n",
       "  </tbody>\n",
       "</table>\n",
       "</div>"
      ],
      "text/plain": [
       "         OAK-Rockridge  Emeryville  Pleasanton  Berkeley  Alameda  Livermore  \\\n",
       "weekday                                                                        \n",
       "M                 4.25       11.00        0.25      3.25    16.25       8.50   \n",
       "T                 4.25        9.75        0.50      4.75    10.50      11.00   \n",
       "W                 3.40        9.40        0.40      3.40    11.80       8.60   \n",
       "Th                2.00       10.20        0.20      8.00    12.20      11.80   \n",
       "F                 2.00        7.00        0.80      4.40    20.20      13.20   \n",
       "Sat               2.75        7.50        0.75      4.00    11.50       8.25   \n",
       "Su                3.75       13.25        1.00      4.00    16.00      12.75   \n",
       "\n",
       "         OAK-Lakeshore  Castro Valley  \n",
       "weekday                                \n",
       "M                 5.50          41.50  \n",
       "T                 4.50          38.00  \n",
       "W                 1.80          32.80  \n",
       "Th                5.60          30.40  \n",
       "F                 3.60          34.40  \n",
       "Sat               3.75          30.75  \n",
       "Su                5.75          43.75  "
      ]
     },
     "execution_count": 195,
     "metadata": {},
     "output_type": "execute_result"
    }
   ],
   "source": [
    "order = ['M','T','W','Th','F','Sat','Su']\n",
    "weekday_avg = weekday_avg.reindex(order)\n",
    "weekday_avg"
   ]
  },
  {
   "cell_type": "code",
   "execution_count": 49,
   "metadata": {},
   "outputs": [],
   "source": [
    "total = 2561\n",
    "store_contribution = [97/total,299/total,17/total,43/total, 438/total,330/total,133/total,1104/total]"
   ]
  },
  {
   "cell_type": "code",
   "execution_count": 65,
   "metadata": {},
   "outputs": [],
   "source": [
    "y = tj_july_visits_by_day.loc['Total'][:-2].sort_values()"
   ]
  },
  {
   "cell_type": "code",
   "execution_count": 74,
   "metadata": {},
   "outputs": [
    {
     "data": {
      "image/png": "[encoded data removed]",
      "text/plain": [
       "<Figure size 648x324 with 1 Axes>"
      ]
     },
     "metadata": {
      "needs_background": "light"
     },
     "output_type": "display_data"
    }
   ],
   "source": [
    "plt.figure(figsize=(9,4.5))\n",
    "chart = sns.barplot(x=['Oakland - Rockridge', 'Emeryville', 'Pleasanton','Berkeley', 'Alameda', 'Livermore', 'Oakland - Lakeshore', 'Castro Valley'],\n",
    "            y=y)\n",
    "chart.set_xticklabels(chart.get_xticklabels(), rotation=45, horizontalalignment='right')\n",
    "plt.show()"
   ]
  },
  {
   "cell_type": "code",
   "execution_count": 37,
   "metadata": {},
   "outputs": [
    {
     "data": {
      "image/png": "[encoded data removed]",
      "text/plain": [
       "<Figure size 432x288 with 1 Axes>"
      ]
     },
     "metadata": {
      "needs_background": "light"
     },
     "output_type": "display_data"
    }
   ],
   "source": [
    "plt.plot(list(range(0,len(deaths))),deaths.cumsum(),'r')\n",
    "plt.xlabel('July 2020')\n",
    "plt.ylabel('Deaths From COVID-19')\n",
    "plt.title('Cumulative Sum of COVID Deaths - July - Alameda County')\n",
    "plt.savefig('deaths.jpg')"
   ]
  },
  {
   "cell_type": "code",
   "execution_count": 13,
   "metadata": {},
   "outputs": [],
   "source": [
    "cases_all_year = pd.read_pickle('all_alameda_cases.pkl')"
   ]
  },
  {
   "cell_type": "code",
   "execution_count": 38,
   "metadata": {},
   "outputs": [
    {
     "data": {
      "image/png": "[encoded data removed]",
      "text/plain": [
       "<Figure size 432x288 with 1 Axes>"
      ]
     },
     "metadata": {
      "needs_background": "light"
     },
     "output_type": "display_data"
    }
   ],
   "source": [
    "plt.plot(list(range(0,len(cases_all_year))),cases_all_year.cases)\n",
    "plt.xlabel('Days Since First COVID Case - Alameda County')\n",
    "plt.ylabel('Total Cases')\n",
    "plt.savefig('casestotal.jpg')"
   ]
  },
  {
   "cell_type": "code",
   "execution_count": 22,
   "metadata": {},
   "outputs": [
    {
     "data": {
      "text/html": [
       "<div>\n",
       "<style scoped>\n",
       "    .dataframe tbody tr th:only-of-type {\n",
       "        vertical-align: middle;\n",
       "    }\n",
       "\n",
       "    .dataframe tbody tr th {\n",
       "        vertical-align: top;\n",
       "    }\n",
       "\n",
       "    .dataframe thead th {\n",
       "        text-align: right;\n",
       "    }\n",
       "</style>\n",
       "<table border=\"1\" class=\"dataframe\">\n",
       "  <thead>\n",
       "    <tr style=\"text-align: right;\">\n",
       "      <th></th>\n",
       "      <th>0</th>\n",
       "      <th>1</th>\n",
       "      <th>2</th>\n",
       "      <th>3</th>\n",
       "      <th>4</th>\n",
       "      <th>5</th>\n",
       "      <th>6</th>\n",
       "      <th>7</th>\n",
       "      <th>sum</th>\n",
       "    </tr>\n",
       "  </thead>\n",
       "  <tbody>\n",
       "    <tr>\n",
       "      <th>0</th>\n",
       "      <td>3</td>\n",
       "      <td>10</td>\n",
       "      <td>0</td>\n",
       "      <td>5</td>\n",
       "      <td>14</td>\n",
       "      <td>12</td>\n",
       "      <td>2</td>\n",
       "      <td>38</td>\n",
       "      <td>84</td>\n",
       "    </tr>\n",
       "    <tr>\n",
       "      <th>1</th>\n",
       "      <td>0</td>\n",
       "      <td>8</td>\n",
       "      <td>0</td>\n",
       "      <td>10</td>\n",
       "      <td>13</td>\n",
       "      <td>14</td>\n",
       "      <td>11</td>\n",
       "      <td>27</td>\n",
       "      <td>83</td>\n",
       "    </tr>\n",
       "    <tr>\n",
       "      <th>2</th>\n",
       "      <td>2</td>\n",
       "      <td>4</td>\n",
       "      <td>3</td>\n",
       "      <td>5</td>\n",
       "      <td>29</td>\n",
       "      <td>12</td>\n",
       "      <td>3</td>\n",
       "      <td>35</td>\n",
       "      <td>93</td>\n",
       "    </tr>\n",
       "    <tr>\n",
       "      <th>3</th>\n",
       "      <td>0</td>\n",
       "      <td>0</td>\n",
       "      <td>0</td>\n",
       "      <td>1</td>\n",
       "      <td>6</td>\n",
       "      <td>0</td>\n",
       "      <td>1</td>\n",
       "      <td>2</td>\n",
       "      <td>10</td>\n",
       "    </tr>\n",
       "    <tr>\n",
       "      <th>4</th>\n",
       "      <td>4</td>\n",
       "      <td>9</td>\n",
       "      <td>2</td>\n",
       "      <td>7</td>\n",
       "      <td>11</td>\n",
       "      <td>16</td>\n",
       "      <td>9</td>\n",
       "      <td>51</td>\n",
       "      <td>109</td>\n",
       "    </tr>\n",
       "    <tr>\n",
       "      <th>5</th>\n",
       "      <td>5</td>\n",
       "      <td>16</td>\n",
       "      <td>1</td>\n",
       "      <td>4</td>\n",
       "      <td>15</td>\n",
       "      <td>6</td>\n",
       "      <td>4</td>\n",
       "      <td>43</td>\n",
       "      <td>94</td>\n",
       "    </tr>\n",
       "    <tr>\n",
       "      <th>6</th>\n",
       "      <td>5</td>\n",
       "      <td>9</td>\n",
       "      <td>1</td>\n",
       "      <td>7</td>\n",
       "      <td>12</td>\n",
       "      <td>5</td>\n",
       "      <td>6</td>\n",
       "      <td>34</td>\n",
       "      <td>79</td>\n",
       "    </tr>\n",
       "    <tr>\n",
       "      <th>7</th>\n",
       "      <td>1</td>\n",
       "      <td>9</td>\n",
       "      <td>1</td>\n",
       "      <td>2</td>\n",
       "      <td>10</td>\n",
       "      <td>9</td>\n",
       "      <td>1</td>\n",
       "      <td>25</td>\n",
       "      <td>58</td>\n",
       "    </tr>\n",
       "    <tr>\n",
       "      <th>8</th>\n",
       "      <td>1</td>\n",
       "      <td>5</td>\n",
       "      <td>0</td>\n",
       "      <td>6</td>\n",
       "      <td>12</td>\n",
       "      <td>8</td>\n",
       "      <td>5</td>\n",
       "      <td>36</td>\n",
       "      <td>73</td>\n",
       "    </tr>\n",
       "    <tr>\n",
       "      <th>9</th>\n",
       "      <td>1</td>\n",
       "      <td>10</td>\n",
       "      <td>0</td>\n",
       "      <td>3</td>\n",
       "      <td>13</td>\n",
       "      <td>12</td>\n",
       "      <td>3</td>\n",
       "      <td>41</td>\n",
       "      <td>83</td>\n",
       "    </tr>\n",
       "    <tr>\n",
       "      <th>10</th>\n",
       "      <td>5</td>\n",
       "      <td>13</td>\n",
       "      <td>2</td>\n",
       "      <td>3</td>\n",
       "      <td>11</td>\n",
       "      <td>15</td>\n",
       "      <td>5</td>\n",
       "      <td>39</td>\n",
       "      <td>93</td>\n",
       "    </tr>\n",
       "    <tr>\n",
       "      <th>11</th>\n",
       "      <td>2</td>\n",
       "      <td>20</td>\n",
       "      <td>2</td>\n",
       "      <td>5</td>\n",
       "      <td>21</td>\n",
       "      <td>13</td>\n",
       "      <td>6</td>\n",
       "      <td>37</td>\n",
       "      <td>106</td>\n",
       "    </tr>\n",
       "    <tr>\n",
       "      <th>12</th>\n",
       "      <td>2</td>\n",
       "      <td>8</td>\n",
       "      <td>0</td>\n",
       "      <td>2</td>\n",
       "      <td>18</td>\n",
       "      <td>10</td>\n",
       "      <td>8</td>\n",
       "      <td>39</td>\n",
       "      <td>87</td>\n",
       "    </tr>\n",
       "    <tr>\n",
       "      <th>13</th>\n",
       "      <td>3</td>\n",
       "      <td>8</td>\n",
       "      <td>0</td>\n",
       "      <td>5</td>\n",
       "      <td>13</td>\n",
       "      <td>11</td>\n",
       "      <td>4</td>\n",
       "      <td>39</td>\n",
       "      <td>83</td>\n",
       "    </tr>\n",
       "    <tr>\n",
       "      <th>14</th>\n",
       "      <td>4</td>\n",
       "      <td>12</td>\n",
       "      <td>0</td>\n",
       "      <td>3</td>\n",
       "      <td>11</td>\n",
       "      <td>6</td>\n",
       "      <td>2</td>\n",
       "      <td>37</td>\n",
       "      <td>75</td>\n",
       "    </tr>\n",
       "    <tr>\n",
       "      <th>15</th>\n",
       "      <td>0</td>\n",
       "      <td>15</td>\n",
       "      <td>1</td>\n",
       "      <td>11</td>\n",
       "      <td>9</td>\n",
       "      <td>15</td>\n",
       "      <td>4</td>\n",
       "      <td>30</td>\n",
       "      <td>85</td>\n",
       "    </tr>\n",
       "    <tr>\n",
       "      <th>16</th>\n",
       "      <td>2</td>\n",
       "      <td>5</td>\n",
       "      <td>1</td>\n",
       "      <td>3</td>\n",
       "      <td>12</td>\n",
       "      <td>14</td>\n",
       "      <td>2</td>\n",
       "      <td>36</td>\n",
       "      <td>75</td>\n",
       "    </tr>\n",
       "    <tr>\n",
       "      <th>17</th>\n",
       "      <td>4</td>\n",
       "      <td>6</td>\n",
       "      <td>1</td>\n",
       "      <td>6</td>\n",
       "      <td>15</td>\n",
       "      <td>9</td>\n",
       "      <td>5</td>\n",
       "      <td>49</td>\n",
       "      <td>95</td>\n",
       "    </tr>\n",
       "    <tr>\n",
       "      <th>18</th>\n",
       "      <td>4</td>\n",
       "      <td>13</td>\n",
       "      <td>0</td>\n",
       "      <td>2</td>\n",
       "      <td>14</td>\n",
       "      <td>14</td>\n",
       "      <td>3</td>\n",
       "      <td>41</td>\n",
       "      <td>91</td>\n",
       "    </tr>\n",
       "    <tr>\n",
       "      <th>19</th>\n",
       "      <td>6</td>\n",
       "      <td>12</td>\n",
       "      <td>0</td>\n",
       "      <td>3</td>\n",
       "      <td>21</td>\n",
       "      <td>9</td>\n",
       "      <td>6</td>\n",
       "      <td>43</td>\n",
       "      <td>100</td>\n",
       "    </tr>\n",
       "    <tr>\n",
       "      <th>20</th>\n",
       "      <td>4</td>\n",
       "      <td>13</td>\n",
       "      <td>1</td>\n",
       "      <td>4</td>\n",
       "      <td>13</td>\n",
       "      <td>11</td>\n",
       "      <td>3</td>\n",
       "      <td>42</td>\n",
       "      <td>91</td>\n",
       "    </tr>\n",
       "    <tr>\n",
       "      <th>21</th>\n",
       "      <td>3</td>\n",
       "      <td>7</td>\n",
       "      <td>0</td>\n",
       "      <td>5</td>\n",
       "      <td>11</td>\n",
       "      <td>9</td>\n",
       "      <td>2</td>\n",
       "      <td>35</td>\n",
       "      <td>72</td>\n",
       "    </tr>\n",
       "    <tr>\n",
       "      <th>22</th>\n",
       "      <td>7</td>\n",
       "      <td>8</td>\n",
       "      <td>0</td>\n",
       "      <td>5</td>\n",
       "      <td>9</td>\n",
       "      <td>14</td>\n",
       "      <td>4</td>\n",
       "      <td>31</td>\n",
       "      <td>78</td>\n",
       "    </tr>\n",
       "    <tr>\n",
       "      <th>23</th>\n",
       "      <td>2</td>\n",
       "      <td>7</td>\n",
       "      <td>0</td>\n",
       "      <td>5</td>\n",
       "      <td>26</td>\n",
       "      <td>17</td>\n",
       "      <td>2</td>\n",
       "      <td>28</td>\n",
       "      <td>87</td>\n",
       "    </tr>\n",
       "    <tr>\n",
       "      <th>24</th>\n",
       "      <td>2</td>\n",
       "      <td>11</td>\n",
       "      <td>0</td>\n",
       "      <td>6</td>\n",
       "      <td>14</td>\n",
       "      <td>9</td>\n",
       "      <td>4</td>\n",
       "      <td>33</td>\n",
       "      <td>79</td>\n",
       "    </tr>\n",
       "    <tr>\n",
       "      <th>25</th>\n",
       "      <td>5</td>\n",
       "      <td>11</td>\n",
       "      <td>0</td>\n",
       "      <td>2</td>\n",
       "      <td>18</td>\n",
       "      <td>8</td>\n",
       "      <td>5</td>\n",
       "      <td>46</td>\n",
       "      <td>95</td>\n",
       "    </tr>\n",
       "    <tr>\n",
       "      <th>26</th>\n",
       "      <td>4</td>\n",
       "      <td>8</td>\n",
       "      <td>0</td>\n",
       "      <td>4</td>\n",
       "      <td>11</td>\n",
       "      <td>9</td>\n",
       "      <td>4</td>\n",
       "      <td>41</td>\n",
       "      <td>81</td>\n",
       "    </tr>\n",
       "    <tr>\n",
       "      <th>27</th>\n",
       "      <td>5</td>\n",
       "      <td>9</td>\n",
       "      <td>0</td>\n",
       "      <td>3</td>\n",
       "      <td>4</td>\n",
       "      <td>17</td>\n",
       "      <td>5</td>\n",
       "      <td>37</td>\n",
       "      <td>80</td>\n",
       "    </tr>\n",
       "    <tr>\n",
       "      <th>28</th>\n",
       "      <td>6</td>\n",
       "      <td>9</td>\n",
       "      <td>1</td>\n",
       "      <td>2</td>\n",
       "      <td>13</td>\n",
       "      <td>7</td>\n",
       "      <td>2</td>\n",
       "      <td>29</td>\n",
       "      <td>69</td>\n",
       "    </tr>\n",
       "    <tr>\n",
       "      <th>29</th>\n",
       "      <td>2</td>\n",
       "      <td>15</td>\n",
       "      <td>0</td>\n",
       "      <td>8</td>\n",
       "      <td>18</td>\n",
       "      <td>8</td>\n",
       "      <td>4</td>\n",
       "      <td>28</td>\n",
       "      <td>83</td>\n",
       "    </tr>\n",
       "    <tr>\n",
       "      <th>30</th>\n",
       "      <td>3</td>\n",
       "      <td>9</td>\n",
       "      <td>0</td>\n",
       "      <td>6</td>\n",
       "      <td>21</td>\n",
       "      <td>11</td>\n",
       "      <td>8</td>\n",
       "      <td>32</td>\n",
       "      <td>90</td>\n",
       "    </tr>\n",
       "  </tbody>\n",
       "</table>\n",
       "</div>"
      ],
      "text/plain": [
       "    0   1  2   3   4   5   6   7  sum\n",
       "0   3  10  0   5  14  12   2  38   84\n",
       "1   0   8  0  10  13  14  11  27   83\n",
       "2   2   4  3   5  29  12   3  35   93\n",
       "3   0   0  0   1   6   0   1   2   10\n",
       "4   4   9  2   7  11  16   9  51  109\n",
       "5   5  16  1   4  15   6   4  43   94\n",
       "6   5   9  1   7  12   5   6  34   79\n",
       "7   1   9  1   2  10   9   1  25   58\n",
       "8   1   5  0   6  12   8   5  36   73\n",
       "9   1  10  0   3  13  12   3  41   83\n",
       "10  5  13  2   3  11  15   5  39   93\n",
       "11  2  20  2   5  21  13   6  37  106\n",
       "12  2   8  0   2  18  10   8  39   87\n",
       "13  3   8  0   5  13  11   4  39   83\n",
       "14  4  12  0   3  11   6   2  37   75\n",
       "15  0  15  1  11   9  15   4  30   85\n",
       "16  2   5  1   3  12  14   2  36   75\n",
       "17  4   6  1   6  15   9   5  49   95\n",
       "18  4  13  0   2  14  14   3  41   91\n",
       "19  6  12  0   3  21   9   6  43  100\n",
       "20  4  13  1   4  13  11   3  42   91\n",
       "21  3   7  0   5  11   9   2  35   72\n",
       "22  7   8  0   5   9  14   4  31   78\n",
       "23  2   7  0   5  26  17   2  28   87\n",
       "24  2  11  0   6  14   9   4  33   79\n",
       "25  5  11  0   2  18   8   5  46   95\n",
       "26  4   8  0   4  11   9   4  41   81\n",
       "27  5   9  0   3   4  17   5  37   80\n",
       "28  6   9  1   2  13   7   2  29   69\n",
       "29  2  15  0   8  18   8   4  28   83\n",
       "30  3   9  0   6  21  11   8  32   90"
      ]
     },
     "execution_count": 22,
     "metadata": {},
     "output_type": "execute_result"
    }
   ],
   "source": []
  },
  {
   "cell_type": "code",
   "execution_count": 24,
   "metadata": {},
   "outputs": [],
   "source": [
    "tj_july_visits_by_day['pct'] = tj_july_visits_by_day['sum'] / tj_july_visits_by_day['sum'].sum() "
   ]
  },
  {
   "cell_type": "code",
   "execution_count": 27,
   "metadata": {},
   "outputs": [
    {
     "data": {
      "text/plain": [
       "2561"
      ]
     },
     "execution_count": 27,
     "metadata": {},
     "output_type": "execute_result"
    }
   ],
   "source": [
    "tj_july_visits_by_day['sum'].sum()"
   ]
  },
  {
   "cell_type": "code",
   "execution_count": 21,
   "metadata": {},
   "outputs": [],
   "source": [
    "cases = list(cases)\n",
    "visits = list(tj_july_visits_by_day['sum'].iloc[1:])"
   ]
  },
  {
   "cell_type": "code",
   "execution_count": 22,
   "metadata": {},
   "outputs": [
    {
     "data": {
      "text/plain": [
       "31"
      ]
     },
     "execution_count": 22,
     "metadata": {},
     "output_type": "execute_result"
    }
   ],
   "source": [
    "len(cases)"
   ]
  },
  {
   "cell_type": "code",
   "execution_count": null,
   "metadata": {},
   "outputs": [],
   "source": []
  },
  {
   "cell_type": "code",
   "execution_count": null,
   "metadata": {},
   "outputs": [],
   "source": []
  },
  {
   "cell_type": "code",
   "execution_count": null,
   "metadata": {},
   "outputs": [],
   "source": []
  }
 ],
 "metadata": {
  "kernelspec": {
   "display_name": "Python 3",
   "language": "python",
   "name": "python3"
  },
  "language_info": {
   "codemirror_mode": {
    "name": "ipython",
    "version": 3
   },
   "file_extension": ".py",
   "mimetype": "text/x-python",
   "name": "python",
   "nbconvert_exporter": "python",
   "pygments_lexer": "ipython3",
   "version": "3.7.6"
  },
  "varInspector": {
   "cols": {
    "lenName": 16,
    "lenType": 16,
    "lenVar": 40
   },
   "kernels_config": {
    "python": {
     "delete_cmd_postfix": "",
     "delete_cmd_prefix": "del ",
     "library": "var_list.py",
     "varRefreshCmd": "print(var_dic_list())"
    },
    "r": {
     "delete_cmd_postfix": ") ",
     "delete_cmd_prefix": "rm(",
     "library": "var_list.r",
     "varRefreshCmd": "cat(var_dic_list()) "
    }
   },
   "types_to_exclude": [
    "module",
    "function",
    "builtin_function_or_method",
    "instance",
    "_Feature"
   ],
   "window_display": false
  }
 },
 "nbformat": 4,
 "nbformat_minor": 4
}
