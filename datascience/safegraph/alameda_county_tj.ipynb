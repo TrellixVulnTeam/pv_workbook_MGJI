{
 "cells": [
  {
   "cell_type": "code",
   "execution_count": 142,
   "metadata": {},
   "outputs": [],
   "source": [
    "import pandas as pd\n",
    "import seaborn as sns\n",
    "import numpy as np\n",
    "import matplotlib.pyplot as plt\n",
    "from sklearn.linear_model import LinearRegression\n",
    "import ast"
   ]
  },
  {
   "cell_type": "code",
   "execution_count": 3,
   "metadata": {},
   "outputs": [],
   "source": [
    "tj_locations = pd.read_pickle('tj_locations.pkl')\n",
    "county_covid = pd.read_pickle('alameda_county_covid_july.pkl')"
   ]
  },
  {
   "cell_type": "code",
   "execution_count": 4,
   "metadata": {},
   "outputs": [
    {
     "data": {
      "text/plain": [
       "Index(['safegraph_place_id', 'location_name', 'street_address', 'city',\n",
       "       'region', 'postal_code', 'safegraph_brand_ids', 'brands',\n",
       "       'date_range_start', 'date_range_end', 'raw_visit_counts',\n",
       "       'raw_visitor_counts', 'visits_by_day', 'poi_cbg', 'visitor_home_cbgs',\n",
       "       'visitor_daytime_cbgs', 'visitor_work_cbgs',\n",
       "       'visitor_country_of_origin', 'distance_from_home', 'median_dwell',\n",
       "       'bucketed_dwell_times', 'related_same_day_brand',\n",
       "       'related_same_month_brand', 'popularity_by_hour', 'popularity_by_day',\n",
       "       'device_type'],\n",
       "      dtype='object')"
      ]
     },
     "execution_count": 4,
     "metadata": {},
     "output_type": "execute_result"
    }
   ],
   "source": [
    "tj_locations.columns"
   ]
  },
  {
   "cell_type": "code",
   "execution_count": 143,
   "metadata": {},
   "outputs": [],
   "source": [
    "def literal_data_return(val):\n",
    "    try:\n",
    "        return ast.literal_eval(val)\n",
    "    except (ValueError, SyntaxError) as e:\n",
    "        return val"
   ]
  },
  {
   "cell_type": "code",
   "execution_count": 146,
   "metadata": {},
   "outputs": [],
   "source": [
    "tj_locations['related_brand_literal'] = tj_locations['related_same_month_brand'].apply(literal_data_return)"
   ]
  },
  {
   "cell_type": "code",
   "execution_count": 138,
   "metadata": {},
   "outputs": [],
   "source": [
    "def unpack_related_brand_col(df, column, fillna=None):\n",
    "    ret = None\n",
    "    if fillna is None:\n",
    "        ret = pd.concat([df, pd.DataFrame((d for idx, d in df[column].iteritems()))], axis=1)\n",
    "        del ret[column]\n",
    "    else:\n",
    "        ret = pd.concat([df, pd.DataFrame((d for idx, d in df[column].iteritems())).fillna(fillna)], axis=1)\n",
    "        del ret[column]\n",
    "    return ret"
   ]
  },
  {
   "cell_type": "code",
   "execution_count": 162,
   "metadata": {},
   "outputs": [],
   "source": [
    "unpacked = unpack_related_brand_col(tj_locations, 'related_brand_literal', 0)"
   ]
  },
  {
   "cell_type": "code",
   "execution_count": 165,
   "metadata": {},
   "outputs": [
    {
     "data": {
      "text/plain": [
       "Index(['safegraph_place_id', 'location_name', 'street_address', 'city',\n",
       "       'region', 'postal_code', 'safegraph_brand_ids', 'brands',\n",
       "       'date_range_start', 'date_range_end', 'raw_visit_counts',\n",
       "       'raw_visitor_counts', 'visits_by_day', 'poi_cbg', 'visitor_home_cbgs',\n",
       "       'visitor_daytime_cbgs', 'visitor_work_cbgs',\n",
       "       'visitor_country_of_origin', 'distance_from_home', 'median_dwell',\n",
       "       'bucketed_dwell_times', 'related_same_day_brand',\n",
       "       'related_same_month_brand', 'popularity_by_hour', 'popularity_by_day',\n",
       "       'device_type', 'Pharmaca', 'Costco Wholesale Corp.', 'Safeway',\n",
       "       'Starbucks', 'Target', 'The Home Depot', 'In-N-Out Burger', 'Walgreens',\n",
       "       'Chevron', 'Peet's Coffee and Tea', 'Safeway Pharmacy',\n",
       "       'Kaiser Permanente', '7-Eleven', '76', 'Costco Gasoline', 'ARCO',\n",
       "       'Round Table Pizza', 'Ross Stores', 'Togo's Eateries', 'Marshalls',\n",
       "       'IKEA', 'CVS', 'McDonald's', 'Lucky Supermarkets', 'Chevron Extra Mile',\n",
       "       'Walmart', 'Subway', 'Pizza Hut', 'Taco Bell', 'Unleashed by Petco',\n",
       "       'America's Tire', 'Smart & Final', 'Jo-Ann Fabric and Craft Stores',\n",
       "       'Shell Oil', 'Domino's Pizza', 'Little Caesars',\n",
       "       'Safeway Community Market', 'Ace Hardware', 'Jack in the Box',\n",
       "       'Sprouts Farmers Market', '99 Cents Only Stores',\n",
       "       'Chipotle Mexican Grill', 'Safeway Fuel Station', 'Applebee's',\n",
       "       'T.J. Maxx', 'Grocery Outlet', 'Jamba', 'Lowe's', 'Simon mall',\n",
       "       'Michaels Stores', 'Menchie's', 'Kohl's'],\n",
       "      dtype='object')"
      ]
     },
     "execution_count": 165,
     "metadata": {},
     "output_type": "execute_result"
    }
   ],
   "source": [
    "unpacked.columns"
   ]
  },
  {
   "cell_type": "code",
   "execution_count": 172,
   "metadata": {},
   "outputs": [],
   "source": [
    "coffee = [unpacked['Starbucks'].sum(), unpacked['Peet\\'s Coffee and Tea'].sum()]\n",
    "\n",
    "big_box = [unpacked['Walmart'].sum(),\n",
    "           unpacked['Target'].sum(),\n",
    "           unpacked['Costco Wholesale Corp.'].sum()]\n",
    "\n",
    "groceries = [unpacked['Lucky Supermarkets'].sum(),\n",
    "             unpacked['Sprouts Farmers Market'].sum(),\n",
    "             unpacked['Safeway'].sum(),\n",
    "             unpacked['Grocery Outlet'].sum()]\n",
    "\n",
    "hardware = [unpacked['Lowe\\'s'].sum(),\n",
    "            unpacked['Ace Hardware'].sum(),\n",
    "            unpacked['The Home Depot'].sum()]"
   ]
  },
  {
   "cell_type": "code",
   "execution_count": 175,
   "metadata": {},
   "outputs": [
    {
     "data": {
      "text/plain": [
       "<matplotlib.axes._subplots.AxesSubplot at 0x7ff63c1e2e10>"
      ]
     },
     "execution_count": 175,
     "metadata": {},
     "output_type": "execute_result"
    },
    {
     "data": {
      "image/png": "[encoded data removed]",
      "text/plain": [
       "<Figure size 432x288 with 1 Axes>"
      ]
     },
     "metadata": {
      "needs_background": "light"
     },
     "output_type": "display_data"
    }
   ],
   "source": [
    "sns.barplot(x=['Starbucks','Peet\\'s Coffee'],y=coffee)"
   ]
  },
  {
   "cell_type": "code",
   "execution_count": 176,
   "metadata": {},
   "outputs": [
    {
     "data": {
      "text/plain": [
       "<matplotlib.axes._subplots.AxesSubplot at 0x7ff63c1e2f10>"
      ]
     },
     "execution_count": 176,
     "metadata": {},
     "output_type": "execute_result"
    },
    {
     "data": {
      "image/png": "[encoded data removed]",
      "text/plain": [
       "<Figure size 432x288 with 1 Axes>"
      ]
     },
     "metadata": {
      "needs_background": "light"
     },
     "output_type": "display_data"
    }
   ],
   "source": [
    "sns.barplot(x=['Walmart','Target','Costco'],y=big_box)"
   ]
  },
  {
   "cell_type": "code",
   "execution_count": 178,
   "metadata": {},
   "outputs": [
    {
     "data": {
      "text/plain": [
       "<matplotlib.axes._subplots.AxesSubplot at 0x7ff63ef62dd0>"
      ]
     },
     "execution_count": 178,
     "metadata": {},
     "output_type": "execute_result"
    },
    {
     "data": {
      "image/png": "[encoded data removed]",
      "text/plain": [
       "<Figure size 432x288 with 1 Axes>"
      ]
     },
     "metadata": {
      "needs_background": "light"
     },
     "output_type": "display_data"
    }
   ],
   "source": [
    "sns.barplot(x=['Lucky','Sprouts','Safeway','Grocery Outlet'], y=groceries)"
   ]
  },
  {
   "cell_type": "code",
   "execution_count": 180,
   "metadata": {},
   "outputs": [
    {
     "data": {
      "text/plain": [
       "<matplotlib.axes._subplots.AxesSubplot at 0x7ff64012ee50>"
      ]
     },
     "execution_count": 180,
     "metadata": {},
     "output_type": "execute_result"
    },
    {
     "data": {
      "image/png": "[encoded data removed]",
      "text/plain": [
       "<Figure size 432x288 with 1 Axes>"
      ]
     },
     "metadata": {
      "needs_background": "light"
     },
     "output_type": "display_data"
    }
   ],
   "source": [
    "sns.barplot(x=['Lowe\\'s','Ace','The Home Depot'],y=hardware)"
   ]
  },
  {
   "cell_type": "code",
   "execution_count": 112,
   "metadata": {},
   "outputs": [
    {
     "data": {
      "text/plain": [
       "<matplotlib.axes._subplots.AxesSubplot at 0x7ff63fdcf7d0>"
      ]
     },
     "execution_count": 112,
     "metadata": {},
     "output_type": "execute_result"
    },
    {
     "data": {
      "image/png": "[encoded data removed]",
      "text/plain": [
       "<Figure size 432x288 with 1 Axes>"
      ]
     },
     "metadata": {
      "needs_background": "light"
     },
     "output_type": "display_data"
    }
   ],
   "source": [
    "sns.barplot(x=tj_locations.city,y=tj_locations.distance_from_home)"
   ]
  },
  {
   "cell_type": "code",
   "execution_count": null,
   "metadata": {},
   "outputs": [],
   "source": []
  },
  {
   "cell_type": "code",
   "execution_count": 5,
   "metadata": {},
   "outputs": [],
   "source": [
    "Oakland1 = [3,0,2,0,4,5,5,1,1,1,5,2,2,3,4,0,2,4,4,6,4,3,7,2,2,5,4,5,6,2,3]\n",
    "Emeryville = [10,8,4,0,9,16,9,9,5,10,13,20,8,8,12,15,5,6,13,12,13,7,8,7,11,11,8,9,9,15,9]\n",
    "Pleasanton = [0,0,3,0,2,1,1,1,0,0,2,2,0,0,0,1,1,1,0,0,1,0,0,0,0,0,0,0,1,0,0]\n",
    "Berkeley = [5,10,5,1,7,4,7,2,6,3,3,5,2,5,3,11,3,6,2,3,4,5,5,5,6,2,4,3,2,8,6]\n",
    "Alameda = [14,13,29,6,11,15,12,10,12,13,11,21,18,13,11,9,12,15,14,21,13,11,9,26,14,18,11,4,13,18,21]\n",
    "Livermore = [12,14,12,0,16,6,5,9,8,12,15,13,10,11,6,15,14,9,14,9,11,9,14,17,9,8,9,17,7,8,11]\n",
    "Oakland2 = [2,11,3,1,9,4,6,1,5,3,5,6,8,4,2,4,2,5,3,6,3,2,4,2,4,5,4,5,2,4,8]\n",
    "Castro = [38,27,35,2,51,43,34,25,36,41,39,37,39,39,37,30,36,49,41,43,42,35,31,28,33,46,41,37,29,28,32]\n",
    "days = list(range(1,len(Berkeley)))"
   ]
  },
  {
   "cell_type": "code",
   "execution_count": 6,
   "metadata": {},
   "outputs": [],
   "source": [
    "tj_july_visits_by_day = pd.DataFrame(list(zip(Oakland1, Emeryville, Pleasanton,Berkeley, Alameda, Livermore, Oakland2, Castro)))"
   ]
  },
  {
   "cell_type": "code",
   "execution_count": 82,
   "metadata": {},
   "outputs": [],
   "source": [
    "tj_july_visits_by_day.loc[\"Total\"] = tj_july_visits_by_day.sum()\n",
    "weekday = ['W','Th','F','Sat','Su','M','T','W','Th','F','Sat','Su','M','T','W','Th','F','Sat','Su','M','T','W','Th','F','Sat','Su','M','T','W','Th','F','-']"
   ]
  },
  {
   "cell_type": "code",
   "execution_count": 84,
   "metadata": {},
   "outputs": [],
   "source": [
    "tj_july_visits_by_day['weekday'] = weekday"
   ]
  },
  {
   "cell_type": "code",
   "execution_count": 108,
   "metadata": {},
   "outputs": [
    {
     "data": {
      "text/plain": [
       "Text(0.5, 1.0, 'Busiest Weekday As Relative Percentage of Total')"
      ]
     },
     "execution_count": 108,
     "metadata": {},
     "output_type": "execute_result"
    },
    {
     "data": {
      "image/png": "[encoded data removed]",
      "text/plain": [
       "<Figure size 432x288 with 1 Axes>"
      ]
     },
     "metadata": {
      "needs_background": "light"
     },
     "output_type": "display_data"
    }
   ],
   "source": [
    "day_of_week = tj_july_visits_by_day.groupby('weekday').sum()\n",
    "day_of_week.reset_index()\n",
    "pct_total = day_of_week.pct.sort_values()[:-1]\n",
    "sns.barplot(x=pct_total.index,y=pct_total)\n",
    "plt.title('Busiest Weekday As Relative Percentage of Total')\n",
    "# day_of_week['weekday'] = pd.Categorical(day_of_week['weekday'], [\"M\", \"T\", \"W\",\"Th\",\"F\",\"Sat\",\"Su\"])\n",
    "# day_of_week[1:].sort_values('pct')"
   ]
  },
  {
   "cell_type": "code",
   "execution_count": 29,
   "metadata": {},
   "outputs": [],
   "source": [
    "cases = county_covid.cases.diff().fillna(0)\n",
    "deaths = county_covid.deaths.diff().fillna(0)"
   ]
  },
  {
   "cell_type": "code",
   "execution_count": 182,
   "metadata": {},
   "outputs": [
    {
     "data": {
      "text/plain": [
       "Index([0, 1, 2, 3, 4, 5, 6, 7, 'sum', 'pct', 'weekday'], dtype='object')"
      ]
     },
     "execution_count": 182,
     "metadata": {},
     "output_type": "execute_result"
    }
   ],
   "source": [
    "tj_july_visits_by_day.columns"
   ]
  },
  {
   "cell_type": "code",
   "execution_count": 132,
   "metadata": {},
   "outputs": [
    {
     "data": {
      "text/plain": [
       "<mpl_toolkits.mplot3d.art3d.Path3DCollection at 0x7ff641e66e90>"
      ]
     },
     "execution_count": 132,
     "metadata": {},
     "output_type": "execute_result"
    },
    {
     "data": {
      "image/png": "[encoded data removed]",
      "text/plain": [
       "<Figure size 432x288 with 1 Axes>"
      ]
     },
     "metadata": {
      "needs_background": "light"
     },
     "output_type": "display_data"
    }
   ],
   "source": [
    "fig = plt.figure()\n",
    "ax = plt.axes(projection='3d')\n",
    "xdata = tj_locations.median_dwell\n",
    "ydata = tj_locations.distance_from_home\n",
    "zdata = [97, 299, 17, 143, 438, 330, 133, 1104.0]\n",
    "ax.set_title('TJs - Alameda Cty - July 2020')\n",
    "ax.set_xlabel('Med. Dwell Time')\n",
    "ax.set_ylabel('Dist. From Home')\n",
    "ax.set_zlabel('Total Visitors')\n",
    "ax.text(25, 3000, 0, \"OAK - Rockridge\", color='black')\n",
    "ax.text(15, 2000, 100, \"Berkeley\", color='black')\n",
    "ax.text(20, 4000, 1200, \"Castro Valley\", color='black')\n",
    "ax.yaxis.set_ticks(np.arange(0, 5500, 1000))\n",
    "ax.scatter3D(xdata, ydata, zdata, c=zdata, cmap='jet')"
   ]
  },
  {
   "cell_type": "code",
   "execution_count": 183,
   "metadata": {},
   "outputs": [],
   "source": [
    "tj_july_visits_by_day.columns = ['OAK-Rockridge', 'Emeryville', 'Pleasanton','Berkeley', 'Alameda', 'Livermore', 'OAK-Lakeshore', 'Castro Valley', 'sum', 'pct', 'weekday']"
   ]
  },
  {
   "cell_type": "code",
   "execution_count": 191,
   "metadata": {},
   "outputs": [],
   "source": [
    "weekday_avg = tj_july_visits_by_day.groupby(by='weekday').mean().drop(['sum','pct'],axis=1).drop('-')"
   ]
  },
  {
   "cell_type": "code",
   "execution_count": 195,
   "metadata": {},
   "outputs": [
    {
     "data": {
      "text/html": [
       "<div>\n",
       "<style scoped>\n",
       "    .dataframe tbody tr th:only-of-type {\n",
       "        vertical-align: middle;\n",
       "    }\n",
       "\n",
       "    .dataframe tbody tr th {\n",
       "        vertical-align: top;\n",
       "    }\n",
       "\n",
       "    .dataframe thead th {\n",
       "        text-align: right;\n",
       "    }\n",
       "</style>\n",
       "<table border=\"1\" class=\"dataframe\">\n",
       "  <thead>\n",
       "    <tr style=\"text-align: right;\">\n",
       "      <th></th>\n",
       "      <th>OAK-Rockridge</th>\n",
       "      <th>Emeryville</th>\n",
       "      <th>Pleasanton</th>\n",
       "      <th>Berkeley</th>\n",
       "      <th>Alameda</th>\n",
       "      <th>Livermore</th>\n",
       "      <th>OAK-Lakeshore</th>\n",
       "      <th>Castro Valley</th>\n",
       "    </tr>\n",
       "    <tr>\n",
       "      <th>weekday</th>\n",
       "      <th></th>\n",
       "      <th></th>\n",
       "      <th></th>\n",
       "      <th></th>\n",
       "      <th></th>\n",
       "      <th></th>\n",
       "      <th></th>\n",
       "      <th></th>\n",
       "    </tr>\n",
       "  </thead>\n",
       "  <tbody>\n",
       "    <tr>\n",
       "      <th>M</th>\n",
       "      <td>4.25</td>\n",
       "      <td>11.00</td>\n",
       "      <td>0.25</td>\n",
       "      <td>3.25</td>\n",
       "      <td>16.25</td>\n",
       "      <td>8.50</td>\n",
       "      <td>5.50</td>\n",
       "      <td>41.50</td>\n",
       "    </tr>\n",
       "    <tr>\n",
       "      <th>T</th>\n",
       "      <td>4.25</td>\n",
       "      <td>9.75</td>\n",
       "      <td>0.50</td>\n",
       "      <td>4.75</td>\n",
       "      <td>10.50</td>\n",
       "      <td>11.00</td>\n",
       "      <td>4.50</td>\n",
       "      <td>38.00</td>\n",
       "    </tr>\n",
       "    <tr>\n",
       "      <th>W</th>\n",
       "      <td>3.40</td>\n",
       "      <td>9.40</td>\n",
       "      <td>0.40</td>\n",
       "      <td>3.40</td>\n",
       "      <td>11.80</td>\n",
       "      <td>8.60</td>\n",
       "      <td>1.80</td>\n",
       "      <td>32.80</td>\n",
       "    </tr>\n",
       "    <tr>\n",
       "      <th>Th</th>\n",
       "      <td>2.00</td>\n",
       "      <td>10.20</td>\n",
       "      <td>0.20</td>\n",
       "      <td>8.00</td>\n",
       "      <td>12.20</td>\n",
       "      <td>11.80</td>\n",
       "      <td>5.60</td>\n",
       "      <td>30.40</td>\n",
       "    </tr>\n",
       "    <tr>\n",
       "      <th>F</th>\n",
       "      <td>2.00</td>\n",
       "      <td>7.00</td>\n",
       "      <td>0.80</td>\n",
       "      <td>4.40</td>\n",
       "      <td>20.20</td>\n",
       "      <td>13.20</td>\n",
       "      <td>3.60</td>\n",
       "      <td>34.40</td>\n",
       "    </tr>\n",
       "    <tr>\n",
       "      <th>Sat</th>\n",
       "      <td>2.75</td>\n",
       "      <td>7.50</td>\n",
       "      <td>0.75</td>\n",
       "      <td>4.00</td>\n",
       "      <td>11.50</td>\n",
       "      <td>8.25</td>\n",
       "      <td>3.75</td>\n",
       "      <td>30.75</td>\n",
       "    </tr>\n",
       "    <tr>\n",
       "      <th>Su</th>\n",
       "      <td>3.75</td>\n",
       "      <td>13.25</td>\n",
       "      <td>1.00</td>\n",
       "      <td>4.00</td>\n",
       "      <td>16.00</td>\n",
       "      <td>12.75</td>\n",
       "      <td>5.75</td>\n",
       "      <td>43.75</td>\n",
       "    </tr>\n",
       "  </tbody>\n",
       "</table>\n",
       "</div>"
      ],
      "text/plain": [
       "         OAK-Rockridge  Emeryville  Pleasanton  Berkeley  Alameda  Livermore  \\\n",
       "weekday                                                                        \n",
       "M                 4.25       11.00        0.25      3.25    16.25       8.50   \n",
       "T                 4.25        9.75        0.50      4.75    10.50      11.00   \n",
       "W                 3.40        9.40        0.40      3.40    11.80       8.60   \n",
       "Th                2.00       10.20        0.20      8.00    12.20      11.80   \n",
       "F                 2.00        7.00        0.80      4.40    20.20      13.20   \n",
       "Sat               2.75        7.50        0.75      4.00    11.50       8.25   \n",
       "Su                3.75       13.25        1.00      4.00    16.00      12.75   \n",
       "\n",
       "         OAK-Lakeshore  Castro Valley  \n",
       "weekday                                \n",
       "M                 5.50          41.50  \n",
       "T                 4.50          38.00  \n",
       "W                 1.80          32.80  \n",
       "Th                5.60          30.40  \n",
       "F                 3.60          34.40  \n",
       "Sat               3.75          30.75  \n",
       "Su                5.75          43.75  "
      ]
     },
     "execution_count": 195,
     "metadata": {},
     "output_type": "execute_result"
    }
   ],
   "source": [
    "order = ['M','T','W','Th','F','Sat','Su']\n",
    "weekday_avg = weekday_avg.reindex(order)\n",
    "weekday_avg"
   ]
  },
  {
   "cell_type": "code",
   "execution_count": 211,
   "metadata": {},
   "outputs": [
    {
     "data": {
      "text/plain": [
       "Text(0.5, 1.0, 'Average Visitor Total by Weekday')"
      ]
     },
     "execution_count": 211,
     "metadata": {},
     "output_type": "execute_result"
    },
    {
     "data": {
      "image/png": "[encoded data removed]",
      "text/plain": [
       "<Figure size 432x288 with 2 Axes>"
      ]
     },
     "metadata": {
      "needs_background": "light"
     },
     "output_type": "display_data"
    }
   ],
   "source": [
    "c = sns.heatmap(weekday_avg,cmap='YlGnBu')\n",
    "c.set_xticklabels(chart.get_xticklabels(), rotation=45, horizontalalignment='right')\n",
    "plt.title('Average Visitor Total by Weekday')"
   ]
  },
  {
   "cell_type": "code",
   "execution_count": 203,
   "metadata": {},
   "outputs": [
    {
     "data": {
      "image/png": "[encoded data removed]",
      "text/plain": [
       "<Figure size 432x288 with 1 Axes>"
      ]
     },
     "metadata": {
      "needs_background": "light"
     },
     "output_type": "display_data"
    }
   ],
   "source": [
    "for location in weekday_avg.columns:\n",
    "    sns.lineplot(x=weekday_avg.index,y=weekday_avg[location])"
   ]
  },
  {
   "cell_type": "code",
   "execution_count": null,
   "metadata": {},
   "outputs": [],
   "source": []
  },
  {
   "cell_type": "code",
   "execution_count": 49,
   "metadata": {},
   "outputs": [],
   "source": [
    "total = 2561\n",
    "store_contribution = [97/total,299/total,17/total,43/total, 438/total,330/total,133/total,1104/total]"
   ]
  },
  {
   "cell_type": "code",
   "execution_count": 65,
   "metadata": {},
   "outputs": [],
   "source": [
    "y = tj_july_visits_by_day.loc['Total'][:-2].sort_values()"
   ]
  },
  {
   "cell_type": "code",
   "execution_count": 74,
   "metadata": {},
   "outputs": [
    {
     "data": {
      "image/png": "[encoded data removed]",
      "text/plain": [
       "<Figure size 648x324 with 1 Axes>"
      ]
     },
     "metadata": {
      "needs_background": "light"
     },
     "output_type": "display_data"
    }
   ],
   "source": [
    "plt.figure(figsize=(9,4.5))\n",
    "chart = sns.barplot(x=['Oakland - Rockridge', 'Emeryville', 'Pleasanton','Berkeley', 'Alameda', 'Livermore', 'Oakland - Lakeshore', 'Castro Valley'],\n",
    "            y=y)\n",
    "chart.set_xticklabels(chart.get_xticklabels(), rotation=45, horizontalalignment='right')\n",
    "plt.show()"
   ]
  },
  {
   "cell_type": "code",
   "execution_count": 37,
   "metadata": {},
   "outputs": [
    {
     "data": {
      "image/png": "[encoded data removed]",
      "text/plain": [
       "<Figure size 432x288 with 1 Axes>"
      ]
     },
     "metadata": {
      "needs_background": "light"
     },
     "output_type": "display_data"
    }
   ],
   "source": [
    "plt.plot(list(range(0,len(deaths))),deaths.cumsum(),'r')\n",
    "plt.xlabel('July 2020')\n",
    "plt.ylabel('Deaths From COVID-19')\n",
    "plt.title('Cumulative Sum of COVID Deaths - July - Alameda County')\n",
    "plt.savefig('deaths.jpg')"
   ]
  },
  {
   "cell_type": "code",
   "execution_count": 13,
   "metadata": {},
   "outputs": [],
   "source": [
    "cases_all_year = pd.read_pickle('all_alameda_cases.pkl')"
   ]
  },
  {
   "cell_type": "code",
   "execution_count": 38,
   "metadata": {},
   "outputs": [
    {
     "data": {
      "image/png": "[encoded data removed]",
      "text/plain": [
       "<Figure size 432x288 with 1 Axes>"
      ]
     },
     "metadata": {
      "needs_background": "light"
     },
     "output_type": "display_data"
    }
   ],
   "source": [
    "plt.plot(list(range(0,len(cases_all_year))),cases_all_year.cases)\n",
    "plt.xlabel('Days Since First COVID Case - Alameda County')\n",
    "plt.ylabel('Total Cases')\n",
    "plt.savefig('casestotal.jpg')"
   ]
  },
  {
   "cell_type": "code",
   "execution_count": 206,
   "metadata": {},
   "outputs": [
    {
     "data": {
      "text/html": [
       "<div>\n",
       "<style scoped>\n",
       "    .dataframe tbody tr th:only-of-type {\n",
       "        vertical-align: middle;\n",
       "    }\n",
       "\n",
       "    .dataframe tbody tr th {\n",
       "        vertical-align: top;\n",
       "    }\n",
       "\n",
       "    .dataframe thead th {\n",
       "        text-align: right;\n",
       "    }\n",
       "</style>\n",
       "<table border=\"1\" class=\"dataframe\">\n",
       "  <thead>\n",
       "    <tr style=\"text-align: right;\">\n",
       "      <th></th>\n",
       "      <th>OAK-Rockridge</th>\n",
       "      <th>Emeryville</th>\n",
       "      <th>Pleasanton</th>\n",
       "      <th>Berkeley</th>\n",
       "      <th>Alameda</th>\n",
       "      <th>Livermore</th>\n",
       "      <th>OAK-Lakeshore</th>\n",
       "      <th>Castro Valley</th>\n",
       "      <th>sum</th>\n",
       "      <th>pct</th>\n",
       "      <th>weekday</th>\n",
       "    </tr>\n",
       "  </thead>\n",
       "  <tbody>\n",
       "    <tr>\n",
       "      <th>0</th>\n",
       "      <td>3.0</td>\n",
       "      <td>10.0</td>\n",
       "      <td>0.0</td>\n",
       "      <td>5.0</td>\n",
       "      <td>14.0</td>\n",
       "      <td>12.0</td>\n",
       "      <td>2.0</td>\n",
       "      <td>38.0</td>\n",
       "      <td>84.0</td>\n",
       "      <td>0.032800</td>\n",
       "      <td>W</td>\n",
       "    </tr>\n",
       "    <tr>\n",
       "      <th>1</th>\n",
       "      <td>0.0</td>\n",
       "      <td>8.0</td>\n",
       "      <td>0.0</td>\n",
       "      <td>10.0</td>\n",
       "      <td>13.0</td>\n",
       "      <td>14.0</td>\n",
       "      <td>11.0</td>\n",
       "      <td>27.0</td>\n",
       "      <td>83.0</td>\n",
       "      <td>0.032409</td>\n",
       "      <td>Th</td>\n",
       "    </tr>\n",
       "    <tr>\n",
       "      <th>2</th>\n",
       "      <td>2.0</td>\n",
       "      <td>4.0</td>\n",
       "      <td>3.0</td>\n",
       "      <td>5.0</td>\n",
       "      <td>29.0</td>\n",
       "      <td>12.0</td>\n",
       "      <td>3.0</td>\n",
       "      <td>35.0</td>\n",
       "      <td>93.0</td>\n",
       "      <td>0.036314</td>\n",
       "      <td>F</td>\n",
       "    </tr>\n",
       "    <tr>\n",
       "      <th>3</th>\n",
       "      <td>0.0</td>\n",
       "      <td>0.0</td>\n",
       "      <td>0.0</td>\n",
       "      <td>1.0</td>\n",
       "      <td>6.0</td>\n",
       "      <td>0.0</td>\n",
       "      <td>1.0</td>\n",
       "      <td>2.0</td>\n",
       "      <td>10.0</td>\n",
       "      <td>0.003905</td>\n",
       "      <td>Sat</td>\n",
       "    </tr>\n",
       "    <tr>\n",
       "      <th>4</th>\n",
       "      <td>4.0</td>\n",
       "      <td>9.0</td>\n",
       "      <td>2.0</td>\n",
       "      <td>7.0</td>\n",
       "      <td>11.0</td>\n",
       "      <td>16.0</td>\n",
       "      <td>9.0</td>\n",
       "      <td>51.0</td>\n",
       "      <td>109.0</td>\n",
       "      <td>0.042561</td>\n",
       "      <td>Su</td>\n",
       "    </tr>\n",
       "    <tr>\n",
       "      <th>5</th>\n",
       "      <td>5.0</td>\n",
       "      <td>16.0</td>\n",
       "      <td>1.0</td>\n",
       "      <td>4.0</td>\n",
       "      <td>15.0</td>\n",
       "      <td>6.0</td>\n",
       "      <td>4.0</td>\n",
       "      <td>43.0</td>\n",
       "      <td>94.0</td>\n",
       "      <td>0.036704</td>\n",
       "      <td>M</td>\n",
       "    </tr>\n",
       "    <tr>\n",
       "      <th>6</th>\n",
       "      <td>5.0</td>\n",
       "      <td>9.0</td>\n",
       "      <td>1.0</td>\n",
       "      <td>7.0</td>\n",
       "      <td>12.0</td>\n",
       "      <td>5.0</td>\n",
       "      <td>6.0</td>\n",
       "      <td>34.0</td>\n",
       "      <td>79.0</td>\n",
       "      <td>0.030847</td>\n",
       "      <td>T</td>\n",
       "    </tr>\n",
       "    <tr>\n",
       "      <th>7</th>\n",
       "      <td>1.0</td>\n",
       "      <td>9.0</td>\n",
       "      <td>1.0</td>\n",
       "      <td>2.0</td>\n",
       "      <td>10.0</td>\n",
       "      <td>9.0</td>\n",
       "      <td>1.0</td>\n",
       "      <td>25.0</td>\n",
       "      <td>58.0</td>\n",
       "      <td>0.022647</td>\n",
       "      <td>W</td>\n",
       "    </tr>\n",
       "    <tr>\n",
       "      <th>8</th>\n",
       "      <td>1.0</td>\n",
       "      <td>5.0</td>\n",
       "      <td>0.0</td>\n",
       "      <td>6.0</td>\n",
       "      <td>12.0</td>\n",
       "      <td>8.0</td>\n",
       "      <td>5.0</td>\n",
       "      <td>36.0</td>\n",
       "      <td>73.0</td>\n",
       "      <td>0.028504</td>\n",
       "      <td>Th</td>\n",
       "    </tr>\n",
       "    <tr>\n",
       "      <th>9</th>\n",
       "      <td>1.0</td>\n",
       "      <td>10.0</td>\n",
       "      <td>0.0</td>\n",
       "      <td>3.0</td>\n",
       "      <td>13.0</td>\n",
       "      <td>12.0</td>\n",
       "      <td>3.0</td>\n",
       "      <td>41.0</td>\n",
       "      <td>83.0</td>\n",
       "      <td>0.032409</td>\n",
       "      <td>F</td>\n",
       "    </tr>\n",
       "    <tr>\n",
       "      <th>10</th>\n",
       "      <td>5.0</td>\n",
       "      <td>13.0</td>\n",
       "      <td>2.0</td>\n",
       "      <td>3.0</td>\n",
       "      <td>11.0</td>\n",
       "      <td>15.0</td>\n",
       "      <td>5.0</td>\n",
       "      <td>39.0</td>\n",
       "      <td>93.0</td>\n",
       "      <td>0.036314</td>\n",
       "      <td>Sat</td>\n",
       "    </tr>\n",
       "    <tr>\n",
       "      <th>11</th>\n",
       "      <td>2.0</td>\n",
       "      <td>20.0</td>\n",
       "      <td>2.0</td>\n",
       "      <td>5.0</td>\n",
       "      <td>21.0</td>\n",
       "      <td>13.0</td>\n",
       "      <td>6.0</td>\n",
       "      <td>37.0</td>\n",
       "      <td>106.0</td>\n",
       "      <td>0.041390</td>\n",
       "      <td>Su</td>\n",
       "    </tr>\n",
       "    <tr>\n",
       "      <th>12</th>\n",
       "      <td>2.0</td>\n",
       "      <td>8.0</td>\n",
       "      <td>0.0</td>\n",
       "      <td>2.0</td>\n",
       "      <td>18.0</td>\n",
       "      <td>10.0</td>\n",
       "      <td>8.0</td>\n",
       "      <td>39.0</td>\n",
       "      <td>87.0</td>\n",
       "      <td>0.033971</td>\n",
       "      <td>M</td>\n",
       "    </tr>\n",
       "    <tr>\n",
       "      <th>13</th>\n",
       "      <td>3.0</td>\n",
       "      <td>8.0</td>\n",
       "      <td>0.0</td>\n",
       "      <td>5.0</td>\n",
       "      <td>13.0</td>\n",
       "      <td>11.0</td>\n",
       "      <td>4.0</td>\n",
       "      <td>39.0</td>\n",
       "      <td>83.0</td>\n",
       "      <td>0.032409</td>\n",
       "      <td>T</td>\n",
       "    </tr>\n",
       "    <tr>\n",
       "      <th>14</th>\n",
       "      <td>4.0</td>\n",
       "      <td>12.0</td>\n",
       "      <td>0.0</td>\n",
       "      <td>3.0</td>\n",
       "      <td>11.0</td>\n",
       "      <td>6.0</td>\n",
       "      <td>2.0</td>\n",
       "      <td>37.0</td>\n",
       "      <td>75.0</td>\n",
       "      <td>0.029285</td>\n",
       "      <td>W</td>\n",
       "    </tr>\n",
       "    <tr>\n",
       "      <th>15</th>\n",
       "      <td>0.0</td>\n",
       "      <td>15.0</td>\n",
       "      <td>1.0</td>\n",
       "      <td>11.0</td>\n",
       "      <td>9.0</td>\n",
       "      <td>15.0</td>\n",
       "      <td>4.0</td>\n",
       "      <td>30.0</td>\n",
       "      <td>85.0</td>\n",
       "      <td>0.033190</td>\n",
       "      <td>Th</td>\n",
       "    </tr>\n",
       "    <tr>\n",
       "      <th>16</th>\n",
       "      <td>2.0</td>\n",
       "      <td>5.0</td>\n",
       "      <td>1.0</td>\n",
       "      <td>3.0</td>\n",
       "      <td>12.0</td>\n",
       "      <td>14.0</td>\n",
       "      <td>2.0</td>\n",
       "      <td>36.0</td>\n",
       "      <td>75.0</td>\n",
       "      <td>0.029285</td>\n",
       "      <td>F</td>\n",
       "    </tr>\n",
       "    <tr>\n",
       "      <th>17</th>\n",
       "      <td>4.0</td>\n",
       "      <td>6.0</td>\n",
       "      <td>1.0</td>\n",
       "      <td>6.0</td>\n",
       "      <td>15.0</td>\n",
       "      <td>9.0</td>\n",
       "      <td>5.0</td>\n",
       "      <td>49.0</td>\n",
       "      <td>95.0</td>\n",
       "      <td>0.037095</td>\n",
       "      <td>Sat</td>\n",
       "    </tr>\n",
       "    <tr>\n",
       "      <th>18</th>\n",
       "      <td>4.0</td>\n",
       "      <td>13.0</td>\n",
       "      <td>0.0</td>\n",
       "      <td>2.0</td>\n",
       "      <td>14.0</td>\n",
       "      <td>14.0</td>\n",
       "      <td>3.0</td>\n",
       "      <td>41.0</td>\n",
       "      <td>91.0</td>\n",
       "      <td>0.035533</td>\n",
       "      <td>Su</td>\n",
       "    </tr>\n",
       "    <tr>\n",
       "      <th>19</th>\n",
       "      <td>6.0</td>\n",
       "      <td>12.0</td>\n",
       "      <td>0.0</td>\n",
       "      <td>3.0</td>\n",
       "      <td>21.0</td>\n",
       "      <td>9.0</td>\n",
       "      <td>6.0</td>\n",
       "      <td>43.0</td>\n",
       "      <td>100.0</td>\n",
       "      <td>0.039047</td>\n",
       "      <td>M</td>\n",
       "    </tr>\n",
       "    <tr>\n",
       "      <th>20</th>\n",
       "      <td>4.0</td>\n",
       "      <td>13.0</td>\n",
       "      <td>1.0</td>\n",
       "      <td>4.0</td>\n",
       "      <td>13.0</td>\n",
       "      <td>11.0</td>\n",
       "      <td>3.0</td>\n",
       "      <td>42.0</td>\n",
       "      <td>91.0</td>\n",
       "      <td>0.035533</td>\n",
       "      <td>T</td>\n",
       "    </tr>\n",
       "    <tr>\n",
       "      <th>21</th>\n",
       "      <td>3.0</td>\n",
       "      <td>7.0</td>\n",
       "      <td>0.0</td>\n",
       "      <td>5.0</td>\n",
       "      <td>11.0</td>\n",
       "      <td>9.0</td>\n",
       "      <td>2.0</td>\n",
       "      <td>35.0</td>\n",
       "      <td>72.0</td>\n",
       "      <td>0.028114</td>\n",
       "      <td>W</td>\n",
       "    </tr>\n",
       "    <tr>\n",
       "      <th>22</th>\n",
       "      <td>7.0</td>\n",
       "      <td>8.0</td>\n",
       "      <td>0.0</td>\n",
       "      <td>5.0</td>\n",
       "      <td>9.0</td>\n",
       "      <td>14.0</td>\n",
       "      <td>4.0</td>\n",
       "      <td>31.0</td>\n",
       "      <td>78.0</td>\n",
       "      <td>0.030457</td>\n",
       "      <td>Th</td>\n",
       "    </tr>\n",
       "    <tr>\n",
       "      <th>23</th>\n",
       "      <td>2.0</td>\n",
       "      <td>7.0</td>\n",
       "      <td>0.0</td>\n",
       "      <td>5.0</td>\n",
       "      <td>26.0</td>\n",
       "      <td>17.0</td>\n",
       "      <td>2.0</td>\n",
       "      <td>28.0</td>\n",
       "      <td>87.0</td>\n",
       "      <td>0.033971</td>\n",
       "      <td>F</td>\n",
       "    </tr>\n",
       "    <tr>\n",
       "      <th>24</th>\n",
       "      <td>2.0</td>\n",
       "      <td>11.0</td>\n",
       "      <td>0.0</td>\n",
       "      <td>6.0</td>\n",
       "      <td>14.0</td>\n",
       "      <td>9.0</td>\n",
       "      <td>4.0</td>\n",
       "      <td>33.0</td>\n",
       "      <td>79.0</td>\n",
       "      <td>0.030847</td>\n",
       "      <td>Sat</td>\n",
       "    </tr>\n",
       "    <tr>\n",
       "      <th>25</th>\n",
       "      <td>5.0</td>\n",
       "      <td>11.0</td>\n",
       "      <td>0.0</td>\n",
       "      <td>2.0</td>\n",
       "      <td>18.0</td>\n",
       "      <td>8.0</td>\n",
       "      <td>5.0</td>\n",
       "      <td>46.0</td>\n",
       "      <td>95.0</td>\n",
       "      <td>0.037095</td>\n",
       "      <td>Su</td>\n",
       "    </tr>\n",
       "    <tr>\n",
       "      <th>26</th>\n",
       "      <td>4.0</td>\n",
       "      <td>8.0</td>\n",
       "      <td>0.0</td>\n",
       "      <td>4.0</td>\n",
       "      <td>11.0</td>\n",
       "      <td>9.0</td>\n",
       "      <td>4.0</td>\n",
       "      <td>41.0</td>\n",
       "      <td>81.0</td>\n",
       "      <td>0.031628</td>\n",
       "      <td>M</td>\n",
       "    </tr>\n",
       "    <tr>\n",
       "      <th>27</th>\n",
       "      <td>5.0</td>\n",
       "      <td>9.0</td>\n",
       "      <td>0.0</td>\n",
       "      <td>3.0</td>\n",
       "      <td>4.0</td>\n",
       "      <td>17.0</td>\n",
       "      <td>5.0</td>\n",
       "      <td>37.0</td>\n",
       "      <td>80.0</td>\n",
       "      <td>0.031238</td>\n",
       "      <td>T</td>\n",
       "    </tr>\n",
       "    <tr>\n",
       "      <th>28</th>\n",
       "      <td>6.0</td>\n",
       "      <td>9.0</td>\n",
       "      <td>1.0</td>\n",
       "      <td>2.0</td>\n",
       "      <td>13.0</td>\n",
       "      <td>7.0</td>\n",
       "      <td>2.0</td>\n",
       "      <td>29.0</td>\n",
       "      <td>69.0</td>\n",
       "      <td>0.026943</td>\n",
       "      <td>W</td>\n",
       "    </tr>\n",
       "    <tr>\n",
       "      <th>29</th>\n",
       "      <td>2.0</td>\n",
       "      <td>15.0</td>\n",
       "      <td>0.0</td>\n",
       "      <td>8.0</td>\n",
       "      <td>18.0</td>\n",
       "      <td>8.0</td>\n",
       "      <td>4.0</td>\n",
       "      <td>28.0</td>\n",
       "      <td>83.0</td>\n",
       "      <td>0.032409</td>\n",
       "      <td>Th</td>\n",
       "    </tr>\n",
       "    <tr>\n",
       "      <th>30</th>\n",
       "      <td>3.0</td>\n",
       "      <td>9.0</td>\n",
       "      <td>0.0</td>\n",
       "      <td>6.0</td>\n",
       "      <td>21.0</td>\n",
       "      <td>11.0</td>\n",
       "      <td>8.0</td>\n",
       "      <td>32.0</td>\n",
       "      <td>90.0</td>\n",
       "      <td>0.035143</td>\n",
       "      <td>F</td>\n",
       "    </tr>\n",
       "    <tr>\n",
       "      <th>Total</th>\n",
       "      <td>485.0</td>\n",
       "      <td>1495.0</td>\n",
       "      <td>85.0</td>\n",
       "      <td>715.0</td>\n",
       "      <td>2190.0</td>\n",
       "      <td>1650.0</td>\n",
       "      <td>665.0</td>\n",
       "      <td>5520.0</td>\n",
       "      <td>12805.0</td>\n",
       "      <td>5.000000</td>\n",
       "      <td>-</td>\n",
       "    </tr>\n",
       "  </tbody>\n",
       "</table>\n",
       "</div>"
      ],
      "text/plain": [
       "       OAK-Rockridge  Emeryville  Pleasanton  Berkeley  Alameda  Livermore  \\\n",
       "0                3.0        10.0         0.0       5.0     14.0       12.0   \n",
       "1                0.0         8.0         0.0      10.0     13.0       14.0   \n",
       "2                2.0         4.0         3.0       5.0     29.0       12.0   \n",
       "3                0.0         0.0         0.0       1.0      6.0        0.0   \n",
       "4                4.0         9.0         2.0       7.0     11.0       16.0   \n",
       "5                5.0        16.0         1.0       4.0     15.0        6.0   \n",
       "6                5.0         9.0         1.0       7.0     12.0        5.0   \n",
       "7                1.0         9.0         1.0       2.0     10.0        9.0   \n",
       "8                1.0         5.0         0.0       6.0     12.0        8.0   \n",
       "9                1.0        10.0         0.0       3.0     13.0       12.0   \n",
       "10               5.0        13.0         2.0       3.0     11.0       15.0   \n",
       "11               2.0        20.0         2.0       5.0     21.0       13.0   \n",
       "12               2.0         8.0         0.0       2.0     18.0       10.0   \n",
       "13               3.0         8.0         0.0       5.0     13.0       11.0   \n",
       "14               4.0        12.0         0.0       3.0     11.0        6.0   \n",
       "15               0.0        15.0         1.0      11.0      9.0       15.0   \n",
       "16               2.0         5.0         1.0       3.0     12.0       14.0   \n",
       "17               4.0         6.0         1.0       6.0     15.0        9.0   \n",
       "18               4.0        13.0         0.0       2.0     14.0       14.0   \n",
       "19               6.0        12.0         0.0       3.0     21.0        9.0   \n",
       "20               4.0        13.0         1.0       4.0     13.0       11.0   \n",
       "21               3.0         7.0         0.0       5.0     11.0        9.0   \n",
       "22               7.0         8.0         0.0       5.0      9.0       14.0   \n",
       "23               2.0         7.0         0.0       5.0     26.0       17.0   \n",
       "24               2.0        11.0         0.0       6.0     14.0        9.0   \n",
       "25               5.0        11.0         0.0       2.0     18.0        8.0   \n",
       "26               4.0         8.0         0.0       4.0     11.0        9.0   \n",
       "27               5.0         9.0         0.0       3.0      4.0       17.0   \n",
       "28               6.0         9.0         1.0       2.0     13.0        7.0   \n",
       "29               2.0        15.0         0.0       8.0     18.0        8.0   \n",
       "30               3.0         9.0         0.0       6.0     21.0       11.0   \n",
       "Total          485.0      1495.0        85.0     715.0   2190.0     1650.0   \n",
       "\n",
       "       OAK-Lakeshore  Castro Valley      sum       pct weekday  \n",
       "0                2.0           38.0     84.0  0.032800       W  \n",
       "1               11.0           27.0     83.0  0.032409      Th  \n",
       "2                3.0           35.0     93.0  0.036314       F  \n",
       "3                1.0            2.0     10.0  0.003905     Sat  \n",
       "4                9.0           51.0    109.0  0.042561      Su  \n",
       "5                4.0           43.0     94.0  0.036704       M  \n",
       "6                6.0           34.0     79.0  0.030847       T  \n",
       "7                1.0           25.0     58.0  0.022647       W  \n",
       "8                5.0           36.0     73.0  0.028504      Th  \n",
       "9                3.0           41.0     83.0  0.032409       F  \n",
       "10               5.0           39.0     93.0  0.036314     Sat  \n",
       "11               6.0           37.0    106.0  0.041390      Su  \n",
       "12               8.0           39.0     87.0  0.033971       M  \n",
       "13               4.0           39.0     83.0  0.032409       T  \n",
       "14               2.0           37.0     75.0  0.029285       W  \n",
       "15               4.0           30.0     85.0  0.033190      Th  \n",
       "16               2.0           36.0     75.0  0.029285       F  \n",
       "17               5.0           49.0     95.0  0.037095     Sat  \n",
       "18               3.0           41.0     91.0  0.035533      Su  \n",
       "19               6.0           43.0    100.0  0.039047       M  \n",
       "20               3.0           42.0     91.0  0.035533       T  \n",
       "21               2.0           35.0     72.0  0.028114       W  \n",
       "22               4.0           31.0     78.0  0.030457      Th  \n",
       "23               2.0           28.0     87.0  0.033971       F  \n",
       "24               4.0           33.0     79.0  0.030847     Sat  \n",
       "25               5.0           46.0     95.0  0.037095      Su  \n",
       "26               4.0           41.0     81.0  0.031628       M  \n",
       "27               5.0           37.0     80.0  0.031238       T  \n",
       "28               2.0           29.0     69.0  0.026943       W  \n",
       "29               4.0           28.0     83.0  0.032409      Th  \n",
       "30               8.0           32.0     90.0  0.035143       F  \n",
       "Total          665.0         5520.0  12805.0  5.000000       -  "
      ]
     },
     "execution_count": 206,
     "metadata": {},
     "output_type": "execute_result"
    }
   ],
   "source": [
    "tj_july_visits_by_day"
   ]
  },
  {
   "cell_type": "code",
   "execution_count": 24,
   "metadata": {},
   "outputs": [],
   "source": [
    "tj_july_visits_by_day['pct'] = tj_july_visits_by_day['sum'] / tj_july_visits_by_day['sum'].sum() "
   ]
  },
  {
   "cell_type": "code",
   "execution_count": 27,
   "metadata": {},
   "outputs": [
    {
     "data": {
      "text/plain": [
       "2561"
      ]
     },
     "execution_count": 27,
     "metadata": {},
     "output_type": "execute_result"
    }
   ],
   "source": [
    "tj_july_visits_by_day['sum'].sum()"
   ]
  },
  {
   "cell_type": "code",
   "execution_count": 21,
   "metadata": {},
   "outputs": [],
   "source": [
    "cases = list(cases)\n",
    "visits = list(tj_july_visits_by_day['sum'].iloc[1:])"
   ]
  },
  {
   "cell_type": "code",
   "execution_count": 22,
   "metadata": {},
   "outputs": [
    {
     "data": {
      "text/plain": [
       "31"
      ]
     },
     "execution_count": 22,
     "metadata": {},
     "output_type": "execute_result"
    }
   ],
   "source": [
    "len(cases)"
   ]
  },
  {
   "cell_type": "code",
   "execution_count": 205,
   "metadata": {},
   "outputs": [
    {
     "name": "stdout",
     "output_type": "stream",
     "text": [
      "0.968676072448026\n",
      "2.111843022665499\n",
      "0.30059464875001163\n",
      "1.611528407917096\n",
      "3.513155548045362\n",
      "2.117922387174572\n",
      "1.4313247277227052\n",
      "5.2601036564112\n"
     ]
    }
   ],
   "source": [
    "for location in weekday_avg.columns:\n",
    "    print(weekday_avg[location].std())"
   ]
  },
  {
   "cell_type": "code",
   "execution_count": null,
   "metadata": {},
   "outputs": [],
   "source": [
    "for location in weekday_avg.columns:\n",
    "    sns.distplot(x=weekday_avg.index,y=weekday_avg[location])\n",
    "sns.plt.legend()"
   ]
  },
  {
   "cell_type": "code",
   "execution_count": null,
   "metadata": {},
   "outputs": [],
   "source": [
    "sns.scatterplot(x=tj_locations)"
   ]
  }
 ],
 "metadata": {
  "kernelspec": {
   "display_name": "Python 3",
   "language": "python",
   "name": "python3"
  },
  "language_info": {
   "codemirror_mode": {
    "name": "ipython",
    "version": 3
   },
   "file_extension": ".py",
   "mimetype": "text/x-python",
   "name": "python",
   "nbconvert_exporter": "python",
   "pygments_lexer": "ipython3",
   "version": "3.7.6"
  },
  "varInspector": {
   "cols": {
    "lenName": 16,
    "lenType": 16,
    "lenVar": 40
   },
   "kernels_config": {
    "python": {
     "delete_cmd_postfix": "",
     "delete_cmd_prefix": "del ",
     "library": "var_list.py",
     "varRefreshCmd": "print(var_dic_list())"
    },
    "r": {
     "delete_cmd_postfix": ") ",
     "delete_cmd_prefix": "rm(",
     "library": "var_list.r",
     "varRefreshCmd": "cat(var_dic_list()) "
    }
   },
   "types_to_exclude": [
    "module",
    "function",
    "builtin_function_or_method",
    "instance",
    "_Feature"
   ],
   "window_display": false
  }
 },
 "nbformat": 4,
 "nbformat_minor": 4
}
