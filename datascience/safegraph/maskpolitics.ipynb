{
 "cells": [
  {
   "cell_type": "code",
   "execution_count": 14,
   "metadata": {},
   "outputs": [],
   "source": [
    "import pandas as pd\n",
    "from bs4 import BeautifulSoup\n",
    "import requests"
   ]
  },
  {
   "cell_type": "markdown",
   "metadata": {},
   "source": [
    "First, lets get the FPs with the associated codes"
   ]
  },
  {
   "cell_type": "code",
   "execution_count": 15,
   "metadata": {},
   "outputs": [],
   "source": [
    "fp_cols = ['fips','county_name','state_abbr','state_name']\n",
    "\n",
    "county_fp_df = pd.read_csv(\n",
    "    '/Users/toddhendricks/Downloads/fps - Sheet1.csv', \n",
    "    usecols=fp_cols\n",
    ")"
   ]
  },
  {
   "cell_type": "code",
   "execution_count": 30,
   "metadata": {},
   "outputs": [
    {
     "data": {
      "text/plain": [
       "0          Autauga County\n",
       "1          Baldwin County\n",
       "2          Barbour County\n",
       "3             Bibb County\n",
       "4           Blount County\n",
       "              ...        \n",
       "3141    Sweetwater County\n",
       "3142         Teton County\n",
       "3143         Uinta County\n",
       "3144      Washakie County\n",
       "3145        Weston County\n",
       "Name: county_name, Length: 3146, dtype: object"
      ]
     },
     "execution_count": 30,
     "metadata": {},
     "output_type": "execute_result"
    }
   ],
   "source": [
    "county_fp_df.county_name"
   ]
  },
  {
   "cell_type": "code",
   "execution_count": 18,
   "metadata": {},
   "outputs": [
    {
     "data": {
      "text/html": [
       "<div>\n",
       "<style scoped>\n",
       "    .dataframe tbody tr th:only-of-type {\n",
       "        vertical-align: middle;\n",
       "    }\n",
       "\n",
       "    .dataframe tbody tr th {\n",
       "        vertical-align: top;\n",
       "    }\n",
       "\n",
       "    .dataframe thead th {\n",
       "        text-align: right;\n",
       "    }\n",
       "</style>\n",
       "<table border=\"1\" class=\"dataframe\">\n",
       "  <thead>\n",
       "    <tr style=\"text-align: right;\">\n",
       "      <th></th>\n",
       "      <th>fips</th>\n",
       "      <th>county_name</th>\n",
       "      <th>state_abbr</th>\n",
       "      <th>state_name</th>\n",
       "    </tr>\n",
       "  </thead>\n",
       "  <tbody>\n",
       "    <tr>\n",
       "      <th>0</th>\n",
       "      <td>1001</td>\n",
       "      <td>Autauga County</td>\n",
       "      <td>AL</td>\n",
       "      <td>Alabama</td>\n",
       "    </tr>\n",
       "    <tr>\n",
       "      <th>1</th>\n",
       "      <td>1003</td>\n",
       "      <td>Baldwin County</td>\n",
       "      <td>AL</td>\n",
       "      <td>Alabama</td>\n",
       "    </tr>\n",
       "    <tr>\n",
       "      <th>2</th>\n",
       "      <td>1005</td>\n",
       "      <td>Barbour County</td>\n",
       "      <td>AL</td>\n",
       "      <td>Alabama</td>\n",
       "    </tr>\n",
       "    <tr>\n",
       "      <th>3</th>\n",
       "      <td>1007</td>\n",
       "      <td>Bibb County</td>\n",
       "      <td>AL</td>\n",
       "      <td>Alabama</td>\n",
       "    </tr>\n",
       "    <tr>\n",
       "      <th>4</th>\n",
       "      <td>1009</td>\n",
       "      <td>Blount County</td>\n",
       "      <td>AL</td>\n",
       "      <td>Alabama</td>\n",
       "    </tr>\n",
       "  </tbody>\n",
       "</table>\n",
       "</div>"
      ],
      "text/plain": [
       "   fips     county_name state_abbr state_name\n",
       "0  1001  Autauga County         AL    Alabama\n",
       "1  1003  Baldwin County         AL    Alabama\n",
       "2  1005  Barbour County         AL    Alabama\n",
       "3  1007     Bibb County         AL    Alabama\n",
       "4  1009   Blount County         AL    Alabama"
      ]
     },
     "execution_count": 18,
     "metadata": {},
     "output_type": "execute_result"
    }
   ],
   "source": [
    "county_fp_df.head(5)"
   ]
  },
  {
   "cell_type": "markdown",
   "metadata": {},
   "source": [
    "Then let's get the votes by county"
   ]
  },
  {
   "cell_type": "code",
   "execution_count": 23,
   "metadata": {},
   "outputs": [],
   "source": [
    "votes_df = pd.read_csv('/Users/toddhendricks/Downloads/usa-2016-presidential-election-by-county.csv', sep=';').fillna(0)"
   ]
  },
  {
   "cell_type": "code",
   "execution_count": 67,
   "metadata": {},
   "outputs": [
    {
     "data": {
      "text/plain": [
       "Index(['State', 'ST', 'Fips', 'County', 'Precincts', 'Votes',\n",
       "       'Democrats 08 (Votes)', 'Democrats 12 (Votes)',\n",
       "       'Republicans 08 (Votes)', 'Republicans 12 (Votes)',\n",
       "       ...\n",
       "       'total12', 'other08', 'other12', 'Other12 Frac', 'Other08 Frac',\n",
       "       'Rep12 Frac2', 'Rep08 Frac2', 'Dem12 Frac2', 'Dem08 Frac2',\n",
       "       'county_clean'],\n",
       "      dtype='object', length=160)"
      ]
     },
     "execution_count": 67,
     "metadata": {},
     "output_type": "execute_result"
    }
   ],
   "source": [
    "votes_df.columns"
   ]
  },
  {
   "cell_type": "code",
   "execution_count": 50,
   "metadata": {},
   "outputs": [],
   "source": [
    "votes_county_sep = votes_df['County'].str.split(',').str[0]"
   ]
  },
  {
   "cell_type": "code",
   "execution_count": 64,
   "metadata": {},
   "outputs": [],
   "source": [
    "votes_df['county_clean'] = votes_county_sep"
   ]
  },
  {
   "cell_type": "code",
   "execution_count": 68,
   "metadata": {},
   "outputs": [],
   "source": [
    "joined_votes_df = county_fp_df.merge(votes_df,left_on='fips',right_on='Fips')"
   ]
  },
  {
   "cell_type": "code",
   "execution_count": 72,
   "metadata": {},
   "outputs": [],
   "source": [
    "masks_df = pd.read_csv('/Users/toddhendricks/Downloads/masks - Sheet1.csv')"
   ]
  },
  {
   "cell_type": "code",
   "execution_count": 74,
   "metadata": {},
   "outputs": [],
   "source": [
    "mask_plus_votes_df = joined_votes_df.merge(masks_df,left_on='fips',right_on='COUNTYFP')"
   ]
  },
  {
   "cell_type": "code",
   "execution_count": 76,
   "metadata": {},
   "outputs": [
    {
     "name": "stdout",
     "output_type": "stream",
     "text": [
      "fips\n",
      "county_name\n",
      "state_abbr\n",
      "state_name\n",
      "State\n",
      "ST\n",
      "Fips\n",
      "County\n",
      "Precincts\n",
      "Votes\n",
      "Democrats 08 (Votes)\n",
      "Democrats 12 (Votes)\n",
      "Republicans 08 (Votes)\n",
      "Republicans 12 (Votes)\n",
      "Republicans 2016\n",
      "Democrats 2016\n",
      "Green 2016\n",
      "Libertarians 2016\n",
      "Republicans 2012\n",
      "Republicans 2008\n",
      "Democrats 2012\n",
      "Democrats 2008\n",
      "Less Than High School Diploma\n",
      "At Least High School Diploma\n",
      "At Least Bachelors's Degree\n",
      "Graduate Degree\n",
      "School Enrollment\n",
      "Median Earnings 2010\n",
      "White (Not Latino) Population\n",
      "African American Population\n",
      "Native American Population\n",
      "Asian American Population\n",
      "Other Race or Races\n",
      "Latino Population\n",
      "Children Under 6 Living in Poverty\n",
      "Adults 65 and Older Living in Poverty\n",
      "Total Population\n",
      "Preschool.Enrollment.Ratio.enrolled.ages.3.and.4\n",
      "Poverty.Rate.below.federal.poverty.threshold\n",
      "Gini.Coefficient\n",
      "Child.Poverty.living.in.families.below.the.poverty.line\n",
      "Management.professional.and.related.occupations\n",
      "Service.occupations\n",
      "Sales.and.office.occupations\n",
      "Farming.fishing.and.forestry.occupations\n",
      "Construction.extraction.maintenance.and.repair.occupations\n",
      "Production.transportation.and.material.moving.occupations\n",
      "White\n",
      "Black\n",
      "Hispanic\n",
      "Asian\n",
      "Amerindian\n",
      "Other\n",
      "White  Asian\n",
      "Sire Homogeneity\n",
      "Median Age\n",
      "lon\n",
      "lat\n",
      "Poor.physical.health.days\n",
      "Poor.mental.health.days\n",
      "Low.birthweight\n",
      "Teen.births\n",
      "Children.in.single.parent.households\n",
      "Adult.smoking\n",
      "Adult.obesity\n",
      "Diabetes\n",
      "Sexually.transmitted.infections\n",
      "HIV.prevalence.rate\n",
      "Uninsured\n",
      "Unemployment\n",
      "Violent.crime\n",
      "Homicide.rate\n",
      "Injury.deaths\n",
      "Infant.mortality\n",
      "CA\n",
      "S\n",
      "MAR\n",
      "CFS\n",
      "ACFS\n",
      "Mean Alc\n",
      "Max Alc\n",
      "Mixedness\n",
      "elevation\n",
      "Annual Prcp\n",
      "Winter Prcp\n",
      "Summer Prcp\n",
      "Spring Prcp\n",
      "Autumn Prcp\n",
      "Annual Tavg\n",
      "Annual Tmax\n",
      "Annual Tmin\n",
      "Winter Tavg\n",
      "Winter Tmax\n",
      "Winter Tmin\n",
      "Summer Tavg\n",
      "Summer Tmax\n",
      "Summer Tmin\n",
      "Spring Tavg\n",
      "Spring Tmax\n",
      "Spring Tmin\n",
      "Autumn Tavg\n",
      "Autumn Tmax\n",
      "Autumn Tmin\n",
      "Nearest County\n",
      "temp\n",
      "precip\n",
      "Temp Bins\n",
      "Lat Bins\n",
      "Lon Bins\n",
      "Precip Bins\n",
      "Elevation Bins\n",
      "Geo Shape\n",
      "Name 16\n",
      "reporting\n",
      "Votes16 Trumpd\n",
      "Votes16 Clintonh\n",
      "Votes16 Johnsong\n",
      "Votes16 Steinj\n",
      "Votes16 Castled\n",
      "Votes16 De La Fuenter\n",
      "Est Votes Remaining\n",
      "Votes16 Mcmulline\n",
      "Votes16 Hedgesj\n",
      "Votes16 Kahnl\n",
      "Votes16 La Rivag\n",
      "Votes16 Hoeflingt\n",
      "Votes16 Kenistonc\n",
      "Votes16 Smithm\n",
      "Votes16 Atwoodf\n",
      "Votes16 Kennedya\n",
      "Votes16 Kopitkek\n",
      "Votes16 Kotlikoffl\n",
      "Votes16 Lyttleb\n",
      "Votes16 Maldonadoj\n",
      "Votes16 Maturenm\n",
      "Votes16 Scottr\n",
      "Votes16 Silvar\n",
      "Votes16 Soltysike\n",
      "Votes16 Vacekd\n",
      "Votes16 Copelands\n",
      "Votes16 Jacobp\n",
      "Votes16 Whitej\n",
      "Votes16 Mooreheadm\n",
      "Votes16 None Of These Candidates\n",
      "Votes16 Duncanr\n",
      "Votes16 Skewesp\n",
      "Votes16 Giordanir\n",
      "total16\n",
      "Other16 Frac\n",
      "Rep16 Frac2\n",
      "Dem16 Frac2\n",
      "Name Prev\n",
      "Statecode Prev\n",
      "total08\n",
      "total12\n",
      "other08\n",
      "other12\n",
      "Other12 Frac\n",
      "Other08 Frac\n",
      "Rep12 Frac2\n",
      "Rep08 Frac2\n",
      "Dem12 Frac2\n",
      "Dem08 Frac2\n",
      "county_clean\n",
      "COUNTYFP\n",
      "NEVER\n",
      "RARELY\n",
      "SOMETIMES\n",
      "FREQUENTLY\n",
      "ALWAYS\n"
     ]
    }
   ],
   "source": [
    "for col in mask_plus_votes_df.columns:\n",
    "    print(col)"
   ]
  },
  {
   "cell_type": "code",
   "execution_count": 77,
   "metadata": {},
   "outputs": [
    {
     "data": {
      "text/plain": [
       "0       18110.0\n",
       "1       72780.0\n",
       "2        5431.0\n",
       "3        6733.0\n",
       "4       22808.0\n",
       "         ...   \n",
       "3136    12153.0\n",
       "3137     3920.0\n",
       "3138     6154.0\n",
       "3139     2911.0\n",
       "3140     2898.0\n",
       "Name: Votes16 Trumpd, Length: 3141, dtype: float64"
      ]
     },
     "execution_count": 77,
     "metadata": {},
     "output_type": "execute_result"
    }
   ],
   "source": [
    "mask_plus_votes_df["
   ]
  },
  {
   "cell_type": "code",
   "execution_count": null,
   "metadata": {},
   "outputs": [],
   "source": []
  }
 ],
 "metadata": {
  "kernelspec": {
   "display_name": "Python 3",
   "language": "python",
   "name": "python3"
  },
  "language_info": {
   "codemirror_mode": {
    "name": "ipython",
    "version": 3
   },
   "file_extension": ".py",
   "mimetype": "text/x-python",
   "name": "python",
   "nbconvert_exporter": "python",
   "pygments_lexer": "ipython3",
   "version": "3.7.6"
  },
  "varInspector": {
   "cols": {
    "lenName": 16,
    "lenType": 16,
    "lenVar": 40
   },
   "kernels_config": {
    "python": {
     "delete_cmd_postfix": "",
     "delete_cmd_prefix": "del ",
     "library": "var_list.py",
     "varRefreshCmd": "print(var_dic_list())"
    },
    "r": {
     "delete_cmd_postfix": ") ",
     "delete_cmd_prefix": "rm(",
     "library": "var_list.r",
     "varRefreshCmd": "cat(var_dic_list()) "
    }
   },
   "types_to_exclude": [
    "module",
    "function",
    "builtin_function_or_method",
    "instance",
    "_Feature"
   ],
   "window_display": false
  }
 },
 "nbformat": 4,
 "nbformat_minor": 4
}
