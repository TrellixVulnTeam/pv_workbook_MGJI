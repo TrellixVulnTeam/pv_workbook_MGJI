{
 "cells": [
  {
   "cell_type": "code",
   "execution_count": 96,
   "metadata": {},
   "outputs": [],
   "source": [
    "import dask\n",
    "import dask.dataframe as dd\n",
    "import numpy as np\n",
    "import pandas as pd\n",
    "import seaborn as sns\n",
    "import json\n",
    "import seaborn as sns\n",
    "import gzip\n",
    "import pickle\n",
    "pd.options.display.precision = 2"
   ]
  },
  {
   "cell_type": "code",
   "execution_count": 6,
   "metadata": {},
   "outputs": [],
   "source": [
    "from dask.distributed import Client, progress\n",
    "client = Client(n_workers=4, threads_per_worker=2, memory_limit='1GB')"
   ]
  },
  {
   "cell_type": "code",
   "execution_count": 7,
   "metadata": {},
   "outputs": [
    {
     "data": {
      "text/html": [
       "<table style=\"border: 2px solid white;\">\n",
       "<tr>\n",
       "<td style=\"vertical-align: top; border: 0px solid white\">\n",
       "<h3>Client</h3>\n",
       "<ul>\n",
       "  <li><b>Scheduler: </b>tcp://127.0.0.1:65159\n",
       "  <li><b>Dashboard: </b><a href='http://127.0.0.1:8787/status' target='_blank'>http://127.0.0.1:8787/status</a>\n",
       "</ul>\n",
       "</td>\n",
       "<td style=\"vertical-align: top; border: 0px solid white\">\n",
       "<h3>Cluster</h3>\n",
       "<ul>\n",
       "  <li><b>Workers: </b>4</li>\n",
       "  <li><b>Cores: </b>8</li>\n",
       "  <li><b>Memory: </b>4.00 GB</li>\n",
       "</ul>\n",
       "</td>\n",
       "</tr>\n",
       "</table>"
      ],
      "text/plain": [
       "<Client: scheduler='tcp://127.0.0.1:65159' processes=4 cores=8>"
      ]
     },
     "execution_count": 7,
     "metadata": {},
     "output_type": "execute_result"
    }
   ],
   "source": [
    "client"
   ]
  },
  {
   "cell_type": "code",
   "execution_count": 29,
   "metadata": {},
   "outputs": [],
   "source": [
    "path = 'patterns/2020/06/24/16'\n",
    "# all_files = glob.glob(path + \"/*.csv\")\n",
    "# li = []\n",
    "# for filename in all_files:\n",
    "#     df = pd.read_csv(filename, index_col=None, header=0)\n",
    "#     li.append(df)\n",
    "# frame = pd.concat(li, axis=0, ignore_index=True)"
   ]
  },
  {
   "cell_type": "code",
   "execution_count": 30,
   "metadata": {},
   "outputs": [],
   "source": [
    "brand_df = pd.read_csv('brand_info.csv')"
   ]
  },
  {
   "cell_type": "code",
   "execution_count": 36,
   "metadata": {},
   "outputs": [
    {
     "data": {
      "text/plain": [
       "Index(['safegraph_brand_id', 'brand_name', 'parent_safegraph_brand_id',\n",
       "       'naics_code', 'top_category', 'sub_category', 'stock_symbol',\n",
       "       'stock_exchange'],\n",
       "      dtype='object')"
      ]
     },
     "execution_count": 36,
     "metadata": {},
     "output_type": "execute_result"
    }
   ],
   "source": [
    "brand_df.columns"
   ]
  },
  {
   "cell_type": "code",
   "execution_count": 39,
   "metadata": {},
   "outputs": [],
   "source": [
    "categories = brand_df.groupby('top_category')"
   ]
  },
  {
   "cell_type": "code",
   "execution_count": 41,
   "metadata": {},
   "outputs": [
    {
     "data": {
      "text/html": [
       "<div>\n",
       "<style scoped>\n",
       "    .dataframe tbody tr th:only-of-type {\n",
       "        vertical-align: middle;\n",
       "    }\n",
       "\n",
       "    .dataframe tbody tr th {\n",
       "        vertical-align: top;\n",
       "    }\n",
       "\n",
       "    .dataframe thead tr th {\n",
       "        text-align: left;\n",
       "    }\n",
       "\n",
       "    .dataframe thead tr:last-of-type th {\n",
       "        text-align: right;\n",
       "    }\n",
       "</style>\n",
       "<table border=\"1\" class=\"dataframe\">\n",
       "  <thead>\n",
       "    <tr>\n",
       "      <th></th>\n",
       "      <th colspan=\"8\" halign=\"left\">naics_code</th>\n",
       "    </tr>\n",
       "    <tr>\n",
       "      <th></th>\n",
       "      <th>count</th>\n",
       "      <th>mean</th>\n",
       "      <th>std</th>\n",
       "      <th>min</th>\n",
       "      <th>25%</th>\n",
       "      <th>50%</th>\n",
       "      <th>75%</th>\n",
       "      <th>max</th>\n",
       "    </tr>\n",
       "    <tr>\n",
       "      <th>top_category</th>\n",
       "      <th></th>\n",
       "      <th></th>\n",
       "      <th></th>\n",
       "      <th></th>\n",
       "      <th></th>\n",
       "      <th></th>\n",
       "      <th></th>\n",
       "      <th></th>\n",
       "    </tr>\n",
       "  </thead>\n",
       "  <tbody>\n",
       "    <tr>\n",
       "      <th>Accounting, Tax Preparation, Bookkeeping, and Payroll Services</th>\n",
       "      <td>5.0</td>\n",
       "      <td>541214.20</td>\n",
       "      <td>2.68</td>\n",
       "      <td>541213.0</td>\n",
       "      <td>541213.0</td>\n",
       "      <td>541213.0</td>\n",
       "      <td>541213.0</td>\n",
       "      <td>541219.0</td>\n",
       "    </tr>\n",
       "    <tr>\n",
       "      <th>Activities Related to Credit Intermediation</th>\n",
       "      <td>26.0</td>\n",
       "      <td>522356.92</td>\n",
       "      <td>39.47</td>\n",
       "      <td>522310.0</td>\n",
       "      <td>522310.0</td>\n",
       "      <td>522390.0</td>\n",
       "      <td>522390.0</td>\n",
       "      <td>522390.0</td>\n",
       "    </tr>\n",
       "    <tr>\n",
       "      <th>Administration of Human Resource Programs</th>\n",
       "      <td>1.0</td>\n",
       "      <td>923140.00</td>\n",
       "      <td>NaN</td>\n",
       "      <td>923140.0</td>\n",
       "      <td>923140.0</td>\n",
       "      <td>923140.0</td>\n",
       "      <td>923140.0</td>\n",
       "      <td>923140.0</td>\n",
       "    </tr>\n",
       "    <tr>\n",
       "      <th>Advertising, Public Relations, and Related Services</th>\n",
       "      <td>3.0</td>\n",
       "      <td>541843.33</td>\n",
       "      <td>28.87</td>\n",
       "      <td>541810.0</td>\n",
       "      <td>541835.0</td>\n",
       "      <td>541860.0</td>\n",
       "      <td>541860.0</td>\n",
       "      <td>541860.0</td>\n",
       "    </tr>\n",
       "    <tr>\n",
       "      <th>Agencies, Brokerages, and Other Insurance Related Activities</th>\n",
       "      <td>22.0</td>\n",
       "      <td>524210.00</td>\n",
       "      <td>0.00</td>\n",
       "      <td>524210.0</td>\n",
       "      <td>524210.0</td>\n",
       "      <td>524210.0</td>\n",
       "      <td>524210.0</td>\n",
       "      <td>524210.0</td>\n",
       "    </tr>\n",
       "    <tr>\n",
       "      <th>...</th>\n",
       "      <td>...</td>\n",
       "      <td>...</td>\n",
       "      <td>...</td>\n",
       "      <td>...</td>\n",
       "      <td>...</td>\n",
       "      <td>...</td>\n",
       "      <td>...</td>\n",
       "      <td>...</td>\n",
       "    </tr>\n",
       "    <tr>\n",
       "      <th>Ventilation, Heating, Air-Conditioning, and Commercial Refrigeration Equipment Manufacturing</th>\n",
       "      <td>3.0</td>\n",
       "      <td>333414.00</td>\n",
       "      <td>1.00</td>\n",
       "      <td>333413.0</td>\n",
       "      <td>333413.5</td>\n",
       "      <td>333414.0</td>\n",
       "      <td>333414.5</td>\n",
       "      <td>333415.0</td>\n",
       "    </tr>\n",
       "    <tr>\n",
       "      <th>Warehousing and Storage</th>\n",
       "      <td>1.0</td>\n",
       "      <td>493130.00</td>\n",
       "      <td>NaN</td>\n",
       "      <td>493130.0</td>\n",
       "      <td>493130.0</td>\n",
       "      <td>493130.0</td>\n",
       "      <td>493130.0</td>\n",
       "      <td>493130.0</td>\n",
       "    </tr>\n",
       "    <tr>\n",
       "      <th>Waste Treatment and Disposal</th>\n",
       "      <td>3.0</td>\n",
       "      <td>562214.00</td>\n",
       "      <td>4.36</td>\n",
       "      <td>562211.0</td>\n",
       "      <td>562211.5</td>\n",
       "      <td>562212.0</td>\n",
       "      <td>562215.5</td>\n",
       "      <td>562219.0</td>\n",
       "    </tr>\n",
       "    <tr>\n",
       "      <th>Water, Sewage and Other Systems</th>\n",
       "      <td>1.0</td>\n",
       "      <td>221310.00</td>\n",
       "      <td>NaN</td>\n",
       "      <td>221310.0</td>\n",
       "      <td>221310.0</td>\n",
       "      <td>221310.0</td>\n",
       "      <td>221310.0</td>\n",
       "      <td>221310.0</td>\n",
       "    </tr>\n",
       "    <tr>\n",
       "      <th>Wired and Wireless Telecommunications Carriers</th>\n",
       "      <td>27.0</td>\n",
       "      <td>517311.96</td>\n",
       "      <td>0.19</td>\n",
       "      <td>517311.0</td>\n",
       "      <td>517312.0</td>\n",
       "      <td>517312.0</td>\n",
       "      <td>517312.0</td>\n",
       "      <td>517312.0</td>\n",
       "    </tr>\n",
       "  </tbody>\n",
       "</table>\n",
       "<p>180 rows × 8 columns</p>\n",
       "</div>"
      ],
      "text/plain": [
       "                                                   naics_code             \\\n",
       "                                                        count       mean   \n",
       "top_category                                                               \n",
       "Accounting, Tax Preparation, Bookkeeping, and P...        5.0  541214.20   \n",
       "Activities Related to Credit Intermediation              26.0  522356.92   \n",
       "Administration of Human Resource Programs                 1.0  923140.00   \n",
       "Advertising, Public Relations, and Related Serv...        3.0  541843.33   \n",
       "Agencies, Brokerages, and Other Insurance Relat...       22.0  524210.00   \n",
       "...                                                       ...        ...   \n",
       "Ventilation, Heating, Air-Conditioning, and Com...        3.0  333414.00   \n",
       "Warehousing and Storage                                   1.0  493130.00   \n",
       "Waste Treatment and Disposal                              3.0  562214.00   \n",
       "Water, Sewage and Other Systems                           1.0  221310.00   \n",
       "Wired and Wireless Telecommunications Carriers           27.0  517311.96   \n",
       "\n",
       "                                                                               \\\n",
       "                                                      std       min       25%   \n",
       "top_category                                                                    \n",
       "Accounting, Tax Preparation, Bookkeeping, and P...   2.68  541213.0  541213.0   \n",
       "Activities Related to Credit Intermediation         39.47  522310.0  522310.0   \n",
       "Administration of Human Resource Programs             NaN  923140.0  923140.0   \n",
       "Advertising, Public Relations, and Related Serv...  28.87  541810.0  541835.0   \n",
       "Agencies, Brokerages, and Other Insurance Relat...   0.00  524210.0  524210.0   \n",
       "...                                                   ...       ...       ...   \n",
       "Ventilation, Heating, Air-Conditioning, and Com...   1.00  333413.0  333413.5   \n",
       "Warehousing and Storage                               NaN  493130.0  493130.0   \n",
       "Waste Treatment and Disposal                         4.36  562211.0  562211.5   \n",
       "Water, Sewage and Other Systems                       NaN  221310.0  221310.0   \n",
       "Wired and Wireless Telecommunications Carriers       0.19  517311.0  517312.0   \n",
       "\n",
       "                                                                        \\\n",
       "                                                         50%       75%   \n",
       "top_category                                                             \n",
       "Accounting, Tax Preparation, Bookkeeping, and P...  541213.0  541213.0   \n",
       "Activities Related to Credit Intermediation         522390.0  522390.0   \n",
       "Administration of Human Resource Programs           923140.0  923140.0   \n",
       "Advertising, Public Relations, and Related Serv...  541860.0  541860.0   \n",
       "Agencies, Brokerages, and Other Insurance Relat...  524210.0  524210.0   \n",
       "...                                                      ...       ...   \n",
       "Ventilation, Heating, Air-Conditioning, and Com...  333414.0  333414.5   \n",
       "Warehousing and Storage                             493130.0  493130.0   \n",
       "Waste Treatment and Disposal                        562212.0  562215.5   \n",
       "Water, Sewage and Other Systems                     221310.0  221310.0   \n",
       "Wired and Wireless Telecommunications Carriers      517312.0  517312.0   \n",
       "\n",
       "                                                              \n",
       "                                                         max  \n",
       "top_category                                                  \n",
       "Accounting, Tax Preparation, Bookkeeping, and P...  541219.0  \n",
       "Activities Related to Credit Intermediation         522390.0  \n",
       "Administration of Human Resource Programs           923140.0  \n",
       "Advertising, Public Relations, and Related Serv...  541860.0  \n",
       "Agencies, Brokerages, and Other Insurance Relat...  524210.0  \n",
       "...                                                      ...  \n",
       "Ventilation, Heating, Air-Conditioning, and Com...  333415.0  \n",
       "Warehousing and Storage                             493130.0  \n",
       "Waste Treatment and Disposal                        562219.0  \n",
       "Water, Sewage and Other Systems                     221310.0  \n",
       "Wired and Wireless Telecommunications Carriers      517312.0  \n",
       "\n",
       "[180 rows x 8 columns]"
      ]
     },
     "execution_count": 41,
     "metadata": {},
     "output_type": "execute_result"
    }
   ],
   "source": [
    "categories.describe()"
   ]
  },
  {
   "cell_type": "code",
   "execution_count": 58,
   "metadata": {},
   "outputs": [],
   "source": [
    "grocery_stores_df = brand_df[brand_df.top_category == 'Grocery Stores']"
   ]
  },
  {
   "cell_type": "code",
   "execution_count": 63,
   "metadata": {},
   "outputs": [],
   "source": [
    "supermarket_df = grocery_stores_df[grocery_stores_df.sub_category.str.contains('Supermarkets')]"
   ]
  },
  {
   "cell_type": "code",
   "execution_count": 64,
   "metadata": {},
   "outputs": [
    {
     "data": {
      "text/plain": [
       "(499, 8)"
      ]
     },
     "execution_count": 64,
     "metadata": {},
     "output_type": "execute_result"
    }
   ],
   "source": [
    "supermarket_df.shape"
   ]
  },
  {
   "cell_type": "code",
   "execution_count": 65,
   "metadata": {},
   "outputs": [
    {
     "data": {
      "text/html": [
       "<div>\n",
       "<style scoped>\n",
       "    .dataframe tbody tr th:only-of-type {\n",
       "        vertical-align: middle;\n",
       "    }\n",
       "\n",
       "    .dataframe tbody tr th {\n",
       "        vertical-align: top;\n",
       "    }\n",
       "\n",
       "    .dataframe thead th {\n",
       "        text-align: right;\n",
       "    }\n",
       "</style>\n",
       "<table border=\"1\" class=\"dataframe\">\n",
       "  <thead>\n",
       "    <tr style=\"text-align: right;\">\n",
       "      <th></th>\n",
       "      <th>safegraph_brand_id</th>\n",
       "      <th>brand_name</th>\n",
       "      <th>parent_safegraph_brand_id</th>\n",
       "      <th>naics_code</th>\n",
       "      <th>top_category</th>\n",
       "      <th>sub_category</th>\n",
       "      <th>stock_symbol</th>\n",
       "      <th>stock_exchange</th>\n",
       "    </tr>\n",
       "  </thead>\n",
       "  <tbody>\n",
       "    <tr>\n",
       "      <th>15</th>\n",
       "      <td>SG_BRAND_52084b69a9bb91de</td>\n",
       "      <td>4 Sons Food Stores</td>\n",
       "      <td>NaN</td>\n",
       "      <td>445110</td>\n",
       "      <td>Grocery Stores</td>\n",
       "      <td>Supermarkets and Other Grocery (except Conveni...</td>\n",
       "      <td>NaN</td>\n",
       "      <td>NaN</td>\n",
       "    </tr>\n",
       "    <tr>\n",
       "      <th>30</th>\n",
       "      <td>SG_BRAND_47491621daa95546cc094e97c4e5cfb1</td>\n",
       "      <td>99 Ranch Market</td>\n",
       "      <td>NaN</td>\n",
       "      <td>445110</td>\n",
       "      <td>Grocery Stores</td>\n",
       "      <td>Supermarkets and Other Grocery (except Conveni...</td>\n",
       "      <td>NaN</td>\n",
       "      <td>NaN</td>\n",
       "    </tr>\n",
       "    <tr>\n",
       "      <th>81</th>\n",
       "      <td>SG_BRAND_227fbb906a299b8c</td>\n",
       "      <td>Acme Fresh Market</td>\n",
       "      <td>NaN</td>\n",
       "      <td>445110</td>\n",
       "      <td>Grocery Stores</td>\n",
       "      <td>Supermarkets and Other Grocery (except Conveni...</td>\n",
       "      <td>NaN</td>\n",
       "      <td>NaN</td>\n",
       "    </tr>\n",
       "    <tr>\n",
       "      <th>82</th>\n",
       "      <td>SG_BRAND_fae25d7f7192889e606c10c2b1a20adb</td>\n",
       "      <td>Acme Markets</td>\n",
       "      <td>SG_BRAND_942c238b1dddf5d40a05dbad6851b58b</td>\n",
       "      <td>445110</td>\n",
       "      <td>Grocery Stores</td>\n",
       "      <td>Supermarkets and Other Grocery (except Conveni...</td>\n",
       "      <td>NaN</td>\n",
       "      <td>NaN</td>\n",
       "    </tr>\n",
       "    <tr>\n",
       "      <th>85</th>\n",
       "      <td>SG_BRAND_5c802af4a870afe9</td>\n",
       "      <td>Acorn Markets</td>\n",
       "      <td>NaN</td>\n",
       "      <td>445110</td>\n",
       "      <td>Grocery Stores</td>\n",
       "      <td>Supermarkets and Other Grocery (except Conveni...</td>\n",
       "      <td>NaN</td>\n",
       "      <td>NaN</td>\n",
       "    </tr>\n",
       "    <tr>\n",
       "      <th>...</th>\n",
       "      <td>...</td>\n",
       "      <td>...</td>\n",
       "      <td>...</td>\n",
       "      <td>...</td>\n",
       "      <td>...</td>\n",
       "      <td>...</td>\n",
       "      <td>...</td>\n",
       "      <td>...</td>\n",
       "    </tr>\n",
       "    <tr>\n",
       "      <th>5685</th>\n",
       "      <td>SG_BRAND_69933e9e773fb8443e447830e200e714</td>\n",
       "      <td>Winn Dixie</td>\n",
       "      <td>NaN</td>\n",
       "      <td>445110</td>\n",
       "      <td>Grocery Stores</td>\n",
       "      <td>Supermarkets and Other Grocery (except Conveni...</td>\n",
       "      <td>WINN</td>\n",
       "      <td>NASDAQ</td>\n",
       "    </tr>\n",
       "    <tr>\n",
       "      <th>5704</th>\n",
       "      <td>SG_BRAND_84b176e53e4788892956738d7f09105b</td>\n",
       "      <td>Woodman's Market</td>\n",
       "      <td>NaN</td>\n",
       "      <td>445110</td>\n",
       "      <td>Grocery Stores</td>\n",
       "      <td>Supermarkets and Other Grocery (except Conveni...</td>\n",
       "      <td>NaN</td>\n",
       "      <td>NaN</td>\n",
       "    </tr>\n",
       "    <tr>\n",
       "      <th>5705</th>\n",
       "      <td>SG_BRAND_33c5f17a32effc27</td>\n",
       "      <td>Woods</td>\n",
       "      <td>NaN</td>\n",
       "      <td>445110</td>\n",
       "      <td>Grocery Stores</td>\n",
       "      <td>Supermarkets and Other Grocery (except Conveni...</td>\n",
       "      <td>NaN</td>\n",
       "      <td>NaN</td>\n",
       "    </tr>\n",
       "    <tr>\n",
       "      <th>5784</th>\n",
       "      <td>SG_BRAND_25de4f248201b735</td>\n",
       "      <td>Zehrs</td>\n",
       "      <td>SG_BRAND_1b47663a692f81de</td>\n",
       "      <td>445110</td>\n",
       "      <td>Grocery Stores</td>\n",
       "      <td>Supermarkets and Other Grocery (except Conveni...</td>\n",
       "      <td>NaN</td>\n",
       "      <td>NaN</td>\n",
       "    </tr>\n",
       "    <tr>\n",
       "      <th>5806</th>\n",
       "      <td>SG_BRAND_6ca66e72514cc6e2</td>\n",
       "      <td>Zupan's Markets</td>\n",
       "      <td>NaN</td>\n",
       "      <td>445110</td>\n",
       "      <td>Grocery Stores</td>\n",
       "      <td>Supermarkets and Other Grocery (except Conveni...</td>\n",
       "      <td>NaN</td>\n",
       "      <td>NaN</td>\n",
       "    </tr>\n",
       "  </tbody>\n",
       "</table>\n",
       "<p>499 rows × 8 columns</p>\n",
       "</div>"
      ],
      "text/plain": [
       "                             safegraph_brand_id          brand_name  \\\n",
       "15                    SG_BRAND_52084b69a9bb91de  4 Sons Food Stores   \n",
       "30    SG_BRAND_47491621daa95546cc094e97c4e5cfb1     99 Ranch Market   \n",
       "81                    SG_BRAND_227fbb906a299b8c   Acme Fresh Market   \n",
       "82    SG_BRAND_fae25d7f7192889e606c10c2b1a20adb        Acme Markets   \n",
       "85                    SG_BRAND_5c802af4a870afe9       Acorn Markets   \n",
       "...                                         ...                 ...   \n",
       "5685  SG_BRAND_69933e9e773fb8443e447830e200e714          Winn Dixie   \n",
       "5704  SG_BRAND_84b176e53e4788892956738d7f09105b    Woodman's Market   \n",
       "5705                  SG_BRAND_33c5f17a32effc27               Woods   \n",
       "5784                  SG_BRAND_25de4f248201b735               Zehrs   \n",
       "5806                  SG_BRAND_6ca66e72514cc6e2     Zupan's Markets   \n",
       "\n",
       "                      parent_safegraph_brand_id  naics_code    top_category  \\\n",
       "15                                          NaN      445110  Grocery Stores   \n",
       "30                                          NaN      445110  Grocery Stores   \n",
       "81                                          NaN      445110  Grocery Stores   \n",
       "82    SG_BRAND_942c238b1dddf5d40a05dbad6851b58b      445110  Grocery Stores   \n",
       "85                                          NaN      445110  Grocery Stores   \n",
       "...                                         ...         ...             ...   \n",
       "5685                                        NaN      445110  Grocery Stores   \n",
       "5704                                        NaN      445110  Grocery Stores   \n",
       "5705                                        NaN      445110  Grocery Stores   \n",
       "5784                  SG_BRAND_1b47663a692f81de      445110  Grocery Stores   \n",
       "5806                                        NaN      445110  Grocery Stores   \n",
       "\n",
       "                                           sub_category stock_symbol  \\\n",
       "15    Supermarkets and Other Grocery (except Conveni...          NaN   \n",
       "30    Supermarkets and Other Grocery (except Conveni...          NaN   \n",
       "81    Supermarkets and Other Grocery (except Conveni...          NaN   \n",
       "82    Supermarkets and Other Grocery (except Conveni...          NaN   \n",
       "85    Supermarkets and Other Grocery (except Conveni...          NaN   \n",
       "...                                                 ...          ...   \n",
       "5685  Supermarkets and Other Grocery (except Conveni...         WINN   \n",
       "5704  Supermarkets and Other Grocery (except Conveni...          NaN   \n",
       "5705  Supermarkets and Other Grocery (except Conveni...          NaN   \n",
       "5784  Supermarkets and Other Grocery (except Conveni...          NaN   \n",
       "5806  Supermarkets and Other Grocery (except Conveni...          NaN   \n",
       "\n",
       "     stock_exchange  \n",
       "15              NaN  \n",
       "30              NaN  \n",
       "81              NaN  \n",
       "82              NaN  \n",
       "85              NaN  \n",
       "...             ...  \n",
       "5685         NASDAQ  \n",
       "5704            NaN  \n",
       "5705            NaN  \n",
       "5784            NaN  \n",
       "5806            NaN  \n",
       "\n",
       "[499 rows x 8 columns]"
      ]
     },
     "execution_count": 65,
     "metadata": {},
     "output_type": "execute_result"
    }
   ],
   "source": [
    "supermarket_df"
   ]
  },
  {
   "cell_type": "code",
   "execution_count": 67,
   "metadata": {},
   "outputs": [],
   "source": [
    "supermarket_df.to_pickle(\"./supermarkets.pkl\")"
   ]
  },
  {
   "cell_type": "code",
   "execution_count": 69,
   "metadata": {},
   "outputs": [],
   "source": [
    "with gzip.open('patterns/2020/06/24/16/patterns-part1.csv.gz', 'rb') as f:\n",
    "     p1 = pd.read_csv(f)  "
   ]
  },
  {
   "cell_type": "code",
   "execution_count": 78,
   "metadata": {},
   "outputs": [],
   "source": [
    "p1_subset = p1.sample(5000)"
   ]
  },
  {
   "cell_type": "code",
   "execution_count": 85,
   "metadata": {},
   "outputs": [
    {
     "data": {
      "text/plain": [
       "247170    [0,0,0,0,0,0,0,0,0,0,0,1,1,1,0,0,1,1,0,1,1,0,0...\n",
       "866640    [0,0,0,0,0,0,0,0,0,0,0,0,0,1,0,0,0,0,0,0,0,0,0...\n",
       "303431    [0,0,0,0,0,0,0,1,0,0,0,1,1,0,5,0,0,2,0,1,0,0,0...\n",
       "Name: visits_by_each_hour, dtype: object"
      ]
     },
     "execution_count": 85,
     "metadata": {},
     "output_type": "execute_result"
    }
   ],
   "source": [
    "p1_subset.visits_by_each_hour.head(3)"
   ]
  },
  {
   "cell_type": "code",
   "execution_count": 86,
   "metadata": {},
   "outputs": [],
   "source": [
    "brand_and_subset_df = p1_subset.merge(supermarket_df, left_on='safegraph_brand_ids', right_on='safegraph_brand_id')"
   ]
  },
  {
   "cell_type": "code",
   "execution_count": 95,
   "metadata": {},
   "outputs": [],
   "source": [
    "top_ten_traffic = brand_and_subset_df.nlargest(10, 'raw_visit_counts')"
   ]
  },
  {
   "cell_type": "code",
   "execution_count": 100,
   "metadata": {},
   "outputs": [
    {
     "data": {
      "text/plain": [
       "<matplotlib.axes._subplots.AxesSubplot at 0x7fa1a71a5d50>"
      ]
     },
     "execution_count": 100,
     "metadata": {},
     "output_type": "execute_result"
    },
    {
     "data": {
      "image/png": "[encoded data removed]",
      "text/plain": [
       "<Figure size 432x288 with 1 Axes>"
      ]
     },
     "metadata": {
      "needs_background": "light"
     },
     "output_type": "display_data"
    }
   ],
   "source": [
    "sns.barplot(x=top_ten_traffic.brand_name,y=top_ten_traffic.raw_visit_counts)"
   ]
  },
  {
   "cell_type": "code",
   "execution_count": 101,
   "metadata": {},
   "outputs": [
    {
     "data": {
      "text/plain": [
       "<matplotlib.axes._subplots.AxesSubplot at 0x7fa249297dd0>"
      ]
     },
     "execution_count": 101,
     "metadata": {},
     "output_type": "execute_result"
    },
    {
     "data": {
      "image/png": "[encoded data removed]",
      "text/plain": [
       "<Figure size 432x288 with 1 Axes>"
      ]
     },
     "metadata": {
      "needs_background": "light"
     },
     "output_type": "display_data"
    }
   ],
   "source": [
    "sns.barplot(x=top_ten_traffic.region,y=top_ten_traffic.raw_visit_counts)"
   ]
  },
  {
   "cell_type": "code",
   "execution_count": 106,
   "metadata": {},
   "outputs": [
    {
     "data": {
      "text/plain": [
       "<matplotlib.axes._subplots.AxesSubplot at 0x7fa1d2f0a790>"
      ]
     },
     "execution_count": 106,
     "metadata": {},
     "output_type": "execute_result"
    },
    {
     "data": {
      "image/png": "[encoded data removed]",
      "text/plain": [
       "<Figure size 432x288 with 1 Axes>"
      ]
     },
     "metadata": {
      "needs_background": "light"
     },
     "output_type": "display_data"
    }
   ],
   "source": [
    "sns.distplot(top_ten_traffic.raw_visit_counts)"
   ]
  },
  {
   "cell_type": "code",
   "execution_count": null,
   "metadata": {},
   "outputs": [],
   "source": []
  },
  {
   "cell_type": "code",
   "execution_count": null,
   "metadata": {},
   "outputs": [],
   "source": []
  }
 ],
 "metadata": {
  "kernelspec": {
   "display_name": "Python 3",
   "language": "python",
   "name": "python3"
  },
  "language_info": {
   "codemirror_mode": {
    "name": "ipython",
    "version": 3
   },
   "file_extension": ".py",
   "mimetype": "text/x-python",
   "name": "python",
   "nbconvert_exporter": "python",
   "pygments_lexer": "ipython3",
   "version": "3.7.6"
  },
  "varInspector": {
   "cols": {
    "lenName": 16,
    "lenType": 16,
    "lenVar": 40
   },
   "kernels_config": {
    "python": {
     "delete_cmd_postfix": "",
     "delete_cmd_prefix": "del ",
     "library": "var_list.py",
     "varRefreshCmd": "print(var_dic_list())"
    },
    "r": {
     "delete_cmd_postfix": ") ",
     "delete_cmd_prefix": "rm(",
     "library": "var_list.r",
     "varRefreshCmd": "cat(var_dic_list()) "
    }
   },
   "types_to_exclude": [
    "module",
    "function",
    "builtin_function_or_method",
    "instance",
    "_Feature"
   ],
   "window_display": false
  }
 },
 "nbformat": 4,
 "nbformat_minor": 4
}
