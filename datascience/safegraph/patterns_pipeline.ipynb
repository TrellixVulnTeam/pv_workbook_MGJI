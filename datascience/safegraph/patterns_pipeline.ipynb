{
 "cells": [
  {
   "cell_type": "code",
   "execution_count": 33,
   "metadata": {},
   "outputs": [],
   "source": [
    "import pyspark\n",
    "from pyspark.sql import SparkSession\n",
    "from pyspark.sql.types import *\n",
    "from pyspark.sql.functions import *"
   ]
  },
  {
   "cell_type": "code",
   "execution_count": 17,
   "metadata": {},
   "outputs": [],
   "source": [
    "spark = SparkSession.builder \\\n",
    "                    .master('local[*]') \\\n",
    "                    .appName(\"patterns_pipe\") \\\n",
    "                    .getOrCreate() "
   ]
  },
  {
   "cell_type": "code",
   "execution_count": 18,
   "metadata": {},
   "outputs": [],
   "source": [
    "path = \"/Users/toddhendricks/Downloads/patterns-part1 (1).csv.gz\"\n",
    "patterns_df = spark.read.csv(path ,header=True, inferSchema=True)"
   ]
  },
  {
   "cell_type": "code",
   "execution_count": null,
   "metadata": {},
   "outputs": [],
   "source": [
    "patterns_df.show(truncate=False, vertical=True)"
   ]
  },
  {
   "cell_type": "code",
   "execution_count": null,
   "metadata": {},
   "outputs": [],
   "source": [
    "app_name = spark.conf.get('spark.app.name')\n",
    "driver_tcp_port = spark.conf.get('spark.driver.port')\n",
    "num_partitions = spark.conf.get('spark.sql.shuffle.partitions')\n",
    "print(\"Name: %s\" % app_name)\n",
    "print(\"Driver TCP port: %s\" % driver_tcp_port)\n",
    "print(\"Number of partitions: %s\" % num_partitions)"
   ]
  },
  {
   "cell_type": "code",
   "execution_count": 47,
   "metadata": {},
   "outputs": [
    {
     "name": "stdout",
     "output_type": "stream",
     "text": [
      "-RECORD 0-----------------------------------------\n",
      " safegraph_place_id        | sg:000a905313604e... \n",
      " location_name             | McDonald's           \n",
      " street_address            | 5707 Sunnybrook Dr   \n",
      " city                      | Sioux City           \n",
      " region                    | IA                   \n",
      " postal_code               | 51106                \n",
      " iso_country_code          | US                   \n",
      " safegraph_brand_ids       | SG_BRAND_5179b21f... \n",
      " brands                    | McDonald's           \n",
      " date_range_start          | 2020-08-23 22:00:00  \n",
      " date_range_end            | 2020-08-30 22:00:00  \n",
      " raw_visit_counts          | 325                  \n",
      " raw_visitor_counts        | 284                  \n",
      " visits_by_day             | [41,37,43,31,53,6... \n",
      " visits_by_each_hour       | [2,0,0,0,0,3,0,2,... \n",
      " poi_cbg                   | 191930021013         \n",
      " visitor_home_cbgs         | \"{\"\"191930032001\"... \n",
      " visitor_daytime_cbgs      | \"\"191930021013\"\":10  \n",
      " visitor_country_of_origin | \"\"191930033003\"\":10  \n",
      " distance_from_home        | \"\"191930032003\"\":7   \n",
      " median_dwell              | \"\"191930031004\"\":7   \n",
      " bucketed_dwell_times      | \"\"191499705001\"\":6   \n",
      " related_same_day_brand    | \"\"191930033002\"\":6   \n",
      " related_same_week_brand   | \"\"461270203002\"\":6   \n",
      " device_type               | \"\"191930031001\"\":6   \n",
      "-RECORD 1-----------------------------------------\n",
      " safegraph_place_id        | sg:001d6be2652d48... \n",
      " location_name             | Eagle Ranch West ... \n",
      " street_address            | 5754 1/2 Eagle Sk... \n",
      " city                      | Katy                 \n",
      " region                    | TX                   \n",
      " postal_code               | 77449                \n",
      " iso_country_code          | US                   \n",
      " safegraph_brand_ids       | null                 \n",
      " brands                    | null                 \n",
      " date_range_start          | 2020-08-23 22:00:00  \n",
      " date_range_end            | 2020-08-30 22:00:00  \n",
      " raw_visit_counts          | 62                   \n",
      " raw_visitor_counts        | 43                   \n",
      " visits_by_day             | [13,10,7,8,6,8,10]   \n",
      " visits_by_each_hour       | [0,0,0,0,0,0,0,1,... \n",
      " poi_cbg                   | 482015422002         \n",
      " visitor_home_cbgs         | \"{\"\"482015422002\"\":7 \n",
      " visitor_daytime_cbgs      | \"\"482015422001\"\":6   \n",
      " visitor_country_of_origin | \"\"482015410031\"\":5   \n",
      " distance_from_home        | \"\"482015421011\"\":4   \n",
      " median_dwell              | \"\"482015410032\"\":4   \n",
      " bucketed_dwell_times      | \"\"482015430012\"\":4   \n",
      " related_same_day_brand    | \"\"482015218001\"\":4   \n",
      " related_same_week_brand   | \"\"482014534024\"\":4}\" \n",
      " device_type               | \"{\"\"482015422002\"\":6 \n",
      "only showing top 2 rows\n",
      "\n"
     ]
    }
   ],
   "source": [
    "patterns_df.show(2,vertical=True)"
   ]
  },
  {
   "cell_type": "code",
   "execution_count": 48,
   "metadata": {},
   "outputs": [],
   "source": [
    "split_col = pyspark.sql.functions.split(patterns_df['visits_by_day'], ',')"
   ]
  },
  {
   "cell_type": "code",
   "execution_count": 53,
   "metadata": {},
   "outputs": [],
   "source": [
    "patterns_df = patterns_df.withColumn('sunday', split_col.getItem(0))\n",
    "patterns_df = patterns_df.withColumn('monday', split_col.getItem(1))"
   ]
  },
  {
   "cell_type": "code",
   "execution_count": 55,
   "metadata": {},
   "outputs": [
    {
     "name": "stdout",
     "output_type": "stream",
     "text": [
      "-RECORD 0-----------------------------------------\n",
      " safegraph_place_id        | sg:000a905313604e... \n",
      " location_name             | McDonald's           \n",
      " street_address            | 5707 Sunnybrook Dr   \n",
      " city                      | Sioux City           \n",
      " region                    | IA                   \n",
      " postal_code               | 51106                \n",
      " iso_country_code          | US                   \n",
      " safegraph_brand_ids       | SG_BRAND_5179b21f... \n",
      " brands                    | McDonald's           \n",
      " date_range_start          | 2020-08-23 22:00:00  \n",
      " date_range_end            | 2020-08-30 22:00:00  \n",
      " raw_visit_counts          | 325                  \n",
      " raw_visitor_counts        | 284                  \n",
      " visits_by_day             | [41,37,43,31,53,6... \n",
      " visits_by_each_hour       | [2,0,0,0,0,3,0,2,... \n",
      " poi_cbg                   | 191930021013         \n",
      " visitor_home_cbgs         | \"{\"\"191930032001\"... \n",
      " visitor_daytime_cbgs      | \"\"191930021013\"\":10  \n",
      " visitor_country_of_origin | \"\"191930033003\"\":10  \n",
      " distance_from_home        | \"\"191930032003\"\":7   \n",
      " median_dwell              | \"\"191930031004\"\":7   \n",
      " bucketed_dwell_times      | \"\"191499705001\"\":6   \n",
      " related_same_day_brand    | \"\"191930033002\"\":6   \n",
      " related_same_week_brand   | \"\"461270203002\"\":6   \n",
      " device_type               | \"\"191930031001\"\":6   \n",
      " sunday                    | [41                  \n",
      " monday                    | 37                   \n",
      "-RECORD 1-----------------------------------------\n",
      " safegraph_place_id        | sg:001d6be2652d48... \n",
      " location_name             | Eagle Ranch West ... \n",
      " street_address            | 5754 1/2 Eagle Sk... \n",
      " city                      | Katy                 \n",
      " region                    | TX                   \n",
      " postal_code               | 77449                \n",
      " iso_country_code          | US                   \n",
      " safegraph_brand_ids       | null                 \n",
      " brands                    | null                 \n",
      " date_range_start          | 2020-08-23 22:00:00  \n",
      " date_range_end            | 2020-08-30 22:00:00  \n",
      " raw_visit_counts          | 62                   \n",
      " raw_visitor_counts        | 43                   \n",
      " visits_by_day             | [13,10,7,8,6,8,10]   \n",
      " visits_by_each_hour       | [0,0,0,0,0,0,0,1,... \n",
      " poi_cbg                   | 482015422002         \n",
      " visitor_home_cbgs         | \"{\"\"482015422002\"\":7 \n",
      " visitor_daytime_cbgs      | \"\"482015422001\"\":6   \n",
      " visitor_country_of_origin | \"\"482015410031\"\":5   \n",
      " distance_from_home        | \"\"482015421011\"\":4   \n",
      " median_dwell              | \"\"482015410032\"\":4   \n",
      " bucketed_dwell_times      | \"\"482015430012\"\":4   \n",
      " related_same_day_brand    | \"\"482015218001\"\":4   \n",
      " related_same_week_brand   | \"\"482014534024\"\":4}\" \n",
      " device_type               | \"{\"\"482015422002\"\":6 \n",
      " sunday                    | [13                  \n",
      " monday                    | 10                   \n",
      "-RECORD 2-----------------------------------------\n",
      " safegraph_place_id        | sg:0053f040c11a44... \n",
      " location_name             | China Express        \n",
      " street_address            | 303 SW Sheridan Rd   \n",
      " city                      | Lawton               \n",
      " region                    | OK                   \n",
      " postal_code               | 73505                \n",
      " iso_country_code          | US                   \n",
      " safegraph_brand_ids       | null                 \n",
      " brands                    | null                 \n",
      " date_range_start          | 2020-08-23 22:00:00  \n",
      " date_range_end            | 2020-08-30 22:00:00  \n",
      " raw_visit_counts          | 9                    \n",
      " raw_visitor_counts        | 9                    \n",
      " visits_by_day             | [1,2,1,1,2,0,2]      \n",
      " visits_by_each_hour       | [0,0,0,0,0,0,0,0,... \n",
      " poi_cbg                   | 400310014001         \n",
      " visitor_home_cbgs         | \"{\"\"400310020031\"... \n",
      " visitor_daytime_cbgs      | \"{\"\"400310023013\"... \n",
      " visitor_country_of_origin | \"{\"\"US\"\":10}\"        \n",
      " distance_from_home        | 8439                 \n",
      " median_dwell              | 9.0                  \n",
      " bucketed_dwell_times      | \"{\"\"<5\"\":0           \n",
      " related_same_day_brand    | \"\"5-20\"\":8           \n",
      " related_same_week_brand   | \"\"21-60\"\":1          \n",
      " device_type               | \"\"61-240\"\":0         \n",
      " sunday                    | [1                   \n",
      " monday                    | 2                    \n",
      "-RECORD 3-----------------------------------------\n",
      " safegraph_place_id        | sg:0057f2a774cb49... \n",
      " location_name             | Tup Tim Thai Cuisine \n",
      " street_address            | 3860 Commercial S... \n",
      " city                      | Salem                \n",
      " region                    | OR                   \n",
      " postal_code               | 97302                \n",
      " iso_country_code          | US                   \n",
      " safegraph_brand_ids       | null                 \n",
      " brands                    | null                 \n",
      " date_range_start          | 2020-08-24 00:00:00  \n",
      " date_range_end            | 2020-08-31 00:00:00  \n",
      " raw_visit_counts          | 10                   \n",
      " raw_visitor_counts        | 10                   \n",
      " visits_by_day             | [0,3,1,3,2,1,0]      \n",
      " visits_by_each_hour       | [0,0,0,0,0,0,0,0,... \n",
      " poi_cbg                   | 410470011002         \n",
      " visitor_home_cbgs         | \"{\"\"410470021012\"... \n",
      " visitor_daytime_cbgs      | \"{\"\"410470023031\"... \n",
      " visitor_country_of_origin | \"{\"\"US\"\":8}\"         \n",
      " distance_from_home        | 3280                 \n",
      " median_dwell              | 78.0                 \n",
      " bucketed_dwell_times      | \"{\"\"<5\"\":0           \n",
      " related_same_day_brand    | \"\"5-20\"\":1           \n",
      " related_same_week_brand   | \"\"21-60\"\":3          \n",
      " device_type               | \"\"61-240\"\":4         \n",
      " sunday                    | [0                   \n",
      " monday                    | 3                    \n",
      "-RECORD 4-----------------------------------------\n",
      " safegraph_place_id        | sg:00668208c8814f... \n",
      " location_name             | United States Pos... \n",
      " street_address            | 6063 NC Highway 43 N \n",
      " city                      | Falkland             \n",
      " region                    | NC                   \n",
      " postal_code               | 27827                \n",
      " iso_country_code          | US                   \n",
      " safegraph_brand_ids       | SG_BRAND_27ee73cd... \n",
      " brands                    | United States Pos... \n",
      " date_range_start          | 2020-08-23 21:00:00  \n",
      " date_range_end            | 2020-08-30 21:00:00  \n",
      " raw_visit_counts          | 34                   \n",
      " raw_visitor_counts        | 14                   \n",
      " visits_by_day             | [8,4,4,7,7,4,0]      \n",
      " visits_by_each_hour       | [0,0,0,0,0,0,0,1,... \n",
      " poi_cbg                   | 371470019003         \n",
      " visitor_home_cbgs         | \"{\"\"371470019003\"\":5 \n",
      " visitor_daytime_cbgs      | \"\"371470010021\"\":4}\" \n",
      " visitor_country_of_origin | \"{\"\"370650216001\"\":4 \n",
      " distance_from_home        | \"\"371470008002\"\":4   \n",
      " median_dwell              | \"\"371910008002\"\":4}\" \n",
      " bucketed_dwell_times      | \"{\"\"US\"\":13}\"        \n",
      " related_same_day_brand    | 16894                \n",
      " related_same_week_brand   | 21.0                 \n",
      " device_type               | \"{\"\"<5\"\":1           \n",
      " sunday                    | [8                   \n",
      " monday                    | 4                    \n",
      "only showing top 5 rows\n",
      "\n"
     ]
    }
   ],
   "source": [
    "patterns_df.show(5, vertical=True)"
   ]
  },
  {
   "cell_type": "code",
   "execution_count": null,
   "metadata": {},
   "outputs": [],
   "source": []
  }
 ],
 "metadata": {
  "kernelspec": {
   "display_name": "Python 3",
   "language": "python",
   "name": "python3"
  },
  "language_info": {
   "codemirror_mode": {
    "name": "ipython",
    "version": 3
   },
   "file_extension": ".py",
   "mimetype": "text/x-python",
   "name": "python",
   "nbconvert_exporter": "python",
   "pygments_lexer": "ipython3",
   "version": "3.7.6"
  },
  "varInspector": {
   "cols": {
    "lenName": 16,
    "lenType": 16,
    "lenVar": 40
   },
   "kernels_config": {
    "python": {
     "delete_cmd_postfix": "",
     "delete_cmd_prefix": "del ",
     "library": "var_list.py",
     "varRefreshCmd": "print(var_dic_list())"
    },
    "r": {
     "delete_cmd_postfix": ") ",
     "delete_cmd_prefix": "rm(",
     "library": "var_list.r",
     "varRefreshCmd": "cat(var_dic_list()) "
    }
   },
   "types_to_exclude": [
    "module",
    "function",
    "builtin_function_or_method",
    "instance",
    "_Feature"
   ],
   "window_display": false
  }
 },
 "nbformat": 4,
 "nbformat_minor": 4
}
