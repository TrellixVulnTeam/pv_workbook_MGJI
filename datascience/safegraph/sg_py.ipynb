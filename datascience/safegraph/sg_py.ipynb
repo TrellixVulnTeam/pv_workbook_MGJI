{
 "cells": [
  {
   "cell_type": "code",
   "execution_count": 8,
   "metadata": {},
   "outputs": [],
   "source": [
    "!pip install -q --upgrade git+https://github.com/SafeGraphInc/safegraph_py\n",
    "from safegraph_py_functions import safegraph_py_functions as sgpy\n",
    "import pandas as pd"
   ]
  },
  {
   "cell_type": "code",
   "execution_count": 3,
   "metadata": {},
   "outputs": [
    {
     "name": "stdout",
     "output_type": "stream",
     "text": [
      "Hello World\n"
     ]
    }
   ],
   "source": [
    "sgpy.test_me()"
   ]
  },
  {
   "cell_type": "code",
   "execution_count": 4,
   "metadata": {},
   "outputs": [
    {
     "name": "stdout",
     "output_type": "stream",
     "text": [
      "\n",
      "\n",
      " ----------------------------------------------------------------------------------------------------------------------------------------------------------------------------------------------------- \n",
      ".d8888b.            .d888          .d8888b.                            888           8888888b.           888    888                             888      d8b 888                                       \n",
      "d88P  Y88b          d88P\"          d88P  Y88b                          888           888   Y88b          888    888                             888      Y8P 888                                       \n",
      "Y88b.               888            888    888                          888           888    888          888    888                             888          888                                       \n",
      " \"Y888b.    8888b.  888888 .d88b.  888        888d888 8888b.  88888b.  88888b.       888   d88P 888  888 888888 88888b.   .d88b.  88888b.       888      888 88888b.  888d888 8888b.  888d888 888  888 \n",
      "    \"Y88b.     \"88b 888   d8P  Y8b 888  88888 888P\"      \"88b 888 \"88b 888 \"88b      8888888P\"  888  888 888    888 \"88b d88\"\"88b 888 \"88b      888      888 888 \"88b 888P\"      \"88b 888P\"   888  888 \n",
      "      \"888 .d888888 888   88888888 888    888 888    .d888888 888  888 888  888      888        888  888 888    888  888 888  888 888  888      888      888 888  888 888    .d888888 888     888  888 \n",
      "Y88b  d88P 888  888 888   Y8b.     Y88b  d88P 888    888  888 888 d88P 888  888      888        Y88b 888 Y88b.  888  888 Y88..88P 888  888      888      888 888 d88P 888    888  888 888     Y88b 888 \n",
      " \"Y8888P\"  \"Y888888 888    \"Y8888   \"Y8888P88 888    \"Y888888 88888P\"  888  888      888         \"Y88888  \"Y888 888  888  \"Y88P\"  888  888      88888888 888 88888P\"  888    \"Y888888 888      \"Y88888 \n",
      "                                                              888                                    888                                                                                           888 \n",
      "                                                              888                               Y8b d88P                                                                                      Y8b d88P \n",
      "                                                              888                                \"Y88P\"                                                                                        \"Y88P\"  \n",
      "-------------------------------------------------------------------------------------------------------------------------------------------------------------------------------------------------------\n",
      "\n",
      " HELP:\n",
      "\n",
      "  Welcome to the safegraph helper function. Below you will find a list of functions and their arguments to aid in your datascience journey. If you have further questions that cannot\n",
      "  be answered by this help command, please do not hesitate to ask for assistance in the #python_troubleshooting slack channel. \n",
      "\n",
      "        Key:\n",
      "            *    -    Required Argument\n",
      "            &    -    Boolean value\n",
      "            $    -    Pandas *args and **kwargs are activated\n",
      "\n",
      "\n",
      "\n",
      "  Available Functions: \n",
      "\n",
      "    + test_me() - A function to test the Python Libray\n",
      "\n",
      "  ----------------------[JSON Section]----------------------\n",
      "\n",
      "    + unpack_json() - a function to explode JSON objects within pandas vertically into a new DF\n",
      "        **Arguments: \n",
      "            df*\n",
      "            json_column \n",
      "            key_col_name \n",
      "            value_col_name \n",
      "\n",
      "    + unpack_json_and_merge() - a function to explode JSON objects within pandas vertically and add it to the current DF \n",
      "        **Arguments:\n",
      "            df*\n",
      "            json_column\n",
      "            key_col_name\n",
      "            value_col_name\n",
      "            keep_index (&)\n",
      "\n",
      "    + explode_json_array() - This function vertically explodes an array column in SafeGraph data and creates a second new column indicating the index value from the array\n",
      "        **Arguments:\n",
      "            df*\n",
      "            array_column\n",
      "            value_col_name\n",
      "            place_key\n",
      "            file_key\n",
      "            array_sequence\n",
      "            keep_index (&)\n",
      "            verbose (&)\n",
      "            zero_index (&)\n",
      "            \n",
      "-----------------[CORE, GEO, and PATTERNS section]----------------------\n",
      "\n",
      "    + read_core_folder() - a function that concats the core files together into 1 dataframe\n",
      "        **Arguments:\n",
      "            path_to_core*\n",
      "            compression\n",
      "            $\n",
      "\n",
      "    + read_core_folder_zip() - used to read in the Core data from the zipped core file\n",
      "        **Arguments:\n",
      "            path_to_core*\n",
      "            compression\n",
      "            $\n",
      "\n",
      "    + read_geo_zip() - used to read in the Core Geo data from a zipped file\n",
      "        **Arguments:\n",
      "            path_to_geo*\n",
      "            compression\n",
      "            $\n",
      "\n",
      "    + read_pattern_single() - used to read in SafeGraph data pre June 15th\n",
      "        **Arguments:\n",
      "            f_path*\n",
      "            compression \n",
      "            $      \n",
      "\n",
      "    + read_pattern_multi() - used to read in SafeGraph pattern data that is broken into multiple files\n",
      "        **Arguments:\n",
      "            path_to_pattern*\n",
      "            compression\n",
      "            $\n",
      "\n",
      "    + merge_core_pattern() - used to combine the core file and the pattern files on the SafeGraph ID\n",
      "        **Arguments:\n",
      "            core_df*\n",
      "            patterns_df*\n",
      "            how\n",
      "            $\n",
      "\n",
      "  \n"
     ]
    }
   ],
   "source": [
    "sgpy.help()"
   ]
  },
  {
   "cell_type": "code",
   "execution_count": 6,
   "metadata": {},
   "outputs": [],
   "source": [
    "import matplotlib.pyplot as plt\n",
    "%matplotlib inline\n",
    "\n",
    "SMALL_SIZE = 11\n",
    "MEDIUM_SIZE = 18\n",
    "BIGGER_SIZE = 20\n",
    "\n",
    "plt.rc('font', size=SMALL_SIZE)          # controls default text sizes\n",
    "plt.rc('axes', titlesize=SMALL_SIZE)     # fontsize of the axes title\n",
    "plt.rc('axes', labelsize=MEDIUM_SIZE)    # fontsize of the x and y labels\n",
    "plt.rc('xtick', labelsize=SMALL_SIZE)    # fontsize of the tick labels\n",
    "plt.rc('ytick', labelsize=SMALL_SIZE)    # fontsize of the tick labels\n",
    "plt.rc('legend', fontsize=SMALL_SIZE)    # legend fontsize\n",
    "plt.rc('figure', titlesize=BIGGER_SIZE)  # fontsize of the figure title"
   ]
  },
  {
   "cell_type": "code",
   "execution_count": 9,
   "metadata": {},
   "outputs": [],
   "source": [
    "raw_url = 'https://raw.githubusercontent.com/ryanfoxsquire/demodata/master/ohioRestaurants/Starter-OH-Restaurants-CORE_POI-2019-08-09/Starter-OH-Restaurants-CORE_POI-2019-08-09.csv'\n",
    "sgCorePlaces = pd.read_csv(raw_url)"
   ]
  },
  {
   "cell_type": "code",
   "execution_count": 10,
   "metadata": {},
   "outputs": [
    {
     "name": "stdout",
     "output_type": "stream",
     "text": [
      "Note: each row is a unique Point of Interest (POI) \n",
      "and every POI has a unique safegraph_place_id.\n",
      "\n",
      "number of rows:\n",
      "20183\n",
      "number of unique sgpids:\n",
      "20183\n",
      "every row is a unique safegraph_place_id:\n",
      "True\n",
      "\n",
      "\n",
      "# count rows by state\n"
     ]
    },
    {
     "data": {
      "text/html": [
       "<div>\n",
       "<style scoped>\n",
       "    .dataframe tbody tr th:only-of-type {\n",
       "        vertical-align: middle;\n",
       "    }\n",
       "\n",
       "    .dataframe tbody tr th {\n",
       "        vertical-align: top;\n",
       "    }\n",
       "\n",
       "    .dataframe thead th {\n",
       "        text-align: right;\n",
       "    }\n",
       "</style>\n",
       "<table border=\"1\" class=\"dataframe\">\n",
       "  <thead>\n",
       "    <tr style=\"text-align: right;\">\n",
       "      <th></th>\n",
       "      <th>num_poi</th>\n",
       "    </tr>\n",
       "    <tr>\n",
       "      <th>state</th>\n",
       "      <th></th>\n",
       "    </tr>\n",
       "  </thead>\n",
       "  <tbody>\n",
       "    <tr>\n",
       "      <th>oh</th>\n",
       "      <td>20183</td>\n",
       "    </tr>\n",
       "  </tbody>\n",
       "</table>\n",
       "</div>"
      ],
      "text/plain": [
       "       num_poi\n",
       "state         \n",
       "oh       20183"
      ]
     },
     "execution_count": 10,
     "metadata": {},
     "output_type": "execute_result"
    }
   ],
   "source": [
    "print(\"Note: each row is a unique Point of Interest (POI) \\nand every POI has a unique safegraph_place_id.\\n\")\n",
    "\n",
    "print(\"number of rows:\")\n",
    "print(sgCorePlaces.shape[0]) \n",
    "print(\"number of unique sgpids:\")\n",
    "print(sgCorePlaces.safegraph_place_id.unique().shape[0]) \n",
    "print(\"every row is a unique safegraph_place_id:\")\n",
    "print(sgCorePlaces.shape[0] == sgCorePlaces.safegraph_place_id.unique().shape[0]) \n",
    "print('\\n')\n",
    "print(\"# count rows by state\")\n",
    "sgCorePlaces.groupby(['state'])['safegraph_place_id'].count().to_frame(name = 'num_poi')"
   ]
  },
  {
   "cell_type": "code",
   "execution_count": null,
   "metadata": {},
   "outputs": [],
   "source": []
  }
 ],
 "metadata": {
  "kernelspec": {
   "display_name": "Python 3",
   "language": "python",
   "name": "python3"
  },
  "language_info": {
   "codemirror_mode": {
    "name": "ipython",
    "version": 3
   },
   "file_extension": ".py",
   "mimetype": "text/x-python",
   "name": "python",
   "nbconvert_exporter": "python",
   "pygments_lexer": "ipython3",
   "version": "3.7.6"
  },
  "varInspector": {
   "cols": {
    "lenName": 16,
    "lenType": 16,
    "lenVar": 40
   },
   "kernels_config": {
    "python": {
     "delete_cmd_postfix": "",
     "delete_cmd_prefix": "del ",
     "library": "var_list.py",
     "varRefreshCmd": "print(var_dic_list())"
    },
    "r": {
     "delete_cmd_postfix": ") ",
     "delete_cmd_prefix": "rm(",
     "library": "var_list.r",
     "varRefreshCmd": "cat(var_dic_list()) "
    }
   },
   "types_to_exclude": [
    "module",
    "function",
    "builtin_function_or_method",
    "instance",
    "_Feature"
   ],
   "window_display": false
  }
 },
 "nbformat": 4,
 "nbformat_minor": 4
}
