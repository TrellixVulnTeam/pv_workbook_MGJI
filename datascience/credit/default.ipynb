{
 "cells": [
  {
   "cell_type": "code",
   "execution_count": 146,
   "metadata": {},
   "outputs": [],
   "source": [
    "import pprint as pp\n",
    "import pickle\n",
    "\n",
    "import pandas as pd\n",
    "import seaborn as sns\n",
    "import matplotlib.pyplot as plt\n",
    "import numpy as np\n",
    "from scipy.stats import uniform as sp_rand\n",
    "\n",
    "from sklearn.neighbors import KNeighborsClassifier\n",
    "from sklearn.linear_model import LogisticRegression, SGDClassifier\n",
    "from sklearn.ensemble import RandomForestClassifier, VotingClassifier\n",
    "from sklearn import svm\n",
    "\n",
    "from sklearn.model_selection import train_test_split, RandomizedSearchCV, StratifiedKFold, ShuffleSplit, cross_val_score\n",
    "from sklearn.metrics import precision_score, recall_score, accuracy_score, roc_auc_score,confusion_matrix, classification_report\n",
    "from sklearn.preprocessing import KBinsDiscretizer\n",
    "from sklearn.ensemble import AdaBoostClassifier\n",
    "from sklearn.ensemble import GradientBoostingClassifier\n",
    "\n",
    "from imblearn.over_sampling import RandomOverSampler, SMOTE, ADASYN\n",
    "from imblearn.pipeline import Pipeline\n",
    "\n",
    "from sklearn.metrics import accuracy_score, precision_score, recall_score,\\\n",
    "                            make_scorer, fbeta_score, roc_curve, auc, \\\n",
    "                            roc_auc_score, precision_recall_curve, confusion_matrix\n",
    "\n",
    "from yellowbrick.classifier import DiscriminationThreshold\n",
    "from yellowbrick.classifier import ROCAUC"
   ]
  },
  {
   "cell_type": "code",
   "execution_count": 19,
   "metadata": {},
   "outputs": [],
   "source": [
    "df = pd.read_csv('UCI_Credit_Card 2.csv')"
   ]
  },
  {
   "cell_type": "markdown",
   "metadata": {},
   "source": [
    "### Feature Engineering:\n",
    "Discretization of limit balance  \n",
    "Singular Value Decomposition"
   ]
  },
  {
   "cell_type": "code",
   "execution_count": 5,
   "metadata": {},
   "outputs": [],
   "source": [
    "est = KBinsDiscretizer(n_bins=5, encode='ordinal', strategy='kmeans')\n",
    "df['LIMIT_BAL'] = est.fit_transform(df[['LIMIT_BAL']])"
   ]
  },
  {
   "cell_type": "code",
   "execution_count": 8,
   "metadata": {},
   "outputs": [],
   "source": [
    "def svd(X):\n",
    "  # Data matrix X, X doesn't need to be 0-centered\n",
    "  n, m = X.shape\n",
    "  # Compute full SVD\n",
    "  U, Sigma, Vh = np.linalg.svd(X, \n",
    "      full_matrices=False, # It's not necessary to compute the full matrix of U or V\n",
    "      compute_uv=True)\n",
    "  # Transform X with SVD components\n",
    "  X_svd = np.dot(U, np.diag(Sigma))\n",
    "  return X_svd"
   ]
  },
  {
   "cell_type": "code",
   "execution_count": 10,
   "metadata": {},
   "outputs": [
    {
     "data": {
      "text/plain": [
       "array([[-3.44991354e+03, -3.28613213e+03, -2.63784683e+00, ...,\n",
       "        -9.66091372e-01, -8.24903439e-01,  6.31529838e-01],\n",
       "       [-6.96827769e+03,  1.97617144e+03,  3.40374255e+02, ...,\n",
       "        -2.77106939e-01, -1.92118897e-01,  9.72228163e-01],\n",
       "       [-4.20656521e+04, -4.17617940e+03, -3.76435264e+03, ...,\n",
       "        -1.11766450e-02, -1.44032447e-01,  1.98435326e-02],\n",
       "       ...,\n",
       "       [-2.91873167e+04,  2.36289190e+04, -4.85606291e+03, ...,\n",
       "         7.19192360e-01,  7.79800551e-01, -7.92627857e-01],\n",
       "       [-1.14673731e+05,  1.62798250e+04,  4.73826995e+04, ...,\n",
       "         6.35641510e-03,  3.08467377e-01, -4.29245755e-01],\n",
       "       [-9.76942238e+04, -1.67302838e+04,  9.16962088e+03, ...,\n",
       "         1.02137171e-02,  2.47832862e-01, -2.29459959e-02]])"
      ]
     },
     "execution_count": 10,
     "metadata": {},
     "output_type": "execute_result"
    }
   ],
   "source": [
    "features = df.iloc[:,:-1]\n",
    "svd(features)"
   ]
  },
  {
   "cell_type": "code",
   "execution_count": 11,
   "metadata": {},
   "outputs": [],
   "source": [
    "X = features\n",
    "y = df['default.payment.next.month']"
   ]
  },
  {
   "cell_type": "code",
   "execution_count": 40,
   "metadata": {},
   "outputs": [],
   "source": [
    "X_train, X_test, y_train, y_test = train_test_split(X, y, test_size = 0.33, random_state=42, stratify=y)"
   ]
  },
  {
   "cell_type": "code",
   "execution_count": 13,
   "metadata": {},
   "outputs": [
    {
     "name": "stdout",
     "output_type": "stream",
     "text": [
      "Fitting 1 folds for each of 3 candidates, totalling 3 fits\n"
     ]
    },
    {
     "name": "stderr",
     "output_type": "stream",
     "text": [
      "[Parallel(n_jobs=-1)]: Using backend LokyBackend with 4 concurrent workers.\n",
      "[Parallel(n_jobs=-1)]: Done   3 out of   3 | elapsed:    4.8s finished\n",
      "[Parallel(n_jobs=-1)]: Using backend LokyBackend with 4 concurrent workers.\n"
     ]
    },
    {
     "name": "stdout",
     "output_type": "stream",
     "text": [
      "Fitting 1 folds for each of 3 candidates, totalling 3 fits\n"
     ]
    },
    {
     "name": "stderr",
     "output_type": "stream",
     "text": [
      "[Parallel(n_jobs=-1)]: Done   3 out of   3 | elapsed:    2.0s finished\n"
     ]
    },
    {
     "name": "stdout",
     "output_type": "stream",
     "text": [
      "Fitting 1 folds for each of 3 candidates, totalling 3 fits\n"
     ]
    },
    {
     "name": "stderr",
     "output_type": "stream",
     "text": [
      "[Parallel(n_jobs=-1)]: Using backend LokyBackend with 4 concurrent workers.\n",
      "[Parallel(n_jobs=-1)]: Done   3 out of   3 | elapsed:    2.8s finished\n"
     ]
    },
    {
     "name": "stdout",
     "output_type": "stream",
     "text": [
      "Fitting 1 folds for each of 3 candidates, totalling 3 fits\n"
     ]
    },
    {
     "name": "stderr",
     "output_type": "stream",
     "text": [
      "[Parallel(n_jobs=-1)]: Using backend LokyBackend with 4 concurrent workers.\n",
      "[Parallel(n_jobs=-1)]: Done   3 out of   3 | elapsed:   59.0s finished\n"
     ]
    }
   ],
   "source": [
    "classifiers = {'KNN': KNeighborsClassifier(), \n",
    "               'LR': LogisticRegression(penalty = 'l1', max_iter = 10000, solver = 'liblinear'), \n",
    "               'RF': RandomForestClassifier(max_depth = 3), \n",
    "               'SVM': svm.SVC()\n",
    "              }\n",
    "\n",
    "samplers = {'sampling': [None, \n",
    "                         SMOTE(random_state = 42), \n",
    "                         ADASYN(random_state = 42)]\n",
    "           }\n",
    "\n",
    "results_dict = {}\n",
    "\n",
    "# #n_splits = 1 in ShuffleSplits allows us to avoid cross-validation\n",
    "# #cross-validating with n_jobs = -1 with sampling is not possible with pipeline\n",
    "ss = ShuffleSplit(n_splits = 1)\n",
    "\n",
    "\n",
    "for classifier_name, classifier in classifiers.items():\n",
    "    steps = [('sampling', None),\n",
    "             (classifier_name, classifier)]\n",
    "    \n",
    "    model = Pipeline(steps)\n",
    "    \n",
    "    grid = GridSearchCV(model, samplers, cv = ss, \n",
    "                        n_jobs = -1, scoring = 'roc_auc', verbose = True)\n",
    "\n",
    "    grid.fit(X_train, y_train)\n",
    "\n",
    "    results = grid.cv_results_\n",
    "    \n",
    "    scores = list(zip(results['params'], results['mean_test_score']))\n",
    "    scores = sorted(scores, key = lambda x:x[1], reverse = True)\n",
    "\n",
    "    results_dict[classifier_name] = scores"
   ]
  },
  {
   "cell_type": "code",
   "execution_count": 14,
   "metadata": {},
   "outputs": [
    {
     "name": "stdout",
     "output_type": "stream",
     "text": [
      "{'KNN': [({'sampling': None}, 0.5825555555555555),\n",
      "         ({'sampling': SMOTE(random_state=42)}, 0.5758774928774928),\n",
      "         ({'sampling': ADASYN(random_state=42)}, 0.560911680911681)],\n",
      " 'LR': [({'sampling': None}, 0.7174261693602846),\n",
      "        ({'sampling': SMOTE(random_state=42)}, 0.6926658938459461),\n",
      "        ({'sampling': ADASYN(random_state=42)}, 0.6895188065547201)],\n",
      " 'RF': [({'sampling': None}, 0.7879413982937943),\n",
      "        ({'sampling': ADASYN(random_state=42)}, 0.7821381313028675),\n",
      "        ({'sampling': SMOTE(random_state=42)}, 0.78119049016907)],\n",
      " 'SVM': [({'sampling': ADASYN(random_state=42)}, 0.6658544644156156),\n",
      "         ({'sampling': SMOTE(random_state=42)}, 0.6653486509601618),\n",
      "         ({'sampling': None}, 0.5765824686687996)]}\n"
     ]
    }
   ],
   "source": [
    "sampling_results = results_dict\n",
    "pp.pprint(sampling_results)"
   ]
  },
  {
   "cell_type": "code",
   "execution_count": 105,
   "metadata": {},
   "outputs": [
    {
     "name": "stdout",
     "output_type": "stream",
     "text": [
      "Fitting 5 folds for each of 3 candidates, totalling 15 fits\n"
     ]
    },
    {
     "name": "stderr",
     "output_type": "stream",
     "text": [
      "[Parallel(n_jobs=-1)]: Using backend LokyBackend with 4 concurrent workers.\n",
      "[Parallel(n_jobs=-1)]: Done  15 out of  15 | elapsed:   14.9s finished\n",
      "[Parallel(n_jobs=-1)]: Using backend LokyBackend with 4 concurrent workers.\n"
     ]
    },
    {
     "name": "stdout",
     "output_type": "stream",
     "text": [
      "Fitting 5 folds for each of 7 candidates, totalling 35 fits\n"
     ]
    },
    {
     "name": "stderr",
     "output_type": "stream",
     "text": [
      "[Parallel(n_jobs=-1)]: Done  35 out of  35 | elapsed:    4.4s finished\n"
     ]
    },
    {
     "name": "stdout",
     "output_type": "stream",
     "text": [
      "Fitting 5 folds for each of 12 candidates, totalling 60 fits\n"
     ]
    },
    {
     "name": "stderr",
     "output_type": "stream",
     "text": [
      "[Parallel(n_jobs=-1)]: Using backend LokyBackend with 4 concurrent workers.\n",
      "[Parallel(n_jobs=-1)]: Done  42 tasks      | elapsed:  1.2min\n",
      "[Parallel(n_jobs=-1)]: Done  60 out of  60 | elapsed:  2.2min finished\n"
     ]
    },
    {
     "name": "stdout",
     "output_type": "stream",
     "text": [
      "Fitting 5 folds for each of 7 candidates, totalling 35 fits\n"
     ]
    },
    {
     "name": "stderr",
     "output_type": "stream",
     "text": [
      "[Parallel(n_jobs=-1)]: Using backend LokyBackend with 4 concurrent workers.\n",
      "[Parallel(n_jobs=-1)]: Done  35 out of  35 | elapsed: 16.1min finished\n"
     ]
    }
   ],
   "source": [
    "classifiers = { 'LR': LogisticRegression(penalty = 'l1', max_iter = 10000, solver = 'liblinear'), \n",
    "               'RF': RandomForestClassifier(max_depth = 3), \n",
    "               'SVM': svm.SVC()\n",
    "              }\n",
    "\n",
    "param_dict = {'LR': {'LR__C': [0.001, 0.01, 0.1, 1, 10, 100, 1000]}, \n",
    "              'RF': {'RF__n_estimators': [100, 250, 500, 1000], \n",
    "                     'RF__max_depth': [3, 4, 5]},\n",
    "              'SVM': {'SVM__C': [0.001, 0.01, 0.1, 1, 10, 100, 1000]}\n",
    "             }\n",
    "\n",
    "results_dict = {}\n",
    "\n",
    "kf = StratifiedKFold(n_splits = 5, shuffle = True, random_state = 42)\n",
    "\n",
    "for classifier_name, classifier in classifiers.items():\n",
    "    \n",
    "    #sampling is the first step, then classifying\n",
    "    #'sampling' is None because no sampling was best\n",
    "    #if 'sampling' is not None, change n_jobs in GridSearchCV to 1\n",
    "    steps = [('sampling', None),\n",
    "             (classifier_name, classifier)]\n",
    "    \n",
    "    model = Pipeline(steps)\n",
    "    \n",
    "    #fetch the parameters from param_dict\n",
    "    params = param_dict[classifier_name]\n",
    "    \n",
    "    #scoring is changed to roc_auc score\n",
    "    #we specify return_train_score = True to \n",
    "    #compare train and test to check for overfitting\n",
    "    #if 'sampling' is not None, change n_jobs in GridSearchCV to 1\n",
    "    #this is to avoid conflict among the workers \n",
    "    #due to sampling and modeling the training set, which changes across folds\n",
    "    grid = GridSearchCV(model, params, cv = kf, return_train_score = True,\n",
    "                        n_jobs = -1, scoring = 'roc_auc', verbose = True)\n",
    "\n",
    "    grid.fit(X_train, y_train)\n",
    "\n",
    "    results = grid.cv_results_\n",
    "    \n",
    "    scores = list(zip(results['params'], results['mean_train_score'], results['mean_test_score']))\n",
    "    scores = sorted(scores, key = lambda x:x[2], reverse = True)\n",
    "\n",
    "    results_dict[classifier_name] = scores"
   ]
  },
  {
   "cell_type": "code",
   "execution_count": 72,
   "metadata": {},
   "outputs": [
    {
     "name": "stdout",
     "output_type": "stream",
     "text": [
      "{'KNN': [({'KNN__n_neighbors': 7}, 0.7987196829215204, 0.6107601504510046),\n",
      "         ({'KNN__n_neighbors': 5}, 0.8298500560347524, 0.5998652638365873),\n",
      "         ({'KNN__n_neighbors': 3}, 0.8830195829419442, 0.5822575005123554)],\n",
      " 'LR': [({'LR__C': 0.01}, 0.6439141874016846, 0.6423485467115797),\n",
      "        ({'LR__C': 100}, 0.6439141561292328, 0.6423485467115797),\n",
      "        ({'LR__C': 1000}, 0.6439140801818495, 0.6423484752601439),\n",
      "        ({'LR__C': 1}, 0.6439142231416298, 0.6423483323572721),\n",
      "        ({'LR__C': 0.1}, 0.6439141650642191, 0.6423481894544003),\n",
      "        ({'LR__C': 10}, 0.6439143616339169, 0.6423479751000927),\n",
      "        ({'LR__C': 0.001}, 0.6439140623118769, 0.6423479036486568)],\n",
      " 'RF': [({'RF__max_depth': 5, 'RF__n_estimators': 1000},\n",
      "         0.787567700731761,\n",
      "         0.7756750050826927),\n",
      "        ({'RF__max_depth': 5, 'RF__n_estimators': 500},\n",
      "         0.7874918990388309,\n",
      "         0.7755071781457153),\n",
      "        ({'RF__max_depth': 5, 'RF__n_estimators': 250},\n",
      "         0.78735453907887,\n",
      "         0.7752814901888222),\n",
      "        ({'RF__max_depth': 5, 'RF__n_estimators': 100},\n",
      "         0.7866945508586702,\n",
      "         0.775099413079812),\n",
      "        ({'RF__max_depth': 4, 'RF__n_estimators': 250},\n",
      "         0.7801192381096429,\n",
      "         0.7736012915666932),\n",
      "        ({'RF__max_depth': 4, 'RF__n_estimators': 1000},\n",
      "         0.7803863610180122,\n",
      "         0.7735959828111765),\n",
      "        ({'RF__max_depth': 4, 'RF__n_estimators': 500},\n",
      "         0.7804190126324195,\n",
      "         0.7735812338913112),\n",
      "        ({'RF__max_depth': 4, 'RF__n_estimators': 100},\n",
      "         0.7795388296744978,\n",
      "         0.7734307514662888),\n",
      "        ({'RF__max_depth': 3, 'RF__n_estimators': 100},\n",
      "         0.7753283860147953,\n",
      "         0.7716696697988081),\n",
      "        ({'RF__max_depth': 3, 'RF__n_estimators': 250},\n",
      "         0.7756439783630853,\n",
      "         0.7716394087528601),\n",
      "        ({'RF__max_depth': 3, 'RF__n_estimators': 500},\n",
      "         0.7756101779567794,\n",
      "         0.7716318632635069),\n",
      "        ({'RF__max_depth': 3, 'RF__n_estimators': 1000},\n",
      "         0.7755125808652484,\n",
      "         0.7713487543888521)],\n",
      " 'SVM': [({'SVM__C': 1000}, 0.735184953388546, 0.6333757774328295),\n",
      "         ({'SVM__C': 100}, 0.7038603149114631, 0.6208068523708784),\n",
      "         ({'SVM__C': 10}, 0.6803172249127905, 0.6137002011756165),\n",
      "         ({'SVM__C': 1}, 0.6448918574545968, 0.5874913116048756),\n",
      "         ({'SVM__C': 0.1}, 0.6008003416501095, 0.5567405262262759),\n",
      "         ({'SVM__C': 0.001}, 0.5067461452712383, 0.5004526155235374),\n",
      "         ({'SVM__C': 0.01}, 0.5175052392923326, 0.49297678666422096)]}\n"
     ]
    }
   ],
   "source": [
    "pp.pprint(results_dict)"
   ]
  },
  {
   "cell_type": "code",
   "execution_count": 76,
   "metadata": {},
   "outputs": [],
   "source": [
    "def plot_roc_curves(classifiers, X_train, y_train, X_test, y_test, sampler = None):\n",
    "    \"\"\"\n",
    "        Function for plotting roc curves of classifiers for comparison\n",
    "        \n",
    "        :param classifiers: dictionary of classifiers\n",
    "        :param sampler: sampling method to use e.g. SMOTE\n",
    "        \n",
    "        :returns fpr: an array of false positive rate values from roc_curve\n",
    "        :returns tpr: an array of true positive rate values from roc_curve\n",
    "        :returns thresholds: an array of threshold values from roc_curve\n",
    "        :returns roc_auc: roc_auc scores for each classifier in classifiers\n",
    "    \"\"\"\n",
    "\n",
    "    fpr, tpr, thresholds = {}, {}, {}\n",
    "    roc_auc = {}\n",
    "\n",
    "\n",
    "    for classifier_name, classifier in classifiers.items():\n",
    "\n",
    "        #set n_jobs = -1 for faster performance\n",
    "        classifier = classifier.set_params(n_jobs = -1)\n",
    "\n",
    "        if sampler:\n",
    "            sampler.set_params(random_state = 42, n_jobs = -1)\n",
    "\n",
    "        steps = [('sampling', sampler),\n",
    "                 (classifier_name, classifier)]\n",
    "\n",
    "        model = Pipeline(steps)\n",
    "\n",
    "        model.fit(X_train, y_train)\n",
    "\n",
    "        y_proba = model.predict_proba(X_test)[:,1]\n",
    "\n",
    "        fpr[classifier_name], tpr[classifier_name], thresholds[classifier_name] = roc_curve(y_test, y_proba)\n",
    "\n",
    "        roc_auc[classifier_name] = round(auc(fpr[classifier_name], tpr[classifier_name]), 3)\n",
    "\n",
    "        print(classifier_name + ' roc_auc score: ' + str(roc_auc[classifier_name]))\n",
    "\n",
    "\n",
    "    plt.figure(figsize=(8, 8))\n",
    "\n",
    "    for classifier_name, classifier in classifiers.items():\n",
    "        sns.lineplot(fpr[classifier_name], tpr[classifier_name], err_style = None);\n",
    "\n",
    "    midline_points = np.arange(0, 1.05, 0.05) \n",
    "\n",
    "    plt.plot(midline_points, midline_points, linestyle ='--', color = 'black');\n",
    "    plt.title(\"ROC Curves for Different Classification Models\", y =1.05, fontsize = 16);\n",
    "    plt.xlabel('FPR', fontsize = 12, x = 1.05);\n",
    "    plt.ylabel('TPR', fontsize = 12, rotation =0, y = 1.05);\n",
    "    plt.legend(list(zip(classifiers.keys(), roc_auc.values())));\n",
    "\n",
    "    return fpr, tpr, thresholds, roc_auc"
   ]
  },
  {
   "cell_type": "code",
   "execution_count": 20,
   "metadata": {},
   "outputs": [],
   "source": [
    "clf = AdaBoostClassifier(n_estimators=100)\n",
    "scores = cross_val_score(clf, X, y, cv=5)"
   ]
  },
  {
   "cell_type": "code",
   "execution_count": 21,
   "metadata": {},
   "outputs": [
    {
     "data": {
      "text/plain": [
       "0.7865666666666666"
      ]
     },
     "execution_count": 21,
     "metadata": {},
     "output_type": "execute_result"
    }
   ],
   "source": [
    "scores.mean()"
   ]
  },
  {
   "cell_type": "code",
   "execution_count": 111,
   "metadata": {},
   "outputs": [
    {
     "data": {
      "text/plain": [
       "0.7695959595959596"
      ]
     },
     "execution_count": 111,
     "metadata": {},
     "output_type": "execute_result"
    }
   ],
   "source": [
    "clf = GradientBoostingClassifier(n_estimators=500, learning_rate=1, max_depth=3, random_state=0).fit(X_train, y_train)\n",
    "clf.score(X_test, y_test)"
   ]
  },
  {
   "cell_type": "code",
   "execution_count": 81,
   "metadata": {},
   "outputs": [
    {
     "data": {
      "text/plain": [
       "dict_keys(['ccp_alpha', 'criterion', 'init', 'learning_rate', 'loss', 'max_depth', 'max_features', 'max_leaf_nodes', 'min_impurity_decrease', 'min_impurity_split', 'min_samples_leaf', 'min_samples_split', 'min_weight_fraction_leaf', 'n_estimators', 'n_iter_no_change', 'presort', 'random_state', 'subsample', 'tol', 'validation_fraction', 'verbose', 'warm_start'])"
      ]
     },
     "execution_count": 81,
     "metadata": {},
     "output_type": "execute_result"
    }
   ],
   "source": [
    "clf.get_params().keys()"
   ]
  },
  {
   "cell_type": "code",
   "execution_count": 42,
   "metadata": {},
   "outputs": [],
   "source": [
    "y_true = y_test\n",
    "y_pred = clf.predict(X_test)"
   ]
  },
  {
   "cell_type": "code",
   "execution_count": 33,
   "metadata": {},
   "outputs": [],
   "source": [
    "C = confusion_matrix(y_true, y_pred)"
   ]
  },
  {
   "cell_type": "code",
   "execution_count": 117,
   "metadata": {},
   "outputs": [
    {
     "data": {
      "text/plain": [
       "0.40136986301369865"
      ]
     },
     "execution_count": 117,
     "metadata": {},
     "output_type": "execute_result"
    }
   ],
   "source": [
    "recall_score(y_true,y_pred)"
   ]
  },
  {
   "cell_type": "code",
   "execution_count": 35,
   "metadata": {},
   "outputs": [
    {
     "data": {
      "text/plain": [
       "array([[7371,  371],\n",
       "       [1415,  743]])"
      ]
     },
     "execution_count": 35,
     "metadata": {},
     "output_type": "execute_result"
    }
   ],
   "source": [
    "C"
   ]
  },
  {
   "cell_type": "code",
   "execution_count": 34,
   "metadata": {},
   "outputs": [
    {
     "data": {
      "text/plain": [
       "array([[0.95207957, 0.17191844],\n",
       "       [0.18276931, 0.34430028]])"
      ]
     },
     "execution_count": 34,
     "metadata": {},
     "output_type": "execute_result"
    }
   ],
   "source": [
    "C / C.astype(np.float).sum(axis=1)"
   ]
  },
  {
   "cell_type": "code",
   "execution_count": 32,
   "metadata": {},
   "outputs": [
    {
     "name": "stdout",
     "output_type": "stream",
     "text": [
      "              precision    recall  f1-score   support\n",
      "\n",
      "           0       0.84      0.95      0.89      7742\n",
      "           1       0.67      0.34      0.45      2158\n",
      "\n",
      "    accuracy                           0.82      9900\n",
      "   macro avg       0.75      0.65      0.67      9900\n",
      "weighted avg       0.80      0.82      0.80      9900\n",
      "\n"
     ]
    }
   ],
   "source": [
    "print(classification_report(y_true, y_pred))"
   ]
  },
  {
   "cell_type": "code",
   "execution_count": 90,
   "metadata": {},
   "outputs": [],
   "source": [
    "param_grid = {\n",
    "    'learning_rate' : np.linspace(0.2,1,num=5),\n",
    "    'n_estimators' : [100,300,500,1000],\n",
    "    'max_depth' : np.linspace(2,12,num=5)\n",
    "}\n",
    "# param_grid = {'subsample': 0.8}\n",
    "# number_models = 10\n",
    "# X = np.linspace(0.2,1,num=5)\n",
    "# X"
   ]
  },
  {
   "cell_type": "code",
   "execution_count": 91,
   "metadata": {},
   "outputs": [],
   "source": [
    "random_GB_class = RandomizedSearchCV(\n",
    "    estimator = GradientBoostingClassifier(),\n",
    "    param_distributions = param_grid,\n",
    "    scoring = 'recall',\n",
    "    n_jobs = -1,\n",
    "    cv = 5,\n",
    "    refit = True,\n",
    "    random_state = 42,\n",
    "    return_train_score = True\n",
    ")"
   ]
  },
  {
   "cell_type": "code",
   "execution_count": 92,
   "metadata": {},
   "outputs": [
    {
     "data": {
      "text/plain": [
       "RandomizedSearchCV(cv=5, estimator=GradientBoostingClassifier(), n_jobs=-1,\n",
       "                   param_distributions={'learning_rate': array([0.2, 0.4, 0.6, 0.8, 1. ]),\n",
       "                                        'max_depth': array([ 2. ,  4.5,  7. ,  9.5, 12. ]),\n",
       "                                        'n_estimators': [100, 300, 500, 1000]},\n",
       "                   random_state=42, return_train_score=True, scoring='recall')"
      ]
     },
     "execution_count": 92,
     "metadata": {},
     "output_type": "execute_result"
    }
   ],
   "source": [
    "random_GB_class.fit(X_train, y_train)"
   ]
  },
  {
   "cell_type": "code",
   "execution_count": 100,
   "metadata": {},
   "outputs": [
    {
     "data": {
      "text/plain": [
       "GradientBoostingClassifier(learning_rate=1.0, max_depth=2.0, n_estimators=1000)"
      ]
     },
     "execution_count": 100,
     "metadata": {},
     "output_type": "execute_result"
    }
   ],
   "source": [
    "random_GB_class.best_estimator_"
   ]
  },
  {
   "cell_type": "code",
   "execution_count": 98,
   "metadata": {},
   "outputs": [],
   "source": [
    "gbm_df = pd.DataFrame.from_dict(random_GB_class.cv_results_)"
   ]
  },
  {
   "cell_type": "code",
   "execution_count": 99,
   "metadata": {},
   "outputs": [
    {
     "data": {
      "text/html": [
       "<div>\n",
       "<style scoped>\n",
       "    .dataframe tbody tr th:only-of-type {\n",
       "        vertical-align: middle;\n",
       "    }\n",
       "\n",
       "    .dataframe tbody tr th {\n",
       "        vertical-align: top;\n",
       "    }\n",
       "\n",
       "    .dataframe thead th {\n",
       "        text-align: right;\n",
       "    }\n",
       "</style>\n",
       "<table border=\"1\" class=\"dataframe\">\n",
       "  <thead>\n",
       "    <tr style=\"text-align: right;\">\n",
       "      <th></th>\n",
       "      <th>mean_fit_time</th>\n",
       "      <th>std_fit_time</th>\n",
       "      <th>mean_score_time</th>\n",
       "      <th>std_score_time</th>\n",
       "      <th>param_n_estimators</th>\n",
       "      <th>param_max_depth</th>\n",
       "      <th>param_learning_rate</th>\n",
       "      <th>params</th>\n",
       "      <th>split0_test_score</th>\n",
       "      <th>split1_test_score</th>\n",
       "      <th>...</th>\n",
       "      <th>mean_test_score</th>\n",
       "      <th>std_test_score</th>\n",
       "      <th>rank_test_score</th>\n",
       "      <th>split0_train_score</th>\n",
       "      <th>split1_train_score</th>\n",
       "      <th>split2_train_score</th>\n",
       "      <th>split3_train_score</th>\n",
       "      <th>split4_train_score</th>\n",
       "      <th>mean_train_score</th>\n",
       "      <th>std_train_score</th>\n",
       "    </tr>\n",
       "  </thead>\n",
       "  <tbody>\n",
       "    <tr>\n",
       "      <td>0</td>\n",
       "      <td>53.037395</td>\n",
       "      <td>1.511181</td>\n",
       "      <td>0.050050</td>\n",
       "      <td>0.002595</td>\n",
       "      <td>1000</td>\n",
       "      <td>2</td>\n",
       "      <td>1</td>\n",
       "      <td>{'n_estimators': 1000, 'max_depth': 2.0, 'lear...</td>\n",
       "      <td>0.393258</td>\n",
       "      <td>0.375703</td>\n",
       "      <td>...</td>\n",
       "      <td>0.390913</td>\n",
       "      <td>0.009590</td>\n",
       "      <td>1</td>\n",
       "      <td>0.804274</td>\n",
       "      <td>0.482429</td>\n",
       "      <td>0.794771</td>\n",
       "      <td>0.799269</td>\n",
       "      <td>0.789429</td>\n",
       "      <td>0.734035</td>\n",
       "      <td>0.125898</td>\n",
       "    </tr>\n",
       "    <tr>\n",
       "      <td>1</td>\n",
       "      <td>74.062502</td>\n",
       "      <td>0.500657</td>\n",
       "      <td>0.065463</td>\n",
       "      <td>0.008370</td>\n",
       "      <td>300</td>\n",
       "      <td>9.5</td>\n",
       "      <td>0.6</td>\n",
       "      <td>{'n_estimators': 300, 'max_depth': 9.5, 'learn...</td>\n",
       "      <td>0.365169</td>\n",
       "      <td>0.386952</td>\n",
       "      <td>...</td>\n",
       "      <td>0.379670</td>\n",
       "      <td>0.015146</td>\n",
       "      <td>3</td>\n",
       "      <td>1.000000</td>\n",
       "      <td>1.000000</td>\n",
       "      <td>1.000000</td>\n",
       "      <td>1.000000</td>\n",
       "      <td>1.000000</td>\n",
       "      <td>1.000000</td>\n",
       "      <td>0.000000</td>\n",
       "    </tr>\n",
       "    <tr>\n",
       "      <td>2</td>\n",
       "      <td>92.593951</td>\n",
       "      <td>0.920912</td>\n",
       "      <td>0.080869</td>\n",
       "      <td>0.005843</td>\n",
       "      <td>500</td>\n",
       "      <td>7</td>\n",
       "      <td>0.8</td>\n",
       "      <td>{'n_estimators': 500, 'max_depth': 7.0, 'learn...</td>\n",
       "      <td>0.360674</td>\n",
       "      <td>0.364454</td>\n",
       "      <td>...</td>\n",
       "      <td>0.376297</td>\n",
       "      <td>0.014433</td>\n",
       "      <td>5</td>\n",
       "      <td>1.000000</td>\n",
       "      <td>1.000000</td>\n",
       "      <td>1.000000</td>\n",
       "      <td>1.000000</td>\n",
       "      <td>1.000000</td>\n",
       "      <td>1.000000</td>\n",
       "      <td>0.000000</td>\n",
       "    </tr>\n",
       "    <tr>\n",
       "      <td>3</td>\n",
       "      <td>32.917747</td>\n",
       "      <td>1.252745</td>\n",
       "      <td>0.030434</td>\n",
       "      <td>0.003817</td>\n",
       "      <td>300</td>\n",
       "      <td>4.5</td>\n",
       "      <td>0.6</td>\n",
       "      <td>{'n_estimators': 300, 'max_depth': 4.5, 'learn...</td>\n",
       "      <td>0.373034</td>\n",
       "      <td>0.375703</td>\n",
       "      <td>...</td>\n",
       "      <td>0.385068</td>\n",
       "      <td>0.009612</td>\n",
       "      <td>2</td>\n",
       "      <td>0.874859</td>\n",
       "      <td>0.875176</td>\n",
       "      <td>0.867023</td>\n",
       "      <td>0.883891</td>\n",
       "      <td>0.865898</td>\n",
       "      <td>0.873369</td>\n",
       "      <td>0.006516</td>\n",
       "    </tr>\n",
       "    <tr>\n",
       "      <td>4</td>\n",
       "      <td>12.117188</td>\n",
       "      <td>0.658321</td>\n",
       "      <td>0.016182</td>\n",
       "      <td>0.003931</td>\n",
       "      <td>100</td>\n",
       "      <td>4.5</td>\n",
       "      <td>0.6</td>\n",
       "      <td>{'n_estimators': 100, 'max_depth': 4.5, 'learn...</td>\n",
       "      <td>0.365169</td>\n",
       "      <td>0.374578</td>\n",
       "      <td>...</td>\n",
       "      <td>0.376071</td>\n",
       "      <td>0.014141</td>\n",
       "      <td>6</td>\n",
       "      <td>0.604612</td>\n",
       "      <td>0.624965</td>\n",
       "      <td>0.605285</td>\n",
       "      <td>0.605285</td>\n",
       "      <td>0.605285</td>\n",
       "      <td>0.609087</td>\n",
       "      <td>0.007943</td>\n",
       "    </tr>\n",
       "    <tr>\n",
       "      <td>5</td>\n",
       "      <td>348.230022</td>\n",
       "      <td>19.723819</td>\n",
       "      <td>0.287077</td>\n",
       "      <td>0.026055</td>\n",
       "      <td>1000</td>\n",
       "      <td>12</td>\n",
       "      <td>0.4</td>\n",
       "      <td>{'n_estimators': 1000, 'max_depth': 12.0, 'lea...</td>\n",
       "      <td>0.260674</td>\n",
       "      <td>0.260967</td>\n",
       "      <td>...</td>\n",
       "      <td>0.259334</td>\n",
       "      <td>0.002956</td>\n",
       "      <td>10</td>\n",
       "      <td>1.000000</td>\n",
       "      <td>1.000000</td>\n",
       "      <td>1.000000</td>\n",
       "      <td>1.000000</td>\n",
       "      <td>1.000000</td>\n",
       "      <td>1.000000</td>\n",
       "      <td>0.000000</td>\n",
       "    </tr>\n",
       "    <tr>\n",
       "      <td>6</td>\n",
       "      <td>28.666466</td>\n",
       "      <td>0.881262</td>\n",
       "      <td>0.028719</td>\n",
       "      <td>0.002091</td>\n",
       "      <td>500</td>\n",
       "      <td>2</td>\n",
       "      <td>0.4</td>\n",
       "      <td>{'n_estimators': 500, 'max_depth': 2.0, 'learn...</td>\n",
       "      <td>0.378652</td>\n",
       "      <td>0.368954</td>\n",
       "      <td>...</td>\n",
       "      <td>0.372693</td>\n",
       "      <td>0.006769</td>\n",
       "      <td>8</td>\n",
       "      <td>0.499438</td>\n",
       "      <td>0.533877</td>\n",
       "      <td>0.505201</td>\n",
       "      <td>0.509418</td>\n",
       "      <td>0.506607</td>\n",
       "      <td>0.510908</td>\n",
       "      <td>0.011937</td>\n",
       "    </tr>\n",
       "    <tr>\n",
       "      <td>7</td>\n",
       "      <td>5.694836</td>\n",
       "      <td>0.408239</td>\n",
       "      <td>0.010795</td>\n",
       "      <td>0.000325</td>\n",
       "      <td>100</td>\n",
       "      <td>2</td>\n",
       "      <td>1</td>\n",
       "      <td>{'n_estimators': 100, 'max_depth': 2.0, 'learn...</td>\n",
       "      <td>0.358427</td>\n",
       "      <td>0.389201</td>\n",
       "      <td>...</td>\n",
       "      <td>0.374048</td>\n",
       "      <td>0.011305</td>\n",
       "      <td>7</td>\n",
       "      <td>0.437570</td>\n",
       "      <td>0.461344</td>\n",
       "      <td>0.448412</td>\n",
       "      <td>0.445600</td>\n",
       "      <td>0.445881</td>\n",
       "      <td>0.447761</td>\n",
       "      <td>0.007707</td>\n",
       "    </tr>\n",
       "    <tr>\n",
       "      <td>8</td>\n",
       "      <td>93.830407</td>\n",
       "      <td>4.973141</td>\n",
       "      <td>0.063212</td>\n",
       "      <td>0.004494</td>\n",
       "      <td>500</td>\n",
       "      <td>7</td>\n",
       "      <td>0.2</td>\n",
       "      <td>{'n_estimators': 500, 'max_depth': 7.0, 'learn...</td>\n",
       "      <td>0.367416</td>\n",
       "      <td>0.377953</td>\n",
       "      <td>...</td>\n",
       "      <td>0.378770</td>\n",
       "      <td>0.011906</td>\n",
       "      <td>4</td>\n",
       "      <td>1.000000</td>\n",
       "      <td>1.000000</td>\n",
       "      <td>0.999438</td>\n",
       "      <td>1.000000</td>\n",
       "      <td>1.000000</td>\n",
       "      <td>0.999888</td>\n",
       "      <td>0.000225</td>\n",
       "    </tr>\n",
       "    <tr>\n",
       "      <td>9</td>\n",
       "      <td>6.052168</td>\n",
       "      <td>0.410356</td>\n",
       "      <td>0.012425</td>\n",
       "      <td>0.001073</td>\n",
       "      <td>100</td>\n",
       "      <td>2</td>\n",
       "      <td>0.2</td>\n",
       "      <td>{'n_estimators': 100, 'max_depth': 2.0, 'learn...</td>\n",
       "      <td>0.370787</td>\n",
       "      <td>0.363330</td>\n",
       "      <td>...</td>\n",
       "      <td>0.370220</td>\n",
       "      <td>0.005138</td>\n",
       "      <td>9</td>\n",
       "      <td>0.374016</td>\n",
       "      <td>0.394715</td>\n",
       "      <td>0.387124</td>\n",
       "      <td>0.389373</td>\n",
       "      <td>0.383188</td>\n",
       "      <td>0.385683</td>\n",
       "      <td>0.006923</td>\n",
       "    </tr>\n",
       "  </tbody>\n",
       "</table>\n",
       "<p>10 rows × 23 columns</p>\n",
       "</div>"
      ],
      "text/plain": [
       "   mean_fit_time  std_fit_time  mean_score_time  std_score_time  \\\n",
       "0      53.037395      1.511181         0.050050        0.002595   \n",
       "1      74.062502      0.500657         0.065463        0.008370   \n",
       "2      92.593951      0.920912         0.080869        0.005843   \n",
       "3      32.917747      1.252745         0.030434        0.003817   \n",
       "4      12.117188      0.658321         0.016182        0.003931   \n",
       "5     348.230022     19.723819         0.287077        0.026055   \n",
       "6      28.666466      0.881262         0.028719        0.002091   \n",
       "7       5.694836      0.408239         0.010795        0.000325   \n",
       "8      93.830407      4.973141         0.063212        0.004494   \n",
       "9       6.052168      0.410356         0.012425        0.001073   \n",
       "\n",
       "  param_n_estimators param_max_depth param_learning_rate  \\\n",
       "0               1000               2                   1   \n",
       "1                300             9.5                 0.6   \n",
       "2                500               7                 0.8   \n",
       "3                300             4.5                 0.6   \n",
       "4                100             4.5                 0.6   \n",
       "5               1000              12                 0.4   \n",
       "6                500               2                 0.4   \n",
       "7                100               2                   1   \n",
       "8                500               7                 0.2   \n",
       "9                100               2                 0.2   \n",
       "\n",
       "                                              params  split0_test_score  \\\n",
       "0  {'n_estimators': 1000, 'max_depth': 2.0, 'lear...           0.393258   \n",
       "1  {'n_estimators': 300, 'max_depth': 9.5, 'learn...           0.365169   \n",
       "2  {'n_estimators': 500, 'max_depth': 7.0, 'learn...           0.360674   \n",
       "3  {'n_estimators': 300, 'max_depth': 4.5, 'learn...           0.373034   \n",
       "4  {'n_estimators': 100, 'max_depth': 4.5, 'learn...           0.365169   \n",
       "5  {'n_estimators': 1000, 'max_depth': 12.0, 'lea...           0.260674   \n",
       "6  {'n_estimators': 500, 'max_depth': 2.0, 'learn...           0.378652   \n",
       "7  {'n_estimators': 100, 'max_depth': 2.0, 'learn...           0.358427   \n",
       "8  {'n_estimators': 500, 'max_depth': 7.0, 'learn...           0.367416   \n",
       "9  {'n_estimators': 100, 'max_depth': 2.0, 'learn...           0.370787   \n",
       "\n",
       "   split1_test_score  ...  mean_test_score  std_test_score  rank_test_score  \\\n",
       "0           0.375703  ...         0.390913        0.009590                1   \n",
       "1           0.386952  ...         0.379670        0.015146                3   \n",
       "2           0.364454  ...         0.376297        0.014433                5   \n",
       "3           0.375703  ...         0.385068        0.009612                2   \n",
       "4           0.374578  ...         0.376071        0.014141                6   \n",
       "5           0.260967  ...         0.259334        0.002956               10   \n",
       "6           0.368954  ...         0.372693        0.006769                8   \n",
       "7           0.389201  ...         0.374048        0.011305                7   \n",
       "8           0.377953  ...         0.378770        0.011906                4   \n",
       "9           0.363330  ...         0.370220        0.005138                9   \n",
       "\n",
       "   split0_train_score  split1_train_score  split2_train_score  \\\n",
       "0            0.804274            0.482429            0.794771   \n",
       "1            1.000000            1.000000            1.000000   \n",
       "2            1.000000            1.000000            1.000000   \n",
       "3            0.874859            0.875176            0.867023   \n",
       "4            0.604612            0.624965            0.605285   \n",
       "5            1.000000            1.000000            1.000000   \n",
       "6            0.499438            0.533877            0.505201   \n",
       "7            0.437570            0.461344            0.448412   \n",
       "8            1.000000            1.000000            0.999438   \n",
       "9            0.374016            0.394715            0.387124   \n",
       "\n",
       "   split3_train_score  split4_train_score  mean_train_score  std_train_score  \n",
       "0            0.799269            0.789429          0.734035         0.125898  \n",
       "1            1.000000            1.000000          1.000000         0.000000  \n",
       "2            1.000000            1.000000          1.000000         0.000000  \n",
       "3            0.883891            0.865898          0.873369         0.006516  \n",
       "4            0.605285            0.605285          0.609087         0.007943  \n",
       "5            1.000000            1.000000          1.000000         0.000000  \n",
       "6            0.509418            0.506607          0.510908         0.011937  \n",
       "7            0.445600            0.445881          0.447761         0.007707  \n",
       "8            1.000000            1.000000          0.999888         0.000225  \n",
       "9            0.389373            0.383188          0.385683         0.006923  \n",
       "\n",
       "[10 rows x 23 columns]"
      ]
     },
     "execution_count": 99,
     "metadata": {},
     "output_type": "execute_result"
    }
   ],
   "source": [
    "gbm_df"
   ]
  },
  {
   "cell_type": "code",
   "execution_count": 143,
   "metadata": {},
   "outputs": [
    {
     "data": {
      "text/html": [
       "<div>\n",
       "<style scoped>\n",
       "    .dataframe tbody tr th:only-of-type {\n",
       "        vertical-align: middle;\n",
       "    }\n",
       "\n",
       "    .dataframe tbody tr th {\n",
       "        vertical-align: top;\n",
       "    }\n",
       "\n",
       "    .dataframe thead th {\n",
       "        text-align: right;\n",
       "    }\n",
       "</style>\n",
       "<table border=\"1\" class=\"dataframe\">\n",
       "  <thead>\n",
       "    <tr style=\"text-align: right;\">\n",
       "      <th></th>\n",
       "      <th>mean_fit_time</th>\n",
       "      <th>std_fit_time</th>\n",
       "      <th>mean_score_time</th>\n",
       "      <th>std_score_time</th>\n",
       "      <th>param_n_estimators</th>\n",
       "      <th>param_max_depth</th>\n",
       "      <th>param_learning_rate</th>\n",
       "      <th>params</th>\n",
       "      <th>split0_test_score</th>\n",
       "      <th>split1_test_score</th>\n",
       "      <th>...</th>\n",
       "      <th>mean_test_score</th>\n",
       "      <th>std_test_score</th>\n",
       "      <th>rank_test_score</th>\n",
       "      <th>split0_train_score</th>\n",
       "      <th>split1_train_score</th>\n",
       "      <th>split2_train_score</th>\n",
       "      <th>split3_train_score</th>\n",
       "      <th>split4_train_score</th>\n",
       "      <th>mean_train_score</th>\n",
       "      <th>std_train_score</th>\n",
       "    </tr>\n",
       "  </thead>\n",
       "  <tbody>\n",
       "    <tr>\n",
       "      <td>0</td>\n",
       "      <td>53.037395</td>\n",
       "      <td>1.511181</td>\n",
       "      <td>0.050050</td>\n",
       "      <td>0.002595</td>\n",
       "      <td>1000</td>\n",
       "      <td>2</td>\n",
       "      <td>1</td>\n",
       "      <td>{'n_estimators': 1000, 'max_depth': 2.0, 'lear...</td>\n",
       "      <td>0.393258</td>\n",
       "      <td>0.375703</td>\n",
       "      <td>...</td>\n",
       "      <td>0.390913</td>\n",
       "      <td>0.009590</td>\n",
       "      <td>1</td>\n",
       "      <td>0.804274</td>\n",
       "      <td>0.482429</td>\n",
       "      <td>0.794771</td>\n",
       "      <td>0.799269</td>\n",
       "      <td>0.789429</td>\n",
       "      <td>0.734035</td>\n",
       "      <td>0.125898</td>\n",
       "    </tr>\n",
       "    <tr>\n",
       "      <td>3</td>\n",
       "      <td>32.917747</td>\n",
       "      <td>1.252745</td>\n",
       "      <td>0.030434</td>\n",
       "      <td>0.003817</td>\n",
       "      <td>300</td>\n",
       "      <td>4.5</td>\n",
       "      <td>0.6</td>\n",
       "      <td>{'n_estimators': 300, 'max_depth': 4.5, 'learn...</td>\n",
       "      <td>0.373034</td>\n",
       "      <td>0.375703</td>\n",
       "      <td>...</td>\n",
       "      <td>0.385068</td>\n",
       "      <td>0.009612</td>\n",
       "      <td>2</td>\n",
       "      <td>0.874859</td>\n",
       "      <td>0.875176</td>\n",
       "      <td>0.867023</td>\n",
       "      <td>0.883891</td>\n",
       "      <td>0.865898</td>\n",
       "      <td>0.873369</td>\n",
       "      <td>0.006516</td>\n",
       "    </tr>\n",
       "    <tr>\n",
       "      <td>1</td>\n",
       "      <td>74.062502</td>\n",
       "      <td>0.500657</td>\n",
       "      <td>0.065463</td>\n",
       "      <td>0.008370</td>\n",
       "      <td>300</td>\n",
       "      <td>9.5</td>\n",
       "      <td>0.6</td>\n",
       "      <td>{'n_estimators': 300, 'max_depth': 9.5, 'learn...</td>\n",
       "      <td>0.365169</td>\n",
       "      <td>0.386952</td>\n",
       "      <td>...</td>\n",
       "      <td>0.379670</td>\n",
       "      <td>0.015146</td>\n",
       "      <td>3</td>\n",
       "      <td>1.000000</td>\n",
       "      <td>1.000000</td>\n",
       "      <td>1.000000</td>\n",
       "      <td>1.000000</td>\n",
       "      <td>1.000000</td>\n",
       "      <td>1.000000</td>\n",
       "      <td>0.000000</td>\n",
       "    </tr>\n",
       "    <tr>\n",
       "      <td>8</td>\n",
       "      <td>93.830407</td>\n",
       "      <td>4.973141</td>\n",
       "      <td>0.063212</td>\n",
       "      <td>0.004494</td>\n",
       "      <td>500</td>\n",
       "      <td>7</td>\n",
       "      <td>0.2</td>\n",
       "      <td>{'n_estimators': 500, 'max_depth': 7.0, 'learn...</td>\n",
       "      <td>0.367416</td>\n",
       "      <td>0.377953</td>\n",
       "      <td>...</td>\n",
       "      <td>0.378770</td>\n",
       "      <td>0.011906</td>\n",
       "      <td>4</td>\n",
       "      <td>1.000000</td>\n",
       "      <td>1.000000</td>\n",
       "      <td>0.999438</td>\n",
       "      <td>1.000000</td>\n",
       "      <td>1.000000</td>\n",
       "      <td>0.999888</td>\n",
       "      <td>0.000225</td>\n",
       "    </tr>\n",
       "    <tr>\n",
       "      <td>2</td>\n",
       "      <td>92.593951</td>\n",
       "      <td>0.920912</td>\n",
       "      <td>0.080869</td>\n",
       "      <td>0.005843</td>\n",
       "      <td>500</td>\n",
       "      <td>7</td>\n",
       "      <td>0.8</td>\n",
       "      <td>{'n_estimators': 500, 'max_depth': 7.0, 'learn...</td>\n",
       "      <td>0.360674</td>\n",
       "      <td>0.364454</td>\n",
       "      <td>...</td>\n",
       "      <td>0.376297</td>\n",
       "      <td>0.014433</td>\n",
       "      <td>5</td>\n",
       "      <td>1.000000</td>\n",
       "      <td>1.000000</td>\n",
       "      <td>1.000000</td>\n",
       "      <td>1.000000</td>\n",
       "      <td>1.000000</td>\n",
       "      <td>1.000000</td>\n",
       "      <td>0.000000</td>\n",
       "    </tr>\n",
       "    <tr>\n",
       "      <td>4</td>\n",
       "      <td>12.117188</td>\n",
       "      <td>0.658321</td>\n",
       "      <td>0.016182</td>\n",
       "      <td>0.003931</td>\n",
       "      <td>100</td>\n",
       "      <td>4.5</td>\n",
       "      <td>0.6</td>\n",
       "      <td>{'n_estimators': 100, 'max_depth': 4.5, 'learn...</td>\n",
       "      <td>0.365169</td>\n",
       "      <td>0.374578</td>\n",
       "      <td>...</td>\n",
       "      <td>0.376071</td>\n",
       "      <td>0.014141</td>\n",
       "      <td>6</td>\n",
       "      <td>0.604612</td>\n",
       "      <td>0.624965</td>\n",
       "      <td>0.605285</td>\n",
       "      <td>0.605285</td>\n",
       "      <td>0.605285</td>\n",
       "      <td>0.609087</td>\n",
       "      <td>0.007943</td>\n",
       "    </tr>\n",
       "    <tr>\n",
       "      <td>7</td>\n",
       "      <td>5.694836</td>\n",
       "      <td>0.408239</td>\n",
       "      <td>0.010795</td>\n",
       "      <td>0.000325</td>\n",
       "      <td>100</td>\n",
       "      <td>2</td>\n",
       "      <td>1</td>\n",
       "      <td>{'n_estimators': 100, 'max_depth': 2.0, 'learn...</td>\n",
       "      <td>0.358427</td>\n",
       "      <td>0.389201</td>\n",
       "      <td>...</td>\n",
       "      <td>0.374048</td>\n",
       "      <td>0.011305</td>\n",
       "      <td>7</td>\n",
       "      <td>0.437570</td>\n",
       "      <td>0.461344</td>\n",
       "      <td>0.448412</td>\n",
       "      <td>0.445600</td>\n",
       "      <td>0.445881</td>\n",
       "      <td>0.447761</td>\n",
       "      <td>0.007707</td>\n",
       "    </tr>\n",
       "    <tr>\n",
       "      <td>6</td>\n",
       "      <td>28.666466</td>\n",
       "      <td>0.881262</td>\n",
       "      <td>0.028719</td>\n",
       "      <td>0.002091</td>\n",
       "      <td>500</td>\n",
       "      <td>2</td>\n",
       "      <td>0.4</td>\n",
       "      <td>{'n_estimators': 500, 'max_depth': 2.0, 'learn...</td>\n",
       "      <td>0.378652</td>\n",
       "      <td>0.368954</td>\n",
       "      <td>...</td>\n",
       "      <td>0.372693</td>\n",
       "      <td>0.006769</td>\n",
       "      <td>8</td>\n",
       "      <td>0.499438</td>\n",
       "      <td>0.533877</td>\n",
       "      <td>0.505201</td>\n",
       "      <td>0.509418</td>\n",
       "      <td>0.506607</td>\n",
       "      <td>0.510908</td>\n",
       "      <td>0.011937</td>\n",
       "    </tr>\n",
       "    <tr>\n",
       "      <td>9</td>\n",
       "      <td>6.052168</td>\n",
       "      <td>0.410356</td>\n",
       "      <td>0.012425</td>\n",
       "      <td>0.001073</td>\n",
       "      <td>100</td>\n",
       "      <td>2</td>\n",
       "      <td>0.2</td>\n",
       "      <td>{'n_estimators': 100, 'max_depth': 2.0, 'learn...</td>\n",
       "      <td>0.370787</td>\n",
       "      <td>0.363330</td>\n",
       "      <td>...</td>\n",
       "      <td>0.370220</td>\n",
       "      <td>0.005138</td>\n",
       "      <td>9</td>\n",
       "      <td>0.374016</td>\n",
       "      <td>0.394715</td>\n",
       "      <td>0.387124</td>\n",
       "      <td>0.389373</td>\n",
       "      <td>0.383188</td>\n",
       "      <td>0.385683</td>\n",
       "      <td>0.006923</td>\n",
       "    </tr>\n",
       "    <tr>\n",
       "      <td>5</td>\n",
       "      <td>348.230022</td>\n",
       "      <td>19.723819</td>\n",
       "      <td>0.287077</td>\n",
       "      <td>0.026055</td>\n",
       "      <td>1000</td>\n",
       "      <td>12</td>\n",
       "      <td>0.4</td>\n",
       "      <td>{'n_estimators': 1000, 'max_depth': 12.0, 'lea...</td>\n",
       "      <td>0.260674</td>\n",
       "      <td>0.260967</td>\n",
       "      <td>...</td>\n",
       "      <td>0.259334</td>\n",
       "      <td>0.002956</td>\n",
       "      <td>10</td>\n",
       "      <td>1.000000</td>\n",
       "      <td>1.000000</td>\n",
       "      <td>1.000000</td>\n",
       "      <td>1.000000</td>\n",
       "      <td>1.000000</td>\n",
       "      <td>1.000000</td>\n",
       "      <td>0.000000</td>\n",
       "    </tr>\n",
       "  </tbody>\n",
       "</table>\n",
       "<p>10 rows × 23 columns</p>\n",
       "</div>"
      ],
      "text/plain": [
       "   mean_fit_time  std_fit_time  mean_score_time  std_score_time  \\\n",
       "0      53.037395      1.511181         0.050050        0.002595   \n",
       "3      32.917747      1.252745         0.030434        0.003817   \n",
       "1      74.062502      0.500657         0.065463        0.008370   \n",
       "8      93.830407      4.973141         0.063212        0.004494   \n",
       "2      92.593951      0.920912         0.080869        0.005843   \n",
       "4      12.117188      0.658321         0.016182        0.003931   \n",
       "7       5.694836      0.408239         0.010795        0.000325   \n",
       "6      28.666466      0.881262         0.028719        0.002091   \n",
       "9       6.052168      0.410356         0.012425        0.001073   \n",
       "5     348.230022     19.723819         0.287077        0.026055   \n",
       "\n",
       "  param_n_estimators param_max_depth param_learning_rate  \\\n",
       "0               1000               2                   1   \n",
       "3                300             4.5                 0.6   \n",
       "1                300             9.5                 0.6   \n",
       "8                500               7                 0.2   \n",
       "2                500               7                 0.8   \n",
       "4                100             4.5                 0.6   \n",
       "7                100               2                   1   \n",
       "6                500               2                 0.4   \n",
       "9                100               2                 0.2   \n",
       "5               1000              12                 0.4   \n",
       "\n",
       "                                              params  split0_test_score  \\\n",
       "0  {'n_estimators': 1000, 'max_depth': 2.0, 'lear...           0.393258   \n",
       "3  {'n_estimators': 300, 'max_depth': 4.5, 'learn...           0.373034   \n",
       "1  {'n_estimators': 300, 'max_depth': 9.5, 'learn...           0.365169   \n",
       "8  {'n_estimators': 500, 'max_depth': 7.0, 'learn...           0.367416   \n",
       "2  {'n_estimators': 500, 'max_depth': 7.0, 'learn...           0.360674   \n",
       "4  {'n_estimators': 100, 'max_depth': 4.5, 'learn...           0.365169   \n",
       "7  {'n_estimators': 100, 'max_depth': 2.0, 'learn...           0.358427   \n",
       "6  {'n_estimators': 500, 'max_depth': 2.0, 'learn...           0.378652   \n",
       "9  {'n_estimators': 100, 'max_depth': 2.0, 'learn...           0.370787   \n",
       "5  {'n_estimators': 1000, 'max_depth': 12.0, 'lea...           0.260674   \n",
       "\n",
       "   split1_test_score  ...  mean_test_score  std_test_score  rank_test_score  \\\n",
       "0           0.375703  ...         0.390913        0.009590                1   \n",
       "3           0.375703  ...         0.385068        0.009612                2   \n",
       "1           0.386952  ...         0.379670        0.015146                3   \n",
       "8           0.377953  ...         0.378770        0.011906                4   \n",
       "2           0.364454  ...         0.376297        0.014433                5   \n",
       "4           0.374578  ...         0.376071        0.014141                6   \n",
       "7           0.389201  ...         0.374048        0.011305                7   \n",
       "6           0.368954  ...         0.372693        0.006769                8   \n",
       "9           0.363330  ...         0.370220        0.005138                9   \n",
       "5           0.260967  ...         0.259334        0.002956               10   \n",
       "\n",
       "   split0_train_score  split1_train_score  split2_train_score  \\\n",
       "0            0.804274            0.482429            0.794771   \n",
       "3            0.874859            0.875176            0.867023   \n",
       "1            1.000000            1.000000            1.000000   \n",
       "8            1.000000            1.000000            0.999438   \n",
       "2            1.000000            1.000000            1.000000   \n",
       "4            0.604612            0.624965            0.605285   \n",
       "7            0.437570            0.461344            0.448412   \n",
       "6            0.499438            0.533877            0.505201   \n",
       "9            0.374016            0.394715            0.387124   \n",
       "5            1.000000            1.000000            1.000000   \n",
       "\n",
       "   split3_train_score  split4_train_score  mean_train_score  std_train_score  \n",
       "0            0.799269            0.789429          0.734035         0.125898  \n",
       "3            0.883891            0.865898          0.873369         0.006516  \n",
       "1            1.000000            1.000000          1.000000         0.000000  \n",
       "8            1.000000            1.000000          0.999888         0.000225  \n",
       "2            1.000000            1.000000          1.000000         0.000000  \n",
       "4            0.605285            0.605285          0.609087         0.007943  \n",
       "7            0.445600            0.445881          0.447761         0.007707  \n",
       "6            0.509418            0.506607          0.510908         0.011937  \n",
       "9            0.389373            0.383188          0.385683         0.006923  \n",
       "5            1.000000            1.000000          1.000000         0.000000  \n",
       "\n",
       "[10 rows x 23 columns]"
      ]
     },
     "execution_count": 143,
     "metadata": {},
     "output_type": "execute_result"
    }
   ],
   "source": [
    "results = gbm_df.sort_values(by='mean_test_score', ascending=False)\n",
    "results"
   ]
  },
  {
   "cell_type": "code",
   "execution_count": 107,
   "metadata": {},
   "outputs": [
    {
     "data": {
      "text/plain": [
       "0.7701010101010101"
      ]
     },
     "execution_count": 107,
     "metadata": {},
     "output_type": "execute_result"
    }
   ],
   "source": [
    "clf_tuned = GradientBoostingClassifier(n_estimators=1000, learning_rate=1, max_depth=3, random_state=46).fit(X_train,y_train)\n",
    "clf_tuned.score(X_test, y_test)"
   ]
  },
  {
   "cell_type": "code",
   "execution_count": 112,
   "metadata": {},
   "outputs": [],
   "source": [
    "y_true = y_test\n",
    "y_pred = clf_tuned.predict(X_test)"
   ]
  },
  {
   "cell_type": "code",
   "execution_count": 113,
   "metadata": {},
   "outputs": [
    {
     "data": {
      "text/plain": [
       "0.47668112798264645"
      ]
     },
     "execution_count": 113,
     "metadata": {},
     "output_type": "execute_result"
    }
   ],
   "source": [
    "precision_score(y_true, y_pred)"
   ]
  },
  {
   "cell_type": "code",
   "execution_count": 114,
   "metadata": {},
   "outputs": [
    {
     "data": {
      "text/plain": [
       "0.40136986301369865"
      ]
     },
     "execution_count": 114,
     "metadata": {},
     "output_type": "execute_result"
    }
   ],
   "source": [
    "recall_score(y_true, y_pred)"
   ]
  },
  {
   "cell_type": "code",
   "execution_count": 120,
   "metadata": {},
   "outputs": [],
   "source": [
    "y_scores = clf_tuned.predict_proba(X_test)[:, 1]"
   ]
  },
  {
   "cell_type": "code",
   "execution_count": 121,
   "metadata": {},
   "outputs": [
    {
     "data": {
      "text/plain": [
       "array([9.97763256e-01, 9.35114510e-02, 2.18372484e-03, ...,\n",
       "       6.65174810e-02, 1.15206282e-01, 9.80237476e-04])"
      ]
     },
     "execution_count": 121,
     "metadata": {},
     "output_type": "execute_result"
    }
   ],
   "source": [
    "y_scores"
   ]
  },
  {
   "cell_type": "code",
   "execution_count": 122,
   "metadata": {},
   "outputs": [],
   "source": [
    "p, r, thresholds = precision_recall_curve(y_test, y_scores)"
   ]
  },
  {
   "cell_type": "code",
   "execution_count": 126,
   "metadata": {},
   "outputs": [],
   "source": [
    "def adjusted_classes(y_scores, t):\n",
    "    return [1 if y >= t else 0 for y in y_scores]"
   ]
  },
  {
   "cell_type": "code",
   "execution_count": 135,
   "metadata": {},
   "outputs": [],
   "source": [
    "def precision_recall_threshold(p, r, thresholds, t=0.5):\n",
    "    \"\"\"\n",
    "    plots the precision recall curve and shows the current value for each\n",
    "    by identifying the classifier's threshold (t).\n",
    "    \"\"\"\n",
    "    \n",
    "    # generate new class predictions based on the adjusted_classes\n",
    "    # function above and view the resulting confusion matrix.\n",
    "    y_pred_adj = adjusted_classes(y_scores, t)\n",
    "    print(pd.DataFrame(confusion_matrix(y_test, y_pred_adj),\n",
    "                       columns=['pred_neg', 'pred_pos'], \n",
    "                       index=['neg', 'pos']))\n",
    "    \n",
    "    # plot the curve\n",
    "    plt.figure(figsize=(8,8))\n",
    "    plt.title(\"Precision and Recall curve ^ = current threshold\")\n",
    "    plt.step(r, p, color='b', alpha=0.2,\n",
    "             where='post')\n",
    "    plt.fill_between(r, p, step='post', alpha=0.2,\n",
    "                     color='b')\n",
    "    plt.ylim([0.5, 1.01]);\n",
    "    plt.xlim([0.5, 1.01]);\n",
    "    plt.xlabel('Recall');\n",
    "    plt.ylabel('Precision');\n",
    "    \n",
    "    # plot the current threshold on the line\n",
    "    close_default_clf = np.argmin(np.abs(thresholds - t))\n",
    "    plt.plot(r[close_default_clf], p[close_default_clf], '^', c='k',\n",
    "            markersize=15)\n",
    "    plt.show()"
   ]
  },
  {
   "cell_type": "code",
   "execution_count": 144,
   "metadata": {},
   "outputs": [
    {
     "name": "stdout",
     "output_type": "stream",
     "text": [
      "     pred_neg  pred_pos\n",
      "neg      6259      1451\n",
      "pos      1119      1071\n"
     ]
    },
    {
     "data": {
      "image/png": "[encoded data removed]",
      "text/plain": [
       "<Figure size 576x576 with 1 Axes>"
      ]
     },
     "metadata": {},
     "output_type": "display_data"
    }
   ],
   "source": [
    "precision_recall_threshold(p, r, thresholds, t=0.25)"
   ]
  },
  {
   "cell_type": "code",
   "execution_count": 138,
   "metadata": {},
   "outputs": [],
   "source": [
    "def plot_precision_recall_vs_threshold(precisions, recalls, thresholds):\n",
    "    \"\"\"\n",
    "    Modified from:\n",
    "    Hands-On Machine learning with Scikit-Learn\n",
    "    and TensorFlow; p.89\n",
    "    \"\"\"\n",
    "    plt.figure(figsize=(8, 8))\n",
    "    plt.title(\"Precision and Recall Scores as a function of the decision threshold\")\n",
    "    plt.plot(thresholds, precisions[:-1], \"b--\", label=\"Precision\")\n",
    "    plt.plot(thresholds, recalls[:-1], \"g-\", label=\"Recall\")\n",
    "    plt.ylabel(\"Score\")\n",
    "    plt.xlabel(\"Decision Threshold\")\n",
    "    plt.legend(loc='best')"
   ]
  },
  {
   "cell_type": "code",
   "execution_count": 139,
   "metadata": {},
   "outputs": [
    {
     "data": {
      "image/png": "[encoded data removed]",
      "text/plain": [
       "<Figure size 576x576 with 1 Axes>"
      ]
     },
     "metadata": {},
     "output_type": "display_data"
    }
   ],
   "source": [
    "plot_precision_recall_vs_threshold(p,r,thresholds)"
   ]
  },
  {
   "cell_type": "code",
   "execution_count": 140,
   "metadata": {},
   "outputs": [],
   "source": [
    "def plot_roc_curve(fpr, tpr, label=None):\n",
    "    \"\"\"\n",
    "    The ROC curve, modified from \n",
    "    Hands-On Machine learning with Scikit-Learn and TensorFlow; p.91\n",
    "    \"\"\"\n",
    "    plt.figure(figsize=(8,8))\n",
    "    plt.title('ROC Curve')\n",
    "    plt.plot(fpr, tpr, linewidth=2, label=label)\n",
    "    plt.plot([0, 1], [0, 1], 'k--')\n",
    "    plt.axis([-0.005, 1, 0, 1.005])\n",
    "    plt.xticks(np.arange(0,1, 0.05), rotation=90)\n",
    "    plt.xlabel(\"False Positive Rate\")\n",
    "    plt.ylabel(\"True Positive Rate (Recall)\")\n",
    "    plt.legend(loc='best')"
   ]
  },
  {
   "cell_type": "code",
   "execution_count": 141,
   "metadata": {},
   "outputs": [
    {
     "name": "stdout",
     "output_type": "stream",
     "text": [
      "0.7082579405267428\n"
     ]
    },
    {
     "data": {
      "image/png": "[encoded data removed]",
      "text/plain": [
       "<Figure size 576x576 with 1 Axes>"
      ]
     },
     "metadata": {},
     "output_type": "display_data"
    }
   ],
   "source": [
    "fpr, tpr, auc_thresholds = roc_curve(y_test, y_scores)\n",
    "print(auc(fpr, tpr)) # AUC of ROC\n",
    "plot_roc_curve(fpr, tpr, 'recall_optimized')"
   ]
  },
  {
   "cell_type": "code",
   "execution_count": 145,
   "metadata": {},
   "outputs": [
    {
     "data": {
      "text/plain": [
       "array([ 6.10049487, -2.2714945 , -6.12453711, ..., -2.64145745,\n",
       "       -2.03863026, -6.92673498])"
      ]
     },
     "execution_count": 145,
     "metadata": {},
     "output_type": "execute_result"
    }
   ],
   "source": [
    "clf_tuned.decision_function(X_test)"
   ]
  },
  {
   "cell_type": "code",
   "execution_count": null,
   "metadata": {},
   "outputs": [],
   "source": []
  }
 ],
 "metadata": {
  "kernelspec": {
   "display_name": "Python 3",
   "language": "python",
   "name": "python3"
  },
  "language_info": {
   "codemirror_mode": {
    "name": "ipython",
    "version": 3
   },
   "file_extension": ".py",
   "mimetype": "text/x-python",
   "name": "python",
   "nbconvert_exporter": "python",
   "pygments_lexer": "ipython3",
   "version": "3.7.4"
  }
 },
 "nbformat": 4,
 "nbformat_minor": 4
}
