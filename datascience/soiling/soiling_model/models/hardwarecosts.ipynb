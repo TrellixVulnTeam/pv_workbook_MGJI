{
 "cells": [
  {
   "cell_type": "code",
   "execution_count": 15,
   "metadata": {
    "ExecuteTime": {
     "end_time": "2020-04-14T22:11:44.619659Z",
     "start_time": "2020-04-14T22:11:41.581486Z"
    }
   },
   "outputs": [],
   "source": [
    "import os\n",
    "import scipy\n",
    "import pandas as pd\n",
    "pd.options.display.max_rows = 10\n",
    "pd.options.display.float_format = '${:,.2f}'.format\n",
    "import numpy as np\n",
    "import requests\n",
    "import statsmodels.api as sm\n",
    "import seaborn as sns\n",
    "import matplotlib.pyplot as plt\n",
    "from bs4 import BeautifulSoup\n",
    "import pickle\n",
    "plt.style.use('seaborn')\n",
    "%matplotlib inline"
   ]
  },
  {
   "cell_type": "code",
   "execution_count": 16,
   "metadata": {
    "ExecuteTime": {
     "end_time": "2020-04-14T22:11:44.630249Z",
     "start_time": "2020-04-14T22:11:44.623094Z"
    }
   },
   "outputs": [],
   "source": [
    "def scrape_data(url):\n",
    "    try:\n",
    "        response = requests.get(url)\n",
    "        page = response.text\n",
    "        soup = BeautifulSoup(page, \"html5lib\")\n",
    "        return soup\n",
    "    except:\n",
    "        print(\"Data is unavailable.\")"
   ]
  },
  {
   "cell_type": "code",
   "execution_count": 17,
   "metadata": {
    "ExecuteTime": {
     "end_time": "2020-04-14T22:11:45.127104Z",
     "start_time": "2020-04-14T22:11:44.635506Z"
    }
   },
   "outputs": [],
   "source": [
    "soup = scrape_data('https://www.wholesalesolar.com/list-grid-tie-packages')"
   ]
  },
  {
   "cell_type": "code",
   "execution_count": 18,
   "metadata": {
    "ExecuteTime": {
     "end_time": "2020-04-14T22:11:45.508452Z",
     "start_time": "2020-04-14T22:11:45.484703Z"
    }
   },
   "outputs": [],
   "source": [
    "components = [element.text for element in soup.find_all('td')]"
   ]
  },
  {
   "cell_type": "code",
   "execution_count": 19,
   "metadata": {
    "ExecuteTime": {
     "end_time": "2020-04-14T22:11:45.520623Z",
     "start_time": "2020-04-14T22:11:45.512191Z"
    }
   },
   "outputs": [],
   "source": [
    "n = 9\n",
    "packages = [components[i * n:(i + 1) * n] for i in range((len(components) + n - 1) // n )]"
   ]
  },
  {
   "cell_type": "code",
   "execution_count": 20,
   "metadata": {
    "ExecuteTime": {
     "end_time": "2020-04-14T22:11:45.537384Z",
     "start_time": "2020-04-14T22:11:45.524776Z"
    }
   },
   "outputs": [],
   "source": [
    "columns = ['System','SKU','Array Size','Monthly Output','Modules','Inverter','Price','MOD OEM',' INV OEM']\n",
    "df = pd.DataFrame(packages,columns=columns)"
   ]
  },
  {
   "cell_type": "code",
   "execution_count": 21,
   "metadata": {
    "ExecuteTime": {
     "end_time": "2020-04-14T22:16:40.092506Z",
     "start_time": "2020-04-14T22:16:40.043719Z"
    }
   },
   "outputs": [
    {
     "data": {
      "text/html": [
       "<div>\n",
       "<style scoped>\n",
       "    .dataframe tbody tr th:only-of-type {\n",
       "        vertical-align: middle;\n",
       "    }\n",
       "\n",
       "    .dataframe tbody tr th {\n",
       "        vertical-align: top;\n",
       "    }\n",
       "\n",
       "    .dataframe thead th {\n",
       "        text-align: right;\n",
       "    }\n",
       "</style>\n",
       "<table border=\"1\" class=\"dataframe\">\n",
       "  <thead>\n",
       "    <tr style=\"text-align: right;\">\n",
       "      <th></th>\n",
       "      <th>System</th>\n",
       "      <th>SKU</th>\n",
       "      <th>Array Size</th>\n",
       "      <th>Monthly Output</th>\n",
       "      <th>Modules</th>\n",
       "      <th>Inverter</th>\n",
       "      <th>Price</th>\n",
       "      <th>MOD OEM</th>\n",
       "      <th>INV OEM</th>\n",
       "    </tr>\n",
       "  </thead>\n",
       "  <tbody>\n",
       "    <tr>\n",
       "      <td>0</td>\n",
       "      <td>2.07 kW Grid Tied Solar System with Enphase IQ...</td>\n",
       "      <td>1895203</td>\n",
       "      <td>2.1 kW</td>\n",
       "      <td>310.5 kWh</td>\n",
       "      <td>6 Astronergy Solar CHSM6612P/HV-345 Silver Pol...</td>\n",
       "      <td>6 Enphase IQ7+ Micro Inverters</td>\n",
       "      <td>$3,664.00</td>\n",
       "      <td>astronergy-solar</td>\n",
       "      <td>enphase</td>\n",
       "    </tr>\n",
       "    <tr>\n",
       "      <td>1</td>\n",
       "      <td>Solar Sky 2.07 kW Grid Tied Solar System with ...</td>\n",
       "      <td>1892025</td>\n",
       "      <td>2.1 kW</td>\n",
       "      <td>310.5 kWh</td>\n",
       "      <td>6 Astronergy Solar CHSM6612P/HV-345 Silver Pol...</td>\n",
       "      <td>1 SMA Sunny Boy 3.8-US-41 Inverter</td>\n",
       "      <td>$3,907.00</td>\n",
       "      <td>astronergy-solar</td>\n",
       "      <td>sma</td>\n",
       "    </tr>\n",
       "    <tr>\n",
       "      <td>2</td>\n",
       "      <td>2.19 kW Grid Tied Solar System with Enphase IQ...</td>\n",
       "      <td>1895403</td>\n",
       "      <td>2.2 kW</td>\n",
       "      <td>328.5 kWh</td>\n",
       "      <td>6 Heliene 365 Black Mono Panels</td>\n",
       "      <td>6 Enphase IQ7A Micro Inverters</td>\n",
       "      <td>$4,138.00</td>\n",
       "      <td>heliene</td>\n",
       "      <td>enphase</td>\n",
       "    </tr>\n",
       "    <tr>\n",
       "      <td>3</td>\n",
       "      <td>SMA 2.16 kW Grid Tied Solar System with SMA In...</td>\n",
       "      <td>1892123</td>\n",
       "      <td>2.2 kW</td>\n",
       "      <td>324.0 kWh</td>\n",
       "      <td>6 REC 360 Black Mono Panels</td>\n",
       "      <td>1 SMA Sunny Boy 3.8-US-41 Inverter</td>\n",
       "      <td>$4,549.00</td>\n",
       "      <td>rec</td>\n",
       "      <td>sma</td>\n",
       "    </tr>\n",
       "    <tr>\n",
       "      <td>4</td>\n",
       "      <td>2.56 kW Grid Tied Solar System with SolarEdge ...</td>\n",
       "      <td>1890502</td>\n",
       "      <td>2.6 kW</td>\n",
       "      <td>384.0 kWh</td>\n",
       "      <td>8 Astronergy Solar CHSM60M-HC-320 Silver Mono ...</td>\n",
       "      <td>1 SolarEdge SE3800H HD-Wave SetApp Enabled Inv...</td>\n",
       "      <td>$4,667.50</td>\n",
       "      <td>astronergy-solar</td>\n",
       "      <td>solaredge</td>\n",
       "    </tr>\n",
       "    <tr>\n",
       "      <td>5</td>\n",
       "      <td>2.76 kW Grid Tied Solar System with SolarEdge ...</td>\n",
       "      <td>1890902</td>\n",
       "      <td>2.8 kW</td>\n",
       "      <td>414.0 kWh</td>\n",
       "      <td>8 Astronergy Solar CHSM6612P/HV-345 Silver Pol...</td>\n",
       "      <td>1 SolarEdge SE3800H HD-Wave SetApp Enabled Inv...</td>\n",
       "      <td>$4,987.50</td>\n",
       "      <td>astronergy-solar</td>\n",
       "      <td>solaredge</td>\n",
       "    </tr>\n",
       "    <tr>\n",
       "      <td>6</td>\n",
       "      <td>3.2 kW Grid Tied Solar System with Enphase IQ7...</td>\n",
       "      <td>1894210</td>\n",
       "      <td>3.2 kW</td>\n",
       "      <td>480.0 kWh</td>\n",
       "      <td>10 Astronergy Solar CHSM60M-HC-320 Silver Mono...</td>\n",
       "      <td>10 Enphase IQ7+ Micro Inverters</td>\n",
       "      <td>$5,169.95</td>\n",
       "      <td>astronergy-solar</td>\n",
       "      <td>enphase</td>\n",
       "    </tr>\n",
       "    <tr>\n",
       "      <td>7</td>\n",
       "      <td>2.92 kW Grid Tied Solar System with SolarEdge ...</td>\n",
       "      <td>1892565</td>\n",
       "      <td>2.9 kW</td>\n",
       "      <td>438.0 kWh</td>\n",
       "      <td>8 Heliene 365 Black Mono Panels</td>\n",
       "      <td>1 SolarEdge SE3800H HD-Wave SetApp Enabled Inv...</td>\n",
       "      <td>$5,364.00</td>\n",
       "      <td>heliene</td>\n",
       "      <td>solaredge</td>\n",
       "    </tr>\n",
       "    <tr>\n",
       "      <td>8</td>\n",
       "      <td>3.2 kW Grid Tied Solar System with SolarEdge a...</td>\n",
       "      <td>1890500</td>\n",
       "      <td>3.2 kW</td>\n",
       "      <td>480.0 kWh</td>\n",
       "      <td>10 Astronergy Solar CHSM60M-HC-320 Silver Mono...</td>\n",
       "      <td>1 SolarEdge SE3800H HD-Wave SetApp Enabled Inv...</td>\n",
       "      <td>$5,366.50</td>\n",
       "      <td>astronergy-solar</td>\n",
       "      <td>solaredge</td>\n",
       "    </tr>\n",
       "    <tr>\n",
       "      <td>9</td>\n",
       "      <td>Solar Sky 3.84 kW Grid Tied Solar System with ...</td>\n",
       "      <td>1890400</td>\n",
       "      <td>3.8 kW</td>\n",
       "      <td>576.0 kWh</td>\n",
       "      <td>12 Astronergy Solar CHSM60M-HC-320 Silver Mono...</td>\n",
       "      <td>1 SMA Sunny Boy 5.0-US Inverter</td>\n",
       "      <td>$5,501.00</td>\n",
       "      <td>astronergy-solar</td>\n",
       "      <td>sma</td>\n",
       "    </tr>\n",
       "  </tbody>\n",
       "</table>\n",
       "</div>"
      ],
      "text/plain": [
       "                                              System      SKU Array Size  \\\n",
       "0  2.07 kW Grid Tied Solar System with Enphase IQ...  1895203     2.1 kW   \n",
       "1  Solar Sky 2.07 kW Grid Tied Solar System with ...  1892025     2.1 kW   \n",
       "2  2.19 kW Grid Tied Solar System with Enphase IQ...  1895403     2.2 kW   \n",
       "3  SMA 2.16 kW Grid Tied Solar System with SMA In...  1892123     2.2 kW   \n",
       "4  2.56 kW Grid Tied Solar System with SolarEdge ...  1890502     2.6 kW   \n",
       "5  2.76 kW Grid Tied Solar System with SolarEdge ...  1890902     2.8 kW   \n",
       "6  3.2 kW Grid Tied Solar System with Enphase IQ7...  1894210     3.2 kW   \n",
       "7  2.92 kW Grid Tied Solar System with SolarEdge ...  1892565     2.9 kW   \n",
       "8  3.2 kW Grid Tied Solar System with SolarEdge a...  1890500     3.2 kW   \n",
       "9  Solar Sky 3.84 kW Grid Tied Solar System with ...  1890400     3.8 kW   \n",
       "\n",
       "  Monthly Output                                            Modules  \\\n",
       "0      310.5 kWh  6 Astronergy Solar CHSM6612P/HV-345 Silver Pol...   \n",
       "1      310.5 kWh  6 Astronergy Solar CHSM6612P/HV-345 Silver Pol...   \n",
       "2      328.5 kWh                    6 Heliene 365 Black Mono Panels   \n",
       "3      324.0 kWh                        6 REC 360 Black Mono Panels   \n",
       "4      384.0 kWh  8 Astronergy Solar CHSM60M-HC-320 Silver Mono ...   \n",
       "5      414.0 kWh  8 Astronergy Solar CHSM6612P/HV-345 Silver Pol...   \n",
       "6      480.0 kWh  10 Astronergy Solar CHSM60M-HC-320 Silver Mono...   \n",
       "7      438.0 kWh                    8 Heliene 365 Black Mono Panels   \n",
       "8      480.0 kWh  10 Astronergy Solar CHSM60M-HC-320 Silver Mono...   \n",
       "9      576.0 kWh  12 Astronergy Solar CHSM60M-HC-320 Silver Mono...   \n",
       "\n",
       "                                            Inverter      Price  \\\n",
       "0                     6 Enphase IQ7+ Micro Inverters  $3,664.00   \n",
       "1                 1 SMA Sunny Boy 3.8-US-41 Inverter  $3,907.00   \n",
       "2                     6 Enphase IQ7A Micro Inverters  $4,138.00   \n",
       "3                 1 SMA Sunny Boy 3.8-US-41 Inverter  $4,549.00   \n",
       "4  1 SolarEdge SE3800H HD-Wave SetApp Enabled Inv...  $4,667.50   \n",
       "5  1 SolarEdge SE3800H HD-Wave SetApp Enabled Inv...  $4,987.50   \n",
       "6                    10 Enphase IQ7+ Micro Inverters  $5,169.95   \n",
       "7  1 SolarEdge SE3800H HD-Wave SetApp Enabled Inv...  $5,364.00   \n",
       "8  1 SolarEdge SE3800H HD-Wave SetApp Enabled Inv...  $5,366.50   \n",
       "9                    1 SMA Sunny Boy 5.0-US Inverter  $5,501.00   \n",
       "\n",
       "            MOD OEM    INV OEM  \n",
       "0  astronergy-solar    enphase  \n",
       "1  astronergy-solar        sma  \n",
       "2           heliene    enphase  \n",
       "3               rec        sma  \n",
       "4  astronergy-solar  solaredge  \n",
       "5  astronergy-solar  solaredge  \n",
       "6  astronergy-solar    enphase  \n",
       "7           heliene  solaredge  \n",
       "8  astronergy-solar  solaredge  \n",
       "9  astronergy-solar        sma  "
      ]
     },
     "execution_count": 21,
     "metadata": {},
     "output_type": "execute_result"
    }
   ],
   "source": [
    "df.head(10)"
   ]
  },
  {
   "cell_type": "code",
   "execution_count": 22,
   "metadata": {
    "ExecuteTime": {
     "end_time": "2020-04-14T22:19:13.825183Z",
     "start_time": "2020-04-14T22:19:13.809616Z"
    }
   },
   "outputs": [
    {
     "data": {
      "text/plain": [
       "System            object\n",
       "SKU               object\n",
       "Array Size        object\n",
       "Monthly Output    object\n",
       "Modules           object\n",
       "Inverter          object\n",
       "Price             object\n",
       "MOD OEM           object\n",
       " INV OEM          object\n",
       "dtype: object"
      ]
     },
     "execution_count": 22,
     "metadata": {},
     "output_type": "execute_result"
    }
   ],
   "source": [
    "df.dtypes"
   ]
  },
  {
   "cell_type": "code",
   "execution_count": 23,
   "metadata": {
    "ExecuteTime": {
     "end_time": "2020-04-14T22:11:45.550789Z",
     "start_time": "2020-04-14T22:11:45.542741Z"
    }
   },
   "outputs": [],
   "source": [
    "df['Price'] = df['Price'].str.replace('$','').str.split().apply(lambda x: float(x[0].replace(',', '')))"
   ]
  },
  {
   "cell_type": "code",
   "execution_count": 24,
   "metadata": {
    "ExecuteTime": {
     "end_time": "2020-04-14T22:11:45.565525Z",
     "start_time": "2020-04-14T22:11:45.555827Z"
    }
   },
   "outputs": [],
   "source": [
    "df['Monthly Output'] = df['Monthly Output'].astype('str').str.replace('kWh','')"
   ]
  },
  {
   "cell_type": "code",
   "execution_count": 25,
   "metadata": {
    "ExecuteTime": {
     "end_time": "2020-04-14T22:11:45.583027Z",
     "start_time": "2020-04-14T22:11:45.574058Z"
    }
   },
   "outputs": [],
   "source": [
    "df['Monthly Output'] = pd.to_numeric(df['Monthly Output'], errors='ignore')"
   ]
  },
  {
   "cell_type": "code",
   "execution_count": 26,
   "metadata": {
    "ExecuteTime": {
     "end_time": "2020-04-14T22:11:45.879955Z",
     "start_time": "2020-04-14T22:11:45.592322Z"
    }
   },
   "outputs": [
    {
     "data": {
      "text/plain": [
       "Text(0, 0.5, 'Price')"
      ]
     },
     "execution_count": 26,
     "metadata": {},
     "output_type": "execute_result"
    },
    {
     "data": {
      "image/png": "[encoded data removed]",
      "text/plain": [
       "<Figure size 432x288 with 1 Axes>"
      ]
     },
     "metadata": {
      "needs_background": "light"
     },
     "output_type": "display_data"
    }
   ],
   "source": [
    "x = df['Monthly Output']\n",
    "y = df['Price']\n",
    "sns.scatterplot(x,y)\n",
    "plt.xlabel(\"Monthly Output Capacity\")\n",
    "plt.ylabel(\"Price\")"
   ]
  },
  {
   "cell_type": "code",
   "execution_count": 27,
   "metadata": {
    "ExecuteTime": {
     "end_time": "2020-04-14T22:11:45.898806Z",
     "start_time": "2020-04-14T22:11:45.882841Z"
    }
   },
   "outputs": [
    {
     "data": {
      "text/plain": [
       "0      astronergy-solar\n",
       "1      astronergy-solar\n",
       "2               heliene\n",
       "3                   rec\n",
       "4      astronergy-solar\n",
       "             ...       \n",
       "133             heliene\n",
       "134                 rec\n",
       "135    astronergy-solar\n",
       "136                 rec\n",
       "137             heliene\n",
       "Name: MOD OEM, Length: 138, dtype: category\n",
       "Categories (3, object): [astronergy-solar, heliene, rec]"
      ]
     },
     "execution_count": 27,
     "metadata": {},
     "output_type": "execute_result"
    }
   ],
   "source": [
    "df['MOD OEM'].astype('category')"
   ]
  },
  {
   "cell_type": "code",
   "execution_count": 28,
   "metadata": {
    "ExecuteTime": {
     "end_time": "2020-04-14T22:11:45.915111Z",
     "start_time": "2020-04-14T22:11:45.900772Z"
    }
   },
   "outputs": [
    {
     "data": {
      "text/html": [
       "<div>\n",
       "<style scoped>\n",
       "    .dataframe tbody tr th:only-of-type {\n",
       "        vertical-align: middle;\n",
       "    }\n",
       "\n",
       "    .dataframe tbody tr th {\n",
       "        vertical-align: top;\n",
       "    }\n",
       "\n",
       "    .dataframe thead th {\n",
       "        text-align: right;\n",
       "    }\n",
       "</style>\n",
       "<table border=\"1\" class=\"dataframe\">\n",
       "  <thead>\n",
       "    <tr style=\"text-align: right;\">\n",
       "      <th></th>\n",
       "      <th>Monthly Output</th>\n",
       "      <th>Price</th>\n",
       "    </tr>\n",
       "  </thead>\n",
       "  <tbody>\n",
       "    <tr>\n",
       "      <td>Monthly Output</td>\n",
       "      <td>$1.00</td>\n",
       "      <td>$0.87</td>\n",
       "    </tr>\n",
       "    <tr>\n",
       "      <td>Price</td>\n",
       "      <td>$0.87</td>\n",
       "      <td>$1.00</td>\n",
       "    </tr>\n",
       "  </tbody>\n",
       "</table>\n",
       "</div>"
      ],
      "text/plain": [
       "                Monthly Output  Price\n",
       "Monthly Output           $1.00  $0.87\n",
       "Price                    $0.87  $1.00"
      ]
     },
     "execution_count": 28,
     "metadata": {},
     "output_type": "execute_result"
    }
   ],
   "source": [
    "df.corr(method='pearson')"
   ]
  },
  {
   "cell_type": "code",
   "execution_count": 29,
   "metadata": {
    "ExecuteTime": {
     "end_time": "2020-04-14T22:11:45.925256Z",
     "start_time": "2020-04-14T22:11:45.918186Z"
    }
   },
   "outputs": [],
   "source": [
    "def get_module_quantity(modules):\n",
    "    modules.split()\n",
    "    value = modules[0]\n",
    "    return int(value)"
   ]
  },
  {
   "cell_type": "code",
   "execution_count": 30,
   "metadata": {
    "ExecuteTime": {
     "end_time": "2020-04-14T22:11:45.943038Z",
     "start_time": "2020-04-14T22:11:45.936235Z"
    }
   },
   "outputs": [],
   "source": [
    "df['Module Qty'] = df['Modules'].apply(get_module_quantity)"
   ]
  },
  {
   "cell_type": "code",
   "execution_count": 31,
   "metadata": {
    "ExecuteTime": {
     "end_time": "2020-04-14T22:11:45.952595Z",
     "start_time": "2020-04-14T22:11:45.945110Z"
    }
   },
   "outputs": [],
   "source": [
    "df = df.rename(columns=lambda x: x.strip())"
   ]
  },
  {
   "cell_type": "code",
   "execution_count": 32,
   "metadata": {
    "ExecuteTime": {
     "end_time": "2020-04-14T22:11:45.964690Z",
     "start_time": "2020-04-14T22:11:45.954483Z"
    }
   },
   "outputs": [],
   "source": [
    "df['INV OEM'] = df['INV OEM'].apply(lambda x: 'fronius' if x == '' else x)"
   ]
  },
  {
   "cell_type": "code",
   "execution_count": 33,
   "metadata": {
    "ExecuteTime": {
     "end_time": "2020-04-14T22:11:45.984605Z",
     "start_time": "2020-04-14T22:11:45.968189Z"
    }
   },
   "outputs": [
    {
     "data": {
      "text/plain": [
       "0              enphase\n",
       "1                  sma\n",
       "2              enphase\n",
       "3                  sma\n",
       "4            solaredge\n",
       "            ...       \n",
       "133            enphase\n",
       "134          solaredge\n",
       "135    four-star-solar\n",
       "136            enphase\n",
       "137            fronius\n",
       "Name: INV OEM, Length: 138, dtype: category\n",
       "Categories (5, object): [enphase, four-star-solar, fronius, sma, solaredge]"
      ]
     },
     "execution_count": 33,
     "metadata": {},
     "output_type": "execute_result"
    }
   ],
   "source": [
    "df['INV OEM'].astype('category')"
   ]
  },
  {
   "cell_type": "code",
   "execution_count": 34,
   "metadata": {
    "ExecuteTime": {
     "end_time": "2020-04-14T22:11:46.013605Z",
     "start_time": "2020-04-14T22:11:45.986712Z"
    }
   },
   "outputs": [
    {
     "data": {
      "text/plain": [
       "0      astronergy-solar\n",
       "1      astronergy-solar\n",
       "2               heliene\n",
       "3                   rec\n",
       "4      astronergy-solar\n",
       "             ...       \n",
       "133             heliene\n",
       "134                 rec\n",
       "135    astronergy-solar\n",
       "136                 rec\n",
       "137             heliene\n",
       "Name: MOD OEM, Length: 138, dtype: category\n",
       "Categories (3, object): [astronergy-solar, heliene, rec]"
      ]
     },
     "execution_count": 34,
     "metadata": {},
     "output_type": "execute_result"
    }
   ],
   "source": [
    "df['MOD OEM'].astype('category')"
   ]
  },
  {
   "cell_type": "code",
   "execution_count": 35,
   "metadata": {
    "ExecuteTime": {
     "end_time": "2020-04-14T22:11:46.189382Z",
     "start_time": "2020-04-14T22:11:46.020847Z"
    }
   },
   "outputs": [
    {
     "data": {
      "text/plain": [
       "<matplotlib.axes._subplots.AxesSubplot at 0x1c194891d0>"
      ]
     },
     "execution_count": 35,
     "metadata": {},
     "output_type": "execute_result"
    },
    {
     "data": {
      "image/png": "[encoded data removed]",
      "text/plain": [
       "<Figure size 432x288 with 1 Axes>"
      ]
     },
     "metadata": {
      "needs_background": "light"
     },
     "output_type": "display_data"
    }
   ],
   "source": [
    "sns.boxplot(x='MOD OEM',y='Price',data=df)"
   ]
  },
  {
   "cell_type": "code",
   "execution_count": 36,
   "metadata": {
    "ExecuteTime": {
     "end_time": "2020-04-14T22:11:46.402816Z",
     "start_time": "2020-04-14T22:11:46.192037Z"
    }
   },
   "outputs": [
    {
     "data": {
      "text/plain": [
       "<matplotlib.axes._subplots.AxesSubplot at 0x1c1950be90>"
      ]
     },
     "execution_count": 36,
     "metadata": {},
     "output_type": "execute_result"
    },
    {
     "data": {
      "image/png": "[encoded data removed]",
      "text/plain": [
       "<Figure size 432x288 with 1 Axes>"
      ]
     },
     "metadata": {
      "needs_background": "light"
     },
     "output_type": "display_data"
    }
   ],
   "source": [
    "sns.boxplot(x='INV OEM',y='Price',data=df)"
   ]
  },
  {
   "cell_type": "code",
   "execution_count": 37,
   "metadata": {
    "ExecuteTime": {
     "end_time": "2020-04-14T22:11:46.433881Z",
     "start_time": "2020-04-14T22:11:46.405432Z"
    }
   },
   "outputs": [
    {
     "data": {
      "text/plain": [
       "INV OEM          MOD OEM         \n",
       "enphase          astronergy-solar    26\n",
       "                 heliene             14\n",
       "                 rec                  9\n",
       "four-star-solar  astronergy-solar     1\n",
       "fronius          astronergy-solar     4\n",
       "                                     ..\n",
       "sma              heliene              7\n",
       "                 rec                  6\n",
       "solaredge        astronergy-solar    28\n",
       "                 heliene              7\n",
       "                 rec                 12\n",
       "Length: 12, dtype: int64"
      ]
     },
     "execution_count": 37,
     "metadata": {},
     "output_type": "execute_result"
    }
   ],
   "source": [
    "df.groupby(['INV OEM','MOD OEM']).size()"
   ]
  },
  {
   "cell_type": "code",
   "execution_count": 38,
   "metadata": {
    "ExecuteTime": {
     "end_time": "2020-04-14T22:11:46.458454Z",
     "start_time": "2020-04-14T22:11:46.435546Z"
    }
   },
   "outputs": [
    {
     "data": {
      "text/plain": [
       "<bound method Series.dropna of 0              enphase\n",
       "1                  sma\n",
       "2              enphase\n",
       "3                  sma\n",
       "4            solaredge\n",
       "            ...       \n",
       "133            enphase\n",
       "134          solaredge\n",
       "135    four-star-solar\n",
       "136            enphase\n",
       "137            fronius\n",
       "Name: INV OEM, Length: 138, dtype: object>"
      ]
     },
     "execution_count": 38,
     "metadata": {},
     "output_type": "execute_result"
    }
   ],
   "source": [
    "df['INV OEM'].dropna"
   ]
  },
  {
   "cell_type": "code",
   "execution_count": 39,
   "metadata": {
    "ExecuteTime": {
     "end_time": "2020-04-14T22:11:47.170320Z",
     "start_time": "2020-04-14T22:11:46.462154Z"
    }
   },
   "outputs": [
    {
     "data": {
      "image/png": "[encoded data removed]",
      "text/plain": [
       "<Figure size 531.25x432 with 1 Axes>"
      ]
     },
     "metadata": {
      "needs_background": "light"
     },
     "output_type": "display_data"
    }
   ],
   "source": [
    "sns.relplot(x=\"Monthly Output\", y=\"Price\", hue=\"INV OEM\", alpha=.5, palette=\"muted\", \n",
    "            height=6, data=df)\n",
    "plt.savefig('invoem.png')\n",
    "plt.show()"
   ]
  },
  {
   "cell_type": "code",
   "execution_count": 40,
   "metadata": {
    "ExecuteTime": {
     "end_time": "2020-04-14T22:11:47.225335Z",
     "start_time": "2020-04-14T22:11:47.174924Z"
    }
   },
   "outputs": [
    {
     "data": {
      "text/html": [
       "<table class=\"simpletable\">\n",
       "<caption>OLS Regression Results</caption>\n",
       "<tr>\n",
       "  <th>Dep. Variable:</th>          <td>Price</td>      <th>  R-squared (uncentered):</th>      <td>   0.926</td>\n",
       "</tr>\n",
       "<tr>\n",
       "  <th>Model:</th>                   <td>OLS</td>       <th>  Adj. R-squared (uncentered):</th> <td>   0.926</td>\n",
       "</tr>\n",
       "<tr>\n",
       "  <th>Method:</th>             <td>Least Squares</td>  <th>  F-statistic:       </th>          <td>   1716.</td>\n",
       "</tr>\n",
       "<tr>\n",
       "  <th>Date:</th>             <td>Fri, 19 Jun 2020</td> <th>  Prob (F-statistic):</th>          <td>2.35e-79</td>\n",
       "</tr>\n",
       "<tr>\n",
       "  <th>Time:</th>                 <td>14:33:48</td>     <th>  Log-Likelihood:    </th>          <td> -1385.4</td>\n",
       "</tr>\n",
       "<tr>\n",
       "  <th>No. Observations:</th>      <td>   138</td>      <th>  AIC:               </th>          <td>   2773.</td>\n",
       "</tr>\n",
       "<tr>\n",
       "  <th>Df Residuals:</th>          <td>   137</td>      <th>  BIC:               </th>          <td>   2776.</td>\n",
       "</tr>\n",
       "<tr>\n",
       "  <th>Df Model:</th>              <td>     1</td>      <th>                     </th>              <td> </td>   \n",
       "</tr>\n",
       "<tr>\n",
       "  <th>Covariance Type:</th>      <td>nonrobust</td>    <th>                     </th>              <td> </td>   \n",
       "</tr>\n",
       "</table>\n",
       "<table class=\"simpletable\">\n",
       "<tr>\n",
       "         <td></td>           <th>coef</th>     <th>std err</th>      <th>t</th>      <th>P>|t|</th>  <th>[0.025</th>    <th>0.975]</th>  \n",
       "</tr>\n",
       "<tr>\n",
       "  <th>Monthly Output</th> <td>   10.5632</td> <td>    0.255</td> <td>   41.420</td> <td> 0.000</td> <td>   10.059</td> <td>   11.067</td>\n",
       "</tr>\n",
       "</table>\n",
       "<table class=\"simpletable\">\n",
       "<tr>\n",
       "  <th>Omnibus:</th>       <td>107.723</td> <th>  Durbin-Watson:     </th> <td>   1.449</td> \n",
       "</tr>\n",
       "<tr>\n",
       "  <th>Prob(Omnibus):</th> <td> 0.000</td>  <th>  Jarque-Bera (JB):  </th> <td> 764.630</td> \n",
       "</tr>\n",
       "<tr>\n",
       "  <th>Skew:</th>          <td> 2.888</td>  <th>  Prob(JB):          </th> <td>9.18e-167</td>\n",
       "</tr>\n",
       "<tr>\n",
       "  <th>Kurtosis:</th>      <td>12.981</td>  <th>  Cond. No.          </th> <td>    1.00</td> \n",
       "</tr>\n",
       "</table><br/><br/>Warnings:<br/>[1] Standard Errors assume that the covariance matrix of the errors is correctly specified."
      ],
      "text/plain": [
       "<class 'statsmodels.iolib.summary.Summary'>\n",
       "\"\"\"\n",
       "                                 OLS Regression Results                                \n",
       "=======================================================================================\n",
       "Dep. Variable:                  Price   R-squared (uncentered):                   0.926\n",
       "Model:                            OLS   Adj. R-squared (uncentered):              0.926\n",
       "Method:                 Least Squares   F-statistic:                              1716.\n",
       "Date:                Fri, 19 Jun 2020   Prob (F-statistic):                    2.35e-79\n",
       "Time:                        14:33:48   Log-Likelihood:                         -1385.4\n",
       "No. Observations:                 138   AIC:                                      2773.\n",
       "Df Residuals:                     137   BIC:                                      2776.\n",
       "Df Model:                           1                                                  \n",
       "Covariance Type:            nonrobust                                                  \n",
       "==================================================================================\n",
       "                     coef    std err          t      P>|t|      [0.025      0.975]\n",
       "----------------------------------------------------------------------------------\n",
       "Monthly Output    10.5632      0.255     41.420      0.000      10.059      11.067\n",
       "==============================================================================\n",
       "Omnibus:                      107.723   Durbin-Watson:                   1.449\n",
       "Prob(Omnibus):                  0.000   Jarque-Bera (JB):              764.630\n",
       "Skew:                           2.888   Prob(JB):                    9.18e-167\n",
       "Kurtosis:                      12.981   Cond. No.                         1.00\n",
       "==============================================================================\n",
       "\n",
       "Warnings:\n",
       "[1] Standard Errors assume that the covariance matrix of the errors is correctly specified.\n",
       "\"\"\""
      ]
     },
     "execution_count": 40,
     "metadata": {},
     "output_type": "execute_result"
    }
   ],
   "source": [
    "Y = df['Price']\n",
    "X = df['Monthly Output']\n",
    "model = sm.OLS(Y,X)\n",
    "results = model.fit()\n",
    "results.summary()"
   ]
  },
  {
   "cell_type": "code",
   "execution_count": 27,
   "metadata": {
    "ExecuteTime": {
     "end_time": "2020-04-14T22:11:47.241401Z",
     "start_time": "2020-04-14T22:11:47.232970Z"
    }
   },
   "outputs": [],
   "source": [
    "def array_size(rating):\n",
    "    rating.split()\n",
    "    value = rating[0]\n",
    "    return int(value)"
   ]
  },
  {
   "cell_type": "code",
   "execution_count": 28,
   "metadata": {
    "ExecuteTime": {
     "end_time": "2020-04-14T22:11:47.253096Z",
     "start_time": "2020-04-14T22:11:47.247490Z"
    }
   },
   "outputs": [],
   "source": [
    "df['Array Size'] = df['Array Size'].apply(array_size)"
   ]
  },
  {
   "cell_type": "code",
   "execution_count": 29,
   "metadata": {
    "ExecuteTime": {
     "end_time": "2020-04-14T22:11:47.289879Z",
     "start_time": "2020-04-14T22:11:47.255066Z"
    }
   },
   "outputs": [
    {
     "data": {
      "text/html": [
       "<div>\n",
       "<style scoped>\n",
       "    .dataframe tbody tr th:only-of-type {\n",
       "        vertical-align: middle;\n",
       "    }\n",
       "\n",
       "    .dataframe tbody tr th {\n",
       "        vertical-align: top;\n",
       "    }\n",
       "\n",
       "    .dataframe thead th {\n",
       "        text-align: right;\n",
       "    }\n",
       "</style>\n",
       "<table border=\"1\" class=\"dataframe\">\n",
       "  <thead>\n",
       "    <tr style=\"text-align: right;\">\n",
       "      <th></th>\n",
       "      <th>System</th>\n",
       "      <th>SKU</th>\n",
       "      <th>Array Size</th>\n",
       "      <th>Monthly Output</th>\n",
       "      <th>Modules</th>\n",
       "      <th>Inverter</th>\n",
       "      <th>Price</th>\n",
       "      <th>MOD OEM</th>\n",
       "      <th>INV OEM</th>\n",
       "      <th>Module Qty</th>\n",
       "    </tr>\n",
       "  </thead>\n",
       "  <tbody>\n",
       "    <tr>\n",
       "      <th>0</th>\n",
       "      <td>1.8 kW Grid Tied Solar System with Enphase IQ7...</td>\n",
       "      <td>1895201</td>\n",
       "      <td>1</td>\n",
       "      <td>$270.00</td>\n",
       "      <td>6 Heliene 300 Black Mono Panels</td>\n",
       "      <td>6 Enphase IQ7+ Micro Inverters</td>\n",
       "      <td>$3,645.95</td>\n",
       "      <td>heliene</td>\n",
       "      <td>enphase</td>\n",
       "      <td>6</td>\n",
       "    </tr>\n",
       "    <tr>\n",
       "      <th>1</th>\n",
       "      <td>2.07 kW Grid Tied Solar System with Enphase IQ...</td>\n",
       "      <td>1895203</td>\n",
       "      <td>2</td>\n",
       "      <td>$310.50</td>\n",
       "      <td>6 Astronergy Solar CHSM6612P/HV-345 Silver Pol...</td>\n",
       "      <td>6 Enphase IQ7+ Micro Inverters</td>\n",
       "      <td>$3,664.00</td>\n",
       "      <td>astronergy-solar</td>\n",
       "      <td>enphase</td>\n",
       "      <td>6</td>\n",
       "    </tr>\n",
       "    <tr>\n",
       "      <th>2</th>\n",
       "      <td>Solar Sky 2.07 kW Grid Tied Solar System with ...</td>\n",
       "      <td>1892025</td>\n",
       "      <td>2</td>\n",
       "      <td>$310.50</td>\n",
       "      <td>6 Astronergy Solar CHSM6612P/HV-345 Silver Pol...</td>\n",
       "      <td>1 SMA Sunny Boy 3.8-US Inverter</td>\n",
       "      <td>$3,807.00</td>\n",
       "      <td>astronergy-solar</td>\n",
       "      <td>sma</td>\n",
       "      <td>6</td>\n",
       "    </tr>\n",
       "    <tr>\n",
       "      <th>3</th>\n",
       "      <td>SMA 2.4 kW Grid Tied Solar System with SMA Inv...</td>\n",
       "      <td>1892399</td>\n",
       "      <td>2</td>\n",
       "      <td>$360.00</td>\n",
       "      <td>8 Heliene 300 Black Mono Panels</td>\n",
       "      <td>1 SMA Sunny Boy 3.8-US Inverter</td>\n",
       "      <td>$4,273.00</td>\n",
       "      <td>heliene</td>\n",
       "      <td>sma</td>\n",
       "      <td>8</td>\n",
       "    </tr>\n",
       "    <tr>\n",
       "      <th>4</th>\n",
       "      <td>SMA 2.13 kW Grid Tied Solar System with SMA In...</td>\n",
       "      <td>1892123</td>\n",
       "      <td>2</td>\n",
       "      <td>$319.50</td>\n",
       "      <td>6 REC 355 Black Mono Panels</td>\n",
       "      <td>1 SMA Sunny Boy 3.8-US Inverter</td>\n",
       "      <td>$4,449.00</td>\n",
       "      <td>rec</td>\n",
       "      <td>sma</td>\n",
       "      <td>6</td>\n",
       "    </tr>\n",
       "  </tbody>\n",
       "</table>\n",
       "</div>"
      ],
      "text/plain": [
       "                                              System      SKU  Array Size  \\\n",
       "0  1.8 kW Grid Tied Solar System with Enphase IQ7...  1895201           1   \n",
       "1  2.07 kW Grid Tied Solar System with Enphase IQ...  1895203           2   \n",
       "2  Solar Sky 2.07 kW Grid Tied Solar System with ...  1892025           2   \n",
       "3  SMA 2.4 kW Grid Tied Solar System with SMA Inv...  1892399           2   \n",
       "4  SMA 2.13 kW Grid Tied Solar System with SMA In...  1892123           2   \n",
       "\n",
       "   Monthly Output                                            Modules  \\\n",
       "0         $270.00                    6 Heliene 300 Black Mono Panels   \n",
       "1         $310.50  6 Astronergy Solar CHSM6612P/HV-345 Silver Pol...   \n",
       "2         $310.50  6 Astronergy Solar CHSM6612P/HV-345 Silver Pol...   \n",
       "3         $360.00                    8 Heliene 300 Black Mono Panels   \n",
       "4         $319.50                        6 REC 355 Black Mono Panels   \n",
       "\n",
       "                          Inverter     Price           MOD OEM  INV OEM  \\\n",
       "0   6 Enphase IQ7+ Micro Inverters $3,645.95           heliene  enphase   \n",
       "1   6 Enphase IQ7+ Micro Inverters $3,664.00  astronergy-solar  enphase   \n",
       "2  1 SMA Sunny Boy 3.8-US Inverter $3,807.00  astronergy-solar      sma   \n",
       "3  1 SMA Sunny Boy 3.8-US Inverter $4,273.00           heliene      sma   \n",
       "4  1 SMA Sunny Boy 3.8-US Inverter $4,449.00               rec      sma   \n",
       "\n",
       "   Module Qty  \n",
       "0           6  \n",
       "1           6  \n",
       "2           6  \n",
       "3           8  \n",
       "4           6  "
      ]
     },
     "execution_count": 29,
     "metadata": {},
     "output_type": "execute_result"
    }
   ],
   "source": [
    "df.head()"
   ]
  },
  {
   "cell_type": "code",
   "execution_count": 36,
   "metadata": {
    "ExecuteTime": {
     "end_time": "2020-04-14T22:12:29.102894Z",
     "start_time": "2020-04-14T22:12:29.083479Z"
    }
   },
   "outputs": [
    {
     "data": {
      "text/plain": [
       "System            object\n",
       "SKU               object\n",
       "Array Size        object\n",
       "Monthly Output    object\n",
       "Modules           object\n",
       "Inverter          object\n",
       "Price             object\n",
       "MOD OEM           object\n",
       "INV OEM           object\n",
       "Module Qty        object\n",
       "dtype: object"
      ]
     },
     "execution_count": 36,
     "metadata": {},
     "output_type": "execute_result"
    }
   ],
   "source": [
    "df.dtypes"
   ]
  },
  {
   "cell_type": "code",
   "execution_count": 32,
   "metadata": {
    "ExecuteTime": {
     "end_time": "2020-04-14T22:11:47.377785Z",
     "start_time": "2020-04-14T22:11:47.347005Z"
    }
   },
   "outputs": [],
   "source": [
    "df['Monthly Output'] = df['Monthly Output'].astype('str').str.strip('$')\n",
    "df['Price'] = df['Price'].astype('str').str.strip('$')\n",
    "df['Module Qty'] = df['Module Qty'].astype('str').str.strip('$')\n",
    "df['Array Size'] = df['Array Size'].astype('str').str.strip('$')"
   ]
  },
  {
   "cell_type": "code",
   "execution_count": 33,
   "metadata": {
    "ExecuteTime": {
     "end_time": "2020-04-14T22:11:47.402782Z",
     "start_time": "2020-04-14T22:11:47.387361Z"
    }
   },
   "outputs": [
    {
     "data": {
      "text/plain": [
       "0       270.0\n",
       "1       310.5\n",
       "2       310.5\n",
       "3       360.0\n",
       "4       319.5\n",
       "        ...  \n",
       "115    4140.0\n",
       "116    4140.0\n",
       "117    4260.0\n",
       "118    4260.0\n",
       "119    2025.0\n",
       "Name: Monthly Output, Length: 120, dtype: object"
      ]
     },
     "execution_count": 33,
     "metadata": {},
     "output_type": "execute_result"
    }
   ],
   "source": [
    "df['Monthly Output']"
   ]
  },
  {
   "cell_type": "code",
   "execution_count": 34,
   "metadata": {
    "ExecuteTime": {
     "end_time": "2020-04-14T22:11:47.447861Z",
     "start_time": "2020-04-14T22:11:47.409248Z"
    }
   },
   "outputs": [
    {
     "data": {
      "text/html": [
       "<div>\n",
       "<style scoped>\n",
       "    .dataframe tbody tr th:only-of-type {\n",
       "        vertical-align: middle;\n",
       "    }\n",
       "\n",
       "    .dataframe tbody tr th {\n",
       "        vertical-align: top;\n",
       "    }\n",
       "\n",
       "    .dataframe thead th {\n",
       "        text-align: right;\n",
       "    }\n",
       "</style>\n",
       "<table border=\"1\" class=\"dataframe\">\n",
       "  <thead>\n",
       "    <tr style=\"text-align: right;\">\n",
       "      <th></th>\n",
       "      <th>System</th>\n",
       "      <th>SKU</th>\n",
       "      <th>Array Size</th>\n",
       "      <th>Monthly Output</th>\n",
       "      <th>Modules</th>\n",
       "      <th>Inverter</th>\n",
       "      <th>Price</th>\n",
       "      <th>MOD OEM</th>\n",
       "      <th>INV OEM</th>\n",
       "      <th>Module Qty</th>\n",
       "    </tr>\n",
       "  </thead>\n",
       "  <tbody>\n",
       "    <tr>\n",
       "      <th>0</th>\n",
       "      <td>1.8 kW Grid Tied Solar System with Enphase IQ7...</td>\n",
       "      <td>1895201</td>\n",
       "      <td>1</td>\n",
       "      <td>270.0</td>\n",
       "      <td>6 Heliene 300 Black Mono Panels</td>\n",
       "      <td>6 Enphase IQ7+ Micro Inverters</td>\n",
       "      <td>3645.95</td>\n",
       "      <td>heliene</td>\n",
       "      <td>enphase</td>\n",
       "      <td>6</td>\n",
       "    </tr>\n",
       "    <tr>\n",
       "      <th>1</th>\n",
       "      <td>2.07 kW Grid Tied Solar System with Enphase IQ...</td>\n",
       "      <td>1895203</td>\n",
       "      <td>2</td>\n",
       "      <td>310.5</td>\n",
       "      <td>6 Astronergy Solar CHSM6612P/HV-345 Silver Pol...</td>\n",
       "      <td>6 Enphase IQ7+ Micro Inverters</td>\n",
       "      <td>3664.0</td>\n",
       "      <td>astronergy-solar</td>\n",
       "      <td>enphase</td>\n",
       "      <td>6</td>\n",
       "    </tr>\n",
       "    <tr>\n",
       "      <th>2</th>\n",
       "      <td>Solar Sky 2.07 kW Grid Tied Solar System with ...</td>\n",
       "      <td>1892025</td>\n",
       "      <td>2</td>\n",
       "      <td>310.5</td>\n",
       "      <td>6 Astronergy Solar CHSM6612P/HV-345 Silver Pol...</td>\n",
       "      <td>1 SMA Sunny Boy 3.8-US Inverter</td>\n",
       "      <td>3807.0</td>\n",
       "      <td>astronergy-solar</td>\n",
       "      <td>sma</td>\n",
       "      <td>6</td>\n",
       "    </tr>\n",
       "    <tr>\n",
       "      <th>3</th>\n",
       "      <td>SMA 2.4 kW Grid Tied Solar System with SMA Inv...</td>\n",
       "      <td>1892399</td>\n",
       "      <td>2</td>\n",
       "      <td>360.0</td>\n",
       "      <td>8 Heliene 300 Black Mono Panels</td>\n",
       "      <td>1 SMA Sunny Boy 3.8-US Inverter</td>\n",
       "      <td>4273.0</td>\n",
       "      <td>heliene</td>\n",
       "      <td>sma</td>\n",
       "      <td>8</td>\n",
       "    </tr>\n",
       "    <tr>\n",
       "      <th>4</th>\n",
       "      <td>SMA 2.13 kW Grid Tied Solar System with SMA In...</td>\n",
       "      <td>1892123</td>\n",
       "      <td>2</td>\n",
       "      <td>319.5</td>\n",
       "      <td>6 REC 355 Black Mono Panels</td>\n",
       "      <td>1 SMA Sunny Boy 3.8-US Inverter</td>\n",
       "      <td>4449.0</td>\n",
       "      <td>rec</td>\n",
       "      <td>sma</td>\n",
       "      <td>6</td>\n",
       "    </tr>\n",
       "    <tr>\n",
       "      <th>...</th>\n",
       "      <td>...</td>\n",
       "      <td>...</td>\n",
       "      <td>...</td>\n",
       "      <td>...</td>\n",
       "      <td>...</td>\n",
       "      <td>...</td>\n",
       "      <td>...</td>\n",
       "      <td>...</td>\n",
       "      <td>...</td>\n",
       "      <td>...</td>\n",
       "    </tr>\n",
       "    <tr>\n",
       "      <th>115</th>\n",
       "      <td>27.6 kW Grid Tied Solar System with SolarEdge ...</td>\n",
       "      <td>1890941</td>\n",
       "      <td>2</td>\n",
       "      <td>4140.0</td>\n",
       "      <td>80 Astronergy Solar CHSM6612P/HV-345 Silver Po...</td>\n",
       "      <td>2 SolarEdge SE11400H HD Wave SetApp Enabled In...</td>\n",
       "      <td>38145.0</td>\n",
       "      <td>astronergy-solar</td>\n",
       "      <td>solaredge</td>\n",
       "      <td>8</td>\n",
       "    </tr>\n",
       "    <tr>\n",
       "      <th>116</th>\n",
       "      <td>27.6 kW Grid Tied Solar System with Enphase IQ...</td>\n",
       "      <td>1894379</td>\n",
       "      <td>2</td>\n",
       "      <td>4140.0</td>\n",
       "      <td>80 Astronergy Solar CHSM6612P/HV-345 Silver Po...</td>\n",
       "      <td>80 Enphase IQ7+ Micro Inverters</td>\n",
       "      <td>39003.0</td>\n",
       "      <td>astronergy-solar</td>\n",
       "      <td>enphase</td>\n",
       "      <td>8</td>\n",
       "    </tr>\n",
       "    <tr>\n",
       "      <th>117</th>\n",
       "      <td>28.4 kW Grid Tied Solar System with SolarEdge ...</td>\n",
       "      <td>1891611</td>\n",
       "      <td>2</td>\n",
       "      <td>4260.0</td>\n",
       "      <td>80 REC 355 Black Mono Panels</td>\n",
       "      <td>3 SolarEdge SE10000H HD-Wave SetApp Enabled In...</td>\n",
       "      <td>48852.0</td>\n",
       "      <td>rec</td>\n",
       "      <td>solaredge</td>\n",
       "      <td>8</td>\n",
       "    </tr>\n",
       "    <tr>\n",
       "      <th>118</th>\n",
       "      <td>28.4 kW Grid Tied Solar System with Enphase IQ...</td>\n",
       "      <td>1895480</td>\n",
       "      <td>2</td>\n",
       "      <td>4260.0</td>\n",
       "      <td>80 REC 355 Black Mono Panels</td>\n",
       "      <td>80 Enphase IQ7A Micro Inverters</td>\n",
       "      <td>50560.0</td>\n",
       "      <td>rec</td>\n",
       "      <td>enphase</td>\n",
       "      <td>8</td>\n",
       "    </tr>\n",
       "    <tr>\n",
       "      <th>119</th>\n",
       "      <td>13.5 kW Gridtied Battery Backup Solar System w...</td>\n",
       "      <td>1891021</td>\n",
       "      <td>1</td>\n",
       "      <td>2025.0</td>\n",
       "      <td>45 Heliene 300 Black Mono Panels</td>\n",
       "      <td></td>\n",
       "      <td>50870.0</td>\n",
       "      <td>heliene</td>\n",
       "      <td>fronius</td>\n",
       "      <td>4</td>\n",
       "    </tr>\n",
       "  </tbody>\n",
       "</table>\n",
       "<p>120 rows × 10 columns</p>\n",
       "</div>"
      ],
      "text/plain": [
       "                                                System      SKU Array Size  \\\n",
       "0    1.8 kW Grid Tied Solar System with Enphase IQ7...  1895201          1   \n",
       "1    2.07 kW Grid Tied Solar System with Enphase IQ...  1895203          2   \n",
       "2    Solar Sky 2.07 kW Grid Tied Solar System with ...  1892025          2   \n",
       "3    SMA 2.4 kW Grid Tied Solar System with SMA Inv...  1892399          2   \n",
       "4    SMA 2.13 kW Grid Tied Solar System with SMA In...  1892123          2   \n",
       "..                                                 ...      ...        ...   \n",
       "115  27.6 kW Grid Tied Solar System with SolarEdge ...  1890941          2   \n",
       "116  27.6 kW Grid Tied Solar System with Enphase IQ...  1894379          2   \n",
       "117  28.4 kW Grid Tied Solar System with SolarEdge ...  1891611          2   \n",
       "118  28.4 kW Grid Tied Solar System with Enphase IQ...  1895480          2   \n",
       "119  13.5 kW Gridtied Battery Backup Solar System w...  1891021          1   \n",
       "\n",
       "    Monthly Output                                            Modules  \\\n",
       "0            270.0                    6 Heliene 300 Black Mono Panels   \n",
       "1            310.5  6 Astronergy Solar CHSM6612P/HV-345 Silver Pol...   \n",
       "2            310.5  6 Astronergy Solar CHSM6612P/HV-345 Silver Pol...   \n",
       "3            360.0                    8 Heliene 300 Black Mono Panels   \n",
       "4            319.5                        6 REC 355 Black Mono Panels   \n",
       "..             ...                                                ...   \n",
       "115         4140.0  80 Astronergy Solar CHSM6612P/HV-345 Silver Po...   \n",
       "116         4140.0  80 Astronergy Solar CHSM6612P/HV-345 Silver Po...   \n",
       "117         4260.0                       80 REC 355 Black Mono Panels   \n",
       "118         4260.0                       80 REC 355 Black Mono Panels   \n",
       "119         2025.0                   45 Heliene 300 Black Mono Panels   \n",
       "\n",
       "                                              Inverter    Price  \\\n",
       "0                       6 Enphase IQ7+ Micro Inverters  3645.95   \n",
       "1                       6 Enphase IQ7+ Micro Inverters   3664.0   \n",
       "2                      1 SMA Sunny Boy 3.8-US Inverter   3807.0   \n",
       "3                      1 SMA Sunny Boy 3.8-US Inverter   4273.0   \n",
       "4                      1 SMA Sunny Boy 3.8-US Inverter   4449.0   \n",
       "..                                                 ...      ...   \n",
       "115  2 SolarEdge SE11400H HD Wave SetApp Enabled In...  38145.0   \n",
       "116                    80 Enphase IQ7+ Micro Inverters  39003.0   \n",
       "117  3 SolarEdge SE10000H HD-Wave SetApp Enabled In...  48852.0   \n",
       "118                    80 Enphase IQ7A Micro Inverters  50560.0   \n",
       "119                                                     50870.0   \n",
       "\n",
       "              MOD OEM    INV OEM Module Qty  \n",
       "0             heliene    enphase          6  \n",
       "1    astronergy-solar    enphase          6  \n",
       "2    astronergy-solar        sma          6  \n",
       "3             heliene        sma          8  \n",
       "4                 rec        sma          6  \n",
       "..                ...        ...        ...  \n",
       "115  astronergy-solar  solaredge          8  \n",
       "116  astronergy-solar    enphase          8  \n",
       "117               rec  solaredge          8  \n",
       "118               rec    enphase          8  \n",
       "119           heliene    fronius          4  \n",
       "\n",
       "[120 rows x 10 columns]"
      ]
     },
     "execution_count": 34,
     "metadata": {},
     "output_type": "execute_result"
    }
   ],
   "source": [
    "df"
   ]
  },
  {
   "cell_type": "code",
   "execution_count": null,
   "metadata": {
    "ExecuteTime": {
     "end_time": "2020-04-14T22:11:47.791754Z",
     "start_time": "2020-04-14T22:11:47.449879Z"
    }
   },
   "outputs": [],
   "source": []
  },
  {
   "cell_type": "code",
   "execution_count": null,
   "metadata": {},
   "outputs": [],
   "source": []
  }
 ],
 "metadata": {
  "kernelspec": {
   "display_name": "Python 3",
   "language": "python",
   "name": "python3"
  },
  "language_info": {
   "codemirror_mode": {
    "name": "ipython",
    "version": 3
   },
   "file_extension": ".py",
   "mimetype": "text/x-python",
   "name": "python",
   "nbconvert_exporter": "python",
   "pygments_lexer": "ipython3",
   "version": "3.7.4"
  }
 },
 "nbformat": 4,
 "nbformat_minor": 4
}
