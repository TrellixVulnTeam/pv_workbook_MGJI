{
 "cells": [
  {
   "cell_type": "code",
   "execution_count": 2,
   "metadata": {},
   "outputs": [],
   "source": [
    "import pandas as pd"
   ]
  },
  {
   "cell_type": "code",
   "execution_count": 3,
   "metadata": {},
   "outputs": [],
   "source": [
    "cols = ['id','name','male','female','unknown','total']\n",
    "active_voters_df = pd.read_csv('/Users/toddhendricks/Downloads/atl_active_voters - Sheet1.csv')"
   ]
  },
  {
   "cell_type": "code",
   "execution_count": 4,
   "metadata": {},
   "outputs": [
    {
     "data": {
      "text/html": [
       "<div>\n",
       "<style scoped>\n",
       "    .dataframe tbody tr th:only-of-type {\n",
       "        vertical-align: middle;\n",
       "    }\n",
       "\n",
       "    .dataframe tbody tr th {\n",
       "        vertical-align: top;\n",
       "    }\n",
       "\n",
       "    .dataframe thead th {\n",
       "        text-align: right;\n",
       "    }\n",
       "</style>\n",
       "<table border=\"1\" class=\"dataframe\">\n",
       "  <thead>\n",
       "    <tr style=\"text-align: right;\">\n",
       "      <th></th>\n",
       "      <th>COUNTY ID</th>\n",
       "      <th>COUNTY NAME</th>\n",
       "      <th>BH     MALE VOTERS</th>\n",
       "      <th>BH     FEMALE VOTERS</th>\n",
       "      <th>BH        UNKNOWN VOTERS</th>\n",
       "      <th>TOTAL VOTERS</th>\n",
       "    </tr>\n",
       "  </thead>\n",
       "  <tbody>\n",
       "    <tr>\n",
       "      <th>0</th>\n",
       "      <td>1</td>\n",
       "      <td>APPLING</td>\n",
       "      <td>929</td>\n",
       "      <td>1125</td>\n",
       "      <td>0</td>\n",
       "      <td>11744</td>\n",
       "    </tr>\n",
       "    <tr>\n",
       "      <th>1</th>\n",
       "      <td>2</td>\n",
       "      <td>ATKINSON</td>\n",
       "      <td>396</td>\n",
       "      <td>511</td>\n",
       "      <td>1</td>\n",
       "      <td>4871</td>\n",
       "    </tr>\n",
       "    <tr>\n",
       "      <th>2</th>\n",
       "      <td>3</td>\n",
       "      <td>BACON</td>\n",
       "      <td>338</td>\n",
       "      <td>536</td>\n",
       "      <td>1</td>\n",
       "      <td>6880</td>\n",
       "    </tr>\n",
       "    <tr>\n",
       "      <th>3</th>\n",
       "      <td>4</td>\n",
       "      <td>BAKER</td>\n",
       "      <td>403</td>\n",
       "      <td>520</td>\n",
       "      <td>0</td>\n",
       "      <td>2293</td>\n",
       "    </tr>\n",
       "    <tr>\n",
       "      <th>4</th>\n",
       "      <td>5</td>\n",
       "      <td>BALDWIN</td>\n",
       "      <td>4617</td>\n",
       "      <td>6351</td>\n",
       "      <td>6</td>\n",
       "      <td>26997</td>\n",
       "    </tr>\n",
       "  </tbody>\n",
       "</table>\n",
       "</div>"
      ],
      "text/plain": [
       "   COUNTY ID COUNTY NAME      BH     MALE VOTERS      BH     FEMALE VOTERS  \\\n",
       "0          1     APPLING                     929                      1125   \n",
       "1          2    ATKINSON                     396                       511   \n",
       "2          3       BACON                     338                       536   \n",
       "3          4       BAKER                     403                       520   \n",
       "4          5     BALDWIN                    4617                      6351   \n",
       "\n",
       "       BH        UNKNOWN VOTERS  TOTAL VOTERS  \n",
       "0                             0         11744  \n",
       "1                             1          4871  \n",
       "2                             1          6880  \n",
       "3                             0          2293  \n",
       "4                             6         26997  "
      ]
     },
     "execution_count": 4,
     "metadata": {},
     "output_type": "execute_result"
    }
   ],
   "source": [
    "active_voters_df.head(5)"
   ]
  },
  {
   "cell_type": "code",
   "execution_count": 7,
   "metadata": {},
   "outputs": [
    {
     "data": {
      "text/plain": [
       "Index(['COUNTY ID', 'COUNTY NAME', '    BH     MALE VOTERS',\n",
       "       '    BH     FEMALE VOTERS', '    BH        UNKNOWN VOTERS',\n",
       "       'TOTAL VOTERS'],\n",
       "      dtype='object')"
      ]
     },
     "execution_count": 7,
     "metadata": {},
     "output_type": "execute_result"
    }
   ],
   "source": [
    "active_voters_df.columns"
   ]
  },
  {
   "cell_type": "code",
   "execution_count": 20,
   "metadata": {},
   "outputs": [],
   "source": [
    "male_pct = active_voters_df['    BH     MALE VOTERS'] / active_voters_df['TOTAL VOTERS']\n",
    "female_pct = active_voters_df['    BH     FEMALE VOTERS'] / active_voters_df['TOTAL VOTERS']"
   ]
  },
  {
   "cell_type": "code",
   "execution_count": 21,
   "metadata": {},
   "outputs": [],
   "source": [
    "active_voters_df['delta'] = female_pct - male_pct"
   ]
  },
  {
   "cell_type": "code",
   "execution_count": 25,
   "metadata": {},
   "outputs": [],
   "source": [
    "active_voters_df = active_voters_df.sort_values('delta', ascending=False)[:10]"
   ]
  },
  {
   "cell_type": "code",
   "execution_count": 26,
   "metadata": {},
   "outputs": [
    {
     "data": {
      "text/html": [
       "<div>\n",
       "<style scoped>\n",
       "    .dataframe tbody tr th:only-of-type {\n",
       "        vertical-align: middle;\n",
       "    }\n",
       "\n",
       "    .dataframe tbody tr th {\n",
       "        vertical-align: top;\n",
       "    }\n",
       "\n",
       "    .dataframe thead th {\n",
       "        text-align: right;\n",
       "    }\n",
       "</style>\n",
       "<table border=\"1\" class=\"dataframe\">\n",
       "  <thead>\n",
       "    <tr style=\"text-align: right;\">\n",
       "      <th></th>\n",
       "      <th>COUNTY ID</th>\n",
       "      <th>COUNTY NAME</th>\n",
       "      <th>BH     MALE VOTERS</th>\n",
       "      <th>BH     FEMALE VOTERS</th>\n",
       "      <th>BH        UNKNOWN VOTERS</th>\n",
       "      <th>TOTAL VOTERS</th>\n",
       "      <th>delta</th>\n",
       "    </tr>\n",
       "  </thead>\n",
       "  <tbody>\n",
       "    <tr>\n",
       "      <th>119</th>\n",
       "      <td>120</td>\n",
       "      <td>RANDOLPH</td>\n",
       "      <td>986</td>\n",
       "      <td>1435</td>\n",
       "      <td>5</td>\n",
       "      <td>4426</td>\n",
       "      <td>0.101446</td>\n",
       "    </tr>\n",
       "    <tr>\n",
       "      <th>29</th>\n",
       "      <td>30</td>\n",
       "      <td>CLAY</td>\n",
       "      <td>466</td>\n",
       "      <td>679</td>\n",
       "      <td>2</td>\n",
       "      <td>2107</td>\n",
       "      <td>0.101092</td>\n",
       "    </tr>\n",
       "    <tr>\n",
       "      <th>46</th>\n",
       "      <td>47</td>\n",
       "      <td>DOUGHERTY</td>\n",
       "      <td>17694</td>\n",
       "      <td>23522</td>\n",
       "      <td>321</td>\n",
       "      <td>63534</td>\n",
       "      <td>0.091730</td>\n",
       "    </tr>\n",
       "    <tr>\n",
       "      <th>18</th>\n",
       "      <td>19</td>\n",
       "      <td>CALHOUN</td>\n",
       "      <td>786</td>\n",
       "      <td>1080</td>\n",
       "      <td>1</td>\n",
       "      <td>3233</td>\n",
       "      <td>0.090937</td>\n",
       "    </tr>\n",
       "    <tr>\n",
       "      <th>30</th>\n",
       "      <td>31</td>\n",
       "      <td>CLAYTON</td>\n",
       "      <td>60146</td>\n",
       "      <td>77716</td>\n",
       "      <td>204</td>\n",
       "      <td>196356</td>\n",
       "      <td>0.089480</td>\n",
       "    </tr>\n",
       "    <tr>\n",
       "      <th>128</th>\n",
       "      <td>129</td>\n",
       "      <td>SUMTER</td>\n",
       "      <td>3624</td>\n",
       "      <td>5257</td>\n",
       "      <td>9</td>\n",
       "      <td>18294</td>\n",
       "      <td>0.089264</td>\n",
       "    </tr>\n",
       "    <tr>\n",
       "      <th>48</th>\n",
       "      <td>49</td>\n",
       "      <td>EARLY</td>\n",
       "      <td>1480</td>\n",
       "      <td>2106</td>\n",
       "      <td>6</td>\n",
       "      <td>7447</td>\n",
       "      <td>0.084061</td>\n",
       "    </tr>\n",
       "    <tr>\n",
       "      <th>149</th>\n",
       "      <td>150</td>\n",
       "      <td>WASHINGTON</td>\n",
       "      <td>2614</td>\n",
       "      <td>3702</td>\n",
       "      <td>3</td>\n",
       "      <td>13201</td>\n",
       "      <td>0.082418</td>\n",
       "    </tr>\n",
       "    <tr>\n",
       "      <th>117</th>\n",
       "      <td>118</td>\n",
       "      <td>QUITMAN</td>\n",
       "      <td>272</td>\n",
       "      <td>399</td>\n",
       "      <td>0</td>\n",
       "      <td>1604</td>\n",
       "      <td>0.079177</td>\n",
       "    </tr>\n",
       "    <tr>\n",
       "      <th>39</th>\n",
       "      <td>40</td>\n",
       "      <td>CRISP</td>\n",
       "      <td>2138</td>\n",
       "      <td>3116</td>\n",
       "      <td>10</td>\n",
       "      <td>12913</td>\n",
       "      <td>0.075738</td>\n",
       "    </tr>\n",
       "  </tbody>\n",
       "</table>\n",
       "</div>"
      ],
      "text/plain": [
       "     COUNTY ID COUNTY NAME      BH     MALE VOTERS      BH     FEMALE VOTERS  \\\n",
       "119        120    RANDOLPH                     986                      1435   \n",
       "29          30        CLAY                     466                       679   \n",
       "46          47   DOUGHERTY                   17694                     23522   \n",
       "18          19     CALHOUN                     786                      1080   \n",
       "30          31     CLAYTON                   60146                     77716   \n",
       "128        129      SUMTER                    3624                      5257   \n",
       "48          49       EARLY                    1480                      2106   \n",
       "149        150  WASHINGTON                    2614                      3702   \n",
       "117        118     QUITMAN                     272                       399   \n",
       "39          40       CRISP                    2138                      3116   \n",
       "\n",
       "         BH        UNKNOWN VOTERS  TOTAL VOTERS     delta  \n",
       "119                             5          4426  0.101446  \n",
       "29                              2          2107  0.101092  \n",
       "46                            321         63534  0.091730  \n",
       "18                              1          3233  0.090937  \n",
       "30                            204        196356  0.089480  \n",
       "128                             9         18294  0.089264  \n",
       "48                              6          7447  0.084061  \n",
       "149                             3         13201  0.082418  \n",
       "117                             0          1604  0.079177  \n",
       "39                             10         12913  0.075738  "
      ]
     },
     "execution_count": 26,
     "metadata": {},
     "output_type": "execute_result"
    }
   ],
   "source": [
    "active_voters_df"
   ]
  },
  {
   "cell_type": "code",
   "execution_count": 28,
   "metadata": {},
   "outputs": [
    {
     "data": {
      "text/plain": [
       "222282.80000000005"
      ]
     },
     "execution_count": 28,
     "metadata": {},
     "output_type": "execute_result"
    }
   ],
   "source": []
  },
  {
   "cell_type": "code",
   "execution_count": 29,
   "metadata": {},
   "outputs": [
    {
     "data": {
      "text/plain": [
       "7383220"
      ]
     },
     "execution_count": 29,
     "metadata": {},
     "output_type": "execute_result"
    }
   ],
   "source": [
    "df.total.sum()"
   ]
  },
  {
   "cell_type": "code",
   "execution_count": 33,
   "metadata": {},
   "outputs": [],
   "source": [
    "dfx = pd.read_html('/Users/toddhendricks/Downloads/detail.xls')"
   ]
  },
  {
   "cell_type": "code",
   "execution_count": 28,
   "metadata": {},
   "outputs": [],
   "source": [
    "def identify_big_counties(row):\n",
    "    if row['TOTAL VOTERS'] > 10000:\n",
    "        return True\n",
    "    else:\n",
    "        return False"
   ]
  },
  {
   "cell_type": "code",
   "execution_count": null,
   "metadata": {},
   "outputs": [],
   "source": [
    "active_voters_df['']"
   ]
  }
 ],
 "metadata": {
  "kernelspec": {
   "display_name": "Python 3",
   "language": "python",
   "name": "python3"
  },
  "language_info": {
   "codemirror_mode": {
    "name": "ipython",
    "version": 3
   },
   "file_extension": ".py",
   "mimetype": "text/x-python",
   "name": "python",
   "nbconvert_exporter": "python",
   "pygments_lexer": "ipython3",
   "version": "3.7.9"
  },
  "varInspector": {
   "cols": {
    "lenName": 16,
    "lenType": 16,
    "lenVar": 40
   },
   "kernels_config": {
    "python": {
     "delete_cmd_postfix": "",
     "delete_cmd_prefix": "del ",
     "library": "var_list.py",
     "varRefreshCmd": "print(var_dic_list())"
    },
    "r": {
     "delete_cmd_postfix": ") ",
     "delete_cmd_prefix": "rm(",
     "library": "var_list.r",
     "varRefreshCmd": "cat(var_dic_list()) "
    }
   },
   "types_to_exclude": [
    "module",
    "function",
    "builtin_function_or_method",
    "instance",
    "_Feature"
   ],
   "window_display": false
  }
 },
 "nbformat": 4,
 "nbformat_minor": 4
}
