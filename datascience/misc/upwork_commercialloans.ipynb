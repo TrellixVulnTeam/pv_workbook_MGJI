{
 "cells": [
  {
   "cell_type": "code",
   "execution_count": 285,
   "metadata": {},
   "outputs": [],
   "source": [
    "import pandas as pd\n",
    "from pandas_profiling import ProfileReport\n",
    "import seaborn as sns\n",
    "import matplotlib.pyplot as plt\n",
    "pd.options.display.float_format = '{:.2f}'.format"
   ]
  },
  {
   "cell_type": "code",
   "execution_count": 218,
   "metadata": {},
   "outputs": [],
   "source": [
    "loans_df = pd.read_csv('/Users/toddhendricks/Downloads/Post-COVID Retail Financing_ National - West Coast.csv')"
   ]
  },
  {
   "cell_type": "code",
   "execution_count": 219,
   "metadata": {},
   "outputs": [],
   "source": [
    "profile = ProfileReport(loans_df, title=\"Loan Transactions\")"
   ]
  },
  {
   "cell_type": "code",
   "execution_count": 220,
   "metadata": {},
   "outputs": [
    {
     "data": {
      "text/plain": [
       "Index(['Address', 'City', 'State', 'Region', 'Asset Type', 'Last Mortgage',\n",
       "       'Mortgage Amount', ' Building\\nArea ', 'Lender', 'Lender\\nType',\n",
       "       'Reported Owner'],\n",
       "      dtype='object')"
      ]
     },
     "execution_count": 220,
     "metadata": {},
     "output_type": "execute_result"
    }
   ],
   "source": [
    "loans_df.columns"
   ]
  },
  {
   "cell_type": "code",
   "execution_count": 221,
   "metadata": {},
   "outputs": [],
   "source": [
    "#Clean Mortgage Amount\n",
    "loans_df['Mortgage Amount'] = (\n",
    "    loans_df['Mortgage Amount'].str.replace('$','')\n",
    "    .str.replace(',','')\n",
    "    .str.strip()\n",
    "    .str.extract('(\\d+)', expand=False)\n",
    "#     .fillna((loans_df['Mortgage Amount'].median()), inplace=True)\n",
    ")"
   ]
  },
  {
   "cell_type": "code",
   "execution_count": 222,
   "metadata": {},
   "outputs": [],
   "source": [
    "loans_df['Mortgage Amount'] = pd.to_numeric(loans_df['Mortgage Amount'])"
   ]
  },
  {
   "cell_type": "code",
   "execution_count": 223,
   "metadata": {},
   "outputs": [
    {
     "data": {
      "text/plain": [
       "458846997230.0"
      ]
     },
     "execution_count": 223,
     "metadata": {},
     "output_type": "execute_result"
    }
   ],
   "source": [
    "loans_df['Mortgage Amount'].sum()"
   ]
  },
  {
   "cell_type": "code",
   "execution_count": 224,
   "metadata": {},
   "outputs": [],
   "source": [
    "loans_by_lender = loans_df.groupby(by='Lender\\nType').agg({'Mortgage Amount': 'sum'})"
   ]
  },
  {
   "cell_type": "code",
   "execution_count": 292,
   "metadata": {},
   "outputs": [],
   "source": [
    "loan_lender_count = loans_df.groupby(by='Lender\\nType')['Mortgage Amount'].count()"
   ]
  },
  {
   "cell_type": "code",
   "execution_count": 306,
   "metadata": {},
   "outputs": [
    {
     "data": {
      "image/png": "[encoded data removed]",
      "text/plain": [
       "<Figure size 576x396 with 1 Axes>"
      ]
     },
     "metadata": {},
     "output_type": "display_data"
    }
   ],
   "source": [
    "x = loan_lender_count.sort_values(ascending=False)\n",
    "players = ['Bank','CMBS','Life Insurance', 'Debt Fund', 'Private','Credit Union']\n",
    "totals = [3065, 235,165, 128,63,53]\n",
    "sns.barplot(players,totals, palette=\"Blues_d\")\n",
    "plt.title('Lender Type Distribution')\n",
    "plt.xlabel('Lender Type')\n",
    "plt.ylabel('Implied Market Share by Transactions')\n",
    "plt.savefig('transactions')"
   ]
  },
  {
   "cell_type": "code",
   "execution_count": 225,
   "metadata": {},
   "outputs": [],
   "source": [
    "loans_by_lender['%'] = loans_by_lender.apply(lambda x:  100*x / x.sum())"
   ]
  },
  {
   "cell_type": "code",
   "execution_count": 226,
   "metadata": {},
   "outputs": [],
   "source": [
    "loans_by_lender = loans_by_lender.astype(int)"
   ]
  },
  {
   "cell_type": "code",
   "execution_count": 227,
   "metadata": {},
   "outputs": [
    {
     "data": {
      "text/html": [
       "<div>\n",
       "<style scoped>\n",
       "    .dataframe tbody tr th:only-of-type {\n",
       "        vertical-align: middle;\n",
       "    }\n",
       "\n",
       "    .dataframe tbody tr th {\n",
       "        vertical-align: top;\n",
       "    }\n",
       "\n",
       "    .dataframe thead th {\n",
       "        text-align: right;\n",
       "    }\n",
       "</style>\n",
       "<table border=\"1\" class=\"dataframe\">\n",
       "  <thead>\n",
       "    <tr style=\"text-align: right;\">\n",
       "      <th></th>\n",
       "      <th>Mortgage Amount</th>\n",
       "      <th>%</th>\n",
       "    </tr>\n",
       "    <tr>\n",
       "      <th>Lender\n",
       "Type</th>\n",
       "      <th></th>\n",
       "      <th></th>\n",
       "    </tr>\n",
       "  </thead>\n",
       "  <tbody>\n",
       "    <tr>\n",
       "      <th>?</th>\n",
       "      <td>83110000</td>\n",
       "      <td>0</td>\n",
       "    </tr>\n",
       "    <tr>\n",
       "      <th>Automotive</th>\n",
       "      <td>1088029038</td>\n",
       "      <td>0</td>\n",
       "    </tr>\n",
       "    <tr>\n",
       "      <th>Bank</th>\n",
       "      <td>183893349488</td>\n",
       "      <td>41</td>\n",
       "    </tr>\n",
       "    <tr>\n",
       "      <th>Bonds</th>\n",
       "      <td>3809210000</td>\n",
       "      <td>0</td>\n",
       "    </tr>\n",
       "    <tr>\n",
       "      <th>CMBS</th>\n",
       "      <td>236169768378</td>\n",
       "      <td>53</td>\n",
       "    </tr>\n",
       "    <tr>\n",
       "      <th>Credit Union</th>\n",
       "      <td>468057449</td>\n",
       "      <td>0</td>\n",
       "    </tr>\n",
       "    <tr>\n",
       "      <th>Debt Fund</th>\n",
       "      <td>5480472586</td>\n",
       "      <td>1</td>\n",
       "    </tr>\n",
       "    <tr>\n",
       "      <th>Government</th>\n",
       "      <td>412590686</td>\n",
       "      <td>0</td>\n",
       "    </tr>\n",
       "    <tr>\n",
       "      <th>Life Insurance</th>\n",
       "      <td>5344491818</td>\n",
       "      <td>1</td>\n",
       "    </tr>\n",
       "    <tr>\n",
       "      <th>Private</th>\n",
       "      <td>3799690611</td>\n",
       "      <td>0</td>\n",
       "    </tr>\n",
       "  </tbody>\n",
       "</table>\n",
       "</div>"
      ],
      "text/plain": [
       "                Mortgage Amount   %\n",
       "Lender\\nType                       \n",
       "?                      83110000   0\n",
       "Automotive           1088029038   0\n",
       "Bank               183893349488  41\n",
       "Bonds                3809210000   0\n",
       "CMBS               236169768378  53\n",
       "Credit Union          468057449   0\n",
       "Debt Fund            5480472586   1\n",
       "Government            412590686   0\n",
       "Life Insurance       5344491818   1\n",
       "Private              3799690611   0"
      ]
     },
     "execution_count": 227,
     "metadata": {},
     "output_type": "execute_result"
    }
   ],
   "source": [
    "loans_by_lender['%'].astype(float)\n",
    "loans_by_lender"
   ]
  },
  {
   "cell_type": "code",
   "execution_count": 305,
   "metadata": {},
   "outputs": [
    {
     "data": {
      "image/png": "[encoded data removed]",
      "text/plain": [
       "<Figure size 576x396 with 1 Axes>"
      ]
     },
     "metadata": {},
     "output_type": "display_data"
    }
   ],
   "source": [
    "real_values = loans_by_lender[loans_by_lender['%'] > 0].sort_values(by='%',ascending=False)\n",
    "sns.barplot(real_values.index,real_values['%'].values, palette=\"Blues_d\")\n",
    "plt.title('Lender Type Distribution')\n",
    "plt.ylabel('Implied Market Share by Value')\n",
    "plt.savefig('value')"
   ]
  },
  {
   "cell_type": "code",
   "execution_count": 229,
   "metadata": {},
   "outputs": [
    {
     "data": {
      "text/plain": [
       "<matplotlib.axes._subplots.AxesSubplot at 0x7fe6c57b8950>"
      ]
     },
     "execution_count": 229,
     "metadata": {},
     "output_type": "execute_result"
    },
    {
     "data": {
      "image/png": "[encoded data removed]",
      "text/plain": [
       "<Figure size 576x396 with 1 Axes>"
      ]
     },
     "metadata": {},
     "output_type": "display_data"
    }
   ],
   "source": [
    "sns.barplot(x=loans_by_lender.index,y=loans_by_lender['%'])"
   ]
  },
  {
   "cell_type": "code",
   "execution_count": 230,
   "metadata": {},
   "outputs": [
    {
     "data": {
      "text/html": [
       "<div>\n",
       "<style scoped>\n",
       "    .dataframe tbody tr th:only-of-type {\n",
       "        vertical-align: middle;\n",
       "    }\n",
       "\n",
       "    .dataframe tbody tr th {\n",
       "        vertical-align: top;\n",
       "    }\n",
       "\n",
       "    .dataframe thead th {\n",
       "        text-align: right;\n",
       "    }\n",
       "</style>\n",
       "<table border=\"1\" class=\"dataframe\">\n",
       "  <thead>\n",
       "    <tr style=\"text-align: right;\">\n",
       "      <th></th>\n",
       "      <th>Mortgage Amount</th>\n",
       "      <th>%</th>\n",
       "    </tr>\n",
       "    <tr>\n",
       "      <th>Lender\n",
       "Type</th>\n",
       "      <th></th>\n",
       "      <th></th>\n",
       "    </tr>\n",
       "  </thead>\n",
       "  <tbody>\n",
       "    <tr>\n",
       "      <th>CMBS</th>\n",
       "      <td>236169768378</td>\n",
       "      <td>53</td>\n",
       "    </tr>\n",
       "  </tbody>\n",
       "</table>\n",
       "</div>"
      ],
      "text/plain": [
       "              Mortgage Amount   %\n",
       "Lender\\nType                     \n",
       "CMBS             236169768378  53"
      ]
     },
     "execution_count": 230,
     "metadata": {},
     "output_type": "execute_result"
    }
   ],
   "source": [
    "loans_by_lender.groupby(by=loans_by_lender.index).get_group('CMBS')"
   ]
  },
  {
   "cell_type": "code",
   "execution_count": 231,
   "metadata": {},
   "outputs": [],
   "source": [
    "cmbs = loans_df[loans_df['Lender\\nType'] == 'CMBS']"
   ]
  },
  {
   "cell_type": "code",
   "execution_count": 232,
   "metadata": {},
   "outputs": [
    {
     "data": {
      "text/plain": [
       "17       715000000\n",
       "46       715000000\n",
       "49        29345000\n",
       "89      5095100000\n",
       "91      5095100000\n",
       "           ...    \n",
       "3976     715000000\n",
       "4015     715000000\n",
       "4048     715000000\n",
       "4049     715000000\n",
       "4087     715000000\n",
       "Name: Mortgage Amount, Length: 235, dtype: int64"
      ]
     },
     "execution_count": 232,
     "metadata": {},
     "output_type": "execute_result"
    }
   ],
   "source": [
    "cmbs['Mortgage Amount'].dropna().astype(int)"
   ]
  },
  {
   "cell_type": "code",
   "execution_count": 233,
   "metadata": {},
   "outputs": [
    {
     "name": "stderr",
     "output_type": "stream",
     "text": [
      "/Users/toddhendricks/miniconda3/lib/python3.7/site-packages/ipykernel_launcher.py:1: SettingWithCopyWarning: \n",
      "A value is trying to be set on a copy of a slice from a DataFrame.\n",
      "Try using .loc[row_indexer,col_indexer] = value instead\n",
      "\n",
      "See the caveats in the documentation: https://pandas.pydata.org/pandas-docs/stable/user_guide/indexing.html#returning-a-view-versus-a-copy\n",
      "  \"\"\"Entry point for launching an IPython kernel.\n"
     ]
    },
    {
     "data": {
      "text/html": [
       "<div>\n",
       "<style scoped>\n",
       "    .dataframe tbody tr th:only-of-type {\n",
       "        vertical-align: middle;\n",
       "    }\n",
       "\n",
       "    .dataframe tbody tr th {\n",
       "        vertical-align: top;\n",
       "    }\n",
       "\n",
       "    .dataframe thead th {\n",
       "        text-align: right;\n",
       "    }\n",
       "</style>\n",
       "<table border=\"1\" class=\"dataframe\">\n",
       "  <thead>\n",
       "    <tr style=\"text-align: right;\">\n",
       "      <th></th>\n",
       "      <th>Address</th>\n",
       "      <th>City</th>\n",
       "      <th>State</th>\n",
       "      <th>Region</th>\n",
       "      <th>Asset Type</th>\n",
       "      <th>Last Mortgage</th>\n",
       "      <th>Mortgage Amount</th>\n",
       "      <th>Building\\nArea</th>\n",
       "      <th>Lender</th>\n",
       "      <th>Lender\\nType</th>\n",
       "      <th>Reported Owner</th>\n",
       "    </tr>\n",
       "  </thead>\n",
       "  <tbody>\n",
       "    <tr>\n",
       "      <th>2512</th>\n",
       "      <td>409 N Mattis Ave</td>\n",
       "      <td>Champaign</td>\n",
       "      <td>IL</td>\n",
       "      <td>Midwest</td>\n",
       "      <td>Retail</td>\n",
       "      <td>14-Jul-20</td>\n",
       "      <td>160000.00</td>\n",
       "      <td>NaN</td>\n",
       "      <td>Deutsche Bank Trust Co Americas</td>\n",
       "      <td>CMBS</td>\n",
       "      <td>Npc International Inc</td>\n",
       "    </tr>\n",
       "    <tr>\n",
       "      <th>3966</th>\n",
       "      <td>974 Elmont Rd</td>\n",
       "      <td>Sullivan</td>\n",
       "      <td>MO</td>\n",
       "      <td>South</td>\n",
       "      <td>Vacant Land</td>\n",
       "      <td>29-Jul-20</td>\n",
       "      <td>464750.00</td>\n",
       "      <td>NaN</td>\n",
       "      <td>Column Fin'l Inc</td>\n",
       "      <td>CMBS</td>\n",
       "      <td>Arc Dg Svn Mo001 Llc</td>\n",
       "    </tr>\n",
       "    <tr>\n",
       "      <th>2142</th>\n",
       "      <td>3150 Vista Blvd</td>\n",
       "      <td>Sparks</td>\n",
       "      <td>NV</td>\n",
       "      <td>West</td>\n",
       "      <td>Retail</td>\n",
       "      <td>27-Apr-20</td>\n",
       "      <td>7642650.00</td>\n",
       "      <td>23,074</td>\n",
       "      <td>Deutsche Bank Trust Co Americas</td>\n",
       "      <td>CMBS</td>\n",
       "      <td>Peninsula Sparks Llc</td>\n",
       "    </tr>\n",
       "    <tr>\n",
       "      <th>3245</th>\n",
       "      <td>635 Booth St</td>\n",
       "      <td>Reno</td>\n",
       "      <td>NV</td>\n",
       "      <td>West</td>\n",
       "      <td>Retail</td>\n",
       "      <td>27-Apr-20</td>\n",
       "      <td>7642650.00</td>\n",
       "      <td>48,071</td>\n",
       "      <td>Deutsche Bank Trust Co Americas</td>\n",
       "      <td>CMBS</td>\n",
       "      <td>Jw &amp; Ll Investments Llc, Sun Property Investme...</td>\n",
       "    </tr>\n",
       "    <tr>\n",
       "      <th>309</th>\n",
       "      <td>11055 N Alpine Hwy</td>\n",
       "      <td>Highland</td>\n",
       "      <td>UT</td>\n",
       "      <td>West</td>\n",
       "      <td>Retail</td>\n",
       "      <td>16-Jul-20</td>\n",
       "      <td>7800000.00</td>\n",
       "      <td>7,468</td>\n",
       "      <td>Wells Fargo Bank N 2015-C20 (Ce)</td>\n",
       "      <td>CMBS</td>\n",
       "      <td>Mng Highland I Llc</td>\n",
       "    </tr>\n",
       "    <tr>\n",
       "      <th>...</th>\n",
       "      <td>...</td>\n",
       "      <td>...</td>\n",
       "      <td>...</td>\n",
       "      <td>...</td>\n",
       "      <td>...</td>\n",
       "      <td>...</td>\n",
       "      <td>...</td>\n",
       "      <td>...</td>\n",
       "      <td>...</td>\n",
       "      <td>...</td>\n",
       "      <td>...</td>\n",
       "    </tr>\n",
       "    <tr>\n",
       "      <th>2830</th>\n",
       "      <td>5031 Linden Ave</td>\n",
       "      <td>Dayton</td>\n",
       "      <td>OH</td>\n",
       "      <td>Midwest</td>\n",
       "      <td>Retail</td>\n",
       "      <td>1-May-20</td>\n",
       "      <td>7500000000.00</td>\n",
       "      <td>9,650</td>\n",
       "      <td>Deutsche Bank Trust Co Americas</td>\n",
       "      <td>CMBS</td>\n",
       "      <td>Floyd E Gillott</td>\n",
       "    </tr>\n",
       "    <tr>\n",
       "      <th>987</th>\n",
       "      <td>1540 E Highway 30</td>\n",
       "      <td>Gonzales</td>\n",
       "      <td>LA</td>\n",
       "      <td>South</td>\n",
       "      <td>Retail</td>\n",
       "      <td>3-Aug-20</td>\n",
       "      <td>nan</td>\n",
       "      <td>2,930</td>\n",
       "      <td>Column Fin'l Inc</td>\n",
       "      <td>CMBS</td>\n",
       "      <td>Arg Im12pkslb001 Llc</td>\n",
       "    </tr>\n",
       "    <tr>\n",
       "      <th>1427</th>\n",
       "      <td>2002 Alma Ave</td>\n",
       "      <td>Pueblo</td>\n",
       "      <td>CO</td>\n",
       "      <td>81004</td>\n",
       "      <td>Retail</td>\n",
       "      <td>31-Jul-20</td>\n",
       "      <td>nan</td>\n",
       "      <td>15,105</td>\n",
       "      <td>Column Fin'l Inc</td>\n",
       "      <td>CMBS</td>\n",
       "      <td>A R G Ccpblco01 Llc</td>\n",
       "    </tr>\n",
       "    <tr>\n",
       "      <th>3342</th>\n",
       "      <td>6720 Nelson Rd</td>\n",
       "      <td>Lake Charles</td>\n",
       "      <td>LA</td>\n",
       "      <td>South</td>\n",
       "      <td>Retail</td>\n",
       "      <td>3-Aug-20</td>\n",
       "      <td>nan</td>\n",
       "      <td>2,512</td>\n",
       "      <td>Column Fin'l Inc</td>\n",
       "      <td>CMBS</td>\n",
       "      <td>Arg Im12pkslb001 Llc</td>\n",
       "    </tr>\n",
       "    <tr>\n",
       "      <th>3521</th>\n",
       "      <td>7479 Gulf Hwy</td>\n",
       "      <td>Lake Charles</td>\n",
       "      <td>LA</td>\n",
       "      <td>South</td>\n",
       "      <td>Retail</td>\n",
       "      <td>3-Aug-20</td>\n",
       "      <td>nan</td>\n",
       "      <td>2,674</td>\n",
       "      <td>Column Fin'l Inc</td>\n",
       "      <td>CMBS</td>\n",
       "      <td>Arg Im12pkslb001 Llc</td>\n",
       "    </tr>\n",
       "  </tbody>\n",
       "</table>\n",
       "<p>239 rows × 11 columns</p>\n",
       "</div>"
      ],
      "text/plain": [
       "                 Address           City State   Region   Asset Type  \\\n",
       "2512    409 N Mattis Ave      Champaign    IL  Midwest       Retail   \n",
       "3966       974 Elmont Rd       Sullivan    MO    South  Vacant Land   \n",
       "2142     3150 Vista Blvd         Sparks    NV     West       Retail   \n",
       "3245        635 Booth St           Reno    NV     West       Retail   \n",
       "309   11055 N Alpine Hwy       Highland    UT     West       Retail   \n",
       "...                  ...            ...   ...      ...          ...   \n",
       "2830     5031 Linden Ave         Dayton    OH  Midwest       Retail   \n",
       "987    1540 E Highway 30       Gonzales    LA    South       Retail   \n",
       "1427       2002 Alma Ave         Pueblo    CO    81004       Retail   \n",
       "3342      6720 Nelson Rd   Lake Charles    LA    South       Retail   \n",
       "3521       7479 Gulf Hwy   Lake Charles    LA    South       Retail   \n",
       "\n",
       "     Last Mortgage  Mortgage Amount  Building\\nArea   \\\n",
       "2512     14-Jul-20        160000.00              NaN   \n",
       "3966     29-Jul-20        464750.00              NaN   \n",
       "2142     27-Apr-20       7642650.00          23,074    \n",
       "3245     27-Apr-20       7642650.00          48,071    \n",
       "309      16-Jul-20       7800000.00           7,468    \n",
       "...            ...              ...              ...   \n",
       "2830      1-May-20    7500000000.00           9,650    \n",
       "987       3-Aug-20              nan           2,930    \n",
       "1427     31-Jul-20              nan          15,105    \n",
       "3342      3-Aug-20              nan           2,512    \n",
       "3521      3-Aug-20              nan           2,674    \n",
       "\n",
       "                                Lender Lender\\nType  \\\n",
       "2512   Deutsche Bank Trust Co Americas         CMBS   \n",
       "3966                  Column Fin'l Inc         CMBS   \n",
       "2142   Deutsche Bank Trust Co Americas         CMBS   \n",
       "3245   Deutsche Bank Trust Co Americas         CMBS   \n",
       "309   Wells Fargo Bank N 2015-C20 (Ce)         CMBS   \n",
       "...                                ...          ...   \n",
       "2830   Deutsche Bank Trust Co Americas         CMBS   \n",
       "987                   Column Fin'l Inc         CMBS   \n",
       "1427                  Column Fin'l Inc         CMBS   \n",
       "3342                  Column Fin'l Inc         CMBS   \n",
       "3521                  Column Fin'l Inc         CMBS   \n",
       "\n",
       "                                         Reported Owner  \n",
       "2512                              Npc International Inc  \n",
       "3966                               Arc Dg Svn Mo001 Llc  \n",
       "2142                               Peninsula Sparks Llc  \n",
       "3245  Jw & Ll Investments Llc, Sun Property Investme...  \n",
       "309                                  Mng Highland I Llc  \n",
       "...                                                 ...  \n",
       "2830                                    Floyd E Gillott  \n",
       "987                                Arg Im12pkslb001 Llc  \n",
       "1427                                A R G Ccpblco01 Llc  \n",
       "3342                               Arg Im12pkslb001 Llc  \n",
       "3521                               Arg Im12pkslb001 Llc  \n",
       "\n",
       "[239 rows x 11 columns]"
      ]
     },
     "execution_count": 233,
     "metadata": {},
     "output_type": "execute_result"
    }
   ],
   "source": [
    "cmbs['Mortgage Amount'] = cmbs['Mortgage Amount'].dropna().astype(int)\n",
    "cmbs.sort_values(by=['Mortgage Amount','Lender'])"
   ]
  },
  {
   "cell_type": "code",
   "execution_count": 234,
   "metadata": {},
   "outputs": [
    {
     "data": {
      "text/plain": [
       "17                               Column\n",
       "46                               Column\n",
       "49               Goldman Sachs Bank Usa\n",
       "89      Deutsche Bank Trust Co Americas\n",
       "91      Deutsche Bank Trust Co Americas\n",
       "                     ...               \n",
       "3976                             Column\n",
       "4015                             Column\n",
       "4048                             Column\n",
       "4049                             Column\n",
       "4087                             Column\n",
       "Name: Lender, Length: 239, dtype: object"
      ]
     },
     "execution_count": 234,
     "metadata": {},
     "output_type": "execute_result"
    }
   ],
   "source": [
    "cmbs['Lender']"
   ]
  },
  {
   "cell_type": "code",
   "execution_count": null,
   "metadata": {},
   "outputs": [],
   "source": []
  },
  {
   "cell_type": "code",
   "execution_count": 235,
   "metadata": {},
   "outputs": [],
   "source": [
    "loans_df['Last Mortgage'] = pd.to_datetime(loans_df['Last Mortgage'])"
   ]
  },
  {
   "cell_type": "code",
   "execution_count": 236,
   "metadata": {},
   "outputs": [
    {
     "data": {
      "text/plain": [
       "0      2020-05-19\n",
       "1      2020-04-21\n",
       "2      2020-03-16\n",
       "3      2020-03-13\n",
       "4      2020-03-20\n",
       "          ...    \n",
       "4101   2020-04-06\n",
       "4102   2020-03-03\n",
       "4103   2020-03-06\n",
       "4104   2020-03-06\n",
       "4105   2020-04-20\n",
       "Name: Last Mortgage, Length: 4106, dtype: datetime64[ns]"
      ]
     },
     "execution_count": 236,
     "metadata": {},
     "output_type": "execute_result"
    }
   ],
   "source": [
    "loans_df['Last Mortgage']"
   ]
  },
  {
   "cell_type": "code",
   "execution_count": 310,
   "metadata": {},
   "outputs": [
    {
     "data": {
      "image/png": "[encoded data removed]",
      "text/plain": [
       "<Figure size 576x396 with 1 Axes>"
      ]
     },
     "metadata": {},
     "output_type": "display_data"
    }
   ],
   "source": [
    "sns.lineplot(x=loans_df['Last Mortgage'],y=loans_df['Mortgage Amount'].dropna().astype(int))\n",
    "plt.xlabel('Transaction Date')\n",
    "plt.ylabel('Total Mortgage Value')\n",
    "plt.title('Total Transaction Values Over Time')\n",
    "plt.savefig('time')"
   ]
  },
  {
   "cell_type": "code",
   "execution_count": 311,
   "metadata": {},
   "outputs": [],
   "source": [
    "loans_calendar = loans_df.set_index(loans_df['Last Mortgage'])"
   ]
  },
  {
   "cell_type": "code",
   "execution_count": 313,
   "metadata": {},
   "outputs": [],
   "source": [
    "monthly_volume_count = loans_calendar.resample('M').count()"
   ]
  },
  {
   "cell_type": "code",
   "execution_count": 335,
   "metadata": {},
   "outputs": [
    {
     "data": {
      "image/png": "[encoded data removed]",
      "text/plain": [
       "<Figure size 576x396 with 1 Axes>"
      ]
     },
     "metadata": {},
     "output_type": "display_data"
    }
   ],
   "source": [
    "monthly_volume_count['Last Mortgage']\n",
    "months = ['Feb','Mar', 'Apr', 'May', 'June', 'July', 'Aug']\n",
    "sns.barplot(x=months, y=monthly_volume_count['Last Mortgage'],palette=\"Blues_d\")\n",
    "plt.ylabel('Number of Loans')\n",
    "plt.xlabel('2020')\n",
    "plt.title('Closings by Month')\n",
    "plt.savefig('total_closed')"
   ]
  },
  {
   "cell_type": "code",
   "execution_count": 320,
   "metadata": {},
   "outputs": [],
   "source": [
    "monthly_volume_value = loans_calendar.resample('M').sum()"
   ]
  },
  {
   "cell_type": "code",
   "execution_count": 323,
   "metadata": {},
   "outputs": [],
   "source": [
    "monthly_volume_value['%'] = monthly_volume_value['Mortgage Amount'] / monthly_volume_value['Mortgage Amount'].sum() "
   ]
  },
  {
   "cell_type": "code",
   "execution_count": 328,
   "metadata": {},
   "outputs": [
    {
     "data": {
      "image/png": "[encoded data removed]",
      "text/plain": [
       "<Figure size 576x396 with 1 Axes>"
      ]
     },
     "metadata": {},
     "output_type": "display_data"
    }
   ],
   "source": [
    "sns.barplot(months, monthly_volume_value['%'],palette=\"Blues_d\")\n",
    "plt.ylabel('Value of Loans as % of Total')\n",
    "plt.xlabel('2020')\n",
    "plt.title('Percentage of Total Lent By Month')\n",
    "plt.savefig('total_lent')"
   ]
  },
  {
   "cell_type": "code",
   "execution_count": 257,
   "metadata": {},
   "outputs": [],
   "source": [
    "monthly_volume['avg'] = loans_calendar.resample('M').mean()"
   ]
  },
  {
   "cell_type": "code",
   "execution_count": 259,
   "metadata": {},
   "outputs": [],
   "source": [
    "monthly_volume['std'] = loans_calendar.resample('M').std()"
   ]
  },
  {
   "cell_type": "code",
   "execution_count": 265,
   "metadata": {},
   "outputs": [
    {
     "data": {
      "text/plain": [
       "<matplotlib.axes._subplots.AxesSubplot at 0x7fe6aa2586d0>"
      ]
     },
     "execution_count": 265,
     "metadata": {},
     "output_type": "execute_result"
    },
    {
     "data": {
      "image/png": "[encoded data removed]",
      "text/plain": [
       "<Figure size 576x396 with 1 Axes>"
      ]
     },
     "metadata": {},
     "output_type": "display_data"
    }
   ],
   "source": [
    "monthly_volume['std'].plot()"
   ]
  },
  {
   "cell_type": "code",
   "execution_count": 268,
   "metadata": {},
   "outputs": [
    {
     "data": {
      "text/plain": [
       "Timestamp('2020-08-12 00:00:00')"
      ]
     },
     "execution_count": 268,
     "metadata": {},
     "output_type": "execute_result"
    }
   ],
   "source": [
    "loans_df['Last Mortgage'].max()"
   ]
  },
  {
   "cell_type": "code",
   "execution_count": 334,
   "metadata": {},
   "outputs": [
    {
     "data": {
      "text/html": [
       "<div>\n",
       "<style scoped>\n",
       "    .dataframe tbody tr th:only-of-type {\n",
       "        vertical-align: middle;\n",
       "    }\n",
       "\n",
       "    .dataframe tbody tr th {\n",
       "        vertical-align: top;\n",
       "    }\n",
       "\n",
       "    .dataframe thead th {\n",
       "        text-align: right;\n",
       "    }\n",
       "</style>\n",
       "<table border=\"1\" class=\"dataframe\">\n",
       "  <thead>\n",
       "    <tr style=\"text-align: right;\">\n",
       "      <th></th>\n",
       "      <th>Address</th>\n",
       "      <th>City</th>\n",
       "      <th>State</th>\n",
       "      <th>Region</th>\n",
       "      <th>Asset Type</th>\n",
       "      <th>Last Mortgage</th>\n",
       "      <th>Mortgage Amount</th>\n",
       "      <th>Building\\nArea</th>\n",
       "      <th>Lender</th>\n",
       "      <th>Lender\\nType</th>\n",
       "      <th>Reported Owner</th>\n",
       "    </tr>\n",
       "  </thead>\n",
       "  <tbody>\n",
       "    <tr>\n",
       "      <th>217</th>\n",
       "      <td>1070 Jacoby Rd</td>\n",
       "      <td>Copley</td>\n",
       "      <td>OH</td>\n",
       "      <td>Midwest</td>\n",
       "      <td>Retail</td>\n",
       "      <td>2020-03-30</td>\n",
       "      <td>7500000000.00</td>\n",
       "      <td>29,393</td>\n",
       "      <td>Deutsche Bank Trust Co Americas</td>\n",
       "      <td>CMBS</td>\n",
       "      <td>Equinox Capital Group Llc</td>\n",
       "    </tr>\n",
       "    <tr>\n",
       "      <th>457</th>\n",
       "      <td>11909 Grafton Rd</td>\n",
       "      <td>Grafton</td>\n",
       "      <td>OH</td>\n",
       "      <td>Midwest</td>\n",
       "      <td>Retail</td>\n",
       "      <td>2020-03-25</td>\n",
       "      <td>7500000000.00</td>\n",
       "      <td>8,208</td>\n",
       "      <td>Deutsche Bank Trust Co Americas</td>\n",
       "      <td>CMBS</td>\n",
       "      <td>William P Lilley, Jon P Lilley</td>\n",
       "    </tr>\n",
       "    <tr>\n",
       "      <th>1314</th>\n",
       "      <td>1881 Canton Rd</td>\n",
       "      <td>Akron</td>\n",
       "      <td>OH</td>\n",
       "      <td>Midwest</td>\n",
       "      <td>Retail</td>\n",
       "      <td>2020-03-30</td>\n",
       "      <td>7500000000.00</td>\n",
       "      <td>8,512</td>\n",
       "      <td>Deutsche Bank Trust Co America (Ce)</td>\n",
       "      <td>CMBS</td>\n",
       "      <td>Canton Road Garden Center Inc</td>\n",
       "    </tr>\n",
       "    <tr>\n",
       "      <th>2352</th>\n",
       "      <td>3644 Liberty Ave</td>\n",
       "      <td>Vermilion</td>\n",
       "      <td>OH</td>\n",
       "      <td>Midwest</td>\n",
       "      <td>Retail</td>\n",
       "      <td>2020-03-25</td>\n",
       "      <td>7500000000.00</td>\n",
       "      <td>1,344</td>\n",
       "      <td>Deutsche Bank Trust Co Americas</td>\n",
       "      <td>CMBS</td>\n",
       "      <td>Richard J Nardecchia</td>\n",
       "    </tr>\n",
       "    <tr>\n",
       "      <th>2830</th>\n",
       "      <td>5031 Linden Ave</td>\n",
       "      <td>Dayton</td>\n",
       "      <td>OH</td>\n",
       "      <td>Midwest</td>\n",
       "      <td>Retail</td>\n",
       "      <td>2020-05-01</td>\n",
       "      <td>7500000000.00</td>\n",
       "      <td>9,650</td>\n",
       "      <td>Deutsche Bank Trust Co Americas</td>\n",
       "      <td>CMBS</td>\n",
       "      <td>Floyd E Gillott</td>\n",
       "    </tr>\n",
       "    <tr>\n",
       "      <th>89</th>\n",
       "      <td>101 Park South Ct</td>\n",
       "      <td>Nashville</td>\n",
       "      <td>TN</td>\n",
       "      <td>South</td>\n",
       "      <td>Retail</td>\n",
       "      <td>2020-04-16</td>\n",
       "      <td>5095100000.00</td>\n",
       "      <td>NaN</td>\n",
       "      <td>Deutsche Bank Trust Co Americas</td>\n",
       "      <td>CMBS</td>\n",
       "      <td>Dale Broadrick, Cheryl Broadrick</td>\n",
       "    </tr>\n",
       "    <tr>\n",
       "      <th>91</th>\n",
       "      <td>101 S Virginia Ave</td>\n",
       "      <td>Carthage</td>\n",
       "      <td>MO</td>\n",
       "      <td>South</td>\n",
       "      <td>Retail</td>\n",
       "      <td>2020-03-16</td>\n",
       "      <td>5095100000.00</td>\n",
       "      <td>2,319</td>\n",
       "      <td>Deutsche Bank Trust Co Americas</td>\n",
       "      <td>CMBS</td>\n",
       "      <td>Holly Stump</td>\n",
       "    </tr>\n",
       "    <tr>\n",
       "      <th>415</th>\n",
       "      <td>11642 Ne Halsey St</td>\n",
       "      <td>Portland</td>\n",
       "      <td>OR</td>\n",
       "      <td>West</td>\n",
       "      <td>Retail</td>\n",
       "      <td>2020-05-04</td>\n",
       "      <td>5095100000.00</td>\n",
       "      <td>2,835</td>\n",
       "      <td>Deutsche Bank Trust Co Americas</td>\n",
       "      <td>CMBS</td>\n",
       "      <td>Hsiao Chon Mar</td>\n",
       "    </tr>\n",
       "    <tr>\n",
       "      <th>1149</th>\n",
       "      <td>171 Kingston Dr</td>\n",
       "      <td>Saint Louis</td>\n",
       "      <td>MO</td>\n",
       "      <td>South</td>\n",
       "      <td>Retail</td>\n",
       "      <td>2020-03-12</td>\n",
       "      <td>5095100000.00</td>\n",
       "      <td>16,688</td>\n",
       "      <td>Deutsche Bank Trust Co Americas</td>\n",
       "      <td>CMBS</td>\n",
       "      <td>My People Feed</td>\n",
       "    </tr>\n",
       "    <tr>\n",
       "      <th>1828</th>\n",
       "      <td>2550 E Morris Blvd</td>\n",
       "      <td>Morristown</td>\n",
       "      <td>TN</td>\n",
       "      <td>South</td>\n",
       "      <td>Retail</td>\n",
       "      <td>2020-06-25</td>\n",
       "      <td>5095100000.00</td>\n",
       "      <td>343,005</td>\n",
       "      <td>Deutsche Bank Trust Co Americas</td>\n",
       "      <td>CMBS</td>\n",
       "      <td>Time Equities Inc</td>\n",
       "    </tr>\n",
       "    <tr>\n",
       "      <th>2108</th>\n",
       "      <td>3101 E State St</td>\n",
       "      <td>Hermitage</td>\n",
       "      <td>PA</td>\n",
       "      <td>East</td>\n",
       "      <td>Retail</td>\n",
       "      <td>2020-06-30</td>\n",
       "      <td>5095100000.00</td>\n",
       "      <td>NaN</td>\n",
       "      <td>Deutsche Bank Trust Co Americas</td>\n",
       "      <td>CMBS</td>\n",
       "      <td>Sjl Development Llc</td>\n",
       "    </tr>\n",
       "    <tr>\n",
       "      <th>2109</th>\n",
       "      <td>3101 E State St</td>\n",
       "      <td>Hermitage</td>\n",
       "      <td>PA</td>\n",
       "      <td>East</td>\n",
       "      <td>Retail</td>\n",
       "      <td>2020-06-30</td>\n",
       "      <td>5095100000.00</td>\n",
       "      <td>NaN</td>\n",
       "      <td>Deutsche Bank Trust Co Americas</td>\n",
       "      <td>CMBS</td>\n",
       "      <td>Sjl Development Llc</td>\n",
       "    </tr>\n",
       "    <tr>\n",
       "      <th>2225</th>\n",
       "      <td>3333 State Route 27</td>\n",
       "      <td>Franklin Park</td>\n",
       "      <td>NJ</td>\n",
       "      <td>East</td>\n",
       "      <td>Retail</td>\n",
       "      <td>2020-04-23</td>\n",
       "      <td>5095100000.00</td>\n",
       "      <td>NaN</td>\n",
       "      <td>Deutsche Bank Trust Co Americas</td>\n",
       "      <td>CMBS</td>\n",
       "      <td>Vliet 27 Llc</td>\n",
       "    </tr>\n",
       "    <tr>\n",
       "      <th>2299</th>\n",
       "      <td>3500 Bonny Oaks Dr</td>\n",
       "      <td>Chattanooga</td>\n",
       "      <td>TN</td>\n",
       "      <td>South</td>\n",
       "      <td>Retail</td>\n",
       "      <td>2020-04-15</td>\n",
       "      <td>5095100000.00</td>\n",
       "      <td>1,798</td>\n",
       "      <td>Deutsche Bank Trust Co Americas</td>\n",
       "      <td>CMBS</td>\n",
       "      <td>Lynne H Boatwright</td>\n",
       "    </tr>\n",
       "    <tr>\n",
       "      <th>2304</th>\n",
       "      <td>3504 Prospect Ave</td>\n",
       "      <td>Kansas City</td>\n",
       "      <td>MO</td>\n",
       "      <td>South</td>\n",
       "      <td>Retail</td>\n",
       "      <td>2020-03-17</td>\n",
       "      <td>5095100000.00</td>\n",
       "      <td>19,240</td>\n",
       "      <td>Deutsche Bank Trust Co Americas</td>\n",
       "      <td>CMBS</td>\n",
       "      <td>Spp Sunwest Portfolio Llc</td>\n",
       "    </tr>\n",
       "    <tr>\n",
       "      <th>2668</th>\n",
       "      <td>4545 Ne Worlds Of Fun Dr</td>\n",
       "      <td>Kansas City</td>\n",
       "      <td>MO</td>\n",
       "      <td>South</td>\n",
       "      <td>Retail</td>\n",
       "      <td>2020-03-10</td>\n",
       "      <td>5095100000.00</td>\n",
       "      <td>NaN</td>\n",
       "      <td>Whisler Walter C</td>\n",
       "      <td>NaN</td>\n",
       "      <td>Worlds Of Fun Llc</td>\n",
       "    </tr>\n",
       "    <tr>\n",
       "      <th>3213</th>\n",
       "      <td>6221 N Lombard St</td>\n",
       "      <td>Portland</td>\n",
       "      <td>OR</td>\n",
       "      <td>West</td>\n",
       "      <td>Retail</td>\n",
       "      <td>2020-05-04</td>\n",
       "      <td>5095100000.00</td>\n",
       "      <td>3,200</td>\n",
       "      <td>Deutsche Bank Trust Co Americas</td>\n",
       "      <td>CMBS</td>\n",
       "      <td>Marital Creitz</td>\n",
       "    </tr>\n",
       "    <tr>\n",
       "      <th>3295</th>\n",
       "      <td>6514 Se Foster Rd</td>\n",
       "      <td>Portland</td>\n",
       "      <td>OR</td>\n",
       "      <td>West</td>\n",
       "      <td>Retail</td>\n",
       "      <td>2020-05-04</td>\n",
       "      <td>5095100000.00</td>\n",
       "      <td>1,520</td>\n",
       "      <td>Deutsche Bank Trust Co Americas</td>\n",
       "      <td>CMBS</td>\n",
       "      <td>6914 Foster Rd Llc</td>\n",
       "    </tr>\n",
       "    <tr>\n",
       "      <th>3381</th>\n",
       "      <td>6923 Se 52nd Ave</td>\n",
       "      <td>Portland</td>\n",
       "      <td>OR</td>\n",
       "      <td>West</td>\n",
       "      <td>Retail</td>\n",
       "      <td>2020-05-04</td>\n",
       "      <td>5095100000.00</td>\n",
       "      <td>3,220</td>\n",
       "      <td>Deutsche Bank Trust Co Americas</td>\n",
       "      <td>CMBS</td>\n",
       "      <td>Mehri Gaspeed</td>\n",
       "    </tr>\n",
       "    <tr>\n",
       "      <th>3052</th>\n",
       "      <td>5701 Broadway St</td>\n",
       "      <td>Galveston</td>\n",
       "      <td>TX</td>\n",
       "      <td>South</td>\n",
       "      <td>Retail</td>\n",
       "      <td>2020-04-29</td>\n",
       "      <td>4140000000.00</td>\n",
       "      <td>2,765</td>\n",
       "      <td>Wells Fargo Bank Na</td>\n",
       "      <td>Bank</td>\n",
       "      <td>Hamer R/E Holding Iii Llc, B &amp; G Food Ents Llc</td>\n",
       "    </tr>\n",
       "  </tbody>\n",
       "</table>\n",
       "</div>"
      ],
      "text/plain": [
       "                       Address            City State   Region Asset Type  \\\n",
       "217             1070 Jacoby Rd          Copley    OH  Midwest     Retail   \n",
       "457           11909 Grafton Rd         Grafton    OH  Midwest     Retail   \n",
       "1314            1881 Canton Rd           Akron    OH  Midwest     Retail   \n",
       "2352          3644 Liberty Ave       Vermilion    OH  Midwest     Retail   \n",
       "2830           5031 Linden Ave          Dayton    OH  Midwest     Retail   \n",
       "89           101 Park South Ct       Nashville    TN    South     Retail   \n",
       "91          101 S Virginia Ave        Carthage    MO    South     Retail   \n",
       "415         11642 Ne Halsey St        Portland    OR     West     Retail   \n",
       "1149           171 Kingston Dr     Saint Louis    MO    South     Retail   \n",
       "1828        2550 E Morris Blvd      Morristown    TN    South     Retail   \n",
       "2108           3101 E State St       Hermitage    PA     East     Retail   \n",
       "2109           3101 E State St       Hermitage    PA     East     Retail   \n",
       "2225       3333 State Route 27   Franklin Park    NJ     East     Retail   \n",
       "2299        3500 Bonny Oaks Dr     Chattanooga    TN    South     Retail   \n",
       "2304         3504 Prospect Ave     Kansas City    MO    South     Retail   \n",
       "2668  4545 Ne Worlds Of Fun Dr     Kansas City    MO    South     Retail   \n",
       "3213         6221 N Lombard St        Portland    OR     West     Retail   \n",
       "3295         6514 Se Foster Rd        Portland    OR     West     Retail   \n",
       "3381          6923 Se 52nd Ave        Portland    OR     West     Retail   \n",
       "3052          5701 Broadway St       Galveston    TX    South     Retail   \n",
       "\n",
       "     Last Mortgage  Mortgage Amount  Building\\nArea   \\\n",
       "217     2020-03-30    7500000000.00          29,393    \n",
       "457     2020-03-25    7500000000.00           8,208    \n",
       "1314    2020-03-30    7500000000.00           8,512    \n",
       "2352    2020-03-25    7500000000.00           1,344    \n",
       "2830    2020-05-01    7500000000.00           9,650    \n",
       "89      2020-04-16    5095100000.00              NaN   \n",
       "91      2020-03-16    5095100000.00           2,319    \n",
       "415     2020-05-04    5095100000.00           2,835    \n",
       "1149    2020-03-12    5095100000.00          16,688    \n",
       "1828    2020-06-25    5095100000.00         343,005    \n",
       "2108    2020-06-30    5095100000.00              NaN   \n",
       "2109    2020-06-30    5095100000.00              NaN   \n",
       "2225    2020-04-23    5095100000.00              NaN   \n",
       "2299    2020-04-15    5095100000.00           1,798    \n",
       "2304    2020-03-17    5095100000.00          19,240    \n",
       "2668    2020-03-10    5095100000.00              NaN   \n",
       "3213    2020-05-04    5095100000.00           3,200    \n",
       "3295    2020-05-04    5095100000.00           1,520    \n",
       "3381    2020-05-04    5095100000.00           3,220    \n",
       "3052    2020-04-29    4140000000.00           2,765    \n",
       "\n",
       "                                   Lender Lender\\nType  \\\n",
       "217       Deutsche Bank Trust Co Americas         CMBS   \n",
       "457       Deutsche Bank Trust Co Americas         CMBS   \n",
       "1314  Deutsche Bank Trust Co America (Ce)         CMBS   \n",
       "2352      Deutsche Bank Trust Co Americas         CMBS   \n",
       "2830      Deutsche Bank Trust Co Americas         CMBS   \n",
       "89        Deutsche Bank Trust Co Americas         CMBS   \n",
       "91        Deutsche Bank Trust Co Americas         CMBS   \n",
       "415       Deutsche Bank Trust Co Americas         CMBS   \n",
       "1149      Deutsche Bank Trust Co Americas         CMBS   \n",
       "1828      Deutsche Bank Trust Co Americas         CMBS   \n",
       "2108      Deutsche Bank Trust Co Americas         CMBS   \n",
       "2109      Deutsche Bank Trust Co Americas         CMBS   \n",
       "2225      Deutsche Bank Trust Co Americas         CMBS   \n",
       "2299      Deutsche Bank Trust Co Americas         CMBS   \n",
       "2304      Deutsche Bank Trust Co Americas         CMBS   \n",
       "2668                     Whisler Walter C          NaN   \n",
       "3213      Deutsche Bank Trust Co Americas         CMBS   \n",
       "3295      Deutsche Bank Trust Co Americas         CMBS   \n",
       "3381      Deutsche Bank Trust Co Americas         CMBS   \n",
       "3052                  Wells Fargo Bank Na         Bank   \n",
       "\n",
       "                                      Reported Owner  \n",
       "217                        Equinox Capital Group Llc  \n",
       "457                   William P Lilley, Jon P Lilley  \n",
       "1314                   Canton Road Garden Center Inc  \n",
       "2352                            Richard J Nardecchia  \n",
       "2830                                 Floyd E Gillott  \n",
       "89                  Dale Broadrick, Cheryl Broadrick  \n",
       "91                                       Holly Stump  \n",
       "415                                   Hsiao Chon Mar  \n",
       "1149                                  My People Feed  \n",
       "1828                               Time Equities Inc  \n",
       "2108                             Sjl Development Llc  \n",
       "2109                             Sjl Development Llc  \n",
       "2225                                    Vliet 27 Llc  \n",
       "2299                              Lynne H Boatwright  \n",
       "2304                       Spp Sunwest Portfolio Llc  \n",
       "2668                               Worlds Of Fun Llc  \n",
       "3213                                  Marital Creitz  \n",
       "3295                              6914 Foster Rd Llc  \n",
       "3381                                   Mehri Gaspeed  \n",
       "3052  Hamer R/E Holding Iii Llc, B & G Food Ents Llc  "
      ]
     },
     "execution_count": 334,
     "metadata": {},
     "output_type": "execute_result"
    }
   ],
   "source": [
    "loans_df.nlargest(20,'Mortgage Amount')"
   ]
  },
  {
   "cell_type": "code",
   "execution_count": 358,
   "metadata": {},
   "outputs": [
    {
     "data": {
      "text/plain": [
       "1004977737.7787234"
      ]
     },
     "execution_count": 358,
     "metadata": {},
     "output_type": "execute_result"
    }
   ],
   "source": [
    "cmbs['Mortgage Amount'].mean()"
   ]
  },
  {
   "cell_type": "code",
   "execution_count": 337,
   "metadata": {},
   "outputs": [
    {
     "data": {
      "text/plain": [
       "<matplotlib.axes._subplots.AxesSubplot at 0x7fe699f50c50>"
      ]
     },
     "execution_count": 337,
     "metadata": {},
     "output_type": "execute_result"
    },
    {
     "data": {
      "image/png": "[encoded data removed]",
      "text/plain": [
       "<Figure size 576x396 with 1 Axes>"
      ]
     },
     "metadata": {},
     "output_type": "display_data"
    }
   ],
   "source": [
    "sns.lineplot(x=cmbs['Last Mortgage'], y=cmbs['Mortgage Amount'])"
   ]
  },
  {
   "cell_type": "code",
   "execution_count": 338,
   "metadata": {},
   "outputs": [],
   "source": [
    "banks = loans_df[loans_df['Lender\\nType'] == 'Bank']"
   ]
  },
  {
   "cell_type": "code",
   "execution_count": 359,
   "metadata": {},
   "outputs": [
    {
     "data": {
      "text/plain": [
       "59997830.17553018"
      ]
     },
     "execution_count": 359,
     "metadata": {},
     "output_type": "execute_result"
    }
   ],
   "source": [
    "banks['Mortgage Amount'].mean()"
   ]
  },
  {
   "cell_type": "code",
   "execution_count": 347,
   "metadata": {},
   "outputs": [],
   "source": [
    "reduced = loans_df[['Last Mortgage','Mortgage Amount', 'Lender\\nType']]"
   ]
  },
  {
   "cell_type": "code",
   "execution_count": 351,
   "metadata": {},
   "outputs": [],
   "source": [
    "date = reduced['Last Mortgage']\n",
    "amt = reduced['Mortgage Amount']\n",
    "kind = reduced['Lender\\nType']"
   ]
  },
  {
   "cell_type": "code",
   "execution_count": 362,
   "metadata": {},
   "outputs": [],
   "source": [
    "loans_df['month_year'] = loans_df['Last Mortgage'].dt.to_period('M')"
   ]
  },
  {
   "cell_type": "code",
   "execution_count": 383,
   "metadata": {},
   "outputs": [],
   "source": [
    "x = loans_df.groupby(['month_year','Lender\\nType'])['Mortgage Amount'].std()"
   ]
  },
  {
   "cell_type": "code",
   "execution_count": 390,
   "metadata": {},
   "outputs": [],
   "source": [
    "x_newx = x.reset_index()"
   ]
  },
  {
   "cell_type": "code",
   "execution_count": 391,
   "metadata": {},
   "outputs": [],
   "source": [
    "x_banks = x_newx[x_newx['Lender\\nType'] == 'Bank']"
   ]
  },
  {
   "cell_type": "code",
   "execution_count": 394,
   "metadata": {},
   "outputs": [
    {
     "data": {
      "text/html": [
       "<div>\n",
       "<style scoped>\n",
       "    .dataframe tbody tr th:only-of-type {\n",
       "        vertical-align: middle;\n",
       "    }\n",
       "\n",
       "    .dataframe tbody tr th {\n",
       "        vertical-align: top;\n",
       "    }\n",
       "\n",
       "    .dataframe thead th {\n",
       "        text-align: right;\n",
       "    }\n",
       "</style>\n",
       "<table border=\"1\" class=\"dataframe\">\n",
       "  <thead>\n",
       "    <tr style=\"text-align: right;\">\n",
       "      <th></th>\n",
       "      <th>month_year</th>\n",
       "      <th>Lender\\nType</th>\n",
       "      <th>Mortgage Amount</th>\n",
       "    </tr>\n",
       "  </thead>\n",
       "  <tbody>\n",
       "    <tr>\n",
       "      <th>1</th>\n",
       "      <td>2020-02</td>\n",
       "      <td>Bank</td>\n",
       "      <td>27352548.94</td>\n",
       "    </tr>\n",
       "    <tr>\n",
       "      <th>6</th>\n",
       "      <td>2020-03</td>\n",
       "      <td>Bank</td>\n",
       "      <td>204462567.40</td>\n",
       "    </tr>\n",
       "    <tr>\n",
       "      <th>15</th>\n",
       "      <td>2020-04</td>\n",
       "      <td>Bank</td>\n",
       "      <td>229413120.80</td>\n",
       "    </tr>\n",
       "    <tr>\n",
       "      <th>25</th>\n",
       "      <td>2020-05</td>\n",
       "      <td>Bank</td>\n",
       "      <td>276254657.93</td>\n",
       "    </tr>\n",
       "    <tr>\n",
       "      <th>34</th>\n",
       "      <td>2020-06</td>\n",
       "      <td>Bank</td>\n",
       "      <td>174646523.38</td>\n",
       "    </tr>\n",
       "    <tr>\n",
       "      <th>41</th>\n",
       "      <td>2020-07</td>\n",
       "      <td>Bank</td>\n",
       "      <td>89244720.11</td>\n",
       "    </tr>\n",
       "    <tr>\n",
       "      <th>47</th>\n",
       "      <td>2020-08</td>\n",
       "      <td>Bank</td>\n",
       "      <td>25405522.84</td>\n",
       "    </tr>\n",
       "  </tbody>\n",
       "</table>\n",
       "</div>"
      ],
      "text/plain": [
       "   month_year Lender\\nType  Mortgage Amount\n",
       "1     2020-02         Bank      27352548.94\n",
       "6     2020-03         Bank     204462567.40\n",
       "15    2020-04         Bank     229413120.80\n",
       "25    2020-05         Bank     276254657.93\n",
       "34    2020-06         Bank     174646523.38\n",
       "41    2020-07         Bank      89244720.11\n",
       "47    2020-08         Bank      25405522.84"
      ]
     },
     "execution_count": 394,
     "metadata": {},
     "output_type": "execute_result"
    }
   ],
   "source": [
    "x_banks"
   ]
  },
  {
   "cell_type": "code",
   "execution_count": 395,
   "metadata": {},
   "outputs": [],
   "source": [
    "x_cmbs =  x_newx[x_newx['Lender\\nType'] == 'CMBS']"
   ]
  },
  {
   "cell_type": "code",
   "execution_count": 401,
   "metadata": {},
   "outputs": [],
   "source": [
    "std_values_over_time = x_cmbs['Mortgage Amount'].values / 1000000"
   ]
  },
  {
   "cell_type": "code",
   "execution_count": 407,
   "metadata": {},
   "outputs": [
    {
     "data": {
      "image/png": "[encoded data removed]",
      "text/plain": [
       "<Figure size 576x396 with 1 Axes>"
      ]
     },
     "metadata": {},
     "output_type": "display_data"
    }
   ],
   "source": [
    "plt.plot(std_values_over_time)\n",
    "plt.plot()\n",
    "plt.ylabel('Value in Millions USD')\n",
    "plt.xlabel('Months Since February')\n",
    "plt.title('Standard Deviation of Mortgage Amount for CMBS Transactions')\n",
    "plt.savefig('std_cmbs')"
   ]
  },
  {
   "cell_type": "code",
   "execution_count": null,
   "metadata": {},
   "outputs": [],
   "source": []
  }
 ],
 "metadata": {
  "kernelspec": {
   "display_name": "Python 3",
   "language": "python",
   "name": "python3"
  },
  "language_info": {
   "codemirror_mode": {
    "name": "ipython",
    "version": 3
   },
   "file_extension": ".py",
   "mimetype": "text/x-python",
   "name": "python",
   "nbconvert_exporter": "python",
   "pygments_lexer": "ipython3",
   "version": "3.7.6"
  },
  "varInspector": {
   "cols": {
    "lenName": 16,
    "lenType": 16,
    "lenVar": 40
   },
   "kernels_config": {
    "python": {
     "delete_cmd_postfix": "",
     "delete_cmd_prefix": "del ",
     "library": "var_list.py",
     "varRefreshCmd": "print(var_dic_list())"
    },
    "r": {
     "delete_cmd_postfix": ") ",
     "delete_cmd_prefix": "rm(",
     "library": "var_list.r",
     "varRefreshCmd": "cat(var_dic_list()) "
    }
   },
   "types_to_exclude": [
    "module",
    "function",
    "builtin_function_or_method",
    "instance",
    "_Feature"
   ],
   "window_display": false
  }
 },
 "nbformat": 4,
 "nbformat_minor": 4
}
