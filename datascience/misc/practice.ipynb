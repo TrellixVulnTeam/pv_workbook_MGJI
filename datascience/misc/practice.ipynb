{
 "cells": [
  {
   "cell_type": "code",
   "execution_count": 90,
   "metadata": {},
   "outputs": [],
   "source": [
    "import pandas as pd\n",
    "import seaborn as sns\n",
    "import numpy as np"
   ]
  },
  {
   "cell_type": "code",
   "execution_count": 91,
   "metadata": {},
   "outputs": [
    {
     "data": {
      "text/plain": [
       "Index(['Aura', 'Alma Mater', 'Name', 'A', 'B', 'C', 'D', 'Tag', 'Experience',\n",
       "       'Dissertation'],\n",
       "      dtype='object')"
      ]
     },
     "execution_count": 91,
     "metadata": {},
     "output_type": "execute_result"
    }
   ],
   "source": [
    "df = pd.read_pickle('practice.pkl')\n",
    "df = df.reset_index()\n",
    "df.columns"
   ]
  },
  {
   "cell_type": "markdown",
   "metadata": {},
   "source": [
    "Are Yale graduates more well-rounded than Texas? We can define well-rounded as being above X threshold in all four categories and having consistent standard deviations."
   ]
  },
  {
   "cell_type": "code",
   "execution_count": 92,
   "metadata": {},
   "outputs": [],
   "source": [
    "tx_or_yale = df[df['Alma Mater'].isin(['Texas', 'Yale'])]"
   ]
  },
  {
   "cell_type": "code",
   "execution_count": 93,
   "metadata": {},
   "outputs": [
    {
     "data": {
      "text/plain": [
       "<matplotlib.axes._subplots.AxesSubplot at 0x7f903d380710>"
      ]
     },
     "execution_count": 93,
     "metadata": {},
     "output_type": "execute_result"
    },
    {
     "data": {
      "image/png": "[encoded data removed]",
      "text/plain": [
       "<Figure size 432x288 with 1 Axes>"
      ]
     },
     "metadata": {
      "needs_background": "light"
     },
     "output_type": "display_data"
    }
   ],
   "source": [
    "sns.boxplot(x=tx_or_yale['Alma Mater'],y=tx_or_yale['A'],data=tx_or_yale)"
   ]
  },
  {
   "cell_type": "code",
   "execution_count": 94,
   "metadata": {},
   "outputs": [
    {
     "data": {
      "text/plain": [
       "<matplotlib.axes._subplots.AxesSubplot at 0x7f903e253710>"
      ]
     },
     "execution_count": 94,
     "metadata": {},
     "output_type": "execute_result"
    },
    {
     "data": {
      "image/png": "[encoded data removed]",
      "text/plain": [
       "<Figure size 432x288 with 1 Axes>"
      ]
     },
     "metadata": {
      "needs_background": "light"
     },
     "output_type": "display_data"
    }
   ],
   "source": [
    "sns.boxplot(x=tx_or_yale['Alma Mater'],y=tx_or_yale['B'],data=tx_or_yale)"
   ]
  },
  {
   "cell_type": "code",
   "execution_count": 95,
   "metadata": {},
   "outputs": [
    {
     "data": {
      "text/plain": [
       "<matplotlib.axes._subplots.AxesSubplot at 0x7f903e2e0c50>"
      ]
     },
     "execution_count": 95,
     "metadata": {},
     "output_type": "execute_result"
    },
    {
     "data": {
      "image/png": "[encoded data removed]",
      "text/plain": [
       "<Figure size 432x288 with 1 Axes>"
      ]
     },
     "metadata": {
      "needs_background": "light"
     },
     "output_type": "display_data"
    }
   ],
   "source": [
    "sns.boxplot(x=tx_or_yale['Alma Mater'],y=tx_or_yale['C'],data=tx_or_yale)"
   ]
  },
  {
   "cell_type": "code",
   "execution_count": 96,
   "metadata": {},
   "outputs": [
    {
     "data": {
      "text/plain": [
       "<matplotlib.axes._subplots.AxesSubplot at 0x7f9050e46090>"
      ]
     },
     "execution_count": 96,
     "metadata": {},
     "output_type": "execute_result"
    },
    {
     "data": {
      "image/png": "[encoded data removed]",
      "text/plain": [
       "<Figure size 432x288 with 1 Axes>"
      ]
     },
     "metadata": {
      "needs_background": "light"
     },
     "output_type": "display_data"
    }
   ],
   "source": [
    "sns.boxplot(x=tx_or_yale['Alma Mater'],y=tx_or_yale['D'],data=tx_or_yale)"
   ]
  },
  {
   "cell_type": "code",
   "execution_count": 97,
   "metadata": {},
   "outputs": [],
   "source": [
    "dumb = tx_or_yale.groupby('Aura').mean()"
   ]
  },
  {
   "cell_type": "code",
   "execution_count": 98,
   "metadata": {},
   "outputs": [
    {
     "name": "stderr",
     "output_type": "stream",
     "text": [
      "/Users/toddhendricks/miniconda3/lib/python3.7/site-packages/ipykernel_launcher.py:1: FutureWarning: Indexing with multiple keys (implicitly converted to a tuple of keys) will be deprecated, use a list instead.\n",
      "  \"\"\"Entry point for launching an IPython kernel.\n"
     ]
    },
    {
     "data": {
      "text/html": [
       "<div>\n",
       "<style scoped>\n",
       "    .dataframe tbody tr th:only-of-type {\n",
       "        vertical-align: middle;\n",
       "    }\n",
       "\n",
       "    .dataframe tbody tr th {\n",
       "        vertical-align: top;\n",
       "    }\n",
       "\n",
       "    .dataframe thead th {\n",
       "        text-align: right;\n",
       "    }\n",
       "</style>\n",
       "<table border=\"1\" class=\"dataframe\">\n",
       "  <thead>\n",
       "    <tr style=\"text-align: right;\">\n",
       "      <th></th>\n",
       "      <th>A</th>\n",
       "    </tr>\n",
       "    <tr>\n",
       "      <th>Alma Mater</th>\n",
       "      <th></th>\n",
       "    </tr>\n",
       "  </thead>\n",
       "  <tbody>\n",
       "    <tr>\n",
       "      <th>Texas</th>\n",
       "      <td>28.247328</td>\n",
       "    </tr>\n",
       "    <tr>\n",
       "      <th>Yale</th>\n",
       "      <td>29.131017</td>\n",
       "    </tr>\n",
       "  </tbody>\n",
       "</table>\n",
       "</div>"
      ],
      "text/plain": [
       "                    A\n",
       "Alma Mater           \n",
       "Texas       28.247328\n",
       "Yale        29.131017"
      ]
     },
     "execution_count": 98,
     "metadata": {},
     "output_type": "execute_result"
    }
   ],
   "source": [
    "tx_or_yale.groupby('Alma Mater')['A', 'B', 'C', 'D'].aggregate(np.std)"
   ]
  },
  {
   "cell_type": "code",
   "execution_count": 100,
   "metadata": {},
   "outputs": [
    {
     "data": {
      "text/html": [
       "<div>\n",
       "<style scoped>\n",
       "    .dataframe tbody tr th:only-of-type {\n",
       "        vertical-align: middle;\n",
       "    }\n",
       "\n",
       "    .dataframe tbody tr th {\n",
       "        vertical-align: top;\n",
       "    }\n",
       "\n",
       "    .dataframe thead th {\n",
       "        text-align: right;\n",
       "    }\n",
       "</style>\n",
       "<table border=\"1\" class=\"dataframe\">\n",
       "  <thead>\n",
       "    <tr style=\"text-align: right;\">\n",
       "      <th></th>\n",
       "      <th>Aura</th>\n",
       "      <th>Alma Mater</th>\n",
       "      <th>Name</th>\n",
       "      <th>A</th>\n",
       "      <th>B</th>\n",
       "      <th>C</th>\n",
       "      <th>D</th>\n",
       "      <th>Tag</th>\n",
       "      <th>Experience</th>\n",
       "      <th>Dissertation</th>\n",
       "    </tr>\n",
       "  </thead>\n",
       "  <tbody>\n",
       "    <tr>\n",
       "      <th>2</th>\n",
       "      <td>Emerald</td>\n",
       "      <td>Yale</td>\n",
       "      <td>Troy Long</td>\n",
       "      <td>59.985476</td>\n",
       "      <td>83.3567</td>\n",
       "      <td>83.5888</td>\n",
       "      <td>88.0922</td>\n",
       "      <td>synergize intuitive e-business</td>\n",
       "      <td>11</td>\n",
       "      <td>Eye simple industry grow.</td>\n",
       "    </tr>\n",
       "    <tr>\n",
       "      <th>5</th>\n",
       "      <td>Emerald</td>\n",
       "      <td>Yale</td>\n",
       "      <td>Mackenzie Brown</td>\n",
       "      <td>55.099464</td>\n",
       "      <td>24.2778</td>\n",
       "      <td>29.1089</td>\n",
       "      <td>52.304</td>\n",
       "      <td>morph killer solutions</td>\n",
       "      <td>11</td>\n",
       "      <td>Yet own discover prevent tree.</td>\n",
       "    </tr>\n",
       "    <tr>\n",
       "      <th>7</th>\n",
       "      <td>Gold</td>\n",
       "      <td>Texas</td>\n",
       "      <td>James Oconnor</td>\n",
       "      <td>34.111862</td>\n",
       "      <td>11.4615</td>\n",
       "      <td>83.0293</td>\n",
       "      <td>85.5472</td>\n",
       "      <td>re-intermediate wireless infrastructures</td>\n",
       "      <td>3</td>\n",
       "      <td>Rise for small right travel force direction.</td>\n",
       "    </tr>\n",
       "    <tr>\n",
       "      <th>9</th>\n",
       "      <td>Beige</td>\n",
       "      <td>Texas</td>\n",
       "      <td>Autumn Pena</td>\n",
       "      <td>19.616296</td>\n",
       "      <td>91.299</td>\n",
       "      <td>77.2333</td>\n",
       "      <td>38.056</td>\n",
       "      <td>strategize rich e-services</td>\n",
       "      <td>14</td>\n",
       "      <td>Better expect across condition window member.</td>\n",
       "    </tr>\n",
       "    <tr>\n",
       "      <th>18</th>\n",
       "      <td>Bronze</td>\n",
       "      <td>Texas</td>\n",
       "      <td>Erin Schwartz</td>\n",
       "      <td>73.162647</td>\n",
       "      <td>87.7787</td>\n",
       "      <td>50.0426</td>\n",
       "      <td>73.8476</td>\n",
       "      <td>architect end-to-end networks</td>\n",
       "      <td>14</td>\n",
       "      <td>Represent some it own watch design.</td>\n",
       "    </tr>\n",
       "    <tr>\n",
       "      <th>...</th>\n",
       "      <td>...</td>\n",
       "      <td>...</td>\n",
       "      <td>...</td>\n",
       "      <td>...</td>\n",
       "      <td>...</td>\n",
       "      <td>...</td>\n",
       "      <td>...</td>\n",
       "      <td>...</td>\n",
       "      <td>...</td>\n",
       "      <td>...</td>\n",
       "    </tr>\n",
       "    <tr>\n",
       "      <th>972</th>\n",
       "      <td>Beige</td>\n",
       "      <td>Yale</td>\n",
       "      <td>Patricia Smith</td>\n",
       "      <td>89.685249</td>\n",
       "      <td>49.6206</td>\n",
       "      <td>27.4081</td>\n",
       "      <td>68.2645</td>\n",
       "      <td>syndicate back-end architectures</td>\n",
       "      <td>11</td>\n",
       "      <td>Out land traditional buy class mission.</td>\n",
       "    </tr>\n",
       "    <tr>\n",
       "      <th>982</th>\n",
       "      <td>Indigo</td>\n",
       "      <td>Texas</td>\n",
       "      <td>Brendan Russell</td>\n",
       "      <td>87.693774</td>\n",
       "      <td>55.8134</td>\n",
       "      <td>3.93419</td>\n",
       "      <td>76.7973</td>\n",
       "      <td>unleash plug-and-play initiatives</td>\n",
       "      <td>10</td>\n",
       "      <td>Of quite pick region cell follow miss.</td>\n",
       "    </tr>\n",
       "    <tr>\n",
       "      <th>988</th>\n",
       "      <td>Black</td>\n",
       "      <td>Texas</td>\n",
       "      <td>Natasha King</td>\n",
       "      <td>22.757794</td>\n",
       "      <td>80.7091</td>\n",
       "      <td>77.4552</td>\n",
       "      <td>50.1867</td>\n",
       "      <td>extend customized supply-chains</td>\n",
       "      <td>11</td>\n",
       "      <td>Hospital most member standard.</td>\n",
       "    </tr>\n",
       "    <tr>\n",
       "      <th>989</th>\n",
       "      <td>Infrared</td>\n",
       "      <td>Texas</td>\n",
       "      <td>Robert Marshall</td>\n",
       "      <td>31.690329</td>\n",
       "      <td>49.8406</td>\n",
       "      <td>60.7523</td>\n",
       "      <td>29.023</td>\n",
       "      <td>facilitate proactive web-readiness</td>\n",
       "      <td>5</td>\n",
       "      <td>Run series include unit table policy.</td>\n",
       "    </tr>\n",
       "    <tr>\n",
       "      <th>993</th>\n",
       "      <td>Infrared</td>\n",
       "      <td>Texas</td>\n",
       "      <td>Mary Arnold</td>\n",
       "      <td>90.914788</td>\n",
       "      <td>58.6863</td>\n",
       "      <td>97.4075</td>\n",
       "      <td>2.89471</td>\n",
       "      <td>redefine 24/365 metrics</td>\n",
       "      <td>7</td>\n",
       "      <td>Address already social effort.</td>\n",
       "    </tr>\n",
       "  </tbody>\n",
       "</table>\n",
       "<p>152 rows × 10 columns</p>\n",
       "</div>"
      ],
      "text/plain": [
       "         Aura Alma Mater             Name          A        B        C  \\\n",
       "2     Emerald       Yale        Troy Long  59.985476  83.3567  83.5888   \n",
       "5     Emerald       Yale  Mackenzie Brown  55.099464  24.2778  29.1089   \n",
       "7        Gold      Texas    James Oconnor  34.111862  11.4615  83.0293   \n",
       "9       Beige      Texas      Autumn Pena  19.616296   91.299  77.2333   \n",
       "18     Bronze      Texas    Erin Schwartz  73.162647  87.7787  50.0426   \n",
       "..        ...        ...              ...        ...      ...      ...   \n",
       "972     Beige       Yale   Patricia Smith  89.685249  49.6206  27.4081   \n",
       "982    Indigo      Texas  Brendan Russell  87.693774  55.8134  3.93419   \n",
       "988     Black      Texas     Natasha King  22.757794  80.7091  77.4552   \n",
       "989  Infrared      Texas  Robert Marshall  31.690329  49.8406  60.7523   \n",
       "993  Infrared      Texas      Mary Arnold  90.914788  58.6863  97.4075   \n",
       "\n",
       "           D                                       Tag Experience  \\\n",
       "2    88.0922            synergize intuitive e-business         11   \n",
       "5     52.304                    morph killer solutions         11   \n",
       "7    85.5472  re-intermediate wireless infrastructures          3   \n",
       "9     38.056                strategize rich e-services         14   \n",
       "18   73.8476             architect end-to-end networks         14   \n",
       "..       ...                                       ...        ...   \n",
       "972  68.2645          syndicate back-end architectures         11   \n",
       "982  76.7973         unleash plug-and-play initiatives         10   \n",
       "988  50.1867           extend customized supply-chains         11   \n",
       "989   29.023        facilitate proactive web-readiness          5   \n",
       "993  2.89471                   redefine 24/365 metrics          7   \n",
       "\n",
       "                                      Dissertation  \n",
       "2                        Eye simple industry grow.  \n",
       "5                   Yet own discover prevent tree.  \n",
       "7     Rise for small right travel force direction.  \n",
       "9    Better expect across condition window member.  \n",
       "18             Represent some it own watch design.  \n",
       "..                                             ...  \n",
       "972        Out land traditional buy class mission.  \n",
       "982         Of quite pick region cell follow miss.  \n",
       "988                 Hospital most member standard.  \n",
       "989          Run series include unit table policy.  \n",
       "993                 Address already social effort.  \n",
       "\n",
       "[152 rows x 10 columns]"
      ]
     },
     "execution_count": 100,
     "metadata": {},
     "output_type": "execute_result"
    }
   ],
   "source": [
    "tx_or_yale"
   ]
  },
  {
   "cell_type": "code",
   "execution_count": 115,
   "metadata": {},
   "outputs": [],
   "source": [
    "school = tx_or_yale.groupby(by=['Alma Mater'])"
   ]
  },
  {
   "cell_type": "code",
   "execution_count": 114,
   "metadata": {},
   "outputs": [
    {
     "name": "stdout",
     "output_type": "stream",
     "text": [
      "A\n"
     ]
    }
   ],
   "source": []
  },
  {
   "cell_type": "code",
   "execution_count": null,
   "metadata": {},
   "outputs": [],
   "source": []
  }
 ],
 "metadata": {
  "kernelspec": {
   "display_name": "Python 3",
   "language": "python",
   "name": "python3"
  },
  "language_info": {
   "codemirror_mode": {
    "name": "ipython",
    "version": 3
   },
   "file_extension": ".py",
   "mimetype": "text/x-python",
   "name": "python",
   "nbconvert_exporter": "python",
   "pygments_lexer": "ipython3",
   "version": "3.7.6"
  },
  "varInspector": {
   "cols": {
    "lenName": 16,
    "lenType": 16,
    "lenVar": 40
   },
   "kernels_config": {
    "python": {
     "delete_cmd_postfix": "",
     "delete_cmd_prefix": "del ",
     "library": "var_list.py",
     "varRefreshCmd": "print(var_dic_list())"
    },
    "r": {
     "delete_cmd_postfix": ") ",
     "delete_cmd_prefix": "rm(",
     "library": "var_list.r",
     "varRefreshCmd": "cat(var_dic_list()) "
    }
   },
   "types_to_exclude": [
    "module",
    "function",
    "builtin_function_or_method",
    "instance",
    "_Feature"
   ],
   "window_display": false
  }
 },
 "nbformat": 4,
 "nbformat_minor": 4
}
