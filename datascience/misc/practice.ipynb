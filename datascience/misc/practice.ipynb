{
 "cells": [
  {
   "cell_type": "code",
   "execution_count": 141,
   "metadata": {},
   "outputs": [],
   "source": [
    "import pandas as pd\n",
    "import seaborn as sns\n",
    "import numpy as np"
   ]
  },
  {
   "cell_type": "code",
   "execution_count": 142,
   "metadata": {},
   "outputs": [
    {
     "data": {
      "text/plain": [
       "Index(['Aura', 'Alma Mater', 'Name', 'A', 'B', 'C', 'D', 'Tag', 'Experience',\n",
       "       'Dissertation'],\n",
       "      dtype='object')"
      ]
     },
     "execution_count": 142,
     "metadata": {},
     "output_type": "execute_result"
    }
   ],
   "source": [
    "df = pd.read_pickle('practice.pkl')\n",
    "df = df.reset_index()\n",
    "df.columns"
   ]
  },
  {
   "cell_type": "markdown",
   "metadata": {},
   "source": [
    "Are Yale graduates more well-rounded than Texas? We can define well-rounded as being above X threshold in all four categories and having consistent standard deviations."
   ]
  },
  {
   "cell_type": "code",
   "execution_count": 143,
   "metadata": {},
   "outputs": [],
   "source": [
    "tx_or_yale = df[df['Alma Mater'].isin(['Texas', 'Yale'])]"
   ]
  },
  {
   "cell_type": "code",
   "execution_count": 144,
   "metadata": {},
   "outputs": [
    {
     "data": {
      "text/plain": [
       "<matplotlib.axes._subplots.AxesSubplot at 0x7f903a6e1790>"
      ]
     },
     "execution_count": 144,
     "metadata": {},
     "output_type": "execute_result"
    },
    {
     "data": {
      "image/png": "[encoded data removed]",
      "text/plain": [
       "<Figure size 432x288 with 1 Axes>"
      ]
     },
     "metadata": {
      "needs_background": "light"
     },
     "output_type": "display_data"
    }
   ],
   "source": [
    "sns.boxplot(x=tx_or_yale['Alma Mater'],y=tx_or_yale['A'],data=tx_or_yale)"
   ]
  },
  {
   "cell_type": "code",
   "execution_count": 145,
   "metadata": {},
   "outputs": [
    {
     "data": {
      "text/plain": [
       "<matplotlib.axes._subplots.AxesSubplot at 0x7f903a54cdd0>"
      ]
     },
     "execution_count": 145,
     "metadata": {},
     "output_type": "execute_result"
    },
    {
     "data": {
      "image/png": "[encoded data removed]",
      "text/plain": [
       "<Figure size 432x288 with 1 Axes>"
      ]
     },
     "metadata": {
      "needs_background": "light"
     },
     "output_type": "display_data"
    }
   ],
   "source": [
    "sns.boxplot(x=tx_or_yale['Alma Mater'],y=tx_or_yale['B'],data=tx_or_yale)"
   ]
  },
  {
   "cell_type": "code",
   "execution_count": 146,
   "metadata": {},
   "outputs": [
    {
     "data": {
      "text/plain": [
       "<matplotlib.axes._subplots.AxesSubplot at 0x7f903ca2c810>"
      ]
     },
     "execution_count": 146,
     "metadata": {},
     "output_type": "execute_result"
    },
    {
     "data": {
      "image/png": "[encoded data removed]",
      "text/plain": [
       "<Figure size 432x288 with 1 Axes>"
      ]
     },
     "metadata": {
      "needs_background": "light"
     },
     "output_type": "display_data"
    }
   ],
   "source": [
    "sns.boxplot(x=tx_or_yale['Alma Mater'],y=tx_or_yale['C'],data=tx_or_yale)"
   ]
  },
  {
   "cell_type": "code",
   "execution_count": 147,
   "metadata": {},
   "outputs": [
    {
     "data": {
      "text/plain": [
       "<matplotlib.axes._subplots.AxesSubplot at 0x7f904ed8bed0>"
      ]
     },
     "execution_count": 147,
     "metadata": {},
     "output_type": "execute_result"
    },
    {
     "data": {
      "image/png": "[encoded data removed]",
      "text/plain": [
       "<Figure size 432x288 with 1 Axes>"
      ]
     },
     "metadata": {
      "needs_background": "light"
     },
     "output_type": "display_data"
    }
   ],
   "source": [
    "sns.boxplot(x=tx_or_yale['Alma Mater'],y=tx_or_yale['D'],data=tx_or_yale)"
   ]
  },
  {
   "cell_type": "code",
   "execution_count": 148,
   "metadata": {},
   "outputs": [],
   "source": [
    "dumb = tx_or_yale.groupby('Aura').mean()"
   ]
  },
  {
   "cell_type": "code",
   "execution_count": 149,
   "metadata": {},
   "outputs": [
    {
     "name": "stderr",
     "output_type": "stream",
     "text": [
      "/Users/toddhendricks/miniconda3/lib/python3.7/site-packages/ipykernel_launcher.py:1: FutureWarning: Indexing with multiple keys (implicitly converted to a tuple of keys) will be deprecated, use a list instead.\n",
      "  \"\"\"Entry point for launching an IPython kernel.\n"
     ]
    },
    {
     "data": {
      "text/html": [
       "<div>\n",
       "<style scoped>\n",
       "    .dataframe tbody tr th:only-of-type {\n",
       "        vertical-align: middle;\n",
       "    }\n",
       "\n",
       "    .dataframe tbody tr th {\n",
       "        vertical-align: top;\n",
       "    }\n",
       "\n",
       "    .dataframe thead th {\n",
       "        text-align: right;\n",
       "    }\n",
       "</style>\n",
       "<table border=\"1\" class=\"dataframe\">\n",
       "  <thead>\n",
       "    <tr style=\"text-align: right;\">\n",
       "      <th></th>\n",
       "      <th>A</th>\n",
       "    </tr>\n",
       "    <tr>\n",
       "      <th>Alma Mater</th>\n",
       "      <th></th>\n",
       "    </tr>\n",
       "  </thead>\n",
       "  <tbody>\n",
       "    <tr>\n",
       "      <th>Texas</th>\n",
       "      <td>28.247328</td>\n",
       "    </tr>\n",
       "    <tr>\n",
       "      <th>Yale</th>\n",
       "      <td>29.131017</td>\n",
       "    </tr>\n",
       "  </tbody>\n",
       "</table>\n",
       "</div>"
      ],
      "text/plain": [
       "                    A\n",
       "Alma Mater           \n",
       "Texas       28.247328\n",
       "Yale        29.131017"
      ]
     },
     "execution_count": 149,
     "metadata": {},
     "output_type": "execute_result"
    }
   ],
   "source": [
    "tx_or_yale.groupby('Alma Mater')['A', 'B', 'C', 'D'].aggregate(np.std)"
   ]
  },
  {
   "cell_type": "code",
   "execution_count": 150,
   "metadata": {},
   "outputs": [
    {
     "data": {
      "text/html": [
       "<div>\n",
       "<style scoped>\n",
       "    .dataframe tbody tr th:only-of-type {\n",
       "        vertical-align: middle;\n",
       "    }\n",
       "\n",
       "    .dataframe tbody tr th {\n",
       "        vertical-align: top;\n",
       "    }\n",
       "\n",
       "    .dataframe thead th {\n",
       "        text-align: right;\n",
       "    }\n",
       "</style>\n",
       "<table border=\"1\" class=\"dataframe\">\n",
       "  <thead>\n",
       "    <tr style=\"text-align: right;\">\n",
       "      <th></th>\n",
       "      <th>Aura</th>\n",
       "      <th>Alma Mater</th>\n",
       "      <th>Name</th>\n",
       "      <th>A</th>\n",
       "      <th>B</th>\n",
       "      <th>C</th>\n",
       "      <th>D</th>\n",
       "      <th>Tag</th>\n",
       "      <th>Experience</th>\n",
       "      <th>Dissertation</th>\n",
       "    </tr>\n",
       "  </thead>\n",
       "  <tbody>\n",
       "    <tr>\n",
       "      <th>2</th>\n",
       "      <td>Emerald</td>\n",
       "      <td>Yale</td>\n",
       "      <td>Troy Long</td>\n",
       "      <td>59.985476</td>\n",
       "      <td>83.3567</td>\n",
       "      <td>83.5888</td>\n",
       "      <td>88.0922</td>\n",
       "      <td>synergize intuitive e-business</td>\n",
       "      <td>11</td>\n",
       "      <td>Eye simple industry grow.</td>\n",
       "    </tr>\n",
       "    <tr>\n",
       "      <th>5</th>\n",
       "      <td>Emerald</td>\n",
       "      <td>Yale</td>\n",
       "      <td>Mackenzie Brown</td>\n",
       "      <td>55.099464</td>\n",
       "      <td>24.2778</td>\n",
       "      <td>29.1089</td>\n",
       "      <td>52.304</td>\n",
       "      <td>morph killer solutions</td>\n",
       "      <td>11</td>\n",
       "      <td>Yet own discover prevent tree.</td>\n",
       "    </tr>\n",
       "    <tr>\n",
       "      <th>7</th>\n",
       "      <td>Gold</td>\n",
       "      <td>Texas</td>\n",
       "      <td>James Oconnor</td>\n",
       "      <td>34.111862</td>\n",
       "      <td>11.4615</td>\n",
       "      <td>83.0293</td>\n",
       "      <td>85.5472</td>\n",
       "      <td>re-intermediate wireless infrastructures</td>\n",
       "      <td>3</td>\n",
       "      <td>Rise for small right travel force direction.</td>\n",
       "    </tr>\n",
       "    <tr>\n",
       "      <th>9</th>\n",
       "      <td>Beige</td>\n",
       "      <td>Texas</td>\n",
       "      <td>Autumn Pena</td>\n",
       "      <td>19.616296</td>\n",
       "      <td>91.299</td>\n",
       "      <td>77.2333</td>\n",
       "      <td>38.056</td>\n",
       "      <td>strategize rich e-services</td>\n",
       "      <td>14</td>\n",
       "      <td>Better expect across condition window member.</td>\n",
       "    </tr>\n",
       "    <tr>\n",
       "      <th>18</th>\n",
       "      <td>Bronze</td>\n",
       "      <td>Texas</td>\n",
       "      <td>Erin Schwartz</td>\n",
       "      <td>73.162647</td>\n",
       "      <td>87.7787</td>\n",
       "      <td>50.0426</td>\n",
       "      <td>73.8476</td>\n",
       "      <td>architect end-to-end networks</td>\n",
       "      <td>14</td>\n",
       "      <td>Represent some it own watch design.</td>\n",
       "    </tr>\n",
       "    <tr>\n",
       "      <th>...</th>\n",
       "      <td>...</td>\n",
       "      <td>...</td>\n",
       "      <td>...</td>\n",
       "      <td>...</td>\n",
       "      <td>...</td>\n",
       "      <td>...</td>\n",
       "      <td>...</td>\n",
       "      <td>...</td>\n",
       "      <td>...</td>\n",
       "      <td>...</td>\n",
       "    </tr>\n",
       "    <tr>\n",
       "      <th>972</th>\n",
       "      <td>Beige</td>\n",
       "      <td>Yale</td>\n",
       "      <td>Patricia Smith</td>\n",
       "      <td>89.685249</td>\n",
       "      <td>49.6206</td>\n",
       "      <td>27.4081</td>\n",
       "      <td>68.2645</td>\n",
       "      <td>syndicate back-end architectures</td>\n",
       "      <td>11</td>\n",
       "      <td>Out land traditional buy class mission.</td>\n",
       "    </tr>\n",
       "    <tr>\n",
       "      <th>982</th>\n",
       "      <td>Indigo</td>\n",
       "      <td>Texas</td>\n",
       "      <td>Brendan Russell</td>\n",
       "      <td>87.693774</td>\n",
       "      <td>55.8134</td>\n",
       "      <td>3.93419</td>\n",
       "      <td>76.7973</td>\n",
       "      <td>unleash plug-and-play initiatives</td>\n",
       "      <td>10</td>\n",
       "      <td>Of quite pick region cell follow miss.</td>\n",
       "    </tr>\n",
       "    <tr>\n",
       "      <th>988</th>\n",
       "      <td>Black</td>\n",
       "      <td>Texas</td>\n",
       "      <td>Natasha King</td>\n",
       "      <td>22.757794</td>\n",
       "      <td>80.7091</td>\n",
       "      <td>77.4552</td>\n",
       "      <td>50.1867</td>\n",
       "      <td>extend customized supply-chains</td>\n",
       "      <td>11</td>\n",
       "      <td>Hospital most member standard.</td>\n",
       "    </tr>\n",
       "    <tr>\n",
       "      <th>989</th>\n",
       "      <td>Infrared</td>\n",
       "      <td>Texas</td>\n",
       "      <td>Robert Marshall</td>\n",
       "      <td>31.690329</td>\n",
       "      <td>49.8406</td>\n",
       "      <td>60.7523</td>\n",
       "      <td>29.023</td>\n",
       "      <td>facilitate proactive web-readiness</td>\n",
       "      <td>5</td>\n",
       "      <td>Run series include unit table policy.</td>\n",
       "    </tr>\n",
       "    <tr>\n",
       "      <th>993</th>\n",
       "      <td>Infrared</td>\n",
       "      <td>Texas</td>\n",
       "      <td>Mary Arnold</td>\n",
       "      <td>90.914788</td>\n",
       "      <td>58.6863</td>\n",
       "      <td>97.4075</td>\n",
       "      <td>2.89471</td>\n",
       "      <td>redefine 24/365 metrics</td>\n",
       "      <td>7</td>\n",
       "      <td>Address already social effort.</td>\n",
       "    </tr>\n",
       "  </tbody>\n",
       "</table>\n",
       "<p>152 rows × 10 columns</p>\n",
       "</div>"
      ],
      "text/plain": [
       "         Aura Alma Mater             Name          A        B        C  \\\n",
       "2     Emerald       Yale        Troy Long  59.985476  83.3567  83.5888   \n",
       "5     Emerald       Yale  Mackenzie Brown  55.099464  24.2778  29.1089   \n",
       "7        Gold      Texas    James Oconnor  34.111862  11.4615  83.0293   \n",
       "9       Beige      Texas      Autumn Pena  19.616296   91.299  77.2333   \n",
       "18     Bronze      Texas    Erin Schwartz  73.162647  87.7787  50.0426   \n",
       "..        ...        ...              ...        ...      ...      ...   \n",
       "972     Beige       Yale   Patricia Smith  89.685249  49.6206  27.4081   \n",
       "982    Indigo      Texas  Brendan Russell  87.693774  55.8134  3.93419   \n",
       "988     Black      Texas     Natasha King  22.757794  80.7091  77.4552   \n",
       "989  Infrared      Texas  Robert Marshall  31.690329  49.8406  60.7523   \n",
       "993  Infrared      Texas      Mary Arnold  90.914788  58.6863  97.4075   \n",
       "\n",
       "           D                                       Tag Experience  \\\n",
       "2    88.0922            synergize intuitive e-business         11   \n",
       "5     52.304                    morph killer solutions         11   \n",
       "7    85.5472  re-intermediate wireless infrastructures          3   \n",
       "9     38.056                strategize rich e-services         14   \n",
       "18   73.8476             architect end-to-end networks         14   \n",
       "..       ...                                       ...        ...   \n",
       "972  68.2645          syndicate back-end architectures         11   \n",
       "982  76.7973         unleash plug-and-play initiatives         10   \n",
       "988  50.1867           extend customized supply-chains         11   \n",
       "989   29.023        facilitate proactive web-readiness          5   \n",
       "993  2.89471                   redefine 24/365 metrics          7   \n",
       "\n",
       "                                      Dissertation  \n",
       "2                        Eye simple industry grow.  \n",
       "5                   Yet own discover prevent tree.  \n",
       "7     Rise for small right travel force direction.  \n",
       "9    Better expect across condition window member.  \n",
       "18             Represent some it own watch design.  \n",
       "..                                             ...  \n",
       "972        Out land traditional buy class mission.  \n",
       "982         Of quite pick region cell follow miss.  \n",
       "988                 Hospital most member standard.  \n",
       "989          Run series include unit table policy.  \n",
       "993                 Address already social effort.  \n",
       "\n",
       "[152 rows x 10 columns]"
      ]
     },
     "execution_count": 150,
     "metadata": {},
     "output_type": "execute_result"
    }
   ],
   "source": [
    "tx_or_yale"
   ]
  },
  {
   "cell_type": "code",
   "execution_count": 151,
   "metadata": {},
   "outputs": [],
   "source": [
    "school = tx_or_yale.groupby(by=['Alma Mater'])"
   ]
  },
  {
   "cell_type": "code",
   "execution_count": 152,
   "metadata": {},
   "outputs": [],
   "source": [
    "ired = tx_or_yale.groupby(by=['Aura']).get_group('Infrared')"
   ]
  },
  {
   "cell_type": "code",
   "execution_count": 153,
   "metadata": {},
   "outputs": [
    {
     "data": {
      "text/html": [
       "<div>\n",
       "<style scoped>\n",
       "    .dataframe tbody tr th:only-of-type {\n",
       "        vertical-align: middle;\n",
       "    }\n",
       "\n",
       "    .dataframe tbody tr th {\n",
       "        vertical-align: top;\n",
       "    }\n",
       "\n",
       "    .dataframe thead th {\n",
       "        text-align: right;\n",
       "    }\n",
       "</style>\n",
       "<table border=\"1\" class=\"dataframe\">\n",
       "  <thead>\n",
       "    <tr style=\"text-align: right;\">\n",
       "      <th></th>\n",
       "      <th>Aura</th>\n",
       "      <th>Alma Mater</th>\n",
       "      <th>Name</th>\n",
       "      <th>A</th>\n",
       "      <th>B</th>\n",
       "      <th>C</th>\n",
       "      <th>D</th>\n",
       "      <th>Tag</th>\n",
       "      <th>Experience</th>\n",
       "      <th>Dissertation</th>\n",
       "    </tr>\n",
       "  </thead>\n",
       "  <tbody>\n",
       "    <tr>\n",
       "      <th>70</th>\n",
       "      <td>Infrared</td>\n",
       "      <td>Texas</td>\n",
       "      <td>Michael Brown</td>\n",
       "      <td>33.089453</td>\n",
       "      <td>2.96334</td>\n",
       "      <td>5.96474</td>\n",
       "      <td>72.7911</td>\n",
       "      <td>visualize turn-key platforms</td>\n",
       "      <td>9</td>\n",
       "      <td>Eight if message away back tree film.</td>\n",
       "    </tr>\n",
       "    <tr>\n",
       "      <th>88</th>\n",
       "      <td>Infrared</td>\n",
       "      <td>Texas</td>\n",
       "      <td>Curtis Jennings</td>\n",
       "      <td>37.251541</td>\n",
       "      <td>33.3965</td>\n",
       "      <td>34.4034</td>\n",
       "      <td>73.8279</td>\n",
       "      <td>transform compelling methodologies</td>\n",
       "      <td>10</td>\n",
       "      <td>Both best dark.</td>\n",
       "    </tr>\n",
       "    <tr>\n",
       "      <th>130</th>\n",
       "      <td>Infrared</td>\n",
       "      <td>Yale</td>\n",
       "      <td>Aaron Saunders</td>\n",
       "      <td>45.927522</td>\n",
       "      <td>66.4107</td>\n",
       "      <td>50.4347</td>\n",
       "      <td>22.5539</td>\n",
       "      <td>repurpose vertical schemas</td>\n",
       "      <td>5</td>\n",
       "      <td>Action concern true skill brother practice new.</td>\n",
       "    </tr>\n",
       "    <tr>\n",
       "      <th>180</th>\n",
       "      <td>Infrared</td>\n",
       "      <td>Texas</td>\n",
       "      <td>Sherry Willis</td>\n",
       "      <td>39.959650</td>\n",
       "      <td>12.5889</td>\n",
       "      <td>48.989</td>\n",
       "      <td>24.8989</td>\n",
       "      <td>exploit end-to-end channels</td>\n",
       "      <td>3</td>\n",
       "      <td>Range group despite director nearly compare week.</td>\n",
       "    </tr>\n",
       "    <tr>\n",
       "      <th>196</th>\n",
       "      <td>Infrared</td>\n",
       "      <td>Yale</td>\n",
       "      <td>Ashley Mccarty</td>\n",
       "      <td>4.227730</td>\n",
       "      <td>53.1654</td>\n",
       "      <td>85.943</td>\n",
       "      <td>60.9456</td>\n",
       "      <td>deploy killer platforms</td>\n",
       "      <td>13</td>\n",
       "      <td>Picture social hour garden soon wind.</td>\n",
       "    </tr>\n",
       "    <tr>\n",
       "      <th>363</th>\n",
       "      <td>Infrared</td>\n",
       "      <td>Yale</td>\n",
       "      <td>Mr. Cory Boyer</td>\n",
       "      <td>84.743945</td>\n",
       "      <td>81.6885</td>\n",
       "      <td>26.6788</td>\n",
       "      <td>60.7852</td>\n",
       "      <td>synergize sexy infrastructures</td>\n",
       "      <td>12</td>\n",
       "      <td>Develop represent source six.</td>\n",
       "    </tr>\n",
       "    <tr>\n",
       "      <th>368</th>\n",
       "      <td>Infrared</td>\n",
       "      <td>Texas</td>\n",
       "      <td>James Bennett</td>\n",
       "      <td>88.533479</td>\n",
       "      <td>70.6637</td>\n",
       "      <td>49.586</td>\n",
       "      <td>37.7982</td>\n",
       "      <td>brand web-enabled platforms</td>\n",
       "      <td>14</td>\n",
       "      <td>Partner ahead company fire.</td>\n",
       "    </tr>\n",
       "    <tr>\n",
       "      <th>382</th>\n",
       "      <td>Infrared</td>\n",
       "      <td>Texas</td>\n",
       "      <td>Stephanie Martin</td>\n",
       "      <td>44.392495</td>\n",
       "      <td>30.3399</td>\n",
       "      <td>39.8257</td>\n",
       "      <td>92.4715</td>\n",
       "      <td>iterate ubiquitous web services</td>\n",
       "      <td>13</td>\n",
       "      <td>Step simply office try sport foreign.</td>\n",
       "    </tr>\n",
       "    <tr>\n",
       "      <th>394</th>\n",
       "      <td>Infrared</td>\n",
       "      <td>Texas</td>\n",
       "      <td>Karen Nunez</td>\n",
       "      <td>37.475795</td>\n",
       "      <td>79.724</td>\n",
       "      <td>28.7428</td>\n",
       "      <td>59.5496</td>\n",
       "      <td>engineer 24/7 supply-chains</td>\n",
       "      <td>10</td>\n",
       "      <td>Stay wrong old response store point give rule.</td>\n",
       "    </tr>\n",
       "    <tr>\n",
       "      <th>667</th>\n",
       "      <td>Infrared</td>\n",
       "      <td>Texas</td>\n",
       "      <td>Monica Peters</td>\n",
       "      <td>66.474222</td>\n",
       "      <td>62.7292</td>\n",
       "      <td>25.1151</td>\n",
       "      <td>45.1891</td>\n",
       "      <td>brand world-class mindshare</td>\n",
       "      <td>5</td>\n",
       "      <td>Very economic religious.</td>\n",
       "    </tr>\n",
       "    <tr>\n",
       "      <th>690</th>\n",
       "      <td>Infrared</td>\n",
       "      <td>Yale</td>\n",
       "      <td>Lucas Alexander</td>\n",
       "      <td>52.792282</td>\n",
       "      <td>93.0218</td>\n",
       "      <td>3.52121</td>\n",
       "      <td>63.642</td>\n",
       "      <td>maximize next-generation technologies</td>\n",
       "      <td>3</td>\n",
       "      <td>Teacher practice grow middle throughout letter...</td>\n",
       "    </tr>\n",
       "    <tr>\n",
       "      <th>764</th>\n",
       "      <td>Infrared</td>\n",
       "      <td>Yale</td>\n",
       "      <td>Sharon Hall</td>\n",
       "      <td>42.706308</td>\n",
       "      <td>17.1095</td>\n",
       "      <td>11.9761</td>\n",
       "      <td>67.2535</td>\n",
       "      <td>streamline revolutionary web-readiness</td>\n",
       "      <td>6</td>\n",
       "      <td>Agree describe information drug discover thing...</td>\n",
       "    </tr>\n",
       "    <tr>\n",
       "      <th>815</th>\n",
       "      <td>Infrared</td>\n",
       "      <td>Texas</td>\n",
       "      <td>Lori Lopez</td>\n",
       "      <td>78.368177</td>\n",
       "      <td>16.2307</td>\n",
       "      <td>7.50475</td>\n",
       "      <td>87.0834</td>\n",
       "      <td>generate impactful channels</td>\n",
       "      <td>4</td>\n",
       "      <td>Energy explain student sound of improve.</td>\n",
       "    </tr>\n",
       "    <tr>\n",
       "      <th>948</th>\n",
       "      <td>Infrared</td>\n",
       "      <td>Texas</td>\n",
       "      <td>Todd Cox</td>\n",
       "      <td>59.214756</td>\n",
       "      <td>14.5429</td>\n",
       "      <td>48.5942</td>\n",
       "      <td>4.23875</td>\n",
       "      <td>transform 24/365 communities</td>\n",
       "      <td>3</td>\n",
       "      <td>Parent TV listen learn market.</td>\n",
       "    </tr>\n",
       "    <tr>\n",
       "      <th>968</th>\n",
       "      <td>Infrared</td>\n",
       "      <td>Yale</td>\n",
       "      <td>Drew Mueller</td>\n",
       "      <td>73.530683</td>\n",
       "      <td>70.4692</td>\n",
       "      <td>90.814</td>\n",
       "      <td>87.6818</td>\n",
       "      <td>grow ubiquitous metrics</td>\n",
       "      <td>13</td>\n",
       "      <td>Trial name second.</td>\n",
       "    </tr>\n",
       "    <tr>\n",
       "      <th>989</th>\n",
       "      <td>Infrared</td>\n",
       "      <td>Texas</td>\n",
       "      <td>Robert Marshall</td>\n",
       "      <td>31.690329</td>\n",
       "      <td>49.8406</td>\n",
       "      <td>60.7523</td>\n",
       "      <td>29.023</td>\n",
       "      <td>facilitate proactive web-readiness</td>\n",
       "      <td>5</td>\n",
       "      <td>Run series include unit table policy.</td>\n",
       "    </tr>\n",
       "    <tr>\n",
       "      <th>993</th>\n",
       "      <td>Infrared</td>\n",
       "      <td>Texas</td>\n",
       "      <td>Mary Arnold</td>\n",
       "      <td>90.914788</td>\n",
       "      <td>58.6863</td>\n",
       "      <td>97.4075</td>\n",
       "      <td>2.89471</td>\n",
       "      <td>redefine 24/365 metrics</td>\n",
       "      <td>7</td>\n",
       "      <td>Address already social effort.</td>\n",
       "    </tr>\n",
       "  </tbody>\n",
       "</table>\n",
       "</div>"
      ],
      "text/plain": [
       "         Aura Alma Mater              Name          A        B        C  \\\n",
       "70   Infrared      Texas     Michael Brown  33.089453  2.96334  5.96474   \n",
       "88   Infrared      Texas   Curtis Jennings  37.251541  33.3965  34.4034   \n",
       "130  Infrared       Yale    Aaron Saunders  45.927522  66.4107  50.4347   \n",
       "180  Infrared      Texas     Sherry Willis  39.959650  12.5889   48.989   \n",
       "196  Infrared       Yale    Ashley Mccarty   4.227730  53.1654   85.943   \n",
       "363  Infrared       Yale    Mr. Cory Boyer  84.743945  81.6885  26.6788   \n",
       "368  Infrared      Texas     James Bennett  88.533479  70.6637   49.586   \n",
       "382  Infrared      Texas  Stephanie Martin  44.392495  30.3399  39.8257   \n",
       "394  Infrared      Texas       Karen Nunez  37.475795   79.724  28.7428   \n",
       "667  Infrared      Texas     Monica Peters  66.474222  62.7292  25.1151   \n",
       "690  Infrared       Yale   Lucas Alexander  52.792282  93.0218  3.52121   \n",
       "764  Infrared       Yale       Sharon Hall  42.706308  17.1095  11.9761   \n",
       "815  Infrared      Texas        Lori Lopez  78.368177  16.2307  7.50475   \n",
       "948  Infrared      Texas          Todd Cox  59.214756  14.5429  48.5942   \n",
       "968  Infrared       Yale      Drew Mueller  73.530683  70.4692   90.814   \n",
       "989  Infrared      Texas   Robert Marshall  31.690329  49.8406  60.7523   \n",
       "993  Infrared      Texas       Mary Arnold  90.914788  58.6863  97.4075   \n",
       "\n",
       "           D                                     Tag Experience  \\\n",
       "70   72.7911            visualize turn-key platforms          9   \n",
       "88   73.8279      transform compelling methodologies         10   \n",
       "130  22.5539              repurpose vertical schemas          5   \n",
       "180  24.8989             exploit end-to-end channels          3   \n",
       "196  60.9456                 deploy killer platforms         13   \n",
       "363  60.7852          synergize sexy infrastructures         12   \n",
       "368  37.7982             brand web-enabled platforms         14   \n",
       "382  92.4715         iterate ubiquitous web services         13   \n",
       "394  59.5496             engineer 24/7 supply-chains         10   \n",
       "667  45.1891             brand world-class mindshare          5   \n",
       "690   63.642   maximize next-generation technologies          3   \n",
       "764  67.2535  streamline revolutionary web-readiness          6   \n",
       "815  87.0834             generate impactful channels          4   \n",
       "948  4.23875            transform 24/365 communities          3   \n",
       "968  87.6818                 grow ubiquitous metrics         13   \n",
       "989   29.023      facilitate proactive web-readiness          5   \n",
       "993  2.89471                 redefine 24/365 metrics          7   \n",
       "\n",
       "                                          Dissertation  \n",
       "70               Eight if message away back tree film.  \n",
       "88                                     Both best dark.  \n",
       "130    Action concern true skill brother practice new.  \n",
       "180  Range group despite director nearly compare week.  \n",
       "196              Picture social hour garden soon wind.  \n",
       "363                      Develop represent source six.  \n",
       "368                        Partner ahead company fire.  \n",
       "382              Step simply office try sport foreign.  \n",
       "394     Stay wrong old response store point give rule.  \n",
       "667                           Very economic religious.  \n",
       "690  Teacher practice grow middle throughout letter...  \n",
       "764  Agree describe information drug discover thing...  \n",
       "815           Energy explain student sound of improve.  \n",
       "948                     Parent TV listen learn market.  \n",
       "968                                 Trial name second.  \n",
       "989              Run series include unit table policy.  \n",
       "993                     Address already social effort.  "
      ]
     },
     "execution_count": 153,
     "metadata": {},
     "output_type": "execute_result"
    }
   ],
   "source": [
    "ired"
   ]
  },
  {
   "cell_type": "code",
   "execution_count": 154,
   "metadata": {},
   "outputs": [
    {
     "name": "stderr",
     "output_type": "stream",
     "text": [
      "/Users/toddhendricks/miniconda3/lib/python3.7/site-packages/ipykernel_launcher.py:1: SettingWithCopyWarning: \n",
      "A value is trying to be set on a copy of a slice from a DataFrame.\n",
      "Try using .loc[row_indexer,col_indexer] = value instead\n",
      "\n",
      "See the caveats in the documentation: https://pandas.pydata.org/pandas-docs/stable/user_guide/indexing.html#returning-a-view-versus-a-copy\n",
      "  \"\"\"Entry point for launching an IPython kernel.\n"
     ]
    },
    {
     "data": {
      "text/plain": [
       "Alma Mater\n",
       "Texas    7.545455\n",
       "Yale     8.666667\n",
       "Name: Experience, dtype: float64"
      ]
     },
     "execution_count": 154,
     "metadata": {},
     "output_type": "execute_result"
    }
   ],
   "source": [
    "ired['Experience'] = ired['Experience'].astype(int)\n",
    "ired.groupby(by=['Alma Mater'])['Experience'].mean()"
   ]
  },
  {
   "cell_type": "markdown",
   "metadata": {},
   "source": [
    "Yale is slightly more experienced than Texas"
   ]
  },
  {
   "cell_type": "code",
   "execution_count": 155,
   "metadata": {},
   "outputs": [
    {
     "data": {
      "text/plain": [
       "<matplotlib.axes._subplots.AxesSubplot at 0x7f903a709550>"
      ]
     },
     "execution_count": 155,
     "metadata": {},
     "output_type": "execute_result"
    },
    {
     "data": {
      "image/png": "[encoded data removed]",
      "text/plain": [
       "<Figure size 432x288 with 1 Axes>"
      ]
     },
     "metadata": {
      "needs_background": "light"
     },
     "output_type": "display_data"
    }
   ],
   "source": [
    "sns.distplot(ired['D'], bins=25)"
   ]
  },
  {
   "cell_type": "code",
   "execution_count": 156,
   "metadata": {},
   "outputs": [
    {
     "data": {
      "text/html": [
       "<div>\n",
       "<style scoped>\n",
       "    .dataframe tbody tr th:only-of-type {\n",
       "        vertical-align: middle;\n",
       "    }\n",
       "\n",
       "    .dataframe tbody tr th {\n",
       "        vertical-align: top;\n",
       "    }\n",
       "\n",
       "    .dataframe thead th {\n",
       "        text-align: right;\n",
       "    }\n",
       "</style>\n",
       "<table border=\"1\" class=\"dataframe\">\n",
       "  <thead>\n",
       "    <tr style=\"text-align: right;\">\n",
       "      <th></th>\n",
       "      <th>Aura</th>\n",
       "      <th>Alma Mater</th>\n",
       "      <th>Name</th>\n",
       "      <th>A</th>\n",
       "      <th>B</th>\n",
       "      <th>C</th>\n",
       "      <th>D</th>\n",
       "      <th>Tag</th>\n",
       "      <th>Experience</th>\n",
       "      <th>Dissertation</th>\n",
       "    </tr>\n",
       "  </thead>\n",
       "  <tbody>\n",
       "    <tr>\n",
       "      <th>392</th>\n",
       "      <td>Silver</td>\n",
       "      <td>Yale</td>\n",
       "      <td>Lindsey Johnson</td>\n",
       "      <td>20.410253</td>\n",
       "      <td>64.3474</td>\n",
       "      <td>31.1309</td>\n",
       "      <td>2.34344</td>\n",
       "      <td>orchestrate holistic partnerships</td>\n",
       "      <td>3</td>\n",
       "      <td>Until participant us party sport site.</td>\n",
       "    </tr>\n",
       "    <tr>\n",
       "      <th>480</th>\n",
       "      <td>Periwinkle</td>\n",
       "      <td>Yale</td>\n",
       "      <td>Douglas Williams</td>\n",
       "      <td>1.501044</td>\n",
       "      <td>6.65911</td>\n",
       "      <td>35.6065</td>\n",
       "      <td>92.1575</td>\n",
       "      <td>expedite end-to-end bandwidth</td>\n",
       "      <td>3</td>\n",
       "      <td>American still today her black.</td>\n",
       "    </tr>\n",
       "    <tr>\n",
       "      <th>690</th>\n",
       "      <td>Infrared</td>\n",
       "      <td>Yale</td>\n",
       "      <td>Lucas Alexander</td>\n",
       "      <td>52.792282</td>\n",
       "      <td>93.0218</td>\n",
       "      <td>3.52121</td>\n",
       "      <td>63.642</td>\n",
       "      <td>maximize next-generation technologies</td>\n",
       "      <td>3</td>\n",
       "      <td>Teacher practice grow middle throughout letter...</td>\n",
       "    </tr>\n",
       "    <tr>\n",
       "      <th>217</th>\n",
       "      <td>Silver</td>\n",
       "      <td>Texas</td>\n",
       "      <td>Chad Wood</td>\n",
       "      <td>58.272001</td>\n",
       "      <td>86.4079</td>\n",
       "      <td>69.333</td>\n",
       "      <td>31.0319</td>\n",
       "      <td>syndicate innovative applications</td>\n",
       "      <td>3</td>\n",
       "      <td>Various machine example more food star address...</td>\n",
       "    </tr>\n",
       "    <tr>\n",
       "      <th>223</th>\n",
       "      <td>Beige</td>\n",
       "      <td>Yale</td>\n",
       "      <td>Jeremy Erickson</td>\n",
       "      <td>14.955226</td>\n",
       "      <td>37.9323</td>\n",
       "      <td>80.5778</td>\n",
       "      <td>11.6032</td>\n",
       "      <td>syndicate efficient content</td>\n",
       "      <td>3</td>\n",
       "      <td>Put town wife and crime prepare successful girl.</td>\n",
       "    </tr>\n",
       "    <tr>\n",
       "      <th>...</th>\n",
       "      <td>...</td>\n",
       "      <td>...</td>\n",
       "      <td>...</td>\n",
       "      <td>...</td>\n",
       "      <td>...</td>\n",
       "      <td>...</td>\n",
       "      <td>...</td>\n",
       "      <td>...</td>\n",
       "      <td>...</td>\n",
       "      <td>...</td>\n",
       "    </tr>\n",
       "    <tr>\n",
       "      <th>613</th>\n",
       "      <td>Periwinkle</td>\n",
       "      <td>Yale</td>\n",
       "      <td>Jessica Stein</td>\n",
       "      <td>58.018998</td>\n",
       "      <td>27.0786</td>\n",
       "      <td>76.5523</td>\n",
       "      <td>3.07394</td>\n",
       "      <td>strategize next-generation schemas</td>\n",
       "      <td>14</td>\n",
       "      <td>How home road live sometimes matter hold always.</td>\n",
       "    </tr>\n",
       "    <tr>\n",
       "      <th>692</th>\n",
       "      <td>Beige</td>\n",
       "      <td>Yale</td>\n",
       "      <td>Laura Singh</td>\n",
       "      <td>73.945333</td>\n",
       "      <td>28.8907</td>\n",
       "      <td>63.9009</td>\n",
       "      <td>1.62267</td>\n",
       "      <td>morph sexy markets</td>\n",
       "      <td>14</td>\n",
       "      <td>Eye share something time high.</td>\n",
       "    </tr>\n",
       "    <tr>\n",
       "      <th>368</th>\n",
       "      <td>Infrared</td>\n",
       "      <td>Texas</td>\n",
       "      <td>James Bennett</td>\n",
       "      <td>88.533479</td>\n",
       "      <td>70.6637</td>\n",
       "      <td>49.586</td>\n",
       "      <td>37.7982</td>\n",
       "      <td>brand web-enabled platforms</td>\n",
       "      <td>14</td>\n",
       "      <td>Partner ahead company fire.</td>\n",
       "    </tr>\n",
       "    <tr>\n",
       "      <th>9</th>\n",
       "      <td>Beige</td>\n",
       "      <td>Texas</td>\n",
       "      <td>Autumn Pena</td>\n",
       "      <td>19.616296</td>\n",
       "      <td>91.299</td>\n",
       "      <td>77.2333</td>\n",
       "      <td>38.056</td>\n",
       "      <td>strategize rich e-services</td>\n",
       "      <td>14</td>\n",
       "      <td>Better expect across condition window member.</td>\n",
       "    </tr>\n",
       "    <tr>\n",
       "      <th>853</th>\n",
       "      <td>Indigo</td>\n",
       "      <td>Texas</td>\n",
       "      <td>Oscar Lloyd</td>\n",
       "      <td>86.437691</td>\n",
       "      <td>66.1075</td>\n",
       "      <td>66.9443</td>\n",
       "      <td>27.1781</td>\n",
       "      <td>integrate user-centric content</td>\n",
       "      <td>14</td>\n",
       "      <td>Now impact within rich throughout.</td>\n",
       "    </tr>\n",
       "  </tbody>\n",
       "</table>\n",
       "<p>152 rows × 10 columns</p>\n",
       "</div>"
      ],
      "text/plain": [
       "           Aura Alma Mater              Name          A        B        C  \\\n",
       "392      Silver       Yale   Lindsey Johnson  20.410253  64.3474  31.1309   \n",
       "480  Periwinkle       Yale  Douglas Williams   1.501044  6.65911  35.6065   \n",
       "690    Infrared       Yale   Lucas Alexander  52.792282  93.0218  3.52121   \n",
       "217      Silver      Texas         Chad Wood  58.272001  86.4079   69.333   \n",
       "223       Beige       Yale   Jeremy Erickson  14.955226  37.9323  80.5778   \n",
       "..          ...        ...               ...        ...      ...      ...   \n",
       "613  Periwinkle       Yale     Jessica Stein  58.018998  27.0786  76.5523   \n",
       "692       Beige       Yale       Laura Singh  73.945333  28.8907  63.9009   \n",
       "368    Infrared      Texas     James Bennett  88.533479  70.6637   49.586   \n",
       "9         Beige      Texas       Autumn Pena  19.616296   91.299  77.2333   \n",
       "853      Indigo      Texas       Oscar Lloyd  86.437691  66.1075  66.9443   \n",
       "\n",
       "           D                                    Tag Experience  \\\n",
       "392  2.34344      orchestrate holistic partnerships          3   \n",
       "480  92.1575          expedite end-to-end bandwidth          3   \n",
       "690   63.642  maximize next-generation technologies          3   \n",
       "217  31.0319      syndicate innovative applications          3   \n",
       "223  11.6032            syndicate efficient content          3   \n",
       "..       ...                                    ...        ...   \n",
       "613  3.07394     strategize next-generation schemas         14   \n",
       "692  1.62267                     morph sexy markets         14   \n",
       "368  37.7982            brand web-enabled platforms         14   \n",
       "9     38.056             strategize rich e-services         14   \n",
       "853  27.1781         integrate user-centric content         14   \n",
       "\n",
       "                                          Dissertation  \n",
       "392             Until participant us party sport site.  \n",
       "480                    American still today her black.  \n",
       "690  Teacher practice grow middle throughout letter...  \n",
       "217  Various machine example more food star address...  \n",
       "223   Put town wife and crime prepare successful girl.  \n",
       "..                                                 ...  \n",
       "613   How home road live sometimes matter hold always.  \n",
       "692                     Eye share something time high.  \n",
       "368                        Partner ahead company fire.  \n",
       "9        Better expect across condition window member.  \n",
       "853                 Now impact within rich throughout.  \n",
       "\n",
       "[152 rows x 10 columns]"
      ]
     },
     "execution_count": 156,
     "metadata": {},
     "output_type": "execute_result"
    }
   ],
   "source": [
    "tx_or_yale.sort_values(by=['Experience'])"
   ]
  },
  {
   "cell_type": "markdown",
   "metadata": {},
   "source": [
    "Is there a correlation between A and Experience?"
   ]
  },
  {
   "cell_type": "code",
   "execution_count": 157,
   "metadata": {},
   "outputs": [
    {
     "data": {
      "text/plain": [
       "Aura             object\n",
       "Alma Mater       object\n",
       "Name             object\n",
       "A               float64\n",
       "B                object\n",
       "C                object\n",
       "D                object\n",
       "Tag              object\n",
       "Experience       object\n",
       "Dissertation     object\n",
       "dtype: object"
      ]
     },
     "execution_count": 157,
     "metadata": {},
     "output_type": "execute_result"
    }
   ],
   "source": [
    "tx_or_yale.dtypes"
   ]
  },
  {
   "cell_type": "code",
   "execution_count": 158,
   "metadata": {},
   "outputs": [
    {
     "name": "stderr",
     "output_type": "stream",
     "text": [
      "/Users/toddhendricks/miniconda3/lib/python3.7/site-packages/ipykernel_launcher.py:1: SettingWithCopyWarning: \n",
      "A value is trying to be set on a copy of a slice from a DataFrame.\n",
      "Try using .loc[row_indexer,col_indexer] = value instead\n",
      "\n",
      "See the caveats in the documentation: https://pandas.pydata.org/pandas-docs/stable/user_guide/indexing.html#returning-a-view-versus-a-copy\n",
      "  \"\"\"Entry point for launching an IPython kernel.\n"
     ]
    }
   ],
   "source": [
    "tx_or_yale['Experience'] = tx_or_yale['Experience'].astype(int)"
   ]
  },
  {
   "cell_type": "code",
   "execution_count": 159,
   "metadata": {},
   "outputs": [
    {
     "data": {
      "text/plain": [
       "Aura             object\n",
       "Alma Mater       object\n",
       "Name             object\n",
       "A               float64\n",
       "B                object\n",
       "C                object\n",
       "D                object\n",
       "Tag              object\n",
       "Experience        int64\n",
       "Dissertation     object\n",
       "dtype: object"
      ]
     },
     "execution_count": 159,
     "metadata": {},
     "output_type": "execute_result"
    }
   ],
   "source": [
    "tx_or_yale.dtypes"
   ]
  },
  {
   "cell_type": "code",
   "execution_count": 160,
   "metadata": {},
   "outputs": [
    {
     "data": {
      "text/plain": [
       "<matplotlib.axes._subplots.AxesSubplot at 0x7f903db55f50>"
      ]
     },
     "execution_count": 160,
     "metadata": {},
     "output_type": "execute_result"
    },
    {
     "data": {
      "image/png": "[encoded data removed]",
      "text/plain": [
       "<Figure size 432x288 with 1 Axes>"
      ]
     },
     "metadata": {
      "needs_background": "light"
     },
     "output_type": "display_data"
    }
   ],
   "source": [
    "sns.scatterplot(tx_or_yale['Experience'],tx_or_yale['A'])"
   ]
  },
  {
   "cell_type": "code",
   "execution_count": null,
   "metadata": {},
   "outputs": [],
   "source": []
  }
 ],
 "metadata": {
  "kernelspec": {
   "display_name": "Python 3",
   "language": "python",
   "name": "python3"
  },
  "language_info": {
   "codemirror_mode": {
    "name": "ipython",
    "version": 3
   },
   "file_extension": ".py",
   "mimetype": "text/x-python",
   "name": "python",
   "nbconvert_exporter": "python",
   "pygments_lexer": "ipython3",
   "version": "3.7.6"
  },
  "varInspector": {
   "cols": {
    "lenName": 16,
    "lenType": 16,
    "lenVar": 40
   },
   "kernels_config": {
    "python": {
     "delete_cmd_postfix": "",
     "delete_cmd_prefix": "del ",
     "library": "var_list.py",
     "varRefreshCmd": "print(var_dic_list())"
    },
    "r": {
     "delete_cmd_postfix": ") ",
     "delete_cmd_prefix": "rm(",
     "library": "var_list.r",
     "varRefreshCmd": "cat(var_dic_list()) "
    }
   },
   "types_to_exclude": [
    "module",
    "function",
    "builtin_function_or_method",
    "instance",
    "_Feature"
   ],
   "window_display": false
  }
 },
 "nbformat": 4,
 "nbformat_minor": 4
}
