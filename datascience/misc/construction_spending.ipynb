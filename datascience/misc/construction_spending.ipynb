{
 "cells": [
  {
   "cell_type": "code",
   "execution_count": 131,
   "metadata": {},
   "outputs": [],
   "source": [
    "import pandas as pd\n",
    "import matplotlib.pyplot as plt\n",
    "import seaborn as sns"
   ]
  },
  {
   "cell_type": "code",
   "execution_count": 132,
   "metadata": {},
   "outputs": [
    {
     "data": {
      "text/html": [
       "<div>\n",
       "<style scoped>\n",
       "    .dataframe tbody tr th:only-of-type {\n",
       "        vertical-align: middle;\n",
       "    }\n",
       "\n",
       "    .dataframe tbody tr th {\n",
       "        vertical-align: top;\n",
       "    }\n",
       "\n",
       "    .dataframe thead th {\n",
       "        text-align: right;\n",
       "    }\n",
       "</style>\n",
       "<table border=\"1\" class=\"dataframe\">\n",
       "  <thead>\n",
       "    <tr style=\"text-align: right;\">\n",
       "      <th></th>\n",
       "      <th>Type of Construction:</th>\n",
       "      <th>Nov\\n2020p</th>\n",
       "      <th>Oct\\n2020r</th>\n",
       "      <th>Sep\\n2020r</th>\n",
       "      <th>Aug\\n2020</th>\n",
       "      <th>Jul\\n2020</th>\n",
       "      <th>Nov\\n2019</th>\n",
       "      <th>Oct\\n2020</th>\n",
       "      <th>Nov\\n2019.1</th>\n",
       "    </tr>\n",
       "  </thead>\n",
       "  <tbody>\n",
       "    <tr>\n",
       "      <th>0</th>\n",
       "      <td>Lodging</td>\n",
       "      <td>24,050</td>\n",
       "      <td>26,218</td>\n",
       "      <td>26,672</td>\n",
       "      <td>27,550</td>\n",
       "      <td>28,538</td>\n",
       "      <td>32,701</td>\n",
       "      <td>-8.3</td>\n",
       "      <td>-26.5</td>\n",
       "    </tr>\n",
       "    <tr>\n",
       "      <th>15</th>\n",
       "      <td>Manufacturing</td>\n",
       "      <td>69,833</td>\n",
       "      <td>69,782</td>\n",
       "      <td>69,866</td>\n",
       "      <td>71,924</td>\n",
       "      <td>73,182</td>\n",
       "      <td>82,236</td>\n",
       "      <td>0.1</td>\n",
       "      <td>-15.1</td>\n",
       "    </tr>\n",
       "    <tr>\n",
       "      <th>7</th>\n",
       "      <td>Amusement and recreation</td>\n",
       "      <td>25,485</td>\n",
       "      <td>26,001</td>\n",
       "      <td>26,231</td>\n",
       "      <td>26,792</td>\n",
       "      <td>26,870</td>\n",
       "      <td>29,931</td>\n",
       "      <td>-2.0</td>\n",
       "      <td>-14.9</td>\n",
       "    </tr>\n",
       "    <tr>\n",
       "      <th>14</th>\n",
       "      <td>Conservation and development</td>\n",
       "      <td>7,700</td>\n",
       "      <td>7,976</td>\n",
       "      <td>7,664</td>\n",
       "      <td>8,250</td>\n",
       "      <td>8,646</td>\n",
       "      <td>8,842</td>\n",
       "      <td>-3.5</td>\n",
       "      <td>-12.9</td>\n",
       "    </tr>\n",
       "    <tr>\n",
       "      <th>10</th>\n",
       "      <td>Power</td>\n",
       "      <td>114,348</td>\n",
       "      <td>115,411</td>\n",
       "      <td>115,270</td>\n",
       "      <td>117,016</td>\n",
       "      <td>119,681</td>\n",
       "      <td>125,417</td>\n",
       "      <td>-0.9</td>\n",
       "      <td>-8.8</td>\n",
       "    </tr>\n",
       "  </tbody>\n",
       "</table>\n",
       "</div>"
      ],
      "text/plain": [
       "                Type of Construction: Nov\\n2020p Oct\\n2020r Sep\\n2020r  \\\n",
       "0                             Lodging     24,050     26,218     26,672   \n",
       "15                      Manufacturing     69,833     69,782     69,866   \n",
       "7            Amusement and recreation     25,485     26,001     26,231   \n",
       "14      Conservation and development       7,700      7,976      7,664   \n",
       "10                              Power    114,348    115,411    115,270   \n",
       "\n",
       "   Aug\\n2020 Jul\\n2020 Nov\\n2019  Oct\\n2020  Nov\\n2019.1  \n",
       "0     27,550    28,538    32,701       -8.3        -26.5  \n",
       "15    71,924    73,182    82,236        0.1        -15.1  \n",
       "7     26,792    26,870    29,931       -2.0        -14.9  \n",
       "14     8,250     8,646     8,842       -3.5        -12.9  \n",
       "10   117,016   119,681   125,417       -0.9         -8.8  "
      ]
     },
     "execution_count": 132,
     "metadata": {},
     "output_type": "execute_result"
    }
   ],
   "source": [
    "df = pd.read_csv('/Users/toddhendricks/Downloads/totsa - spending.csv')\n",
    "df = df.sort_values('Nov\\n2019.1')\n",
    "df.head(5)"
   ]
  },
  {
   "cell_type": "code",
   "execution_count": 133,
   "metadata": {},
   "outputs": [
    {
     "data": {
      "text/html": [
       "<div>\n",
       "<style scoped>\n",
       "    .dataframe tbody tr th:only-of-type {\n",
       "        vertical-align: middle;\n",
       "    }\n",
       "\n",
       "    .dataframe tbody tr th {\n",
       "        vertical-align: top;\n",
       "    }\n",
       "\n",
       "    .dataframe thead th {\n",
       "        text-align: right;\n",
       "    }\n",
       "</style>\n",
       "<table border=\"1\" class=\"dataframe\">\n",
       "  <thead>\n",
       "    <tr style=\"text-align: right;\">\n",
       "      <th></th>\n",
       "      <th>Type of Construction:</th>\n",
       "      <th>Nov\\n2020p</th>\n",
       "      <th>Oct\\n2020r</th>\n",
       "      <th>Sep\\n2020r</th>\n",
       "      <th>Aug\\n2020</th>\n",
       "      <th>Jul\\n2020</th>\n",
       "      <th>Nov\\n2019</th>\n",
       "      <th>Oct\\n2020</th>\n",
       "      <th>Nov\\n2019.1</th>\n",
       "    </tr>\n",
       "  </thead>\n",
       "  <tbody>\n",
       "    <tr>\n",
       "      <th>14</th>\n",
       "      <td>Conservation and development</td>\n",
       "      <td>7,700</td>\n",
       "      <td>7,976</td>\n",
       "      <td>7,664</td>\n",
       "      <td>8,250</td>\n",
       "      <td>8,646</td>\n",
       "      <td>8,842</td>\n",
       "      <td>-3.5</td>\n",
       "      <td>-12.9</td>\n",
       "    </tr>\n",
       "    <tr>\n",
       "      <th>10</th>\n",
       "      <td>Power</td>\n",
       "      <td>114,348</td>\n",
       "      <td>115,411</td>\n",
       "      <td>115,270</td>\n",
       "      <td>117,016</td>\n",
       "      <td>119,681</td>\n",
       "      <td>125,417</td>\n",
       "      <td>-0.9</td>\n",
       "      <td>-8.8</td>\n",
       "    </tr>\n",
       "    <tr>\n",
       "      <th>5</th>\n",
       "      <td>Religious</td>\n",
       "      <td>3,183</td>\n",
       "      <td>3,143</td>\n",
       "      <td>3,200</td>\n",
       "      <td>3,115</td>\n",
       "      <td>2,899</td>\n",
       "      <td>3,455</td>\n",
       "      <td>1.3</td>\n",
       "      <td>-7.9</td>\n",
       "    </tr>\n",
       "  </tbody>\n",
       "</table>\n",
       "</div>"
      ],
      "text/plain": [
       "                Type of Construction: Nov\\n2020p Oct\\n2020r Sep\\n2020r  \\\n",
       "14      Conservation and development       7,700      7,976      7,664   \n",
       "10                              Power    114,348    115,411    115,270   \n",
       "5                           Religious      3,183      3,143      3,200   \n",
       "\n",
       "   Aug\\n2020 Jul\\n2020 Nov\\n2019  Oct\\n2020  Nov\\n2019.1  \n",
       "14     8,250     8,646     8,842       -3.5        -12.9  \n",
       "10   117,016   119,681   125,417       -0.9         -8.8  \n",
       "5      3,115     2,899     3,455        1.3         -7.9  "
      ]
     },
     "execution_count": 133,
     "metadata": {},
     "output_type": "execute_result"
    }
   ],
   "source": [
    "df.iloc[3:6]"
   ]
  },
  {
   "cell_type": "code",
   "execution_count": 134,
   "metadata": {},
   "outputs": [],
   "source": [
    "x = df['Type of Construction:']\n",
    "y = df['Nov\\n2019.1']"
   ]
  },
  {
   "cell_type": "code",
   "execution_count": 135,
   "metadata": {},
   "outputs": [],
   "source": [
    "sector = [i.strip() for i in x]"
   ]
  },
  {
   "cell_type": "code",
   "execution_count": 136,
   "metadata": {},
   "outputs": [
    {
     "data": {
      "text/plain": [
       "['Lodging',\n",
       " 'Manufacturing',\n",
       " 'Amusement and recreation',\n",
       " 'Conservation and development',\n",
       " 'Power',\n",
       " 'Religious',\n",
       " 'Office',\n",
       " 'Educational',\n",
       " 'Commercial',\n",
       " 'Health care',\n",
       " 'Transportation',\n",
       " 'Sewage and waste disposal',\n",
       " 'Communication',\n",
       " 'Water supply',\n",
       " 'Highway and street',\n",
       " 'Public safety']"
      ]
     },
     "execution_count": 136,
     "metadata": {},
     "output_type": "execute_result"
    }
   ],
   "source": [
    "sector"
   ]
  },
  {
   "cell_type": "code",
   "execution_count": 137,
   "metadata": {},
   "outputs": [
    {
     "data": {
      "text/html": [
       "<div>\n",
       "<style scoped>\n",
       "    .dataframe tbody tr th:only-of-type {\n",
       "        vertical-align: middle;\n",
       "    }\n",
       "\n",
       "    .dataframe tbody tr th {\n",
       "        vertical-align: top;\n",
       "    }\n",
       "\n",
       "    .dataframe thead th {\n",
       "        text-align: right;\n",
       "    }\n",
       "</style>\n",
       "<table border=\"1\" class=\"dataframe\">\n",
       "  <thead>\n",
       "    <tr style=\"text-align: right;\">\n",
       "      <th></th>\n",
       "      <th>Lodging</th>\n",
       "      <th>Manufacturing</th>\n",
       "      <th>Amusement and recreation</th>\n",
       "      <th>Conservation and development</th>\n",
       "      <th>Power</th>\n",
       "      <th>Religious</th>\n",
       "      <th>Office</th>\n",
       "      <th>Educational</th>\n",
       "      <th>Commercial</th>\n",
       "      <th>Health care</th>\n",
       "      <th>Transportation</th>\n",
       "      <th>Sewage and waste disposal</th>\n",
       "      <th>Communication</th>\n",
       "      <th>Water supply</th>\n",
       "      <th>Highway and street</th>\n",
       "      <th>Public safety</th>\n",
       "    </tr>\n",
       "  </thead>\n",
       "  <tbody>\n",
       "    <tr>\n",
       "      <th>July</th>\n",
       "      <td>NaN</td>\n",
       "      <td>NaN</td>\n",
       "      <td>NaN</td>\n",
       "      <td>NaN</td>\n",
       "      <td>NaN</td>\n",
       "      <td>NaN</td>\n",
       "      <td>NaN</td>\n",
       "      <td>NaN</td>\n",
       "      <td>NaN</td>\n",
       "      <td>NaN</td>\n",
       "      <td>NaN</td>\n",
       "      <td>NaN</td>\n",
       "      <td>NaN</td>\n",
       "      <td>NaN</td>\n",
       "      <td>NaN</td>\n",
       "      <td>NaN</td>\n",
       "    </tr>\n",
       "    <tr>\n",
       "      <th>August</th>\n",
       "      <td>NaN</td>\n",
       "      <td>NaN</td>\n",
       "      <td>NaN</td>\n",
       "      <td>NaN</td>\n",
       "      <td>NaN</td>\n",
       "      <td>NaN</td>\n",
       "      <td>NaN</td>\n",
       "      <td>NaN</td>\n",
       "      <td>NaN</td>\n",
       "      <td>NaN</td>\n",
       "      <td>NaN</td>\n",
       "      <td>NaN</td>\n",
       "      <td>NaN</td>\n",
       "      <td>NaN</td>\n",
       "      <td>NaN</td>\n",
       "      <td>NaN</td>\n",
       "    </tr>\n",
       "    <tr>\n",
       "      <th>September</th>\n",
       "      <td>NaN</td>\n",
       "      <td>NaN</td>\n",
       "      <td>NaN</td>\n",
       "      <td>NaN</td>\n",
       "      <td>NaN</td>\n",
       "      <td>NaN</td>\n",
       "      <td>NaN</td>\n",
       "      <td>NaN</td>\n",
       "      <td>NaN</td>\n",
       "      <td>NaN</td>\n",
       "      <td>NaN</td>\n",
       "      <td>NaN</td>\n",
       "      <td>NaN</td>\n",
       "      <td>NaN</td>\n",
       "      <td>NaN</td>\n",
       "      <td>NaN</td>\n",
       "    </tr>\n",
       "    <tr>\n",
       "      <th>October</th>\n",
       "      <td>NaN</td>\n",
       "      <td>NaN</td>\n",
       "      <td>NaN</td>\n",
       "      <td>NaN</td>\n",
       "      <td>NaN</td>\n",
       "      <td>NaN</td>\n",
       "      <td>NaN</td>\n",
       "      <td>NaN</td>\n",
       "      <td>NaN</td>\n",
       "      <td>NaN</td>\n",
       "      <td>NaN</td>\n",
       "      <td>NaN</td>\n",
       "      <td>NaN</td>\n",
       "      <td>NaN</td>\n",
       "      <td>NaN</td>\n",
       "      <td>NaN</td>\n",
       "    </tr>\n",
       "  </tbody>\n",
       "</table>\n",
       "</div>"
      ],
      "text/plain": [
       "          Lodging Manufacturing Amusement and recreation  \\\n",
       "July          NaN           NaN                      NaN   \n",
       "August        NaN           NaN                      NaN   \n",
       "September     NaN           NaN                      NaN   \n",
       "October       NaN           NaN                      NaN   \n",
       "\n",
       "          Conservation and development Power Religious Office Educational  \\\n",
       "July                               NaN   NaN       NaN    NaN         NaN   \n",
       "August                             NaN   NaN       NaN    NaN         NaN   \n",
       "September                          NaN   NaN       NaN    NaN         NaN   \n",
       "October                            NaN   NaN       NaN    NaN         NaN   \n",
       "\n",
       "          Commercial Health care Transportation Sewage and waste disposal  \\\n",
       "July             NaN         NaN            NaN                       NaN   \n",
       "August           NaN         NaN            NaN                       NaN   \n",
       "September        NaN         NaN            NaN                       NaN   \n",
       "October          NaN         NaN            NaN                       NaN   \n",
       "\n",
       "          Communication Water supply Highway and street Public safety  \n",
       "July                NaN          NaN                NaN           NaN  \n",
       "August              NaN          NaN                NaN           NaN  \n",
       "September           NaN          NaN                NaN           NaN  \n",
       "October             NaN          NaN                NaN           NaN  "
      ]
     },
     "execution_count": 137,
     "metadata": {},
     "output_type": "execute_result"
    }
   ],
   "source": [
    "header = wide_df[1:2]\n",
    "wide_df\n",
    "# wide_df = wide_df[2:]\n",
    "# wide_df.columns = sector\n",
    "# wide_df = wide_df.reindex(['Jul\\n2020', 'Aug\\n2020', 'Sep\\n2020r', 'Oct\\n2020']).rename(mapper= \n",
    "#                     {'Jul\\n2020' : 'July', \n",
    "#                      'Aug\\n2020' : 'August',\n",
    "#                      'Sep\\n2020r' : 'September',\n",
    "#                      'Oct\\n2020' : 'October'}, axis=0)"
   ]
  },
  {
   "cell_type": "code",
   "execution_count": 138,
   "metadata": {},
   "outputs": [
    {
     "data": {
      "text/html": [
       "<div>\n",
       "<style scoped>\n",
       "    .dataframe tbody tr th:only-of-type {\n",
       "        vertical-align: middle;\n",
       "    }\n",
       "\n",
       "    .dataframe tbody tr th {\n",
       "        vertical-align: top;\n",
       "    }\n",
       "\n",
       "    .dataframe thead th {\n",
       "        text-align: right;\n",
       "    }\n",
       "</style>\n",
       "<table border=\"1\" class=\"dataframe\">\n",
       "  <thead>\n",
       "    <tr style=\"text-align: right;\">\n",
       "      <th></th>\n",
       "      <th>Lodging</th>\n",
       "      <th>Manufacturing</th>\n",
       "      <th>Amusement and recreation</th>\n",
       "      <th>Conservation and development</th>\n",
       "      <th>Power</th>\n",
       "      <th>Religious</th>\n",
       "      <th>Office</th>\n",
       "      <th>Educational</th>\n",
       "      <th>Commercial</th>\n",
       "      <th>Health care</th>\n",
       "      <th>Transportation</th>\n",
       "      <th>Sewage and waste disposal</th>\n",
       "      <th>Communication</th>\n",
       "      <th>Water supply</th>\n",
       "      <th>Highway and street</th>\n",
       "      <th>Public safety</th>\n",
       "    </tr>\n",
       "  </thead>\n",
       "  <tbody>\n",
       "    <tr>\n",
       "      <th>July</th>\n",
       "      <td>NaN</td>\n",
       "      <td>NaN</td>\n",
       "      <td>NaN</td>\n",
       "      <td>NaN</td>\n",
       "      <td>NaN</td>\n",
       "      <td>NaN</td>\n",
       "      <td>NaN</td>\n",
       "      <td>NaN</td>\n",
       "      <td>NaN</td>\n",
       "      <td>NaN</td>\n",
       "      <td>NaN</td>\n",
       "      <td>NaN</td>\n",
       "      <td>NaN</td>\n",
       "      <td>NaN</td>\n",
       "      <td>NaN</td>\n",
       "      <td>NaN</td>\n",
       "    </tr>\n",
       "    <tr>\n",
       "      <th>August</th>\n",
       "      <td>NaN</td>\n",
       "      <td>NaN</td>\n",
       "      <td>NaN</td>\n",
       "      <td>NaN</td>\n",
       "      <td>NaN</td>\n",
       "      <td>NaN</td>\n",
       "      <td>NaN</td>\n",
       "      <td>NaN</td>\n",
       "      <td>NaN</td>\n",
       "      <td>NaN</td>\n",
       "      <td>NaN</td>\n",
       "      <td>NaN</td>\n",
       "      <td>NaN</td>\n",
       "      <td>NaN</td>\n",
       "      <td>NaN</td>\n",
       "      <td>NaN</td>\n",
       "    </tr>\n",
       "    <tr>\n",
       "      <th>September</th>\n",
       "      <td>NaN</td>\n",
       "      <td>NaN</td>\n",
       "      <td>NaN</td>\n",
       "      <td>NaN</td>\n",
       "      <td>NaN</td>\n",
       "      <td>NaN</td>\n",
       "      <td>NaN</td>\n",
       "      <td>NaN</td>\n",
       "      <td>NaN</td>\n",
       "      <td>NaN</td>\n",
       "      <td>NaN</td>\n",
       "      <td>NaN</td>\n",
       "      <td>NaN</td>\n",
       "      <td>NaN</td>\n",
       "      <td>NaN</td>\n",
       "      <td>NaN</td>\n",
       "    </tr>\n",
       "    <tr>\n",
       "      <th>October</th>\n",
       "      <td>NaN</td>\n",
       "      <td>NaN</td>\n",
       "      <td>NaN</td>\n",
       "      <td>NaN</td>\n",
       "      <td>NaN</td>\n",
       "      <td>NaN</td>\n",
       "      <td>NaN</td>\n",
       "      <td>NaN</td>\n",
       "      <td>NaN</td>\n",
       "      <td>NaN</td>\n",
       "      <td>NaN</td>\n",
       "      <td>NaN</td>\n",
       "      <td>NaN</td>\n",
       "      <td>NaN</td>\n",
       "      <td>NaN</td>\n",
       "      <td>NaN</td>\n",
       "    </tr>\n",
       "  </tbody>\n",
       "</table>\n",
       "</div>"
      ],
      "text/plain": [
       "          Lodging Manufacturing Amusement and recreation  \\\n",
       "July          NaN           NaN                      NaN   \n",
       "August        NaN           NaN                      NaN   \n",
       "September     NaN           NaN                      NaN   \n",
       "October       NaN           NaN                      NaN   \n",
       "\n",
       "          Conservation and development Power Religious Office Educational  \\\n",
       "July                               NaN   NaN       NaN    NaN         NaN   \n",
       "August                             NaN   NaN       NaN    NaN         NaN   \n",
       "September                          NaN   NaN       NaN    NaN         NaN   \n",
       "October                            NaN   NaN       NaN    NaN         NaN   \n",
       "\n",
       "          Commercial Health care Transportation Sewage and waste disposal  \\\n",
       "July             NaN         NaN            NaN                       NaN   \n",
       "August           NaN         NaN            NaN                       NaN   \n",
       "September        NaN         NaN            NaN                       NaN   \n",
       "October          NaN         NaN            NaN                       NaN   \n",
       "\n",
       "          Communication Water supply Highway and street Public safety  \n",
       "July                NaN          NaN                NaN           NaN  \n",
       "August              NaN          NaN                NaN           NaN  \n",
       "September           NaN          NaN                NaN           NaN  \n",
       "October             NaN          NaN                NaN           NaN  "
      ]
     },
     "execution_count": 138,
     "metadata": {},
     "output_type": "execute_result"
    }
   ],
   "source": [
    "wide_df"
   ]
  },
  {
   "cell_type": "code",
   "execution_count": 139,
   "metadata": {},
   "outputs": [
    {
     "data": {
      "text/plain": [
       "(array([ 0,  1,  2,  3,  4,  5,  6,  7,  8,  9, 10, 11, 12, 13, 14, 15]),\n",
       " [Text(0, 0, '    Lodging'),\n",
       "  Text(1, 0, '    Manufacturing'),\n",
       "  Text(2, 0, '    Amusement and recreation'),\n",
       "  Text(3, 0, '    Conservation and development '),\n",
       "  Text(4, 0, '    Power'),\n",
       "  Text(5, 0, '    Religious'),\n",
       "  Text(6, 0, '    Office'),\n",
       "  Text(7, 0, '    Educational'),\n",
       "  Text(8, 0, '    Commercial'),\n",
       "  Text(9, 0, '    Health care '),\n",
       "  Text(10, 0, '    Transportation'),\n",
       "  Text(11, 0, '    Sewage and waste disposal '),\n",
       "  Text(12, 0, '    Communication'),\n",
       "  Text(13, 0, '    Water supply '),\n",
       "  Text(14, 0, '    Highway and street '),\n",
       "  Text(15, 0, '    Public safety')])"
      ]
     },
     "execution_count": 139,
     "metadata": {},
     "output_type": "execute_result"
    },
    {
     "data": {
      "image/png": "[encoded data removed]",
      "text/plain": [
       "<Figure size 432x288 with 1 Axes>"
      ]
     },
     "metadata": {
      "needs_background": "light"
     },
     "output_type": "display_data"
    }
   ],
   "source": [
    "sns.barplot(x=x, y=y)\n",
    "plt.title(\"Nonresidential Private Construction Spending: 11/19 - 11/20\")\n",
    "plt.ylabel('Pct Change')\n",
    "plt.xlabel('Sector')\n",
    "plt.xticks(rotation=45)"
   ]
  },
  {
   "cell_type": "code",
   "execution_count": 140,
   "metadata": {},
   "outputs": [],
   "source": [
    "wide_df = pd.melt(df).reset_index(drop=True)"
   ]
  },
  {
   "cell_type": "code",
   "execution_count": 141,
   "metadata": {},
   "outputs": [
    {
     "data": {
      "text/html": [
       "<div>\n",
       "<style scoped>\n",
       "    .dataframe tbody tr th:only-of-type {\n",
       "        vertical-align: middle;\n",
       "    }\n",
       "\n",
       "    .dataframe tbody tr th {\n",
       "        vertical-align: top;\n",
       "    }\n",
       "\n",
       "    .dataframe thead th {\n",
       "        text-align: right;\n",
       "    }\n",
       "</style>\n",
       "<table border=\"1\" class=\"dataframe\">\n",
       "  <thead>\n",
       "    <tr style=\"text-align: right;\">\n",
       "      <th></th>\n",
       "      <th>Lodging</th>\n",
       "      <th>Manufacturing</th>\n",
       "      <th>Amusement and recreation</th>\n",
       "      <th>Conservation and development</th>\n",
       "      <th>Power</th>\n",
       "      <th>Religious</th>\n",
       "      <th>Office</th>\n",
       "      <th>Educational</th>\n",
       "      <th>Commercial</th>\n",
       "      <th>Health care</th>\n",
       "      <th>Transportation</th>\n",
       "      <th>Sewage and waste disposal</th>\n",
       "      <th>Communication</th>\n",
       "      <th>Water supply</th>\n",
       "      <th>Highway and street</th>\n",
       "      <th>Public safety</th>\n",
       "    </tr>\n",
       "  </thead>\n",
       "  <tbody>\n",
       "  </tbody>\n",
       "</table>\n",
       "</div>"
      ],
      "text/plain": [
       "Empty DataFrame\n",
       "Columns: [Lodging, Manufacturing, Amusement and recreation, Conservation and development, Power, Religious, Office, Educational, Commercial, Health care, Transportation, Sewage and waste disposal, Communication, Water supply, Highway and street, Public safety]\n",
       "Index: []"
      ]
     },
     "execution_count": 141,
     "metadata": {},
     "output_type": "execute_result"
    }
   ],
   "source": [
    "pd.DataFrame(df['Jul\\n2020'], columns=sector)"
   ]
  },
  {
   "cell_type": "code",
   "execution_count": 142,
   "metadata": {},
   "outputs": [],
   "source": [
    "df = df.reset_index()"
   ]
  },
  {
   "cell_type": "code",
   "execution_count": 143,
   "metadata": {},
   "outputs": [],
   "source": [
    "cols = df['Type of Construction:'].str.lstrip().values"
   ]
  },
  {
   "cell_type": "code",
   "execution_count": 144,
   "metadata": {},
   "outputs": [],
   "source": [
    "row = list(df.columns[1:6])[::-1]"
   ]
  },
  {
   "cell_type": "code",
   "execution_count": 145,
   "metadata": {},
   "outputs": [],
   "source": [
    "gb = df.groupby(['Type of Construction:'])"
   ]
  },
  {
   "cell_type": "code",
   "execution_count": 146,
   "metadata": {},
   "outputs": [
    {
     "data": {
      "text/plain": [
       "{'    Amusement and recreation': [2], '    Commercial': [8], '    Communication': [12], '    Conservation and development ': [3], '    Educational': [7], '    Health care ': [9], '    Highway and street ': [14], '    Lodging': [0], '    Manufacturing': [1], '    Office': [6], '    Power': [4], '    Public safety': [15], '    Religious': [5], '    Sewage and waste disposal ': [11], '    Transportation': [10], '    Water supply ': [13]}"
      ]
     },
     "execution_count": 146,
     "metadata": {},
     "output_type": "execute_result"
    }
   ],
   "source": [
    "gb.groups"
   ]
  },
  {
   "cell_type": "code",
   "execution_count": 147,
   "metadata": {},
   "outputs": [
    {
     "data": {
      "text/plain": [
       "{'    Amusement and recreation': [2], '    Commercial': [8], '    Communication': [12], '    Conservation and development ': [3], '    Educational': [7], '    Health care ': [9], '    Highway and street ': [14], '    Lodging': [0], '    Manufacturing': [1], '    Office': [6], '    Power': [4], '    Public safety': [15], '    Religious': [5], '    Sewage and waste disposal ': [11], '    Transportation': [10], '    Water supply ': [13]}"
      ]
     },
     "execution_count": 147,
     "metadata": {},
     "output_type": "execute_result"
    }
   ],
   "source": [
    "gb.groups"
   ]
  },
  {
   "cell_type": "code",
   "execution_count": null,
   "metadata": {},
   "outputs": [],
   "source": []
  }
 ],
 "metadata": {
  "kernelspec": {
   "display_name": "Python 3",
   "language": "python",
   "name": "python3"
  },
  "language_info": {
   "codemirror_mode": {
    "name": "ipython",
    "version": 3
   },
   "file_extension": ".py",
   "mimetype": "text/x-python",
   "name": "python",
   "nbconvert_exporter": "python",
   "pygments_lexer": "ipython3",
   "version": "3.7.9"
  },
  "varInspector": {
   "cols": {
    "lenName": 16,
    "lenType": 16,
    "lenVar": 40
   },
   "kernels_config": {
    "python": {
     "delete_cmd_postfix": "",
     "delete_cmd_prefix": "del ",
     "library": "var_list.py",
     "varRefreshCmd": "print(var_dic_list())"
    },
    "r": {
     "delete_cmd_postfix": ") ",
     "delete_cmd_prefix": "rm(",
     "library": "var_list.r",
     "varRefreshCmd": "cat(var_dic_list()) "
    }
   },
   "types_to_exclude": [
    "module",
    "function",
    "builtin_function_or_method",
    "instance",
    "_Feature"
   ],
   "window_display": false
  }
 },
 "nbformat": 4,
 "nbformat_minor": 4
}
