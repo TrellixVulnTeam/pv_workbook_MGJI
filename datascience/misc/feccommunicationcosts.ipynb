{
 "cells": [
  {
   "cell_type": "code",
   "execution_count": 1,
   "metadata": {},
   "outputs": [],
   "source": [
    "import pandas as pd"
   ]
  },
  {
   "cell_type": "code",
   "execution_count": 10,
   "metadata": {},
   "outputs": [],
   "source": [
    "df = pd.read_csv('/Users/toddhendricks/Downloads/CommunicationCosts_2020.csv')"
   ]
  },
  {
   "cell_type": "code",
   "execution_count": 16,
   "metadata": {},
   "outputs": [],
   "source": [
    "df.head(5)\n",
    "df.columns= df.columns.str.lower()"
   ]
  },
  {
   "cell_type": "code",
   "execution_count": 18,
   "metadata": {},
   "outputs": [
    {
     "data": {
      "text/plain": [
       "Index(['cmte_id', 'cmte_nm', 'cand_id', 'cand_name', 'cand_office',\n",
       "       'cand_state', 'cand_office_district', 'cand_pty_affiliation',\n",
       "       'transaction_dt', 'transaction_amt', 'transaction_tp',\n",
       "       'communication_tp', 'communication_class', 'support_oppose_ind',\n",
       "       'image_num', 'line_num', 'form_tp_cd', 'sched_tp_cd', 'tran_id',\n",
       "       'sub_id', 'file_num', 'rpt_yr', 'cand_state_description',\n",
       "       'cand_pty_affiliation_description', 'purpose'],\n",
       "      dtype='object')"
      ]
     },
     "execution_count": 18,
     "metadata": {},
     "output_type": "execute_result"
    }
   ],
   "source": [
    "df.columns"
   ]
  },
  {
   "cell_type": "code",
   "execution_count": 23,
   "metadata": {},
   "outputs": [
    {
     "data": {
      "text/html": [
       "<div>\n",
       "<style scoped>\n",
       "    .dataframe tbody tr th:only-of-type {\n",
       "        vertical-align: middle;\n",
       "    }\n",
       "\n",
       "    .dataframe tbody tr th {\n",
       "        vertical-align: top;\n",
       "    }\n",
       "\n",
       "    .dataframe thead th {\n",
       "        text-align: right;\n",
       "    }\n",
       "</style>\n",
       "<table border=\"1\" class=\"dataframe\">\n",
       "  <thead>\n",
       "    <tr style=\"text-align: right;\">\n",
       "      <th></th>\n",
       "      <th>cmte_id</th>\n",
       "      <th>cmte_nm</th>\n",
       "      <th>cand_id</th>\n",
       "      <th>cand_name</th>\n",
       "      <th>cand_office</th>\n",
       "      <th>cand_state</th>\n",
       "      <th>cand_office_district</th>\n",
       "      <th>cand_pty_affiliation</th>\n",
       "      <th>transaction_dt</th>\n",
       "      <th>transaction_amt</th>\n",
       "      <th>...</th>\n",
       "      <th>line_num</th>\n",
       "      <th>form_tp_cd</th>\n",
       "      <th>sched_tp_cd</th>\n",
       "      <th>tran_id</th>\n",
       "      <th>sub_id</th>\n",
       "      <th>file_num</th>\n",
       "      <th>rpt_yr</th>\n",
       "      <th>cand_state_description</th>\n",
       "      <th>cand_pty_affiliation_description</th>\n",
       "      <th>purpose</th>\n",
       "    </tr>\n",
       "  </thead>\n",
       "  <tbody>\n",
       "    <tr>\n",
       "      <th>0</th>\n",
       "      <td>C70002472</td>\n",
       "      <td>AMERICAN FEDERATION OF TEACHERS, AFL-CIO</td>\n",
       "      <td>P80000722</td>\n",
       "      <td>BIDEN, JOSEPH R JR</td>\n",
       "      <td>P</td>\n",
       "      <td>US</td>\n",
       "      <td>0</td>\n",
       "      <td>DEM</td>\n",
       "      <td>20200701</td>\n",
       "      <td>5436.00</td>\n",
       "      <td>...</td>\n",
       "      <td>NaN</td>\n",
       "      <td>F7</td>\n",
       "      <td>F76</td>\n",
       "      <td>F76.4106</td>\n",
       "      <td>4111720201939449148</td>\n",
       "      <td>1452191</td>\n",
       "      <td>2020</td>\n",
       "      <td>UNITED STATES</td>\n",
       "      <td>Democratic Party</td>\n",
       "      <td>NaN</td>\n",
       "    </tr>\n",
       "    <tr>\n",
       "      <th>1</th>\n",
       "      <td>C70002472</td>\n",
       "      <td>AMERICAN FEDERATION OF TEACHERS, AFL-CIO</td>\n",
       "      <td>H8IL14174</td>\n",
       "      <td>UNDERWOOD, LAUREN</td>\n",
       "      <td>H</td>\n",
       "      <td>IL</td>\n",
       "      <td>14</td>\n",
       "      <td>DEM</td>\n",
       "      <td>20201009</td>\n",
       "      <td>1796.93</td>\n",
       "      <td>...</td>\n",
       "      <td>NaN</td>\n",
       "      <td>F7</td>\n",
       "      <td>F76</td>\n",
       "      <td>F76.4152</td>\n",
       "      <td>4121120201968682177</td>\n",
       "      <td>1464167</td>\n",
       "      <td>2020</td>\n",
       "      <td>ILLINOIS</td>\n",
       "      <td>Democratic Party</td>\n",
       "      <td>NaN</td>\n",
       "    </tr>\n",
       "    <tr>\n",
       "      <th>2</th>\n",
       "      <td>C70002472</td>\n",
       "      <td>AMERICAN FEDERATION OF TEACHERS, AFL-CIO</td>\n",
       "      <td>P80000722</td>\n",
       "      <td>BIDEN, JOSEPH R JR</td>\n",
       "      <td>P</td>\n",
       "      <td>US</td>\n",
       "      <td>0</td>\n",
       "      <td>DEM</td>\n",
       "      <td>20200930</td>\n",
       "      <td>21830.00</td>\n",
       "      <td>...</td>\n",
       "      <td>NaN</td>\n",
       "      <td>F7</td>\n",
       "      <td>F76</td>\n",
       "      <td>F76.4104</td>\n",
       "      <td>4111720201939449150</td>\n",
       "      <td>1452191</td>\n",
       "      <td>2020</td>\n",
       "      <td>UNITED STATES</td>\n",
       "      <td>Democratic Party</td>\n",
       "      <td>NaN</td>\n",
       "    </tr>\n",
       "    <tr>\n",
       "      <th>3</th>\n",
       "      <td>C70002472</td>\n",
       "      <td>AMERICAN FEDERATION OF TEACHERS, AFL-CIO</td>\n",
       "      <td>P80000722</td>\n",
       "      <td>BIDEN, JOSEPH R JR</td>\n",
       "      <td>P</td>\n",
       "      <td>US</td>\n",
       "      <td>0</td>\n",
       "      <td>DEM</td>\n",
       "      <td>20201014</td>\n",
       "      <td>62605.89</td>\n",
       "      <td>...</td>\n",
       "      <td>NaN</td>\n",
       "      <td>F7</td>\n",
       "      <td>F76</td>\n",
       "      <td>F76.4102</td>\n",
       "      <td>4121120201968682148</td>\n",
       "      <td>1464167</td>\n",
       "      <td>2020</td>\n",
       "      <td>UNITED STATES</td>\n",
       "      <td>Democratic Party</td>\n",
       "      <td>NaN</td>\n",
       "    </tr>\n",
       "    <tr>\n",
       "      <th>4</th>\n",
       "      <td>C70002472</td>\n",
       "      <td>AMERICAN FEDERATION OF TEACHERS, AFL-CIO</td>\n",
       "      <td>P80000722</td>\n",
       "      <td>BIDEN, JOSEPH R JR</td>\n",
       "      <td>P</td>\n",
       "      <td>US</td>\n",
       "      <td>0</td>\n",
       "      <td>DEM</td>\n",
       "      <td>20201014</td>\n",
       "      <td>57270.03</td>\n",
       "      <td>...</td>\n",
       "      <td>NaN</td>\n",
       "      <td>F7</td>\n",
       "      <td>F76</td>\n",
       "      <td>F76.4104</td>\n",
       "      <td>4121120201968682149</td>\n",
       "      <td>1464167</td>\n",
       "      <td>2020</td>\n",
       "      <td>UNITED STATES</td>\n",
       "      <td>Democratic Party</td>\n",
       "      <td>NaN</td>\n",
       "    </tr>\n",
       "  </tbody>\n",
       "</table>\n",
       "<p>5 rows × 25 columns</p>\n",
       "</div>"
      ],
      "text/plain": [
       "     cmte_id                                   cmte_nm    cand_id  \\\n",
       "0  C70002472  AMERICAN FEDERATION OF TEACHERS, AFL-CIO  P80000722   \n",
       "1  C70002472  AMERICAN FEDERATION OF TEACHERS, AFL-CIO  H8IL14174   \n",
       "2  C70002472  AMERICAN FEDERATION OF TEACHERS, AFL-CIO  P80000722   \n",
       "3  C70002472  AMERICAN FEDERATION OF TEACHERS, AFL-CIO  P80000722   \n",
       "4  C70002472  AMERICAN FEDERATION OF TEACHERS, AFL-CIO  P80000722   \n",
       "\n",
       "            cand_name cand_office cand_state  cand_office_district  \\\n",
       "0  BIDEN, JOSEPH R JR           P         US                     0   \n",
       "1   UNDERWOOD, LAUREN           H         IL                    14   \n",
       "2  BIDEN, JOSEPH R JR           P         US                     0   \n",
       "3  BIDEN, JOSEPH R JR           P         US                     0   \n",
       "4  BIDEN, JOSEPH R JR           P         US                     0   \n",
       "\n",
       "  cand_pty_affiliation  transaction_dt  transaction_amt  ... line_num  \\\n",
       "0                  DEM        20200701          5436.00  ...      NaN   \n",
       "1                  DEM        20201009          1796.93  ...      NaN   \n",
       "2                  DEM        20200930         21830.00  ...      NaN   \n",
       "3                  DEM        20201014         62605.89  ...      NaN   \n",
       "4                  DEM        20201014         57270.03  ...      NaN   \n",
       "\n",
       "  form_tp_cd sched_tp_cd   tran_id               sub_id  file_num rpt_yr  \\\n",
       "0         F7         F76  F76.4106  4111720201939449148   1452191   2020   \n",
       "1         F7         F76  F76.4152  4121120201968682177   1464167   2020   \n",
       "2         F7         F76  F76.4104  4111720201939449150   1452191   2020   \n",
       "3         F7         F76  F76.4102  4121120201968682148   1464167   2020   \n",
       "4         F7         F76  F76.4104  4121120201968682149   1464167   2020   \n",
       "\n",
       "  cand_state_description cand_pty_affiliation_description  purpose  \n",
       "0          UNITED STATES                 Democratic Party      NaN  \n",
       "1               ILLINOIS                 Democratic Party      NaN  \n",
       "2          UNITED STATES                 Democratic Party      NaN  \n",
       "3          UNITED STATES                 Democratic Party      NaN  \n",
       "4          UNITED STATES                 Democratic Party      NaN  \n",
       "\n",
       "[5 rows x 25 columns]"
      ]
     },
     "execution_count": 23,
     "metadata": {},
     "output_type": "execute_result"
    }
   ],
   "source": [
    "df.head(5)"
   ]
  },
  {
   "cell_type": "code",
   "execution_count": 24,
   "metadata": {},
   "outputs": [
    {
     "data": {
      "text/plain": [
       "NATIONAL ASSOCIATION OF REALTORS                               418\n",
       "SIERRA CLUB                                                    117\n",
       "NATIONAL RIFLE ASSOCIATION INSTITUTE FOR LEGISLATIVE ACTION     80\n",
       "AMERICAN FEDERATION OF TEACHERS, AFL-CIO                        34\n",
       "SERVICE EMPLOYEES INTERNATIONAL UNION                            7\n",
       "UFCW LOCAL 1776KS                                                2\n",
       "Name: cmte_nm, dtype: int64"
      ]
     },
     "execution_count": 24,
     "metadata": {},
     "output_type": "execute_result"
    }
   ],
   "source": [
    "df.cmte_nm.value_counts()"
   ]
  },
  {
   "cell_type": "code",
   "execution_count": 25,
   "metadata": {},
   "outputs": [],
   "source": [
    "realtors = df[df.cmte_nm == 'NATIONAL ASSOCIATION OF REALTORS']"
   ]
  },
  {
   "cell_type": "code",
   "execution_count": 26,
   "metadata": {},
   "outputs": [
    {
     "data": {
      "text/plain": [
       "REP    245\n",
       "DEM    173\n",
       "Name: cand_pty_affiliation, dtype: int64"
      ]
     },
     "execution_count": 26,
     "metadata": {},
     "output_type": "execute_result"
    }
   ],
   "source": [
    "realtors.cand_pty_affiliation.value_counts()"
   ]
  },
  {
   "cell_type": "code",
   "execution_count": 27,
   "metadata": {},
   "outputs": [],
   "source": [
    "money = df.groupby('cmte_nm')['transaction_dt'].sum()"
   ]
  },
  {
   "cell_type": "code",
   "execution_count": 28,
   "metadata": {},
   "outputs": [
    {
     "data": {
      "text/plain": [
       "cmte_nm\n",
       "AMERICAN FEDERATION OF TEACHERS, AFL-CIO                        686833817\n",
       "NATIONAL ASSOCIATION OF REALTORS                               8443912086\n",
       "NATIONAL RIFLE ASSOCIATION INSTITUTE FOR LEGISLATIVE ACTION    1616065903\n",
       "SERVICE EMPLOYEES INTERNATIONAL UNION                           141407912\n",
       "SIERRA CLUB                                                    2363505066\n",
       "UFCW LOCAL 1776KS                                                40401831\n",
       "Name: transaction_dt, dtype: int64"
      ]
     },
     "execution_count": 28,
     "metadata": {},
     "output_type": "execute_result"
    }
   ],
   "source": [
    "money"
   ]
  },
  {
   "cell_type": "code",
   "execution_count": 31,
   "metadata": {},
   "outputs": [
    {
     "data": {
      "text/plain": [
       "DEM    331\n",
       "REP    326\n",
       "DFL      1\n",
       "Name: cand_pty_affiliation, dtype: int64"
      ]
     },
     "execution_count": 31,
     "metadata": {},
     "output_type": "execute_result"
    }
   ],
   "source": [
    "df.cand_pty_affiliation.value_counts()"
   ]
  },
  {
   "cell_type": "code",
   "execution_count": null,
   "metadata": {},
   "outputs": [],
   "source": []
  }
 ],
 "metadata": {
  "kernelspec": {
   "display_name": "Python 3",
   "language": "python",
   "name": "python3"
  },
  "language_info": {
   "codemirror_mode": {
    "name": "ipython",
    "version": 3
   },
   "file_extension": ".py",
   "mimetype": "text/x-python",
   "name": "python",
   "nbconvert_exporter": "python",
   "pygments_lexer": "ipython3",
   "version": "3.7.9"
  },
  "varInspector": {
   "cols": {
    "lenName": 16,
    "lenType": 16,
    "lenVar": 40
   },
   "kernels_config": {
    "python": {
     "delete_cmd_postfix": "",
     "delete_cmd_prefix": "del ",
     "library": "var_list.py",
     "varRefreshCmd": "print(var_dic_list())"
    },
    "r": {
     "delete_cmd_postfix": ") ",
     "delete_cmd_prefix": "rm(",
     "library": "var_list.r",
     "varRefreshCmd": "cat(var_dic_list()) "
    }
   },
   "types_to_exclude": [
    "module",
    "function",
    "builtin_function_or_method",
    "instance",
    "_Feature"
   ],
   "window_display": false
  }
 },
 "nbformat": 4,
 "nbformat_minor": 4
}
