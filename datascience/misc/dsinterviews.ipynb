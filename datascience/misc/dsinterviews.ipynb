{
 "cells": [
  {
   "cell_type": "code",
   "execution_count": 24,
   "metadata": {},
   "outputs": [],
   "source": [
    "import pandas as pd\n",
    "import numpy as np\n",
    "from collections import Counter\n",
    "from itertools import permutations"
   ]
  },
  {
   "cell_type": "code",
   "execution_count": 2,
   "metadata": {},
   "outputs": [],
   "source": [
    "df = pd.read_csv('/Users/toddhendricks/Downloads/ds138 - Sheet1.csv')"
   ]
  },
  {
   "cell_type": "code",
   "execution_count": 3,
   "metadata": {},
   "outputs": [
    {
     "data": {
      "text/html": [
       "<div>\n",
       "<style scoped>\n",
       "    .dataframe tbody tr th:only-of-type {\n",
       "        vertical-align: middle;\n",
       "    }\n",
       "\n",
       "    .dataframe tbody tr th {\n",
       "        vertical-align: top;\n",
       "    }\n",
       "\n",
       "    .dataframe thead th {\n",
       "        text-align: right;\n",
       "    }\n",
       "</style>\n",
       "<table border=\"1\" class=\"dataframe\">\n",
       "  <thead>\n",
       "    <tr style=\"text-align: right;\">\n",
       "      <th></th>\n",
       "      <th>Age</th>\n",
       "      <th>Favorite Color</th>\n",
       "      <th>Grade</th>\n",
       "      <th>Name</th>\n",
       "    </tr>\n",
       "  </thead>\n",
       "  <tbody>\n",
       "    <tr>\n",
       "      <th>0</th>\n",
       "      <td>20</td>\n",
       "      <td>blue</td>\n",
       "      <td>88</td>\n",
       "      <td>Willard Morris</td>\n",
       "    </tr>\n",
       "    <tr>\n",
       "      <th>1</th>\n",
       "      <td>19</td>\n",
       "      <td>blue</td>\n",
       "      <td>95</td>\n",
       "      <td>Al Jennings</td>\n",
       "    </tr>\n",
       "    <tr>\n",
       "      <th>2</th>\n",
       "      <td>22</td>\n",
       "      <td>yellow</td>\n",
       "      <td>92</td>\n",
       "      <td>Omar Mullins</td>\n",
       "    </tr>\n",
       "    <tr>\n",
       "      <th>3</th>\n",
       "      <td>21</td>\n",
       "      <td>green</td>\n",
       "      <td>70</td>\n",
       "      <td>Spencer McDaniel</td>\n",
       "    </tr>\n",
       "  </tbody>\n",
       "</table>\n",
       "</div>"
      ],
      "text/plain": [
       "   Age Favorite Color  Grade              Name\n",
       "0   20           blue     88    Willard Morris\n",
       "1   19           blue     95       Al Jennings\n",
       "2   22         yellow     92      Omar Mullins\n",
       "3   21          green     70  Spencer McDaniel"
      ]
     },
     "execution_count": 3,
     "metadata": {},
     "output_type": "execute_result"
    }
   ],
   "source": [
    "df"
   ]
  },
  {
   "cell_type": "code",
   "execution_count": 23,
   "metadata": {},
   "outputs": [],
   "source": [
    "info = df[(df['Favorite Color'].isin(['yellow','blue'])) & (df['Grade'] > 90)]"
   ]
  },
  {
   "cell_type": "code",
   "execution_count": 4,
   "metadata": {},
   "outputs": [],
   "source": [
    "cnt = Counter()"
   ]
  },
  {
   "cell_type": "code",
   "execution_count": 5,
   "metadata": {},
   "outputs": [],
   "source": [
    "reviews = ['app is good, but forced updates are too frequent', 'love this app, use it daily to log calories', 'free version of this app has way too many ads', 'app doesn\\'t load, 0/10']"
   ]
  },
  {
   "cell_type": "code",
   "execution_count": 10,
   "metadata": {},
   "outputs": [],
   "source": [
    "joined_reviews = ''.join(reviews)"
   ]
  },
  {
   "cell_type": "code",
   "execution_count": 14,
   "metadata": {},
   "outputs": [],
   "source": [
    "for item in reviews:\n",
    "    cnt[item] += 1"
   ]
  },
  {
   "cell_type": "code",
   "execution_count": 15,
   "metadata": {},
   "outputs": [
    {
     "data": {
      "text/plain": [
       "Counter({'app is good, but forced updates are too frequent': 3,\n",
       "         'love this app, use it daily to log calories': 3,\n",
       "         'free version of this app has way too many ads': 3,\n",
       "         \"app doesn't load, 0/10\": 3,\n",
       "         'a': 13,\n",
       "         'p': 9,\n",
       "         ' ': 28,\n",
       "         'i': 7,\n",
       "         's': 10,\n",
       "         'g': 2,\n",
       "         'o': 15,\n",
       "         'd': 7,\n",
       "         ',': 3,\n",
       "         'b': 1,\n",
       "         'u': 4,\n",
       "         't': 10,\n",
       "         'f': 4,\n",
       "         'r': 6,\n",
       "         'c': 2,\n",
       "         'e': 12,\n",
       "         'q': 1,\n",
       "         'n': 4,\n",
       "         'l': 5,\n",
       "         'v': 2,\n",
       "         'h': 3,\n",
       "         'y': 3,\n",
       "         'w': 1,\n",
       "         'm': 1,\n",
       "         \"'\": 1,\n",
       "         '0': 2,\n",
       "         '/': 1,\n",
       "         '1': 1})"
      ]
     },
     "execution_count": 15,
     "metadata": {},
     "output_type": "execute_result"
    }
   ],
   "source": [
    "cnt"
   ]
  },
  {
   "cell_type": "code",
   "execution_count": 16,
   "metadata": {},
   "outputs": [],
   "source": [
    "# Can you write a python function that takes in a string and outputs the longest palindrome? If the string itself is a palindrome, the function would output the original string."
   ]
  },
  {
   "cell_type": "code",
   "execution_count": 45,
   "metadata": {},
   "outputs": [],
   "source": [
    "def extract_longest_palindrome(string):\n",
    "    palindrome_list = []\n",
    "    combos = permutations(string,len(string))\n",
    "    for x in combos:\n",
    "        x = ''.join(x)\n",
    "        if x == x[::-1]:\n",
    "            palindrome_list.append()\n",
    "    print(palindrome_list)"
   ]
  },
  {
   "cell_type": "code",
   "execution_count": 46,
   "metadata": {},
   "outputs": [
    {
     "name": "stdout",
     "output_type": "stream",
     "text": [
      "racecar\n",
      "racecar\n",
      "rcaeacr\n",
      "rcaeacr\n",
      "rcaeacr\n",
      "rcaeacr\n",
      "racecar\n",
      "racecar\n",
      "arcecra\n",
      "arcecra\n",
      "acrerca\n",
      "acrerca\n",
      "acrerca\n",
      "acrerca\n",
      "arcecra\n",
      "arcecra\n",
      "craearc\n",
      "craearc\n",
      "carerac\n",
      "carerac\n",
      "carerac\n",
      "carerac\n",
      "craearc\n",
      "craearc\n",
      "craearc\n",
      "craearc\n",
      "carerac\n",
      "carerac\n",
      "carerac\n",
      "carerac\n",
      "craearc\n",
      "craearc\n",
      "arcecra\n",
      "arcecra\n",
      "acrerca\n",
      "acrerca\n",
      "acrerca\n",
      "acrerca\n",
      "arcecra\n",
      "arcecra\n",
      "racecar\n",
      "racecar\n",
      "rcaeacr\n",
      "rcaeacr\n",
      "rcaeacr\n",
      "rcaeacr\n",
      "racecar\n",
      "racecar\n",
      "[]\n"
     ]
    }
   ],
   "source": [
    "extract_longest_palindrome('racers')"
   ]
  },
  {
   "cell_type": "code",
   "execution_count": null,
   "metadata": {},
   "outputs": [],
   "source": []
  }
 ],
 "metadata": {
  "kernelspec": {
   "display_name": "Python 3",
   "language": "python",
   "name": "python3"
  },
  "language_info": {
   "codemirror_mode": {
    "name": "ipython",
    "version": 3
   },
   "file_extension": ".py",
   "mimetype": "text/x-python",
   "name": "python",
   "nbconvert_exporter": "python",
   "pygments_lexer": "ipython3",
   "version": "3.7.6"
  },
  "varInspector": {
   "cols": {
    "lenName": 16,
    "lenType": 16,
    "lenVar": 40
   },
   "kernels_config": {
    "python": {
     "delete_cmd_postfix": "",
     "delete_cmd_prefix": "del ",
     "library": "var_list.py",
     "varRefreshCmd": "print(var_dic_list())"
    },
    "r": {
     "delete_cmd_postfix": ") ",
     "delete_cmd_prefix": "rm(",
     "library": "var_list.r",
     "varRefreshCmd": "cat(var_dic_list()) "
    }
   },
   "types_to_exclude": [
    "module",
    "function",
    "builtin_function_or_method",
    "instance",
    "_Feature"
   ],
   "window_display": false
  }
 },
 "nbformat": 4,
 "nbformat_minor": 4
}
