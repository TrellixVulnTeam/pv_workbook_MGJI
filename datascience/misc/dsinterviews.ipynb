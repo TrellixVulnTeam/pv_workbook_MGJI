{
 "cells": [
  {
   "cell_type": "code",
   "execution_count": 16,
   "metadata": {},
   "outputs": [],
   "source": [
    "import pandas as pd\n",
    "import numpy as np\n",
    "import seaborn as sns"
   ]
  },
  {
   "cell_type": "code",
   "execution_count": 6,
   "metadata": {},
   "outputs": [],
   "source": [
    "df = pd.read_csv('chase2020.csv')"
   ]
  },
  {
   "cell_type": "code",
   "execution_count": 7,
   "metadata": {},
   "outputs": [
    {
     "data": {
      "text/html": [
       "<div>\n",
       "<style scoped>\n",
       "    .dataframe tbody tr th:only-of-type {\n",
       "        vertical-align: middle;\n",
       "    }\n",
       "\n",
       "    .dataframe tbody tr th {\n",
       "        vertical-align: top;\n",
       "    }\n",
       "\n",
       "    .dataframe thead th {\n",
       "        text-align: right;\n",
       "    }\n",
       "</style>\n",
       "<table border=\"1\" class=\"dataframe\">\n",
       "  <thead>\n",
       "    <tr style=\"text-align: right;\">\n",
       "      <th></th>\n",
       "      <th>Transaction Date</th>\n",
       "      <th>Post Date</th>\n",
       "      <th>Description</th>\n",
       "      <th>Category</th>\n",
       "      <th>Type</th>\n",
       "      <th>Amount</th>\n",
       "    </tr>\n",
       "  </thead>\n",
       "  <tbody>\n",
       "    <tr>\n",
       "      <th>0</th>\n",
       "      <td>06/04/2020</td>\n",
       "      <td>06/05/2020</td>\n",
       "      <td>APPLE.COM/BILL</td>\n",
       "      <td>Shopping</td>\n",
       "      <td>Sale</td>\n",
       "      <td>-0.99</td>\n",
       "    </tr>\n",
       "    <tr>\n",
       "      <th>1</th>\n",
       "      <td>06/01/2020</td>\n",
       "      <td>06/02/2020</td>\n",
       "      <td>NYTIMES</td>\n",
       "      <td>Bills &amp; Utilities</td>\n",
       "      <td>Sale</td>\n",
       "      <td>-16.00</td>\n",
       "    </tr>\n",
       "    <tr>\n",
       "      <th>2</th>\n",
       "      <td>06/01/2020</td>\n",
       "      <td>06/02/2020</td>\n",
       "      <td>AT&amp;amp;T*BILL PAYMENT</td>\n",
       "      <td>Bills &amp; Utilities</td>\n",
       "      <td>Sale</td>\n",
       "      <td>-69.00</td>\n",
       "    </tr>\n",
       "    <tr>\n",
       "      <th>3</th>\n",
       "      <td>06/01/2020</td>\n",
       "      <td>06/01/2020</td>\n",
       "      <td>Audible*MY0H793W1</td>\n",
       "      <td>Bills &amp; Utilities</td>\n",
       "      <td>Sale</td>\n",
       "      <td>-14.95</td>\n",
       "    </tr>\n",
       "    <tr>\n",
       "      <th>4</th>\n",
       "      <td>05/31/2020</td>\n",
       "      <td>06/01/2020</td>\n",
       "      <td>DOORDASH*URBAN PLATES</td>\n",
       "      <td>Food &amp; Drink</td>\n",
       "      <td>Sale</td>\n",
       "      <td>-46.28</td>\n",
       "    </tr>\n",
       "    <tr>\n",
       "      <th>...</th>\n",
       "      <td>...</td>\n",
       "      <td>...</td>\n",
       "      <td>...</td>\n",
       "      <td>...</td>\n",
       "      <td>...</td>\n",
       "      <td>...</td>\n",
       "    </tr>\n",
       "    <tr>\n",
       "      <th>152</th>\n",
       "      <td>01/12/2020</td>\n",
       "      <td>01/13/2020</td>\n",
       "      <td>CVS/PHARMACY #09378</td>\n",
       "      <td>Health &amp; Wellness</td>\n",
       "      <td>Sale</td>\n",
       "      <td>-38.82</td>\n",
       "    </tr>\n",
       "    <tr>\n",
       "      <th>153</th>\n",
       "      <td>01/11/2020</td>\n",
       "      <td>01/12/2020</td>\n",
       "      <td>PATRICK WHALEN  PHD</td>\n",
       "      <td>Health &amp; Wellness</td>\n",
       "      <td>Sale</td>\n",
       "      <td>-260.00</td>\n",
       "    </tr>\n",
       "    <tr>\n",
       "      <th>154</th>\n",
       "      <td>01/04/2020</td>\n",
       "      <td>01/05/2020</td>\n",
       "      <td>MICROVENTURES</td>\n",
       "      <td>Personal</td>\n",
       "      <td>Sale</td>\n",
       "      <td>-207.00</td>\n",
       "    </tr>\n",
       "    <tr>\n",
       "      <th>155</th>\n",
       "      <td>01/03/2020</td>\n",
       "      <td>01/05/2020</td>\n",
       "      <td>NEW YORK TIMES DIGITAL</td>\n",
       "      <td>Bills &amp; Utilities</td>\n",
       "      <td>Sale</td>\n",
       "      <td>-16.00</td>\n",
       "    </tr>\n",
       "    <tr>\n",
       "      <th>156</th>\n",
       "      <td>01/02/2020</td>\n",
       "      <td>01/05/2020</td>\n",
       "      <td>SAFEWAY #638</td>\n",
       "      <td>Groceries</td>\n",
       "      <td>Sale</td>\n",
       "      <td>-26.31</td>\n",
       "    </tr>\n",
       "  </tbody>\n",
       "</table>\n",
       "<p>157 rows × 6 columns</p>\n",
       "</div>"
      ],
      "text/plain": [
       "    Transaction Date   Post Date             Description           Category  \\\n",
       "0         06/04/2020  06/05/2020          APPLE.COM/BILL           Shopping   \n",
       "1         06/01/2020  06/02/2020                 NYTIMES  Bills & Utilities   \n",
       "2         06/01/2020  06/02/2020   AT&amp;T*BILL PAYMENT  Bills & Utilities   \n",
       "3         06/01/2020  06/01/2020       Audible*MY0H793W1  Bills & Utilities   \n",
       "4         05/31/2020  06/01/2020   DOORDASH*URBAN PLATES       Food & Drink   \n",
       "..               ...         ...                     ...                ...   \n",
       "152       01/12/2020  01/13/2020     CVS/PHARMACY #09378  Health & Wellness   \n",
       "153       01/11/2020  01/12/2020     PATRICK WHALEN  PHD  Health & Wellness   \n",
       "154       01/04/2020  01/05/2020           MICROVENTURES           Personal   \n",
       "155       01/03/2020  01/05/2020  NEW YORK TIMES DIGITAL  Bills & Utilities   \n",
       "156       01/02/2020  01/05/2020            SAFEWAY #638          Groceries   \n",
       "\n",
       "     Type  Amount  \n",
       "0    Sale   -0.99  \n",
       "1    Sale  -16.00  \n",
       "2    Sale  -69.00  \n",
       "3    Sale  -14.95  \n",
       "4    Sale  -46.28  \n",
       "..    ...     ...  \n",
       "152  Sale  -38.82  \n",
       "153  Sale -260.00  \n",
       "154  Sale -207.00  \n",
       "155  Sale  -16.00  \n",
       "156  Sale  -26.31  \n",
       "\n",
       "[157 rows x 6 columns]"
      ]
     },
     "execution_count": 7,
     "metadata": {},
     "output_type": "execute_result"
    }
   ],
   "source": [
    "df"
   ]
  },
  {
   "cell_type": "code",
   "execution_count": 12,
   "metadata": {},
   "outputs": [],
   "source": [
    "by_category = df.groupby(['Category'])['Amount'].count()"
   ]
  },
  {
   "cell_type": "code",
   "execution_count": 15,
   "metadata": {},
   "outputs": [],
   "source": [
    "cat_counts = by_category.sort_values()"
   ]
  },
  {
   "cell_type": "code",
   "execution_count": 27,
   "metadata": {},
   "outputs": [
    {
     "data": {
      "text/plain": [
       "[Text(0, 0, 'Automotive'),\n",
       " Text(0, 0, 'Education'),\n",
       " Text(0, 0, 'Professional Services'),\n",
       " Text(0, 0, 'Gas'),\n",
       " Text(0, 0, 'Personal'),\n",
       " Text(0, 0, 'Travel'),\n",
       " Text(0, 0, 'Fees & Adjustments'),\n",
       " Text(0, 0, 'Health & Wellness'),\n",
       " Text(0, 0, 'Bills & Utilities'),\n",
       " Text(0, 0, 'Shopping'),\n",
       " Text(0, 0, 'Groceries'),\n",
       " Text(0, 0, 'Food & Drink')]"
      ]
     },
     "execution_count": 27,
     "metadata": {},
     "output_type": "execute_result"
    },
    {
     "data": {
      "image/png": "[encoded data removed]",
      "text/plain": [
       "<Figure size 432x288 with 1 Axes>"
      ]
     },
     "metadata": {
      "needs_background": "light"
     },
     "output_type": "display_data"
    }
   ],
   "source": [
    "x = sns.barplot(x=cat_counts.index,y=cat_counts.values)\n",
    "x.set_xticklabels(x.get_xticklabels(), rotation=30)"
   ]
  },
  {
   "cell_type": "code",
   "execution_count": 28,
   "metadata": {},
   "outputs": [],
   "source": [
    "fees = df[df['Category'] == 'Fees & Adjustments']"
   ]
  },
  {
   "cell_type": "code",
   "execution_count": 14,
   "metadata": {},
   "outputs": [],
   "source": [
    "fees."
   ]
  },
  {
   "cell_type": "code",
   "execution_count": 15,
   "metadata": {},
   "outputs": [
    {
     "data": {
      "text/plain": [
       "Counter({'app is good, but forced updates are too frequent': 3,\n",
       "         'love this app, use it daily to log calories': 3,\n",
       "         'free version of this app has way too many ads': 3,\n",
       "         \"app doesn't load, 0/10\": 3,\n",
       "         'a': 13,\n",
       "         'p': 9,\n",
       "         ' ': 28,\n",
       "         'i': 7,\n",
       "         's': 10,\n",
       "         'g': 2,\n",
       "         'o': 15,\n",
       "         'd': 7,\n",
       "         ',': 3,\n",
       "         'b': 1,\n",
       "         'u': 4,\n",
       "         't': 10,\n",
       "         'f': 4,\n",
       "         'r': 6,\n",
       "         'c': 2,\n",
       "         'e': 12,\n",
       "         'q': 1,\n",
       "         'n': 4,\n",
       "         'l': 5,\n",
       "         'v': 2,\n",
       "         'h': 3,\n",
       "         'y': 3,\n",
       "         'w': 1,\n",
       "         'm': 1,\n",
       "         \"'\": 1,\n",
       "         '0': 2,\n",
       "         '/': 1,\n",
       "         '1': 1})"
      ]
     },
     "execution_count": 15,
     "metadata": {},
     "output_type": "execute_result"
    }
   ],
   "source": [
    "cnt"
   ]
  },
  {
   "cell_type": "code",
   "execution_count": 16,
   "metadata": {},
   "outputs": [],
   "source": [
    "# Can you write a python function that takes in a string and outputs the longest palindrome? If the string itself is a palindrome, the function would output the original string."
   ]
  },
  {
   "cell_type": "code",
   "execution_count": 45,
   "metadata": {},
   "outputs": [],
   "source": [
    "def extract_longest_palindrome(string):\n",
    "    palindrome_list = []\n",
    "    combos = permutations(string,len(string))\n",
    "    for x in combos:\n",
    "        x = ''.join(x)\n",
    "        if x == x[::-1]:\n",
    "            palindrome_list.append()\n",
    "    print(palindrome_list)"
   ]
  },
  {
   "cell_type": "code",
   "execution_count": 46,
   "metadata": {},
   "outputs": [
    {
     "name": "stdout",
     "output_type": "stream",
     "text": [
      "racecar\n",
      "racecar\n",
      "rcaeacr\n",
      "rcaeacr\n",
      "rcaeacr\n",
      "rcaeacr\n",
      "racecar\n",
      "racecar\n",
      "arcecra\n",
      "arcecra\n",
      "acrerca\n",
      "acrerca\n",
      "acrerca\n",
      "acrerca\n",
      "arcecra\n",
      "arcecra\n",
      "craearc\n",
      "craearc\n",
      "carerac\n",
      "carerac\n",
      "carerac\n",
      "carerac\n",
      "craearc\n",
      "craearc\n",
      "craearc\n",
      "craearc\n",
      "carerac\n",
      "carerac\n",
      "carerac\n",
      "carerac\n",
      "craearc\n",
      "craearc\n",
      "arcecra\n",
      "arcecra\n",
      "acrerca\n",
      "acrerca\n",
      "acrerca\n",
      "acrerca\n",
      "arcecra\n",
      "arcecra\n",
      "racecar\n",
      "racecar\n",
      "rcaeacr\n",
      "rcaeacr\n",
      "rcaeacr\n",
      "rcaeacr\n",
      "racecar\n",
      "racecar\n",
      "[]\n"
     ]
    }
   ],
   "source": [
    "extract_longest_palindrome('racers')"
   ]
  }
 ],
 "metadata": {
  "kernelspec": {
   "display_name": "Python 3",
   "language": "python",
   "name": "python3"
  },
  "language_info": {
   "codemirror_mode": {
    "name": "ipython",
    "version": 3
   },
   "file_extension": ".py",
   "mimetype": "text/x-python",
   "name": "python",
   "nbconvert_exporter": "python",
   "pygments_lexer": "ipython3",
   "version": "3.8.2"
  },
  "varInspector": {
   "cols": {
    "lenName": 16,
    "lenType": 16,
    "lenVar": 40
   },
   "kernels_config": {
    "python": {
     "delete_cmd_postfix": "",
     "delete_cmd_prefix": "del ",
     "library": "var_list.py",
     "varRefreshCmd": "print(var_dic_list())"
    },
    "r": {
     "delete_cmd_postfix": ") ",
     "delete_cmd_prefix": "rm(",
     "library": "var_list.r",
     "varRefreshCmd": "cat(var_dic_list()) "
    }
   },
   "types_to_exclude": [
    "module",
    "function",
    "builtin_function_or_method",
    "instance",
    "_Feature"
   ],
   "window_display": false
  }
 },
 "nbformat": 4,
 "nbformat_minor": 4
}
