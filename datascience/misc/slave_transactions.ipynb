{
 "cells": [
  {
   "cell_type": "code",
   "execution_count": 1,
   "metadata": {},
   "outputs": [],
   "source": [
    "import pandas as pd"
   ]
  },
  {
   "cell_type": "code",
   "execution_count": 2,
   "metadata": {},
   "outputs": [],
   "source": [
    "df = pd.read_csv('/Users/toddhendricks/Downloads/CalomirisPritchett_data.csv')"
   ]
  },
  {
   "cell_type": "code",
   "execution_count": 3,
   "metadata": {},
   "outputs": [
    {
     "data": {
      "text/html": [
       "<div>\n",
       "<style scoped>\n",
       "    .dataframe tbody tr th:only-of-type {\n",
       "        vertical-align: middle;\n",
       "    }\n",
       "\n",
       "    .dataframe tbody tr th {\n",
       "        vertical-align: top;\n",
       "    }\n",
       "\n",
       "    .dataframe thead th {\n",
       "        text-align: right;\n",
       "    }\n",
       "</style>\n",
       "<table border=\"1\" class=\"dataframe\">\n",
       "  <thead>\n",
       "    <tr style=\"text-align: right;\">\n",
       "      <th></th>\n",
       "      <th>ID number</th>\n",
       "      <th>Conveyance</th>\n",
       "      <th>Page</th>\n",
       "      <th>Researcher</th>\n",
       "      <th>Notary First Name</th>\n",
       "      <th>Notary Last Name</th>\n",
       "      <th>Sales Date</th>\n",
       "      <th>Sellers First Name</th>\n",
       "      <th>Sellers Last Name</th>\n",
       "      <th>Sellers County of Origin</th>\n",
       "      <th>...</th>\n",
       "      <th>Interest Rate</th>\n",
       "      <th>Discount Rate</th>\n",
       "      <th>predicted rate</th>\n",
       "      <th>Calculations</th>\n",
       "      <th>Ratio</th>\n",
       "      <th>PresentValue</th>\n",
       "      <th>DUMMY omission</th>\n",
       "      <th>Reason for Omission</th>\n",
       "      <th>Comments</th>\n",
       "      <th>DUMMY Estate Sale</th>\n",
       "    </tr>\n",
       "  </thead>\n",
       "  <tbody>\n",
       "    <tr>\n",
       "      <th>0</th>\n",
       "      <td>1.0</td>\n",
       "      <td>70.0</td>\n",
       "      <td>348</td>\n",
       "      <td>MS</td>\n",
       "      <td>John French</td>\n",
       "      <td>Coffey</td>\n",
       "      <td>10/6/1856</td>\n",
       "      <td>Benjamin</td>\n",
       "      <td>Screws</td>\n",
       "      <td>.</td>\n",
       "      <td>...</td>\n",
       "      <td>NaN</td>\n",
       "      <td>0.00602698</td>\n",
       "      <td>0.07477</td>\n",
       "      <td>NaN</td>\n",
       "      <td>NaN</td>\n",
       "      <td>NaN</td>\n",
       "      <td>0.0</td>\n",
       "      <td>NaN</td>\n",
       "      <td>NaN</td>\n",
       "      <td>NaN</td>\n",
       "    </tr>\n",
       "    <tr>\n",
       "      <th>1</th>\n",
       "      <td>2.0</td>\n",
       "      <td>70.0</td>\n",
       "      <td>349</td>\n",
       "      <td>MS</td>\n",
       "      <td>William</td>\n",
       "      <td>Shannon</td>\n",
       "      <td>10/7/1856</td>\n",
       "      <td>Santiago</td>\n",
       "      <td>Galseran</td>\n",
       "      <td>New Orleans</td>\n",
       "      <td>...</td>\n",
       "      <td>NaN</td>\n",
       "      <td>0.00602698</td>\n",
       "      <td>0.07477</td>\n",
       "      <td>NaN</td>\n",
       "      <td>NaN</td>\n",
       "      <td>NaN</td>\n",
       "      <td>0.0</td>\n",
       "      <td>NaN</td>\n",
       "      <td>NaN</td>\n",
       "      <td>NaN</td>\n",
       "    </tr>\n",
       "    <tr>\n",
       "      <th>2</th>\n",
       "      <td>3.0</td>\n",
       "      <td>70.0</td>\n",
       "      <td>351</td>\n",
       "      <td>MS</td>\n",
       "      <td>Edward George</td>\n",
       "      <td>Gottschalk</td>\n",
       "      <td>10/1/1856</td>\n",
       "      <td>Pierre</td>\n",
       "      <td>Macou</td>\n",
       "      <td>New Orleans</td>\n",
       "      <td>...</td>\n",
       "      <td>NaN</td>\n",
       "      <td>0.00602698</td>\n",
       "      <td>0.07477</td>\n",
       "      <td>NaN</td>\n",
       "      <td>NaN</td>\n",
       "      <td>NaN</td>\n",
       "      <td>0.0</td>\n",
       "      <td>NaN</td>\n",
       "      <td>NaN</td>\n",
       "      <td>NaN</td>\n",
       "    </tr>\n",
       "    <tr>\n",
       "      <th>3</th>\n",
       "      <td>4.0</td>\n",
       "      <td>70.0</td>\n",
       "      <td>352</td>\n",
       "      <td>MS</td>\n",
       "      <td>Paul Emile</td>\n",
       "      <td>Laresche</td>\n",
       "      <td>10/8/1856</td>\n",
       "      <td>Benjamin Franklin</td>\n",
       "      <td>Irby</td>\n",
       "      <td>Vanzand</td>\n",
       "      <td>...</td>\n",
       "      <td>NaN</td>\n",
       "      <td>0.00602698</td>\n",
       "      <td>0.07477</td>\n",
       "      <td>NaN</td>\n",
       "      <td>NaN</td>\n",
       "      <td>NaN</td>\n",
       "      <td>0.0</td>\n",
       "      <td>NaN</td>\n",
       "      <td>NaN</td>\n",
       "      <td>NaN</td>\n",
       "    </tr>\n",
       "    <tr>\n",
       "      <th>4</th>\n",
       "      <td>5.0</td>\n",
       "      <td>70.0</td>\n",
       "      <td>352</td>\n",
       "      <td>MS</td>\n",
       "      <td>George</td>\n",
       "      <td>Rareshide</td>\n",
       "      <td>10/8/1856</td>\n",
       "      <td>Richard</td>\n",
       "      <td>Condon</td>\n",
       "      <td>New Orleans</td>\n",
       "      <td>...</td>\n",
       "      <td>NaN</td>\n",
       "      <td>0.00602698</td>\n",
       "      <td>0.07477</td>\n",
       "      <td>NaN</td>\n",
       "      <td>NaN</td>\n",
       "      <td>NaN</td>\n",
       "      <td>0.0</td>\n",
       "      <td>NaN</td>\n",
       "      <td>NaN</td>\n",
       "      <td>NaN</td>\n",
       "    </tr>\n",
       "  </tbody>\n",
       "</table>\n",
       "<p>5 rows × 71 columns</p>\n",
       "</div>"
      ],
      "text/plain": [
       "   ID number  Conveyance Page Researcher Notary First Name Notary Last Name  \\\n",
       "0        1.0        70.0  348         MS       John French           Coffey   \n",
       "1        2.0        70.0  349         MS           William          Shannon   \n",
       "2        3.0        70.0  351         MS     Edward George       Gottschalk   \n",
       "3        4.0        70.0  352         MS        Paul Emile         Laresche   \n",
       "4        5.0        70.0  352         MS            George        Rareshide   \n",
       "\n",
       "  Sales Date Sellers First Name Sellers Last Name Sellers County of Origin  \\\n",
       "0  10/6/1856           Benjamin            Screws                        .   \n",
       "1  10/7/1856           Santiago          Galseran              New Orleans   \n",
       "2  10/1/1856             Pierre             Macou              New Orleans   \n",
       "3  10/8/1856  Benjamin Franklin              Irby                  Vanzand   \n",
       "4  10/8/1856            Richard            Condon              New Orleans   \n",
       "\n",
       "   ... Interest Rate Discount Rate predicted rate Calculations Ratio  \\\n",
       "0  ...           NaN    0.00602698        0.07477          NaN   NaN   \n",
       "1  ...           NaN    0.00602698        0.07477          NaN   NaN   \n",
       "2  ...           NaN    0.00602698        0.07477          NaN   NaN   \n",
       "3  ...           NaN    0.00602698        0.07477          NaN   NaN   \n",
       "4  ...           NaN    0.00602698        0.07477          NaN   NaN   \n",
       "\n",
       "  PresentValue DUMMY omission Reason for Omission Comments DUMMY Estate Sale  \n",
       "0          NaN            0.0                 NaN      NaN               NaN  \n",
       "1          NaN            0.0                 NaN      NaN               NaN  \n",
       "2          NaN            0.0                 NaN      NaN               NaN  \n",
       "3          NaN            0.0                 NaN      NaN               NaN  \n",
       "4          NaN            0.0                 NaN      NaN               NaN  \n",
       "\n",
       "[5 rows x 71 columns]"
      ]
     },
     "execution_count": 3,
     "metadata": {},
     "output_type": "execute_result"
    }
   ],
   "source": [
    "df.head(5)"
   ]
  },
  {
   "cell_type": "code",
   "execution_count": 6,
   "metadata": {},
   "outputs": [
    {
     "data": {
      "text/plain": [
       "0    NaN\n",
       "1    NaN\n",
       "2    NaN\n",
       "3    NaN\n",
       "4    NaN\n",
       "Name: PresentValue, dtype: object"
      ]
     },
     "execution_count": 6,
     "metadata": {},
     "output_type": "execute_result"
    }
   ],
   "source": [
    "df['PresentValue'].head(5)"
   ]
  },
  {
   "cell_type": "code",
   "execution_count": 12,
   "metadata": {},
   "outputs": [],
   "source": [
    "df['Sales Date'] = pd.to_datetime(df['Sales Date'], errors='coerce')"
   ]
  },
  {
   "cell_type": "code",
   "execution_count": null,
   "metadata": {},
   "outputs": [],
   "source": []
  }
 ],
 "metadata": {
  "kernelspec": {
   "display_name": "Python 3",
   "language": "python",
   "name": "python3"
  },
  "language_info": {
   "codemirror_mode": {
    "name": "ipython",
    "version": 3
   },
   "file_extension": ".py",
   "mimetype": "text/x-python",
   "name": "python",
   "nbconvert_exporter": "python",
   "pygments_lexer": "ipython3",
   "version": "3.7.6"
  },
  "varInspector": {
   "cols": {
    "lenName": 16,
    "lenType": 16,
    "lenVar": 40
   },
   "kernels_config": {
    "python": {
     "delete_cmd_postfix": "",
     "delete_cmd_prefix": "del ",
     "library": "var_list.py",
     "varRefreshCmd": "print(var_dic_list())"
    },
    "r": {
     "delete_cmd_postfix": ") ",
     "delete_cmd_prefix": "rm(",
     "library": "var_list.r",
     "varRefreshCmd": "cat(var_dic_list()) "
    }
   },
   "types_to_exclude": [
    "module",
    "function",
    "builtin_function_or_method",
    "instance",
    "_Feature"
   ],
   "window_display": false
  }
 },
 "nbformat": 4,
 "nbformat_minor": 4
}
