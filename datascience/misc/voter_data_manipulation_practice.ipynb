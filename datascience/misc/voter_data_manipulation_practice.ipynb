{
 "cells": [
  {
   "cell_type": "code",
   "execution_count": 174,
   "metadata": {},
   "outputs": [],
   "source": [
    "import pandas as pd\n",
    "from datetime import datetime\n",
    "from datetime import date\n",
    "import seaborn as sns"
   ]
  },
  {
   "cell_type": "code",
   "execution_count": 175,
   "metadata": {},
   "outputs": [],
   "source": [
    "df = pd.read_csv('voter_list.csv')"
   ]
  },
  {
   "cell_type": "code",
   "execution_count": 176,
   "metadata": {},
   "outputs": [
    {
     "data": {
      "text/plain": [
       "Index(['job', 'company', 'ssn', 'residence', 'current_location', 'blood_group',\n",
       "       'website', 'username', 'name', 'sex', 'address', 'mail', 'birthdate',\n",
       "       'party'],\n",
       "      dtype='object')"
      ]
     },
     "execution_count": 176,
     "metadata": {},
     "output_type": "execute_result"
    }
   ],
   "source": [
    "df.columns"
   ]
  },
  {
   "cell_type": "code",
   "execution_count": 177,
   "metadata": {},
   "outputs": [],
   "source": [
    "# create age column\n",
    "df['dob'] = pd.to_datetime(df.birthdate, errors='coerce')\n",
    "now = pd.to_datetime('now')\n",
    "df['age'] = (now - df['dob']).astype('<m8[Y]')"
   ]
  },
  {
   "cell_type": "code",
   "execution_count": 178,
   "metadata": {},
   "outputs": [],
   "source": [
    "# remove unrealistic ages\n",
    "df = df[(df.age > 18) & (df.age < 95)]"
   ]
  },
  {
   "cell_type": "code",
   "execution_count": 179,
   "metadata": {},
   "outputs": [
    {
     "data": {
      "text/plain": [
       "(3325, 16)"
      ]
     },
     "execution_count": 179,
     "metadata": {},
     "output_type": "execute_result"
    }
   ],
   "source": [
    "df.shape"
   ]
  },
  {
   "cell_type": "code",
   "execution_count": 180,
   "metadata": {},
   "outputs": [
    {
     "name": "stderr",
     "output_type": "stream",
     "text": [
      "/Users/toddhendricks/miniconda3/lib/python3.7/site-packages/seaborn/distributions.py:2551: FutureWarning: `distplot` is a deprecated function and will be removed in a future version. Please adapt your code to use either `displot` (a figure-level function with similar flexibility) or `histplot` (an axes-level function for histograms).\n",
      "  warnings.warn(msg, FutureWarning)\n"
     ]
    },
    {
     "data": {
      "text/plain": [
       "<AxesSubplot:xlabel='age', ylabel='Density'>"
      ]
     },
     "execution_count": 180,
     "metadata": {},
     "output_type": "execute_result"
    },
    {
     "data": {
      "image/png": "[encoded data removed]",
      "text/plain": [
       "<Figure size 432x288 with 1 Axes>"
      ]
     },
     "metadata": {
      "needs_background": "light"
     },
     "output_type": "display_data"
    }
   ],
   "source": [
    "sns.distplot(df.age, bins=25)"
   ]
  },
  {
   "cell_type": "code",
   "execution_count": 181,
   "metadata": {},
   "outputs": [],
   "source": [
    "df.residence = df.residence.str.replace('\\n', ' ').str.split(',')\n"
   ]
  },
  {
   "cell_type": "code",
   "execution_count": 182,
   "metadata": {},
   "outputs": [],
   "source": [
    "df['street'] = df.residence.str[0]\n",
    "df['zip'] = df.residence.str[-1]"
   ]
  },
  {
   "cell_type": "code",
   "execution_count": 183,
   "metadata": {},
   "outputs": [],
   "source": [
    "df['zip'] = df.zip.str.split(' ')"
   ]
  },
  {
   "cell_type": "code",
   "execution_count": 184,
   "metadata": {},
   "outputs": [],
   "source": [
    "df['state'] = df['zip'].str[-2]\n",
    "df['zip'] = df['zip'].str[-1]"
   ]
  },
  {
   "cell_type": "code",
   "execution_count": 185,
   "metadata": {},
   "outputs": [
    {
     "data": {
      "text/html": [
       "<div>\n",
       "<style scoped>\n",
       "    .dataframe tbody tr th:only-of-type {\n",
       "        vertical-align: middle;\n",
       "    }\n",
       "\n",
       "    .dataframe tbody tr th {\n",
       "        vertical-align: top;\n",
       "    }\n",
       "\n",
       "    .dataframe thead th {\n",
       "        text-align: right;\n",
       "    }\n",
       "</style>\n",
       "<table border=\"1\" class=\"dataframe\">\n",
       "  <thead>\n",
       "    <tr style=\"text-align: right;\">\n",
       "      <th></th>\n",
       "      <th>job</th>\n",
       "      <th>company</th>\n",
       "      <th>ssn</th>\n",
       "      <th>residence</th>\n",
       "      <th>current_location</th>\n",
       "      <th>blood_group</th>\n",
       "      <th>website</th>\n",
       "      <th>username</th>\n",
       "      <th>name</th>\n",
       "      <th>sex</th>\n",
       "      <th>address</th>\n",
       "      <th>mail</th>\n",
       "      <th>birthdate</th>\n",
       "      <th>party</th>\n",
       "      <th>dob</th>\n",
       "      <th>age</th>\n",
       "      <th>street</th>\n",
       "      <th>zip</th>\n",
       "      <th>state</th>\n",
       "    </tr>\n",
       "  </thead>\n",
       "  <tbody>\n",
       "    <tr>\n",
       "      <th>0</th>\n",
       "      <td>Copy</td>\n",
       "      <td>Martinez, Butler and Tyler</td>\n",
       "      <td>739-93-9938</td>\n",
       "      <td>[341 Melanie Corner Yatesfort,  NV 10325]</td>\n",
       "      <td>(Decimal('-59.027381'), Decimal('170.343013'))</td>\n",
       "      <td>AB-</td>\n",
       "      <td>['http://www.payne-franco.info/']</td>\n",
       "      <td>sandy44</td>\n",
       "      <td>Sarah Whitaker</td>\n",
       "      <td>F</td>\n",
       "      <td>0697 Hunter Trafficway\\nSmithview, MI 71119</td>\n",
       "      <td>stephenpacheco@yahoo.com</td>\n",
       "      <td>1926-04-20</td>\n",
       "      <td>D</td>\n",
       "      <td>1926-04-20</td>\n",
       "      <td>94.0</td>\n",
       "      <td>341 Melanie Corner Yatesfort</td>\n",
       "      <td>10325</td>\n",
       "      <td>NV</td>\n",
       "    </tr>\n",
       "    <tr>\n",
       "      <th>2</th>\n",
       "      <td>Control and instrumentation engineer</td>\n",
       "      <td>Wade LLC</td>\n",
       "      <td>521-07-5850</td>\n",
       "      <td>[753 Green Heights Romeromouth,  ID 48554]</td>\n",
       "      <td>(Decimal('55.072960'), Decimal('130.394536'))</td>\n",
       "      <td>AB-</td>\n",
       "      <td>['https://ramsey.com/', 'http://williams-holme...</td>\n",
       "      <td>mccannstephanie</td>\n",
       "      <td>Richard Williams</td>\n",
       "      <td>M</td>\n",
       "      <td>PSC 4695, Box 9369\\nAPO AA 96855</td>\n",
       "      <td>rayers@gmail.com</td>\n",
       "      <td>1998-11-09</td>\n",
       "      <td>D</td>\n",
       "      <td>1998-11-09</td>\n",
       "      <td>22.0</td>\n",
       "      <td>753 Green Heights Romeromouth</td>\n",
       "      <td>48554</td>\n",
       "      <td>ID</td>\n",
       "    </tr>\n",
       "    <tr>\n",
       "      <th>3</th>\n",
       "      <td>Sound technician, broadcasting/film/video</td>\n",
       "      <td>Maxwell-George</td>\n",
       "      <td>403-55-6616</td>\n",
       "      <td>[18600 Jordan Islands Ryanshire,  IA 76250]</td>\n",
       "      <td>(Decimal('44.1995135'), Decimal('-130.254447'))</td>\n",
       "      <td>O-</td>\n",
       "      <td>['https://www.allen.info/']</td>\n",
       "      <td>jaredmiller</td>\n",
       "      <td>Tonya Collins</td>\n",
       "      <td>F</td>\n",
       "      <td>9485 Monica Causeway\\nSouth Juliebury, LA 36657</td>\n",
       "      <td>anthonywilson@gmail.com</td>\n",
       "      <td>1961-10-21</td>\n",
       "      <td>R</td>\n",
       "      <td>1961-10-21</td>\n",
       "      <td>59.0</td>\n",
       "      <td>18600 Jordan Islands Ryanshire</td>\n",
       "      <td>76250</td>\n",
       "      <td>IA</td>\n",
       "    </tr>\n",
       "    <tr>\n",
       "      <th>4</th>\n",
       "      <td>Graphic designer</td>\n",
       "      <td>Morris-Stanton</td>\n",
       "      <td>297-11-1710</td>\n",
       "      <td>[5973 Smith Trace Apt. 615 Garciachester,  KS ...</td>\n",
       "      <td>(Decimal('2.841826'), Decimal('60.096921'))</td>\n",
       "      <td>O+</td>\n",
       "      <td>['http://flores.info/']</td>\n",
       "      <td>elizabeth24</td>\n",
       "      <td>Gregory Stephenson</td>\n",
       "      <td>M</td>\n",
       "      <td>116 Amy Shoals\\nEast Tylerside, AR 39072</td>\n",
       "      <td>drobinson@yahoo.com</td>\n",
       "      <td>1988-06-17</td>\n",
       "      <td>R</td>\n",
       "      <td>1988-06-17</td>\n",
       "      <td>32.0</td>\n",
       "      <td>5973 Smith Trace Apt. 615 Garciachester</td>\n",
       "      <td>97467</td>\n",
       "      <td>KS</td>\n",
       "    </tr>\n",
       "    <tr>\n",
       "      <th>5</th>\n",
       "      <td>Primary school teacher</td>\n",
       "      <td>Garcia, Aguilar and Patterson</td>\n",
       "      <td>346-15-4375</td>\n",
       "      <td>[9703 Matthew Bypass Murraybury,  AR 48951]</td>\n",
       "      <td>(Decimal('25.583975'), Decimal('-74.511847'))</td>\n",
       "      <td>AB+</td>\n",
       "      <td>['http://henderson-jackson.com/']</td>\n",
       "      <td>murrayjames</td>\n",
       "      <td>Gina Duran</td>\n",
       "      <td>F</td>\n",
       "      <td>40921 Smith Inlet\\nJordanstad, TX 75022</td>\n",
       "      <td>alvinhoffman@yahoo.com</td>\n",
       "      <td>1937-07-05</td>\n",
       "      <td>R</td>\n",
       "      <td>1937-07-05</td>\n",
       "      <td>83.0</td>\n",
       "      <td>9703 Matthew Bypass Murraybury</td>\n",
       "      <td>48951</td>\n",
       "      <td>AR</td>\n",
       "    </tr>\n",
       "    <tr>\n",
       "      <th>6</th>\n",
       "      <td>Engineer, materials</td>\n",
       "      <td>Anderson-Miller</td>\n",
       "      <td>841-96-1387</td>\n",
       "      <td>[791 Welch Heights Apt. 351 Angelamouth,  UT 3...</td>\n",
       "      <td>(Decimal('12.6945595'), Decimal('55.053564'))</td>\n",
       "      <td>A+</td>\n",
       "      <td>['http://www.hall.com/', 'https://fry.com/', '...</td>\n",
       "      <td>brownlauren</td>\n",
       "      <td>Mason Fernandez</td>\n",
       "      <td>M</td>\n",
       "      <td>00433 Pham Radial\\nSmithside, MD 97464</td>\n",
       "      <td>xjensen@hotmail.com</td>\n",
       "      <td>1964-12-25</td>\n",
       "      <td>D</td>\n",
       "      <td>1964-12-25</td>\n",
       "      <td>56.0</td>\n",
       "      <td>791 Welch Heights Apt. 351 Angelamouth</td>\n",
       "      <td>37158</td>\n",
       "      <td>UT</td>\n",
       "    </tr>\n",
       "    <tr>\n",
       "      <th>7</th>\n",
       "      <td>Surgeon</td>\n",
       "      <td>Church, Morales and Garza</td>\n",
       "      <td>764-64-3632</td>\n",
       "      <td>[3309 Tran Manor Toddmouth,  OK 18955]</td>\n",
       "      <td>(Decimal('-18.060517'), Decimal('-170.023118'))</td>\n",
       "      <td>O+</td>\n",
       "      <td>['http://www.garcia.biz/', 'http://delgado.inf...</td>\n",
       "      <td>ktaylor</td>\n",
       "      <td>Russell Decker</td>\n",
       "      <td>M</td>\n",
       "      <td>PSC 3208, Box 3497\\nAPO AE 99139</td>\n",
       "      <td>kelly54@yahoo.com</td>\n",
       "      <td>1981-04-07</td>\n",
       "      <td>R</td>\n",
       "      <td>1981-04-07</td>\n",
       "      <td>39.0</td>\n",
       "      <td>3309 Tran Manor Toddmouth</td>\n",
       "      <td>18955</td>\n",
       "      <td>OK</td>\n",
       "    </tr>\n",
       "  </tbody>\n",
       "</table>\n",
       "</div>"
      ],
      "text/plain": [
       "                                         job                        company  \\\n",
       "0                                       Copy     Martinez, Butler and Tyler   \n",
       "2       Control and instrumentation engineer                       Wade LLC   \n",
       "3  Sound technician, broadcasting/film/video                 Maxwell-George   \n",
       "4                           Graphic designer                 Morris-Stanton   \n",
       "5                     Primary school teacher  Garcia, Aguilar and Patterson   \n",
       "6                        Engineer, materials                Anderson-Miller   \n",
       "7                                    Surgeon      Church, Morales and Garza   \n",
       "\n",
       "           ssn                                          residence  \\\n",
       "0  739-93-9938          [341 Melanie Corner Yatesfort,  NV 10325]   \n",
       "2  521-07-5850         [753 Green Heights Romeromouth,  ID 48554]   \n",
       "3  403-55-6616        [18600 Jordan Islands Ryanshire,  IA 76250]   \n",
       "4  297-11-1710  [5973 Smith Trace Apt. 615 Garciachester,  KS ...   \n",
       "5  346-15-4375        [9703 Matthew Bypass Murraybury,  AR 48951]   \n",
       "6  841-96-1387  [791 Welch Heights Apt. 351 Angelamouth,  UT 3...   \n",
       "7  764-64-3632             [3309 Tran Manor Toddmouth,  OK 18955]   \n",
       "\n",
       "                                  current_location blood_group  \\\n",
       "0   (Decimal('-59.027381'), Decimal('170.343013'))         AB-   \n",
       "2    (Decimal('55.072960'), Decimal('130.394536'))         AB-   \n",
       "3  (Decimal('44.1995135'), Decimal('-130.254447'))          O-   \n",
       "4      (Decimal('2.841826'), Decimal('60.096921'))          O+   \n",
       "5    (Decimal('25.583975'), Decimal('-74.511847'))         AB+   \n",
       "6    (Decimal('12.6945595'), Decimal('55.053564'))          A+   \n",
       "7  (Decimal('-18.060517'), Decimal('-170.023118'))          O+   \n",
       "\n",
       "                                             website         username  \\\n",
       "0                  ['http://www.payne-franco.info/']          sandy44   \n",
       "2  ['https://ramsey.com/', 'http://williams-holme...  mccannstephanie   \n",
       "3                        ['https://www.allen.info/']      jaredmiller   \n",
       "4                            ['http://flores.info/']      elizabeth24   \n",
       "5                  ['http://henderson-jackson.com/']      murrayjames   \n",
       "6  ['http://www.hall.com/', 'https://fry.com/', '...      brownlauren   \n",
       "7  ['http://www.garcia.biz/', 'http://delgado.inf...          ktaylor   \n",
       "\n",
       "                 name sex                                          address  \\\n",
       "0      Sarah Whitaker   F      0697 Hunter Trafficway\\nSmithview, MI 71119   \n",
       "2    Richard Williams   M                 PSC 4695, Box 9369\\nAPO AA 96855   \n",
       "3       Tonya Collins   F  9485 Monica Causeway\\nSouth Juliebury, LA 36657   \n",
       "4  Gregory Stephenson   M         116 Amy Shoals\\nEast Tylerside, AR 39072   \n",
       "5          Gina Duran   F          40921 Smith Inlet\\nJordanstad, TX 75022   \n",
       "6     Mason Fernandez   M           00433 Pham Radial\\nSmithside, MD 97464   \n",
       "7      Russell Decker   M                 PSC 3208, Box 3497\\nAPO AE 99139   \n",
       "\n",
       "                       mail   birthdate party        dob   age  \\\n",
       "0  stephenpacheco@yahoo.com  1926-04-20     D 1926-04-20  94.0   \n",
       "2          rayers@gmail.com  1998-11-09     D 1998-11-09  22.0   \n",
       "3   anthonywilson@gmail.com  1961-10-21     R 1961-10-21  59.0   \n",
       "4       drobinson@yahoo.com  1988-06-17     R 1988-06-17  32.0   \n",
       "5    alvinhoffman@yahoo.com  1937-07-05     R 1937-07-05  83.0   \n",
       "6       xjensen@hotmail.com  1964-12-25     D 1964-12-25  56.0   \n",
       "7         kelly54@yahoo.com  1981-04-07     R 1981-04-07  39.0   \n",
       "\n",
       "                                    street    zip state  \n",
       "0             341 Melanie Corner Yatesfort  10325    NV  \n",
       "2            753 Green Heights Romeromouth  48554    ID  \n",
       "3           18600 Jordan Islands Ryanshire  76250    IA  \n",
       "4  5973 Smith Trace Apt. 615 Garciachester  97467    KS  \n",
       "5           9703 Matthew Bypass Murraybury  48951    AR  \n",
       "6   791 Welch Heights Apt. 351 Angelamouth  37158    UT  \n",
       "7                3309 Tran Manor Toddmouth  18955    OK  "
      ]
     },
     "execution_count": 185,
     "metadata": {},
     "output_type": "execute_result"
    }
   ],
   "source": [
    "df.head(7)"
   ]
  },
  {
   "cell_type": "code",
   "execution_count": 186,
   "metadata": {},
   "outputs": [
    {
     "data": {
      "text/plain": [
       "party\n",
       "D    56.429678\n",
       "R    56.823922\n",
       "Name: age, dtype: float64"
      ]
     },
     "execution_count": 186,
     "metadata": {},
     "output_type": "execute_result"
    }
   ],
   "source": [
    "party_by_age = df.groupby(by=['party'])['age'].mean()\n",
    "party_by_age"
   ]
  },
  {
   "cell_type": "code",
   "execution_count": 187,
   "metadata": {},
   "outputs": [
    {
     "data": {
      "text/plain": [
       "D    1678\n",
       "R    1647\n",
       "Name: party, dtype: int64"
      ]
     },
     "execution_count": 187,
     "metadata": {},
     "output_type": "execute_result"
    }
   ],
   "source": [
    "df.party.value_counts()"
   ]
  },
  {
   "cell_type": "code",
   "execution_count": 195,
   "metadata": {},
   "outputs": [],
   "source": [
    "ct = pd.crosstab(df.state, df.party)\n",
    "ct['spread'] = ct['D'] - ct['R']"
   ]
  },
  {
   "cell_type": "code",
   "execution_count": 199,
   "metadata": {},
   "outputs": [],
   "source": [
    "ct = ct.sort_values(by='spread', ascending=False)"
   ]
  },
  {
   "cell_type": "code",
   "execution_count": 205,
   "metadata": {},
   "outputs": [
    {
     "data": {
      "text/plain": [
       "<AxesSubplot:xlabel='state', ylabel='spread'>"
      ]
     },
     "execution_count": 205,
     "metadata": {},
     "output_type": "execute_result"
    },
    {
     "data": {
      "image/png": "[encoded data removed]",
      "text/plain": [
       "<Figure size 432x288 with 1 Axes>"
      ]
     },
     "metadata": {
      "needs_background": "light"
     },
     "output_type": "display_data"
    }
   ],
   "source": [
    "x = ct.index\n",
    "y = ct.spread\n",
    "sns.barplot(x=x,y=y)"
   ]
  },
  {
   "cell_type": "code",
   "execution_count": 204,
   "metadata": {},
   "outputs": [
    {
     "data": {
      "text/plain": [
       "Index(['TN', 'NC', 'UT', 'MA', 'IA', 'RI', 'NH', 'VT', 'MS', 'AR', 'MD', 'WI',\n",
       "       'IN', 'NM', 'VA', 'HI', 'ND', 'WV', 'DE', 'TX', 'CT', 'ME', 'GA', 'FL',\n",
       "       'LA', 'SD', 'OH', 'IL', 'NV', 'CO', 'AL', 'OR', 'NE', 'WA', 'ID', 'SC',\n",
       "       'KY', 'MT', 'AZ', 'PA', 'CA', 'MI', 'AE', 'DC', 'OK', 'MN', 'AK', 'WY',\n",
       "       'KS', 'AA', 'MO', 'NJ', 'NY', 'AP'],\n",
       "      dtype='object', name='state')"
      ]
     },
     "execution_count": 204,
     "metadata": {},
     "output_type": "execute_result"
    }
   ],
   "source": [
    "x"
   ]
  },
  {
   "cell_type": "code",
   "execution_count": null,
   "metadata": {},
   "outputs": [],
   "source": []
  }
 ],
 "metadata": {
  "kernelspec": {
   "display_name": "Python 3",
   "language": "python",
   "name": "python3"
  },
  "language_info": {
   "codemirror_mode": {
    "name": "ipython",
    "version": 3
   },
   "file_extension": ".py",
   "mimetype": "text/x-python",
   "name": "python",
   "nbconvert_exporter": "python",
   "pygments_lexer": "ipython3",
   "version": "3.7.9"
  },
  "varInspector": {
   "cols": {
    "lenName": 16,
    "lenType": 16,
    "lenVar": 40
   },
   "kernels_config": {
    "python": {
     "delete_cmd_postfix": "",
     "delete_cmd_prefix": "del ",
     "library": "var_list.py",
     "varRefreshCmd": "print(var_dic_list())"
    },
    "r": {
     "delete_cmd_postfix": ") ",
     "delete_cmd_prefix": "rm(",
     "library": "var_list.r",
     "varRefreshCmd": "cat(var_dic_list()) "
    }
   },
   "types_to_exclude": [
    "module",
    "function",
    "builtin_function_or_method",
    "instance",
    "_Feature"
   ],
   "window_display": false
  }
 },
 "nbformat": 4,
 "nbformat_minor": 4
}
