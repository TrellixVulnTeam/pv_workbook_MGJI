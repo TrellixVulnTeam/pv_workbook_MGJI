{
 "cells": [
  {
   "cell_type": "code",
   "execution_count": 95,
   "metadata": {},
   "outputs": [],
   "source": [
    "import pandas as pd\n",
    "from sklearn.ensemble import RandomForestClassifier\n",
    "from sklearn.model_selection import train_test_split"
   ]
  },
  {
   "cell_type": "code",
   "execution_count": 66,
   "metadata": {},
   "outputs": [
    {
     "data": {
      "text/html": [
       "<div>\n",
       "<style scoped>\n",
       "    .dataframe tbody tr th:only-of-type {\n",
       "        vertical-align: middle;\n",
       "    }\n",
       "\n",
       "    .dataframe tbody tr th {\n",
       "        vertical-align: top;\n",
       "    }\n",
       "\n",
       "    .dataframe thead th {\n",
       "        text-align: right;\n",
       "    }\n",
       "</style>\n",
       "<table border=\"1\" class=\"dataframe\">\n",
       "  <thead>\n",
       "    <tr style=\"text-align: right;\">\n",
       "      <th></th>\n",
       "      <th>caseCode</th>\n",
       "      <th>caseName</th>\n",
       "      <th>trialCourt</th>\n",
       "      <th>trialDocket</th>\n",
       "      <th>injReliefOnly</th>\n",
       "      <th>probability</th>\n",
       "      <th>consCase</th>\n",
       "      <th>numCompl</th>\n",
       "      <th>eeocComplAvailable</th>\n",
       "      <th>privPartyComplAvailable</th>\n",
       "      <th>...</th>\n",
       "      <th>sysGoals</th>\n",
       "      <th>sysBenPersEEOC</th>\n",
       "      <th>sysNumCompl</th>\n",
       "      <th>sysNumRecMon</th>\n",
       "      <th>sysDamages</th>\n",
       "      <th>damages_sum</th>\n",
       "      <th>source_damages_sum</th>\n",
       "      <th>cpi</th>\n",
       "      <th>damages_adj</th>\n",
       "      <th>criteria</th>\n",
       "    </tr>\n",
       "  </thead>\n",
       "  <tbody>\n",
       "    <tr>\n",
       "      <th>819</th>\n",
       "      <td>EE-KS-0008</td>\n",
       "      <td>EEOC v. GMRI INC (d/b/a RED LOBSTER)</td>\n",
       "      <td>D. Kan.</td>\n",
       "      <td>2:03-cv-02489-KHV-DJW</td>\n",
       "      <td>no</td>\n",
       "      <td>0.450718</td>\n",
       "      <td>no</td>\n",
       "      <td>1.0</td>\n",
       "      <td>yes</td>\n",
       "      <td>yes</td>\n",
       "      <td>...</td>\n",
       "      <td>0</td>\n",
       "      <td>0</td>\n",
       "      <td>0</td>\n",
       "      <td>0</td>\n",
       "      <td>0</td>\n",
       "      <td>60000.0</td>\n",
       "      <td>amtDefPays</td>\n",
       "      <td>0.911240</td>\n",
       "      <td>65844.359375</td>\n",
       "      <td>0</td>\n",
       "    </tr>\n",
       "    <tr>\n",
       "      <th>1563</th>\n",
       "      <td>EE-NY-0188</td>\n",
       "      <td>EEOC v. ZALE CORPORATION et al</td>\n",
       "      <td>E.D. N.Y.</td>\n",
       "      <td>2:01-cv-01541-RJD-ETB</td>\n",
       "      <td>no</td>\n",
       "      <td>1.000000</td>\n",
       "      <td>no</td>\n",
       "      <td>6.0</td>\n",
       "      <td>no</td>\n",
       "      <td>no</td>\n",
       "      <td>...</td>\n",
       "      <td>0</td>\n",
       "      <td>0</td>\n",
       "      <td>0</td>\n",
       "      <td>0</td>\n",
       "      <td>0</td>\n",
       "      <td>250000.0</td>\n",
       "      <td>amtDefPays</td>\n",
       "      <td>0.867824</td>\n",
       "      <td>288076.687500</td>\n",
       "      <td>0</td>\n",
       "    </tr>\n",
       "    <tr>\n",
       "      <th>1796</th>\n",
       "      <td>EE-TN-0029</td>\n",
       "      <td>EEOC v. CROSSGATE SERVICES, INC.</td>\n",
       "      <td>W.D. Tenn.</td>\n",
       "      <td>04 2644-BA</td>\n",
       "      <td>no</td>\n",
       "      <td>1.000000</td>\n",
       "      <td>no</td>\n",
       "      <td>2.0</td>\n",
       "      <td>no</td>\n",
       "      <td>no</td>\n",
       "      <td>...</td>\n",
       "      <td>0</td>\n",
       "      <td>0</td>\n",
       "      <td>0</td>\n",
       "      <td>0</td>\n",
       "      <td>0</td>\n",
       "      <td>45000.0</td>\n",
       "      <td>amtDefPays</td>\n",
       "      <td>0.942113</td>\n",
       "      <td>47764.976562</td>\n",
       "      <td>0</td>\n",
       "    </tr>\n",
       "    <tr>\n",
       "      <th>2117</th>\n",
       "      <td>EE-TX-0384</td>\n",
       "      <td>EEOC v. UNITED PARCEL SERVICE, INC.</td>\n",
       "      <td>W.D. Tex.</td>\n",
       "      <td>M098-CA-157</td>\n",
       "      <td>no</td>\n",
       "      <td>0.450718</td>\n",
       "      <td>no</td>\n",
       "      <td>NaN</td>\n",
       "      <td>no</td>\n",
       "      <td>no</td>\n",
       "      <td>...</td>\n",
       "      <td>0</td>\n",
       "      <td>0</td>\n",
       "      <td>0</td>\n",
       "      <td>0</td>\n",
       "      <td>0</td>\n",
       "      <td>20000.0</td>\n",
       "      <td>amtReliefEEOC</td>\n",
       "      <td>0.803666</td>\n",
       "      <td>24885.955078</td>\n",
       "      <td>0</td>\n",
       "    </tr>\n",
       "    <tr>\n",
       "      <th>893</th>\n",
       "      <td>EE-LA-0084</td>\n",
       "      <td>EEOC v. TRAC-WORK, INC.</td>\n",
       "      <td>W.D. La.</td>\n",
       "      <td>2:04-cv-01981-PM-APW</td>\n",
       "      <td>no</td>\n",
       "      <td>0.450718</td>\n",
       "      <td>no</td>\n",
       "      <td>1.0</td>\n",
       "      <td>yes</td>\n",
       "      <td>yes</td>\n",
       "      <td>...</td>\n",
       "      <td>0</td>\n",
       "      <td>0</td>\n",
       "      <td>0</td>\n",
       "      <td>0</td>\n",
       "      <td>0</td>\n",
       "      <td>11000.0</td>\n",
       "      <td>amtDefPays</td>\n",
       "      <td>0.942113</td>\n",
       "      <td>11675.883789</td>\n",
       "      <td>0</td>\n",
       "    </tr>\n",
       "  </tbody>\n",
       "</table>\n",
       "<p>5 rows × 237 columns</p>\n",
       "</div>"
      ],
      "text/plain": [
       "        caseCode                              caseName  trialCourt  \\\n",
       "819   EE-KS-0008  EEOC v. GMRI INC (d/b/a RED LOBSTER)     D. Kan.   \n",
       "1563  EE-NY-0188        EEOC v. ZALE CORPORATION et al   E.D. N.Y.   \n",
       "1796  EE-TN-0029      EEOC v. CROSSGATE SERVICES, INC.  W.D. Tenn.   \n",
       "2117  EE-TX-0384   EEOC v. UNITED PARCEL SERVICE, INC.   W.D. Tex.   \n",
       "893   EE-LA-0084               EEOC v. TRAC-WORK, INC.    W.D. La.   \n",
       "\n",
       "                trialDocket injReliefOnly  probability consCase  numCompl  \\\n",
       "819   2:03-cv-02489-KHV-DJW            no     0.450718       no       1.0   \n",
       "1563  2:01-cv-01541-RJD-ETB            no     1.000000       no       6.0   \n",
       "1796             04 2644-BA            no     1.000000       no       2.0   \n",
       "2117            M098-CA-157            no     0.450718       no       NaN   \n",
       "893    2:04-cv-01981-PM-APW            no     0.450718       no       1.0   \n",
       "\n",
       "     eeocComplAvailable privPartyComplAvailable  ... sysGoals sysBenPersEEOC  \\\n",
       "819                 yes                     yes  ...        0              0   \n",
       "1563                 no                      no  ...        0              0   \n",
       "1796                 no                      no  ...        0              0   \n",
       "2117                 no                      no  ...        0              0   \n",
       "893                 yes                     yes  ...        0              0   \n",
       "\n",
       "      sysNumCompl  sysNumRecMon  sysDamages  damages_sum  source_damages_sum  \\\n",
       "819             0             0           0      60000.0          amtDefPays   \n",
       "1563            0             0           0     250000.0          amtDefPays   \n",
       "1796            0             0           0      45000.0          amtDefPays   \n",
       "2117            0             0           0      20000.0       amtReliefEEOC   \n",
       "893             0             0           0      11000.0          amtDefPays   \n",
       "\n",
       "           cpi    damages_adj  criteria  \n",
       "819   0.911240   65844.359375         0  \n",
       "1563  0.867824  288076.687500         0  \n",
       "1796  0.942113   47764.976562         0  \n",
       "2117  0.803666   24885.955078         0  \n",
       "893   0.942113   11675.883789         0  \n",
       "\n",
       "[5 rows x 237 columns]"
      ]
     },
     "execution_count": 66,
     "metadata": {},
     "output_type": "execute_result"
    }
   ],
   "source": [
    "df = pd.read_csv('/Users/toddhendricks/Downloads/2013_01_master.csv')\n",
    "df.sample(5)"
   ]
  },
  {
   "cell_type": "code",
   "execution_count": 67,
   "metadata": {},
   "outputs": [
    {
     "data": {
      "text/plain": [
       "array(['caseCode', 'caseName', 'trialCourt', 'trialDocket',\n",
       "       'injReliefOnly', 'probability', 'consCase', 'numCompl',\n",
       "       'eeocComplAvailable', 'privPartyComplAvailable',\n",
       "       'fullDocMonAvailable', 'fullDocInjAvailable', 'judge1Id',\n",
       "       'judge2Id', 'judge3Id', 'judge4Id', 'judge5Id', 'dateFiled',\n",
       "       'secondFiling', 'numDocketEntries', 'firstAnswerDate',\n",
       "       'answerEEOCDate', 'finalResDate', 'finalResType', 'sepPrivResDate',\n",
       "       'sepPrivResolution', 'appealNotice', 'appealDate',\n",
       "       'appealRemandDate', 'appealOutcome', 'remandResult', 'eeocOffice1',\n",
       "       'eeocOffice2', 'regionalAtty1', 'regionalAtty2', 'eeocIntervened',\n",
       "       'ppComplainants', 'plaintiffPrivCounsel', 'plaintiffProSeCounsel',\n",
       "       'plaintiffPubIntCounsel', 'plaintiffFirmOrg1', 'plaintiffFirmOrg2',\n",
       "       'plaintiffFirmOrg3', 'ADABasis', 'ADEABasis', 'EPABasis',\n",
       "       'titleVIIBasis', 'allegedRaceDiscrim', 'discrimRace',\n",
       "       'typeRaceOther', 'allegedColorDiscrim', 'allegedNatOrigDiscrim',\n",
       "       'discrimNatlOrigin', 'typeOriginOther', 'allegedReligDiscrim',\n",
       "       'discrimReligion', 'typeReligionOther', 'allegedSexDiscrim',\n",
       "       'discrimGender', 'allegedPregDiscrim', 'allegedAgeDiscrim',\n",
       "       'allegedDisabDiscrim', 'discrimDisability', 'allegedAssocDiscrim',\n",
       "       'discrimProtectedCat', 'retaliationComplaint',\n",
       "       'retaliationComplaint3p', 'retaliationCooperating',\n",
       "       'impactAlleged', 'practiceAlleged', 'hiringIssue', 'testingIssue',\n",
       "       'trainingIssue', 'medExamIssue', 'payIssue', 'harassmentIssue',\n",
       "       'disciplineIssue', 'leaveAccomIssue', 'empCondIssue',\n",
       "       'promotionIssue', 'demotionIssue', 'dischargeIssue', 'otherIssue',\n",
       "       'issuesOther', 'payRelief', 'pecunRelief', 'nonPecunRelief',\n",
       "       'punitiveRelief', 'liquidatedRelief', 'injunctRelief',\n",
       "       'declRelief', 's1981PCause', 'otherFedPCause', 'otherFed',\n",
       "       'stateDiscPCause', 'otherStatePCause', 'payPRelief',\n",
       "       'pecunPRelief', 'nonPecunPRelief', 'punitivePRelief',\n",
       "       'liquidatedPRelief', 'injunctPRelief', 'declPRelief',\n",
       "       'reliefObtained', 'outcomeForm', 'outcomeFormOther',\n",
       "       'outcomeAtty1', 'outcomeAtty2', 'amtReliefEEOC', 'monetaryRelief',\n",
       "       'amountKnown', 'amtDefPays', 'amtComplainantAward', 'numRecMon',\n",
       "       'amtFeesAwarded', 'injunctiveRelief', 'numberPages', 'ICInj',\n",
       "       'apologyICInj', 'hireICInj', 'promotionICInj', 'posRestoredICInj',\n",
       "       'reinstatementICInj', 'expungeICInj', 'referenceICInj',\n",
       "       'seniorityICInj', 'accommodationICInj', 'otherICInj',\n",
       "       'indComplOther', 'defProhDiscrim', 'defProhRetaliate',\n",
       "       'defProhOther', 'defProhibOther', 'defReqDiscPolicy',\n",
       "       'defReqJobDesc', 'defReqHiringCrit', 'defReqProtocol',\n",
       "       'defReqRecruiting', 'defReqComplyVenue', 'defReqComplyPersonnel',\n",
       "       'defReqOtherHiring', 'defReqOtherReqs', 'defReqPostRights',\n",
       "       'defReqDistRights', 'defReqEEOTrain', 'defTrainingSpecified',\n",
       "       'defReqTrainingOther', 'defReqDRP', 'defResolutionSpecified',\n",
       "       'defReqResolutionOther', 'defReqElse', 'defReqOther', 'termTime',\n",
       "       'termTimeMonths', 'termSub', 'termSubDef', 'goals',\n",
       "       'quantOutcomeGoals', 'quantOutcomeRep', 'goalsOutcome',\n",
       "       'quantOutcomeOther', 'goalsOther', 'measures', 'measuresDetail',\n",
       "       'consequence', 'ctEnfSanction', 'remedySanction',\n",
       "       'reinstatementSanction', 'adrSanction', 'indefExtSanction',\n",
       "       'ltdExtSanction', 'sanctionMonths', 'otherSanction',\n",
       "       'sanctionOther', 'reportsRequired', 'reportsReqRegSched',\n",
       "       'reportsReqTrigger', 'reportsReqOther', 'reportsRequiredWhenOther',\n",
       "       'complReptMgr', 'complReptPeer', 'complReptUnion',\n",
       "       'complReptAdvoc', 'complReptConsult', 'complReptMonitor',\n",
       "       'complReptEEOC', 'complReptPrvt', 'complianceRepReq',\n",
       "       'complianceReqRegSched', 'complianceReqTrigger',\n",
       "       'complianceReqOther', 'complianceRequiredWhenOther',\n",
       "       'complianceReptMgr', 'complianceReptPeer', 'complianceReptUnion',\n",
       "       'complianceReptAdvoc', 'complianceReptConsult',\n",
       "       'complianceReptMonitor', 'complianceReptEEOC',\n",
       "       'complianceReptPrvt', 'recordRequired', 'recordRequiredDetail',\n",
       "       'auditingRequired', 'auditingRequiredDetail', 'accessRequired',\n",
       "       'accessRequiredType', 'accessReqMgr', 'accessReqPeer',\n",
       "       'accessReqUnion', 'accessReqAdvoc', 'accessReqConsult',\n",
       "       'accessReqMonitor', 'accessReqEEOC', 'accessReqPrvt',\n",
       "       'otherRoleMgr', 'otherRolePeer', 'otherRoleUnion',\n",
       "       'otherRoleAdvoc', 'otherRoleConsult', 'otherRoleMonitor',\n",
       "       'otherRoleEEOC', 'otherRolePrvt', 'otherRolesDetail',\n",
       "       'benefitPersonsEEOC', 'systemic', 'sysPP', 'sysDI', 'sysGoals',\n",
       "       'sysBenPersEEOC', 'sysNumCompl', 'sysNumRecMon', 'sysDamages',\n",
       "       'damages_sum', 'source_damages_sum', 'cpi', 'damages_adj',\n",
       "       'criteria'], dtype=object)"
      ]
     },
     "execution_count": 67,
     "metadata": {},
     "output_type": "execute_result"
    }
   ],
   "source": [
    "df.columns.values"
   ]
  },
  {
   "cell_type": "code",
   "execution_count": 68,
   "metadata": {},
   "outputs": [
    {
     "data": {
      "text/plain": [
       "yes    0.827042\n",
       "no     0.172958\n",
       "Name: titleVIIBasis, dtype: float64"
      ]
     },
     "execution_count": 68,
     "metadata": {},
     "output_type": "execute_result"
    }
   ],
   "source": [
    "df['titleVIIBasis'].value_counts(normalize=True)"
   ]
  },
  {
   "cell_type": "code",
   "execution_count": 69,
   "metadata": {},
   "outputs": [],
   "source": [
    "civil_rights = df[df['titleVIIBasis'] == 'yes']"
   ]
  },
  {
   "cell_type": "code",
   "execution_count": 70,
   "metadata": {},
   "outputs": [
    {
     "data": {
      "text/plain": [
       "consent judgment                                  1087\n",
       "voluntary dismissal-settlement                     122\n",
       "none as of 04/22/08                                 71\n",
       "defendants summary judgment                         55\n",
       "default judgment                                    33\n",
       "plaintiffs jury verdict                             32\n",
       "defendants jury verdict                             27\n",
       "voluntary dismissal-non-settlement                  21\n",
       "plaintiffs bench verdict                             6\n",
       "plaintiffs summary judgment                          5\n",
       "defendants judgment as a matter of law               3\n",
       "involuntary dismissal-other                          3\n",
       "involuntary dismissal-failure to prosecute           1\n",
       "involuntary dismissal-failure to state a claim       1\n",
       "judgment on pleadings                                1\n",
       "Name: finalResType, dtype: int64"
      ]
     },
     "execution_count": 70,
     "metadata": {},
     "output_type": "execute_result"
    }
   ],
   "source": [
    "civil_rights['finalResType'].value_counts()"
   ]
  },
  {
   "cell_type": "code",
   "execution_count": 71,
   "metadata": {},
   "outputs": [],
   "source": [
    "def create_target_variable(row):\n",
    "    val = 'N/A'\n",
    "    if row == 'defendants summary judgment':\n",
    "        val = 0\n",
    "    elif row == 'defendants jury verdict':\n",
    "        val = 0\n",
    "    elif row == 'defendants judgment as a matter of law':\n",
    "        val = 0\n",
    "    elif row == 'plaintiffs jury verdict':\n",
    "        val = 1\n",
    "    elif row == 'plaintiffs bench verdict':\n",
    "        val = 1\n",
    "    elif row == 'plaintiffs summary judgment':\n",
    "        val = 1\n",
    "    elif row == 'consent judgment':\n",
    "        val = 1\n",
    "    return val"
   ]
  },
  {
   "cell_type": "code",
   "execution_count": 72,
   "metadata": {},
   "outputs": [
    {
     "name": "stderr",
     "output_type": "stream",
     "text": [
      "/Users/toddhendricks/miniconda3/lib/python3.7/site-packages/ipykernel_launcher.py:1: SettingWithCopyWarning: \n",
      "A value is trying to be set on a copy of a slice from a DataFrame.\n",
      "Try using .loc[row_indexer,col_indexer] = value instead\n",
      "\n",
      "See the caveats in the documentation: https://pandas.pydata.org/pandas-docs/stable/user_guide/indexing.html#returning-a-view-versus-a-copy\n",
      "  \"\"\"Entry point for launching an IPython kernel.\n"
     ]
    }
   ],
   "source": [
    "civil_rights['outcome'] = civil_rights.loc[:,'finalResType'].apply(create_target_variable)"
   ]
  },
  {
   "cell_type": "code",
   "execution_count": 73,
   "metadata": {},
   "outputs": [
    {
     "data": {
      "text/plain": [
       "(1215, 238)"
      ]
     },
     "execution_count": 73,
     "metadata": {},
     "output_type": "execute_result"
    }
   ],
   "source": [
    "civil_rights = civil_rights[civil_rights['outcome'] != 'N/A']\n",
    "civil_rights.shape"
   ]
  },
  {
   "cell_type": "code",
   "execution_count": 75,
   "metadata": {},
   "outputs": [],
   "source": [
    "liability = civil_rights[['retaliationComplaint',\n",
    "       'retaliationComplaint3p', 'retaliationCooperating',\n",
    "       'impactAlleged', 'practiceAlleged']]\n",
    "liability = pd.get_dummies(liability)"
   ]
  },
  {
   "cell_type": "code",
   "execution_count": 76,
   "metadata": {},
   "outputs": [],
   "source": [
    "eeoc_issues = civil_rights[['hiringIssue', 'testingIssue',\n",
    "       'trainingIssue', 'medExamIssue', 'payIssue', 'harassmentIssue',\n",
    "       'disciplineIssue', 'leaveAccomIssue', 'empCondIssue',\n",
    "       'promotionIssue', 'demotionIssue', 'dischargeIssue', 'otherIssue']]\n",
    "eeoc_issues = pd.get_dummies(eeoc_issues)"
   ]
  },
  {
   "cell_type": "code",
   "execution_count": 77,
   "metadata": {},
   "outputs": [],
   "source": [
    "eeoc_relief = civil_rights[['payRelief', 'pecunRelief', 'nonPecunRelief',\n",
    "       'punitiveRelief', 'liquidatedRelief', 'injunctRelief',\n",
    "       'declRelief']]\n",
    "eeoc_relief = pd.get_dummies(eeoc_relief)"
   ]
  },
  {
   "cell_type": "code",
   "execution_count": 78,
   "metadata": {},
   "outputs": [],
   "source": [
    "private_issues = civil_rights[['s1981PCause', 'otherFedPCause', 'otherFed',\n",
    "       'stateDiscPCause', 'otherStatePCause']]\n",
    "private_issues = pd.get_dummies(private_issues)"
   ]
  },
  {
   "cell_type": "code",
   "execution_count": 79,
   "metadata": {},
   "outputs": [],
   "source": [
    "private_relief = civil_rights[['payPRelief',\n",
    "       'pecunPRelief', 'nonPecunPRelief', 'punitivePRelief',\n",
    "       'liquidatedPRelief', 'injunctPRelief', 'declPRelief']]\n",
    "private_relief = pd.get_dummies(private_relief)"
   ]
  },
  {
   "cell_type": "code",
   "execution_count": 108,
   "metadata": {},
   "outputs": [],
   "source": [
    "features = pd.concat([liability, eeoc_issues, eeoc_relief, private_issues, private_relief], axis=1)\n",
    "X = features\n",
    "y = civil_rights['outcome']\n",
    "y = y.astype('int')"
   ]
  },
  {
   "cell_type": "code",
   "execution_count": 109,
   "metadata": {},
   "outputs": [],
   "source": [
    "X_train, X_test, y_train, y_test = train_test_split(X, y, test_size=0.33, random_state=42)"
   ]
  },
  {
   "cell_type": "code",
   "execution_count": 113,
   "metadata": {},
   "outputs": [],
   "source": [
    "rf = RandomForestClassifier(n_estimators=150, criterion='entropy', random_state=42)"
   ]
  },
  {
   "cell_type": "code",
   "execution_count": 114,
   "metadata": {},
   "outputs": [
    {
     "name": "stdout",
     "output_type": "stream",
     "text": [
      "The score for Random Forest is\n",
      "Training:  95.70%\n",
      "Test set:  93.27%\n"
     ]
    }
   ],
   "source": [
    "rf.fit(X_train, y_train)\n",
    "print(\"The score for Random Forest is\")\n",
    "print(\"Training: {:6.2f}%\".format(100*rf.score(X_train, y_train)))\n",
    "print(\"Test set: {:6.2f}%\".format(100*rf.score(X_test, y_test)))"
   ]
  },
  {
   "cell_type": "code",
   "execution_count": null,
   "metadata": {},
   "outputs": [],
   "source": []
  }
 ],
 "metadata": {
  "kernelspec": {
   "display_name": "Python 3",
   "language": "python",
   "name": "python3"
  },
  "language_info": {
   "codemirror_mode": {
    "name": "ipython",
    "version": 3
   },
   "file_extension": ".py",
   "mimetype": "text/x-python",
   "name": "python",
   "nbconvert_exporter": "python",
   "pygments_lexer": "ipython3",
   "version": "3.7.9"
  },
  "varInspector": {
   "cols": {
    "lenName": 16,
    "lenType": 16,
    "lenVar": 40
   },
   "kernels_config": {
    "python": {
     "delete_cmd_postfix": "",
     "delete_cmd_prefix": "del ",
     "library": "var_list.py",
     "varRefreshCmd": "print(var_dic_list())"
    },
    "r": {
     "delete_cmd_postfix": ") ",
     "delete_cmd_prefix": "rm(",
     "library": "var_list.r",
     "varRefreshCmd": "cat(var_dic_list()) "
    }
   },
   "types_to_exclude": [
    "module",
    "function",
    "builtin_function_or_method",
    "instance",
    "_Feature"
   ],
   "window_display": false
  }
 },
 "nbformat": 4,
 "nbformat_minor": 4
}
