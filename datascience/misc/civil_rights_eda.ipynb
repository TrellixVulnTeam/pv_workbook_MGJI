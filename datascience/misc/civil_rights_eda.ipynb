{
 "cells": [
  {
   "cell_type": "code",
   "execution_count": 138,
   "metadata": {},
   "outputs": [],
   "source": [
    "import pandas as pd\n",
    "import matplotlib.pyplot as plt\n",
    "from sklearn.ensemble import RandomForestClassifier\n",
    "from sklearn.model_selection import train_test_split\n",
    "from yellowbrick.classifier import classification_report\n",
    "from yellowbrick.classifier import confusion_matrix"
   ]
  },
  {
   "cell_type": "code",
   "execution_count": 139,
   "metadata": {},
   "outputs": [
    {
     "data": {
      "text/html": [
       "<div>\n",
       "<style scoped>\n",
       "    .dataframe tbody tr th:only-of-type {\n",
       "        vertical-align: middle;\n",
       "    }\n",
       "\n",
       "    .dataframe tbody tr th {\n",
       "        vertical-align: top;\n",
       "    }\n",
       "\n",
       "    .dataframe thead th {\n",
       "        text-align: right;\n",
       "    }\n",
       "</style>\n",
       "<table border=\"1\" class=\"dataframe\">\n",
       "  <thead>\n",
       "    <tr style=\"text-align: right;\">\n",
       "      <th></th>\n",
       "      <th>caseCode</th>\n",
       "      <th>caseName</th>\n",
       "      <th>trialCourt</th>\n",
       "      <th>trialDocket</th>\n",
       "      <th>injReliefOnly</th>\n",
       "      <th>probability</th>\n",
       "      <th>consCase</th>\n",
       "      <th>numCompl</th>\n",
       "      <th>eeocComplAvailable</th>\n",
       "      <th>privPartyComplAvailable</th>\n",
       "      <th>...</th>\n",
       "      <th>sysGoals</th>\n",
       "      <th>sysBenPersEEOC</th>\n",
       "      <th>sysNumCompl</th>\n",
       "      <th>sysNumRecMon</th>\n",
       "      <th>sysDamages</th>\n",
       "      <th>damages_sum</th>\n",
       "      <th>source_damages_sum</th>\n",
       "      <th>cpi</th>\n",
       "      <th>damages_adj</th>\n",
       "      <th>criteria</th>\n",
       "    </tr>\n",
       "  </thead>\n",
       "  <tbody>\n",
       "    <tr>\n",
       "      <th>1826</th>\n",
       "      <td>EE-TN-0068</td>\n",
       "      <td>EEOC v. LOWE'S HOME CENTERS, INC.</td>\n",
       "      <td>E.D. Tenn.</td>\n",
       "      <td>3:04-cv-00133</td>\n",
       "      <td>no</td>\n",
       "      <td>1.000000</td>\n",
       "      <td>no</td>\n",
       "      <td>2.0</td>\n",
       "      <td>yes</td>\n",
       "      <td>no</td>\n",
       "      <td>...</td>\n",
       "      <td>0</td>\n",
       "      <td>0</td>\n",
       "      <td>0</td>\n",
       "      <td>0</td>\n",
       "      <td>0</td>\n",
       "      <td>60000.000000</td>\n",
       "      <td>amtDefPays</td>\n",
       "      <td>0.942113</td>\n",
       "      <td>63686.636719</td>\n",
       "      <td>0</td>\n",
       "    </tr>\n",
       "    <tr>\n",
       "      <th>118</th>\n",
       "      <td>EE-AZ-0033</td>\n",
       "      <td>EEOC v. CREATIVE NETWORKS, L.L.C.</td>\n",
       "      <td>D. Ariz.</td>\n",
       "      <td>2:05-cv-03032-SMM</td>\n",
       "      <td>no</td>\n",
       "      <td>0.450718</td>\n",
       "      <td>no</td>\n",
       "      <td>2.0</td>\n",
       "      <td>yes</td>\n",
       "      <td>no</td>\n",
       "      <td>...</td>\n",
       "      <td>0</td>\n",
       "      <td>0</td>\n",
       "      <td>0</td>\n",
       "      <td>0</td>\n",
       "      <td>0</td>\n",
       "      <td>NaN</td>\n",
       "      <td>NaN</td>\n",
       "      <td>NaN</td>\n",
       "      <td>NaN</td>\n",
       "      <td>0</td>\n",
       "    </tr>\n",
       "    <tr>\n",
       "      <th>1789</th>\n",
       "      <td>EE-TN-0016</td>\n",
       "      <td>EEOC v. BUD DAVIS CADILLAC INC (d/b/a CADILLAC...</td>\n",
       "      <td>W.D. Tenn.</td>\n",
       "      <td>2:02-cv-02731-JPM</td>\n",
       "      <td>no</td>\n",
       "      <td>1.000000</td>\n",
       "      <td>no</td>\n",
       "      <td>1.0</td>\n",
       "      <td>no</td>\n",
       "      <td>no</td>\n",
       "      <td>...</td>\n",
       "      <td>0</td>\n",
       "      <td>0</td>\n",
       "      <td>0</td>\n",
       "      <td>0</td>\n",
       "      <td>0</td>\n",
       "      <td>26000.000000</td>\n",
       "      <td>amtDefPays</td>\n",
       "      <td>0.887603</td>\n",
       "      <td>29292.390625</td>\n",
       "      <td>0</td>\n",
       "    </tr>\n",
       "    <tr>\n",
       "      <th>560</th>\n",
       "      <td>EE-GA-0087</td>\n",
       "      <td>EEOC v. POWERS D/B/A McDONALDS'S</td>\n",
       "      <td>M.D. Ga.</td>\n",
       "      <td>1:97-cv-00117-WLS</td>\n",
       "      <td>no</td>\n",
       "      <td>1.000000</td>\n",
       "      <td>no</td>\n",
       "      <td>NaN</td>\n",
       "      <td>no</td>\n",
       "      <td>no</td>\n",
       "      <td>...</td>\n",
       "      <td>0</td>\n",
       "      <td>0</td>\n",
       "      <td>0</td>\n",
       "      <td>0</td>\n",
       "      <td>0</td>\n",
       "      <td>129347.359375</td>\n",
       "      <td>amtReliefEEOC</td>\n",
       "      <td>0.774240</td>\n",
       "      <td>167063.593750</td>\n",
       "      <td>0</td>\n",
       "    </tr>\n",
       "    <tr>\n",
       "      <th>2235</th>\n",
       "      <td>EE-WA-0038</td>\n",
       "      <td>EEOC v. Jerry Chambers Chevrolet, Inc.</td>\n",
       "      <td>W.D. Wash.</td>\n",
       "      <td>2:03-cv-00080-MJP</td>\n",
       "      <td>no</td>\n",
       "      <td>0.450718</td>\n",
       "      <td>no</td>\n",
       "      <td>1.0</td>\n",
       "      <td>yes</td>\n",
       "      <td>yes</td>\n",
       "      <td>...</td>\n",
       "      <td>0</td>\n",
       "      <td>0</td>\n",
       "      <td>0</td>\n",
       "      <td>0</td>\n",
       "      <td>0</td>\n",
       "      <td>70000.000000</td>\n",
       "      <td>amtDefPays</td>\n",
       "      <td>0.911240</td>\n",
       "      <td>76818.421875</td>\n",
       "      <td>0</td>\n",
       "    </tr>\n",
       "  </tbody>\n",
       "</table>\n",
       "<p>5 rows × 237 columns</p>\n",
       "</div>"
      ],
      "text/plain": [
       "        caseCode                                           caseName  \\\n",
       "1826  EE-TN-0068                 EEOC v. LOWE'S HOME CENTERS, INC.    \n",
       "118   EE-AZ-0033                  EEOC v. CREATIVE NETWORKS, L.L.C.   \n",
       "1789  EE-TN-0016  EEOC v. BUD DAVIS CADILLAC INC (d/b/a CADILLAC...   \n",
       "560   EE-GA-0087                   EEOC v. POWERS D/B/A McDONALDS'S   \n",
       "2235  EE-WA-0038             EEOC v. Jerry Chambers Chevrolet, Inc.   \n",
       "\n",
       "      trialCourt        trialDocket injReliefOnly  probability consCase  \\\n",
       "1826  E.D. Tenn.      3:04-cv-00133            no     1.000000       no   \n",
       "118     D. Ariz.  2:05-cv-03032-SMM            no     0.450718       no   \n",
       "1789  W.D. Tenn.  2:02-cv-02731-JPM            no     1.000000       no   \n",
       "560     M.D. Ga.  1:97-cv-00117-WLS            no     1.000000       no   \n",
       "2235  W.D. Wash.  2:03-cv-00080-MJP            no     0.450718       no   \n",
       "\n",
       "      numCompl eeocComplAvailable privPartyComplAvailable  ... sysGoals  \\\n",
       "1826       2.0                yes                      no  ...        0   \n",
       "118        2.0                yes                      no  ...        0   \n",
       "1789       1.0                 no                      no  ...        0   \n",
       "560        NaN                 no                      no  ...        0   \n",
       "2235       1.0                yes                     yes  ...        0   \n",
       "\n",
       "     sysBenPersEEOC  sysNumCompl  sysNumRecMon  sysDamages    damages_sum  \\\n",
       "1826              0            0             0           0   60000.000000   \n",
       "118               0            0             0           0            NaN   \n",
       "1789              0            0             0           0   26000.000000   \n",
       "560               0            0             0           0  129347.359375   \n",
       "2235              0            0             0           0   70000.000000   \n",
       "\n",
       "      source_damages_sum       cpi    damages_adj  criteria  \n",
       "1826          amtDefPays  0.942113   63686.636719         0  \n",
       "118                  NaN       NaN            NaN         0  \n",
       "1789          amtDefPays  0.887603   29292.390625         0  \n",
       "560        amtReliefEEOC  0.774240  167063.593750         0  \n",
       "2235          amtDefPays  0.911240   76818.421875         0  \n",
       "\n",
       "[5 rows x 237 columns]"
      ]
     },
     "execution_count": 139,
     "metadata": {},
     "output_type": "execute_result"
    }
   ],
   "source": [
    "df = pd.read_csv('/Users/toddhendricks/Downloads/2013_01_master.csv')\n",
    "df.sample(5)"
   ]
  },
  {
   "cell_type": "code",
   "execution_count": 140,
   "metadata": {},
   "outputs": [
    {
     "data": {
      "text/plain": [
       "array(['caseCode', 'caseName', 'trialCourt', 'trialDocket',\n",
       "       'injReliefOnly', 'probability', 'consCase', 'numCompl',\n",
       "       'eeocComplAvailable', 'privPartyComplAvailable',\n",
       "       'fullDocMonAvailable', 'fullDocInjAvailable', 'judge1Id',\n",
       "       'judge2Id', 'judge3Id', 'judge4Id', 'judge5Id', 'dateFiled',\n",
       "       'secondFiling', 'numDocketEntries', 'firstAnswerDate',\n",
       "       'answerEEOCDate', 'finalResDate', 'finalResType', 'sepPrivResDate',\n",
       "       'sepPrivResolution', 'appealNotice', 'appealDate',\n",
       "       'appealRemandDate', 'appealOutcome', 'remandResult', 'eeocOffice1',\n",
       "       'eeocOffice2', 'regionalAtty1', 'regionalAtty2', 'eeocIntervened',\n",
       "       'ppComplainants', 'plaintiffPrivCounsel', 'plaintiffProSeCounsel',\n",
       "       'plaintiffPubIntCounsel', 'plaintiffFirmOrg1', 'plaintiffFirmOrg2',\n",
       "       'plaintiffFirmOrg3', 'ADABasis', 'ADEABasis', 'EPABasis',\n",
       "       'titleVIIBasis', 'allegedRaceDiscrim', 'discrimRace',\n",
       "       'typeRaceOther', 'allegedColorDiscrim', 'allegedNatOrigDiscrim',\n",
       "       'discrimNatlOrigin', 'typeOriginOther', 'allegedReligDiscrim',\n",
       "       'discrimReligion', 'typeReligionOther', 'allegedSexDiscrim',\n",
       "       'discrimGender', 'allegedPregDiscrim', 'allegedAgeDiscrim',\n",
       "       'allegedDisabDiscrim', 'discrimDisability', 'allegedAssocDiscrim',\n",
       "       'discrimProtectedCat', 'retaliationComplaint',\n",
       "       'retaliationComplaint3p', 'retaliationCooperating',\n",
       "       'impactAlleged', 'practiceAlleged', 'hiringIssue', 'testingIssue',\n",
       "       'trainingIssue', 'medExamIssue', 'payIssue', 'harassmentIssue',\n",
       "       'disciplineIssue', 'leaveAccomIssue', 'empCondIssue',\n",
       "       'promotionIssue', 'demotionIssue', 'dischargeIssue', 'otherIssue',\n",
       "       'issuesOther', 'payRelief', 'pecunRelief', 'nonPecunRelief',\n",
       "       'punitiveRelief', 'liquidatedRelief', 'injunctRelief',\n",
       "       'declRelief', 's1981PCause', 'otherFedPCause', 'otherFed',\n",
       "       'stateDiscPCause', 'otherStatePCause', 'payPRelief',\n",
       "       'pecunPRelief', 'nonPecunPRelief', 'punitivePRelief',\n",
       "       'liquidatedPRelief', 'injunctPRelief', 'declPRelief',\n",
       "       'reliefObtained', 'outcomeForm', 'outcomeFormOther',\n",
       "       'outcomeAtty1', 'outcomeAtty2', 'amtReliefEEOC', 'monetaryRelief',\n",
       "       'amountKnown', 'amtDefPays', 'amtComplainantAward', 'numRecMon',\n",
       "       'amtFeesAwarded', 'injunctiveRelief', 'numberPages', 'ICInj',\n",
       "       'apologyICInj', 'hireICInj', 'promotionICInj', 'posRestoredICInj',\n",
       "       'reinstatementICInj', 'expungeICInj', 'referenceICInj',\n",
       "       'seniorityICInj', 'accommodationICInj', 'otherICInj',\n",
       "       'indComplOther', 'defProhDiscrim', 'defProhRetaliate',\n",
       "       'defProhOther', 'defProhibOther', 'defReqDiscPolicy',\n",
       "       'defReqJobDesc', 'defReqHiringCrit', 'defReqProtocol',\n",
       "       'defReqRecruiting', 'defReqComplyVenue', 'defReqComplyPersonnel',\n",
       "       'defReqOtherHiring', 'defReqOtherReqs', 'defReqPostRights',\n",
       "       'defReqDistRights', 'defReqEEOTrain', 'defTrainingSpecified',\n",
       "       'defReqTrainingOther', 'defReqDRP', 'defResolutionSpecified',\n",
       "       'defReqResolutionOther', 'defReqElse', 'defReqOther', 'termTime',\n",
       "       'termTimeMonths', 'termSub', 'termSubDef', 'goals',\n",
       "       'quantOutcomeGoals', 'quantOutcomeRep', 'goalsOutcome',\n",
       "       'quantOutcomeOther', 'goalsOther', 'measures', 'measuresDetail',\n",
       "       'consequence', 'ctEnfSanction', 'remedySanction',\n",
       "       'reinstatementSanction', 'adrSanction', 'indefExtSanction',\n",
       "       'ltdExtSanction', 'sanctionMonths', 'otherSanction',\n",
       "       'sanctionOther', 'reportsRequired', 'reportsReqRegSched',\n",
       "       'reportsReqTrigger', 'reportsReqOther', 'reportsRequiredWhenOther',\n",
       "       'complReptMgr', 'complReptPeer', 'complReptUnion',\n",
       "       'complReptAdvoc', 'complReptConsult', 'complReptMonitor',\n",
       "       'complReptEEOC', 'complReptPrvt', 'complianceRepReq',\n",
       "       'complianceReqRegSched', 'complianceReqTrigger',\n",
       "       'complianceReqOther', 'complianceRequiredWhenOther',\n",
       "       'complianceReptMgr', 'complianceReptPeer', 'complianceReptUnion',\n",
       "       'complianceReptAdvoc', 'complianceReptConsult',\n",
       "       'complianceReptMonitor', 'complianceReptEEOC',\n",
       "       'complianceReptPrvt', 'recordRequired', 'recordRequiredDetail',\n",
       "       'auditingRequired', 'auditingRequiredDetail', 'accessRequired',\n",
       "       'accessRequiredType', 'accessReqMgr', 'accessReqPeer',\n",
       "       'accessReqUnion', 'accessReqAdvoc', 'accessReqConsult',\n",
       "       'accessReqMonitor', 'accessReqEEOC', 'accessReqPrvt',\n",
       "       'otherRoleMgr', 'otherRolePeer', 'otherRoleUnion',\n",
       "       'otherRoleAdvoc', 'otherRoleConsult', 'otherRoleMonitor',\n",
       "       'otherRoleEEOC', 'otherRolePrvt', 'otherRolesDetail',\n",
       "       'benefitPersonsEEOC', 'systemic', 'sysPP', 'sysDI', 'sysGoals',\n",
       "       'sysBenPersEEOC', 'sysNumCompl', 'sysNumRecMon', 'sysDamages',\n",
       "       'damages_sum', 'source_damages_sum', 'cpi', 'damages_adj',\n",
       "       'criteria'], dtype=object)"
      ]
     },
     "execution_count": 140,
     "metadata": {},
     "output_type": "execute_result"
    }
   ],
   "source": [
    "df.columns.values"
   ]
  },
  {
   "cell_type": "code",
   "execution_count": 120,
   "metadata": {},
   "outputs": [
    {
     "data": {
      "text/plain": [
       "yes    0.827042\n",
       "no     0.172958\n",
       "Name: titleVIIBasis, dtype: float64"
      ]
     },
     "execution_count": 120,
     "metadata": {},
     "output_type": "execute_result"
    }
   ],
   "source": [
    "df['titleVIIBasis'].value_counts(normalize=True)"
   ]
  },
  {
   "cell_type": "code",
   "execution_count": 121,
   "metadata": {},
   "outputs": [],
   "source": [
    "civil_rights = df[df['titleVIIBasis'] == 'yes']"
   ]
  },
  {
   "cell_type": "code",
   "execution_count": 122,
   "metadata": {},
   "outputs": [
    {
     "data": {
      "text/plain": [
       "consent judgment                                  1087\n",
       "voluntary dismissal-settlement                     122\n",
       "none as of 04/22/08                                 71\n",
       "defendants summary judgment                         55\n",
       "default judgment                                    33\n",
       "plaintiffs jury verdict                             32\n",
       "defendants jury verdict                             27\n",
       "voluntary dismissal-non-settlement                  21\n",
       "plaintiffs bench verdict                             6\n",
       "plaintiffs summary judgment                          5\n",
       "defendants judgment as a matter of law               3\n",
       "involuntary dismissal-other                          3\n",
       "involuntary dismissal-failure to prosecute           1\n",
       "involuntary dismissal-failure to state a claim       1\n",
       "judgment on pleadings                                1\n",
       "Name: finalResType, dtype: int64"
      ]
     },
     "execution_count": 122,
     "metadata": {},
     "output_type": "execute_result"
    }
   ],
   "source": [
    "civil_rights['finalResType'].value_counts()"
   ]
  },
  {
   "cell_type": "code",
   "execution_count": 123,
   "metadata": {},
   "outputs": [],
   "source": [
    "def create_target_variable(row):\n",
    "    val = 'N/A'\n",
    "    if row == 'defendants summary judgment':\n",
    "        val = 0\n",
    "    elif row == 'defendants jury verdict':\n",
    "        val = 0\n",
    "    elif row == 'defendants judgment as a matter of law':\n",
    "        val = 0\n",
    "    elif row == 'plaintiffs jury verdict':\n",
    "        val = 1\n",
    "    elif row == 'plaintiffs bench verdict':\n",
    "        val = 1\n",
    "    elif row == 'plaintiffs summary judgment':\n",
    "        val = 1\n",
    "#     elif row == 'consent judgment':\n",
    "#         val = 1\n",
    "    return val"
   ]
  },
  {
   "cell_type": "code",
   "execution_count": 124,
   "metadata": {},
   "outputs": [
    {
     "name": "stderr",
     "output_type": "stream",
     "text": [
      "/Users/toddhendricks/miniconda3/lib/python3.7/site-packages/ipykernel_launcher.py:1: SettingWithCopyWarning: \n",
      "A value is trying to be set on a copy of a slice from a DataFrame.\n",
      "Try using .loc[row_indexer,col_indexer] = value instead\n",
      "\n",
      "See the caveats in the documentation: https://pandas.pydata.org/pandas-docs/stable/user_guide/indexing.html#returning-a-view-versus-a-copy\n",
      "  \"\"\"Entry point for launching an IPython kernel.\n"
     ]
    }
   ],
   "source": [
    "civil_rights['outcome'] = civil_rights.loc[:,'finalResType'].apply(create_target_variable)"
   ]
  },
  {
   "cell_type": "code",
   "execution_count": 125,
   "metadata": {},
   "outputs": [
    {
     "data": {
      "text/plain": [
       "(128, 238)"
      ]
     },
     "execution_count": 125,
     "metadata": {},
     "output_type": "execute_result"
    }
   ],
   "source": [
    "civil_rights = civil_rights[civil_rights['outcome'] != 'N/A']\n",
    "civil_rights.shape"
   ]
  },
  {
   "cell_type": "code",
   "execution_count": 126,
   "metadata": {},
   "outputs": [],
   "source": [
    "liability = civil_rights[['retaliationComplaint',\n",
    "       'retaliationComplaint3p', 'retaliationCooperating',\n",
    "       'impactAlleged', 'practiceAlleged']]\n",
    "liability = pd.get_dummies(liability)"
   ]
  },
  {
   "cell_type": "code",
   "execution_count": 127,
   "metadata": {},
   "outputs": [],
   "source": [
    "eeoc_issues = civil_rights[['hiringIssue', 'testingIssue',\n",
    "       'trainingIssue', 'medExamIssue', 'payIssue', 'harassmentIssue',\n",
    "       'disciplineIssue', 'leaveAccomIssue', 'empCondIssue',\n",
    "       'promotionIssue', 'demotionIssue', 'dischargeIssue', 'otherIssue']]\n",
    "eeoc_issues = pd.get_dummies(eeoc_issues)"
   ]
  },
  {
   "cell_type": "code",
   "execution_count": 128,
   "metadata": {},
   "outputs": [],
   "source": [
    "eeoc_relief = civil_rights[['payRelief', 'pecunRelief', 'nonPecunRelief',\n",
    "       'punitiveRelief', 'liquidatedRelief', 'injunctRelief',\n",
    "       'declRelief']]\n",
    "eeoc_relief = pd.get_dummies(eeoc_relief)"
   ]
  },
  {
   "cell_type": "code",
   "execution_count": 129,
   "metadata": {},
   "outputs": [],
   "source": [
    "private_issues = civil_rights[['s1981PCause', 'otherFedPCause', 'otherFed',\n",
    "       'stateDiscPCause', 'otherStatePCause']]\n",
    "private_issues = pd.get_dummies(private_issues)"
   ]
  },
  {
   "cell_type": "code",
   "execution_count": 130,
   "metadata": {},
   "outputs": [],
   "source": [
    "private_relief = civil_rights[['payPRelief',\n",
    "       'pecunPRelief', 'nonPecunPRelief', 'punitivePRelief',\n",
    "       'liquidatedPRelief', 'injunctPRelief', 'declPRelief']]\n",
    "private_relief = pd.get_dummies(private_relief)"
   ]
  },
  {
   "cell_type": "code",
   "execution_count": 131,
   "metadata": {},
   "outputs": [],
   "source": [
    "features = pd.concat([liability, eeoc_issues, eeoc_relief, private_issues, private_relief], axis=1)\n",
    "X = features\n",
    "y = civil_rights['outcome']\n",
    "y = y.astype('int')"
   ]
  },
  {
   "cell_type": "code",
   "execution_count": 132,
   "metadata": {},
   "outputs": [],
   "source": [
    "X_train, X_test, y_train, y_test = train_test_split(X, y, test_size=0.33, random_state=42)"
   ]
  },
  {
   "cell_type": "code",
   "execution_count": 133,
   "metadata": {},
   "outputs": [],
   "source": [
    "rf = RandomForestClassifier(n_estimators=150, criterion='entropy', random_state=42)"
   ]
  },
  {
   "cell_type": "code",
   "execution_count": 134,
   "metadata": {},
   "outputs": [
    {
     "name": "stdout",
     "output_type": "stream",
     "text": [
      "The score for Random Forest is\n",
      "Training:  94.12%\n",
      "Test set:  62.79%\n"
     ]
    }
   ],
   "source": [
    "rf.fit(X_train, y_train)\n",
    "print(\"The score for Random Forest is\")\n",
    "print(\"Training: {:6.2f}%\".format(100*rf.score(X_train, y_train)))\n",
    "print(\"Test set: {:6.2f}%\".format(100*rf.score(X_test, y_test)))"
   ]
  },
  {
   "cell_type": "code",
   "execution_count": 135,
   "metadata": {},
   "outputs": [
    {
     "name": "stderr",
     "output_type": "stream",
     "text": [
      "/Users/toddhendricks/miniconda3/lib/python3.7/site-packages/sklearn/base.py:213: FutureWarning: From version 0.24, get_params will raise an AttributeError if a parameter cannot be retrieved as an instance attribute. Previously it would return None.\n",
      "  FutureWarning)\n"
     ]
    },
    {
     "data": {
      "image/png": "[encoded data removed]",
      "text/plain": [
       "<Figure size 576x396 with 2 Axes>"
      ]
     },
     "metadata": {},
     "output_type": "display_data"
    }
   ],
   "source": [
    "classes = ['unfavorable', 'favorable']\n",
    "visualizer = classification_report(\n",
    "    rf, X_train, y_train, X_test, y_test, classes=classes, support=True\n",
    ")"
   ]
  },
  {
   "cell_type": "code",
   "execution_count": 141,
   "metadata": {},
   "outputs": [
    {
     "data": {
      "image/png": "[encoded data removed]",
      "text/plain": [
       "<Figure size 576x396 with 1 Axes>"
      ]
     },
     "metadata": {},
     "output_type": "display_data"
    },
    {
     "data": {
      "text/plain": [
       "<Figure size 576x396 with 0 Axes>"
      ]
     },
     "metadata": {},
     "output_type": "display_data"
    }
   ],
   "source": [
    "confusion_matrix(\n",
    "    rf,\n",
    "    X_train, y_train, X_test, y_test,\n",
    "    classes=classes\n",
    ")\n",
    "plt.tight_layout()"
   ]
  },
  {
   "cell_type": "code",
   "execution_count": null,
   "metadata": {},
   "outputs": [],
   "source": []
  }
 ],
 "metadata": {
  "kernelspec": {
   "display_name": "Python 3",
   "language": "python",
   "name": "python3"
  },
  "language_info": {
   "codemirror_mode": {
    "name": "ipython",
    "version": 3
   },
   "file_extension": ".py",
   "mimetype": "text/x-python",
   "name": "python",
   "nbconvert_exporter": "python",
   "pygments_lexer": "ipython3",
   "version": "3.7.9"
  },
  "varInspector": {
   "cols": {
    "lenName": 16,
    "lenType": 16,
    "lenVar": 40
   },
   "kernels_config": {
    "python": {
     "delete_cmd_postfix": "",
     "delete_cmd_prefix": "del ",
     "library": "var_list.py",
     "varRefreshCmd": "print(var_dic_list())"
    },
    "r": {
     "delete_cmd_postfix": ") ",
     "delete_cmd_prefix": "rm(",
     "library": "var_list.r",
     "varRefreshCmd": "cat(var_dic_list()) "
    }
   },
   "types_to_exclude": [
    "module",
    "function",
    "builtin_function_or_method",
    "instance",
    "_Feature"
   ],
   "window_display": false
  }
 },
 "nbformat": 4,
 "nbformat_minor": 4
}
