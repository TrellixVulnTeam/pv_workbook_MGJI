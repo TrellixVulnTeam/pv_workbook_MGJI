{
 "cells": [
  {
   "cell_type": "code",
   "execution_count": 1,
   "metadata": {},
   "outputs": [],
   "source": [
    "import pandas as pd"
   ]
  },
  {
   "cell_type": "code",
   "execution_count": 2,
   "metadata": {},
   "outputs": [],
   "source": [
    "covid_df = pd.read_csv('/Users/toddhendricks/Downloads/reported_hospital_capacity_admissions_facility-level_weekly_average_timeseries_20201207.csv')"
   ]
  },
  {
   "cell_type": "code",
   "execution_count": 3,
   "metadata": {},
   "outputs": [
    {
     "data": {
      "text/plain": [
       "(87369, 93)"
      ]
     },
     "execution_count": 3,
     "metadata": {},
     "output_type": "execute_result"
    }
   ],
   "source": [
    "covid_df.shape"
   ]
  },
  {
   "cell_type": "code",
   "execution_count": 6,
   "metadata": {},
   "outputs": [],
   "source": [
    "covid_df.columns\n",
    "cols = ['state', 'ccn', 'hospital_name','city','hospital_subtype','previous_day_admission_adult_covid_confirmed_7_day_sum','previous_day_admission_adult_covid_confirmed_7_day_sum']"
   ]
  },
  {
   "cell_type": "code",
   "execution_count": 8,
   "metadata": {},
   "outputs": [],
   "source": [
    "smaller_df = covid_df[cols]"
   ]
  },
  {
   "cell_type": "code",
   "execution_count": 10,
   "metadata": {},
   "outputs": [],
   "source": [
    "cali_df = smaller_df[smaller_df.state == 'CA']"
   ]
  },
  {
   "cell_type": "code",
   "execution_count": 11,
   "metadata": {},
   "outputs": [
    {
     "data": {
      "text/html": [
       "<div>\n",
       "<style scoped>\n",
       "    .dataframe tbody tr th:only-of-type {\n",
       "        vertical-align: middle;\n",
       "    }\n",
       "\n",
       "    .dataframe tbody tr th {\n",
       "        vertical-align: top;\n",
       "    }\n",
       "\n",
       "    .dataframe thead th {\n",
       "        text-align: right;\n",
       "    }\n",
       "</style>\n",
       "<table border=\"1\" class=\"dataframe\">\n",
       "  <thead>\n",
       "    <tr style=\"text-align: right;\">\n",
       "      <th></th>\n",
       "      <th>state</th>\n",
       "      <th>ccn</th>\n",
       "      <th>hospital_name</th>\n",
       "      <th>city</th>\n",
       "      <th>hospital_subtype</th>\n",
       "      <th>previous_day_admission_adult_covid_confirmed_7_day_sum</th>\n",
       "      <th>previous_day_admission_adult_covid_confirmed_7_day_sum</th>\n",
       "    </tr>\n",
       "  </thead>\n",
       "  <tbody>\n",
       "    <tr>\n",
       "      <th>277</th>\n",
       "      <td>CA</td>\n",
       "      <td>050320</td>\n",
       "      <td>HIGHLAND HOSPITAL</td>\n",
       "      <td>OAKLAND</td>\n",
       "      <td>Short Term</td>\n",
       "      <td>23.0</td>\n",
       "      <td>23.0</td>\n",
       "    </tr>\n",
       "    <tr>\n",
       "      <th>278</th>\n",
       "      <td>CA</td>\n",
       "      <td>050488</td>\n",
       "      <td>EDEN MEDICAL CENTER</td>\n",
       "      <td>CASTRO VALLEY</td>\n",
       "      <td>Short Term</td>\n",
       "      <td>15.0</td>\n",
       "      <td>15.0</td>\n",
       "    </tr>\n",
       "    <tr>\n",
       "      <th>279</th>\n",
       "      <td>CA</td>\n",
       "      <td>050043</td>\n",
       "      <td>ALTA BATES SUMMIT MEDICAL CENTER</td>\n",
       "      <td>OAKLAND</td>\n",
       "      <td>Short Term</td>\n",
       "      <td>17.0</td>\n",
       "      <td>17.0</td>\n",
       "    </tr>\n",
       "    <tr>\n",
       "      <th>280</th>\n",
       "      <td>CA</td>\n",
       "      <td>050305</td>\n",
       "      <td>ALTA BATES SUMMIT MEDICAL CENTER - ALTA BATES ...</td>\n",
       "      <td>BERKELEY</td>\n",
       "      <td>Short Term</td>\n",
       "      <td>8.0</td>\n",
       "      <td>8.0</td>\n",
       "    </tr>\n",
       "    <tr>\n",
       "      <th>281</th>\n",
       "      <td>CA</td>\n",
       "      <td>050075</td>\n",
       "      <td>KAISER FOUNDATION HOSPITAL - OAKLAND/RICHMOND</td>\n",
       "      <td>OAKLAND</td>\n",
       "      <td>Short Term</td>\n",
       "      <td>33.0</td>\n",
       "      <td>33.0</td>\n",
       "    </tr>\n",
       "    <tr>\n",
       "      <th>...</th>\n",
       "      <td>...</td>\n",
       "      <td>...</td>\n",
       "      <td>...</td>\n",
       "      <td>...</td>\n",
       "      <td>...</td>\n",
       "      <td>...</td>\n",
       "      <td>...</td>\n",
       "    </tr>\n",
       "    <tr>\n",
       "      <th>83175</th>\n",
       "      <td>CA</td>\n",
       "      <td>050236</td>\n",
       "      <td>ADVENTIST HEALTH SIMI VALLEY</td>\n",
       "      <td>SIMI VALLEY</td>\n",
       "      <td>Short Term</td>\n",
       "      <td>7.0</td>\n",
       "      <td>7.0</td>\n",
       "    </tr>\n",
       "    <tr>\n",
       "      <th>83176</th>\n",
       "      <td>CA</td>\n",
       "      <td>050159</td>\n",
       "      <td>VENTURA COUNTY MEDICAL CENTER</td>\n",
       "      <td>VENTURA</td>\n",
       "      <td>Short Term</td>\n",
       "      <td>9.0</td>\n",
       "      <td>9.0</td>\n",
       "    </tr>\n",
       "    <tr>\n",
       "      <th>83177</th>\n",
       "      <td>CA</td>\n",
       "      <td>050537</td>\n",
       "      <td>SUTTER DAVIS HOSPITAL</td>\n",
       "      <td>DAVIS</td>\n",
       "      <td>Short Term</td>\n",
       "      <td>4.0</td>\n",
       "      <td>4.0</td>\n",
       "    </tr>\n",
       "    <tr>\n",
       "      <th>83178</th>\n",
       "      <td>CA</td>\n",
       "      <td>050127</td>\n",
       "      <td>WOODLAND MEMORIAL HOSPITAL</td>\n",
       "      <td>WOODLAND</td>\n",
       "      <td>Short Term</td>\n",
       "      <td>4.0</td>\n",
       "      <td>4.0</td>\n",
       "    </tr>\n",
       "    <tr>\n",
       "      <th>83179</th>\n",
       "      <td>CA</td>\n",
       "      <td>050133</td>\n",
       "      <td>ADVENTIST HEALTH AND RIDEOUT</td>\n",
       "      <td>MARYSVILLE</td>\n",
       "      <td>Short Term</td>\n",
       "      <td>16.0</td>\n",
       "      <td>16.0</td>\n",
       "    </tr>\n",
       "  </tbody>\n",
       "</table>\n",
       "<p>6350 rows × 7 columns</p>\n",
       "</div>"
      ],
      "text/plain": [
       "      state     ccn                                      hospital_name  \\\n",
       "277      CA  050320                                  HIGHLAND HOSPITAL   \n",
       "278      CA  050488                                EDEN MEDICAL CENTER   \n",
       "279      CA  050043                   ALTA BATES SUMMIT MEDICAL CENTER   \n",
       "280      CA  050305  ALTA BATES SUMMIT MEDICAL CENTER - ALTA BATES ...   \n",
       "281      CA  050075      KAISER FOUNDATION HOSPITAL - OAKLAND/RICHMOND   \n",
       "...     ...     ...                                                ...   \n",
       "83175    CA  050236                       ADVENTIST HEALTH SIMI VALLEY   \n",
       "83176    CA  050159                      VENTURA COUNTY MEDICAL CENTER   \n",
       "83177    CA  050537                              SUTTER DAVIS HOSPITAL   \n",
       "83178    CA  050127                         WOODLAND MEMORIAL HOSPITAL   \n",
       "83179    CA  050133                       ADVENTIST HEALTH AND RIDEOUT   \n",
       "\n",
       "                city hospital_subtype  \\\n",
       "277          OAKLAND       Short Term   \n",
       "278    CASTRO VALLEY       Short Term   \n",
       "279          OAKLAND       Short Term   \n",
       "280         BERKELEY       Short Term   \n",
       "281          OAKLAND       Short Term   \n",
       "...              ...              ...   \n",
       "83175    SIMI VALLEY       Short Term   \n",
       "83176        VENTURA       Short Term   \n",
       "83177          DAVIS       Short Term   \n",
       "83178       WOODLAND       Short Term   \n",
       "83179     MARYSVILLE       Short Term   \n",
       "\n",
       "       previous_day_admission_adult_covid_confirmed_7_day_sum  \\\n",
       "277                                                 23.0        \n",
       "278                                                 15.0        \n",
       "279                                                 17.0        \n",
       "280                                                  8.0        \n",
       "281                                                 33.0        \n",
       "...                                                  ...        \n",
       "83175                                                7.0        \n",
       "83176                                                9.0        \n",
       "83177                                                4.0        \n",
       "83178                                                4.0        \n",
       "83179                                               16.0        \n",
       "\n",
       "       previous_day_admission_adult_covid_confirmed_7_day_sum  \n",
       "277                                                 23.0       \n",
       "278                                                 15.0       \n",
       "279                                                 17.0       \n",
       "280                                                  8.0       \n",
       "281                                                 33.0       \n",
       "...                                                  ...       \n",
       "83175                                                7.0       \n",
       "83176                                                9.0       \n",
       "83177                                                4.0       \n",
       "83178                                                4.0       \n",
       "83179                                               16.0       \n",
       "\n",
       "[6350 rows x 7 columns]"
      ]
     },
     "execution_count": 11,
     "metadata": {},
     "output_type": "execute_result"
    }
   ],
   "source": [
    "cali_df"
   ]
  },
  {
   "cell_type": "code",
   "execution_count": null,
   "metadata": {},
   "outputs": [],
   "source": []
  }
 ],
 "metadata": {
  "kernelspec": {
   "display_name": "Python 3",
   "language": "python",
   "name": "python3"
  },
  "language_info": {
   "codemirror_mode": {
    "name": "ipython",
    "version": 3
   },
   "file_extension": ".py",
   "mimetype": "text/x-python",
   "name": "python",
   "nbconvert_exporter": "python",
   "pygments_lexer": "ipython3",
   "version": "3.7.6"
  },
  "varInspector": {
   "cols": {
    "lenName": 16,
    "lenType": 16,
    "lenVar": 40
   },
   "kernels_config": {
    "python": {
     "delete_cmd_postfix": "",
     "delete_cmd_prefix": "del ",
     "library": "var_list.py",
     "varRefreshCmd": "print(var_dic_list())"
    },
    "r": {
     "delete_cmd_postfix": ") ",
     "delete_cmd_prefix": "rm(",
     "library": "var_list.r",
     "varRefreshCmd": "cat(var_dic_list()) "
    }
   },
   "types_to_exclude": [
    "module",
    "function",
    "builtin_function_or_method",
    "instance",
    "_Feature"
   ],
   "window_display": false
  }
 },
 "nbformat": 4,
 "nbformat_minor": 4
}
