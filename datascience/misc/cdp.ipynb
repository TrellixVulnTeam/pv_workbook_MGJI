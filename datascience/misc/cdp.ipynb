{
 "cells": [
  {
   "cell_type": "code",
   "execution_count": 1,
   "metadata": {},
   "outputs": [],
   "source": [
    "import pandas as pd"
   ]
  },
  {
   "cell_type": "code",
   "execution_count": 7,
   "metadata": {},
   "outputs": [],
   "source": [
    "df = pd.read_csv('/Users/toddhendricks/Desktop/TSCAINV_062020.csv')"
   ]
  },
  {
   "cell_type": "code",
   "execution_count": 8,
   "metadata": {},
   "outputs": [
    {
     "data": {
      "text/html": [
       "<div>\n",
       "<style scoped>\n",
       "    .dataframe tbody tr th:only-of-type {\n",
       "        vertical-align: middle;\n",
       "    }\n",
       "\n",
       "    .dataframe tbody tr th {\n",
       "        vertical-align: top;\n",
       "    }\n",
       "\n",
       "    .dataframe thead th {\n",
       "        text-align: right;\n",
       "    }\n",
       "</style>\n",
       "<table border=\"1\" class=\"dataframe\">\n",
       "  <thead>\n",
       "    <tr style=\"text-align: right;\">\n",
       "      <th></th>\n",
       "      <th>ID</th>\n",
       "      <th>CASRN</th>\n",
       "      <th>casregno</th>\n",
       "      <th>UID</th>\n",
       "      <th>EXP</th>\n",
       "      <th>ChemName</th>\n",
       "      <th>DEF</th>\n",
       "      <th>UVCB</th>\n",
       "      <th>FLAG</th>\n",
       "      <th>ACTIVITY</th>\n",
       "    </tr>\n",
       "  </thead>\n",
       "  <tbody>\n",
       "    <tr>\n",
       "      <th>0</th>\n",
       "      <td>1</td>\n",
       "      <td>51-52-5</td>\n",
       "      <td>51525</td>\n",
       "      <td>NaN</td>\n",
       "      <td>NaN</td>\n",
       "      <td>4(1H)-Pyrimidinone, 2,3-dihydro-6-propyl-2-thi...</td>\n",
       "      <td>NaN</td>\n",
       "      <td>NaN</td>\n",
       "      <td>NaN</td>\n",
       "      <td>ACTIVE</td>\n",
       "    </tr>\n",
       "    <tr>\n",
       "      <th>1</th>\n",
       "      <td>2</td>\n",
       "      <td>51-55-8</td>\n",
       "      <td>51558</td>\n",
       "      <td>NaN</td>\n",
       "      <td>NaN</td>\n",
       "      <td>Benzeneacetic acid, .alpha.-(hydroxymethyl)- (...</td>\n",
       "      <td>NaN</td>\n",
       "      <td>NaN</td>\n",
       "      <td>NaN</td>\n",
       "      <td>ACTIVE</td>\n",
       "    </tr>\n",
       "    <tr>\n",
       "      <th>2</th>\n",
       "      <td>3</td>\n",
       "      <td>51-56-9</td>\n",
       "      <td>51569</td>\n",
       "      <td>NaN</td>\n",
       "      <td>NaN</td>\n",
       "      <td>Benzeneacetic acid, .alpha.-hydroxy-, (3-endo)...</td>\n",
       "      <td>NaN</td>\n",
       "      <td>NaN</td>\n",
       "      <td>NaN</td>\n",
       "      <td>INACTIVE</td>\n",
       "    </tr>\n",
       "    <tr>\n",
       "      <th>3</th>\n",
       "      <td>4</td>\n",
       "      <td>51-57-0</td>\n",
       "      <td>51570</td>\n",
       "      <td>NaN</td>\n",
       "      <td>NaN</td>\n",
       "      <td>Benzeneethanamine, N,.alpha.-dimethyl-, hydroc...</td>\n",
       "      <td>NaN</td>\n",
       "      <td>NaN</td>\n",
       "      <td>NaN</td>\n",
       "      <td>INACTIVE</td>\n",
       "    </tr>\n",
       "    <tr>\n",
       "      <th>4</th>\n",
       "      <td>5</td>\n",
       "      <td>51-64-9</td>\n",
       "      <td>51649</td>\n",
       "      <td>NaN</td>\n",
       "      <td>NaN</td>\n",
       "      <td>Benzeneethanamine, .alpha.-methyl-, (.alpha.S)-</td>\n",
       "      <td>NaN</td>\n",
       "      <td>NaN</td>\n",
       "      <td>NaN</td>\n",
       "      <td>INACTIVE</td>\n",
       "    </tr>\n",
       "  </tbody>\n",
       "</table>\n",
       "</div>"
      ],
      "text/plain": [
       "   ID    CASRN  casregno  UID  EXP  \\\n",
       "0   1  51-52-5     51525  NaN  NaN   \n",
       "1   2  51-55-8     51558  NaN  NaN   \n",
       "2   3  51-56-9     51569  NaN  NaN   \n",
       "3   4  51-57-0     51570  NaN  NaN   \n",
       "4   5  51-64-9     51649  NaN  NaN   \n",
       "\n",
       "                                            ChemName  DEF UVCB FLAG  ACTIVITY  \n",
       "0  4(1H)-Pyrimidinone, 2,3-dihydro-6-propyl-2-thi...  NaN  NaN  NaN    ACTIVE  \n",
       "1  Benzeneacetic acid, .alpha.-(hydroxymethyl)- (...  NaN  NaN  NaN    ACTIVE  \n",
       "2  Benzeneacetic acid, .alpha.-hydroxy-, (3-endo)...  NaN  NaN  NaN  INACTIVE  \n",
       "3  Benzeneethanamine, N,.alpha.-dimethyl-, hydroc...  NaN  NaN  NaN  INACTIVE  \n",
       "4    Benzeneethanamine, .alpha.-methyl-, (.alpha.S)-  NaN  NaN  NaN  INACTIVE  "
      ]
     },
     "execution_count": 8,
     "metadata": {},
     "output_type": "execute_result"
    }
   ],
   "source": [
    "df.head(5)"
   ]
  },
  {
   "cell_type": "code",
   "execution_count": 9,
   "metadata": {},
   "outputs": [
    {
     "data": {
      "text/plain": [
       "0   NaN\n",
       "1   NaN\n",
       "2   NaN\n",
       "3   NaN\n",
       "4   NaN\n",
       "Name: EXP, dtype: float64"
      ]
     },
     "execution_count": 9,
     "metadata": {},
     "output_type": "execute_result"
    }
   ],
   "source": [
    "df.EXP.head(5)"
   ]
  },
  {
   "cell_type": "code",
   "execution_count": 5,
   "metadata": {},
   "outputs": [
    {
     "data": {
      "text/plain": [
       "Index(['1. YEAR', '2. TRIFD', '3. FRS ID', '4. FACILITY NAME',\n",
       "       '5. STREET ADDRESS', '6. CITY', '7. COUNTY', '8. ST', '9. ZIP',\n",
       "       '10. BIA',\n",
       "       ...\n",
       "       '106. 8.2 - ENERGY RECOVER ON', '107. 8.3 - ENERGY RECOVER OF',\n",
       "       '108. 8.4 - RECYCLING ON SITE', '109. 8.5 - RECYCLING OFF SIT',\n",
       "       '110. 8.6 - TREATMENT ON SITE', '111. 8.7 - TREATMENT OFF SITE',\n",
       "       '112. PRODUCTION WSTE (8.1-8.7)', '113. 8.8 - ONE-TIME RELEASE',\n",
       "       '114. PROD_RATIO_OR_ ACTIVITY', '115. 8.9 - PRODUCTION RATIO'],\n",
       "      dtype='object', length=115)"
      ]
     },
     "execution_count": 5,
     "metadata": {},
     "output_type": "execute_result"
    }
   ],
   "source": [
    "df.columns"
   ]
  },
  {
   "cell_type": "code",
   "execution_count": null,
   "metadata": {},
   "outputs": [],
   "source": []
  }
 ],
 "metadata": {
  "kernelspec": {
   "display_name": "Python 3",
   "language": "python",
   "name": "python3"
  },
  "language_info": {
   "codemirror_mode": {
    "name": "ipython",
    "version": 3
   },
   "file_extension": ".py",
   "mimetype": "text/x-python",
   "name": "python",
   "nbconvert_exporter": "python",
   "pygments_lexer": "ipython3",
   "version": "3.7.6"
  },
  "varInspector": {
   "cols": {
    "lenName": 16,
    "lenType": 16,
    "lenVar": 40
   },
   "kernels_config": {
    "python": {
     "delete_cmd_postfix": "",
     "delete_cmd_prefix": "del ",
     "library": "var_list.py",
     "varRefreshCmd": "print(var_dic_list())"
    },
    "r": {
     "delete_cmd_postfix": ") ",
     "delete_cmd_prefix": "rm(",
     "library": "var_list.r",
     "varRefreshCmd": "cat(var_dic_list()) "
    }
   },
   "types_to_exclude": [
    "module",
    "function",
    "builtin_function_or_method",
    "instance",
    "_Feature"
   ],
   "window_display": false
  }
 },
 "nbformat": 4,
 "nbformat_minor": 4
}
