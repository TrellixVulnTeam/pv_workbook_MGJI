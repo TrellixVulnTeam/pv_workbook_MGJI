{
 "cells": [
  {
   "cell_type": "code",
   "execution_count": 295,
   "metadata": {},
   "outputs": [],
   "source": [
    "import pandas as pd\n",
    "import seaborn as sns\n",
    "import matplotlib.pyplot as plt\n",
    "import matplotlib as m"
   ]
  },
  {
   "cell_type": "code",
   "execution_count": 221,
   "metadata": {},
   "outputs": [],
   "source": [
    "df = pd.read_csv('/Users/toddhendricks/Downloads/sapd - Sheet1.csv')"
   ]
  },
  {
   "cell_type": "code",
   "execution_count": 222,
   "metadata": {},
   "outputs": [
    {
     "data": {
      "text/plain": [
       "Index(['Date of Discipline', 'Year of Discipline', 'City Year of Discipline',\n",
       "       'City Quarter of Discipline', 'Officer', 'Officer Ethnicity',\n",
       "       'Officer Gender', 'Hire Date', 'Years Employed', 'Job Title',\n",
       "       'Salary at Year of Termination',\n",
       "       'Indefinite Suspension /\\nContemplated / Temporary',\n",
       "       'Reason for Termination', 'Civil Service Agenda ',\n",
       "       'Suspension Documents', 'Arbitration/ Settlement Documents',\n",
       "       'Outcome of Termination', 'Termination Outcome',\n",
       "       'Suspension or Arbitration', 'Date of Arbitration/Settlement',\n",
       "       'Years Between Arbitration/Settlement',\n",
       "       'Days Suspended After Reinstatement'],\n",
       "      dtype='object')"
      ]
     },
     "execution_count": 222,
     "metadata": {},
     "output_type": "execute_result"
    }
   ],
   "source": [
    "df.head(5)\n",
    "df.columns"
   ]
  },
  {
   "cell_type": "code",
   "execution_count": null,
   "metadata": {},
   "outputs": [],
   "source": []
  },
  {
   "cell_type": "code",
   "execution_count": 223,
   "metadata": {},
   "outputs": [],
   "source": [
    "df['Date of Discipline'] = pd.to_datetime(df['Date of Discipline']) \n",
    "df['Date of Arbitration/Settlement'] = pd.to_datetime(df['Date of Arbitration/Settlement']) "
   ]
  },
  {
   "cell_type": "code",
   "execution_count": null,
   "metadata": {},
   "outputs": [],
   "source": []
  },
  {
   "cell_type": "code",
   "execution_count": null,
   "metadata": {},
   "outputs": [],
   "source": []
  },
  {
   "cell_type": "code",
   "execution_count": null,
   "metadata": {},
   "outputs": [],
   "source": []
  },
  {
   "cell_type": "code",
   "execution_count": 224,
   "metadata": {},
   "outputs": [],
   "source": [
    "re = df[df['Termination Outcome'] == 'Reinstated']\n",
    "fired = df[df['Termination Outcome'] == 'Terminated']"
   ]
  },
  {
   "cell_type": "code",
   "execution_count": 303,
   "metadata": {},
   "outputs": [
    {
     "data": {
      "image/png": "[encoded data removed]",
      "text/plain": [
       "<Figure size 432x288 with 1 Axes>"
      ]
     },
     "metadata": {
      "needs_background": "light"
     },
     "output_type": "display_data"
    }
   ],
   "source": [
    "sns.barplot(x=re['City Year of Discipline'], y=re['Days Suspended After Reinstatement'],ci=None, color='green')\n",
    "plt.title(\"Total Days of Paid Suspension at Taxpayer Expense\")\n",
    "plt.xlabel(\"Year of Offense\")\n",
    "plt.ylabel(\"Total Days\")\n",
    "plt.savefig('1.png')"
   ]
  },
  {
   "cell_type": "code",
   "execution_count": 247,
   "metadata": {},
   "outputs": [],
   "source": [
    "re = re.replace('Conduct: Force (Feds)', 'Excessive Force')\n",
    "re = re.replace('Conduct: Violation of Exam Rules', 'Dishonesty')\n",
    "re = re.replace('Conduct: Relationship with co-workers', 'Fraternization')\n",
    "re = re.replace('Conduct', 'Misconduct (Undefined)')\n",
    "re = re.replace('Child sexual assault ', 'Sexual Assualt of Child')\n",
    "re = re.replace('Assault (FV)', 'Excessive Force')\n",
    "re = re.replace('Theft: Dog', 'Theft')\n",
    "re = re.replace('Sexual Conduct', 'Sexual Harassment')\n",
    "re = re.replace('Conduct: Dereliction of Duty', 'Dereliction of Duty')\n",
    "re = re.replace('Conduct: Altercation', 'Excessive Force')\n",
    "re = re.replace('Conduct: Vehicle Chase Violation', 'Reckless Endangerment')\n",
    "re = re.replace('Threat of Revenge Pornography', 'Revenge Porn')\n",
    "re = re.replace('Family Violence: Threats', 'Domestic Violence')\n",
    "re = re.replace('Illegal Conduct: Criminal Mischief', 'Criminal Mischief')\n",
    "re = re.replace('Family Violence: Threats', 'Domestic Violence')"
   ]
  },
  {
   "cell_type": "code",
   "execution_count": 250,
   "metadata": {},
   "outputs": [
    {
     "data": {
      "text/plain": [
       "array(['Excessive Force', 'Mishandling DWI', 'Dishonesty',\n",
       "       'Fraternization', 'Misconduct (Undefined)',\n",
       "       'Sexual Assualt of Child', 'Theft', nan, 'DWI',\n",
       "       'Sexual Harassment', 'Dereliction of Duty', 'Criminal Mischief',\n",
       "       'Reckless Endangerment', 'Revenge Porn', 'Unknown',\n",
       "       'Domestic Violence'], dtype=object)"
      ]
     },
     "execution_count": 250,
     "metadata": {},
     "output_type": "execute_result"
    }
   ],
   "source": [
    "re['Reason for Termination'].unique()"
   ]
  },
  {
   "cell_type": "code",
   "execution_count": 251,
   "metadata": {},
   "outputs": [],
   "source": [
    "re['reinstatement_method'] = re['Outcome of Termination'].str.replace('Reinstated: Unknown Reason', 'City Refuse to Disclose')\n",
    "re['reinstatement_method'] = re['Outcome of Termination'].str.replace('Reinstated, Settlement Agreement', 'Settlement Agreement')\n",
    "re['reinstatement_method'] = re['Outcome of Termination'].str.replace('Reinstated: Arbitration', 'Arbitration')\n",
    "re['reinstatement_method'] = re['Outcome of Termination'].str.replace('Reinstated: Settlement Agreement Agenda', 'Settlement Agreement')"
   ]
  },
  {
   "cell_type": "code",
   "execution_count": 252,
   "metadata": {},
   "outputs": [],
   "source": [
    "re.reinstatement_method = re.reinstatement_method.str.replace('Reinstated: ','')"
   ]
  },
  {
   "cell_type": "code",
   "execution_count": 254,
   "metadata": {},
   "outputs": [
    {
     "data": {
      "text/plain": [
       "array(['Settlement Agreement', 'Arbitration', 'Unknown Reason'],\n",
       "      dtype=object)"
      ]
     },
     "execution_count": 254,
     "metadata": {},
     "output_type": "execute_result"
    }
   ],
   "source": [
    "re.reinstatement_method.unique()"
   ]
  },
  {
   "cell_type": "code",
   "execution_count": 310,
   "metadata": {},
   "outputs": [
    {
     "data": {
      "image/png": "[encoded data removed]",
      "text/plain": [
       "<Figure size 432x288 with 1 Axes>"
      ]
     },
     "metadata": {
      "needs_background": "light"
     },
     "output_type": "display_data"
    }
   ],
   "source": [
    "sns.countplot(\n",
    "    data=re,\n",
    "    x='Year of Discipline',\n",
    "    hue='reinstatement_method'\n",
    ")\n",
    "plt.xlabel('Year of Termination')\n",
    "plt.title('How Fired Officers Get Re-Hired')\n",
    "plt.savefig('2.png')"
   ]
  },
  {
   "cell_type": "code",
   "execution_count": 312,
   "metadata": {},
   "outputs": [
    {
     "data": {
      "image/png": "[encoded data removed]",
      "text/plain": [
       "<Figure size 432x288 with 1 Axes>"
      ]
     },
     "metadata": {
      "needs_background": "light"
     },
     "output_type": "display_data"
    }
   ],
   "source": [
    "reasons = re.groupby(by=['Reason for Termination'])['Officer'].count().reset_index()\n",
    "reasons = reasons[reasons['Reason for Termination'] != 'Misconduct (Undefined)']\n",
    "reasons = reasons[reasons['Reason for Termination'] != 'Unknown']\n",
    "reasons = reasons[reasons['Reason for Termination'] != 'Fraternization']\n",
    "reasons = reasons[reasons['Reason for Termination'] != 'Dishonesty']\n",
    "reasons = reasons.sort_values(by='Officer', ascending=False)\n",
    "\n",
    "sns.barplot(\n",
    "    x=reasons['Officer'],\n",
    "    y=reasons['Reason for Termination'],\n",
    "    orient='h', color='red'\n",
    ")\n",
    "plt.xlabel('Reason for Termination')\n",
    "plt.title('What Reinstated Officers Were Originally Fired For')\n",
    "plt.ylabel(' ')\n",
    "plt.xticks(range(0,len(reasons['Officer'])))\n",
    "plt.xlim(0,5)\n",
    "plt.savefig('3.png')"
   ]
  },
  {
   "cell_type": "code",
   "execution_count": 304,
   "metadata": {},
   "outputs": [],
   "source": [
    "df['daily_sal'] = 164"
   ]
  },
  {
   "cell_type": "code",
   "execution_count": 306,
   "metadata": {},
   "outputs": [],
   "source": [
    "df['cost'] = df['daily_sal'] * df['Days Suspended After Reinstatement']"
   ]
  },
  {
   "cell_type": "code",
   "execution_count": 308,
   "metadata": {},
   "outputs": [],
   "source": [
    "df['school'] = df['cost'] / 3"
   ]
  },
  {
   "cell_type": "code",
   "execution_count": 309,
   "metadata": {},
   "outputs": [
    {
     "data": {
      "text/plain": [
       "0               NaN\n",
       "1               NaN\n",
       "2       1640.000000\n",
       "3       7544.000000\n",
       "4               NaN\n",
       "5       6997.333333\n",
       "6               NaN\n",
       "7               NaN\n",
       "8      16400.000000\n",
       "9               NaN\n",
       "10      6833.333333\n",
       "11              NaN\n",
       "12     10824.000000\n",
       "13      1640.000000\n",
       "14              NaN\n",
       "15     30394.666667\n",
       "16              NaN\n",
       "17              NaN\n",
       "18         0.000000\n",
       "19              NaN\n",
       "20     17384.000000\n",
       "21      1640.000000\n",
       "22              NaN\n",
       "23              NaN\n",
       "24      2460.000000\n",
       "25              NaN\n",
       "26      1640.000000\n",
       "27              NaN\n",
       "28      3280.000000\n",
       "29     48216.000000\n",
       "           ...     \n",
       "71      2460.000000\n",
       "72      6560.000000\n",
       "73              NaN\n",
       "74              NaN\n",
       "75              NaN\n",
       "76              NaN\n",
       "77     38594.666667\n",
       "78      2022.666667\n",
       "79              NaN\n",
       "80              NaN\n",
       "81              NaN\n",
       "82              NaN\n",
       "83     10933.333333\n",
       "84              NaN\n",
       "85              NaN\n",
       "86      4920.000000\n",
       "87              NaN\n",
       "88              NaN\n",
       "89              NaN\n",
       "90              NaN\n",
       "91              NaN\n",
       "92              NaN\n",
       "93              NaN\n",
       "94              NaN\n",
       "95              NaN\n",
       "96              NaN\n",
       "97              NaN\n",
       "98              NaN\n",
       "99              NaN\n",
       "100             NaN\n",
       "Name: school, Length: 101, dtype: float64"
      ]
     },
     "execution_count": 309,
     "metadata": {},
     "output_type": "execute_result"
    }
   ],
   "source": [
    "df['school']"
   ]
  },
  {
   "cell_type": "code",
   "execution_count": null,
   "metadata": {},
   "outputs": [],
   "source": []
  }
 ],
 "metadata": {
  "kernelspec": {
   "display_name": "Python 3",
   "language": "python",
   "name": "python3"
  },
  "language_info": {
   "codemirror_mode": {
    "name": "ipython",
    "version": 3
   },
   "file_extension": ".py",
   "mimetype": "text/x-python",
   "name": "python",
   "nbconvert_exporter": "python",
   "pygments_lexer": "ipython3",
   "version": "3.7.9"
  },
  "varInspector": {
   "cols": {
    "lenName": 16,
    "lenType": 16,
    "lenVar": 40
   },
   "kernels_config": {
    "python": {
     "delete_cmd_postfix": "",
     "delete_cmd_prefix": "del ",
     "library": "var_list.py",
     "varRefreshCmd": "print(var_dic_list())"
    },
    "r": {
     "delete_cmd_postfix": ") ",
     "delete_cmd_prefix": "rm(",
     "library": "var_list.r",
     "varRefreshCmd": "cat(var_dic_list()) "
    }
   },
   "types_to_exclude": [
    "module",
    "function",
    "builtin_function_or_method",
    "instance",
    "_Feature"
   ],
   "window_display": false
  }
 },
 "nbformat": 4,
 "nbformat_minor": 4
}
