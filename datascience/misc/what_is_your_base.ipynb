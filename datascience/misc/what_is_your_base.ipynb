{
 "cells": [
  {
   "cell_type": "code",
   "execution_count": 25,
   "metadata": {},
   "outputs": [
    {
     "name": "stdout",
     "output_type": "stream",
     "text": [
      "https://voterrecords.com/voters/co/1\n",
      "<!DOCTYPE html>\n",
      "<!--[if lt IE 7]> <html class=\"no-js ie6 oldie\" lang=\"en-US\"> <![endif]--><!--[if IE 7]>    <html class=\"no-js ie7 oldie\" lang=\"en-US\"> <![endif]--><!--[if IE 8]>    <html class=\"no-js ie8 oldie\" lang=\"en-US\"> <![endif]--><!--[if gt IE 8]><!--><html class=\"no-js\" lang=\"en-US\"> <!--<![endif]-->\n",
      "<head>\n",
      "<title>Access denied | voterrecords.com used Cloudflare to restrict access</title>\n",
      "<meta charset=\"utf-8\"/>\n",
      "<meta content=\"text/html; charset=utf-8\" http-equiv=\"Content-Type\"/>\n",
      "<meta content=\"IE=Edge,chrome=1\" http-equiv=\"X-UA-Compatible\"/>\n",
      "<meta content=\"noindex, nofollow\" name=\"robots\"/>\n",
      "<meta content=\"width=device-width,initial-scale=1\" name=\"viewport\"/>\n",
      "<link href=\"/cdn-cgi/styles/main.css\" id=\"cf_styles-css\" media=\"screen,projection\" rel=\"stylesheet\" type=\"text/css\"/>\n",
      "<script async=\"\" src=\"/cdn-cgi/bm/cv/669835187/api.js\"></script></head>\n",
      "<body>\n",
      "<div id=\"cf-wrapper\">\n",
      "<div class=\"cf-alert cf-alert-error cf-cookie-error hidden\" data-translate=\"enable_cookies\" id=\"cookie-alert\">Please enable cookies.</div>\n",
      "<div class=\"p-0\" id=\"cf-error-details\">\n",
      "<header class=\"mx-auto pt-10 lg:pt-6 lg:px-8 w-240 lg:w-full mb-15 antialiased\">\n",
      "<h1 class=\"inline-block md:block mr-2 md:mb-2 font-light text-60 md:text-3xl text-black-dark leading-tight\">\n",
      "<span data-translate=\"error\">Error</span>\n",
      "<span>1020</span>\n",
      "</h1>\n",
      "<span class=\"inline-block md:block heading-ray-id font-mono text-15 lg:text-sm lg:leading-relaxed\">Ray ID: 61fb0081184b368c •</span>\n",
      "<span class=\"inline-block md:block heading-ray-id font-mono text-15 lg:text-sm lg:leading-relaxed\">2021-02-11 03:32:18 UTC</span>\n",
      "<h2 class=\"text-gray-600 leading-1.3 text-3xl lg:text-2xl font-light\">Access denied</h2>\n",
      "</header>\n",
      "<section class=\"w-240 lg:w-full mx-auto mb-8 lg:px-8\">\n",
      "<div class=\"w-1/2 md:w-full\" id=\"what-happened-section\">\n",
      "<h2 class=\"text-3xl leading-tight font-normal mb-4 text-black-dark antialiased\" data-translate=\"what_happened\">What happened?</h2>\n",
      "<p>This website is using a security service to protect itself from online attacks.</p>\n",
      "</div>\n",
      "</section>\n",
      "<div class=\"cf-error-footer cf-wrapper w-240 lg:w-full py-10 sm:py-4 sm:px-8 mx-auto text-center sm:text-left border-solid border-0 border-t border-gray-300\">\n",
      "<p class=\"text-13\">\n",
      "<span class=\"cf-footer-item sm:block sm:mb-1\">Cloudflare Ray ID: <strong class=\"font-semibold\">61fb0081184b368c</strong></span>\n",
      "<span class=\"cf-footer-separator sm:hidden\">•</span>\n",
      "<span class=\"cf-footer-item sm:block sm:mb-1\"><span>Your IP</span>: 97.124.215.19</span>\n",
      "<span class=\"cf-footer-separator sm:hidden\">•</span>\n",
      "<span class=\"cf-footer-item sm:block sm:mb-1\"><span>Performance &amp; security by</span> <a href=\"https://www.cloudflare.com/5xx-error-landing\" id=\"brand_link\" rel=\"noopener noreferrer\" target=\"_blank\">Cloudflare</a></span>\n",
      "</p>\n",
      "</div>\n",
      "</div>\n",
      "</div>\n",
      "<script type=\"text/javascript\">\n",
      "  window._cf_translation = {};\n",
      "  \n",
      "  \n",
      "</script>\n",
      "<script type=\"text/javascript\">(function(){window['__CF$cv$params']={r:'61fb0081184b368c',m:'f00907dd9b547659aa0990be909b9900d7e200a4-1613014338-1800-AVyneoBS4bRixUxeCxx2I6mqDQ//IDUh3CPYM2kbSu/2rmCCQ5WMfBrs5CxFfvQUW5HZyPzpxgm32De/rEyV2DostntFgcModf8y21vqowWVXYjFCG0ozQ4zwrk+VNQ4XA==',s:[0x2d0011f590,0xd91b956840],}})();</script></body>\n",
      "</html>\n",
      "\n",
      "[]\n"
     ]
    }
   ],
   "source": [
    "import pandas as pd\n",
    "import requests\n",
    "from bs4 import BeautifulSoup\n",
    "\n",
    "def drug_data():\n",
    "    url = 'https://voterrecords.com/voters/co/1'\n",
    "\n",
    "    while url:\n",
    "        print(url)\n",
    "        r = requests.get(url)\n",
    "        soup = BeautifulSoup(r.text ,\"lxml\")\n",
    "        print(soup)\n",
    "        #data = soup.select('name-head a')\n",
    "        #for link in data:\n",
    "        #    href = 'https://www.drugbank.ca/drugs/' + link.get('href')\n",
    "        #    pages_data(href)\n",
    "\n",
    "        # next page url\n",
    "        url = soup.findAll('a', {'class': 'page-link', 'rel': 'next'})\n",
    "        print(url)\n",
    "        if url:\n",
    "            url = 'https://voterrecords.com/voters/co/1' + url[0].get('href')\n",
    "        else:\n",
    "            break\n",
    "\n",
    "drug_data()"
   ]
  },
  {
   "cell_type": "code",
   "execution_count": 20,
   "metadata": {},
   "outputs": [],
   "source": [
    "df = pd.read_excel('/Users/toddhendricks/Downloads/nc-est2019-sr11h.xlsx')"
   ]
  },
  {
   "cell_type": "code",
   "execution_count": 21,
   "metadata": {},
   "outputs": [
    {
     "data": {
      "text/plain": [
       "(135, 13)"
      ]
     },
     "execution_count": 21,
     "metadata": {},
     "output_type": "execute_result"
    }
   ],
   "source": [
    "df.shape"
   ]
  },
  {
   "cell_type": "code",
   "execution_count": 22,
   "metadata": {},
   "outputs": [
    {
     "data": {
      "text/plain": [
       "Index(['table with row headers in column A and column headers in rows 3 through 4. (leading dots indicate sub-parts)',\n",
       "       'Unnamed: 1', 'Unnamed: 2', 'Unnamed: 3', 'Unnamed: 4', 'Unnamed: 5',\n",
       "       'Unnamed: 6', 'Unnamed: 7', 'Unnamed: 8', 'Unnamed: 9', 'Unnamed: 10',\n",
       "       'Unnamed: 11', 'Unnamed: 12'],\n",
       "      dtype='object')"
      ]
     },
     "execution_count": 22,
     "metadata": {},
     "output_type": "execute_result"
    }
   ],
   "source": [
    "df.columns"
   ]
  },
  {
   "cell_type": "code",
   "execution_count": 15,
   "metadata": {},
   "outputs": [
    {
     "data": {
      "text/html": [
       "<div>\n",
       "<style scoped>\n",
       "    .dataframe tbody tr th:only-of-type {\n",
       "        vertical-align: middle;\n",
       "    }\n",
       "\n",
       "    .dataframe tbody tr th {\n",
       "        vertical-align: top;\n",
       "    }\n",
       "\n",
       "    .dataframe thead th {\n",
       "        text-align: right;\n",
       "    }\n",
       "</style>\n",
       "<table border=\"1\" class=\"dataframe\">\n",
       "  <thead>\n",
       "    <tr style=\"text-align: right;\">\n",
       "      <th></th>\n",
       "      <th>year</th>\n",
       "      <th>stage</th>\n",
       "      <th>special</th>\n",
       "      <th>state</th>\n",
       "      <th>state_postal</th>\n",
       "      <th>state_fips</th>\n",
       "      <th>state_icpsr</th>\n",
       "      <th>county_name</th>\n",
       "      <th>county_fips</th>\n",
       "      <th>county_ansi</th>\n",
       "      <th>...</th>\n",
       "      <th>candidate_middle</th>\n",
       "      <th>candidate_full</th>\n",
       "      <th>candidate_suffix</th>\n",
       "      <th>candidate_nickname</th>\n",
       "      <th>candidate_fec</th>\n",
       "      <th>candidate_fec_name</th>\n",
       "      <th>candidate_google</th>\n",
       "      <th>candidate_govtrack</th>\n",
       "      <th>candidate_icpsr</th>\n",
       "      <th>candidate_maplight</th>\n",
       "    </tr>\n",
       "  </thead>\n",
       "  <tbody>\n",
       "    <tr>\n",
       "      <th>590163</th>\n",
       "      <td>2016</td>\n",
       "      <td>gen</td>\n",
       "      <td>False</td>\n",
       "      <td>Illinois</td>\n",
       "      <td>IL</td>\n",
       "      <td>17</td>\n",
       "      <td>21</td>\n",
       "      <td>Cook County</td>\n",
       "      <td>17031.0</td>\n",
       "      <td>1784766.0</td>\n",
       "      <td>...</td>\n",
       "      <td>NaN</td>\n",
       "      <td>NaN</td>\n",
       "      <td>NaN</td>\n",
       "      <td>NaN</td>\n",
       "      <td>NaN</td>\n",
       "      <td>NaN</td>\n",
       "      <td>NaN</td>\n",
       "      <td>NaN</td>\n",
       "      <td>NaN</td>\n",
       "      <td>NaN</td>\n",
       "    </tr>\n",
       "  </tbody>\n",
       "</table>\n",
       "<p>1 rows × 37 columns</p>\n",
       "</div>"
      ],
      "text/plain": [
       "        year stage  special     state state_postal  state_fips  state_icpsr  \\\n",
       "590163  2016   gen    False  Illinois           IL          17           21   \n",
       "\n",
       "        county_name  county_fips  county_ansi  ...  candidate_middle  \\\n",
       "590163  Cook County      17031.0    1784766.0  ...               NaN   \n",
       "\n",
       "        candidate_full candidate_suffix candidate_nickname candidate_fec  \\\n",
       "590163             NaN              NaN                NaN           NaN   \n",
       "\n",
       "       candidate_fec_name candidate_google candidate_govtrack  \\\n",
       "590163                NaN              NaN                NaN   \n",
       "\n",
       "        candidate_icpsr candidate_maplight  \n",
       "590163              NaN                NaN  \n",
       "\n",
       "[1 rows x 37 columns]"
      ]
     },
     "execution_count": 15,
     "metadata": {},
     "output_type": "execute_result"
    }
   ],
   "source": [
    "df.sample()"
   ]
  },
  {
   "cell_type": "code",
   "execution_count": 32,
   "metadata": {},
   "outputs": [
    {
     "name": "stdout",
     "output_type": "stream",
     "text": [
      "1\n"
     ]
    }
   ],
   "source": [
    "def sum_of_a_beach(beach):\n",
    "    beach_words = ['Sand', 'Water', 'Fish', 'Sun']\n",
    "    counter = 0\n",
    "    for word in beach_words:\n",
    "        if beach.find(word):\n",
    "            pass\n",
    "        else:\n",
    "            counter += 1\n",
    "    print(counter)\n",
    "\n",
    "sum_of_a_beach(\"FishermanSand\")"
   ]
  },
  {
   "cell_type": "code",
   "execution_count": null,
   "metadata": {},
   "outputs": [],
   "source": []
  }
 ],
 "metadata": {
  "kernelspec": {
   "display_name": "Python 3",
   "language": "python",
   "name": "python3"
  },
  "language_info": {
   "codemirror_mode": {
    "name": "ipython",
    "version": 3
   },
   "file_extension": ".py",
   "mimetype": "text/x-python",
   "name": "python",
   "nbconvert_exporter": "python",
   "pygments_lexer": "ipython3",
   "version": "3.7.9"
  },
  "varInspector": {
   "cols": {
    "lenName": 16,
    "lenType": 16,
    "lenVar": 40
   },
   "kernels_config": {
    "python": {
     "delete_cmd_postfix": "",
     "delete_cmd_prefix": "del ",
     "library": "var_list.py",
     "varRefreshCmd": "print(var_dic_list())"
    },
    "r": {
     "delete_cmd_postfix": ") ",
     "delete_cmd_prefix": "rm(",
     "library": "var_list.r",
     "varRefreshCmd": "cat(var_dic_list()) "
    }
   },
   "types_to_exclude": [
    "module",
    "function",
    "builtin_function_or_method",
    "instance",
    "_Feature"
   ],
   "window_display": false
  }
 },
 "nbformat": 4,
 "nbformat_minor": 4
}
