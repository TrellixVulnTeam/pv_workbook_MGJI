{
 "cells": [
  {
   "cell_type": "code",
   "execution_count": 1,
   "metadata": {},
   "outputs": [],
   "source": [
    "import pandas as pd"
   ]
  },
  {
   "cell_type": "code",
   "execution_count": 2,
   "metadata": {},
   "outputs": [],
   "source": [
    "df = pd.read_excel('/Users/toddhendricks/Downloads/online_retail_II.xlsx')"
   ]
  },
  {
   "cell_type": "code",
   "execution_count": 4,
   "metadata": {},
   "outputs": [
    {
     "data": {
      "text/plain": [
       "Index(['Invoice', 'StockCode', 'Description', 'Quantity', 'InvoiceDate',\n",
       "       'Price', 'Customer ID', 'Country'],\n",
       "      dtype='object')"
      ]
     },
     "execution_count": 4,
     "metadata": {},
     "output_type": "execute_result"
    }
   ],
   "source": [
    "df.columns"
   ]
  },
  {
   "cell_type": "code",
   "execution_count": 8,
   "metadata": {},
   "outputs": [
    {
     "data": {
      "text/plain": [
       "United Kingdom          485852\n",
       "EIRE                      9670\n",
       "Germany                   8129\n",
       "France                    5772\n",
       "Netherlands               2769\n",
       "Spain                     1278\n",
       "Switzerland               1187\n",
       "Portugal                  1101\n",
       "Belgium                   1054\n",
       "Channel Islands            906\n",
       "Sweden                     902\n",
       "Italy                      731\n",
       "Australia                  654\n",
       "Cyprus                     554\n",
       "Austria                    537\n",
       "Greece                     517\n",
       "United Arab Emirates       432\n",
       "Denmark                    428\n",
       "Norway                     369\n",
       "Finland                    354\n",
       "Unspecified                310\n",
       "USA                        244\n",
       "Japan                      224\n",
       "Poland                     194\n",
       "Malta                      172\n",
       "Lithuania                  154\n",
       "Singapore                  117\n",
       "RSA                        111\n",
       "Bahrain                    107\n",
       "Canada                      77\n",
       "Thailand                    76\n",
       "Hong Kong                   76\n",
       "Israel                      74\n",
       "Iceland                     71\n",
       "Korea                       63\n",
       "Brazil                      62\n",
       "West Indies                 54\n",
       "Bermuda                     34\n",
       "Nigeria                     32\n",
       "Lebanon                     13\n",
       "Name: Country, dtype: int64"
      ]
     },
     "execution_count": 8,
     "metadata": {},
     "output_type": "execute_result"
    }
   ],
   "source": [
    "df['Country'].value_counts()"
   ]
  },
  {
   "cell_type": "code",
   "execution_count": 12,
   "metadata": {},
   "outputs": [
    {
     "data": {
      "text/plain": [
       "Country      Invoice\n",
       "Australia    536009     99\n",
       "             513987     87\n",
       "             526756     47\n",
       "             534450     27\n",
       "             507148     26\n",
       "                        ..\n",
       "Unspecified  C495770     1\n",
       "             C515620     1\n",
       "             C521020     1\n",
       "             C532353     1\n",
       "West Indies  520018     54\n",
       "Name: Invoice, Length: 28816, dtype: int64"
      ]
     },
     "execution_count": 12,
     "metadata": {},
     "output_type": "execute_result"
    }
   ],
   "source": [
    "df['Invoice'].groupby(df['Country']).value_counts()"
   ]
  },
  {
   "cell_type": "code",
   "execution_count": 13,
   "metadata": {},
   "outputs": [
    {
     "data": {
      "text/html": [
       "<div>\n",
       "<style scoped>\n",
       "    .dataframe tbody tr th:only-of-type {\n",
       "        vertical-align: middle;\n",
       "    }\n",
       "\n",
       "    .dataframe tbody tr th {\n",
       "        vertical-align: top;\n",
       "    }\n",
       "\n",
       "    .dataframe thead th {\n",
       "        text-align: right;\n",
       "    }\n",
       "</style>\n",
       "<table border=\"1\" class=\"dataframe\">\n",
       "  <thead>\n",
       "    <tr style=\"text-align: right;\">\n",
       "      <th></th>\n",
       "      <th>Quantity</th>\n",
       "      <th>Price</th>\n",
       "      <th>Customer ID</th>\n",
       "    </tr>\n",
       "    <tr>\n",
       "      <th>Invoice</th>\n",
       "      <th></th>\n",
       "      <th></th>\n",
       "      <th></th>\n",
       "    </tr>\n",
       "  </thead>\n",
       "  <tbody>\n",
       "    <tr>\n",
       "      <th>489434</th>\n",
       "      <td>166</td>\n",
       "      <td>32.65</td>\n",
       "      <td>104680.0</td>\n",
       "    </tr>\n",
       "    <tr>\n",
       "      <th>489435</th>\n",
       "      <td>60</td>\n",
       "      <td>10.50</td>\n",
       "      <td>52340.0</td>\n",
       "    </tr>\n",
       "    <tr>\n",
       "      <th>489436</th>\n",
       "      <td>193</td>\n",
       "      <td>70.88</td>\n",
       "      <td>248482.0</td>\n",
       "    </tr>\n",
       "    <tr>\n",
       "      <th>489437</th>\n",
       "      <td>145</td>\n",
       "      <td>83.45</td>\n",
       "      <td>353326.0</td>\n",
       "    </tr>\n",
       "    <tr>\n",
       "      <th>489438</th>\n",
       "      <td>826</td>\n",
       "      <td>44.05</td>\n",
       "      <td>307734.0</td>\n",
       "    </tr>\n",
       "    <tr>\n",
       "      <th>...</th>\n",
       "      <td>...</td>\n",
       "      <td>...</td>\n",
       "      <td>...</td>\n",
       "    </tr>\n",
       "    <tr>\n",
       "      <th>C538121</th>\n",
       "      <td>-1</td>\n",
       "      <td>12.75</td>\n",
       "      <td>15535.0</td>\n",
       "    </tr>\n",
       "    <tr>\n",
       "      <th>C538122</th>\n",
       "      <td>-1</td>\n",
       "      <td>1.25</td>\n",
       "      <td>14696.0</td>\n",
       "    </tr>\n",
       "    <tr>\n",
       "      <th>C538123</th>\n",
       "      <td>-4</td>\n",
       "      <td>5.40</td>\n",
       "      <td>37815.0</td>\n",
       "    </tr>\n",
       "    <tr>\n",
       "      <th>C538124</th>\n",
       "      <td>-6</td>\n",
       "      <td>16.20</td>\n",
       "      <td>45987.0</td>\n",
       "    </tr>\n",
       "    <tr>\n",
       "      <th>C538164</th>\n",
       "      <td>-1</td>\n",
       "      <td>1.95</td>\n",
       "      <td>14031.0</td>\n",
       "    </tr>\n",
       "  </tbody>\n",
       "</table>\n",
       "<p>28816 rows × 3 columns</p>\n",
       "</div>"
      ],
      "text/plain": [
       "         Quantity  Price  Customer ID\n",
       "Invoice                              \n",
       "489434        166  32.65     104680.0\n",
       "489435         60  10.50      52340.0\n",
       "489436        193  70.88     248482.0\n",
       "489437        145  83.45     353326.0\n",
       "489438        826  44.05     307734.0\n",
       "...           ...    ...          ...\n",
       "C538121        -1  12.75      15535.0\n",
       "C538122        -1   1.25      14696.0\n",
       "C538123        -4   5.40      37815.0\n",
       "C538124        -6  16.20      45987.0\n",
       "C538164        -1   1.95      14031.0\n",
       "\n",
       "[28816 rows x 3 columns]"
      ]
     },
     "execution_count": 13,
     "metadata": {},
     "output_type": "execute_result"
    }
   ],
   "source": [
    "df.groupby(['Invoice']).sum()"
   ]
  },
  {
   "cell_type": "code",
   "execution_count": 17,
   "metadata": {},
   "outputs": [
    {
     "data": {
      "text/plain": [
       "Country\n",
       "Hong Kong               114.676053\n",
       "Norway                   93.769241\n",
       "Malta                    34.358023\n",
       "RSA                      27.979730\n",
       "Lebanon                   8.936154\n",
       "EIRE                      7.948114\n",
       "Sweden                    7.653093\n",
       "Unspecified               7.136742\n",
       "Belgium                   6.856499\n",
       "Italy                     6.292845\n",
       "Australia                 6.202324\n",
       "Spain                     6.186244\n",
       "Channel Islands           5.870033\n",
       "United Arab Emirates      5.376481\n",
       "Austria                   4.623464\n",
       "USA                       4.552869\n",
       "United Kingdom            4.543470\n",
       "Switzerland               4.411281\n",
       "Cyprus                    4.357184\n",
       "France                    4.189418\n",
       "Finland                   4.089718\n",
       "Portugal                  3.713261\n",
       "Germany                   3.677999\n",
       "Greece                    3.650754\n",
       "Nigeria                   3.415000\n",
       "Netherlands               3.311910\n",
       "Israel                    3.303108\n",
       "Bahrain                   3.298318\n",
       "Singapore                 3.183846\n",
       "Thailand                  2.999605\n",
       "Poland                    2.669845\n",
       "Denmark                   2.642383\n",
       "Lithuania                 2.564740\n",
       "Bermuda                   2.491176\n",
       "Korea                     2.384762\n",
       "Iceland                   2.295070\n",
       "West Indies               2.273519\n",
       "Japan                     1.981027\n",
       "Canada                    1.915714\n",
       "Brazil                    1.834032\n",
       "Name: Price, dtype: float64"
      ]
     },
     "execution_count": 17,
     "metadata": {},
     "output_type": "execute_result"
    }
   ],
   "source": [
    "df['Price'].groupby(df['Country']).mean().sort_values(ascending=False)"
   ]
  },
  {
   "cell_type": "code",
   "execution_count": null,
   "metadata": {},
   "outputs": [],
   "source": []
  }
 ],
 "metadata": {
  "kernelspec": {
   "display_name": "Python 3",
   "language": "python",
   "name": "python3"
  },
  "language_info": {
   "codemirror_mode": {
    "name": "ipython",
    "version": 3
   },
   "file_extension": ".py",
   "mimetype": "text/x-python",
   "name": "python",
   "nbconvert_exporter": "python",
   "pygments_lexer": "ipython3",
   "version": "3.7.6"
  },
  "varInspector": {
   "cols": {
    "lenName": 16,
    "lenType": 16,
    "lenVar": 40
   },
   "kernels_config": {
    "python": {
     "delete_cmd_postfix": "",
     "delete_cmd_prefix": "del ",
     "library": "var_list.py",
     "varRefreshCmd": "print(var_dic_list())"
    },
    "r": {
     "delete_cmd_postfix": ") ",
     "delete_cmd_prefix": "rm(",
     "library": "var_list.r",
     "varRefreshCmd": "cat(var_dic_list()) "
    }
   },
   "types_to_exclude": [
    "module",
    "function",
    "builtin_function_or_method",
    "instance",
    "_Feature"
   ],
   "window_display": false
  }
 },
 "nbformat": 4,
 "nbformat_minor": 4
}
