{
 "cells": [
  {
   "cell_type": "code",
   "execution_count": null,
   "metadata": {},
   "outputs": [],
   "source": []
  },
  {
   "cell_type": "markdown",
   "metadata": {},
   "source": [
    "President Lyndon B. Johnson signed the Civil Rights Act of 1964. For Black Americans, it was a crowning achievement of a movement - the product of a long, brutal, bloody negotiation. Politically, socially, economically, culturally - in many ways, it was one of the most consequential pieces of legislation in the 20th century. \n",
    "The Act itself is very broad. It has several sections, or Titles, touching every facet of American life - how we work, how we vote, how we access public goods. Title VII addresses equal opportunity for employment. It prohibits discrimination by covered employers on the basis of race, color, religion, sex, or national origin. \n",
    "The Equal Employment Opportunity Commission (EEOC) was established to enforce Title VII. EEOC has a broad mandate; it can investigate, mediate, and file lawsuits on employees' behalf. While the agencies' role in litigation may vary, attorneys are expected to use discretion in pursuing and upholding the spirit of the law. \n",
    "The EEOC Litigation Project, at the Washington University of St. Louis School of Law, collects and analyzes litigation brought to federal courts between 1997 and 2006. The goal of this notebook is to explore these data."
   ]
  },
  {
   "cell_type": "code",
   "execution_count": null,
   "metadata": {},
   "outputs": [],
   "source": []
  }
 ],
 "metadata": {
  "kernelspec": {
   "display_name": "Python 3",
   "language": "python",
   "name": "python3"
  },
  "language_info": {
   "codemirror_mode": {
    "name": "ipython",
    "version": 3
   },
   "file_extension": ".py",
   "mimetype": "text/x-python",
   "name": "python",
   "nbconvert_exporter": "python",
   "pygments_lexer": "ipython3",
   "version": "3.7.9"
  },
  "varInspector": {
   "cols": {
    "lenName": 16,
    "lenType": 16,
    "lenVar": 40
   },
   "kernels_config": {
    "python": {
     "delete_cmd_postfix": "",
     "delete_cmd_prefix": "del ",
     "library": "var_list.py",
     "varRefreshCmd": "print(var_dic_list())"
    },
    "r": {
     "delete_cmd_postfix": ") ",
     "delete_cmd_prefix": "rm(",
     "library": "var_list.r",
     "varRefreshCmd": "cat(var_dic_list()) "
    }
   },
   "types_to_exclude": [
    "module",
    "function",
    "builtin_function_or_method",
    "instance",
    "_Feature"
   ],
   "window_display": false
  }
 },
 "nbformat": 4,
 "nbformat_minor": 4
}
