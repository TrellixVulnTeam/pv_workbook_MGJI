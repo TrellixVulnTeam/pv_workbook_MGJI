{
 "cells": [
  {
   "cell_type": "code",
   "execution_count": 1,
   "metadata": {},
   "outputs": [
    {
     "name": "stdout",
     "output_type": "stream",
     "text": [
      "Requirement already satisfied: Faker in /Users/toddhendricks/miniconda3/lib/python3.7/site-packages (4.1.1)\r\n",
      "Requirement already satisfied: python-dateutil>=2.4 in /Users/toddhendricks/miniconda3/lib/python3.7/site-packages (from Faker) (2.8.1)\r\n",
      "Requirement already satisfied: text-unidecode==1.3 in /Users/toddhendricks/miniconda3/lib/python3.7/site-packages (from Faker) (1.3)\r\n",
      "Requirement already satisfied: six>=1.5 in /Users/toddhendricks/miniconda3/lib/python3.7/site-packages (from python-dateutil>=2.4->Faker) (1.14.0)\r\n"
     ]
    }
   ],
   "source": [
    "!pip install Faker\n",
    "import pandas as pd\n",
    "import seaborn as sns\n",
    "from faker import Faker\n",
    "import random"
   ]
  },
  {
   "cell_type": "code",
   "execution_count": 2,
   "metadata": {},
   "outputs": [],
   "source": [
    "fake = Faker()"
   ]
  },
  {
   "cell_type": "code",
   "execution_count": 3,
   "metadata": {},
   "outputs": [],
   "source": [
    "name = [fake.name() for _ in range(1000)]"
   ]
  },
  {
   "cell_type": "code",
   "execution_count": 4,
   "metadata": {},
   "outputs": [],
   "source": [
    "alpha = np.random.random_sample((1000,)) * 100\n",
    "bravo = np.random.random_sample((1000,)) * 100\n",
    "charlie = np.random.random_sample((1000,)) * 100\n",
    "delta = np.random.random_sample((1000,)) * 100\n",
    "alma_mater = np.random.choice(['Texas','Stanford','MIT','UCLA','Yale','Columbia','UNC','Berkeley','Harvard','Duke','Michighan','NYU','Princeton'],1000)\n",
    "aura = np.random.choice(['Indigo','Periwinkle','Crimson','Infrared','Magenta','Silver','Black','Bronze','Gold','Beige','Emerald','Lime'],1000)\n",
    "employer = [fake.bs() for _ in range(1000)]\n",
    "experience = [random.randrange(3, 15, 1) for i in range(1000)]\n",
    "diss = [fake.sentence() for _ in range(1000)]"
   ]
  },
  {
   "cell_type": "code",
   "execution_count": 5,
   "metadata": {},
   "outputs": [],
   "source": [
    "a = {'Name' : name ,\n",
    "     'A' : alpha, \n",
    "     'B': bravo,\n",
    "     'C' : charlie,\n",
    "     'D' : delta,\n",
    "     'Alma Mater': alma_mater,\n",
    "     'Aura' : aura,\n",
    "     'Tag' : employer,\n",
    "     'Experience' : experience, \n",
    "     'Dissertation' : diss\n",
    "    }\n",
    "df = pd.DataFrame.from_dict(a, orient='index')\n",
    "df = df.transpose()"
   ]
  },
  {
   "cell_type": "code",
   "execution_count": 6,
   "metadata": {},
   "outputs": [
    {
     "data": {
      "text/plain": [
       "Index(['Name', 'A', 'B', 'C', 'D', 'Alma Mater', 'Aura', 'Tag', 'Experience',\n",
       "       'Dissertation'],\n",
       "      dtype='object')"
      ]
     },
     "execution_count": 6,
     "metadata": {},
     "output_type": "execute_result"
    }
   ],
   "source": [
    "df.columns"
   ]
  },
  {
   "cell_type": "code",
   "execution_count": 7,
   "metadata": {},
   "outputs": [
    {
     "data": {
      "text/html": [
       "<div>\n",
       "<style scoped>\n",
       "    .dataframe tbody tr th:only-of-type {\n",
       "        vertical-align: middle;\n",
       "    }\n",
       "\n",
       "    .dataframe tbody tr th {\n",
       "        vertical-align: top;\n",
       "    }\n",
       "\n",
       "    .dataframe thead th {\n",
       "        text-align: right;\n",
       "    }\n",
       "</style>\n",
       "<table border=\"1\" class=\"dataframe\">\n",
       "  <thead>\n",
       "    <tr style=\"text-align: right;\">\n",
       "      <th></th>\n",
       "      <th>Name</th>\n",
       "      <th>A</th>\n",
       "      <th>B</th>\n",
       "      <th>C</th>\n",
       "      <th>D</th>\n",
       "      <th>Alma Mater</th>\n",
       "      <th>Aura</th>\n",
       "      <th>Tag</th>\n",
       "      <th>Experience</th>\n",
       "      <th>Dissertation</th>\n",
       "    </tr>\n",
       "  </thead>\n",
       "  <tbody>\n",
       "    <tr>\n",
       "      <th>684</th>\n",
       "      <td>Ricardo Leach</td>\n",
       "      <td>41.5172</td>\n",
       "      <td>92.9388</td>\n",
       "      <td>56.7408</td>\n",
       "      <td>63.138</td>\n",
       "      <td>Harvard</td>\n",
       "      <td>Infrared</td>\n",
       "      <td>grow open-source action-items</td>\n",
       "      <td>11</td>\n",
       "      <td>Yeah feeling lawyer.</td>\n",
       "    </tr>\n",
       "    <tr>\n",
       "      <th>370</th>\n",
       "      <td>Jacob Davis</td>\n",
       "      <td>41.8039</td>\n",
       "      <td>84.4368</td>\n",
       "      <td>75.2071</td>\n",
       "      <td>40.9416</td>\n",
       "      <td>Texas</td>\n",
       "      <td>Infrared</td>\n",
       "      <td>envisioneer global channels</td>\n",
       "      <td>7</td>\n",
       "      <td>Skill health few environmental.</td>\n",
       "    </tr>\n",
       "    <tr>\n",
       "      <th>306</th>\n",
       "      <td>Kimberly Walker</td>\n",
       "      <td>96.2082</td>\n",
       "      <td>98.4722</td>\n",
       "      <td>71.3061</td>\n",
       "      <td>18.2694</td>\n",
       "      <td>Columbia</td>\n",
       "      <td>Infrared</td>\n",
       "      <td>grow plug-and-play schemas</td>\n",
       "      <td>11</td>\n",
       "      <td>Artist ball size edge nor.</td>\n",
       "    </tr>\n",
       "    <tr>\n",
       "      <th>705</th>\n",
       "      <td>Michael Marshall</td>\n",
       "      <td>77.703</td>\n",
       "      <td>0.368372</td>\n",
       "      <td>75.1711</td>\n",
       "      <td>10.3343</td>\n",
       "      <td>Duke</td>\n",
       "      <td>Infrared</td>\n",
       "      <td>synthesize magnetic eyeballs</td>\n",
       "      <td>12</td>\n",
       "      <td>Walk seem finish until.</td>\n",
       "    </tr>\n",
       "    <tr>\n",
       "      <th>736</th>\n",
       "      <td>Dr. Kimberly Fowler</td>\n",
       "      <td>35.6538</td>\n",
       "      <td>19.6846</td>\n",
       "      <td>62.3774</td>\n",
       "      <td>63.1623</td>\n",
       "      <td>Stanford</td>\n",
       "      <td>Lime</td>\n",
       "      <td>embrace distributed e-commerce</td>\n",
       "      <td>8</td>\n",
       "      <td>Spend military pass chance.</td>\n",
       "    </tr>\n",
       "    <tr>\n",
       "      <th>744</th>\n",
       "      <td>Patricia Soto</td>\n",
       "      <td>81.8666</td>\n",
       "      <td>90.7575</td>\n",
       "      <td>96.1912</td>\n",
       "      <td>29.5904</td>\n",
       "      <td>Duke</td>\n",
       "      <td>Periwinkle</td>\n",
       "      <td>synergize integrated e-tailers</td>\n",
       "      <td>6</td>\n",
       "      <td>Identify role only debate.</td>\n",
       "    </tr>\n",
       "    <tr>\n",
       "      <th>26</th>\n",
       "      <td>Justin Singh</td>\n",
       "      <td>51.9811</td>\n",
       "      <td>56.6594</td>\n",
       "      <td>53.2309</td>\n",
       "      <td>67.7107</td>\n",
       "      <td>UNC</td>\n",
       "      <td>Gold</td>\n",
       "      <td>mesh cross-platform e-services</td>\n",
       "      <td>14</td>\n",
       "      <td>Need current nothing its.</td>\n",
       "    </tr>\n",
       "    <tr>\n",
       "      <th>454</th>\n",
       "      <td>Michele Bass</td>\n",
       "      <td>41.4048</td>\n",
       "      <td>19.7201</td>\n",
       "      <td>5.12448</td>\n",
       "      <td>33.7764</td>\n",
       "      <td>Texas</td>\n",
       "      <td>Indigo</td>\n",
       "      <td>whiteboard cross-media users</td>\n",
       "      <td>10</td>\n",
       "      <td>Design reason table issue board music.</td>\n",
       "    </tr>\n",
       "    <tr>\n",
       "      <th>836</th>\n",
       "      <td>Stephanie Waller</td>\n",
       "      <td>41.2277</td>\n",
       "      <td>84.2303</td>\n",
       "      <td>76.26</td>\n",
       "      <td>16.687</td>\n",
       "      <td>MIT</td>\n",
       "      <td>Infrared</td>\n",
       "      <td>facilitate seamless supply-chains</td>\n",
       "      <td>7</td>\n",
       "      <td>Build operation begin blood.</td>\n",
       "    </tr>\n",
       "    <tr>\n",
       "      <th>314</th>\n",
       "      <td>Kenneth Brown</td>\n",
       "      <td>25.0802</td>\n",
       "      <td>95.7283</td>\n",
       "      <td>8.33879</td>\n",
       "      <td>11.8635</td>\n",
       "      <td>Duke</td>\n",
       "      <td>Emerald</td>\n",
       "      <td>innovate intuitive experiences</td>\n",
       "      <td>8</td>\n",
       "      <td>Cultural especially our ahead medical black st...</td>\n",
       "    </tr>\n",
       "  </tbody>\n",
       "</table>\n",
       "</div>"
      ],
      "text/plain": [
       "                    Name        A         B        C        D Alma Mater  \\\n",
       "684        Ricardo Leach  41.5172   92.9388  56.7408   63.138    Harvard   \n",
       "370          Jacob Davis  41.8039   84.4368  75.2071  40.9416      Texas   \n",
       "306      Kimberly Walker  96.2082   98.4722  71.3061  18.2694   Columbia   \n",
       "705     Michael Marshall   77.703  0.368372  75.1711  10.3343       Duke   \n",
       "736  Dr. Kimberly Fowler  35.6538   19.6846  62.3774  63.1623   Stanford   \n",
       "744        Patricia Soto  81.8666   90.7575  96.1912  29.5904       Duke   \n",
       "26          Justin Singh  51.9811   56.6594  53.2309  67.7107        UNC   \n",
       "454         Michele Bass  41.4048   19.7201  5.12448  33.7764      Texas   \n",
       "836     Stephanie Waller  41.2277   84.2303    76.26   16.687        MIT   \n",
       "314        Kenneth Brown  25.0802   95.7283  8.33879  11.8635       Duke   \n",
       "\n",
       "           Aura                                Tag Experience  \\\n",
       "684    Infrared      grow open-source action-items         11   \n",
       "370    Infrared        envisioneer global channels          7   \n",
       "306    Infrared         grow plug-and-play schemas         11   \n",
       "705    Infrared       synthesize magnetic eyeballs         12   \n",
       "736        Lime     embrace distributed e-commerce          8   \n",
       "744  Periwinkle     synergize integrated e-tailers          6   \n",
       "26         Gold     mesh cross-platform e-services         14   \n",
       "454      Indigo       whiteboard cross-media users         10   \n",
       "836    Infrared  facilitate seamless supply-chains          7   \n",
       "314     Emerald     innovate intuitive experiences          8   \n",
       "\n",
       "                                          Dissertation  \n",
       "684                               Yeah feeling lawyer.  \n",
       "370                    Skill health few environmental.  \n",
       "306                         Artist ball size edge nor.  \n",
       "705                            Walk seem finish until.  \n",
       "736                        Spend military pass chance.  \n",
       "744                         Identify role only debate.  \n",
       "26                           Need current nothing its.  \n",
       "454             Design reason table issue board music.  \n",
       "836                       Build operation begin blood.  \n",
       "314  Cultural especially our ahead medical black st...  "
      ]
     },
     "execution_count": 7,
     "metadata": {},
     "output_type": "execute_result"
    }
   ],
   "source": [
    "df.sample(10)"
   ]
  },
  {
   "cell_type": "code",
   "execution_count": 8,
   "metadata": {},
   "outputs": [],
   "source": [
    "df = df.set_index(['Aura','Alma Mater'])"
   ]
  },
  {
   "cell_type": "code",
   "execution_count": 9,
   "metadata": {},
   "outputs": [
    {
     "data": {
      "text/html": [
       "<div>\n",
       "<style scoped>\n",
       "    .dataframe tbody tr th:only-of-type {\n",
       "        vertical-align: middle;\n",
       "    }\n",
       "\n",
       "    .dataframe tbody tr th {\n",
       "        vertical-align: top;\n",
       "    }\n",
       "\n",
       "    .dataframe thead th {\n",
       "        text-align: right;\n",
       "    }\n",
       "</style>\n",
       "<table border=\"1\" class=\"dataframe\">\n",
       "  <thead>\n",
       "    <tr style=\"text-align: right;\">\n",
       "      <th></th>\n",
       "      <th></th>\n",
       "      <th>Name</th>\n",
       "      <th>A</th>\n",
       "      <th>B</th>\n",
       "      <th>C</th>\n",
       "      <th>D</th>\n",
       "      <th>Tag</th>\n",
       "      <th>Experience</th>\n",
       "      <th>Dissertation</th>\n",
       "    </tr>\n",
       "    <tr>\n",
       "      <th>Aura</th>\n",
       "      <th>Alma Mater</th>\n",
       "      <th></th>\n",
       "      <th></th>\n",
       "      <th></th>\n",
       "      <th></th>\n",
       "      <th></th>\n",
       "      <th></th>\n",
       "      <th></th>\n",
       "      <th></th>\n",
       "    </tr>\n",
       "  </thead>\n",
       "  <tbody>\n",
       "    <tr>\n",
       "      <th>Emerald</th>\n",
       "      <th>Duke</th>\n",
       "      <td>Kenneth Brown</td>\n",
       "      <td>25.0802</td>\n",
       "      <td>95.7283</td>\n",
       "      <td>8.33879</td>\n",
       "      <td>11.8635</td>\n",
       "      <td>innovate intuitive experiences</td>\n",
       "      <td>8</td>\n",
       "      <td>Cultural especially our ahead medical black st...</td>\n",
       "    </tr>\n",
       "    <tr>\n",
       "      <th>Lime</th>\n",
       "      <th>Harvard</th>\n",
       "      <td>Jennifer Green</td>\n",
       "      <td>58.4576</td>\n",
       "      <td>37.3291</td>\n",
       "      <td>1.56904</td>\n",
       "      <td>89.7101</td>\n",
       "      <td>generate cross-platform applications</td>\n",
       "      <td>9</td>\n",
       "      <td>Actually well available set past.</td>\n",
       "    </tr>\n",
       "    <tr>\n",
       "      <th>Crimson</th>\n",
       "      <th>UCLA</th>\n",
       "      <td>Mrs. Jennifer Simon PhD</td>\n",
       "      <td>73.7928</td>\n",
       "      <td>22.0449</td>\n",
       "      <td>75.8295</td>\n",
       "      <td>90.6648</td>\n",
       "      <td>reinvent sticky bandwidth</td>\n",
       "      <td>3</td>\n",
       "      <td>As treat feeling move.</td>\n",
       "    </tr>\n",
       "    <tr>\n",
       "      <th>Bronze</th>\n",
       "      <th>Stanford</th>\n",
       "      <td>Paul Goodwin</td>\n",
       "      <td>0.584493</td>\n",
       "      <td>50.0196</td>\n",
       "      <td>6.98787</td>\n",
       "      <td>49.8466</td>\n",
       "      <td>incubate user-centric channels</td>\n",
       "      <td>5</td>\n",
       "      <td>Pass rise first base evidence ahead fish.</td>\n",
       "    </tr>\n",
       "    <tr>\n",
       "      <th>Infrared</th>\n",
       "      <th>UNC</th>\n",
       "      <td>Jeffrey Williams</td>\n",
       "      <td>70.8079</td>\n",
       "      <td>67.2908</td>\n",
       "      <td>54.0376</td>\n",
       "      <td>99.3252</td>\n",
       "      <td>e-enable transparent action-items</td>\n",
       "      <td>12</td>\n",
       "      <td>No take care deal want artist appear.</td>\n",
       "    </tr>\n",
       "  </tbody>\n",
       "</table>\n",
       "</div>"
      ],
      "text/plain": [
       "                                        Name         A        B        C  \\\n",
       "Aura     Alma Mater                                                        \n",
       "Emerald  Duke                  Kenneth Brown   25.0802  95.7283  8.33879   \n",
       "Lime     Harvard              Jennifer Green   58.4576  37.3291  1.56904   \n",
       "Crimson  UCLA        Mrs. Jennifer Simon PhD   73.7928  22.0449  75.8295   \n",
       "Bronze   Stanford               Paul Goodwin  0.584493  50.0196  6.98787   \n",
       "Infrared UNC                Jeffrey Williams   70.8079  67.2908  54.0376   \n",
       "\n",
       "                           D                                   Tag Experience  \\\n",
       "Aura     Alma Mater                                                             \n",
       "Emerald  Duke        11.8635        innovate intuitive experiences          8   \n",
       "Lime     Harvard     89.7101  generate cross-platform applications          9   \n",
       "Crimson  UCLA        90.6648             reinvent sticky bandwidth          3   \n",
       "Bronze   Stanford    49.8466        incubate user-centric channels          5   \n",
       "Infrared UNC         99.3252     e-enable transparent action-items         12   \n",
       "\n",
       "                                                          Dissertation  \n",
       "Aura     Alma Mater                                                     \n",
       "Emerald  Duke        Cultural especially our ahead medical black st...  \n",
       "Lime     Harvard                     Actually well available set past.  \n",
       "Crimson  UCLA                                   As treat feeling move.  \n",
       "Bronze   Stanford            Pass rise first base evidence ahead fish.  \n",
       "Infrared UNC                     No take care deal want artist appear.  "
      ]
     },
     "execution_count": 9,
     "metadata": {},
     "output_type": "execute_result"
    }
   ],
   "source": [
    "df.sample(5)"
   ]
  },
  {
   "cell_type": "code",
   "execution_count": 10,
   "metadata": {},
   "outputs": [],
   "source": [
    "exp_df = df.sort_values(by=['Experience'],ascending=False)"
   ]
  },
  {
   "cell_type": "code",
   "execution_count": 11,
   "metadata": {},
   "outputs": [],
   "source": [
    "exp_dfT = exp_df.transpose()"
   ]
  },
  {
   "cell_type": "code",
   "execution_count": 12,
   "metadata": {},
   "outputs": [
    {
     "data": {
      "text/html": [
       "<div>\n",
       "<style scoped>\n",
       "    .dataframe tbody tr th:only-of-type {\n",
       "        vertical-align: middle;\n",
       "    }\n",
       "\n",
       "    .dataframe tbody tr th {\n",
       "        vertical-align: top;\n",
       "    }\n",
       "\n",
       "    .dataframe thead th {\n",
       "        text-align: right;\n",
       "    }\n",
       "</style>\n",
       "<table border=\"1\" class=\"dataframe\">\n",
       "  <thead>\n",
       "    <tr style=\"text-align: right;\">\n",
       "      <th>Alma Mater</th>\n",
       "      <th>Texas</th>\n",
       "      <th>Texas</th>\n",
       "      <th>Texas</th>\n",
       "      <th>Texas</th>\n",
       "      <th>Texas</th>\n",
       "      <th>Texas</th>\n",
       "      <th>Texas</th>\n",
       "    </tr>\n",
       "  </thead>\n",
       "  <tbody>\n",
       "    <tr>\n",
       "      <th>Name</th>\n",
       "      <td>Sara Sanford</td>\n",
       "      <td>Michael Lee</td>\n",
       "      <td>Scott Hansen</td>\n",
       "      <td>Rodney White</td>\n",
       "      <td>Kimberly Allen</td>\n",
       "      <td>Angela Paul</td>\n",
       "      <td>Christine Smith</td>\n",
       "    </tr>\n",
       "    <tr>\n",
       "      <th>A</th>\n",
       "      <td>3.324</td>\n",
       "      <td>72.5426</td>\n",
       "      <td>98.0334</td>\n",
       "      <td>17.237</td>\n",
       "      <td>27.1252</td>\n",
       "      <td>10.7894</td>\n",
       "      <td>29.3979</td>\n",
       "    </tr>\n",
       "    <tr>\n",
       "      <th>B</th>\n",
       "      <td>12.1342</td>\n",
       "      <td>89.1174</td>\n",
       "      <td>44.2951</td>\n",
       "      <td>78.2674</td>\n",
       "      <td>35.4568</td>\n",
       "      <td>41.3337</td>\n",
       "      <td>7.05766</td>\n",
       "    </tr>\n",
       "    <tr>\n",
       "      <th>C</th>\n",
       "      <td>82.4688</td>\n",
       "      <td>57.5729</td>\n",
       "      <td>77.8278</td>\n",
       "      <td>53.1351</td>\n",
       "      <td>61.4416</td>\n",
       "      <td>28.2716</td>\n",
       "      <td>82.819</td>\n",
       "    </tr>\n",
       "    <tr>\n",
       "      <th>D</th>\n",
       "      <td>76.8563</td>\n",
       "      <td>11.4617</td>\n",
       "      <td>84.0483</td>\n",
       "      <td>93.8867</td>\n",
       "      <td>21.9068</td>\n",
       "      <td>60.0894</td>\n",
       "      <td>38.9363</td>\n",
       "    </tr>\n",
       "    <tr>\n",
       "      <th>Tag</th>\n",
       "      <td>scale strategic convergence</td>\n",
       "      <td>exploit global niches</td>\n",
       "      <td>productize bleeding-edge e-business</td>\n",
       "      <td>harness B2C ROI</td>\n",
       "      <td>transition plug-and-play paradigms</td>\n",
       "      <td>innovate revolutionary initiatives</td>\n",
       "      <td>transform web-enabled action-items</td>\n",
       "    </tr>\n",
       "    <tr>\n",
       "      <th>Experience</th>\n",
       "      <td>14</td>\n",
       "      <td>14</td>\n",
       "      <td>10</td>\n",
       "      <td>9</td>\n",
       "      <td>8</td>\n",
       "      <td>5</td>\n",
       "      <td>3</td>\n",
       "    </tr>\n",
       "    <tr>\n",
       "      <th>Dissertation</th>\n",
       "      <td>Hard significant recognize similar.</td>\n",
       "      <td>Organization one at team eat even.</td>\n",
       "      <td>Thousand federal then effect however themselves.</td>\n",
       "      <td>Safe finally plan citizen individual.</td>\n",
       "      <td>Simply long this every.</td>\n",
       "      <td>Look grow effect down one.</td>\n",
       "      <td>Head serious argue away my.</td>\n",
       "    </tr>\n",
       "  </tbody>\n",
       "</table>\n",
       "</div>"
      ],
      "text/plain": [
       "Alma Mater                                  Texas  \\\n",
       "Name                                 Sara Sanford   \n",
       "A                                           3.324   \n",
       "B                                         12.1342   \n",
       "C                                         82.4688   \n",
       "D                                         76.8563   \n",
       "Tag                   scale strategic convergence   \n",
       "Experience                                     14   \n",
       "Dissertation  Hard significant recognize similar.   \n",
       "\n",
       "Alma Mater                                 Texas  \\\n",
       "Name                                 Michael Lee   \n",
       "A                                        72.5426   \n",
       "B                                        89.1174   \n",
       "C                                        57.5729   \n",
       "D                                        11.4617   \n",
       "Tag                        exploit global niches   \n",
       "Experience                                    14   \n",
       "Dissertation  Organization one at team eat even.   \n",
       "\n",
       "Alma Mater                                               Texas  \\\n",
       "Name                                              Scott Hansen   \n",
       "A                                                      98.0334   \n",
       "B                                                      44.2951   \n",
       "C                                                      77.8278   \n",
       "D                                                      84.0483   \n",
       "Tag                        productize bleeding-edge e-business   \n",
       "Experience                                                  10   \n",
       "Dissertation  Thousand federal then effect however themselves.   \n",
       "\n",
       "Alma Mater                                    Texas  \\\n",
       "Name                                   Rodney White   \n",
       "A                                            17.237   \n",
       "B                                           78.2674   \n",
       "C                                           53.1351   \n",
       "D                                           93.8867   \n",
       "Tag                                 harness B2C ROI   \n",
       "Experience                                        9   \n",
       "Dissertation  Safe finally plan citizen individual.   \n",
       "\n",
       "Alma Mater                                 Texas  \\\n",
       "Name                              Kimberly Allen   \n",
       "A                                        27.1252   \n",
       "B                                        35.4568   \n",
       "C                                        61.4416   \n",
       "D                                        21.9068   \n",
       "Tag           transition plug-and-play paradigms   \n",
       "Experience                                     8   \n",
       "Dissertation             Simply long this every.   \n",
       "\n",
       "Alma Mater                                 Texas  \\\n",
       "Name                                 Angela Paul   \n",
       "A                                        10.7894   \n",
       "B                                        41.3337   \n",
       "C                                        28.2716   \n",
       "D                                        60.0894   \n",
       "Tag           innovate revolutionary initiatives   \n",
       "Experience                                     5   \n",
       "Dissertation          Look grow effect down one.   \n",
       "\n",
       "Alma Mater                                 Texas  \n",
       "Name                             Christine Smith  \n",
       "A                                        29.3979  \n",
       "B                                        7.05766  \n",
       "C                                         82.819  \n",
       "D                                        38.9363  \n",
       "Tag           transform web-enabled action-items  \n",
       "Experience                                     3  \n",
       "Dissertation         Head serious argue away my.  "
      ]
     },
     "execution_count": 12,
     "metadata": {},
     "output_type": "execute_result"
    }
   ],
   "source": [
    "exp_dfT['Crimson']['Texas']"
   ]
  },
  {
   "cell_type": "code",
   "execution_count": 13,
   "metadata": {},
   "outputs": [
    {
     "data": {
      "text/plain": [
       "<matplotlib.axes._subplots.AxesSubplot at 0x7ff05d62fc50>"
      ]
     },
     "execution_count": 13,
     "metadata": {},
     "output_type": "execute_result"
    },
    {
     "data": {
      "image/png": "[encoded data removed]",
      "text/plain": [
       "<Figure size 432x288 with 1 Axes>"
      ]
     },
     "metadata": {
      "needs_background": "light"
     },
     "output_type": "display_data"
    }
   ],
   "source": [
    "sns.distplot(df['Experience'],bins=25)"
   ]
  },
  {
   "cell_type": "code",
   "execution_count": 14,
   "metadata": {},
   "outputs": [
    {
     "data": {
      "text/plain": [
       "Alma Mater\n",
       "Stanford     43.994022\n",
       "Berkeley     44.275178\n",
       "MIT          46.233344\n",
       "Columbia     46.608308\n",
       "Yale         48.301823\n",
       "UCLA         48.836844\n",
       "Michighan    49.668340\n",
       "Harvard      49.764322\n",
       "Duke         52.580922\n",
       "Princeton    53.243801\n",
       "Texas        53.482127\n",
       "NYU          53.764935\n",
       "UNC          55.211047\n",
       "Name: A, dtype: float64"
      ]
     },
     "execution_count": 14,
     "metadata": {},
     "output_type": "execute_result"
    }
   ],
   "source": [
    "df['A'] = df['A'].astype(float)\n",
    "df.groupby(['Alma Mater'])['A'].mean().sort_values()"
   ]
  },
  {
   "cell_type": "code",
   "execution_count": 15,
   "metadata": {},
   "outputs": [
    {
     "data": {
      "text/plain": [
       "Index(['Name', 'A', 'B', 'C', 'D', 'Tag', 'Experience', 'Dissertation'], dtype='object')"
      ]
     },
     "execution_count": 15,
     "metadata": {},
     "output_type": "execute_result"
    }
   ],
   "source": [
    "df.columns"
   ]
  },
  {
   "cell_type": "code",
   "execution_count": 16,
   "metadata": {},
   "outputs": [],
   "source": [
    "senior = df[df['Experience'] > 12]"
   ]
  },
  {
   "cell_type": "code",
   "execution_count": 17,
   "metadata": {},
   "outputs": [
    {
     "data": {
      "text/plain": [
       "(144, 8)"
      ]
     },
     "execution_count": 17,
     "metadata": {},
     "output_type": "execute_result"
    }
   ],
   "source": [
    "senior.shape"
   ]
  },
  {
   "cell_type": "code",
   "execution_count": 18,
   "metadata": {},
   "outputs": [
    {
     "data": {
      "text/plain": [
       "<matplotlib.axes._subplots.AxesSubplot at 0x7ff05d859a50>"
      ]
     },
     "execution_count": 18,
     "metadata": {},
     "output_type": "execute_result"
    },
    {
     "data": {
      "image/png": "[encoded data removed]",
      "text/plain": [
       "<Figure size 432x288 with 1 Axes>"
      ]
     },
     "metadata": {
      "needs_background": "light"
     },
     "output_type": "display_data"
    }
   ],
   "source": [
    "sns.distplot(senior['B'])"
   ]
  },
  {
   "cell_type": "code",
   "execution_count": 19,
   "metadata": {},
   "outputs": [],
   "source": [
    "practice_df = df.sample(20)"
   ]
  },
  {
   "cell_type": "code",
   "execution_count": 20,
   "metadata": {},
   "outputs": [
    {
     "data": {
      "text/html": [
       "<div>\n",
       "<style scoped>\n",
       "    .dataframe tbody tr th:only-of-type {\n",
       "        vertical-align: middle;\n",
       "    }\n",
       "\n",
       "    .dataframe tbody tr th {\n",
       "        vertical-align: top;\n",
       "    }\n",
       "\n",
       "    .dataframe thead th {\n",
       "        text-align: right;\n",
       "    }\n",
       "</style>\n",
       "<table border=\"1\" class=\"dataframe\">\n",
       "  <thead>\n",
       "    <tr style=\"text-align: right;\">\n",
       "      <th></th>\n",
       "      <th></th>\n",
       "      <th>Name</th>\n",
       "      <th>A</th>\n",
       "      <th>B</th>\n",
       "      <th>C</th>\n",
       "      <th>D</th>\n",
       "      <th>Tag</th>\n",
       "      <th>Experience</th>\n",
       "      <th>Dissertation</th>\n",
       "    </tr>\n",
       "    <tr>\n",
       "      <th>Aura</th>\n",
       "      <th>Alma Mater</th>\n",
       "      <th></th>\n",
       "      <th></th>\n",
       "      <th></th>\n",
       "      <th></th>\n",
       "      <th></th>\n",
       "      <th></th>\n",
       "      <th></th>\n",
       "      <th></th>\n",
       "    </tr>\n",
       "  </thead>\n",
       "  <tbody>\n",
       "    <tr>\n",
       "      <th>Magenta</th>\n",
       "      <th>Michighan</th>\n",
       "      <td>Angela Green</td>\n",
       "      <td>67.416472</td>\n",
       "      <td>50.9935</td>\n",
       "      <td>72.2736</td>\n",
       "      <td>14.5872</td>\n",
       "      <td>exploit global e-business</td>\n",
       "      <td>8</td>\n",
       "      <td>Finish place world reflect fight party nature ...</td>\n",
       "    </tr>\n",
       "    <tr>\n",
       "      <th>Indigo</th>\n",
       "      <th>Yale</th>\n",
       "      <td>Stephanie Floyd</td>\n",
       "      <td>39.987474</td>\n",
       "      <td>95.6078</td>\n",
       "      <td>2.73415</td>\n",
       "      <td>96.6344</td>\n",
       "      <td>morph open-source vortals</td>\n",
       "      <td>10</td>\n",
       "      <td>Everybody guess stuff.</td>\n",
       "    </tr>\n",
       "    <tr>\n",
       "      <th>Gold</th>\n",
       "      <th>Columbia</th>\n",
       "      <td>Stephanie Barnes</td>\n",
       "      <td>65.168173</td>\n",
       "      <td>73.4001</td>\n",
       "      <td>21.1535</td>\n",
       "      <td>72.8996</td>\n",
       "      <td>enhance front-end deliverables</td>\n",
       "      <td>9</td>\n",
       "      <td>Between against customer student movement bag.</td>\n",
       "    </tr>\n",
       "  </tbody>\n",
       "</table>\n",
       "</div>"
      ],
      "text/plain": [
       "                                Name          A        B        C        D  \\\n",
       "Aura    Alma Mater                                                           \n",
       "Magenta Michighan       Angela Green  67.416472  50.9935  72.2736  14.5872   \n",
       "Indigo  Yale         Stephanie Floyd  39.987474  95.6078  2.73415  96.6344   \n",
       "Gold    Columbia    Stephanie Barnes  65.168173  73.4001  21.1535  72.8996   \n",
       "\n",
       "                                               Tag Experience  \\\n",
       "Aura    Alma Mater                                              \n",
       "Magenta Michighan        exploit global e-business          8   \n",
       "Indigo  Yale             morph open-source vortals         10   \n",
       "Gold    Columbia    enhance front-end deliverables          9   \n",
       "\n",
       "                                                         Dissertation  \n",
       "Aura    Alma Mater                                                     \n",
       "Magenta Michighan   Finish place world reflect fight party nature ...  \n",
       "Indigo  Yale                                   Everybody guess stuff.  \n",
       "Gold    Columbia       Between against customer student movement bag.  "
      ]
     },
     "execution_count": 20,
     "metadata": {},
     "output_type": "execute_result"
    }
   ],
   "source": [
    "practice_df.head(3)"
   ]
  },
  {
   "cell_type": "code",
   "execution_count": 21,
   "metadata": {},
   "outputs": [
    {
     "data": {
      "text/plain": [
       "Index(['Aura', 'Alma Mater', 'Name', 'A', 'B', 'C', 'D', 'Tag', 'Experience',\n",
       "       'Dissertation'],\n",
       "      dtype='object')"
      ]
     },
     "execution_count": 21,
     "metadata": {},
     "output_type": "execute_result"
    }
   ],
   "source": [
    "practice_df = practice_df.reset_index()\n",
    "practice_df.columns"
   ]
  },
  {
   "cell_type": "code",
   "execution_count": 23,
   "metadata": {},
   "outputs": [],
   "source": [
    "a = practice_df['A']"
   ]
  },
  {
   "cell_type": "code",
   "execution_count": 25,
   "metadata": {},
   "outputs": [
    {
     "data": {
      "text/plain": [
       "count    20.000000\n",
       "mean     54.623652\n",
       "std      25.458519\n",
       "min       6.548562\n",
       "25%      38.657399\n",
       "50%      60.977395\n",
       "75%      68.869600\n",
       "max      91.424035\n",
       "Name: A, dtype: float64"
      ]
     },
     "execution_count": 25,
     "metadata": {},
     "output_type": "execute_result"
    }
   ],
   "source": [
    "a.describe()"
   ]
  },
  {
   "cell_type": "code",
   "execution_count": null,
   "metadata": {},
   "outputs": [],
   "source": [
    "pivoted['Indigo'].dropna()"
   ]
  },
  {
   "cell_type": "code",
   "execution_count": null,
   "metadata": {},
   "outputs": [],
   "source": [
    "len(practice_df['Alma Mater'].values)"
   ]
  },
  {
   "cell_type": "code",
   "execution_count": null,
   "metadata": {},
   "outputs": [],
   "source": [
    "len(practice_df['Aura'])"
   ]
  },
  {
   "cell_type": "code",
   "execution_count": null,
   "metadata": {},
   "outputs": [],
   "source": [
    "tuples = list(zip(practice_df['Alma Mater'].values, practice_df['Aura']))"
   ]
  },
  {
   "cell_type": "code",
   "execution_count": null,
   "metadata": {},
   "outputs": [],
   "source": [
    "index = pd.MultiIndex.from_tuples(tuples, names=['school', 'color'])"
   ]
  },
  {
   "cell_type": "code",
   "execution_count": null,
   "metadata": {},
   "outputs": [],
   "source": [
    "restructured_df = pd.DataFrame(np.random.randn(20, 2), index=index, columns=['A','B'])"
   ]
  },
  {
   "cell_type": "code",
   "execution_count": null,
   "metadata": {},
   "outputs": [],
   "source": [
    "restructured_df.sort_values('A', ascending=False)"
   ]
  },
  {
   "cell_type": "code",
   "execution_count": null,
   "metadata": {},
   "outputs": [],
   "source": [
    "stacked = restructured_df.stack()"
   ]
  },
  {
   "cell_type": "code",
   "execution_count": null,
   "metadata": {},
   "outputs": [],
   "source": [
    "stacked"
   ]
  },
  {
   "cell_type": "code",
   "execution_count": null,
   "metadata": {},
   "outputs": [],
   "source": [
    "stacked.unstack()"
   ]
  },
  {
   "cell_type": "code",
   "execution_count": null,
   "metadata": {},
   "outputs": [],
   "source": [
    "stacked.unstack(1)"
   ]
  },
  {
   "cell_type": "code",
   "execution_count": null,
   "metadata": {},
   "outputs": [],
   "source": []
  }
 ],
 "metadata": {
  "kernelspec": {
   "display_name": "Python 3",
   "language": "python",
   "name": "python3"
  },
  "language_info": {
   "codemirror_mode": {
    "name": "ipython",
    "version": 3
   },
   "file_extension": ".py",
   "mimetype": "text/x-python",
   "name": "python",
   "nbconvert_exporter": "python",
   "pygments_lexer": "ipython3",
   "version": "3.7.6"
  },
  "varInspector": {
   "cols": {
    "lenName": 16,
    "lenType": 16,
    "lenVar": 40
   },
   "kernels_config": {
    "python": {
     "delete_cmd_postfix": "",
     "delete_cmd_prefix": "del ",
     "library": "var_list.py",
     "varRefreshCmd": "print(var_dic_list())"
    },
    "r": {
     "delete_cmd_postfix": ") ",
     "delete_cmd_prefix": "rm(",
     "library": "var_list.r",
     "varRefreshCmd": "cat(var_dic_list()) "
    }
   },
   "types_to_exclude": [
    "module",
    "function",
    "builtin_function_or_method",
    "instance",
    "_Feature"
   ],
   "window_display": false
  }
 },
 "nbformat": 4,
 "nbformat_minor": 4
}
