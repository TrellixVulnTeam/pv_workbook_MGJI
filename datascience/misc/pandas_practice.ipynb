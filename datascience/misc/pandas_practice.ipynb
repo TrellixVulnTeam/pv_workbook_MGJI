{
 "cells": [
  {
   "cell_type": "code",
   "execution_count": 1,
   "metadata": {},
   "outputs": [
    {
     "name": "stdout",
     "output_type": "stream",
     "text": [
      "Requirement already satisfied: Faker in /Users/toddhendricks/miniconda3/lib/python3.7/site-packages (4.1.1)\n",
      "Requirement already satisfied: text-unidecode==1.3 in /Users/toddhendricks/miniconda3/lib/python3.7/site-packages (from Faker) (1.3)\n",
      "Requirement already satisfied: python-dateutil>=2.4 in /Users/toddhendricks/miniconda3/lib/python3.7/site-packages (from Faker) (2.8.1)\n",
      "Requirement already satisfied: six>=1.5 in /Users/toddhendricks/miniconda3/lib/python3.7/site-packages (from python-dateutil>=2.4->Faker) (1.14.0)\n"
     ]
    }
   ],
   "source": [
    "!pip install Faker\n",
    "import pandas as pd\n",
    "import seaborn as sns\n",
    "from faker import Faker\n",
    "import random"
   ]
  },
  {
   "cell_type": "code",
   "execution_count": 2,
   "metadata": {},
   "outputs": [],
   "source": [
    "fake = Faker()"
   ]
  },
  {
   "cell_type": "code",
   "execution_count": 3,
   "metadata": {},
   "outputs": [],
   "source": [
    "name = [fake.name() for _ in range(1000)]"
   ]
  },
  {
   "cell_type": "code",
   "execution_count": 4,
   "metadata": {},
   "outputs": [],
   "source": [
    "alpha = np.random.random_sample((1000,)) * 100\n",
    "bravo = np.random.random_sample((1000,)) * 100\n",
    "charlie = np.random.random_sample((1000,)) * 100\n",
    "delta = np.random.random_sample((1000,)) * 100\n",
    "alma_mater = np.random.choice(['Texas','Stanford','MIT','UCLA','Yale','Columbia','UNC','Berkeley','Harvard','Duke','Michighan','NYU','Princeton'],1000)\n",
    "aura = np.random.choice(['Indigo','Periwinkle','Crimson','Infrared','Magenta','Silver','Black','Bronze','Gold','Beige','Emerald','Lime'],1000)\n",
    "employer = [fake.bs() for _ in range(1000)]\n",
    "experience = [random.randrange(3, 15, 1) for i in range(1000)]\n",
    "diss = [fake.sentence() for _ in range(1000)]"
   ]
  },
  {
   "cell_type": "code",
   "execution_count": 5,
   "metadata": {},
   "outputs": [],
   "source": [
    "a = {'Name' : name ,\n",
    "     'A' : alpha, \n",
    "     'B': bravo,\n",
    "     'C' : charlie,\n",
    "     'D' : delta,\n",
    "     'Alma Mater': alma_mater,\n",
    "     'Aura' : aura,\n",
    "     'Tag' : employer,\n",
    "     'Experience' : experience, \n",
    "     'Dissertation' : diss\n",
    "    }\n",
    "df = pd.DataFrame.from_dict(a, orient='index')\n",
    "df = df.transpose()"
   ]
  },
  {
   "cell_type": "code",
   "execution_count": 6,
   "metadata": {},
   "outputs": [
    {
     "data": {
      "text/plain": [
       "Index(['Name', 'A', 'B', 'C', 'D', 'Alma Mater', 'Aura', 'Tag', 'Experience',\n",
       "       'Dissertation'],\n",
       "      dtype='object')"
      ]
     },
     "execution_count": 6,
     "metadata": {},
     "output_type": "execute_result"
    }
   ],
   "source": [
    "df.columns"
   ]
  },
  {
   "cell_type": "code",
   "execution_count": 7,
   "metadata": {},
   "outputs": [
    {
     "data": {
      "text/html": [
       "<div>\n",
       "<style scoped>\n",
       "    .dataframe tbody tr th:only-of-type {\n",
       "        vertical-align: middle;\n",
       "    }\n",
       "\n",
       "    .dataframe tbody tr th {\n",
       "        vertical-align: top;\n",
       "    }\n",
       "\n",
       "    .dataframe thead th {\n",
       "        text-align: right;\n",
       "    }\n",
       "</style>\n",
       "<table border=\"1\" class=\"dataframe\">\n",
       "  <thead>\n",
       "    <tr style=\"text-align: right;\">\n",
       "      <th></th>\n",
       "      <th>Name</th>\n",
       "      <th>A</th>\n",
       "      <th>B</th>\n",
       "      <th>C</th>\n",
       "      <th>D</th>\n",
       "      <th>Alma Mater</th>\n",
       "      <th>Aura</th>\n",
       "      <th>Tag</th>\n",
       "      <th>Experience</th>\n",
       "      <th>Dissertation</th>\n",
       "    </tr>\n",
       "  </thead>\n",
       "  <tbody>\n",
       "    <tr>\n",
       "      <th>539</th>\n",
       "      <td>John Moss</td>\n",
       "      <td>6.40812</td>\n",
       "      <td>51.4783</td>\n",
       "      <td>20.6863</td>\n",
       "      <td>37.6657</td>\n",
       "      <td>Yale</td>\n",
       "      <td>Magenta</td>\n",
       "      <td>enhance holistic initiatives</td>\n",
       "      <td>10</td>\n",
       "      <td>Far factor town question food.</td>\n",
       "    </tr>\n",
       "    <tr>\n",
       "      <th>659</th>\n",
       "      <td>Jeremy Valdez</td>\n",
       "      <td>4.89628</td>\n",
       "      <td>64.6801</td>\n",
       "      <td>72.182</td>\n",
       "      <td>26.0565</td>\n",
       "      <td>UCLA</td>\n",
       "      <td>Infrared</td>\n",
       "      <td>target vertical bandwidth</td>\n",
       "      <td>6</td>\n",
       "      <td>Drug only like young public simply never.</td>\n",
       "    </tr>\n",
       "    <tr>\n",
       "      <th>141</th>\n",
       "      <td>Audrey Becker</td>\n",
       "      <td>79.4668</td>\n",
       "      <td>58.7311</td>\n",
       "      <td>52.0623</td>\n",
       "      <td>65.6453</td>\n",
       "      <td>Duke</td>\n",
       "      <td>Magenta</td>\n",
       "      <td>revolutionize e-business bandwidth</td>\n",
       "      <td>6</td>\n",
       "      <td>Cultural force me create.</td>\n",
       "    </tr>\n",
       "    <tr>\n",
       "      <th>562</th>\n",
       "      <td>Katherine Price</td>\n",
       "      <td>99.5212</td>\n",
       "      <td>76.4394</td>\n",
       "      <td>46.8883</td>\n",
       "      <td>33.2413</td>\n",
       "      <td>Harvard</td>\n",
       "      <td>Emerald</td>\n",
       "      <td>strategize B2C users</td>\n",
       "      <td>5</td>\n",
       "      <td>Open expert how nature moment.</td>\n",
       "    </tr>\n",
       "    <tr>\n",
       "      <th>921</th>\n",
       "      <td>Casey Bass</td>\n",
       "      <td>89.6311</td>\n",
       "      <td>72.1814</td>\n",
       "      <td>61.4287</td>\n",
       "      <td>91.8386</td>\n",
       "      <td>MIT</td>\n",
       "      <td>Indigo</td>\n",
       "      <td>integrate mission-critical vortals</td>\n",
       "      <td>3</td>\n",
       "      <td>Kid use minute.</td>\n",
       "    </tr>\n",
       "    <tr>\n",
       "      <th>230</th>\n",
       "      <td>Kevin Sharp</td>\n",
       "      <td>9.07128</td>\n",
       "      <td>13.7484</td>\n",
       "      <td>76.0614</td>\n",
       "      <td>92.3549</td>\n",
       "      <td>Stanford</td>\n",
       "      <td>Infrared</td>\n",
       "      <td>embrace turn-key systems</td>\n",
       "      <td>5</td>\n",
       "      <td>Site phone he value.</td>\n",
       "    </tr>\n",
       "    <tr>\n",
       "      <th>814</th>\n",
       "      <td>Jennifer Morris</td>\n",
       "      <td>55.3088</td>\n",
       "      <td>18.1027</td>\n",
       "      <td>88.9177</td>\n",
       "      <td>68.2286</td>\n",
       "      <td>NYU</td>\n",
       "      <td>Gold</td>\n",
       "      <td>drive interactive channels</td>\n",
       "      <td>11</td>\n",
       "      <td>National society option center blood.</td>\n",
       "    </tr>\n",
       "    <tr>\n",
       "      <th>666</th>\n",
       "      <td>Jessica Russell</td>\n",
       "      <td>95.0137</td>\n",
       "      <td>38.8489</td>\n",
       "      <td>31.6514</td>\n",
       "      <td>91.6116</td>\n",
       "      <td>Princeton</td>\n",
       "      <td>Periwinkle</td>\n",
       "      <td>streamline vertical portals</td>\n",
       "      <td>8</td>\n",
       "      <td>Strong fast one head.</td>\n",
       "    </tr>\n",
       "    <tr>\n",
       "      <th>30</th>\n",
       "      <td>Richard Wang</td>\n",
       "      <td>89.8416</td>\n",
       "      <td>16.8336</td>\n",
       "      <td>38.1735</td>\n",
       "      <td>7.29049</td>\n",
       "      <td>Michighan</td>\n",
       "      <td>Infrared</td>\n",
       "      <td>enable 24/365 ROI</td>\n",
       "      <td>7</td>\n",
       "      <td>Truth treatment realize whose poor course cert...</td>\n",
       "    </tr>\n",
       "    <tr>\n",
       "      <th>745</th>\n",
       "      <td>Julie Wood</td>\n",
       "      <td>14.9346</td>\n",
       "      <td>80.0312</td>\n",
       "      <td>90.239</td>\n",
       "      <td>58.2561</td>\n",
       "      <td>Yale</td>\n",
       "      <td>Bronze</td>\n",
       "      <td>strategize strategic info-mediaries</td>\n",
       "      <td>5</td>\n",
       "      <td>Bill visit purpose degree low response.</td>\n",
       "    </tr>\n",
       "  </tbody>\n",
       "</table>\n",
       "</div>"
      ],
      "text/plain": [
       "                Name        A        B        C        D Alma Mater  \\\n",
       "539        John Moss  6.40812  51.4783  20.6863  37.6657       Yale   \n",
       "659    Jeremy Valdez  4.89628  64.6801   72.182  26.0565       UCLA   \n",
       "141    Audrey Becker  79.4668  58.7311  52.0623  65.6453       Duke   \n",
       "562  Katherine Price  99.5212  76.4394  46.8883  33.2413    Harvard   \n",
       "921       Casey Bass  89.6311  72.1814  61.4287  91.8386        MIT   \n",
       "230      Kevin Sharp  9.07128  13.7484  76.0614  92.3549   Stanford   \n",
       "814  Jennifer Morris  55.3088  18.1027  88.9177  68.2286        NYU   \n",
       "666  Jessica Russell  95.0137  38.8489  31.6514  91.6116  Princeton   \n",
       "30      Richard Wang  89.8416  16.8336  38.1735  7.29049  Michighan   \n",
       "745       Julie Wood  14.9346  80.0312   90.239  58.2561       Yale   \n",
       "\n",
       "           Aura                                  Tag Experience  \\\n",
       "539     Magenta         enhance holistic initiatives         10   \n",
       "659    Infrared            target vertical bandwidth          6   \n",
       "141     Magenta   revolutionize e-business bandwidth          6   \n",
       "562     Emerald                 strategize B2C users          5   \n",
       "921      Indigo   integrate mission-critical vortals          3   \n",
       "230    Infrared             embrace turn-key systems          5   \n",
       "814        Gold           drive interactive channels         11   \n",
       "666  Periwinkle          streamline vertical portals          8   \n",
       "30     Infrared                    enable 24/365 ROI          7   \n",
       "745      Bronze  strategize strategic info-mediaries          5   \n",
       "\n",
       "                                          Dissertation  \n",
       "539                     Far factor town question food.  \n",
       "659          Drug only like young public simply never.  \n",
       "141                          Cultural force me create.  \n",
       "562                     Open expert how nature moment.  \n",
       "921                                    Kid use minute.  \n",
       "230                               Site phone he value.  \n",
       "814              National society option center blood.  \n",
       "666                              Strong fast one head.  \n",
       "30   Truth treatment realize whose poor course cert...  \n",
       "745            Bill visit purpose degree low response.  "
      ]
     },
     "execution_count": 7,
     "metadata": {},
     "output_type": "execute_result"
    }
   ],
   "source": [
    "df.sample(10)"
   ]
  },
  {
   "cell_type": "code",
   "execution_count": 8,
   "metadata": {},
   "outputs": [],
   "source": [
    "df = df.set_index(['Aura','Alma Mater'])"
   ]
  },
  {
   "cell_type": "code",
   "execution_count": 9,
   "metadata": {},
   "outputs": [
    {
     "data": {
      "text/html": [
       "<div>\n",
       "<style scoped>\n",
       "    .dataframe tbody tr th:only-of-type {\n",
       "        vertical-align: middle;\n",
       "    }\n",
       "\n",
       "    .dataframe tbody tr th {\n",
       "        vertical-align: top;\n",
       "    }\n",
       "\n",
       "    .dataframe thead th {\n",
       "        text-align: right;\n",
       "    }\n",
       "</style>\n",
       "<table border=\"1\" class=\"dataframe\">\n",
       "  <thead>\n",
       "    <tr style=\"text-align: right;\">\n",
       "      <th></th>\n",
       "      <th></th>\n",
       "      <th>Name</th>\n",
       "      <th>A</th>\n",
       "      <th>B</th>\n",
       "      <th>C</th>\n",
       "      <th>D</th>\n",
       "      <th>Tag</th>\n",
       "      <th>Experience</th>\n",
       "      <th>Dissertation</th>\n",
       "    </tr>\n",
       "    <tr>\n",
       "      <th>Aura</th>\n",
       "      <th>Alma Mater</th>\n",
       "      <th></th>\n",
       "      <th></th>\n",
       "      <th></th>\n",
       "      <th></th>\n",
       "      <th></th>\n",
       "      <th></th>\n",
       "      <th></th>\n",
       "      <th></th>\n",
       "    </tr>\n",
       "  </thead>\n",
       "  <tbody>\n",
       "    <tr>\n",
       "      <th>Infrared</th>\n",
       "      <th>Columbia</th>\n",
       "      <td>Frank Hodge</td>\n",
       "      <td>50.3952</td>\n",
       "      <td>95.0805</td>\n",
       "      <td>1.66373</td>\n",
       "      <td>45.6132</td>\n",
       "      <td>optimize ubiquitous models</td>\n",
       "      <td>9</td>\n",
       "      <td>List agree cost network feel.</td>\n",
       "    </tr>\n",
       "    <tr>\n",
       "      <th>Bronze</th>\n",
       "      <th>Yale</th>\n",
       "      <td>Lisa Wang</td>\n",
       "      <td>96.4771</td>\n",
       "      <td>99.748</td>\n",
       "      <td>53.0335</td>\n",
       "      <td>15.2947</td>\n",
       "      <td>grow holistic mindshare</td>\n",
       "      <td>7</td>\n",
       "      <td>Nothing significant recent early doctor local ...</td>\n",
       "    </tr>\n",
       "    <tr>\n",
       "      <th>Gold</th>\n",
       "      <th>Michighan</th>\n",
       "      <td>Kent Duran</td>\n",
       "      <td>31.9557</td>\n",
       "      <td>6.06177</td>\n",
       "      <td>11.0434</td>\n",
       "      <td>22.168</td>\n",
       "      <td>brand frictionless experiences</td>\n",
       "      <td>13</td>\n",
       "      <td>Activity popular side back place.</td>\n",
       "    </tr>\n",
       "    <tr>\n",
       "      <th>Bronze</th>\n",
       "      <th>Princeton</th>\n",
       "      <td>Adam Powell</td>\n",
       "      <td>79.5531</td>\n",
       "      <td>52.7058</td>\n",
       "      <td>58.1952</td>\n",
       "      <td>73.2561</td>\n",
       "      <td>engage cross-media technologies</td>\n",
       "      <td>3</td>\n",
       "      <td>Believe respond drug a wish charge.</td>\n",
       "    </tr>\n",
       "    <tr>\n",
       "      <th>Lime</th>\n",
       "      <th>NYU</th>\n",
       "      <td>Morgan Jenkins</td>\n",
       "      <td>59.751</td>\n",
       "      <td>44.6371</td>\n",
       "      <td>89.7365</td>\n",
       "      <td>72.6114</td>\n",
       "      <td>iterate front-end portals</td>\n",
       "      <td>10</td>\n",
       "      <td>Stuff east camera author.</td>\n",
       "    </tr>\n",
       "  </tbody>\n",
       "</table>\n",
       "</div>"
      ],
      "text/plain": [
       "                               Name        A        B        C        D  \\\n",
       "Aura     Alma Mater                                                       \n",
       "Infrared Columbia       Frank Hodge  50.3952  95.0805  1.66373  45.6132   \n",
       "Bronze   Yale             Lisa Wang  96.4771   99.748  53.0335  15.2947   \n",
       "Gold     Michighan       Kent Duran  31.9557  6.06177  11.0434   22.168   \n",
       "Bronze   Princeton      Adam Powell  79.5531  52.7058  58.1952  73.2561   \n",
       "Lime     NYU         Morgan Jenkins   59.751  44.6371  89.7365  72.6114   \n",
       "\n",
       "                                                 Tag Experience  \\\n",
       "Aura     Alma Mater                                               \n",
       "Infrared Columbia         optimize ubiquitous models          9   \n",
       "Bronze   Yale                grow holistic mindshare          7   \n",
       "Gold     Michighan    brand frictionless experiences         13   \n",
       "Bronze   Princeton   engage cross-media technologies          3   \n",
       "Lime     NYU               iterate front-end portals         10   \n",
       "\n",
       "                                                          Dissertation  \n",
       "Aura     Alma Mater                                                     \n",
       "Infrared Columbia                        List agree cost network feel.  \n",
       "Bronze   Yale        Nothing significant recent early doctor local ...  \n",
       "Gold     Michighan                   Activity popular side back place.  \n",
       "Bronze   Princeton                 Believe respond drug a wish charge.  \n",
       "Lime     NYU                                 Stuff east camera author.  "
      ]
     },
     "execution_count": 9,
     "metadata": {},
     "output_type": "execute_result"
    }
   ],
   "source": [
    "df.sample(5)"
   ]
  },
  {
   "cell_type": "code",
   "execution_count": 10,
   "metadata": {},
   "outputs": [],
   "source": [
    "exp_df = df.sort_values(by=['Experience'],ascending=False)"
   ]
  },
  {
   "cell_type": "code",
   "execution_count": 11,
   "metadata": {},
   "outputs": [],
   "source": [
    "exp_dfT = exp_df.transpose()"
   ]
  },
  {
   "cell_type": "code",
   "execution_count": 12,
   "metadata": {},
   "outputs": [
    {
     "data": {
      "text/html": [
       "<div>\n",
       "<style scoped>\n",
       "    .dataframe tbody tr th:only-of-type {\n",
       "        vertical-align: middle;\n",
       "    }\n",
       "\n",
       "    .dataframe tbody tr th {\n",
       "        vertical-align: top;\n",
       "    }\n",
       "\n",
       "    .dataframe thead th {\n",
       "        text-align: right;\n",
       "    }\n",
       "</style>\n",
       "<table border=\"1\" class=\"dataframe\">\n",
       "  <thead>\n",
       "    <tr style=\"text-align: right;\">\n",
       "      <th>Alma Mater</th>\n",
       "      <th>Texas</th>\n",
       "      <th>Texas</th>\n",
       "      <th>Texas</th>\n",
       "      <th>Texas</th>\n",
       "      <th>Texas</th>\n",
       "      <th>Texas</th>\n",
       "      <th>Texas</th>\n",
       "    </tr>\n",
       "  </thead>\n",
       "  <tbody>\n",
       "    <tr>\n",
       "      <th>Name</th>\n",
       "      <td>Nathan Williams</td>\n",
       "      <td>Lindsay Luna</td>\n",
       "      <td>Jose Anderson</td>\n",
       "      <td>Debra Norton</td>\n",
       "      <td>Glenn Riley</td>\n",
       "      <td>Tyler Lucas</td>\n",
       "      <td>Cheryl Baldwin</td>\n",
       "    </tr>\n",
       "    <tr>\n",
       "      <th>A</th>\n",
       "      <td>79.6886</td>\n",
       "      <td>88.0668</td>\n",
       "      <td>30.2333</td>\n",
       "      <td>13.7186</td>\n",
       "      <td>16.4254</td>\n",
       "      <td>70.4726</td>\n",
       "      <td>10.7964</td>\n",
       "    </tr>\n",
       "    <tr>\n",
       "      <th>B</th>\n",
       "      <td>88.7922</td>\n",
       "      <td>34.0247</td>\n",
       "      <td>1.05277</td>\n",
       "      <td>97.9685</td>\n",
       "      <td>42.0785</td>\n",
       "      <td>97.3427</td>\n",
       "      <td>98.7631</td>\n",
       "    </tr>\n",
       "    <tr>\n",
       "      <th>C</th>\n",
       "      <td>69.5769</td>\n",
       "      <td>8.65313</td>\n",
       "      <td>82.4277</td>\n",
       "      <td>58.7181</td>\n",
       "      <td>40.5844</td>\n",
       "      <td>29.693</td>\n",
       "      <td>27.3032</td>\n",
       "    </tr>\n",
       "    <tr>\n",
       "      <th>D</th>\n",
       "      <td>71.3632</td>\n",
       "      <td>23.6805</td>\n",
       "      <td>9.92123</td>\n",
       "      <td>90.6136</td>\n",
       "      <td>58.8836</td>\n",
       "      <td>85.2117</td>\n",
       "      <td>38.9874</td>\n",
       "    </tr>\n",
       "    <tr>\n",
       "      <th>Tag</th>\n",
       "      <td>facilitate transparent metrics</td>\n",
       "      <td>mesh seamless deliverables</td>\n",
       "      <td>engage next-generation partnerships</td>\n",
       "      <td>implement extensible e-services</td>\n",
       "      <td>re-intermediate efficient markets</td>\n",
       "      <td>harness dynamic partnerships</td>\n",
       "      <td>envisioneer global functionalities</td>\n",
       "    </tr>\n",
       "    <tr>\n",
       "      <th>Experience</th>\n",
       "      <td>14</td>\n",
       "      <td>14</td>\n",
       "      <td>11</td>\n",
       "      <td>8</td>\n",
       "      <td>7</td>\n",
       "      <td>7</td>\n",
       "      <td>4</td>\n",
       "    </tr>\n",
       "    <tr>\n",
       "      <th>Dissertation</th>\n",
       "      <td>With American traditional federal argue stay t...</td>\n",
       "      <td>Six exactly seat whatever race artist foreign.</td>\n",
       "      <td>Less new treat surface both chance teach.</td>\n",
       "      <td>Ok detail writer our ever have better.</td>\n",
       "      <td>Deal agreement onto authority someone determin...</td>\n",
       "      <td>View institution brother whom article now.</td>\n",
       "      <td>Since myself six serve practice media standard.</td>\n",
       "    </tr>\n",
       "  </tbody>\n",
       "</table>\n",
       "</div>"
      ],
      "text/plain": [
       "Alma Mater                                                Texas  \\\n",
       "Name                                            Nathan Williams   \n",
       "A                                                       79.6886   \n",
       "B                                                       88.7922   \n",
       "C                                                       69.5769   \n",
       "D                                                       71.3632   \n",
       "Tag                              facilitate transparent metrics   \n",
       "Experience                                                   14   \n",
       "Dissertation  With American traditional federal argue stay t...   \n",
       "\n",
       "Alma Mater                                             Texas  \\\n",
       "Name                                            Lindsay Luna   \n",
       "A                                                    88.0668   \n",
       "B                                                    34.0247   \n",
       "C                                                    8.65313   \n",
       "D                                                    23.6805   \n",
       "Tag                               mesh seamless deliverables   \n",
       "Experience                                                14   \n",
       "Dissertation  Six exactly seat whatever race artist foreign.   \n",
       "\n",
       "Alma Mater                                        Texas  \\\n",
       "Name                                      Jose Anderson   \n",
       "A                                               30.2333   \n",
       "B                                               1.05277   \n",
       "C                                               82.4277   \n",
       "D                                               9.92123   \n",
       "Tag                 engage next-generation partnerships   \n",
       "Experience                                           11   \n",
       "Dissertation  Less new treat surface both chance teach.   \n",
       "\n",
       "Alma Mater                                     Texas  \\\n",
       "Name                                    Debra Norton   \n",
       "A                                            13.7186   \n",
       "B                                            97.9685   \n",
       "C                                            58.7181   \n",
       "D                                            90.6136   \n",
       "Tag                  implement extensible e-services   \n",
       "Experience                                         8   \n",
       "Dissertation  Ok detail writer our ever have better.   \n",
       "\n",
       "Alma Mater                                                Texas  \\\n",
       "Name                                                Glenn Riley   \n",
       "A                                                       16.4254   \n",
       "B                                                       42.0785   \n",
       "C                                                       40.5844   \n",
       "D                                                       58.8836   \n",
       "Tag                           re-intermediate efficient markets   \n",
       "Experience                                                    7   \n",
       "Dissertation  Deal agreement onto authority someone determin...   \n",
       "\n",
       "Alma Mater                                         Texas  \\\n",
       "Name                                         Tyler Lucas   \n",
       "A                                                70.4726   \n",
       "B                                                97.3427   \n",
       "C                                                 29.693   \n",
       "D                                                85.2117   \n",
       "Tag                         harness dynamic partnerships   \n",
       "Experience                                             7   \n",
       "Dissertation  View institution brother whom article now.   \n",
       "\n",
       "Alma Mater                                              Texas  \n",
       "Name                                           Cheryl Baldwin  \n",
       "A                                                     10.7964  \n",
       "B                                                     98.7631  \n",
       "C                                                     27.3032  \n",
       "D                                                     38.9874  \n",
       "Tag                        envisioneer global functionalities  \n",
       "Experience                                                  4  \n",
       "Dissertation  Since myself six serve practice media standard.  "
      ]
     },
     "execution_count": 12,
     "metadata": {},
     "output_type": "execute_result"
    }
   ],
   "source": [
    "exp_dfT['Crimson']['Texas']"
   ]
  },
  {
   "cell_type": "code",
   "execution_count": 13,
   "metadata": {},
   "outputs": [
    {
     "data": {
      "text/plain": [
       "<matplotlib.axes._subplots.AxesSubplot at 0x7fbf5e7151d0>"
      ]
     },
     "execution_count": 13,
     "metadata": {},
     "output_type": "execute_result"
    },
    {
     "data": {
      "image/png": "[encoded data removed]",
      "text/plain": [
       "<Figure size 432x288 with 1 Axes>"
      ]
     },
     "metadata": {
      "needs_background": "light"
     },
     "output_type": "display_data"
    }
   ],
   "source": [
    "sns.distplot(df['Experience'],bins=25)"
   ]
  },
  {
   "cell_type": "code",
   "execution_count": 14,
   "metadata": {},
   "outputs": [
    {
     "data": {
      "text/plain": [
       "Alma Mater\n",
       "Duke         43.887036\n",
       "Texas        43.887183\n",
       "UCLA         48.261325\n",
       "Michighan    48.970621\n",
       "NYU          49.559733\n",
       "Princeton    50.707306\n",
       "Berkeley     50.738024\n",
       "Harvard      50.862713\n",
       "UNC          50.990208\n",
       "Yale         51.249936\n",
       "Stanford     52.012161\n",
       "MIT          52.167340\n",
       "Columbia     52.481990\n",
       "Name: A, dtype: float64"
      ]
     },
     "execution_count": 14,
     "metadata": {},
     "output_type": "execute_result"
    }
   ],
   "source": [
    "df['A'] = df['A'].astype(float)\n",
    "df.groupby(['Alma Mater'])['A'].mean().sort_values()"
   ]
  },
  {
   "cell_type": "code",
   "execution_count": 15,
   "metadata": {},
   "outputs": [
    {
     "data": {
      "text/plain": [
       "Index(['Name', 'A', 'B', 'C', 'D', 'Tag', 'Experience', 'Dissertation'], dtype='object')"
      ]
     },
     "execution_count": 15,
     "metadata": {},
     "output_type": "execute_result"
    }
   ],
   "source": [
    "df.columns"
   ]
  },
  {
   "cell_type": "code",
   "execution_count": 16,
   "metadata": {},
   "outputs": [],
   "source": [
    "senior = df[df['Experience'] > 12]"
   ]
  },
  {
   "cell_type": "code",
   "execution_count": 17,
   "metadata": {},
   "outputs": [
    {
     "data": {
      "text/plain": [
       "(172, 8)"
      ]
     },
     "execution_count": 17,
     "metadata": {},
     "output_type": "execute_result"
    }
   ],
   "source": [
    "senior.shape"
   ]
  },
  {
   "cell_type": "code",
   "execution_count": 18,
   "metadata": {},
   "outputs": [
    {
     "data": {
      "text/plain": [
       "<matplotlib.axes._subplots.AxesSubplot at 0x7fbf5e9511d0>"
      ]
     },
     "execution_count": 18,
     "metadata": {},
     "output_type": "execute_result"
    },
    {
     "data": {
      "image/png": "[encoded data removed]",
      "text/plain": [
       "<Figure size 432x288 with 1 Axes>"
      ]
     },
     "metadata": {
      "needs_background": "light"
     },
     "output_type": "display_data"
    }
   ],
   "source": [
    "sns.distplot(senior['B'])"
   ]
  },
  {
   "cell_type": "code",
   "execution_count": 19,
   "metadata": {},
   "outputs": [],
   "source": [
    "practice_df = df.sample(20)"
   ]
  },
  {
   "cell_type": "code",
   "execution_count": 20,
   "metadata": {},
   "outputs": [
    {
     "data": {
      "text/html": [
       "<div>\n",
       "<style scoped>\n",
       "    .dataframe tbody tr th:only-of-type {\n",
       "        vertical-align: middle;\n",
       "    }\n",
       "\n",
       "    .dataframe tbody tr th {\n",
       "        vertical-align: top;\n",
       "    }\n",
       "\n",
       "    .dataframe thead th {\n",
       "        text-align: right;\n",
       "    }\n",
       "</style>\n",
       "<table border=\"1\" class=\"dataframe\">\n",
       "  <thead>\n",
       "    <tr style=\"text-align: right;\">\n",
       "      <th></th>\n",
       "      <th></th>\n",
       "      <th>Name</th>\n",
       "      <th>A</th>\n",
       "      <th>B</th>\n",
       "      <th>C</th>\n",
       "      <th>D</th>\n",
       "      <th>Tag</th>\n",
       "      <th>Experience</th>\n",
       "      <th>Dissertation</th>\n",
       "    </tr>\n",
       "    <tr>\n",
       "      <th>Aura</th>\n",
       "      <th>Alma Mater</th>\n",
       "      <th></th>\n",
       "      <th></th>\n",
       "      <th></th>\n",
       "      <th></th>\n",
       "      <th></th>\n",
       "      <th></th>\n",
       "      <th></th>\n",
       "      <th></th>\n",
       "    </tr>\n",
       "  </thead>\n",
       "  <tbody>\n",
       "    <tr>\n",
       "      <th>Black</th>\n",
       "      <th>Texas</th>\n",
       "      <td>Andrew Fisher</td>\n",
       "      <td>5.902585</td>\n",
       "      <td>89.6827</td>\n",
       "      <td>72.0502</td>\n",
       "      <td>76.9093</td>\n",
       "      <td>enhance end-to-end mindshare</td>\n",
       "      <td>10</td>\n",
       "      <td>Reach population chair spring impact together ...</td>\n",
       "    </tr>\n",
       "    <tr>\n",
       "      <th>Gold</th>\n",
       "      <th>Duke</th>\n",
       "      <td>Zachary Pham</td>\n",
       "      <td>94.046838</td>\n",
       "      <td>96.4924</td>\n",
       "      <td>63.7396</td>\n",
       "      <td>25.4481</td>\n",
       "      <td>implement value-added e-tailers</td>\n",
       "      <td>12</td>\n",
       "      <td>Mind away still worry decision add language.</td>\n",
       "    </tr>\n",
       "    <tr>\n",
       "      <th>Periwinkle</th>\n",
       "      <th>MIT</th>\n",
       "      <td>Ronald Fuller</td>\n",
       "      <td>28.501117</td>\n",
       "      <td>49.6419</td>\n",
       "      <td>55.5472</td>\n",
       "      <td>78.2607</td>\n",
       "      <td>grow collaborative deliverables</td>\n",
       "      <td>6</td>\n",
       "      <td>Accept wish onto.</td>\n",
       "    </tr>\n",
       "  </tbody>\n",
       "</table>\n",
       "</div>"
      ],
      "text/plain": [
       "                                Name          A        B        C        D  \\\n",
       "Aura       Alma Mater                                                        \n",
       "Black      Texas       Andrew Fisher   5.902585  89.6827  72.0502  76.9093   \n",
       "Gold       Duke         Zachary Pham  94.046838  96.4924  63.7396  25.4481   \n",
       "Periwinkle MIT         Ronald Fuller  28.501117  49.6419  55.5472  78.2607   \n",
       "\n",
       "                                                   Tag Experience  \\\n",
       "Aura       Alma Mater                                               \n",
       "Black      Texas          enhance end-to-end mindshare         10   \n",
       "Gold       Duke        implement value-added e-tailers         12   \n",
       "Periwinkle MIT         grow collaborative deliverables          6   \n",
       "\n",
       "                                                            Dissertation  \n",
       "Aura       Alma Mater                                                     \n",
       "Black      Texas       Reach population chair spring impact together ...  \n",
       "Gold       Duke             Mind away still worry decision add language.  \n",
       "Periwinkle MIT                                         Accept wish onto.  "
      ]
     },
     "execution_count": 20,
     "metadata": {},
     "output_type": "execute_result"
    }
   ],
   "source": [
    "practice_df.head(3)"
   ]
  },
  {
   "cell_type": "code",
   "execution_count": 21,
   "metadata": {},
   "outputs": [
    {
     "data": {
      "text/plain": [
       "Index(['Aura', 'Alma Mater', 'Name', 'A', 'B', 'C', 'D', 'Tag', 'Experience',\n",
       "       'Dissertation'],\n",
       "      dtype='object')"
      ]
     },
     "execution_count": 21,
     "metadata": {},
     "output_type": "execute_result"
    }
   ],
   "source": [
    "practice_df = practice_df.reset_index()\n",
    "practice_df.columns"
   ]
  },
  {
   "cell_type": "code",
   "execution_count": 22,
   "metadata": {},
   "outputs": [],
   "source": [
    "a = practice_df['A']"
   ]
  },
  {
   "cell_type": "code",
   "execution_count": 23,
   "metadata": {},
   "outputs": [
    {
     "data": {
      "text/plain": [
       "count    20.000000\n",
       "mean     50.974958\n",
       "std      35.317704\n",
       "min       2.722320\n",
       "25%      16.651428\n",
       "50%      52.321974\n",
       "75%      80.624451\n",
       "max      98.098767\n",
       "Name: A, dtype: float64"
      ]
     },
     "execution_count": 23,
     "metadata": {},
     "output_type": "execute_result"
    }
   ],
   "source": [
    "a.describe()"
   ]
  },
  {
   "cell_type": "code",
   "execution_count": 29,
   "metadata": {},
   "outputs": [],
   "source": [
    "value_leverage_df = df[(df['D'] > 70) & (df['Experience'] > 5)]"
   ]
  },
  {
   "cell_type": "code",
   "execution_count": 30,
   "metadata": {},
   "outputs": [
    {
     "data": {
      "text/html": [
       "<div>\n",
       "<style scoped>\n",
       "    .dataframe tbody tr th:only-of-type {\n",
       "        vertical-align: middle;\n",
       "    }\n",
       "\n",
       "    .dataframe tbody tr th {\n",
       "        vertical-align: top;\n",
       "    }\n",
       "\n",
       "    .dataframe thead th {\n",
       "        text-align: right;\n",
       "    }\n",
       "</style>\n",
       "<table border=\"1\" class=\"dataframe\">\n",
       "  <thead>\n",
       "    <tr style=\"text-align: right;\">\n",
       "      <th></th>\n",
       "      <th></th>\n",
       "      <th>Name</th>\n",
       "      <th>A</th>\n",
       "      <th>B</th>\n",
       "      <th>C</th>\n",
       "      <th>D</th>\n",
       "      <th>Tag</th>\n",
       "      <th>Experience</th>\n",
       "      <th>Dissertation</th>\n",
       "    </tr>\n",
       "    <tr>\n",
       "      <th>Aura</th>\n",
       "      <th>Alma Mater</th>\n",
       "      <th></th>\n",
       "      <th></th>\n",
       "      <th></th>\n",
       "      <th></th>\n",
       "      <th></th>\n",
       "      <th></th>\n",
       "      <th></th>\n",
       "      <th></th>\n",
       "    </tr>\n",
       "  </thead>\n",
       "  <tbody>\n",
       "    <tr>\n",
       "      <th>Emerald</th>\n",
       "      <th>Yale</th>\n",
       "      <td>Troy Long</td>\n",
       "      <td>59.985476</td>\n",
       "      <td>83.3567</td>\n",
       "      <td>83.5888</td>\n",
       "      <td>88.0922</td>\n",
       "      <td>synergize intuitive e-business</td>\n",
       "      <td>11</td>\n",
       "      <td>Eye simple industry grow.</td>\n",
       "    </tr>\n",
       "    <tr>\n",
       "      <th>Gold</th>\n",
       "      <th>UNC</th>\n",
       "      <td>Elizabeth Davenport</td>\n",
       "      <td>75.358377</td>\n",
       "      <td>1.04799</td>\n",
       "      <td>67.5868</td>\n",
       "      <td>94.4863</td>\n",
       "      <td>utilize magnetic solutions</td>\n",
       "      <td>13</td>\n",
       "      <td>Those popular stand suddenly.</td>\n",
       "    </tr>\n",
       "    <tr>\n",
       "      <th>Bronze</th>\n",
       "      <th>Texas</th>\n",
       "      <td>Erin Schwartz</td>\n",
       "      <td>73.162647</td>\n",
       "      <td>87.7787</td>\n",
       "      <td>50.0426</td>\n",
       "      <td>73.8476</td>\n",
       "      <td>architect end-to-end networks</td>\n",
       "      <td>14</td>\n",
       "      <td>Represent some it own watch design.</td>\n",
       "    </tr>\n",
       "    <tr>\n",
       "      <th>Crimson</th>\n",
       "      <th>UNC</th>\n",
       "      <td>Debra Harris</td>\n",
       "      <td>48.002874</td>\n",
       "      <td>75.1413</td>\n",
       "      <td>15.9507</td>\n",
       "      <td>81.4109</td>\n",
       "      <td>re-contextualize holistic communities</td>\n",
       "      <td>11</td>\n",
       "      <td>Interesting picture number former.</td>\n",
       "    </tr>\n",
       "    <tr>\n",
       "      <th>Indigo</th>\n",
       "      <th>Berkeley</th>\n",
       "      <td>Erik Rodriguez</td>\n",
       "      <td>94.596899</td>\n",
       "      <td>23.5809</td>\n",
       "      <td>13.8251</td>\n",
       "      <td>81.0961</td>\n",
       "      <td>facilitate integrated metrics</td>\n",
       "      <td>11</td>\n",
       "      <td>Design risk begin way soldier.</td>\n",
       "    </tr>\n",
       "    <tr>\n",
       "      <th>...</th>\n",
       "      <th>...</th>\n",
       "      <td>...</td>\n",
       "      <td>...</td>\n",
       "      <td>...</td>\n",
       "      <td>...</td>\n",
       "      <td>...</td>\n",
       "      <td>...</td>\n",
       "      <td>...</td>\n",
       "      <td>...</td>\n",
       "    </tr>\n",
       "    <tr>\n",
       "      <th>Infrared</th>\n",
       "      <th>Yale</th>\n",
       "      <td>Drew Mueller</td>\n",
       "      <td>73.530683</td>\n",
       "      <td>70.4692</td>\n",
       "      <td>90.814</td>\n",
       "      <td>87.6818</td>\n",
       "      <td>grow ubiquitous metrics</td>\n",
       "      <td>13</td>\n",
       "      <td>Trial name second.</td>\n",
       "    </tr>\n",
       "    <tr>\n",
       "      <th>Lime</th>\n",
       "      <th>NYU</th>\n",
       "      <td>Howard Green</td>\n",
       "      <td>44.934649</td>\n",
       "      <td>33.8353</td>\n",
       "      <td>86.7858</td>\n",
       "      <td>85.9861</td>\n",
       "      <td>incubate visionary schemas</td>\n",
       "      <td>12</td>\n",
       "      <td>Break answer end safe international most.</td>\n",
       "    </tr>\n",
       "    <tr>\n",
       "      <th>Bronze</th>\n",
       "      <th>Stanford</th>\n",
       "      <td>Victoria Oliver</td>\n",
       "      <td>17.719621</td>\n",
       "      <td>68.0499</td>\n",
       "      <td>10.1314</td>\n",
       "      <td>72.9017</td>\n",
       "      <td>extend global niches</td>\n",
       "      <td>7</td>\n",
       "      <td>Reach fear safe.</td>\n",
       "    </tr>\n",
       "    <tr>\n",
       "      <th>Periwinkle</th>\n",
       "      <th>Berkeley</th>\n",
       "      <td>Brianna Walker</td>\n",
       "      <td>77.156360</td>\n",
       "      <td>86.135</td>\n",
       "      <td>91.9151</td>\n",
       "      <td>88.4967</td>\n",
       "      <td>aggregate cutting-edge web services</td>\n",
       "      <td>13</td>\n",
       "      <td>Film consider agree create finally always.</td>\n",
       "    </tr>\n",
       "    <tr>\n",
       "      <th>Indigo</th>\n",
       "      <th>Texas</th>\n",
       "      <td>Brendan Russell</td>\n",
       "      <td>87.693774</td>\n",
       "      <td>55.8134</td>\n",
       "      <td>3.93419</td>\n",
       "      <td>76.7973</td>\n",
       "      <td>unleash plug-and-play initiatives</td>\n",
       "      <td>10</td>\n",
       "      <td>Of quite pick region cell follow miss.</td>\n",
       "    </tr>\n",
       "  </tbody>\n",
       "</table>\n",
       "<p>229 rows × 8 columns</p>\n",
       "</div>"
      ],
      "text/plain": [
       "                                      Name          A        B        C  \\\n",
       "Aura       Alma Mater                                                     \n",
       "Emerald    Yale                  Troy Long  59.985476  83.3567  83.5888   \n",
       "Gold       UNC         Elizabeth Davenport  75.358377  1.04799  67.5868   \n",
       "Bronze     Texas             Erin Schwartz  73.162647  87.7787  50.0426   \n",
       "Crimson    UNC                Debra Harris  48.002874  75.1413  15.9507   \n",
       "Indigo     Berkeley         Erik Rodriguez  94.596899  23.5809  13.8251   \n",
       "...                                    ...        ...      ...      ...   \n",
       "Infrared   Yale               Drew Mueller  73.530683  70.4692   90.814   \n",
       "Lime       NYU                Howard Green  44.934649  33.8353  86.7858   \n",
       "Bronze     Stanford        Victoria Oliver  17.719621  68.0499  10.1314   \n",
       "Periwinkle Berkeley         Brianna Walker  77.156360   86.135  91.9151   \n",
       "Indigo     Texas           Brendan Russell  87.693774  55.8134  3.93419   \n",
       "\n",
       "                             D                                    Tag  \\\n",
       "Aura       Alma Mater                                                   \n",
       "Emerald    Yale        88.0922         synergize intuitive e-business   \n",
       "Gold       UNC         94.4863             utilize magnetic solutions   \n",
       "Bronze     Texas       73.8476          architect end-to-end networks   \n",
       "Crimson    UNC         81.4109  re-contextualize holistic communities   \n",
       "Indigo     Berkeley    81.0961          facilitate integrated metrics   \n",
       "...                        ...                                    ...   \n",
       "Infrared   Yale        87.6818                grow ubiquitous metrics   \n",
       "Lime       NYU         85.9861             incubate visionary schemas   \n",
       "Bronze     Stanford    72.9017                   extend global niches   \n",
       "Periwinkle Berkeley    88.4967    aggregate cutting-edge web services   \n",
       "Indigo     Texas       76.7973      unleash plug-and-play initiatives   \n",
       "\n",
       "                      Experience                                Dissertation  \n",
       "Aura       Alma Mater                                                         \n",
       "Emerald    Yale               11                   Eye simple industry grow.  \n",
       "Gold       UNC                13               Those popular stand suddenly.  \n",
       "Bronze     Texas              14         Represent some it own watch design.  \n",
       "Crimson    UNC                11          Interesting picture number former.  \n",
       "Indigo     Berkeley           11              Design risk begin way soldier.  \n",
       "...                          ...                                         ...  \n",
       "Infrared   Yale               13                          Trial name second.  \n",
       "Lime       NYU                12   Break answer end safe international most.  \n",
       "Bronze     Stanford            7                            Reach fear safe.  \n",
       "Periwinkle Berkeley           13  Film consider agree create finally always.  \n",
       "Indigo     Texas              10      Of quite pick region cell follow miss.  \n",
       "\n",
       "[229 rows x 8 columns]"
      ]
     },
     "execution_count": 30,
     "metadata": {},
     "output_type": "execute_result"
    }
   ],
   "source": [
    "value_leverage_df"
   ]
  },
  {
   "cell_type": "code",
   "execution_count": null,
   "metadata": {},
   "outputs": [],
   "source": [
    "len(practice_df['Aura'])"
   ]
  },
  {
   "cell_type": "code",
   "execution_count": null,
   "metadata": {},
   "outputs": [],
   "source": [
    "tuples = list(zip(practice_df['Alma Mater'].values, practice_df['Aura']))"
   ]
  },
  {
   "cell_type": "code",
   "execution_count": null,
   "metadata": {},
   "outputs": [],
   "source": [
    "index = pd.MultiIndex.from_tuples(tuples, names=['school', 'color'])"
   ]
  },
  {
   "cell_type": "code",
   "execution_count": null,
   "metadata": {},
   "outputs": [],
   "source": [
    "restructured_df = pd.DataFrame(np.random.randn(20, 2), index=index, columns=['A','B'])"
   ]
  },
  {
   "cell_type": "code",
   "execution_count": null,
   "metadata": {},
   "outputs": [],
   "source": [
    "restructured_df.sort_values('A', ascending=False)"
   ]
  },
  {
   "cell_type": "code",
   "execution_count": null,
   "metadata": {},
   "outputs": [],
   "source": [
    "stacked = restructured_df.stack()"
   ]
  },
  {
   "cell_type": "code",
   "execution_count": null,
   "metadata": {},
   "outputs": [],
   "source": [
    "stacked"
   ]
  },
  {
   "cell_type": "code",
   "execution_count": null,
   "metadata": {},
   "outputs": [],
   "source": [
    "stacked.unstack()"
   ]
  },
  {
   "cell_type": "code",
   "execution_count": null,
   "metadata": {},
   "outputs": [],
   "source": [
    "stacked.unstack(1)"
   ]
  },
  {
   "cell_type": "code",
   "execution_count": null,
   "metadata": {},
   "outputs": [],
   "source": []
  }
 ],
 "metadata": {
  "kernelspec": {
   "display_name": "Python 3",
   "language": "python",
   "name": "python3"
  },
  "language_info": {
   "codemirror_mode": {
    "name": "ipython",
    "version": 3
   },
   "file_extension": ".py",
   "mimetype": "text/x-python",
   "name": "python",
   "nbconvert_exporter": "python",
   "pygments_lexer": "ipython3",
   "version": "3.7.6"
  },
  "varInspector": {
   "cols": {
    "lenName": 16,
    "lenType": 16,
    "lenVar": 40
   },
   "kernels_config": {
    "python": {
     "delete_cmd_postfix": "",
     "delete_cmd_prefix": "del ",
     "library": "var_list.py",
     "varRefreshCmd": "print(var_dic_list())"
    },
    "r": {
     "delete_cmd_postfix": ") ",
     "delete_cmd_prefix": "rm(",
     "library": "var_list.r",
     "varRefreshCmd": "cat(var_dic_list()) "
    }
   },
   "types_to_exclude": [
    "module",
    "function",
    "builtin_function_or_method",
    "instance",
    "_Feature"
   ],
   "window_display": false
  }
 },
 "nbformat": 4,
 "nbformat_minor": 4
}
