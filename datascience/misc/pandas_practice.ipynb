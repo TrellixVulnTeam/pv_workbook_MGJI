{
 "cells": [
  {
   "cell_type": "code",
   "execution_count": 60,
   "metadata": {},
   "outputs": [
    {
     "name": "stdout",
     "output_type": "stream",
     "text": [
      "Requirement already satisfied: Faker in /Users/toddhendricks/miniconda3/lib/python3.7/site-packages (4.1.1)\r\n",
      "Requirement already satisfied: python-dateutil>=2.4 in /Users/toddhendricks/miniconda3/lib/python3.7/site-packages (from Faker) (2.8.1)\r\n",
      "Requirement already satisfied: text-unidecode==1.3 in /Users/toddhendricks/miniconda3/lib/python3.7/site-packages (from Faker) (1.3)\r\n",
      "Requirement already satisfied: six>=1.5 in /Users/toddhendricks/miniconda3/lib/python3.7/site-packages (from python-dateutil>=2.4->Faker) (1.14.0)\r\n"
     ]
    }
   ],
   "source": [
    "!pip install Faker\n",
    "import pandas as pd\n",
    "import seaborn as sns\n",
    "from faker import Faker\n",
    "import random"
   ]
  },
  {
   "cell_type": "code",
   "execution_count": 25,
   "metadata": {},
   "outputs": [],
   "source": [
    "fake = Faker()"
   ]
  },
  {
   "cell_type": "code",
   "execution_count": 26,
   "metadata": {},
   "outputs": [],
   "source": [
    "name = [fake.name() for _ in range(1000)]"
   ]
  },
  {
   "cell_type": "code",
   "execution_count": 62,
   "metadata": {},
   "outputs": [],
   "source": [
    "diplomacy = np.random.random_sample((1000,))\n",
    "domain_expertise = np.random.random_sample((1000,))\n",
    "leadership = np.random.random_sample((1000,))\n",
    "home_state = np.random.choice(['KY','ME','AL','TX','CA','FL','AZ','NY'],1000)\n",
    "industry = np.random.choice(['Energy','Biochemical','Pharma','Military','Foreign Service','Construction','Manufacturing','Journalism','University'],1000)\n",
    "employer = [fake.bs() for _ in range(1000)]\n",
    "experience = [random.randrange(5, 25, 1) for i in range(1000)]\n",
    "diss = [fake.sentence() for _ in range(1000)]"
   ]
  },
  {
   "cell_type": "code",
   "execution_count": 71,
   "metadata": {},
   "outputs": [],
   "source": [
    "a = {'Name' : name ,\n",
    "     'Diplomacy' : diplomacy, \n",
    "     'Leadership': leadership ,\n",
    "     'Home': home_state,\n",
    "     'Industry' : industry,\n",
    "     'Employer' : employer,\n",
    "     'Experience' : experience, \n",
    "     'Dissertation' : diss\n",
    "    }\n",
    "df = pd.DataFrame.from_dict(a, orient='index')\n",
    "df = df.transpose()"
   ]
  },
  {
   "cell_type": "code",
   "execution_count": 74,
   "metadata": {},
   "outputs": [
    {
     "data": {
      "text/plain": [
       "Index(['Name', 'Diplomacy', 'Leadership', 'Home', 'Industry', 'Employer',\n",
       "       'Experience', 'Dissertation'],\n",
       "      dtype='object')"
      ]
     },
     "execution_count": 74,
     "metadata": {},
     "output_type": "execute_result"
    }
   ],
   "source": [
    "df.columns"
   ]
  },
  {
   "cell_type": "code",
   "execution_count": null,
   "metadata": {},
   "outputs": [],
   "source": [
    "df."
   ]
  }
 ],
 "metadata": {
  "kernelspec": {
   "display_name": "Python 3",
   "language": "python",
   "name": "python3"
  },
  "language_info": {
   "codemirror_mode": {
    "name": "ipython",
    "version": 3
   },
   "file_extension": ".py",
   "mimetype": "text/x-python",
   "name": "python",
   "nbconvert_exporter": "python",
   "pygments_lexer": "ipython3",
   "version": "3.7.6"
  },
  "varInspector": {
   "cols": {
    "lenName": 16,
    "lenType": 16,
    "lenVar": 40
   },
   "kernels_config": {
    "python": {
     "delete_cmd_postfix": "",
     "delete_cmd_prefix": "del ",
     "library": "var_list.py",
     "varRefreshCmd": "print(var_dic_list())"
    },
    "r": {
     "delete_cmd_postfix": ") ",
     "delete_cmd_prefix": "rm(",
     "library": "var_list.r",
     "varRefreshCmd": "cat(var_dic_list()) "
    }
   },
   "types_to_exclude": [
    "module",
    "function",
    "builtin_function_or_method",
    "instance",
    "_Feature"
   ],
   "window_display": false
  }
 },
 "nbformat": 4,
 "nbformat_minor": 4
}
