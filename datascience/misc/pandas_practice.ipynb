{
 "cells": [
  {
   "cell_type": "code",
   "execution_count": 1,
   "metadata": {},
   "outputs": [
    {
     "name": "stdout",
     "output_type": "stream",
     "text": [
      "Requirement already satisfied: Faker in /Users/toddhendricks/miniconda3/lib/python3.7/site-packages (4.1.1)\n",
      "Requirement already satisfied: text-unidecode==1.3 in /Users/toddhendricks/miniconda3/lib/python3.7/site-packages (from Faker) (1.3)\n",
      "Requirement already satisfied: python-dateutil>=2.4 in /Users/toddhendricks/miniconda3/lib/python3.7/site-packages (from Faker) (2.8.1)\n",
      "Requirement already satisfied: six>=1.5 in /Users/toddhendricks/miniconda3/lib/python3.7/site-packages (from python-dateutil>=2.4->Faker) (1.14.0)\n"
     ]
    }
   ],
   "source": [
    "!pip install Faker\n",
    "import pandas as pd\n",
    "import seaborn as sns\n",
    "from faker import Faker\n",
    "import random"
   ]
  },
  {
   "cell_type": "code",
   "execution_count": 2,
   "metadata": {},
   "outputs": [],
   "source": [
    "fake = Faker()"
   ]
  },
  {
   "cell_type": "code",
   "execution_count": 3,
   "metadata": {},
   "outputs": [],
   "source": [
    "name = [fake.name() for _ in range(1000)]"
   ]
  },
  {
   "cell_type": "code",
   "execution_count": 4,
   "metadata": {},
   "outputs": [],
   "source": [
    "alpha = np.random.random_sample((1000,)) * 100\n",
    "bravo = np.random.random_sample((1000,)) * 100\n",
    "charlie = np.random.random_sample((1000,)) * 100\n",
    "delta = np.random.random_sample((1000,)) * 100\n",
    "alma_mater = np.random.choice(['Texas','Stanford','MIT','UCLA','Yale','Columbia','UNC','Berkeley','Harvard','Duke','Michighan','NYU','Princeton'],1000)\n",
    "aura = np.random.choice(['Indigo','Periwinkle','Crimson','Infrared','Magenta','Silver','Black','Bronze','Gold','Beige','Emerald','Lime'],1000)\n",
    "employer = [fake.bs() for _ in range(1000)]\n",
    "experience = [random.randrange(3, 15, 1) for i in range(1000)]\n",
    "diss = [fake.sentence() for _ in range(1000)]"
   ]
  },
  {
   "cell_type": "code",
   "execution_count": 5,
   "metadata": {},
   "outputs": [],
   "source": [
    "a = {'Name' : name ,\n",
    "     'A' : alpha, \n",
    "     'B': bravo,\n",
    "     'C' : charlie,\n",
    "     'D' : delta,\n",
    "     'Alma Mater': alma_mater,\n",
    "     'Aura' : aura,\n",
    "     'Tag' : employer,\n",
    "     'Experience' : experience, \n",
    "     'Dissertation' : diss\n",
    "    }\n",
    "df = pd.DataFrame.from_dict(a, orient='index')\n",
    "df = df.transpose()"
   ]
  },
  {
   "cell_type": "code",
   "execution_count": 6,
   "metadata": {},
   "outputs": [
    {
     "data": {
      "text/plain": [
       "Index(['Name', 'A', 'B', 'C', 'D', 'Alma Mater', 'Aura', 'Tag', 'Experience',\n",
       "       'Dissertation'],\n",
       "      dtype='object')"
      ]
     },
     "execution_count": 6,
     "metadata": {},
     "output_type": "execute_result"
    }
   ],
   "source": [
    "df.columns"
   ]
  },
  {
   "cell_type": "code",
   "execution_count": 7,
   "metadata": {},
   "outputs": [
    {
     "data": {
      "text/html": [
       "<div>\n",
       "<style scoped>\n",
       "    .dataframe tbody tr th:only-of-type {\n",
       "        vertical-align: middle;\n",
       "    }\n",
       "\n",
       "    .dataframe tbody tr th {\n",
       "        vertical-align: top;\n",
       "    }\n",
       "\n",
       "    .dataframe thead th {\n",
       "        text-align: right;\n",
       "    }\n",
       "</style>\n",
       "<table border=\"1\" class=\"dataframe\">\n",
       "  <thead>\n",
       "    <tr style=\"text-align: right;\">\n",
       "      <th></th>\n",
       "      <th>Name</th>\n",
       "      <th>A</th>\n",
       "      <th>B</th>\n",
       "      <th>C</th>\n",
       "      <th>D</th>\n",
       "      <th>Alma Mater</th>\n",
       "      <th>Aura</th>\n",
       "      <th>Tag</th>\n",
       "      <th>Experience</th>\n",
       "      <th>Dissertation</th>\n",
       "    </tr>\n",
       "  </thead>\n",
       "  <tbody>\n",
       "    <tr>\n",
       "      <th>467</th>\n",
       "      <td>Maria Hoover</td>\n",
       "      <td>56.0078</td>\n",
       "      <td>18.3756</td>\n",
       "      <td>6.68491</td>\n",
       "      <td>42.9751</td>\n",
       "      <td>Harvard</td>\n",
       "      <td>Gold</td>\n",
       "      <td>orchestrate ubiquitous metrics</td>\n",
       "      <td>9</td>\n",
       "      <td>Defense and authority future true.</td>\n",
       "    </tr>\n",
       "    <tr>\n",
       "      <th>580</th>\n",
       "      <td>Loretta Bentley DVM</td>\n",
       "      <td>68.7863</td>\n",
       "      <td>14.0945</td>\n",
       "      <td>86.9353</td>\n",
       "      <td>38.4428</td>\n",
       "      <td>Yale</td>\n",
       "      <td>Crimson</td>\n",
       "      <td>expedite viral applications</td>\n",
       "      <td>5</td>\n",
       "      <td>Show environmental pass economy present treatm...</td>\n",
       "    </tr>\n",
       "    <tr>\n",
       "      <th>610</th>\n",
       "      <td>Sara Robinson</td>\n",
       "      <td>13.6175</td>\n",
       "      <td>61.6567</td>\n",
       "      <td>60.6935</td>\n",
       "      <td>1.07391</td>\n",
       "      <td>Stanford</td>\n",
       "      <td>Crimson</td>\n",
       "      <td>reinvent transparent paradigms</td>\n",
       "      <td>12</td>\n",
       "      <td>Us onto take easy new like surface.</td>\n",
       "    </tr>\n",
       "    <tr>\n",
       "      <th>531</th>\n",
       "      <td>Stephanie Mendoza</td>\n",
       "      <td>93.115</td>\n",
       "      <td>82.583</td>\n",
       "      <td>2.91382</td>\n",
       "      <td>48.2367</td>\n",
       "      <td>Duke</td>\n",
       "      <td>Gold</td>\n",
       "      <td>generate sticky e-services</td>\n",
       "      <td>8</td>\n",
       "      <td>Experience begin late art improve major.</td>\n",
       "    </tr>\n",
       "    <tr>\n",
       "      <th>726</th>\n",
       "      <td>Mariah Fitzgerald</td>\n",
       "      <td>83.329</td>\n",
       "      <td>67.2332</td>\n",
       "      <td>42.3851</td>\n",
       "      <td>77.5236</td>\n",
       "      <td>Columbia</td>\n",
       "      <td>Bronze</td>\n",
       "      <td>reinvent front-end channels</td>\n",
       "      <td>9</td>\n",
       "      <td>Situation picture budget one.</td>\n",
       "    </tr>\n",
       "    <tr>\n",
       "      <th>784</th>\n",
       "      <td>Louis Butler</td>\n",
       "      <td>8.70431</td>\n",
       "      <td>83.8431</td>\n",
       "      <td>23.1077</td>\n",
       "      <td>15.5551</td>\n",
       "      <td>Stanford</td>\n",
       "      <td>Infrared</td>\n",
       "      <td>transform frictionless web-readiness</td>\n",
       "      <td>5</td>\n",
       "      <td>Grow affect after theory one.</td>\n",
       "    </tr>\n",
       "    <tr>\n",
       "      <th>676</th>\n",
       "      <td>Brian Hunter</td>\n",
       "      <td>49.8987</td>\n",
       "      <td>57.8635</td>\n",
       "      <td>7.77112</td>\n",
       "      <td>55.518</td>\n",
       "      <td>Stanford</td>\n",
       "      <td>Infrared</td>\n",
       "      <td>benchmark 24/7 paradigms</td>\n",
       "      <td>13</td>\n",
       "      <td>Hard find piece page reveal its kind officer.</td>\n",
       "    </tr>\n",
       "    <tr>\n",
       "      <th>613</th>\n",
       "      <td>Christopher Hebert</td>\n",
       "      <td>10.5569</td>\n",
       "      <td>4.72942</td>\n",
       "      <td>90.4718</td>\n",
       "      <td>63.9205</td>\n",
       "      <td>Texas</td>\n",
       "      <td>Black</td>\n",
       "      <td>scale leading-edge users</td>\n",
       "      <td>12</td>\n",
       "      <td>East world west give a sure.</td>\n",
       "    </tr>\n",
       "    <tr>\n",
       "      <th>32</th>\n",
       "      <td>John Clark</td>\n",
       "      <td>30.5223</td>\n",
       "      <td>28.4521</td>\n",
       "      <td>94.87</td>\n",
       "      <td>80.6579</td>\n",
       "      <td>Columbia</td>\n",
       "      <td>Magenta</td>\n",
       "      <td>integrate back-end communities</td>\n",
       "      <td>13</td>\n",
       "      <td>As there anything tax some during board.</td>\n",
       "    </tr>\n",
       "    <tr>\n",
       "      <th>38</th>\n",
       "      <td>Ann Swanson</td>\n",
       "      <td>93.9437</td>\n",
       "      <td>11.4139</td>\n",
       "      <td>22.5102</td>\n",
       "      <td>43.1271</td>\n",
       "      <td>Berkeley</td>\n",
       "      <td>Infrared</td>\n",
       "      <td>maximize viral e-markets</td>\n",
       "      <td>4</td>\n",
       "      <td>First dinner significant key so choose few deep.</td>\n",
       "    </tr>\n",
       "  </tbody>\n",
       "</table>\n",
       "</div>"
      ],
      "text/plain": [
       "                    Name        A        B        C        D Alma Mater  \\\n",
       "467         Maria Hoover  56.0078  18.3756  6.68491  42.9751    Harvard   \n",
       "580  Loretta Bentley DVM  68.7863  14.0945  86.9353  38.4428       Yale   \n",
       "610        Sara Robinson  13.6175  61.6567  60.6935  1.07391   Stanford   \n",
       "531    Stephanie Mendoza   93.115   82.583  2.91382  48.2367       Duke   \n",
       "726    Mariah Fitzgerald   83.329  67.2332  42.3851  77.5236   Columbia   \n",
       "784         Louis Butler  8.70431  83.8431  23.1077  15.5551   Stanford   \n",
       "676         Brian Hunter  49.8987  57.8635  7.77112   55.518   Stanford   \n",
       "613   Christopher Hebert  10.5569  4.72942  90.4718  63.9205      Texas   \n",
       "32            John Clark  30.5223  28.4521    94.87  80.6579   Columbia   \n",
       "38           Ann Swanson  93.9437  11.4139  22.5102  43.1271   Berkeley   \n",
       "\n",
       "         Aura                                   Tag Experience  \\\n",
       "467      Gold        orchestrate ubiquitous metrics          9   \n",
       "580   Crimson           expedite viral applications          5   \n",
       "610   Crimson        reinvent transparent paradigms         12   \n",
       "531      Gold            generate sticky e-services          8   \n",
       "726    Bronze           reinvent front-end channels          9   \n",
       "784  Infrared  transform frictionless web-readiness          5   \n",
       "676  Infrared              benchmark 24/7 paradigms         13   \n",
       "613     Black              scale leading-edge users         12   \n",
       "32    Magenta        integrate back-end communities         13   \n",
       "38   Infrared              maximize viral e-markets          4   \n",
       "\n",
       "                                          Dissertation  \n",
       "467                 Defense and authority future true.  \n",
       "580  Show environmental pass economy present treatm...  \n",
       "610                Us onto take easy new like surface.  \n",
       "531           Experience begin late art improve major.  \n",
       "726                      Situation picture budget one.  \n",
       "784                      Grow affect after theory one.  \n",
       "676      Hard find piece page reveal its kind officer.  \n",
       "613                       East world west give a sure.  \n",
       "32            As there anything tax some during board.  \n",
       "38    First dinner significant key so choose few deep.  "
      ]
     },
     "execution_count": 7,
     "metadata": {},
     "output_type": "execute_result"
    }
   ],
   "source": [
    "df.sample(10)"
   ]
  },
  {
   "cell_type": "code",
   "execution_count": 8,
   "metadata": {},
   "outputs": [],
   "source": [
    "df = df.set_index(['Aura','Alma Mater'])"
   ]
  },
  {
   "cell_type": "code",
   "execution_count": 9,
   "metadata": {},
   "outputs": [
    {
     "data": {
      "text/html": [
       "<div>\n",
       "<style scoped>\n",
       "    .dataframe tbody tr th:only-of-type {\n",
       "        vertical-align: middle;\n",
       "    }\n",
       "\n",
       "    .dataframe tbody tr th {\n",
       "        vertical-align: top;\n",
       "    }\n",
       "\n",
       "    .dataframe thead th {\n",
       "        text-align: right;\n",
       "    }\n",
       "</style>\n",
       "<table border=\"1\" class=\"dataframe\">\n",
       "  <thead>\n",
       "    <tr style=\"text-align: right;\">\n",
       "      <th></th>\n",
       "      <th></th>\n",
       "      <th>Name</th>\n",
       "      <th>A</th>\n",
       "      <th>B</th>\n",
       "      <th>C</th>\n",
       "      <th>D</th>\n",
       "      <th>Tag</th>\n",
       "      <th>Experience</th>\n",
       "      <th>Dissertation</th>\n",
       "    </tr>\n",
       "    <tr>\n",
       "      <th>Aura</th>\n",
       "      <th>Alma Mater</th>\n",
       "      <th></th>\n",
       "      <th></th>\n",
       "      <th></th>\n",
       "      <th></th>\n",
       "      <th></th>\n",
       "      <th></th>\n",
       "      <th></th>\n",
       "      <th></th>\n",
       "    </tr>\n",
       "  </thead>\n",
       "  <tbody>\n",
       "    <tr>\n",
       "      <th>Crimson</th>\n",
       "      <th>Michighan</th>\n",
       "      <td>Kelly Carroll</td>\n",
       "      <td>41.1996</td>\n",
       "      <td>51.2396</td>\n",
       "      <td>23.522</td>\n",
       "      <td>54.1703</td>\n",
       "      <td>synergize cross-media interfaces</td>\n",
       "      <td>7</td>\n",
       "      <td>Dream why clearly series send.</td>\n",
       "    </tr>\n",
       "    <tr>\n",
       "      <th>Periwinkle</th>\n",
       "      <th>NYU</th>\n",
       "      <td>Christian Hicks Jr.</td>\n",
       "      <td>17.4884</td>\n",
       "      <td>75.563</td>\n",
       "      <td>43.9343</td>\n",
       "      <td>73.5622</td>\n",
       "      <td>matrix distributed schemas</td>\n",
       "      <td>5</td>\n",
       "      <td>Understand discuss film company guess president.</td>\n",
       "    </tr>\n",
       "    <tr>\n",
       "      <th>Magenta</th>\n",
       "      <th>Michighan</th>\n",
       "      <td>Nicole King</td>\n",
       "      <td>10.9297</td>\n",
       "      <td>93.0123</td>\n",
       "      <td>18.3428</td>\n",
       "      <td>69.7237</td>\n",
       "      <td>transition holistic synergies</td>\n",
       "      <td>14</td>\n",
       "      <td>Late sell late question born short size.</td>\n",
       "    </tr>\n",
       "    <tr>\n",
       "      <th>Infrared</th>\n",
       "      <th>UNC</th>\n",
       "      <td>Jessica Morrison DDS</td>\n",
       "      <td>71.1503</td>\n",
       "      <td>78.9456</td>\n",
       "      <td>53.6349</td>\n",
       "      <td>52.2453</td>\n",
       "      <td>architect world-class experiences</td>\n",
       "      <td>8</td>\n",
       "      <td>Western strategy agree knowledge box partner.</td>\n",
       "    </tr>\n",
       "    <tr>\n",
       "      <th>Beige</th>\n",
       "      <th>Columbia</th>\n",
       "      <td>Shelby Anderson</td>\n",
       "      <td>49.3204</td>\n",
       "      <td>15.2685</td>\n",
       "      <td>53.1292</td>\n",
       "      <td>56.7904</td>\n",
       "      <td>iterate compelling applications</td>\n",
       "      <td>13</td>\n",
       "      <td>Car occur next.</td>\n",
       "    </tr>\n",
       "  </tbody>\n",
       "</table>\n",
       "</div>"
      ],
      "text/plain": [
       "                                       Name        A        B        C  \\\n",
       "Aura       Alma Mater                                                    \n",
       "Crimson    Michighan          Kelly Carroll  41.1996  51.2396   23.522   \n",
       "Periwinkle NYU          Christian Hicks Jr.  17.4884   75.563  43.9343   \n",
       "Magenta    Michighan            Nicole King  10.9297  93.0123  18.3428   \n",
       "Infrared   UNC         Jessica Morrison DDS  71.1503  78.9456  53.6349   \n",
       "Beige      Columbia         Shelby Anderson  49.3204  15.2685  53.1292   \n",
       "\n",
       "                             D                                Tag Experience  \\\n",
       "Aura       Alma Mater                                                          \n",
       "Crimson    Michighan   54.1703   synergize cross-media interfaces          7   \n",
       "Periwinkle NYU         73.5622         matrix distributed schemas          5   \n",
       "Magenta    Michighan   69.7237      transition holistic synergies         14   \n",
       "Infrared   UNC         52.2453  architect world-class experiences          8   \n",
       "Beige      Columbia    56.7904    iterate compelling applications         13   \n",
       "\n",
       "                                                           Dissertation  \n",
       "Aura       Alma Mater                                                    \n",
       "Crimson    Michighan                     Dream why clearly series send.  \n",
       "Periwinkle NYU         Understand discuss film company guess president.  \n",
       "Magenta    Michighan           Late sell late question born short size.  \n",
       "Infrared   UNC            Western strategy agree knowledge box partner.  \n",
       "Beige      Columbia                                     Car occur next.  "
      ]
     },
     "execution_count": 9,
     "metadata": {},
     "output_type": "execute_result"
    }
   ],
   "source": [
    "df.sample(5)"
   ]
  },
  {
   "cell_type": "code",
   "execution_count": 11,
   "metadata": {},
   "outputs": [],
   "source": [
    "exp_df = df.sort_values(by=['Experience'],ascending=False)"
   ]
  },
  {
   "cell_type": "code",
   "execution_count": 12,
   "metadata": {},
   "outputs": [],
   "source": [
    "exp_dfT = exp_df.transpose()"
   ]
  },
  {
   "cell_type": "code",
   "execution_count": 14,
   "metadata": {},
   "outputs": [
    {
     "data": {
      "text/html": [
       "<div>\n",
       "<style scoped>\n",
       "    .dataframe tbody tr th:only-of-type {\n",
       "        vertical-align: middle;\n",
       "    }\n",
       "\n",
       "    .dataframe tbody tr th {\n",
       "        vertical-align: top;\n",
       "    }\n",
       "\n",
       "    .dataframe thead th {\n",
       "        text-align: right;\n",
       "    }\n",
       "</style>\n",
       "<table border=\"1\" class=\"dataframe\">\n",
       "  <thead>\n",
       "    <tr style=\"text-align: right;\">\n",
       "      <th>Alma Mater</th>\n",
       "      <th>Texas</th>\n",
       "      <th>Texas</th>\n",
       "      <th>Texas</th>\n",
       "      <th>Texas</th>\n",
       "      <th>Texas</th>\n",
       "    </tr>\n",
       "  </thead>\n",
       "  <tbody>\n",
       "    <tr>\n",
       "      <th>Name</th>\n",
       "      <td>Kenneth Sharp</td>\n",
       "      <td>Christopher Cochran</td>\n",
       "      <td>Teresa Wagner</td>\n",
       "      <td>Lisa Andrade</td>\n",
       "      <td>Kimberly Johnson</td>\n",
       "    </tr>\n",
       "    <tr>\n",
       "      <th>A</th>\n",
       "      <td>47.4431</td>\n",
       "      <td>54.2489</td>\n",
       "      <td>79.8233</td>\n",
       "      <td>96.5124</td>\n",
       "      <td>70.3232</td>\n",
       "    </tr>\n",
       "    <tr>\n",
       "      <th>B</th>\n",
       "      <td>7.84755</td>\n",
       "      <td>85.4425</td>\n",
       "      <td>77.0134</td>\n",
       "      <td>83.6655</td>\n",
       "      <td>5.11614</td>\n",
       "    </tr>\n",
       "    <tr>\n",
       "      <th>C</th>\n",
       "      <td>47.5636</td>\n",
       "      <td>96.7349</td>\n",
       "      <td>53.2126</td>\n",
       "      <td>87.8999</td>\n",
       "      <td>25.5155</td>\n",
       "    </tr>\n",
       "    <tr>\n",
       "      <th>D</th>\n",
       "      <td>34.8981</td>\n",
       "      <td>27.1211</td>\n",
       "      <td>67.2128</td>\n",
       "      <td>56.7891</td>\n",
       "      <td>81.1241</td>\n",
       "    </tr>\n",
       "    <tr>\n",
       "      <th>Tag</th>\n",
       "      <td>empower transparent vortals</td>\n",
       "      <td>re-contextualize dot-com systems</td>\n",
       "      <td>unleash interactive schemas</td>\n",
       "      <td>benchmark virtual supply-chains</td>\n",
       "      <td>visualize transparent infrastructures</td>\n",
       "    </tr>\n",
       "    <tr>\n",
       "      <th>Experience</th>\n",
       "      <td>14</td>\n",
       "      <td>11</td>\n",
       "      <td>8</td>\n",
       "      <td>5</td>\n",
       "      <td>5</td>\n",
       "    </tr>\n",
       "    <tr>\n",
       "      <th>Dissertation</th>\n",
       "      <td>Lose role contain return hundred local.</td>\n",
       "      <td>Dark action animal course sense prepare send.</td>\n",
       "      <td>Painting again force amount.</td>\n",
       "      <td>Or chair cover wear.</td>\n",
       "      <td>Partner draw people true agent.</td>\n",
       "    </tr>\n",
       "  </tbody>\n",
       "</table>\n",
       "</div>"
      ],
      "text/plain": [
       "Alma Mater                                      Texas  \\\n",
       "Name                                    Kenneth Sharp   \n",
       "A                                             47.4431   \n",
       "B                                             7.84755   \n",
       "C                                             47.5636   \n",
       "D                                             34.8981   \n",
       "Tag                       empower transparent vortals   \n",
       "Experience                                         14   \n",
       "Dissertation  Lose role contain return hundred local.   \n",
       "\n",
       "Alma Mater                                            Texas  \\\n",
       "Name                                    Christopher Cochran   \n",
       "A                                                   54.2489   \n",
       "B                                                   85.4425   \n",
       "C                                                   96.7349   \n",
       "D                                                   27.1211   \n",
       "Tag                        re-contextualize dot-com systems   \n",
       "Experience                                               11   \n",
       "Dissertation  Dark action animal course sense prepare send.   \n",
       "\n",
       "Alma Mater                           Texas                            Texas  \\\n",
       "Name                         Teresa Wagner                     Lisa Andrade   \n",
       "A                                  79.8233                          96.5124   \n",
       "B                                  77.0134                          83.6655   \n",
       "C                                  53.2126                          87.8999   \n",
       "D                                  67.2128                          56.7891   \n",
       "Tag            unleash interactive schemas  benchmark virtual supply-chains   \n",
       "Experience                               8                                5   \n",
       "Dissertation  Painting again force amount.             Or chair cover wear.   \n",
       "\n",
       "Alma Mater                                    Texas  \n",
       "Name                               Kimberly Johnson  \n",
       "A                                           70.3232  \n",
       "B                                           5.11614  \n",
       "C                                           25.5155  \n",
       "D                                           81.1241  \n",
       "Tag           visualize transparent infrastructures  \n",
       "Experience                                        5  \n",
       "Dissertation        Partner draw people true agent.  "
      ]
     },
     "execution_count": 14,
     "metadata": {},
     "output_type": "execute_result"
    }
   ],
   "source": [
    "exp_dfT['Crimson']['Texas']"
   ]
  },
  {
   "cell_type": "code",
   "execution_count": 155,
   "metadata": {},
   "outputs": [
    {
     "data": {
      "text/plain": [
       "<matplotlib.axes._subplots.AxesSubplot at 0x1279aa4d0>"
      ]
     },
     "execution_count": 155,
     "metadata": {},
     "output_type": "execute_result"
    },
    {
     "data": {
      "image/png": "[encoded data removed]",
      "text/plain": [
       "<Figure size 432x288 with 1 Axes>"
      ]
     },
     "metadata": {
      "needs_background": "light"
     },
     "output_type": "display_data"
    }
   ],
   "source": [
    "sns.distplot(df['Experience'],bins=25)"
   ]
  },
  {
   "cell_type": "code",
   "execution_count": 156,
   "metadata": {},
   "outputs": [
    {
     "data": {
      "text/plain": [
       "Alma Mater\n",
       "UCLA         43.802049\n",
       "Yale         44.190816\n",
       "Duke         45.953084\n",
       "Columbia     47.904132\n",
       "NYU          48.396542\n",
       "MIT          48.442391\n",
       "Texas        48.671994\n",
       "Harvard      49.209658\n",
       "Michighan    49.596439\n",
       "UNC          49.919377\n",
       "Princeton    51.961015\n",
       "Berkeley     52.030018\n",
       "Stanford     52.317664\n",
       "Name: A, dtype: float64"
      ]
     },
     "execution_count": 156,
     "metadata": {},
     "output_type": "execute_result"
    }
   ],
   "source": [
    "df['A'] = df['A'].astype(float)\n",
    "df.groupby(['Alma Mater'])['A'].mean().sort_values()"
   ]
  },
  {
   "cell_type": "code",
   "execution_count": 158,
   "metadata": {},
   "outputs": [
    {
     "data": {
      "text/plain": [
       "Index(['Name', 'A', 'B', 'C', 'D', 'Tag', 'Experience', 'Dissertation'], dtype='object')"
      ]
     },
     "execution_count": 158,
     "metadata": {},
     "output_type": "execute_result"
    }
   ],
   "source": [
    "df.columns"
   ]
  },
  {
   "cell_type": "code",
   "execution_count": 159,
   "metadata": {},
   "outputs": [],
   "source": [
    "senior = df[df['Experience'] > 12]"
   ]
  },
  {
   "cell_type": "code",
   "execution_count": 160,
   "metadata": {},
   "outputs": [
    {
     "data": {
      "text/plain": [
       "(157, 8)"
      ]
     },
     "execution_count": 160,
     "metadata": {},
     "output_type": "execute_result"
    }
   ],
   "source": [
    "senior.shape"
   ]
  },
  {
   "cell_type": "code",
   "execution_count": 162,
   "metadata": {},
   "outputs": [
    {
     "data": {
      "text/plain": [
       "<matplotlib.axes._subplots.AxesSubplot at 0x128a8cd50>"
      ]
     },
     "execution_count": 162,
     "metadata": {},
     "output_type": "execute_result"
    },
    {
     "data": {
      "image/png": "[encoded data removed]",
      "text/plain": [
       "<Figure size 432x288 with 1 Axes>"
      ]
     },
     "metadata": {
      "needs_background": "light"
     },
     "output_type": "display_data"
    }
   ],
   "source": [
    "sns.distplot(senior['B'])"
   ]
  },
  {
   "cell_type": "code",
   "execution_count": 175,
   "metadata": {},
   "outputs": [],
   "source": [
    "longhorns = df[df['Alma Mater'] == 'Texas']"
   ]
  },
  {
   "cell_type": "code",
   "execution_count": 176,
   "metadata": {},
   "outputs": [
    {
     "data": {
      "text/plain": [
       "<matplotlib.axes._subplots.AxesSubplot at 0x128bfa310>"
      ]
     },
     "execution_count": 176,
     "metadata": {},
     "output_type": "execute_result"
    },
    {
     "data": {
      "image/png": "[encoded data removed]",
      "text/plain": [
       "<Figure size 432x288 with 1 Axes>"
      ]
     },
     "metadata": {
      "needs_background": "light"
     },
     "output_type": "display_data"
    }
   ],
   "source": [
    "sns.distplot(longhorns['Experience'])"
   ]
  },
  {
   "cell_type": "code",
   "execution_count": 177,
   "metadata": {},
   "outputs": [
    {
     "data": {
      "text/plain": [
       "(68, 9)"
      ]
     },
     "execution_count": 177,
     "metadata": {},
     "output_type": "execute_result"
    }
   ],
   "source": [
    "longhorns.shape"
   ]
  },
  {
   "cell_type": "code",
   "execution_count": 180,
   "metadata": {},
   "outputs": [
    {
     "data": {
      "text/plain": [
       "Index(['Name', 'A', 'B', 'C', 'D', 'Alma Mater', 'Tag', 'Experience',\n",
       "       'Dissertation'],\n",
       "      dtype='object')"
      ]
     },
     "execution_count": 180,
     "metadata": {},
     "output_type": "execute_result"
    }
   ],
   "source": [
    "longhorns.columns"
   ]
  },
  {
   "cell_type": "code",
   "execution_count": 186,
   "metadata": {},
   "outputs": [
    {
     "data": {
      "text/html": [
       "<div>\n",
       "<style scoped>\n",
       "    .dataframe tbody tr th:only-of-type {\n",
       "        vertical-align: middle;\n",
       "    }\n",
       "\n",
       "    .dataframe tbody tr th {\n",
       "        vertical-align: top;\n",
       "    }\n",
       "\n",
       "    .dataframe thead th {\n",
       "        text-align: right;\n",
       "    }\n",
       "</style>\n",
       "<table border=\"1\" class=\"dataframe\">\n",
       "  <thead>\n",
       "    <tr style=\"text-align: right;\">\n",
       "      <th></th>\n",
       "      <th>Name</th>\n",
       "      <th>A</th>\n",
       "      <th>B</th>\n",
       "      <th>C</th>\n",
       "      <th>D</th>\n",
       "      <th>Alma Mater</th>\n",
       "      <th>Tag</th>\n",
       "      <th>Experience</th>\n",
       "      <th>Dissertation</th>\n",
       "    </tr>\n",
       "    <tr>\n",
       "      <th>Aura</th>\n",
       "      <th></th>\n",
       "      <th></th>\n",
       "      <th></th>\n",
       "      <th></th>\n",
       "      <th></th>\n",
       "      <th></th>\n",
       "      <th></th>\n",
       "      <th></th>\n",
       "      <th></th>\n",
       "    </tr>\n",
       "  </thead>\n",
       "  <tbody>\n",
       "    <tr>\n",
       "      <th>Emerald</th>\n",
       "      <td>Edwin Price DDS</td>\n",
       "      <td>1.40268</td>\n",
       "      <td>66.6466</td>\n",
       "      <td>65.5073</td>\n",
       "      <td>34.3486</td>\n",
       "      <td>Texas</td>\n",
       "      <td>maximize next-generation interfaces</td>\n",
       "      <td>7</td>\n",
       "      <td>Your prepare thought share if.</td>\n",
       "    </tr>\n",
       "    <tr>\n",
       "      <th>Gold</th>\n",
       "      <td>Sarah Esparza</td>\n",
       "      <td>1.79159</td>\n",
       "      <td>78.9075</td>\n",
       "      <td>65.9505</td>\n",
       "      <td>19.973</td>\n",
       "      <td>Texas</td>\n",
       "      <td>mesh compelling metrics</td>\n",
       "      <td>13</td>\n",
       "      <td>Responsibility team market task.</td>\n",
       "    </tr>\n",
       "    <tr>\n",
       "      <th>Silver</th>\n",
       "      <td>Megan Lopez</td>\n",
       "      <td>3.90541</td>\n",
       "      <td>61.0341</td>\n",
       "      <td>62.67</td>\n",
       "      <td>28.1225</td>\n",
       "      <td>Texas</td>\n",
       "      <td>synergize compelling e-services</td>\n",
       "      <td>9</td>\n",
       "      <td>Poor consumer during charge group wind.</td>\n",
       "    </tr>\n",
       "    <tr>\n",
       "      <th>Gold</th>\n",
       "      <td>Jonathan Ruiz</td>\n",
       "      <td>6.6563</td>\n",
       "      <td>48.9128</td>\n",
       "      <td>6.32885</td>\n",
       "      <td>63.7711</td>\n",
       "      <td>Texas</td>\n",
       "      <td>facilitate dot-com communities</td>\n",
       "      <td>3</td>\n",
       "      <td>Challenge say their skin drive alone attack wa...</td>\n",
       "    </tr>\n",
       "    <tr>\n",
       "      <th>Periwinkle</th>\n",
       "      <td>Richard Sutton</td>\n",
       "      <td>7.63518</td>\n",
       "      <td>44.9256</td>\n",
       "      <td>80.5631</td>\n",
       "      <td>8.36159</td>\n",
       "      <td>Texas</td>\n",
       "      <td>empower real-time ROI</td>\n",
       "      <td>6</td>\n",
       "      <td>Guess walk look east.</td>\n",
       "    </tr>\n",
       "    <tr>\n",
       "      <th>...</th>\n",
       "      <td>...</td>\n",
       "      <td>...</td>\n",
       "      <td>...</td>\n",
       "      <td>...</td>\n",
       "      <td>...</td>\n",
       "      <td>...</td>\n",
       "      <td>...</td>\n",
       "      <td>...</td>\n",
       "      <td>...</td>\n",
       "    </tr>\n",
       "    <tr>\n",
       "      <th>Crimson</th>\n",
       "      <td>Michelle Johnson</td>\n",
       "      <td>90.9375</td>\n",
       "      <td>6.72337</td>\n",
       "      <td>24.3964</td>\n",
       "      <td>32.5899</td>\n",
       "      <td>Texas</td>\n",
       "      <td>drive dynamic paradigms</td>\n",
       "      <td>8</td>\n",
       "      <td>Role manager half girl.</td>\n",
       "    </tr>\n",
       "    <tr>\n",
       "      <th>Crimson</th>\n",
       "      <td>Holly Lyons</td>\n",
       "      <td>91.9813</td>\n",
       "      <td>56.4996</td>\n",
       "      <td>61.1386</td>\n",
       "      <td>59.72</td>\n",
       "      <td>Texas</td>\n",
       "      <td>grow cross-media channels</td>\n",
       "      <td>14</td>\n",
       "      <td>Doctor use maybe health personal view respond.</td>\n",
       "    </tr>\n",
       "    <tr>\n",
       "      <th>Crimson</th>\n",
       "      <td>Barry Monroe</td>\n",
       "      <td>92.483</td>\n",
       "      <td>2.38666</td>\n",
       "      <td>53.5122</td>\n",
       "      <td>3.87468</td>\n",
       "      <td>Texas</td>\n",
       "      <td>morph scalable e-services</td>\n",
       "      <td>7</td>\n",
       "      <td>Natural response member true goal company trou...</td>\n",
       "    </tr>\n",
       "    <tr>\n",
       "      <th>Bronze</th>\n",
       "      <td>Miranda Washington</td>\n",
       "      <td>98.5592</td>\n",
       "      <td>93.7879</td>\n",
       "      <td>25.7185</td>\n",
       "      <td>59.9491</td>\n",
       "      <td>Texas</td>\n",
       "      <td>exploit cross-media e-tailers</td>\n",
       "      <td>7</td>\n",
       "      <td>Three computer everybody grow word when.</td>\n",
       "    </tr>\n",
       "    <tr>\n",
       "      <th>Emerald</th>\n",
       "      <td>Kathleen Hines</td>\n",
       "      <td>99.9331</td>\n",
       "      <td>41.6462</td>\n",
       "      <td>45.4949</td>\n",
       "      <td>98.9833</td>\n",
       "      <td>Texas</td>\n",
       "      <td>generate 24/365 users</td>\n",
       "      <td>8</td>\n",
       "      <td>Rest accept too civil wind public drug.</td>\n",
       "    </tr>\n",
       "  </tbody>\n",
       "</table>\n",
       "<p>68 rows × 9 columns</p>\n",
       "</div>"
      ],
      "text/plain": [
       "                          Name        A        B        C        D Alma Mater  \\\n",
       "Aura                                                                            \n",
       "Emerald        Edwin Price DDS  1.40268  66.6466  65.5073  34.3486      Texas   \n",
       "Gold             Sarah Esparza  1.79159  78.9075  65.9505   19.973      Texas   \n",
       "Silver             Megan Lopez  3.90541  61.0341    62.67  28.1225      Texas   \n",
       "Gold             Jonathan Ruiz   6.6563  48.9128  6.32885  63.7711      Texas   \n",
       "Periwinkle      Richard Sutton  7.63518  44.9256  80.5631  8.36159      Texas   \n",
       "...                        ...      ...      ...      ...      ...        ...   \n",
       "Crimson       Michelle Johnson  90.9375  6.72337  24.3964  32.5899      Texas   \n",
       "Crimson            Holly Lyons  91.9813  56.4996  61.1386    59.72      Texas   \n",
       "Crimson           Barry Monroe   92.483  2.38666  53.5122  3.87468      Texas   \n",
       "Bronze      Miranda Washington  98.5592  93.7879  25.7185  59.9491      Texas   \n",
       "Emerald         Kathleen Hines  99.9331  41.6462  45.4949  98.9833      Texas   \n",
       "\n",
       "                                            Tag Experience  \\\n",
       "Aura                                                         \n",
       "Emerald     maximize next-generation interfaces          7   \n",
       "Gold                    mesh compelling metrics         13   \n",
       "Silver          synergize compelling e-services          9   \n",
       "Gold             facilitate dot-com communities          3   \n",
       "Periwinkle                empower real-time ROI          6   \n",
       "...                                         ...        ...   \n",
       "Crimson                 drive dynamic paradigms          8   \n",
       "Crimson               grow cross-media channels         14   \n",
       "Crimson               morph scalable e-services          7   \n",
       "Bronze            exploit cross-media e-tailers          7   \n",
       "Emerald                   generate 24/365 users          8   \n",
       "\n",
       "                                                 Dissertation  \n",
       "Aura                                                           \n",
       "Emerald                        Your prepare thought share if.  \n",
       "Gold                         Responsibility team market task.  \n",
       "Silver                Poor consumer during charge group wind.  \n",
       "Gold        Challenge say their skin drive alone attack wa...  \n",
       "Periwinkle                              Guess walk look east.  \n",
       "...                                                       ...  \n",
       "Crimson                               Role manager half girl.  \n",
       "Crimson        Doctor use maybe health personal view respond.  \n",
       "Crimson     Natural response member true goal company trou...  \n",
       "Bronze               Three computer everybody grow word when.  \n",
       "Emerald               Rest accept too civil wind public drug.  \n",
       "\n",
       "[68 rows x 9 columns]"
      ]
     },
     "execution_count": 186,
     "metadata": {},
     "output_type": "execute_result"
    }
   ],
   "source": [
    "longhorns.sort_values('A')"
   ]
  },
  {
   "cell_type": "code",
   "execution_count": 187,
   "metadata": {},
   "outputs": [],
   "source": [
    "# Kathleen Hines is a rockstar"
   ]
  },
  {
   "cell_type": "code",
   "execution_count": null,
   "metadata": {},
   "outputs": [],
   "source": []
  }
 ],
 "metadata": {
  "kernelspec": {
   "display_name": "Python 3",
   "language": "python",
   "name": "python3"
  },
  "language_info": {
   "codemirror_mode": {
    "name": "ipython",
    "version": 3
   },
   "file_extension": ".py",
   "mimetype": "text/x-python",
   "name": "python",
   "nbconvert_exporter": "python",
   "pygments_lexer": "ipython3",
   "version": "3.7.6"
  },
  "varInspector": {
   "cols": {
    "lenName": 16,
    "lenType": 16,
    "lenVar": 40
   },
   "kernels_config": {
    "python": {
     "delete_cmd_postfix": "",
     "delete_cmd_prefix": "del ",
     "library": "var_list.py",
     "varRefreshCmd": "print(var_dic_list())"
    },
    "r": {
     "delete_cmd_postfix": ") ",
     "delete_cmd_prefix": "rm(",
     "library": "var_list.r",
     "varRefreshCmd": "cat(var_dic_list()) "
    }
   },
   "types_to_exclude": [
    "module",
    "function",
    "builtin_function_or_method",
    "instance",
    "_Feature"
   ],
   "window_display": false
  }
 },
 "nbformat": 4,
 "nbformat_minor": 4
}
