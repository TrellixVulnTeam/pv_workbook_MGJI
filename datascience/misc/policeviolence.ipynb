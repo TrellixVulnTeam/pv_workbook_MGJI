{
 "cells": [
  {
   "cell_type": "code",
   "execution_count": 12,
   "metadata": {},
   "outputs": [],
   "source": [
    "import pandas as pd \n",
    "import seaborn as sns"
   ]
  },
  {
   "cell_type": "code",
   "execution_count": 2,
   "metadata": {},
   "outputs": [],
   "source": [
    "pv_df = pd.read_excel('/Users/toddhendricks/Downloads/MPVDatasetDownload.xlsx')"
   ]
  },
  {
   "cell_type": "code",
   "execution_count": 5,
   "metadata": {},
   "outputs": [
    {
     "data": {
      "text/plain": [
       "Index(['Victim's name', 'Victim's age', 'Victim's gender', 'Victim's race',\n",
       "       'URL of image of victim', 'Date of Incident (month/day/year)',\n",
       "       'Street Address of Incident', 'City', 'State', 'Zipcode', 'County',\n",
       "       'Agency responsible for death', 'ORI Agency Identifier (if available)',\n",
       "       'Cause of death',\n",
       "       'A brief description of the circumstances surrounding the death',\n",
       "       'Official disposition of death (justified or other)',\n",
       "       'Criminal Charges?',\n",
       "       'Link to news article or photo of official document',\n",
       "       'Symptoms of mental illness?', 'Unarmed/Did Not Have an Actual Weapon',\n",
       "       'Alleged Weapon or Object (Source: WaPo and Review of Cases Not Included in WaPo Database)',\n",
       "       'Alleged Threat Level (Source: WaPo)', 'Fleeing (Source: WaPo)',\n",
       "       'Body Camera (Source: WaPo)', 'WaPo ID (If included in WaPo database)',\n",
       "       'Off-Duty Killing?',\n",
       "       'Geography (via Trulia methodology based on zipcode population density: http://jedkolko.com/wp-content/uploads/2015/05/full-ZCTA-urban-suburban-rural-classification.xlsx )',\n",
       "       'MPV ID', 'Fatal Encounters ID'],\n",
       "      dtype='object')"
      ]
     },
     "execution_count": 5,
     "metadata": {},
     "output_type": "execute_result"
    }
   ],
   "source": [
    "pv_df.columns"
   ]
  },
  {
   "cell_type": "code",
   "execution_count": 7,
   "metadata": {},
   "outputs": [],
   "source": [
    "charged = pv_df['Official disposition of death (justified or other)'].str.contains('Charged')"
   ]
  },
  {
   "cell_type": "code",
   "execution_count": 10,
   "metadata": {},
   "outputs": [
    {
     "data": {
      "text/plain": [
       "False    0.984872\n",
       "True     0.015128\n",
       "Name: Official disposition of death (justified or other), dtype: float64"
      ]
     },
     "execution_count": 10,
     "metadata": {},
     "output_type": "execute_result"
    }
   ],
   "source": [
    "charged.value_counts(normalize=True)"
   ]
  },
  {
   "cell_type": "code",
   "execution_count": 16,
   "metadata": {},
   "outputs": [],
   "source": [
    "flee = pv_df['Fleeing (Source: WaPo)'].value_counts()"
   ]
  },
  {
   "cell_type": "code",
   "execution_count": 21,
   "metadata": {},
   "outputs": [],
   "source": [
    "threat = pv_df['Alleged Threat Level (Source: WaPo)'].value_counts(normalize=True)"
   ]
  },
  {
   "cell_type": "code",
   "execution_count": 24,
   "metadata": {},
   "outputs": [
    {
     "data": {
      "text/plain": [
       "Los Angeles Police Department               128\n",
       "Phoenix Police Department                   116\n",
       "Los Angeles County Sheriff's Department      98\n",
       "Chicago Police Department                    79\n",
       "New York Police Department                   78\n",
       "Houston Police Department                    70\n",
       "Las Vegas Metropolitan Police Department     65\n",
       "U.S. Marshals Service                        63\n",
       "San Antonio Police Department                51\n",
       "Miami-Dade Police Department                 49\n",
       "Name: Agency responsible for death, dtype: int64"
      ]
     },
     "execution_count": 24,
     "metadata": {},
     "output_type": "execute_result"
    }
   ],
   "source": [
    "pv_df['Agency responsible for death'].value_counts().nlargest(10)"
   ]
  },
  {
   "cell_type": "code",
   "execution_count": 25,
   "metadata": {},
   "outputs": [],
   "source": [
    "la_sheriff_df = pv_df[pv_df['Agency responsible for death'] == 'Los Angeles County Sheriff\\'s Department']"
   ]
  },
  {
   "cell_type": "code",
   "execution_count": 26,
   "metadata": {},
   "outputs": [
    {
     "data": {
      "text/html": [
       "<div>\n",
       "<style scoped>\n",
       "    .dataframe tbody tr th:only-of-type {\n",
       "        vertical-align: middle;\n",
       "    }\n",
       "\n",
       "    .dataframe tbody tr th {\n",
       "        vertical-align: top;\n",
       "    }\n",
       "\n",
       "    .dataframe thead th {\n",
       "        text-align: right;\n",
       "    }\n",
       "</style>\n",
       "<table border=\"1\" class=\"dataframe\">\n",
       "  <thead>\n",
       "    <tr style=\"text-align: right;\">\n",
       "      <th></th>\n",
       "      <th>Victim's name</th>\n",
       "      <th>Victim's age</th>\n",
       "      <th>Victim's gender</th>\n",
       "      <th>Victim's race</th>\n",
       "      <th>URL of image of victim</th>\n",
       "      <th>Date of Incident (month/day/year)</th>\n",
       "      <th>Street Address of Incident</th>\n",
       "      <th>City</th>\n",
       "      <th>State</th>\n",
       "      <th>Zipcode</th>\n",
       "      <th>...</th>\n",
       "      <th>Unarmed/Did Not Have an Actual Weapon</th>\n",
       "      <th>Alleged Weapon or Object (Source: WaPo and Review of Cases Not Included in WaPo Database)</th>\n",
       "      <th>Alleged Threat Level (Source: WaPo)</th>\n",
       "      <th>Fleeing (Source: WaPo)</th>\n",
       "      <th>Body Camera (Source: WaPo)</th>\n",
       "      <th>WaPo ID (If included in WaPo database)</th>\n",
       "      <th>Off-Duty Killing?</th>\n",
       "      <th>Geography (via Trulia methodology based on zipcode population density: http://jedkolko.com/wp-content/uploads/2015/05/full-ZCTA-urban-suburban-rural-classification.xlsx )</th>\n",
       "      <th>MPV ID</th>\n",
       "      <th>Fatal Encounters ID</th>\n",
       "    </tr>\n",
       "  </thead>\n",
       "  <tbody>\n",
       "    <tr>\n",
       "      <th>260</th>\n",
       "      <td>Name withheld by police</td>\n",
       "      <td>Unknown</td>\n",
       "      <td>Male</td>\n",
       "      <td>White</td>\n",
       "      <td>NaN</td>\n",
       "      <td>2020-05-29</td>\n",
       "      <td>20th St W &amp; W Ave K</td>\n",
       "      <td>Lancaster</td>\n",
       "      <td>CA</td>\n",
       "      <td>93534.0</td>\n",
       "      <td>...</td>\n",
       "      <td>Unarmed/Did Not Have an Actual Weapon</td>\n",
       "      <td>toy weapon</td>\n",
       "      <td>attack</td>\n",
       "      <td>NaN</td>\n",
       "      <td>No</td>\n",
       "      <td>5845.0</td>\n",
       "      <td>NaN</td>\n",
       "      <td>Suburban</td>\n",
       "      <td>8177.0</td>\n",
       "      <td>28164.0</td>\n",
       "    </tr>\n",
       "    <tr>\n",
       "      <th>275</th>\n",
       "      <td>Robert Avitia</td>\n",
       "      <td>18</td>\n",
       "      <td>Male</td>\n",
       "      <td>Hispanic</td>\n",
       "      <td>NaN</td>\n",
       "      <td>2020-05-26</td>\n",
       "      <td>1100 West 109th Place</td>\n",
       "      <td>Los Angeles</td>\n",
       "      <td>CA</td>\n",
       "      <td>90044.0</td>\n",
       "      <td>...</td>\n",
       "      <td>Allegedly Armed</td>\n",
       "      <td>gun</td>\n",
       "      <td>attack</td>\n",
       "      <td>Foot</td>\n",
       "      <td>No</td>\n",
       "      <td>5882.0</td>\n",
       "      <td>NaN</td>\n",
       "      <td>Urban</td>\n",
       "      <td>8152.0</td>\n",
       "      <td>28130.0</td>\n",
       "    </tr>\n",
       "    <tr>\n",
       "      <th>580</th>\n",
       "      <td>Raymundo Aaron Ceja</td>\n",
       "      <td>32</td>\n",
       "      <td>Male</td>\n",
       "      <td>Hispanic</td>\n",
       "      <td>https://fatalencounters.org/wp-content/uploads...</td>\n",
       "      <td>2020-03-01</td>\n",
       "      <td>Magic Mountain Pkwy and Valencia Blvd.</td>\n",
       "      <td>Santa Clarita</td>\n",
       "      <td>CA</td>\n",
       "      <td>91355.0</td>\n",
       "      <td>...</td>\n",
       "      <td>Allegedly Armed</td>\n",
       "      <td>gun</td>\n",
       "      <td>other</td>\n",
       "      <td>Not fleeing</td>\n",
       "      <td>No</td>\n",
       "      <td>5581.0</td>\n",
       "      <td>NaN</td>\n",
       "      <td>Suburban</td>\n",
       "      <td>7849.0</td>\n",
       "      <td>27638.0</td>\n",
       "    </tr>\n",
       "    <tr>\n",
       "      <th>822</th>\n",
       "      <td>Name withheld by police</td>\n",
       "      <td>Unknown</td>\n",
       "      <td>Male</td>\n",
       "      <td>Hispanic</td>\n",
       "      <td>NaN</td>\n",
       "      <td>2019-12-16</td>\n",
       "      <td>3600 4th St</td>\n",
       "      <td>Los Angeles</td>\n",
       "      <td>CA</td>\n",
       "      <td>90020.0</td>\n",
       "      <td>...</td>\n",
       "      <td>Allegedly Armed</td>\n",
       "      <td>gun</td>\n",
       "      <td>attack</td>\n",
       "      <td>Foot</td>\n",
       "      <td>No</td>\n",
       "      <td>5292.0</td>\n",
       "      <td>NaN</td>\n",
       "      <td>Urban</td>\n",
       "      <td>7606.0</td>\n",
       "      <td>27163.0</td>\n",
       "    </tr>\n",
       "    <tr>\n",
       "      <th>917</th>\n",
       "      <td>Omar Enrique Garcia</td>\n",
       "      <td>37</td>\n",
       "      <td>Male</td>\n",
       "      <td>Hispanic</td>\n",
       "      <td>NaN</td>\n",
       "      <td>2019-11-13</td>\n",
       "      <td>4211 Dozier St</td>\n",
       "      <td>Los Angeles</td>\n",
       "      <td>CA</td>\n",
       "      <td>90063.0</td>\n",
       "      <td>...</td>\n",
       "      <td>Allegedly Armed</td>\n",
       "      <td>sword</td>\n",
       "      <td>other</td>\n",
       "      <td>Foot</td>\n",
       "      <td>No</td>\n",
       "      <td>5203.0</td>\n",
       "      <td>NaN</td>\n",
       "      <td>Urban</td>\n",
       "      <td>7510.0</td>\n",
       "      <td>27014.0</td>\n",
       "    </tr>\n",
       "  </tbody>\n",
       "</table>\n",
       "<p>5 rows × 29 columns</p>\n",
       "</div>"
      ],
      "text/plain": [
       "               Victim's name Victim's age Victim's gender Victim's race  \\\n",
       "260  Name withheld by police      Unknown            Male         White   \n",
       "275            Robert Avitia           18            Male      Hispanic   \n",
       "580      Raymundo Aaron Ceja           32            Male      Hispanic   \n",
       "822  Name withheld by police      Unknown            Male      Hispanic   \n",
       "917      Omar Enrique Garcia           37            Male      Hispanic   \n",
       "\n",
       "                                URL of image of victim  \\\n",
       "260                                                NaN   \n",
       "275                                                NaN   \n",
       "580  https://fatalencounters.org/wp-content/uploads...   \n",
       "822                                                NaN   \n",
       "917                                                NaN   \n",
       "\n",
       "    Date of Incident (month/day/year)              Street Address of Incident  \\\n",
       "260                        2020-05-29                     20th St W & W Ave K   \n",
       "275                        2020-05-26                   1100 West 109th Place   \n",
       "580                        2020-03-01  Magic Mountain Pkwy and Valencia Blvd.   \n",
       "822                        2019-12-16                             3600 4th St   \n",
       "917                        2019-11-13                          4211 Dozier St   \n",
       "\n",
       "              City State  Zipcode  ...  Unarmed/Did Not Have an Actual Weapon  \\\n",
       "260      Lancaster    CA  93534.0  ...  Unarmed/Did Not Have an Actual Weapon   \n",
       "275    Los Angeles    CA  90044.0  ...                        Allegedly Armed   \n",
       "580  Santa Clarita    CA  91355.0  ...                        Allegedly Armed   \n",
       "822    Los Angeles    CA  90020.0  ...                        Allegedly Armed   \n",
       "917    Los Angeles    CA  90063.0  ...                        Allegedly Armed   \n",
       "\n",
       "    Alleged Weapon or Object (Source: WaPo and Review of Cases Not Included in WaPo Database)  \\\n",
       "260                                         toy weapon                                          \n",
       "275                                                gun                                          \n",
       "580                                                gun                                          \n",
       "822                                                gun                                          \n",
       "917                                              sword                                          \n",
       "\n",
       "    Alleged Threat Level (Source: WaPo) Fleeing (Source: WaPo)  \\\n",
       "260                              attack                    NaN   \n",
       "275                              attack                   Foot   \n",
       "580                               other            Not fleeing   \n",
       "822                              attack                   Foot   \n",
       "917                               other                   Foot   \n",
       "\n",
       "    Body Camera (Source: WaPo) WaPo ID (If included in WaPo database)  \\\n",
       "260                         No                                 5845.0   \n",
       "275                         No                                 5882.0   \n",
       "580                         No                                 5581.0   \n",
       "822                         No                                 5292.0   \n",
       "917                         No                                 5203.0   \n",
       "\n",
       "    Off-Duty Killing?  \\\n",
       "260               NaN   \n",
       "275               NaN   \n",
       "580               NaN   \n",
       "822               NaN   \n",
       "917               NaN   \n",
       "\n",
       "    Geography (via Trulia methodology based on zipcode population density: http://jedkolko.com/wp-content/uploads/2015/05/full-ZCTA-urban-suburban-rural-classification.xlsx )  \\\n",
       "260                                           Suburban                                                                                                                           \n",
       "275                                              Urban                                                                                                                           \n",
       "580                                           Suburban                                                                                                                           \n",
       "822                                              Urban                                                                                                                           \n",
       "917                                              Urban                                                                                                                           \n",
       "\n",
       "     MPV ID Fatal Encounters ID  \n",
       "260  8177.0             28164.0  \n",
       "275  8152.0             28130.0  \n",
       "580  7849.0             27638.0  \n",
       "822  7606.0             27163.0  \n",
       "917  7510.0             27014.0  \n",
       "\n",
       "[5 rows x 29 columns]"
      ]
     },
     "execution_count": 26,
     "metadata": {},
     "output_type": "execute_result"
    }
   ],
   "source": [
    "la_sheriff_df.head(5)"
   ]
  },
  {
   "cell_type": "code",
   "execution_count": 27,
   "metadata": {},
   "outputs": [],
   "source": [
    "la_sheriff_race = la_sheriff_df['Victim\\'s race'].value_counts()"
   ]
  },
  {
   "cell_type": "code",
   "execution_count": 32,
   "metadata": {},
   "outputs": [
    {
     "data": {
      "text/plain": [
       "<matplotlib.axes._subplots.AxesSubplot at 0x7f90c1ba3890>"
      ]
     },
     "execution_count": 32,
     "metadata": {},
     "output_type": "execute_result"
    },
    {
     "data": {
      "image/png": "[encoded data removed]",
      "text/plain": [
       "<Figure size 432x288 with 1 Axes>"
      ]
     },
     "metadata": {
      "needs_background": "light"
     },
     "output_type": "display_data"
    }
   ],
   "source": [
    "sns.barplot(x=la_sheriff_race.index, y=la_sheriff_race)"
   ]
  },
  {
   "cell_type": "code",
   "execution_count": 36,
   "metadata": {},
   "outputs": [
    {
     "data": {
      "text/plain": [
       "No                     58\n",
       "Unknown                20\n",
       "Yes                    11\n",
       "Drug or alcohol use     9\n",
       "Name: Symptoms of mental illness?, dtype: int64"
      ]
     },
     "execution_count": 36,
     "metadata": {},
     "output_type": "execute_result"
    }
   ],
   "source": [
    "la_sheriff_df['Symptoms of mental illness?'].value_counts()"
   ]
  },
  {
   "cell_type": "code",
   "execution_count": null,
   "metadata": {},
   "outputs": [],
   "source": []
  }
 ],
 "metadata": {
  "kernelspec": {
   "display_name": "Python 3",
   "language": "python",
   "name": "python3"
  },
  "language_info": {
   "codemirror_mode": {
    "name": "ipython",
    "version": 3
   },
   "file_extension": ".py",
   "mimetype": "text/x-python",
   "name": "python",
   "nbconvert_exporter": "python",
   "pygments_lexer": "ipython3",
   "version": "3.7.6"
  },
  "varInspector": {
   "cols": {
    "lenName": 16,
    "lenType": 16,
    "lenVar": 40
   },
   "kernels_config": {
    "python": {
     "delete_cmd_postfix": "",
     "delete_cmd_prefix": "del ",
     "library": "var_list.py",
     "varRefreshCmd": "print(var_dic_list())"
    },
    "r": {
     "delete_cmd_postfix": ") ",
     "delete_cmd_prefix": "rm(",
     "library": "var_list.r",
     "varRefreshCmd": "cat(var_dic_list()) "
    }
   },
   "types_to_exclude": [
    "module",
    "function",
    "builtin_function_or_method",
    "instance",
    "_Feature"
   ],
   "window_display": false
  }
 },
 "nbformat": 4,
 "nbformat_minor": 4
}
