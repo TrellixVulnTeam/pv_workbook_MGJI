{
 "cells": [
  {
   "cell_type": "code",
   "execution_count": 12,
   "metadata": {},
   "outputs": [
    {
     "name": "stdout",
     "output_type": "stream",
     "text": [
      "          Event Type                                              Plant  \\\n",
      "0  Inverter Degraded                  047 - San Diego Inspiration Point   \n",
      "1  Inverter Degraded        006 - City of San Diego- Point Loma Library   \n",
      "2    Plant Comm Loss                                009 - Kings Highway   \n",
      "3  Inverter Degraded  042 - Stockton East Water District -  Low Side...   \n",
      "4  Inverter Degraded  042 - Stockton East Water District -  Low Side...   \n",
      "5  Inverter Degraded  042 - Stockton East Water District -  Low Side...   \n",
      "6  Inverter Degraded  042 - Stockton East Water District -  Low Side...   \n",
      "7     Plant Degraded  042 - Stockton East Water District -  Low Side...   \n",
      "8  Inverter Degraded  042 - Stockton East Water District -  Low Side...   \n",
      "9  Inverter Degraded  042 - Stockton East Water District -  Low Side...   \n",
      "\n",
      "                                               Asset  Energy Loss  (kWh)  \n",
      "0                                    INV04 - INV - 4                 NaN  \n",
      "1                                      INV01 - INV-1            10.25193  \n",
      "2                                009 - Kings Highway                 NaN  \n",
      "3                                INV10 - INVERTER 10            63.81795  \n",
      "4                                 INV07 - INVERTER 7            64.27208  \n",
      "5                                 INV01 - INVERTER 1            67.52427  \n",
      "6                                 INV08 - INVERTER 8            63.91485  \n",
      "7  042 - Stockton East Water District -  Low Side...                 NaN  \n",
      "8                                 INV06 - INVERTER 6            67.28337  \n",
      "9                                 INV02 - INVERTER 2            69.00620  \n"
     ]
    }
   ],
   "source": [
    "import pandas as pd\n",
    "cols = ['Plant','Asset','Event Type','Energy Loss  (kWh)']\n",
    "df = pd.read_csv('sm3.csv',usecols=cols,dtype={\"Energy Loss  (kWh)\": 'Float64'})\n",
    "print(df.head(10))"
   ]
  },
  {
   "cell_type": "code",
   "execution_count": null,
   "metadata": {},
   "outputs": [],
   "source": []
  },
  {
   "cell_type": "code",
   "execution_count": null,
   "metadata": {},
   "outputs": [],
   "source": []
  }
 ],
 "metadata": {
  "kernelspec": {
   "display_name": "Python 3",
   "language": "python",
   "name": "python3"
  },
  "language_info": {
   "codemirror_mode": {
    "name": "ipython",
    "version": 3
   },
   "file_extension": ".py",
   "mimetype": "text/x-python",
   "name": "python",
   "nbconvert_exporter": "python",
   "pygments_lexer": "ipython3",
   "version": "3.7.1"
  }
 },
 "nbformat": 4,
 "nbformat_minor": 4
}
