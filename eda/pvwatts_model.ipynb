{
 "cells": [
  {
   "cell_type": "code",
   "execution_count": 34,
   "metadata": {},
   "outputs": [],
   "source": [
    "import pandas as pd\n",
    "import requests\n",
    "from pandas.io.json import json_normalize"
   ]
  },
  {
   "cell_type": "code",
   "execution_count": 23,
   "metadata": {},
   "outputs": [],
   "source": [
    "api_url = 'https://developer.nrel.gov/api/solar/solar_resource/v1'\n",
    "\n",
    "params = {\n",
    "    \"api_key\" : \"G7V6HYMIcI0t8cDsg3YZB1jryhbBGRY4ciV4q4rL\",\n",
    "    \"system_capacity\" : \"17160\",\n",
    "    \"module_type\" : \"0\",\n",
    "    \"losses\" : \"5\",\n",
    "    \"array_type\" : \"2\",\n",
    "    \"tilt\" : \"0\",\n",
    "    \"azimuth\" : \"180\",\n",
    "    \"address\" : \"5024 Brownsville Hwy, Denmark, TN 38391\",\n",
    "    \"dataset\" : \"tmy3\",\n",
    "    \"gcr\" : \"0.12\"\n",
    "}"
   ]
  },
  {
   "cell_type": "code",
   "execution_count": 35,
   "metadata": {},
   "outputs": [
    {
     "name": "stdout",
     "output_type": "stream",
     "text": [
      "['avg_dni,annual', 'avg_dni,monthly,apr', 'avg_dni,monthly,aug', 'avg_dni,monthly,dec', 'avg_dni,monthly,feb', 'avg_dni,monthly,jan', 'avg_dni,monthly,jul', 'avg_dni,monthly,jun', 'avg_dni,monthly,mar', 'avg_dni,monthly,may', 'avg_dni,monthly,nov', 'avg_dni,monthly,oct', 'avg_dni,monthly,sep', 'avg_ghi,annual', 'avg_ghi,monthly,apr', 'avg_ghi,monthly,aug', 'avg_ghi,monthly,dec', 'avg_ghi,monthly,feb', 'avg_ghi,monthly,jan', 'avg_ghi,monthly,jul', 'avg_ghi,monthly,jun', 'avg_ghi,monthly,mar', 'avg_ghi,monthly,may', 'avg_ghi,monthly,nov', 'avg_ghi,monthly,oct', 'avg_ghi,monthly,sep', 'avg_lat_tilt,annual', 'avg_lat_tilt,monthly,apr', 'avg_lat_tilt,monthly,aug', 'avg_lat_tilt,monthly,dec', 'avg_lat_tilt,monthly,feb', 'avg_lat_tilt,monthly,jan', 'avg_lat_tilt,monthly,jul', 'avg_lat_tilt,monthly,jun', 'avg_lat_tilt,monthly,mar', 'avg_lat_tilt,monthly,may', 'avg_lat_tilt,monthly,nov', 'avg_lat_tilt,monthly,oct', 'avg_lat_tilt,monthly,sep']\n"
     ]
    }
   ],
   "source": [
    "response = requests.get(api_url,params=params)\n",
    "data = response.json()\n",
    "site = json_normalize(data['outputs'], sep=',')\n",
    "print(list(site))"
   ]
  },
  {
   "cell_type": "code",
   "execution_count": 33,
   "metadata": {},
   "outputs": [
    {
     "name": "stdout",
     "output_type": "stream",
     "text": [
      "                                                   avg_dni  \\\n",
      "annual                                                4.27   \n",
      "monthly  {'jan': 3.18, 'feb': 3.62, 'mar': 4.04, 'apr':...   \n",
      "\n",
      "                                                   avg_ghi  \\\n",
      "annual                                                4.38   \n",
      "monthly  {'jan': 2.25, 'feb': 2.99, 'mar': 4.05, 'apr':...   \n",
      "\n",
      "                                              avg_lat_tilt  \n",
      "annual                                                4.94  \n",
      "monthly  {'jan': 3.55, 'feb': 4.14, 'mar': 4.83, 'apr':...  \n"
     ]
    }
   ],
   "source": [
    "providence = pd.DataFrame(data['outputs'])\n",
    "print(providence.head())"
   ]
  },
  {
   "cell_type": "code",
   "execution_count": null,
   "metadata": {},
   "outputs": [],
   "source": []
  }
 ],
 "metadata": {
  "kernelspec": {
   "display_name": "Python 3",
   "language": "python",
   "name": "python3"
  },
  "language_info": {
   "codemirror_mode": {
    "name": "ipython",
    "version": 3
   },
   "file_extension": ".py",
   "mimetype": "text/x-python",
   "name": "python",
   "nbconvert_exporter": "python",
   "pygments_lexer": "ipython3",
   "version": "3.7.1"
  }
 },
 "nbformat": 4,
 "nbformat_minor": 4
}
