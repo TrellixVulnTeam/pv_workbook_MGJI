{
 "cells": [
  {
   "cell_type": "code",
   "execution_count": 4,
   "metadata": {},
   "outputs": [],
   "source": [
    "import pandas as pd\n",
    "import requests"
   ]
  },
  {
   "cell_type": "code",
   "execution_count": 23,
   "metadata": {},
   "outputs": [],
   "source": [
    "api_url = 'https://developer.nrel.gov/api/solar/solar_resource/v1'\n",
    "\n",
    "params = {\n",
    "    \"api_key\" : \"G7V6HYMIcI0t8cDsg3YZB1jryhbBGRY4ciV4q4rL\",\n",
    "    \"system_capacity\" : \"17160\",\n",
    "    \"module_type\" : \"0\",\n",
    "    \"losses\" : \"5\",\n",
    "    \"array_type\" : \"2\",\n",
    "    \"tilt\" : \"0\",\n",
    "    \"azimuth\" : \"180\",\n",
    "    \"address\" : \"5024 Brownsville Hwy, Denmark, TN 38391\",\n",
    "    \"dataset\" : \"tmy3\",\n",
    "    \"gcr\" : \"0.12\"\n",
    "}"
   ]
  },
  {
   "cell_type": "code",
   "execution_count": 25,
   "metadata": {},
   "outputs": [
    {
     "name": "stdout",
     "output_type": "stream",
     "text": [
      "{'version': '1.0.0', 'warnings': [], 'errors': [], 'metadata': {'sources': ['Perez-SUNY/NREL, 2012']}, 'inputs': {'address': '5024 Brownsville Hwy, Denmark, TN 38391'}, 'outputs': {'avg_dni': {'annual': 4.27, 'monthly': {'jan': 3.18, 'feb': 3.62, 'mar': 4.04, 'apr': 4.77, 'may': 4.69, 'jun': 5.21, 'jul': 5.04, 'aug': 5.31, 'sep': 4.54, 'oct': 4.18, 'nov': 3.56, 'dec': 3.03}}, 'avg_ghi': {'annual': 4.38, 'monthly': {'jan': 2.25, 'feb': 2.99, 'mar': 4.05, 'apr': 5.26, 'may': 5.99, 'jun': 6.5, 'jul': 6.25, 'aug': 5.96, 'sep': 4.82, 'oct': 3.68, 'nov': 2.63, 'dec': 2.07}}, 'avg_lat_tilt': {'annual': 4.94, 'monthly': {'jan': 3.55, 'feb': 4.14, 'mar': 4.83, 'apr': 5.46, 'may': 5.64, 'jun': 5.87, 'jul': 5.79, 'aug': 6.02, 'sep': 5.53, 'oct': 4.91, 'nov': 4.05, 'dec': 3.41}}}}\n"
     ]
    }
   ],
   "source": [
    "response = requests.get(api_url,params=params)\n",
    "data = response.json()\n",
    "print(data)"
   ]
  },
  {
   "cell_type": "code",
   "execution_count": 26,
   "metadata": {},
   "outputs": [
    {
     "name": "stdout",
     "output_type": "stream",
     "text": [
      "                                                   avg_dni  \\\n",
      "annual                                                4.27   \n",
      "monthly  {'jan': 3.18, 'feb': 3.62, 'mar': 4.04, 'apr':...   \n",
      "\n",
      "                                                   avg_ghi  \\\n",
      "annual                                                4.38   \n",
      "monthly  {'jan': 2.25, 'feb': 2.99, 'mar': 4.05, 'apr':...   \n",
      "\n",
      "                                              avg_lat_tilt  \n",
      "annual                                                4.94  \n",
      "monthly  {'jan': 3.55, 'feb': 4.14, 'mar': 4.83, 'apr':...  \n"
     ]
    }
   ],
   "source": [
    "providence = pd.DataFrame(data['outputs'])\n",
    "print(providence.head())"
   ]
  },
  {
   "cell_type": "code",
   "execution_count": 27,
   "metadata": {},
   "outputs": [
    {
     "data": {
      "text/plain": [
       "(2, 3)"
      ]
     },
     "execution_count": 27,
     "metadata": {},
     "output_type": "execute_result"
    }
   ],
   "source": [
    "providence.shape"
   ]
  },
  {
   "cell_type": "code",
   "execution_count": null,
   "metadata": {},
   "outputs": [],
   "source": []
  }
 ],
 "metadata": {
  "kernelspec": {
   "display_name": "Python 3",
   "language": "python",
   "name": "python3"
  },
  "language_info": {
   "codemirror_mode": {
    "name": "ipython",
    "version": 3
   },
   "file_extension": ".py",
   "mimetype": "text/x-python",
   "name": "python",
   "nbconvert_exporter": "python",
   "pygments_lexer": "ipython3",
   "version": "3.7.1"
  }
 },
 "nbformat": 4,
 "nbformat_minor": 4
}
