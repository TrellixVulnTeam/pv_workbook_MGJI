{
 "cells": [
  {
   "cell_type": "code",
   "execution_count": 2,
   "metadata": {},
   "outputs": [
    {
     "data": {
      "text/html": [
       "<div>\n",
       "<style scoped>\n",
       "    .dataframe tbody tr th:only-of-type {\n",
       "        vertical-align: middle;\n",
       "    }\n",
       "\n",
       "    .dataframe tbody tr th {\n",
       "        vertical-align: top;\n",
       "    }\n",
       "\n",
       "    .dataframe thead th {\n",
       "        text-align: right;\n",
       "    }\n",
       "</style>\n",
       "<table border=\"1\" class=\"dataframe\">\n",
       "  <thead>\n",
       "    <tr style=\"text-align: right;\">\n",
       "      <th></th>\n",
       "      <th>geometry.coordinates</th>\n",
       "      <th>geometry.type</th>\n",
       "      <th>geometry_name</th>\n",
       "      <th>id</th>\n",
       "      <th>properties.cap_mw</th>\n",
       "      <th>properties.city_cnty</th>\n",
       "      <th>properties.developer</th>\n",
       "      <th>properties.elecpurch</th>\n",
       "      <th>properties.gid</th>\n",
       "      <th>properties.landtype</th>\n",
       "      <th>...</th>\n",
       "      <th>properties.net_mtrd</th>\n",
       "      <th>properties.on_date</th>\n",
       "      <th>properties.projname</th>\n",
       "      <th>properties.state</th>\n",
       "      <th>properties.status</th>\n",
       "      <th>properties.tech</th>\n",
       "      <th>properties.x</th>\n",
       "      <th>properties.y</th>\n",
       "      <th>properties.zipcode</th>\n",
       "      <th>type</th>\n",
       "    </tr>\n",
       "  </thead>\n",
       "  <tbody>\n",
       "    <tr>\n",
       "      <th>0</th>\n",
       "      <td>[-74.25339, 40.633953]</td>\n",
       "      <td>Point</td>\n",
       "      <td>the_geom_4326</td>\n",
       "      <td>pv_plants.1</td>\n",
       "      <td>4.0</td>\n",
       "      <td>Linden</td>\n",
       "      <td>Advanced Solar Products</td>\n",
       "      <td>PSE&amp;G</td>\n",
       "      <td>1</td>\n",
       "      <td>Private</td>\n",
       "      <td>...</td>\n",
       "      <td>None</td>\n",
       "      <td>2010-12-31Z</td>\n",
       "      <td>Linden Solar Farm</td>\n",
       "      <td>NJ</td>\n",
       "      <td>Operating</td>\n",
       "      <td>PV</td>\n",
       "      <td>-74.253390</td>\n",
       "      <td>40.633953</td>\n",
       "      <td>07036</td>\n",
       "      <td>Feature</td>\n",
       "    </tr>\n",
       "    <tr>\n",
       "      <th>1</th>\n",
       "      <td>[-73.145315, 44.435868]</td>\n",
       "      <td>Point</td>\n",
       "      <td>the_geom_4326</td>\n",
       "      <td>pv_plants.2</td>\n",
       "      <td>2.0</td>\n",
       "      <td>South Burlington</td>\n",
       "      <td>AllEarth Renewables</td>\n",
       "      <td>Vermont National Guard</td>\n",
       "      <td>2</td>\n",
       "      <td>Private</td>\n",
       "      <td>...</td>\n",
       "      <td>X</td>\n",
       "      <td>2011-07-27Z</td>\n",
       "      <td>South Burlington Solar Farm</td>\n",
       "      <td>VT</td>\n",
       "      <td>Operating</td>\n",
       "      <td>PV</td>\n",
       "      <td>-73.145315</td>\n",
       "      <td>44.435868</td>\n",
       "      <td>05403</td>\n",
       "      <td>Feature</td>\n",
       "    </tr>\n",
       "    <tr>\n",
       "      <th>2</th>\n",
       "      <td>[-74.65781, 40.168595]</td>\n",
       "      <td>Point</td>\n",
       "      <td>the_geom_4326</td>\n",
       "      <td>pv_plants.3</td>\n",
       "      <td>5.0</td>\n",
       "      <td>Hamilton</td>\n",
       "      <td>American Capital Energy</td>\n",
       "      <td>PSE&amp;G</td>\n",
       "      <td>3</td>\n",
       "      <td>Private</td>\n",
       "      <td>...</td>\n",
       "      <td>None</td>\n",
       "      <td>2011-02-01Z</td>\n",
       "      <td>Yardville Solar Farm</td>\n",
       "      <td>NJ</td>\n",
       "      <td>Operating</td>\n",
       "      <td>PV</td>\n",
       "      <td>-74.657810</td>\n",
       "      <td>40.168595</td>\n",
       "      <td>08620</td>\n",
       "      <td>Feature</td>\n",
       "    </tr>\n",
       "  </tbody>\n",
       "</table>\n",
       "<p>3 rows × 26 columns</p>\n",
       "</div>"
      ],
      "text/plain": [
       "      geometry.coordinates geometry.type  geometry_name           id  \\\n",
       "0   [-74.25339, 40.633953]         Point  the_geom_4326  pv_plants.1   \n",
       "1  [-73.145315, 44.435868]         Point  the_geom_4326  pv_plants.2   \n",
       "2   [-74.65781, 40.168595]         Point  the_geom_4326  pv_plants.3   \n",
       "\n",
       "   properties.cap_mw properties.city_cnty     properties.developer  \\\n",
       "0                4.0               Linden  Advanced Solar Products   \n",
       "1                2.0     South Burlington      AllEarth Renewables   \n",
       "2                5.0             Hamilton  American Capital Energy   \n",
       "\n",
       "     properties.elecpurch  properties.gid properties.landtype  ...  \\\n",
       "0                   PSE&G               1             Private  ...   \n",
       "1  Vermont National Guard               2             Private  ...   \n",
       "2                   PSE&G               3             Private  ...   \n",
       "\n",
       "  properties.net_mtrd properties.on_date          properties.projname  \\\n",
       "0                None        2010-12-31Z            Linden Solar Farm   \n",
       "1                   X        2011-07-27Z  South Burlington Solar Farm   \n",
       "2                None        2011-02-01Z         Yardville Solar Farm   \n",
       "\n",
       "  properties.state properties.status  properties.tech properties.x  \\\n",
       "0               NJ         Operating               PV   -74.253390   \n",
       "1               VT         Operating               PV   -73.145315   \n",
       "2               NJ         Operating               PV   -74.657810   \n",
       "\n",
       "  properties.y properties.zipcode     type  \n",
       "0    40.633953              07036  Feature  \n",
       "1    44.435868              05403  Feature  \n",
       "2    40.168595              08620  Feature  \n",
       "\n",
       "[3 rows x 26 columns]"
      ]
     },
     "execution_count": 2,
     "metadata": {},
     "output_type": "execute_result"
    }
   ],
   "source": [
    "import json\n",
    "import pandas as pd\n",
    "from pandas.io.json import json_normalize\n",
    "\n",
    "with open('nrel-pv_plants.json') as f:\n",
    "    d = json.load(f)\n",
    "\n",
    "projects = json_normalize(d['features'])\n",
    "projects.head(3)"
   ]
  },
  {
   "cell_type": "code",
   "execution_count": 3,
   "metadata": {},
   "outputs": [
    {
     "data": {
      "text/plain": [
       "Index(['geometry.coordinates', 'geometry.type', 'geometry_name', 'id',\n",
       "       'properties.cap_mw', 'properties.city_cnty', 'properties.developer',\n",
       "       'properties.elecpurch', 'properties.gid', 'properties.landtype',\n",
       "       'properties.link1', 'properties.link2', 'properties.link3',\n",
       "       'properties.link4', 'properties.link5', 'properties.locaccurac',\n",
       "       'properties.net_mtrd', 'properties.on_date', 'properties.projname',\n",
       "       'properties.state', 'properties.status', 'properties.tech',\n",
       "       'properties.x', 'properties.y', 'properties.zipcode', 'type'],\n",
       "      dtype='object')"
      ]
     },
     "execution_count": 3,
     "metadata": {},
     "output_type": "execute_result"
    }
   ],
   "source": [
    "projects.columns"
   ]
  },
  {
   "cell_type": "code",
   "execution_count": 17,
   "metadata": {},
   "outputs": [
    {
     "data": {
      "text/plain": [
       "geometry.coordinates      object\n",
       "geometry.type             object\n",
       "geometry_name             object\n",
       "id                        object\n",
       "properties.cap_mw        float64\n",
       "properties.city_cnty      object\n",
       "properties.developer      object\n",
       "properties.elecpurch      object\n",
       "properties.gid             int64\n",
       "properties.landtype       object\n",
       "properties.link1          object\n",
       "properties.link2          object\n",
       "properties.link3          object\n",
       "properties.link4          object\n",
       "properties.link5          object\n",
       "properties.locaccurac      int64\n",
       "properties.net_mtrd       object\n",
       "properties.on_date        object\n",
       "properties.projname       object\n",
       "properties.state          object\n",
       "properties.status         object\n",
       "properties.tech           object\n",
       "properties.x             float64\n",
       "properties.y             float64\n",
       "properties.zipcode        object\n",
       "type                      object\n",
       "dtype: object"
      ]
     },
     "execution_count": 17,
     "metadata": {},
     "output_type": "execute_result"
    }
   ],
   "source": [
    "projects.dtypes"
   ]
  },
  {
   "cell_type": "code",
   "execution_count": 20,
   "metadata": {},
   "outputs": [
    {
     "data": {
      "text/plain": [
       "8.557131322751323"
      ]
     },
     "execution_count": 20,
     "metadata": {},
     "output_type": "execute_result"
    }
   ],
   "source": [
    "projects['properties.cap_mw'].mean()"
   ]
  },
  {
   "cell_type": "code",
   "execution_count": 21,
   "metadata": {},
   "outputs": [
    {
     "data": {
      "text/plain": [
       "20.138040239678947"
      ]
     },
     "execution_count": 21,
     "metadata": {},
     "output_type": "execute_result"
    }
   ],
   "source": [
    "projects['properties.cap_mw'].std()"
   ]
  },
  {
   "cell_type": "code",
   "execution_count": 22,
   "metadata": {},
   "outputs": [
    {
     "data": {
      "text/plain": [
       "250.0"
      ]
     },
     "execution_count": 22,
     "metadata": {},
     "output_type": "execute_result"
    }
   ],
   "source": [
    "projects['properties.cap_mw'].max()"
   ]
  },
  {
   "cell_type": "code",
   "execution_count": 4,
   "metadata": {},
   "outputs": [
    {
     "data": {
      "text/plain": [
       "array(['Advanced Solar Products', 'AllEarth Renewables',\n",
       "       'American Capital Energy', 'Arizona Public Service', 'BP Solar',\n",
       "       'Cleantech America Inc.', 'Con Edison/Panda Energy',\n",
       "       'SunPower/Conectiv Energy', 'Conergy', 'Cupertino Electric',\n",
       "       'Efficient Energy of Tennessee', 'Energy Solutions LLC', 'enXco',\n",
       "       'SunPower', 'ESA Renewables', 'Eurus', 'First Solar',\n",
       "       'Forest City Hawaii', 'GDF Suez', 'Global Solar Energy',\n",
       "       'SunPower/Iberdrola', 'J. Fletcher Creamer & Son',\n",
       "       'juwi Solar Inc.', 'juwi solar Inc.', 'Kyocera Solar',\n",
       "       'Lincoln Renewable Energy', 'SunPower/LS Power',\n",
       "       'Main Street Power', 'SunPower/MMA Renewable Ventures',\n",
       "       'NJR Clean Energy Ventures', 'First Solar/NRG Energy',\n",
       "       'Oak Leaf Partners', 'PowerPlay Solar', 'REC Solar',\n",
       "       'Recurrent Energy', 'Regenesis Power LLC',\n",
       "       'First Solar/Sempra Generation', 'Sempra Generation',\n",
       "       'Solar Power Inc.', 'Solar Power Partners', 'Solon',\n",
       "       'Borrego Solar', 'Star Harvest Solar', 'o2 Energies/Strata Solar',\n",
       "       'Strata Solar', 'SunDurance Energy', 'SunEdison',\n",
       "       'SunPower/Duke Energy', 'Sybac Solar',\n",
       "       'Three Phases and Green Rock Capital',\n",
       "       'Western Massachusetts Electric Co.', None,\n",
       "       'BNB Renewable Energy Holdings', 'Carthartes Private Investments',\n",
       "       'KDC Solar', 'Q Cells', 'Rivermoor Energy', 'Signal Energy',\n",
       "       'Inman Solar Phase 1', 'Solar Design & Development', 'SolarWorld',\n",
       "       'NxGen Power LLC', 'Rudolph', 'PPL Renewable Energy',\n",
       "       'O2 Energies', 'Enel Green Power', 'NextEra Energy Resources',\n",
       "       'SunEnergy1', 'Southern Energy Management', 'Cenergy Power',\n",
       "       'Jonhson Controls', 'OCI', 'Smart Energy Capital',\n",
       "       'Carolina Solar Energy/Strata Solar', 'Axio Power',\n",
       "       'Standard Solar/PPC Solar', 'Nansolar',\n",
       "       'Lanai Sustainability Research LLC', 'SunPeak Power',\n",
       "       'Sunrise Energy Ventures', 'SunTechnics', 'SolSource',\n",
       "       'Johnson Utilities', 'NASA', 'WMECo'], dtype=object)"
      ]
     },
     "execution_count": 4,
     "metadata": {},
     "output_type": "execute_result"
    }
   ],
   "source": [
    "projects['properties.developer'].unique()"
   ]
  },
  {
   "cell_type": "code",
   "execution_count": 5,
   "metadata": {},
   "outputs": [
    {
     "data": {
      "text/plain": [
       "(189, 26)"
      ]
     },
     "execution_count": 5,
     "metadata": {},
     "output_type": "execute_result"
    }
   ],
   "source": [
    "projects.shape"
   ]
  },
  {
   "cell_type": "code",
   "execution_count": 3,
   "metadata": {},
   "outputs": [
    {
     "data": {
      "text/plain": [
       "array(['PV', 'Thin-film', None, 'Pv'], dtype=object)"
      ]
     },
     "execution_count": 3,
     "metadata": {},
     "output_type": "execute_result"
    }
   ],
   "source": [
    "projects['properties.tech'].unique()"
   ]
  },
  {
   "cell_type": "code",
   "execution_count": 5,
   "metadata": {},
   "outputs": [
    {
     "data": {
      "text/plain": [
       "array(['NJ', 'VT', 'MA', 'AZ', 'CO', 'CA', 'NY', 'PA', 'TN', 'DE', 'NC',\n",
       "       'OR', 'GA', 'NM', 'HI', 'FL', 'OH', 'TX', 'NV', 'KY', 'IL', 'MD',\n",
       "       'Nm'], dtype=object)"
      ]
     },
     "execution_count": 5,
     "metadata": {},
     "output_type": "execute_result"
    }
   ],
   "source": [
    "projects['properties.state'].unique()"
   ]
  },
  {
   "cell_type": "code",
   "execution_count": null,
   "metadata": {},
   "outputs": [],
   "source": [
    "projects['properties.state'] = projects['properties.state'].apply"
   ]
  }
 ],
 "metadata": {
  "kernelspec": {
   "display_name": "Python 3",
   "language": "python",
   "name": "python3"
  },
  "language_info": {
   "codemirror_mode": {
    "name": "ipython",
    "version": 3
   },
   "file_extension": ".py",
   "mimetype": "text/x-python",
   "name": "python",
   "nbconvert_exporter": "python",
   "pygments_lexer": "ipython3",
   "version": "3.7.1"
  }
 },
 "nbformat": 4,
 "nbformat_minor": 4
}
