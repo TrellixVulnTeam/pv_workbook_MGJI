{
 "cells": [
  {
   "cell_type": "code",
   "execution_count": 33,
   "metadata": {},
   "outputs": [],
   "source": [
    "import pandas as pd\n",
    "import numpy as np\n",
    "spend = pd.read_csv('chase2019.csv', index_col='Transaction Date')\n",
    "spend['Type'].astype('category')\n",
    "spend['Amount'] = spend['Amount'].abs()"
   ]
  },
  {
   "cell_type": "code",
   "execution_count": 35,
   "metadata": {},
   "outputs": [
    {
     "data": {
      "text/html": [
       "<div>\n",
       "<style scoped>\n",
       "    .dataframe tbody tr th:only-of-type {\n",
       "        vertical-align: middle;\n",
       "    }\n",
       "\n",
       "    .dataframe tbody tr th {\n",
       "        vertical-align: top;\n",
       "    }\n",
       "\n",
       "    .dataframe thead th {\n",
       "        text-align: right;\n",
       "    }\n",
       "</style>\n",
       "<table border=\"1\" class=\"dataframe\">\n",
       "  <thead>\n",
       "    <tr style=\"text-align: right;\">\n",
       "      <th></th>\n",
       "      <th>Post Date</th>\n",
       "      <th>Description</th>\n",
       "      <th>Category</th>\n",
       "      <th>Type</th>\n",
       "      <th>Amount</th>\n",
       "    </tr>\n",
       "    <tr>\n",
       "      <th>Transaction Date</th>\n",
       "      <th></th>\n",
       "      <th></th>\n",
       "      <th></th>\n",
       "      <th></th>\n",
       "      <th></th>\n",
       "    </tr>\n",
       "  </thead>\n",
       "  <tbody>\n",
       "    <tr>\n",
       "      <th>11/30/2019</th>\n",
       "      <td>12/01/2019</td>\n",
       "      <td>WHOLEFDS GIL #10530</td>\n",
       "      <td>Groceries</td>\n",
       "      <td>Sale</td>\n",
       "      <td>28.20</td>\n",
       "    </tr>\n",
       "    <tr>\n",
       "      <th>11/30/2019</th>\n",
       "      <td>12/01/2019</td>\n",
       "      <td>WHOLEFDS GIL #10530</td>\n",
       "      <td>Groceries</td>\n",
       "      <td>Sale</td>\n",
       "      <td>165.17</td>\n",
       "    </tr>\n",
       "    <tr>\n",
       "      <th>11/30/2019</th>\n",
       "      <td>12/01/2019</td>\n",
       "      <td>WHOLEFDS GIL #10530</td>\n",
       "      <td>Groceries</td>\n",
       "      <td>Sale</td>\n",
       "      <td>17.58</td>\n",
       "    </tr>\n",
       "    <tr>\n",
       "      <th>11/30/2019</th>\n",
       "      <td>12/01/2019</td>\n",
       "      <td>CVS/PHARMACY #09378</td>\n",
       "      <td>Health &amp; Wellness</td>\n",
       "      <td>Sale</td>\n",
       "      <td>75.12</td>\n",
       "    </tr>\n",
       "    <tr>\n",
       "      <th>11/29/2019</th>\n",
       "      <td>12/01/2019</td>\n",
       "      <td>DOORDASH*JIMS COFFEE S</td>\n",
       "      <td>Food &amp; Drink</td>\n",
       "      <td>Sale</td>\n",
       "      <td>36.29</td>\n",
       "    </tr>\n",
       "  </tbody>\n",
       "</table>\n",
       "</div>"
      ],
      "text/plain": [
       "                   Post Date             Description           Category  Type  \\\n",
       "Transaction Date                                                                \n",
       "11/30/2019        12/01/2019     WHOLEFDS GIL #10530          Groceries  Sale   \n",
       "11/30/2019        12/01/2019     WHOLEFDS GIL #10530          Groceries  Sale   \n",
       "11/30/2019        12/01/2019     WHOLEFDS GIL #10530          Groceries  Sale   \n",
       "11/30/2019        12/01/2019     CVS/PHARMACY #09378  Health & Wellness  Sale   \n",
       "11/29/2019        12/01/2019  DOORDASH*JIMS COFFEE S       Food & Drink  Sale   \n",
       "\n",
       "                  Amount  \n",
       "Transaction Date          \n",
       "11/30/2019         28.20  \n",
       "11/30/2019        165.17  \n",
       "11/30/2019         17.58  \n",
       "11/30/2019         75.12  \n",
       "11/29/2019         36.29  "
      ]
     },
     "execution_count": 35,
     "metadata": {},
     "output_type": "execute_result"
    }
   ],
   "source": [
    "spend['Amount'].sum()\n",
    "spend.head()"
   ]
  },
  {
   "cell_type": "code",
   "execution_count": 40,
   "metadata": {},
   "outputs": [
    {
     "ename": "NameError",
     "evalue": "name 'plt' is not defined",
     "output_type": "error",
     "traceback": [
      "\u001b[1;31m---------------------------------------------------------------------------\u001b[0m",
      "\u001b[1;31mNameError\u001b[0m                                 Traceback (most recent call last)",
      "\u001b[1;32m<ipython-input-40-df2895f4ebbf>\u001b[0m in \u001b[0;36m<module>\u001b[1;34m\u001b[0m\n\u001b[0;32m      1\u001b[0m \u001b[0mspend\u001b[0m\u001b[1;33m.\u001b[0m\u001b[0mplot\u001b[0m\u001b[1;33m.\u001b[0m\u001b[0mline\u001b[0m\u001b[1;33m(\u001b[0m\u001b[1;33m)\u001b[0m\u001b[1;33m\u001b[0m\u001b[1;33m\u001b[0m\u001b[0m\n\u001b[1;32m----> 2\u001b[1;33m \u001b[0mplt\u001b[0m\u001b[1;33m.\u001b[0m\u001b[0mshow\u001b[0m\u001b[1;33m(\u001b[0m\u001b[1;33m)\u001b[0m\u001b[1;33m\u001b[0m\u001b[1;33m\u001b[0m\u001b[0m\n\u001b[0m",
      "\u001b[1;31mNameError\u001b[0m: name 'plt' is not defined"
     ]
    },
    {
     "data": {
      "image/png": "[encoded data removed]",
      "text/plain": [
       "<Figure size 432x288 with 1 Axes>"
      ]
     },
     "metadata": {
      "needs_background": "light"
     },
     "output_type": "display_data"
    }
   ],
   "source": [
    "spend.plot.line()\n",
    "plt.show()"
   ]
  },
  {
   "cell_type": "code",
   "execution_count": null,
   "metadata": {},
   "outputs": [],
   "source": []
  }
 ],
 "metadata": {
  "kernelspec": {
   "display_name": "Python 3",
   "language": "python",
   "name": "python3"
  },
  "language_info": {
   "codemirror_mode": {
    "name": "ipython",
    "version": 3
   },
   "file_extension": ".py",
   "mimetype": "text/x-python",
   "name": "python",
   "nbconvert_exporter": "python",
   "pygments_lexer": "ipython3",
   "version": "3.7.1"
  }
 },
 "nbformat": 4,
 "nbformat_minor": 4
}
