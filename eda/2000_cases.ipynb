{
 "cells": [
  {
   "cell_type": "code",
   "execution_count": 1,
   "metadata": {},
   "outputs": [
    {
     "data": {
      "text/html": [
       "<div>\n",
       "<style scoped>\n",
       "    .dataframe tbody tr th:only-of-type {\n",
       "        vertical-align: middle;\n",
       "    }\n",
       "\n",
       "    .dataframe tbody tr th {\n",
       "        vertical-align: top;\n",
       "    }\n",
       "\n",
       "    .dataframe thead th {\n",
       "        text-align: right;\n",
       "    }\n",
       "</style>\n",
       "<table border=\"1\" class=\"dataframe\">\n",
       "  <thead>\n",
       "    <tr style=\"text-align: right;\">\n",
       "      <th></th>\n",
       "      <th>Case Owner</th>\n",
       "      <th>Subject</th>\n",
       "      <th>Ticket Status</th>\n",
       "      <th>Date/Time Opened</th>\n",
       "      <th>Closed Date</th>\n",
       "      <th>Age (Days)</th>\n",
       "      <th>Open</th>\n",
       "      <th>Closed</th>\n",
       "      <th>Email Subject</th>\n",
       "      <th>Email Status</th>\n",
       "      <th>Email Message Date</th>\n",
       "      <th>Account Name</th>\n",
       "      <th>Link to Wrike</th>\n",
       "    </tr>\n",
       "  </thead>\n",
       "  <tbody>\n",
       "    <tr>\n",
       "      <th>0</th>\n",
       "      <td>Adria Doescher</td>\n",
       "      <td>Period Selection</td>\n",
       "      <td>NaN</td>\n",
       "      <td>1/2/2019 10:09</td>\n",
       "      <td>1/21/2019</td>\n",
       "      <td>19</td>\n",
       "      <td>0</td>\n",
       "      <td>1</td>\n",
       "      <td>RE: Period Selection    [ ref:_00DG0CiJO._5001...</td>\n",
       "      <td>Replied</td>\n",
       "      <td>1/2/2019 11:46</td>\n",
       "      <td>NaN</td>\n",
       "      <td>NaN</td>\n",
       "    </tr>\n",
       "    <tr>\n",
       "      <th>1</th>\n",
       "      <td>Adria Doescher</td>\n",
       "      <td>Period Selection</td>\n",
       "      <td>NaN</td>\n",
       "      <td>1/2/2019 10:09</td>\n",
       "      <td>1/21/2019</td>\n",
       "      <td>19</td>\n",
       "      <td>0</td>\n",
       "      <td>1</td>\n",
       "      <td>RE: Period Selection    [ ref:_00DG0CiJO._5001...</td>\n",
       "      <td>Replied</td>\n",
       "      <td>1/2/2019 11:48</td>\n",
       "      <td>NaN</td>\n",
       "      <td>NaN</td>\n",
       "    </tr>\n",
       "    <tr>\n",
       "      <th>2</th>\n",
       "      <td>Adria Doescher</td>\n",
       "      <td>Period Selection</td>\n",
       "      <td>NaN</td>\n",
       "      <td>1/2/2019 10:09</td>\n",
       "      <td>1/21/2019</td>\n",
       "      <td>19</td>\n",
       "      <td>0</td>\n",
       "      <td>1</td>\n",
       "      <td>Period Selection</td>\n",
       "      <td>Replied</td>\n",
       "      <td>1/2/2019 10:12</td>\n",
       "      <td>NaN</td>\n",
       "      <td>NaN</td>\n",
       "    </tr>\n",
       "    <tr>\n",
       "      <th>3</th>\n",
       "      <td>Adria Doescher</td>\n",
       "      <td>Period Selection</td>\n",
       "      <td>NaN</td>\n",
       "      <td>1/2/2019 10:09</td>\n",
       "      <td>1/21/2019</td>\n",
       "      <td>19</td>\n",
       "      <td>0</td>\n",
       "      <td>1</td>\n",
       "      <td>RE: Period Selection    [ ref:_00DG0CiJO._5001...</td>\n",
       "      <td>Sent</td>\n",
       "      <td>1/21/2019 7:15</td>\n",
       "      <td>NaN</td>\n",
       "      <td>NaN</td>\n",
       "    </tr>\n",
       "    <tr>\n",
       "      <th>4</th>\n",
       "      <td>Adria Doescher</td>\n",
       "      <td>Period Selection</td>\n",
       "      <td>NaN</td>\n",
       "      <td>1/2/2019 10:09</td>\n",
       "      <td>1/21/2019</td>\n",
       "      <td>19</td>\n",
       "      <td>0</td>\n",
       "      <td>1</td>\n",
       "      <td>Power Factors, LLC Case No:- 00047535:  Period...</td>\n",
       "      <td>Sent</td>\n",
       "      <td>1/2/2019 10:09</td>\n",
       "      <td>NaN</td>\n",
       "      <td>NaN</td>\n",
       "    </tr>\n",
       "  </tbody>\n",
       "</table>\n",
       "</div>"
      ],
      "text/plain": [
       "       Case Owner           Subject Ticket Status Date/Time Opened  \\\n",
       "0  Adria Doescher  Period Selection           NaN   1/2/2019 10:09   \n",
       "1  Adria Doescher  Period Selection           NaN   1/2/2019 10:09   \n",
       "2  Adria Doescher  Period Selection           NaN   1/2/2019 10:09   \n",
       "3  Adria Doescher  Period Selection           NaN   1/2/2019 10:09   \n",
       "4  Adria Doescher  Period Selection           NaN   1/2/2019 10:09   \n",
       "\n",
       "  Closed Date  Age (Days)  Open  Closed  \\\n",
       "0   1/21/2019          19     0       1   \n",
       "1   1/21/2019          19     0       1   \n",
       "2   1/21/2019          19     0       1   \n",
       "3   1/21/2019          19     0       1   \n",
       "4   1/21/2019          19     0       1   \n",
       "\n",
       "                                       Email Subject Email Status  \\\n",
       "0  RE: Period Selection    [ ref:_00DG0CiJO._5001...      Replied   \n",
       "1  RE: Period Selection    [ ref:_00DG0CiJO._5001...      Replied   \n",
       "2                                   Period Selection      Replied   \n",
       "3  RE: Period Selection    [ ref:_00DG0CiJO._5001...         Sent   \n",
       "4  Power Factors, LLC Case No:- 00047535:  Period...         Sent   \n",
       "\n",
       "  Email Message Date Account Name Link to Wrike  \n",
       "0     1/2/2019 11:46          NaN           NaN  \n",
       "1     1/2/2019 11:48          NaN           NaN  \n",
       "2     1/2/2019 10:12          NaN           NaN  \n",
       "3     1/21/2019 7:15          NaN           NaN  \n",
       "4     1/2/2019 10:09          NaN           NaN  "
      ]
     },
     "execution_count": 1,
     "metadata": {},
     "output_type": "execute_result"
    }
   ],
   "source": [
    "import pandas as pd\n",
    "import matplotlib.pyplot as plt\n",
    "import numpy as np\n",
    "df = pd.read_csv('2000_tickets_19.csv')\n",
    "df.head(5)"
   ]
  },
  {
   "cell_type": "code",
   "execution_count": 2,
   "metadata": {},
   "outputs": [
    {
     "data": {
      "text/plain": [
       "23.230198019801982"
      ]
     },
     "execution_count": 2,
     "metadata": {},
     "output_type": "execute_result"
    }
   ],
   "source": [
    "df['Age (Days)'].mean()"
   ]
  },
  {
   "cell_type": "code",
   "execution_count": 8,
   "metadata": {},
   "outputs": [],
   "source": [
    "df['Age'] = df['Age (Days)']"
   ]
  },
  {
   "cell_type": "code",
   "execution_count": 25,
   "metadata": {},
   "outputs": [
    {
     "data": {
      "image/png": "[encoded data removed]",
      "text/plain": [
       "<Figure size 432x288 with 1 Axes>"
      ]
     },
     "metadata": {
      "needs_background": "light"
     },
     "output_type": "display_data"
    }
   ],
   "source": [
    "y = df['Age']\n",
    "plt.hist(y, bins=100)\n",
    "plt.ylabel('Number of Tickets')\n",
    "plt.xlabel('Ticket Age (Days)')\n",
    "plt.show()"
   ]
  },
  {
   "cell_type": "code",
   "execution_count": 10,
   "metadata": {},
   "outputs": [
    {
     "data": {
      "text/plain": [
       "36.43963566900615"
      ]
     },
     "execution_count": 10,
     "metadata": {},
     "output_type": "execute_result"
    }
   ],
   "source": [
    "df['Age (Days)'].std()"
   ]
  },
  {
   "cell_type": "code",
   "execution_count": 11,
   "metadata": {},
   "outputs": [
    {
     "data": {
      "text/plain": [
       "8.0"
      ]
     },
     "execution_count": 11,
     "metadata": {},
     "output_type": "execute_result"
    }
   ],
   "source": [
    "df['Age (Days)'].median()"
   ]
  },
  {
   "cell_type": "code",
   "execution_count": 23,
   "metadata": {},
   "outputs": [],
   "source": [
    "df['Kiosk'] = df['Subject'].str.contains(\"Kiosk\") | df['Email Subject'].str.contains(\"Kiosk\") "
   ]
  },
  {
   "cell_type": "code",
   "execution_count": 24,
   "metadata": {},
   "outputs": [
    {
     "data": {
      "text/plain": [
       "False    1115\n",
       "True       97\n",
       "Name: Kiosk, dtype: int64"
      ]
     },
     "execution_count": 24,
     "metadata": {},
     "output_type": "execute_result"
    }
   ],
   "source": [
    "df['Kiosk'].value_counts()"
   ]
  },
  {
   "cell_type": "code",
   "execution_count": 26,
   "metadata": {},
   "outputs": [],
   "source": [
    "df['Corvius'] = df['Subject'].str.contains(\"Riley\") | df['Email Subject'].str.contains(\"Meade\") | df['Subject'].str.contains(\"Edwards\") | df['Email Subject'].str.contains(\"APG\")  "
   ]
  },
  {
   "cell_type": "code",
   "execution_count": 27,
   "metadata": {},
   "outputs": [
    {
     "data": {
      "text/plain": [
       "False    1119\n",
       "True       93\n",
       "Name: Corvius, dtype: int64"
      ]
     },
     "execution_count": 27,
     "metadata": {},
     "output_type": "execute_result"
    }
   ],
   "source": [
    "df['Corvius'].value_counts()"
   ]
  },
  {
   "cell_type": "code",
   "execution_count": 30,
   "metadata": {},
   "outputs": [
    {
     "data": {
      "text/html": [
       "<div>\n",
       "<style scoped>\n",
       "    .dataframe tbody tr th:only-of-type {\n",
       "        vertical-align: middle;\n",
       "    }\n",
       "\n",
       "    .dataframe tbody tr th {\n",
       "        vertical-align: top;\n",
       "    }\n",
       "\n",
       "    .dataframe thead th {\n",
       "        text-align: right;\n",
       "    }\n",
       "</style>\n",
       "<table border=\"1\" class=\"dataframe\">\n",
       "  <thead>\n",
       "    <tr style=\"text-align: right;\">\n",
       "      <th></th>\n",
       "      <th>Case Owner</th>\n",
       "      <th>Subject</th>\n",
       "      <th>Ticket Status</th>\n",
       "      <th>Date/Time Opened</th>\n",
       "      <th>Closed Date</th>\n",
       "      <th>Age (Days)</th>\n",
       "      <th>Open</th>\n",
       "      <th>Closed</th>\n",
       "      <th>Email Subject</th>\n",
       "      <th>Email Status</th>\n",
       "      <th>Email Message Date</th>\n",
       "      <th>Account Name</th>\n",
       "      <th>Link to Wrike</th>\n",
       "      <th>Age</th>\n",
       "      <th>Kiosk</th>\n",
       "      <th>Corvius</th>\n",
       "    </tr>\n",
       "  </thead>\n",
       "  <tbody>\n",
       "    <tr>\n",
       "      <th>10</th>\n",
       "      <td>Todd Hendricks</td>\n",
       "      <td>SMA Cluster Controller API</td>\n",
       "      <td>NaN</td>\n",
       "      <td>1/3/2019 10:14</td>\n",
       "      <td>8/22/2019</td>\n",
       "      <td>231</td>\n",
       "      <td>0</td>\n",
       "      <td>1</td>\n",
       "      <td>SMA Cluster Controller API</td>\n",
       "      <td>Read</td>\n",
       "      <td>1/3/2019 10:17</td>\n",
       "      <td>NaN</td>\n",
       "      <td>NaN</td>\n",
       "      <td>231</td>\n",
       "      <td>False</td>\n",
       "      <td>False</td>\n",
       "    </tr>\n",
       "    <tr>\n",
       "      <th>11</th>\n",
       "      <td>Todd Hendricks</td>\n",
       "      <td>SMA Cluster Controller API</td>\n",
       "      <td>NaN</td>\n",
       "      <td>1/3/2019 10:14</td>\n",
       "      <td>8/22/2019</td>\n",
       "      <td>231</td>\n",
       "      <td>0</td>\n",
       "      <td>1</td>\n",
       "      <td>Power Factors, LLC Case No:- 00047578:  SMA Cl...</td>\n",
       "      <td>Sent</td>\n",
       "      <td>1/3/2019 10:14</td>\n",
       "      <td>NaN</td>\n",
       "      <td>NaN</td>\n",
       "      <td>231</td>\n",
       "      <td>False</td>\n",
       "      <td>False</td>\n",
       "    </tr>\n",
       "    <tr>\n",
       "      <th>75</th>\n",
       "      <td>Adria Doescher</td>\n",
       "      <td>Report Names</td>\n",
       "      <td>NaN</td>\n",
       "      <td>2/20/2019 12:44</td>\n",
       "      <td>9/25/2019</td>\n",
       "      <td>217</td>\n",
       "      <td>0</td>\n",
       "      <td>1</td>\n",
       "      <td>Power Factors, LLC Case No:- 00049068: Report ...</td>\n",
       "      <td>Sent</td>\n",
       "      <td>2/20/2019 12:44</td>\n",
       "      <td>NaN</td>\n",
       "      <td>NaN</td>\n",
       "      <td>217</td>\n",
       "      <td>False</td>\n",
       "      <td>False</td>\n",
       "    </tr>\n",
       "    <tr>\n",
       "      <th>1125</th>\n",
       "      <td>Adria Doescher</td>\n",
       "      <td>Report Names</td>\n",
       "      <td>NaN</td>\n",
       "      <td>2/20/2019 12:44</td>\n",
       "      <td>9/25/2019</td>\n",
       "      <td>217</td>\n",
       "      <td>0</td>\n",
       "      <td>1</td>\n",
       "      <td>RE: Report Names[ref:_00DG0CiJO._5001M1IVsCo:ref]</td>\n",
       "      <td>New</td>\n",
       "      <td>9/25/2019 5:49</td>\n",
       "      <td>NaN</td>\n",
       "      <td>NaN</td>\n",
       "      <td>217</td>\n",
       "      <td>False</td>\n",
       "      <td>False</td>\n",
       "    </tr>\n",
       "    <tr>\n",
       "      <th>1126</th>\n",
       "      <td>Adria Doescher</td>\n",
       "      <td>Report Names</td>\n",
       "      <td>NaN</td>\n",
       "      <td>2/20/2019 12:44</td>\n",
       "      <td>9/25/2019</td>\n",
       "      <td>217</td>\n",
       "      <td>0</td>\n",
       "      <td>1</td>\n",
       "      <td>RE: Report Names[ref:_00DG0CiJO._5001M1IVsCo:ref]</td>\n",
       "      <td>New</td>\n",
       "      <td>9/25/2019 6:55</td>\n",
       "      <td>NaN</td>\n",
       "      <td>NaN</td>\n",
       "      <td>217</td>\n",
       "      <td>False</td>\n",
       "      <td>False</td>\n",
       "    </tr>\n",
       "    <tr>\n",
       "      <th>1127</th>\n",
       "      <td>Adria Doescher</td>\n",
       "      <td>Report Names</td>\n",
       "      <td>NaN</td>\n",
       "      <td>2/20/2019 12:44</td>\n",
       "      <td>9/25/2019</td>\n",
       "      <td>217</td>\n",
       "      <td>0</td>\n",
       "      <td>1</td>\n",
       "      <td>Report Names</td>\n",
       "      <td>Replied</td>\n",
       "      <td>2/20/2019 12:43</td>\n",
       "      <td>NaN</td>\n",
       "      <td>NaN</td>\n",
       "      <td>217</td>\n",
       "      <td>False</td>\n",
       "      <td>False</td>\n",
       "    </tr>\n",
       "    <tr>\n",
       "      <th>1128</th>\n",
       "      <td>Adria Doescher</td>\n",
       "      <td>Report Names</td>\n",
       "      <td>NaN</td>\n",
       "      <td>2/20/2019 12:44</td>\n",
       "      <td>9/25/2019</td>\n",
       "      <td>217</td>\n",
       "      <td>0</td>\n",
       "      <td>1</td>\n",
       "      <td>RE: Report Names    [ ref:_00DG0CiJO._5001M1IV...</td>\n",
       "      <td>Sent</td>\n",
       "      <td>2/20/2019 13:05</td>\n",
       "      <td>NaN</td>\n",
       "      <td>NaN</td>\n",
       "      <td>217</td>\n",
       "      <td>False</td>\n",
       "      <td>False</td>\n",
       "    </tr>\n",
       "    <tr>\n",
       "      <th>1087</th>\n",
       "      <td>Adria Doescher</td>\n",
       "      <td>RE: 15 min intervals</td>\n",
       "      <td>NaN</td>\n",
       "      <td>1/29/2019 9:55</td>\n",
       "      <td>8/22/2019</td>\n",
       "      <td>205</td>\n",
       "      <td>0</td>\n",
       "      <td>1</td>\n",
       "      <td>RE: 15 min intervals</td>\n",
       "      <td>Read</td>\n",
       "      <td>1/29/2019 9:55</td>\n",
       "      <td>Power Factors, LLC</td>\n",
       "      <td>NaN</td>\n",
       "      <td>205</td>\n",
       "      <td>False</td>\n",
       "      <td>False</td>\n",
       "    </tr>\n",
       "    <tr>\n",
       "      <th>1088</th>\n",
       "      <td>Adria Doescher</td>\n",
       "      <td>RE: 15 min intervals</td>\n",
       "      <td>NaN</td>\n",
       "      <td>1/29/2019 9:55</td>\n",
       "      <td>8/22/2019</td>\n",
       "      <td>205</td>\n",
       "      <td>0</td>\n",
       "      <td>1</td>\n",
       "      <td>Power Factors, LLC Case No:- 00048295:  RE: 15...</td>\n",
       "      <td>Sent</td>\n",
       "      <td>1/29/2019 9:55</td>\n",
       "      <td>Power Factors, LLC</td>\n",
       "      <td>NaN</td>\n",
       "      <td>205</td>\n",
       "      <td>False</td>\n",
       "      <td>False</td>\n",
       "    </tr>\n",
       "    <tr>\n",
       "      <th>248</th>\n",
       "      <td>Danica Pedraja</td>\n",
       "      <td>Ranked List Selection Functionality</td>\n",
       "      <td>NaN</td>\n",
       "      <td>5/15/2019 15:05</td>\n",
       "      <td>NaN</td>\n",
       "      <td>187</td>\n",
       "      <td>1</td>\n",
       "      <td>0</td>\n",
       "      <td>RE: Ranked List Selection Functionality (ref:_...</td>\n",
       "      <td>New</td>\n",
       "      <td>5/16/2019 7:23</td>\n",
       "      <td>NaN</td>\n",
       "      <td>NaN</td>\n",
       "      <td>187</td>\n",
       "      <td>False</td>\n",
       "      <td>False</td>\n",
       "    </tr>\n",
       "  </tbody>\n",
       "</table>\n",
       "</div>"
      ],
      "text/plain": [
       "          Case Owner                              Subject Ticket Status  \\\n",
       "10    Todd Hendricks           SMA Cluster Controller API           NaN   \n",
       "11    Todd Hendricks           SMA Cluster Controller API           NaN   \n",
       "75    Adria Doescher                         Report Names           NaN   \n",
       "1125  Adria Doescher                         Report Names           NaN   \n",
       "1126  Adria Doescher                         Report Names           NaN   \n",
       "1127  Adria Doescher                         Report Names           NaN   \n",
       "1128  Adria Doescher                         Report Names           NaN   \n",
       "1087  Adria Doescher                 RE: 15 min intervals           NaN   \n",
       "1088  Adria Doescher                 RE: 15 min intervals           NaN   \n",
       "248   Danica Pedraja  Ranked List Selection Functionality           NaN   \n",
       "\n",
       "     Date/Time Opened Closed Date  Age (Days)  Open  Closed  \\\n",
       "10     1/3/2019 10:14   8/22/2019         231     0       1   \n",
       "11     1/3/2019 10:14   8/22/2019         231     0       1   \n",
       "75    2/20/2019 12:44   9/25/2019         217     0       1   \n",
       "1125  2/20/2019 12:44   9/25/2019         217     0       1   \n",
       "1126  2/20/2019 12:44   9/25/2019         217     0       1   \n",
       "1127  2/20/2019 12:44   9/25/2019         217     0       1   \n",
       "1128  2/20/2019 12:44   9/25/2019         217     0       1   \n",
       "1087   1/29/2019 9:55   8/22/2019         205     0       1   \n",
       "1088   1/29/2019 9:55   8/22/2019         205     0       1   \n",
       "248   5/15/2019 15:05         NaN         187     1       0   \n",
       "\n",
       "                                          Email Subject Email Status  \\\n",
       "10                           SMA Cluster Controller API         Read   \n",
       "11    Power Factors, LLC Case No:- 00047578:  SMA Cl...         Sent   \n",
       "75    Power Factors, LLC Case No:- 00049068: Report ...         Sent   \n",
       "1125  RE: Report Names[ref:_00DG0CiJO._5001M1IVsCo:ref]          New   \n",
       "1126  RE: Report Names[ref:_00DG0CiJO._5001M1IVsCo:ref]          New   \n",
       "1127                                       Report Names      Replied   \n",
       "1128  RE: Report Names    [ ref:_00DG0CiJO._5001M1IV...         Sent   \n",
       "1087                               RE: 15 min intervals         Read   \n",
       "1088  Power Factors, LLC Case No:- 00048295:  RE: 15...         Sent   \n",
       "248   RE: Ranked List Selection Functionality (ref:_...          New   \n",
       "\n",
       "     Email Message Date        Account Name Link to Wrike  Age  Kiosk  Corvius  \n",
       "10       1/3/2019 10:17                 NaN           NaN  231  False    False  \n",
       "11       1/3/2019 10:14                 NaN           NaN  231  False    False  \n",
       "75      2/20/2019 12:44                 NaN           NaN  217  False    False  \n",
       "1125     9/25/2019 5:49                 NaN           NaN  217  False    False  \n",
       "1126     9/25/2019 6:55                 NaN           NaN  217  False    False  \n",
       "1127    2/20/2019 12:43                 NaN           NaN  217  False    False  \n",
       "1128    2/20/2019 13:05                 NaN           NaN  217  False    False  \n",
       "1087     1/29/2019 9:55  Power Factors, LLC           NaN  205  False    False  \n",
       "1088     1/29/2019 9:55  Power Factors, LLC           NaN  205  False    False  \n",
       "248      5/16/2019 7:23                 NaN           NaN  187  False    False  "
      ]
     },
     "execution_count": 30,
     "metadata": {},
     "output_type": "execute_result"
    }
   ],
   "source": [
    "df.nlargest(10,'Age')"
   ]
  },
  {
   "cell_type": "code",
   "execution_count": 35,
   "metadata": {},
   "outputs": [],
   "source": [
    "outliers = df[df['Age'] > 14]"
   ]
  },
  {
   "cell_type": "code",
   "execution_count": 37,
   "metadata": {},
   "outputs": [
    {
     "data": {
      "text/plain": [
       "False    392\n",
       "True      42\n",
       "Name: Corvius, dtype: int64"
      ]
     },
     "execution_count": 37,
     "metadata": {},
     "output_type": "execute_result"
    }
   ],
   "source": [
    "outliers['Corvius'].value_counts()"
   ]
  },
  {
   "cell_type": "code",
   "execution_count": 38,
   "metadata": {},
   "outputs": [
    {
     "data": {
      "image/png": "[encoded data removed]",
      "text/plain": [
       "<Figure size 432x288 with 1 Axes>"
      ]
     },
     "metadata": {
      "needs_background": "light"
     },
     "output_type": "display_data"
    }
   ],
   "source": [
    "y = outliers['Age']\n",
    "plt.hist(y, bins=100)\n",
    "plt.ylabel('Number of Tickets')\n",
    "plt.xlabel('Ticket Age (Days)')\n",
    "plt.show()"
   ]
  },
  {
   "cell_type": "code",
   "execution_count": 39,
   "metadata": {},
   "outputs": [
    {
     "data": {
      "text/plain": [
       "(1212, 16)"
      ]
     },
     "execution_count": 39,
     "metadata": {},
     "output_type": "execute_result"
    }
   ],
   "source": [
    "df.shape"
   ]
  },
  {
   "cell_type": "code",
   "execution_count": 41,
   "metadata": {},
   "outputs": [],
   "source": [
    "corvius = df[df['Corvius'] == True]"
   ]
  },
  {
   "cell_type": "code",
   "execution_count": 43,
   "metadata": {},
   "outputs": [
    {
     "data": {
      "text/plain": [
       "20.70967741935484"
      ]
     },
     "execution_count": 43,
     "metadata": {},
     "output_type": "execute_result"
    }
   ],
   "source": [
    "corvius['Age'].mean()"
   ]
  },
  {
   "cell_type": "code",
   "execution_count": 44,
   "metadata": {},
   "outputs": [
    {
     "data": {
      "text/plain": [
       "23.655857186807598"
      ]
     },
     "execution_count": 44,
     "metadata": {},
     "output_type": "execute_result"
    }
   ],
   "source": [
    "corvius['Age'].std()"
   ]
  },
  {
   "cell_type": "code",
   "execution_count": 3,
   "metadata": {},
   "outputs": [
    {
     "data": {
      "image/png": "[encoded data removed]",
      "text/plain": [
       "<Figure size 432x288 with 1 Axes>"
      ]
     },
     "metadata": {},
     "output_type": "display_data"
    }
   ],
   "source": [
    "import seaborn as sns\n",
    "sns.set(style=\"whitegrid\")\n",
    "sns.swarmplot(x='Case Owner',y='Age (Days)',data=df)\n",
    "plt.xlabel('Owner')\n",
    "plt.ylabel('Ticket Age')\n",
    "plt.show()"
   ]
  },
  {
   "cell_type": "code",
   "execution_count": null,
   "metadata": {},
   "outputs": [],
   "source": []
  }
 ],
 "metadata": {
  "kernelspec": {
   "display_name": "Python 3",
   "language": "python",
   "name": "python3"
  },
  "language_info": {
   "codemirror_mode": {
    "name": "ipython",
    "version": 3
   },
   "file_extension": ".py",
   "mimetype": "text/x-python",
   "name": "python",
   "nbconvert_exporter": "python",
   "pygments_lexer": "ipython3",
   "version": "3.7.1"
  }
 },
 "nbformat": 4,
 "nbformat_minor": 4
}
