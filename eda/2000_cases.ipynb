{
 "cells": [
  {
   "cell_type": "code",
   "execution_count": 6,
   "metadata": {},
   "outputs": [
    {
     "data": {
      "text/html": [
       "<div>\n",
       "<style scoped>\n",
       "    .dataframe tbody tr th:only-of-type {\n",
       "        vertical-align: middle;\n",
       "    }\n",
       "\n",
       "    .dataframe tbody tr th {\n",
       "        vertical-align: top;\n",
       "    }\n",
       "\n",
       "    .dataframe thead th {\n",
       "        text-align: right;\n",
       "    }\n",
       "</style>\n",
       "<table border=\"1\" class=\"dataframe\">\n",
       "  <thead>\n",
       "    <tr style=\"text-align: right;\">\n",
       "      <th></th>\n",
       "      <th>Case Owner</th>\n",
       "      <th>Subject</th>\n",
       "      <th>Ticket Status</th>\n",
       "      <th>Date/Time Opened</th>\n",
       "      <th>Closed Date</th>\n",
       "      <th>Age (Days)</th>\n",
       "      <th>Open</th>\n",
       "      <th>Closed</th>\n",
       "      <th>Email Subject</th>\n",
       "      <th>Email Status</th>\n",
       "      <th>Email Message Date</th>\n",
       "      <th>Account Name</th>\n",
       "      <th>Link to Wrike</th>\n",
       "    </tr>\n",
       "  </thead>\n",
       "  <tbody>\n",
       "    <tr>\n",
       "      <th>0</th>\n",
       "      <td>Adria Doescher</td>\n",
       "      <td>Period Selection</td>\n",
       "      <td>NaN</td>\n",
       "      <td>1/2/2019 10:09</td>\n",
       "      <td>1/21/2019</td>\n",
       "      <td>19</td>\n",
       "      <td>0</td>\n",
       "      <td>1</td>\n",
       "      <td>RE: Period Selection    [ ref:_00DG0CiJO._5001...</td>\n",
       "      <td>Replied</td>\n",
       "      <td>1/2/2019 11:46</td>\n",
       "      <td>NaN</td>\n",
       "      <td>NaN</td>\n",
       "    </tr>\n",
       "    <tr>\n",
       "      <th>1</th>\n",
       "      <td>Adria Doescher</td>\n",
       "      <td>Period Selection</td>\n",
       "      <td>NaN</td>\n",
       "      <td>1/2/2019 10:09</td>\n",
       "      <td>1/21/2019</td>\n",
       "      <td>19</td>\n",
       "      <td>0</td>\n",
       "      <td>1</td>\n",
       "      <td>RE: Period Selection    [ ref:_00DG0CiJO._5001...</td>\n",
       "      <td>Replied</td>\n",
       "      <td>1/2/2019 11:48</td>\n",
       "      <td>NaN</td>\n",
       "      <td>NaN</td>\n",
       "    </tr>\n",
       "    <tr>\n",
       "      <th>2</th>\n",
       "      <td>Adria Doescher</td>\n",
       "      <td>Period Selection</td>\n",
       "      <td>NaN</td>\n",
       "      <td>1/2/2019 10:09</td>\n",
       "      <td>1/21/2019</td>\n",
       "      <td>19</td>\n",
       "      <td>0</td>\n",
       "      <td>1</td>\n",
       "      <td>Period Selection</td>\n",
       "      <td>Replied</td>\n",
       "      <td>1/2/2019 10:12</td>\n",
       "      <td>NaN</td>\n",
       "      <td>NaN</td>\n",
       "    </tr>\n",
       "    <tr>\n",
       "      <th>3</th>\n",
       "      <td>Adria Doescher</td>\n",
       "      <td>Period Selection</td>\n",
       "      <td>NaN</td>\n",
       "      <td>1/2/2019 10:09</td>\n",
       "      <td>1/21/2019</td>\n",
       "      <td>19</td>\n",
       "      <td>0</td>\n",
       "      <td>1</td>\n",
       "      <td>RE: Period Selection    [ ref:_00DG0CiJO._5001...</td>\n",
       "      <td>Sent</td>\n",
       "      <td>1/21/2019 7:15</td>\n",
       "      <td>NaN</td>\n",
       "      <td>NaN</td>\n",
       "    </tr>\n",
       "    <tr>\n",
       "      <th>4</th>\n",
       "      <td>Adria Doescher</td>\n",
       "      <td>Period Selection</td>\n",
       "      <td>NaN</td>\n",
       "      <td>1/2/2019 10:09</td>\n",
       "      <td>1/21/2019</td>\n",
       "      <td>19</td>\n",
       "      <td>0</td>\n",
       "      <td>1</td>\n",
       "      <td>Power Factors, LLC Case No:- 00047535:  Period...</td>\n",
       "      <td>Sent</td>\n",
       "      <td>1/2/2019 10:09</td>\n",
       "      <td>NaN</td>\n",
       "      <td>NaN</td>\n",
       "    </tr>\n",
       "  </tbody>\n",
       "</table>\n",
       "</div>"
      ],
      "text/plain": [
       "       Case Owner           Subject Ticket Status Date/Time Opened  \\\n",
       "0  Adria Doescher  Period Selection           NaN   1/2/2019 10:09   \n",
       "1  Adria Doescher  Period Selection           NaN   1/2/2019 10:09   \n",
       "2  Adria Doescher  Period Selection           NaN   1/2/2019 10:09   \n",
       "3  Adria Doescher  Period Selection           NaN   1/2/2019 10:09   \n",
       "4  Adria Doescher  Period Selection           NaN   1/2/2019 10:09   \n",
       "\n",
       "  Closed Date  Age (Days)  Open  Closed  \\\n",
       "0   1/21/2019          19     0       1   \n",
       "1   1/21/2019          19     0       1   \n",
       "2   1/21/2019          19     0       1   \n",
       "3   1/21/2019          19     0       1   \n",
       "4   1/21/2019          19     0       1   \n",
       "\n",
       "                                       Email Subject Email Status  \\\n",
       "0  RE: Period Selection    [ ref:_00DG0CiJO._5001...      Replied   \n",
       "1  RE: Period Selection    [ ref:_00DG0CiJO._5001...      Replied   \n",
       "2                                   Period Selection      Replied   \n",
       "3  RE: Period Selection    [ ref:_00DG0CiJO._5001...         Sent   \n",
       "4  Power Factors, LLC Case No:- 00047535:  Period...         Sent   \n",
       "\n",
       "  Email Message Date Account Name Link to Wrike  \n",
       "0     1/2/2019 11:46          NaN           NaN  \n",
       "1     1/2/2019 11:48          NaN           NaN  \n",
       "2     1/2/2019 10:12          NaN           NaN  \n",
       "3     1/21/2019 7:15          NaN           NaN  \n",
       "4     1/2/2019 10:09          NaN           NaN  "
      ]
     },
     "execution_count": 6,
     "metadata": {},
     "output_type": "execute_result"
    }
   ],
   "source": [
    "import pandas as pd\n",
    "import matplotlib.pyplot as plt\n",
    "import numpy as np\n",
    "df = pd.read_csv('2000_tickets_19.csv')\n",
    "df.head(5)"
   ]
  },
  {
   "cell_type": "code",
   "execution_count": 2,
   "metadata": {},
   "outputs": [
    {
     "data": {
      "text/plain": [
       "23.230198019801982"
      ]
     },
     "execution_count": 2,
     "metadata": {},
     "output_type": "execute_result"
    }
   ],
   "source": [
    "df['Age (Days)'].mean()"
   ]
  },
  {
   "cell_type": "code",
   "execution_count": 8,
   "metadata": {},
   "outputs": [],
   "source": [
    "df['Age'] = df['Age (Days)']"
   ]
  },
  {
   "cell_type": "code",
   "execution_count": 9,
   "metadata": {},
   "outputs": [
    {
     "data": {
      "image/png": "[encoded data removed]",
      "text/plain": [
       "<Figure size 432x288 with 1 Axes>"
      ]
     },
     "metadata": {
      "needs_background": "light"
     },
     "output_type": "display_data"
    }
   ],
   "source": [
    "y = df['Age']\n",
    "x = \n",
    "plt.hist(x, bins=5)\n",
    "plt.ylabel('Ticket Age')\n",
    "plt.show()"
   ]
  },
  {
   "cell_type": "code",
   "execution_count": 10,
   "metadata": {},
   "outputs": [
    {
     "data": {
      "text/plain": [
       "36.43963566900615"
      ]
     },
     "execution_count": 10,
     "metadata": {},
     "output_type": "execute_result"
    }
   ],
   "source": [
    "df['Age (Days)'].std()"
   ]
  },
  {
   "cell_type": "code",
   "execution_count": null,
   "metadata": {},
   "outputs": [],
   "source": []
  }
 ],
 "metadata": {
  "kernelspec": {
   "display_name": "Python 3",
   "language": "python",
   "name": "python3"
  },
  "language_info": {
   "codemirror_mode": {
    "name": "ipython",
    "version": 3
   },
   "file_extension": ".py",
   "mimetype": "text/x-python",
   "name": "python",
   "nbconvert_exporter": "python",
   "pygments_lexer": "ipython3",
   "version": "3.7.1"
  }
 },
 "nbformat": 4,
 "nbformat_minor": 4
}
